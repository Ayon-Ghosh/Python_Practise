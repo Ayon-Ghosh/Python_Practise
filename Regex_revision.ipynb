{
 "cells": [
  {
   "cell_type": "markdown",
   "metadata": {},
   "source": [
    "# Regex"
   ]
  },
  {
   "cell_type": "code",
   "execution_count": 1,
   "metadata": {},
   "outputs": [],
   "source": [
    "import re"
   ]
  },
  {
   "cell_type": "code",
   "execution_count": 2,
   "metadata": {},
   "outputs": [],
   "source": [
    "text_to_search = '''\n",
    "abcdefghijklmnopqrstuvwyz\n",
    "ABCDEFGHIJKLMNOPQRSTUVWYZ\n",
    "1234567890\n",
    "\n",
    "Ha HaHa\n",
    "\n",
    "MetaCharacters (Need to be escaped):\n",
    ". ^ $ * + ? { } [ ] \\ | ( )\n",
    "\n",
    "coreyms.com\n",
    "\n",
    "516-384-7374\n",
    "516.996.4945\n",
    "321*123*4567\n",
    "800-123-4567\n",
    "800*123*4567\n",
    "900.123.4567\n",
    "\n",
    "Mr.Shaefer\n",
    "Mr Ghosh\n",
    "Ms Davis\n",
    "Mrs. Robinson\n",
    "Mr. T\n",
    "\n",
    "cat\n",
    "mat\n",
    "pat\n",
    "bat\n",
    "\n",
    "'''\n",
    "\n",
    "\n",
    "sentence  = 'Start a sentence and bring it to an end.'"
   ]
  },
  {
   "cell_type": "markdown",
   "metadata": {},
   "source": [
    "raw string is a string prefixed with an r that tells python not to handle backslashes / in a special way. Normally / are used the speciy new line or tabs. example ----"
   ]
  },
  {
   "cell_type": "code",
   "execution_count": 3,
   "metadata": {},
   "outputs": [
    {
     "name": "stdout",
     "output_type": "stream",
     "text": [
      "\tTab\n",
      "----------------\n",
      "\\tTab\n"
     ]
    }
   ],
   "source": [
    "print('\\tTab')\n",
    "print('----------------')\n",
    "print(r'\\tTab')"
   ]
  },
  {
   "cell_type": "code",
   "execution_count": 4,
   "metadata": {},
   "outputs": [
    {
     "name": "stdout",
     "output_type": "stream",
     "text": [
      "<re.Match object; span=(1, 4), match='abc'>\n"
     ]
    }
   ],
   "source": [
    "pattern = re.compile(r'abc')\n",
    "matches = pattern.finditer(text_to_search)\n",
    "for match in matches:\n",
    "    print(match)"
   ]
  },
  {
   "cell_type": "code",
   "execution_count": 5,
   "metadata": {},
   "outputs": [
    {
     "name": "stdout",
     "output_type": "stream",
     "text": [
      "abc\n"
     ]
    }
   ],
   "source": [
    "print(text_to_search[1:4])"
   ]
  },
  {
   "cell_type": "code",
   "execution_count": 6,
   "metadata": {},
   "outputs": [
    {
     "name": "stdout",
     "output_type": "stream",
     "text": [
      "<re.Match object; span=(1, 2), match='a'>\n",
      "<re.Match object; span=(2, 3), match='b'>\n",
      "<re.Match object; span=(3, 4), match='c'>\n",
      "<re.Match object; span=(4, 5), match='d'>\n",
      "<re.Match object; span=(5, 6), match='e'>\n",
      "<re.Match object; span=(6, 7), match='f'>\n",
      "<re.Match object; span=(7, 8), match='g'>\n",
      "<re.Match object; span=(8, 9), match='h'>\n",
      "<re.Match object; span=(9, 10), match='i'>\n",
      "<re.Match object; span=(10, 11), match='j'>\n",
      "<re.Match object; span=(11, 12), match='k'>\n",
      "<re.Match object; span=(12, 13), match='l'>\n",
      "<re.Match object; span=(13, 14), match='m'>\n",
      "<re.Match object; span=(14, 15), match='n'>\n",
      "<re.Match object; span=(15, 16), match='o'>\n",
      "<re.Match object; span=(16, 17), match='p'>\n",
      "<re.Match object; span=(17, 18), match='q'>\n",
      "<re.Match object; span=(18, 19), match='r'>\n",
      "<re.Match object; span=(19, 20), match='s'>\n",
      "<re.Match object; span=(20, 21), match='t'>\n",
      "<re.Match object; span=(21, 22), match='u'>\n",
      "<re.Match object; span=(22, 23), match='v'>\n",
      "<re.Match object; span=(23, 24), match='w'>\n",
      "<re.Match object; span=(24, 25), match='y'>\n",
      "<re.Match object; span=(25, 26), match='z'>\n",
      "<re.Match object; span=(27, 28), match='A'>\n",
      "<re.Match object; span=(28, 29), match='B'>\n",
      "<re.Match object; span=(29, 30), match='C'>\n",
      "<re.Match object; span=(30, 31), match='D'>\n",
      "<re.Match object; span=(31, 32), match='E'>\n",
      "<re.Match object; span=(32, 33), match='F'>\n",
      "<re.Match object; span=(33, 34), match='G'>\n",
      "<re.Match object; span=(34, 35), match='H'>\n",
      "<re.Match object; span=(35, 36), match='I'>\n",
      "<re.Match object; span=(36, 37), match='J'>\n",
      "<re.Match object; span=(37, 38), match='K'>\n",
      "<re.Match object; span=(38, 39), match='L'>\n",
      "<re.Match object; span=(39, 40), match='M'>\n",
      "<re.Match object; span=(40, 41), match='N'>\n",
      "<re.Match object; span=(41, 42), match='O'>\n",
      "<re.Match object; span=(42, 43), match='P'>\n",
      "<re.Match object; span=(43, 44), match='Q'>\n",
      "<re.Match object; span=(44, 45), match='R'>\n",
      "<re.Match object; span=(45, 46), match='S'>\n",
      "<re.Match object; span=(46, 47), match='T'>\n",
      "<re.Match object; span=(47, 48), match='U'>\n",
      "<re.Match object; span=(48, 49), match='V'>\n",
      "<re.Match object; span=(49, 50), match='W'>\n",
      "<re.Match object; span=(50, 51), match='Y'>\n",
      "<re.Match object; span=(51, 52), match='Z'>\n",
      "<re.Match object; span=(53, 54), match='1'>\n",
      "<re.Match object; span=(54, 55), match='2'>\n",
      "<re.Match object; span=(55, 56), match='3'>\n",
      "<re.Match object; span=(56, 57), match='4'>\n",
      "<re.Match object; span=(57, 58), match='5'>\n",
      "<re.Match object; span=(58, 59), match='6'>\n",
      "<re.Match object; span=(59, 60), match='7'>\n",
      "<re.Match object; span=(60, 61), match='8'>\n",
      "<re.Match object; span=(61, 62), match='9'>\n",
      "<re.Match object; span=(62, 63), match='0'>\n",
      "<re.Match object; span=(65, 66), match='H'>\n",
      "<re.Match object; span=(66, 67), match='a'>\n",
      "<re.Match object; span=(67, 68), match=' '>\n",
      "<re.Match object; span=(68, 69), match='H'>\n",
      "<re.Match object; span=(69, 70), match='a'>\n",
      "<re.Match object; span=(70, 71), match='H'>\n",
      "<re.Match object; span=(71, 72), match='a'>\n",
      "<re.Match object; span=(74, 75), match='M'>\n",
      "<re.Match object; span=(75, 76), match='e'>\n",
      "<re.Match object; span=(76, 77), match='t'>\n",
      "<re.Match object; span=(77, 78), match='a'>\n",
      "<re.Match object; span=(78, 79), match='C'>\n",
      "<re.Match object; span=(79, 80), match='h'>\n",
      "<re.Match object; span=(80, 81), match='a'>\n",
      "<re.Match object; span=(81, 82), match='r'>\n",
      "<re.Match object; span=(82, 83), match='a'>\n",
      "<re.Match object; span=(83, 84), match='c'>\n",
      "<re.Match object; span=(84, 85), match='t'>\n",
      "<re.Match object; span=(85, 86), match='e'>\n",
      "<re.Match object; span=(86, 87), match='r'>\n",
      "<re.Match object; span=(87, 88), match='s'>\n",
      "<re.Match object; span=(88, 89), match=' '>\n",
      "<re.Match object; span=(89, 90), match='('>\n",
      "<re.Match object; span=(90, 91), match='N'>\n",
      "<re.Match object; span=(91, 92), match='e'>\n",
      "<re.Match object; span=(92, 93), match='e'>\n",
      "<re.Match object; span=(93, 94), match='d'>\n",
      "<re.Match object; span=(94, 95), match=' '>\n",
      "<re.Match object; span=(95, 96), match='t'>\n",
      "<re.Match object; span=(96, 97), match='o'>\n",
      "<re.Match object; span=(97, 98), match=' '>\n",
      "<re.Match object; span=(98, 99), match='b'>\n",
      "<re.Match object; span=(99, 100), match='e'>\n",
      "<re.Match object; span=(100, 101), match=' '>\n",
      "<re.Match object; span=(101, 102), match='e'>\n",
      "<re.Match object; span=(102, 103), match='s'>\n",
      "<re.Match object; span=(103, 104), match='c'>\n",
      "<re.Match object; span=(104, 105), match='a'>\n",
      "<re.Match object; span=(105, 106), match='p'>\n",
      "<re.Match object; span=(106, 107), match='e'>\n",
      "<re.Match object; span=(107, 108), match='d'>\n",
      "<re.Match object; span=(108, 109), match=')'>\n",
      "<re.Match object; span=(109, 110), match=':'>\n",
      "<re.Match object; span=(111, 112), match='.'>\n",
      "<re.Match object; span=(112, 113), match=' '>\n",
      "<re.Match object; span=(113, 114), match='^'>\n",
      "<re.Match object; span=(114, 115), match=' '>\n",
      "<re.Match object; span=(115, 116), match='$'>\n",
      "<re.Match object; span=(116, 117), match=' '>\n",
      "<re.Match object; span=(117, 118), match='*'>\n",
      "<re.Match object; span=(118, 119), match=' '>\n",
      "<re.Match object; span=(119, 120), match='+'>\n",
      "<re.Match object; span=(120, 121), match=' '>\n",
      "<re.Match object; span=(121, 122), match='?'>\n",
      "<re.Match object; span=(122, 123), match=' '>\n",
      "<re.Match object; span=(123, 124), match='{'>\n",
      "<re.Match object; span=(124, 125), match=' '>\n",
      "<re.Match object; span=(125, 126), match='}'>\n",
      "<re.Match object; span=(126, 127), match=' '>\n",
      "<re.Match object; span=(127, 128), match='['>\n",
      "<re.Match object; span=(128, 129), match=' '>\n",
      "<re.Match object; span=(129, 130), match=']'>\n",
      "<re.Match object; span=(130, 131), match=' '>\n",
      "<re.Match object; span=(131, 132), match='\\\\'>\n",
      "<re.Match object; span=(132, 133), match=' '>\n",
      "<re.Match object; span=(133, 134), match='|'>\n",
      "<re.Match object; span=(134, 135), match=' '>\n",
      "<re.Match object; span=(135, 136), match='('>\n",
      "<re.Match object; span=(136, 137), match=' '>\n",
      "<re.Match object; span=(137, 138), match=')'>\n",
      "<re.Match object; span=(140, 141), match='c'>\n",
      "<re.Match object; span=(141, 142), match='o'>\n",
      "<re.Match object; span=(142, 143), match='r'>\n",
      "<re.Match object; span=(143, 144), match='e'>\n",
      "<re.Match object; span=(144, 145), match='y'>\n",
      "<re.Match object; span=(145, 146), match='m'>\n",
      "<re.Match object; span=(146, 147), match='s'>\n",
      "<re.Match object; span=(147, 148), match='.'>\n",
      "<re.Match object; span=(148, 149), match='c'>\n",
      "<re.Match object; span=(149, 150), match='o'>\n",
      "<re.Match object; span=(150, 151), match='m'>\n",
      "<re.Match object; span=(153, 154), match='5'>\n",
      "<re.Match object; span=(154, 155), match='1'>\n",
      "<re.Match object; span=(155, 156), match='6'>\n",
      "<re.Match object; span=(156, 157), match='-'>\n",
      "<re.Match object; span=(157, 158), match='3'>\n",
      "<re.Match object; span=(158, 159), match='8'>\n",
      "<re.Match object; span=(159, 160), match='4'>\n",
      "<re.Match object; span=(160, 161), match='-'>\n",
      "<re.Match object; span=(161, 162), match='7'>\n",
      "<re.Match object; span=(162, 163), match='3'>\n",
      "<re.Match object; span=(163, 164), match='7'>\n",
      "<re.Match object; span=(164, 165), match='4'>\n",
      "<re.Match object; span=(166, 167), match='5'>\n",
      "<re.Match object; span=(167, 168), match='1'>\n",
      "<re.Match object; span=(168, 169), match='6'>\n",
      "<re.Match object; span=(169, 170), match='.'>\n",
      "<re.Match object; span=(170, 171), match='9'>\n",
      "<re.Match object; span=(171, 172), match='9'>\n",
      "<re.Match object; span=(172, 173), match='6'>\n",
      "<re.Match object; span=(173, 174), match='.'>\n",
      "<re.Match object; span=(174, 175), match='4'>\n",
      "<re.Match object; span=(175, 176), match='9'>\n",
      "<re.Match object; span=(176, 177), match='4'>\n",
      "<re.Match object; span=(177, 178), match='5'>\n",
      "<re.Match object; span=(179, 180), match='3'>\n",
      "<re.Match object; span=(180, 181), match='2'>\n",
      "<re.Match object; span=(181, 182), match='1'>\n",
      "<re.Match object; span=(182, 183), match='*'>\n",
      "<re.Match object; span=(183, 184), match='1'>\n",
      "<re.Match object; span=(184, 185), match='2'>\n",
      "<re.Match object; span=(185, 186), match='3'>\n",
      "<re.Match object; span=(186, 187), match='*'>\n",
      "<re.Match object; span=(187, 188), match='4'>\n",
      "<re.Match object; span=(188, 189), match='5'>\n",
      "<re.Match object; span=(189, 190), match='6'>\n",
      "<re.Match object; span=(190, 191), match='7'>\n",
      "<re.Match object; span=(192, 193), match='8'>\n",
      "<re.Match object; span=(193, 194), match='0'>\n",
      "<re.Match object; span=(194, 195), match='0'>\n",
      "<re.Match object; span=(195, 196), match='-'>\n",
      "<re.Match object; span=(196, 197), match='1'>\n",
      "<re.Match object; span=(197, 198), match='2'>\n",
      "<re.Match object; span=(198, 199), match='3'>\n",
      "<re.Match object; span=(199, 200), match='-'>\n",
      "<re.Match object; span=(200, 201), match='4'>\n",
      "<re.Match object; span=(201, 202), match='5'>\n",
      "<re.Match object; span=(202, 203), match='6'>\n",
      "<re.Match object; span=(203, 204), match='7'>\n",
      "<re.Match object; span=(205, 206), match='8'>\n",
      "<re.Match object; span=(206, 207), match='0'>\n",
      "<re.Match object; span=(207, 208), match='0'>\n",
      "<re.Match object; span=(208, 209), match='*'>\n",
      "<re.Match object; span=(209, 210), match='1'>\n",
      "<re.Match object; span=(210, 211), match='2'>\n",
      "<re.Match object; span=(211, 212), match='3'>\n",
      "<re.Match object; span=(212, 213), match='*'>\n",
      "<re.Match object; span=(213, 214), match='4'>\n",
      "<re.Match object; span=(214, 215), match='5'>\n",
      "<re.Match object; span=(215, 216), match='6'>\n",
      "<re.Match object; span=(216, 217), match='7'>\n",
      "<re.Match object; span=(218, 219), match='9'>\n",
      "<re.Match object; span=(219, 220), match='0'>\n",
      "<re.Match object; span=(220, 221), match='0'>\n",
      "<re.Match object; span=(221, 222), match='.'>\n",
      "<re.Match object; span=(222, 223), match='1'>\n",
      "<re.Match object; span=(223, 224), match='2'>\n",
      "<re.Match object; span=(224, 225), match='3'>\n",
      "<re.Match object; span=(225, 226), match='.'>\n",
      "<re.Match object; span=(226, 227), match='4'>\n",
      "<re.Match object; span=(227, 228), match='5'>\n",
      "<re.Match object; span=(228, 229), match='6'>\n",
      "<re.Match object; span=(229, 230), match='7'>\n",
      "<re.Match object; span=(232, 233), match='M'>\n",
      "<re.Match object; span=(233, 234), match='r'>\n",
      "<re.Match object; span=(234, 235), match='.'>\n",
      "<re.Match object; span=(235, 236), match='S'>\n",
      "<re.Match object; span=(236, 237), match='h'>\n",
      "<re.Match object; span=(237, 238), match='a'>\n",
      "<re.Match object; span=(238, 239), match='e'>\n",
      "<re.Match object; span=(239, 240), match='f'>\n",
      "<re.Match object; span=(240, 241), match='e'>\n",
      "<re.Match object; span=(241, 242), match='r'>\n",
      "<re.Match object; span=(243, 244), match='M'>\n",
      "<re.Match object; span=(244, 245), match='r'>\n",
      "<re.Match object; span=(245, 246), match=' '>\n",
      "<re.Match object; span=(246, 247), match='G'>\n",
      "<re.Match object; span=(247, 248), match='h'>\n",
      "<re.Match object; span=(248, 249), match='o'>\n",
      "<re.Match object; span=(249, 250), match='s'>\n",
      "<re.Match object; span=(250, 251), match='h'>\n",
      "<re.Match object; span=(252, 253), match='M'>\n",
      "<re.Match object; span=(253, 254), match='s'>\n",
      "<re.Match object; span=(254, 255), match=' '>\n",
      "<re.Match object; span=(255, 256), match='D'>\n",
      "<re.Match object; span=(256, 257), match='a'>\n",
      "<re.Match object; span=(257, 258), match='v'>\n",
      "<re.Match object; span=(258, 259), match='i'>\n",
      "<re.Match object; span=(259, 260), match='s'>\n",
      "<re.Match object; span=(261, 262), match='M'>\n",
      "<re.Match object; span=(262, 263), match='r'>\n",
      "<re.Match object; span=(263, 264), match='s'>\n",
      "<re.Match object; span=(264, 265), match='.'>\n",
      "<re.Match object; span=(265, 266), match=' '>\n",
      "<re.Match object; span=(266, 267), match='R'>\n",
      "<re.Match object; span=(267, 268), match='o'>\n",
      "<re.Match object; span=(268, 269), match='b'>\n",
      "<re.Match object; span=(269, 270), match='i'>\n",
      "<re.Match object; span=(270, 271), match='n'>\n",
      "<re.Match object; span=(271, 272), match='s'>\n",
      "<re.Match object; span=(272, 273), match='o'>\n",
      "<re.Match object; span=(273, 274), match='n'>\n",
      "<re.Match object; span=(275, 276), match='M'>\n",
      "<re.Match object; span=(276, 277), match='r'>\n",
      "<re.Match object; span=(277, 278), match='.'>\n",
      "<re.Match object; span=(278, 279), match=' '>\n",
      "<re.Match object; span=(279, 280), match='T'>\n",
      "<re.Match object; span=(282, 283), match='c'>\n",
      "<re.Match object; span=(283, 284), match='a'>\n",
      "<re.Match object; span=(284, 285), match='t'>\n",
      "<re.Match object; span=(286, 287), match='m'>\n",
      "<re.Match object; span=(287, 288), match='a'>\n",
      "<re.Match object; span=(288, 289), match='t'>\n",
      "<re.Match object; span=(290, 291), match='p'>\n",
      "<re.Match object; span=(291, 292), match='a'>\n",
      "<re.Match object; span=(292, 293), match='t'>\n",
      "<re.Match object; span=(294, 295), match='b'>\n",
      "<re.Match object; span=(295, 296), match='a'>\n",
      "<re.Match object; span=(296, 297), match='t'>\n"
     ]
    }
   ],
   "source": [
    "pattern = re.compile(r'.')\n",
    "matches = pattern.finditer(text_to_search)\n",
    "for match in matches:\n",
    "    print(match)"
   ]
  },
  {
   "cell_type": "markdown",
   "metadata": {},
   "source": [
    "these many results because . is a special character in regex and in order to find the real '.' we have to escape . that regex has by default"
   ]
  },
  {
   "cell_type": "code",
   "execution_count": 7,
   "metadata": {},
   "outputs": [
    {
     "name": "stdout",
     "output_type": "stream",
     "text": [
      "<re.Match object; span=(111, 112), match='.'>\n",
      "<re.Match object; span=(147, 148), match='.'>\n",
      "<re.Match object; span=(169, 170), match='.'>\n",
      "<re.Match object; span=(173, 174), match='.'>\n",
      "<re.Match object; span=(221, 222), match='.'>\n",
      "<re.Match object; span=(225, 226), match='.'>\n",
      "<re.Match object; span=(234, 235), match='.'>\n",
      "<re.Match object; span=(264, 265), match='.'>\n",
      "<re.Match object; span=(277, 278), match='.'>\n"
     ]
    }
   ],
   "source": [
    "pattern = re.compile(r'\\.')\n",
    "matches = pattern.finditer(text_to_search)\n",
    "for match in matches:\n",
    "    print(match)"
   ]
  },
  {
   "cell_type": "markdown",
   "metadata": {},
   "source": [
    "now these above are real matches"
   ]
  },
  {
   "cell_type": "code",
   "execution_count": 8,
   "metadata": {},
   "outputs": [
    {
     "name": "stdout",
     "output_type": "stream",
     "text": [
      "<re.Match object; span=(140, 151), match='coreyms.com'>\n"
     ]
    }
   ],
   "source": [
    "pattern = re.compile(r'coreyms\\.com')\n",
    "matches = pattern.finditer(text_to_search)\n",
    "for match in matches:\n",
    "    print(match)"
   ]
  },
  {
   "cell_type": "markdown",
   "metadata": {},
   "source": [
    "\\d   matches any digit btwn - Digit (0-9)"
   ]
  },
  {
   "cell_type": "code",
   "execution_count": 9,
   "metadata": {},
   "outputs": [
    {
     "name": "stdout",
     "output_type": "stream",
     "text": [
      "<re.Match object; span=(53, 54), match='1'>\n",
      "<re.Match object; span=(54, 55), match='2'>\n",
      "<re.Match object; span=(55, 56), match='3'>\n",
      "<re.Match object; span=(56, 57), match='4'>\n",
      "<re.Match object; span=(57, 58), match='5'>\n",
      "<re.Match object; span=(58, 59), match='6'>\n",
      "<re.Match object; span=(59, 60), match='7'>\n",
      "<re.Match object; span=(60, 61), match='8'>\n",
      "<re.Match object; span=(61, 62), match='9'>\n",
      "<re.Match object; span=(62, 63), match='0'>\n",
      "<re.Match object; span=(153, 154), match='5'>\n",
      "<re.Match object; span=(154, 155), match='1'>\n",
      "<re.Match object; span=(155, 156), match='6'>\n",
      "<re.Match object; span=(157, 158), match='3'>\n",
      "<re.Match object; span=(158, 159), match='8'>\n",
      "<re.Match object; span=(159, 160), match='4'>\n",
      "<re.Match object; span=(161, 162), match='7'>\n",
      "<re.Match object; span=(162, 163), match='3'>\n",
      "<re.Match object; span=(163, 164), match='7'>\n",
      "<re.Match object; span=(164, 165), match='4'>\n",
      "<re.Match object; span=(166, 167), match='5'>\n",
      "<re.Match object; span=(167, 168), match='1'>\n",
      "<re.Match object; span=(168, 169), match='6'>\n",
      "<re.Match object; span=(170, 171), match='9'>\n",
      "<re.Match object; span=(171, 172), match='9'>\n",
      "<re.Match object; span=(172, 173), match='6'>\n",
      "<re.Match object; span=(174, 175), match='4'>\n",
      "<re.Match object; span=(175, 176), match='9'>\n",
      "<re.Match object; span=(176, 177), match='4'>\n",
      "<re.Match object; span=(177, 178), match='5'>\n",
      "<re.Match object; span=(179, 180), match='3'>\n",
      "<re.Match object; span=(180, 181), match='2'>\n",
      "<re.Match object; span=(181, 182), match='1'>\n",
      "<re.Match object; span=(183, 184), match='1'>\n",
      "<re.Match object; span=(184, 185), match='2'>\n",
      "<re.Match object; span=(185, 186), match='3'>\n",
      "<re.Match object; span=(187, 188), match='4'>\n",
      "<re.Match object; span=(188, 189), match='5'>\n",
      "<re.Match object; span=(189, 190), match='6'>\n",
      "<re.Match object; span=(190, 191), match='7'>\n",
      "<re.Match object; span=(192, 193), match='8'>\n",
      "<re.Match object; span=(193, 194), match='0'>\n",
      "<re.Match object; span=(194, 195), match='0'>\n",
      "<re.Match object; span=(196, 197), match='1'>\n",
      "<re.Match object; span=(197, 198), match='2'>\n",
      "<re.Match object; span=(198, 199), match='3'>\n",
      "<re.Match object; span=(200, 201), match='4'>\n",
      "<re.Match object; span=(201, 202), match='5'>\n",
      "<re.Match object; span=(202, 203), match='6'>\n",
      "<re.Match object; span=(203, 204), match='7'>\n",
      "<re.Match object; span=(205, 206), match='8'>\n",
      "<re.Match object; span=(206, 207), match='0'>\n",
      "<re.Match object; span=(207, 208), match='0'>\n",
      "<re.Match object; span=(209, 210), match='1'>\n",
      "<re.Match object; span=(210, 211), match='2'>\n",
      "<re.Match object; span=(211, 212), match='3'>\n",
      "<re.Match object; span=(213, 214), match='4'>\n",
      "<re.Match object; span=(214, 215), match='5'>\n",
      "<re.Match object; span=(215, 216), match='6'>\n",
      "<re.Match object; span=(216, 217), match='7'>\n",
      "<re.Match object; span=(218, 219), match='9'>\n",
      "<re.Match object; span=(219, 220), match='0'>\n",
      "<re.Match object; span=(220, 221), match='0'>\n",
      "<re.Match object; span=(222, 223), match='1'>\n",
      "<re.Match object; span=(223, 224), match='2'>\n",
      "<re.Match object; span=(224, 225), match='3'>\n",
      "<re.Match object; span=(226, 227), match='4'>\n",
      "<re.Match object; span=(227, 228), match='5'>\n",
      "<re.Match object; span=(228, 229), match='6'>\n",
      "<re.Match object; span=(229, 230), match='7'>\n"
     ]
    }
   ],
   "source": [
    "pattern = re.compile(r'\\d')\n",
    "matches = pattern.finditer(text_to_search)\n",
    "for match in matches:\n",
    "    print(match)"
   ]
  },
  {
   "cell_type": "markdown",
   "metadata": {},
   "source": [
    "\\D  negates what a lower case version is which means --- Not a Digit (0-9)"
   ]
  },
  {
   "cell_type": "code",
   "execution_count": 10,
   "metadata": {},
   "outputs": [
    {
     "name": "stdout",
     "output_type": "stream",
     "text": [
      "<re.Match object; span=(0, 1), match='\\n'>\n",
      "<re.Match object; span=(1, 2), match='a'>\n",
      "<re.Match object; span=(2, 3), match='b'>\n",
      "<re.Match object; span=(3, 4), match='c'>\n",
      "<re.Match object; span=(4, 5), match='d'>\n",
      "<re.Match object; span=(5, 6), match='e'>\n",
      "<re.Match object; span=(6, 7), match='f'>\n",
      "<re.Match object; span=(7, 8), match='g'>\n",
      "<re.Match object; span=(8, 9), match='h'>\n",
      "<re.Match object; span=(9, 10), match='i'>\n",
      "<re.Match object; span=(10, 11), match='j'>\n",
      "<re.Match object; span=(11, 12), match='k'>\n",
      "<re.Match object; span=(12, 13), match='l'>\n",
      "<re.Match object; span=(13, 14), match='m'>\n",
      "<re.Match object; span=(14, 15), match='n'>\n",
      "<re.Match object; span=(15, 16), match='o'>\n",
      "<re.Match object; span=(16, 17), match='p'>\n",
      "<re.Match object; span=(17, 18), match='q'>\n",
      "<re.Match object; span=(18, 19), match='r'>\n",
      "<re.Match object; span=(19, 20), match='s'>\n",
      "<re.Match object; span=(20, 21), match='t'>\n",
      "<re.Match object; span=(21, 22), match='u'>\n",
      "<re.Match object; span=(22, 23), match='v'>\n",
      "<re.Match object; span=(23, 24), match='w'>\n",
      "<re.Match object; span=(24, 25), match='y'>\n",
      "<re.Match object; span=(25, 26), match='z'>\n",
      "<re.Match object; span=(26, 27), match='\\n'>\n",
      "<re.Match object; span=(27, 28), match='A'>\n",
      "<re.Match object; span=(28, 29), match='B'>\n",
      "<re.Match object; span=(29, 30), match='C'>\n",
      "<re.Match object; span=(30, 31), match='D'>\n",
      "<re.Match object; span=(31, 32), match='E'>\n",
      "<re.Match object; span=(32, 33), match='F'>\n",
      "<re.Match object; span=(33, 34), match='G'>\n",
      "<re.Match object; span=(34, 35), match='H'>\n",
      "<re.Match object; span=(35, 36), match='I'>\n",
      "<re.Match object; span=(36, 37), match='J'>\n",
      "<re.Match object; span=(37, 38), match='K'>\n",
      "<re.Match object; span=(38, 39), match='L'>\n",
      "<re.Match object; span=(39, 40), match='M'>\n",
      "<re.Match object; span=(40, 41), match='N'>\n",
      "<re.Match object; span=(41, 42), match='O'>\n",
      "<re.Match object; span=(42, 43), match='P'>\n",
      "<re.Match object; span=(43, 44), match='Q'>\n",
      "<re.Match object; span=(44, 45), match='R'>\n",
      "<re.Match object; span=(45, 46), match='S'>\n",
      "<re.Match object; span=(46, 47), match='T'>\n",
      "<re.Match object; span=(47, 48), match='U'>\n",
      "<re.Match object; span=(48, 49), match='V'>\n",
      "<re.Match object; span=(49, 50), match='W'>\n",
      "<re.Match object; span=(50, 51), match='Y'>\n",
      "<re.Match object; span=(51, 52), match='Z'>\n",
      "<re.Match object; span=(52, 53), match='\\n'>\n",
      "<re.Match object; span=(63, 64), match='\\n'>\n",
      "<re.Match object; span=(64, 65), match='\\n'>\n",
      "<re.Match object; span=(65, 66), match='H'>\n",
      "<re.Match object; span=(66, 67), match='a'>\n",
      "<re.Match object; span=(67, 68), match=' '>\n",
      "<re.Match object; span=(68, 69), match='H'>\n",
      "<re.Match object; span=(69, 70), match='a'>\n",
      "<re.Match object; span=(70, 71), match='H'>\n",
      "<re.Match object; span=(71, 72), match='a'>\n",
      "<re.Match object; span=(72, 73), match='\\n'>\n",
      "<re.Match object; span=(73, 74), match='\\n'>\n",
      "<re.Match object; span=(74, 75), match='M'>\n",
      "<re.Match object; span=(75, 76), match='e'>\n",
      "<re.Match object; span=(76, 77), match='t'>\n",
      "<re.Match object; span=(77, 78), match='a'>\n",
      "<re.Match object; span=(78, 79), match='C'>\n",
      "<re.Match object; span=(79, 80), match='h'>\n",
      "<re.Match object; span=(80, 81), match='a'>\n",
      "<re.Match object; span=(81, 82), match='r'>\n",
      "<re.Match object; span=(82, 83), match='a'>\n",
      "<re.Match object; span=(83, 84), match='c'>\n",
      "<re.Match object; span=(84, 85), match='t'>\n",
      "<re.Match object; span=(85, 86), match='e'>\n",
      "<re.Match object; span=(86, 87), match='r'>\n",
      "<re.Match object; span=(87, 88), match='s'>\n",
      "<re.Match object; span=(88, 89), match=' '>\n",
      "<re.Match object; span=(89, 90), match='('>\n",
      "<re.Match object; span=(90, 91), match='N'>\n",
      "<re.Match object; span=(91, 92), match='e'>\n",
      "<re.Match object; span=(92, 93), match='e'>\n",
      "<re.Match object; span=(93, 94), match='d'>\n",
      "<re.Match object; span=(94, 95), match=' '>\n",
      "<re.Match object; span=(95, 96), match='t'>\n",
      "<re.Match object; span=(96, 97), match='o'>\n",
      "<re.Match object; span=(97, 98), match=' '>\n",
      "<re.Match object; span=(98, 99), match='b'>\n",
      "<re.Match object; span=(99, 100), match='e'>\n",
      "<re.Match object; span=(100, 101), match=' '>\n",
      "<re.Match object; span=(101, 102), match='e'>\n",
      "<re.Match object; span=(102, 103), match='s'>\n",
      "<re.Match object; span=(103, 104), match='c'>\n",
      "<re.Match object; span=(104, 105), match='a'>\n",
      "<re.Match object; span=(105, 106), match='p'>\n",
      "<re.Match object; span=(106, 107), match='e'>\n",
      "<re.Match object; span=(107, 108), match='d'>\n",
      "<re.Match object; span=(108, 109), match=')'>\n",
      "<re.Match object; span=(109, 110), match=':'>\n",
      "<re.Match object; span=(110, 111), match='\\n'>\n",
      "<re.Match object; span=(111, 112), match='.'>\n",
      "<re.Match object; span=(112, 113), match=' '>\n",
      "<re.Match object; span=(113, 114), match='^'>\n",
      "<re.Match object; span=(114, 115), match=' '>\n",
      "<re.Match object; span=(115, 116), match='$'>\n",
      "<re.Match object; span=(116, 117), match=' '>\n",
      "<re.Match object; span=(117, 118), match='*'>\n",
      "<re.Match object; span=(118, 119), match=' '>\n",
      "<re.Match object; span=(119, 120), match='+'>\n",
      "<re.Match object; span=(120, 121), match=' '>\n",
      "<re.Match object; span=(121, 122), match='?'>\n",
      "<re.Match object; span=(122, 123), match=' '>\n",
      "<re.Match object; span=(123, 124), match='{'>\n",
      "<re.Match object; span=(124, 125), match=' '>\n",
      "<re.Match object; span=(125, 126), match='}'>\n",
      "<re.Match object; span=(126, 127), match=' '>\n",
      "<re.Match object; span=(127, 128), match='['>\n",
      "<re.Match object; span=(128, 129), match=' '>\n",
      "<re.Match object; span=(129, 130), match=']'>\n",
      "<re.Match object; span=(130, 131), match=' '>\n",
      "<re.Match object; span=(131, 132), match='\\\\'>\n",
      "<re.Match object; span=(132, 133), match=' '>\n",
      "<re.Match object; span=(133, 134), match='|'>\n",
      "<re.Match object; span=(134, 135), match=' '>\n",
      "<re.Match object; span=(135, 136), match='('>\n",
      "<re.Match object; span=(136, 137), match=' '>\n",
      "<re.Match object; span=(137, 138), match=')'>\n",
      "<re.Match object; span=(138, 139), match='\\n'>\n",
      "<re.Match object; span=(139, 140), match='\\n'>\n",
      "<re.Match object; span=(140, 141), match='c'>\n",
      "<re.Match object; span=(141, 142), match='o'>\n",
      "<re.Match object; span=(142, 143), match='r'>\n",
      "<re.Match object; span=(143, 144), match='e'>\n",
      "<re.Match object; span=(144, 145), match='y'>\n",
      "<re.Match object; span=(145, 146), match='m'>\n",
      "<re.Match object; span=(146, 147), match='s'>\n",
      "<re.Match object; span=(147, 148), match='.'>\n",
      "<re.Match object; span=(148, 149), match='c'>\n",
      "<re.Match object; span=(149, 150), match='o'>\n",
      "<re.Match object; span=(150, 151), match='m'>\n",
      "<re.Match object; span=(151, 152), match='\\n'>\n",
      "<re.Match object; span=(152, 153), match='\\n'>\n",
      "<re.Match object; span=(156, 157), match='-'>\n",
      "<re.Match object; span=(160, 161), match='-'>\n",
      "<re.Match object; span=(165, 166), match='\\n'>\n",
      "<re.Match object; span=(169, 170), match='.'>\n",
      "<re.Match object; span=(173, 174), match='.'>\n",
      "<re.Match object; span=(178, 179), match='\\n'>\n",
      "<re.Match object; span=(182, 183), match='*'>\n",
      "<re.Match object; span=(186, 187), match='*'>\n",
      "<re.Match object; span=(191, 192), match='\\n'>\n",
      "<re.Match object; span=(195, 196), match='-'>\n",
      "<re.Match object; span=(199, 200), match='-'>\n",
      "<re.Match object; span=(204, 205), match='\\n'>\n",
      "<re.Match object; span=(208, 209), match='*'>\n",
      "<re.Match object; span=(212, 213), match='*'>\n",
      "<re.Match object; span=(217, 218), match='\\n'>\n",
      "<re.Match object; span=(221, 222), match='.'>\n",
      "<re.Match object; span=(225, 226), match='.'>\n",
      "<re.Match object; span=(230, 231), match='\\n'>\n",
      "<re.Match object; span=(231, 232), match='\\n'>\n",
      "<re.Match object; span=(232, 233), match='M'>\n",
      "<re.Match object; span=(233, 234), match='r'>\n",
      "<re.Match object; span=(234, 235), match='.'>\n",
      "<re.Match object; span=(235, 236), match='S'>\n",
      "<re.Match object; span=(236, 237), match='h'>\n",
      "<re.Match object; span=(237, 238), match='a'>\n",
      "<re.Match object; span=(238, 239), match='e'>\n",
      "<re.Match object; span=(239, 240), match='f'>\n",
      "<re.Match object; span=(240, 241), match='e'>\n",
      "<re.Match object; span=(241, 242), match='r'>\n",
      "<re.Match object; span=(242, 243), match='\\n'>\n",
      "<re.Match object; span=(243, 244), match='M'>\n",
      "<re.Match object; span=(244, 245), match='r'>\n",
      "<re.Match object; span=(245, 246), match=' '>\n",
      "<re.Match object; span=(246, 247), match='G'>\n",
      "<re.Match object; span=(247, 248), match='h'>\n",
      "<re.Match object; span=(248, 249), match='o'>\n",
      "<re.Match object; span=(249, 250), match='s'>\n",
      "<re.Match object; span=(250, 251), match='h'>\n",
      "<re.Match object; span=(251, 252), match='\\n'>\n",
      "<re.Match object; span=(252, 253), match='M'>\n",
      "<re.Match object; span=(253, 254), match='s'>\n",
      "<re.Match object; span=(254, 255), match=' '>\n",
      "<re.Match object; span=(255, 256), match='D'>\n",
      "<re.Match object; span=(256, 257), match='a'>\n",
      "<re.Match object; span=(257, 258), match='v'>\n",
      "<re.Match object; span=(258, 259), match='i'>\n",
      "<re.Match object; span=(259, 260), match='s'>\n",
      "<re.Match object; span=(260, 261), match='\\n'>\n",
      "<re.Match object; span=(261, 262), match='M'>\n",
      "<re.Match object; span=(262, 263), match='r'>\n",
      "<re.Match object; span=(263, 264), match='s'>\n",
      "<re.Match object; span=(264, 265), match='.'>\n",
      "<re.Match object; span=(265, 266), match=' '>\n",
      "<re.Match object; span=(266, 267), match='R'>\n",
      "<re.Match object; span=(267, 268), match='o'>\n",
      "<re.Match object; span=(268, 269), match='b'>\n",
      "<re.Match object; span=(269, 270), match='i'>\n",
      "<re.Match object; span=(270, 271), match='n'>\n",
      "<re.Match object; span=(271, 272), match='s'>\n",
      "<re.Match object; span=(272, 273), match='o'>\n",
      "<re.Match object; span=(273, 274), match='n'>\n",
      "<re.Match object; span=(274, 275), match='\\n'>\n",
      "<re.Match object; span=(275, 276), match='M'>\n",
      "<re.Match object; span=(276, 277), match='r'>\n",
      "<re.Match object; span=(277, 278), match='.'>\n",
      "<re.Match object; span=(278, 279), match=' '>\n",
      "<re.Match object; span=(279, 280), match='T'>\n",
      "<re.Match object; span=(280, 281), match='\\n'>\n",
      "<re.Match object; span=(281, 282), match='\\n'>\n",
      "<re.Match object; span=(282, 283), match='c'>\n",
      "<re.Match object; span=(283, 284), match='a'>\n",
      "<re.Match object; span=(284, 285), match='t'>\n",
      "<re.Match object; span=(285, 286), match='\\n'>\n",
      "<re.Match object; span=(286, 287), match='m'>\n",
      "<re.Match object; span=(287, 288), match='a'>\n",
      "<re.Match object; span=(288, 289), match='t'>\n",
      "<re.Match object; span=(289, 290), match='\\n'>\n",
      "<re.Match object; span=(290, 291), match='p'>\n",
      "<re.Match object; span=(291, 292), match='a'>\n",
      "<re.Match object; span=(292, 293), match='t'>\n",
      "<re.Match object; span=(293, 294), match='\\n'>\n",
      "<re.Match object; span=(294, 295), match='b'>\n",
      "<re.Match object; span=(295, 296), match='a'>\n",
      "<re.Match object; span=(296, 297), match='t'>\n",
      "<re.Match object; span=(297, 298), match='\\n'>\n",
      "<re.Match object; span=(298, 299), match='\\n'>\n"
     ]
    }
   ],
   "source": [
    "pattern = re.compile(r'\\D')\n",
    "matches = pattern.finditer(text_to_search)\n",
    "for match in matches:\n",
    "    print(match)"
   ]
  },
  {
   "cell_type": "markdown",
   "metadata": {},
   "source": [
    "\\w   matches    - Word Character (a-z, A-Z, 0-9, _)"
   ]
  },
  {
   "cell_type": "code",
   "execution_count": 11,
   "metadata": {},
   "outputs": [
    {
     "name": "stdout",
     "output_type": "stream",
     "text": [
      "<re.Match object; span=(1, 2), match='a'>\n",
      "<re.Match object; span=(2, 3), match='b'>\n",
      "<re.Match object; span=(3, 4), match='c'>\n",
      "<re.Match object; span=(4, 5), match='d'>\n",
      "<re.Match object; span=(5, 6), match='e'>\n",
      "<re.Match object; span=(6, 7), match='f'>\n",
      "<re.Match object; span=(7, 8), match='g'>\n",
      "<re.Match object; span=(8, 9), match='h'>\n",
      "<re.Match object; span=(9, 10), match='i'>\n",
      "<re.Match object; span=(10, 11), match='j'>\n",
      "<re.Match object; span=(11, 12), match='k'>\n",
      "<re.Match object; span=(12, 13), match='l'>\n",
      "<re.Match object; span=(13, 14), match='m'>\n",
      "<re.Match object; span=(14, 15), match='n'>\n",
      "<re.Match object; span=(15, 16), match='o'>\n",
      "<re.Match object; span=(16, 17), match='p'>\n",
      "<re.Match object; span=(17, 18), match='q'>\n",
      "<re.Match object; span=(18, 19), match='r'>\n",
      "<re.Match object; span=(19, 20), match='s'>\n",
      "<re.Match object; span=(20, 21), match='t'>\n",
      "<re.Match object; span=(21, 22), match='u'>\n",
      "<re.Match object; span=(22, 23), match='v'>\n",
      "<re.Match object; span=(23, 24), match='w'>\n",
      "<re.Match object; span=(24, 25), match='y'>\n",
      "<re.Match object; span=(25, 26), match='z'>\n",
      "<re.Match object; span=(27, 28), match='A'>\n",
      "<re.Match object; span=(28, 29), match='B'>\n",
      "<re.Match object; span=(29, 30), match='C'>\n",
      "<re.Match object; span=(30, 31), match='D'>\n",
      "<re.Match object; span=(31, 32), match='E'>\n",
      "<re.Match object; span=(32, 33), match='F'>\n",
      "<re.Match object; span=(33, 34), match='G'>\n",
      "<re.Match object; span=(34, 35), match='H'>\n",
      "<re.Match object; span=(35, 36), match='I'>\n",
      "<re.Match object; span=(36, 37), match='J'>\n",
      "<re.Match object; span=(37, 38), match='K'>\n",
      "<re.Match object; span=(38, 39), match='L'>\n",
      "<re.Match object; span=(39, 40), match='M'>\n",
      "<re.Match object; span=(40, 41), match='N'>\n",
      "<re.Match object; span=(41, 42), match='O'>\n",
      "<re.Match object; span=(42, 43), match='P'>\n",
      "<re.Match object; span=(43, 44), match='Q'>\n",
      "<re.Match object; span=(44, 45), match='R'>\n",
      "<re.Match object; span=(45, 46), match='S'>\n",
      "<re.Match object; span=(46, 47), match='T'>\n",
      "<re.Match object; span=(47, 48), match='U'>\n",
      "<re.Match object; span=(48, 49), match='V'>\n",
      "<re.Match object; span=(49, 50), match='W'>\n",
      "<re.Match object; span=(50, 51), match='Y'>\n",
      "<re.Match object; span=(51, 52), match='Z'>\n",
      "<re.Match object; span=(53, 54), match='1'>\n",
      "<re.Match object; span=(54, 55), match='2'>\n",
      "<re.Match object; span=(55, 56), match='3'>\n",
      "<re.Match object; span=(56, 57), match='4'>\n",
      "<re.Match object; span=(57, 58), match='5'>\n",
      "<re.Match object; span=(58, 59), match='6'>\n",
      "<re.Match object; span=(59, 60), match='7'>\n",
      "<re.Match object; span=(60, 61), match='8'>\n",
      "<re.Match object; span=(61, 62), match='9'>\n",
      "<re.Match object; span=(62, 63), match='0'>\n",
      "<re.Match object; span=(65, 66), match='H'>\n",
      "<re.Match object; span=(66, 67), match='a'>\n",
      "<re.Match object; span=(68, 69), match='H'>\n",
      "<re.Match object; span=(69, 70), match='a'>\n",
      "<re.Match object; span=(70, 71), match='H'>\n",
      "<re.Match object; span=(71, 72), match='a'>\n",
      "<re.Match object; span=(74, 75), match='M'>\n",
      "<re.Match object; span=(75, 76), match='e'>\n",
      "<re.Match object; span=(76, 77), match='t'>\n",
      "<re.Match object; span=(77, 78), match='a'>\n",
      "<re.Match object; span=(78, 79), match='C'>\n",
      "<re.Match object; span=(79, 80), match='h'>\n",
      "<re.Match object; span=(80, 81), match='a'>\n",
      "<re.Match object; span=(81, 82), match='r'>\n",
      "<re.Match object; span=(82, 83), match='a'>\n",
      "<re.Match object; span=(83, 84), match='c'>\n",
      "<re.Match object; span=(84, 85), match='t'>\n",
      "<re.Match object; span=(85, 86), match='e'>\n",
      "<re.Match object; span=(86, 87), match='r'>\n",
      "<re.Match object; span=(87, 88), match='s'>\n",
      "<re.Match object; span=(90, 91), match='N'>\n",
      "<re.Match object; span=(91, 92), match='e'>\n",
      "<re.Match object; span=(92, 93), match='e'>\n",
      "<re.Match object; span=(93, 94), match='d'>\n",
      "<re.Match object; span=(95, 96), match='t'>\n",
      "<re.Match object; span=(96, 97), match='o'>\n",
      "<re.Match object; span=(98, 99), match='b'>\n",
      "<re.Match object; span=(99, 100), match='e'>\n",
      "<re.Match object; span=(101, 102), match='e'>\n",
      "<re.Match object; span=(102, 103), match='s'>\n",
      "<re.Match object; span=(103, 104), match='c'>\n",
      "<re.Match object; span=(104, 105), match='a'>\n",
      "<re.Match object; span=(105, 106), match='p'>\n",
      "<re.Match object; span=(106, 107), match='e'>\n",
      "<re.Match object; span=(107, 108), match='d'>\n",
      "<re.Match object; span=(140, 141), match='c'>\n",
      "<re.Match object; span=(141, 142), match='o'>\n",
      "<re.Match object; span=(142, 143), match='r'>\n",
      "<re.Match object; span=(143, 144), match='e'>\n",
      "<re.Match object; span=(144, 145), match='y'>\n",
      "<re.Match object; span=(145, 146), match='m'>\n",
      "<re.Match object; span=(146, 147), match='s'>\n",
      "<re.Match object; span=(148, 149), match='c'>\n",
      "<re.Match object; span=(149, 150), match='o'>\n",
      "<re.Match object; span=(150, 151), match='m'>\n",
      "<re.Match object; span=(153, 154), match='5'>\n",
      "<re.Match object; span=(154, 155), match='1'>\n",
      "<re.Match object; span=(155, 156), match='6'>\n",
      "<re.Match object; span=(157, 158), match='3'>\n",
      "<re.Match object; span=(158, 159), match='8'>\n",
      "<re.Match object; span=(159, 160), match='4'>\n",
      "<re.Match object; span=(161, 162), match='7'>\n",
      "<re.Match object; span=(162, 163), match='3'>\n",
      "<re.Match object; span=(163, 164), match='7'>\n",
      "<re.Match object; span=(164, 165), match='4'>\n",
      "<re.Match object; span=(166, 167), match='5'>\n",
      "<re.Match object; span=(167, 168), match='1'>\n",
      "<re.Match object; span=(168, 169), match='6'>\n",
      "<re.Match object; span=(170, 171), match='9'>\n",
      "<re.Match object; span=(171, 172), match='9'>\n",
      "<re.Match object; span=(172, 173), match='6'>\n",
      "<re.Match object; span=(174, 175), match='4'>\n",
      "<re.Match object; span=(175, 176), match='9'>\n",
      "<re.Match object; span=(176, 177), match='4'>\n",
      "<re.Match object; span=(177, 178), match='5'>\n",
      "<re.Match object; span=(179, 180), match='3'>\n",
      "<re.Match object; span=(180, 181), match='2'>\n",
      "<re.Match object; span=(181, 182), match='1'>\n",
      "<re.Match object; span=(183, 184), match='1'>\n",
      "<re.Match object; span=(184, 185), match='2'>\n",
      "<re.Match object; span=(185, 186), match='3'>\n",
      "<re.Match object; span=(187, 188), match='4'>\n",
      "<re.Match object; span=(188, 189), match='5'>\n",
      "<re.Match object; span=(189, 190), match='6'>\n",
      "<re.Match object; span=(190, 191), match='7'>\n",
      "<re.Match object; span=(192, 193), match='8'>\n",
      "<re.Match object; span=(193, 194), match='0'>\n",
      "<re.Match object; span=(194, 195), match='0'>\n",
      "<re.Match object; span=(196, 197), match='1'>\n",
      "<re.Match object; span=(197, 198), match='2'>\n",
      "<re.Match object; span=(198, 199), match='3'>\n",
      "<re.Match object; span=(200, 201), match='4'>\n",
      "<re.Match object; span=(201, 202), match='5'>\n",
      "<re.Match object; span=(202, 203), match='6'>\n",
      "<re.Match object; span=(203, 204), match='7'>\n",
      "<re.Match object; span=(205, 206), match='8'>\n",
      "<re.Match object; span=(206, 207), match='0'>\n",
      "<re.Match object; span=(207, 208), match='0'>\n",
      "<re.Match object; span=(209, 210), match='1'>\n",
      "<re.Match object; span=(210, 211), match='2'>\n",
      "<re.Match object; span=(211, 212), match='3'>\n",
      "<re.Match object; span=(213, 214), match='4'>\n",
      "<re.Match object; span=(214, 215), match='5'>\n",
      "<re.Match object; span=(215, 216), match='6'>\n",
      "<re.Match object; span=(216, 217), match='7'>\n",
      "<re.Match object; span=(218, 219), match='9'>\n",
      "<re.Match object; span=(219, 220), match='0'>\n",
      "<re.Match object; span=(220, 221), match='0'>\n",
      "<re.Match object; span=(222, 223), match='1'>\n",
      "<re.Match object; span=(223, 224), match='2'>\n",
      "<re.Match object; span=(224, 225), match='3'>\n",
      "<re.Match object; span=(226, 227), match='4'>\n",
      "<re.Match object; span=(227, 228), match='5'>\n",
      "<re.Match object; span=(228, 229), match='6'>\n",
      "<re.Match object; span=(229, 230), match='7'>\n",
      "<re.Match object; span=(232, 233), match='M'>\n",
      "<re.Match object; span=(233, 234), match='r'>\n",
      "<re.Match object; span=(235, 236), match='S'>\n",
      "<re.Match object; span=(236, 237), match='h'>\n",
      "<re.Match object; span=(237, 238), match='a'>\n",
      "<re.Match object; span=(238, 239), match='e'>\n",
      "<re.Match object; span=(239, 240), match='f'>\n",
      "<re.Match object; span=(240, 241), match='e'>\n",
      "<re.Match object; span=(241, 242), match='r'>\n",
      "<re.Match object; span=(243, 244), match='M'>\n",
      "<re.Match object; span=(244, 245), match='r'>\n",
      "<re.Match object; span=(246, 247), match='G'>\n",
      "<re.Match object; span=(247, 248), match='h'>\n",
      "<re.Match object; span=(248, 249), match='o'>\n",
      "<re.Match object; span=(249, 250), match='s'>\n",
      "<re.Match object; span=(250, 251), match='h'>\n",
      "<re.Match object; span=(252, 253), match='M'>\n",
      "<re.Match object; span=(253, 254), match='s'>\n",
      "<re.Match object; span=(255, 256), match='D'>\n",
      "<re.Match object; span=(256, 257), match='a'>\n",
      "<re.Match object; span=(257, 258), match='v'>\n",
      "<re.Match object; span=(258, 259), match='i'>\n",
      "<re.Match object; span=(259, 260), match='s'>\n",
      "<re.Match object; span=(261, 262), match='M'>\n",
      "<re.Match object; span=(262, 263), match='r'>\n",
      "<re.Match object; span=(263, 264), match='s'>\n",
      "<re.Match object; span=(266, 267), match='R'>\n",
      "<re.Match object; span=(267, 268), match='o'>\n",
      "<re.Match object; span=(268, 269), match='b'>\n",
      "<re.Match object; span=(269, 270), match='i'>\n",
      "<re.Match object; span=(270, 271), match='n'>\n",
      "<re.Match object; span=(271, 272), match='s'>\n",
      "<re.Match object; span=(272, 273), match='o'>\n",
      "<re.Match object; span=(273, 274), match='n'>\n",
      "<re.Match object; span=(275, 276), match='M'>\n",
      "<re.Match object; span=(276, 277), match='r'>\n",
      "<re.Match object; span=(279, 280), match='T'>\n",
      "<re.Match object; span=(282, 283), match='c'>\n",
      "<re.Match object; span=(283, 284), match='a'>\n",
      "<re.Match object; span=(284, 285), match='t'>\n",
      "<re.Match object; span=(286, 287), match='m'>\n",
      "<re.Match object; span=(287, 288), match='a'>\n",
      "<re.Match object; span=(288, 289), match='t'>\n",
      "<re.Match object; span=(290, 291), match='p'>\n",
      "<re.Match object; span=(291, 292), match='a'>\n",
      "<re.Match object; span=(292, 293), match='t'>\n",
      "<re.Match object; span=(294, 295), match='b'>\n",
      "<re.Match object; span=(295, 296), match='a'>\n",
      "<re.Match object; span=(296, 297), match='t'>\n"
     ]
    }
   ],
   "source": [
    "pattern = re.compile(r'\\w')\n",
    "matches = pattern.finditer(text_to_search)\n",
    "for match in matches:\n",
    "    print(match)"
   ]
  },
  {
   "cell_type": "markdown",
   "metadata": {},
   "source": [
    "\\W    matches everything that is  - Not a Word Character"
   ]
  },
  {
   "cell_type": "code",
   "execution_count": 12,
   "metadata": {},
   "outputs": [
    {
     "name": "stdout",
     "output_type": "stream",
     "text": [
      "<re.Match object; span=(0, 1), match='\\n'>\n",
      "<re.Match object; span=(26, 27), match='\\n'>\n",
      "<re.Match object; span=(52, 53), match='\\n'>\n",
      "<re.Match object; span=(63, 64), match='\\n'>\n",
      "<re.Match object; span=(64, 65), match='\\n'>\n",
      "<re.Match object; span=(67, 68), match=' '>\n",
      "<re.Match object; span=(72, 73), match='\\n'>\n",
      "<re.Match object; span=(73, 74), match='\\n'>\n",
      "<re.Match object; span=(88, 89), match=' '>\n",
      "<re.Match object; span=(89, 90), match='('>\n",
      "<re.Match object; span=(94, 95), match=' '>\n",
      "<re.Match object; span=(97, 98), match=' '>\n",
      "<re.Match object; span=(100, 101), match=' '>\n",
      "<re.Match object; span=(108, 109), match=')'>\n",
      "<re.Match object; span=(109, 110), match=':'>\n",
      "<re.Match object; span=(110, 111), match='\\n'>\n",
      "<re.Match object; span=(111, 112), match='.'>\n",
      "<re.Match object; span=(112, 113), match=' '>\n",
      "<re.Match object; span=(113, 114), match='^'>\n",
      "<re.Match object; span=(114, 115), match=' '>\n",
      "<re.Match object; span=(115, 116), match='$'>\n",
      "<re.Match object; span=(116, 117), match=' '>\n",
      "<re.Match object; span=(117, 118), match='*'>\n",
      "<re.Match object; span=(118, 119), match=' '>\n",
      "<re.Match object; span=(119, 120), match='+'>\n",
      "<re.Match object; span=(120, 121), match=' '>\n",
      "<re.Match object; span=(121, 122), match='?'>\n",
      "<re.Match object; span=(122, 123), match=' '>\n",
      "<re.Match object; span=(123, 124), match='{'>\n",
      "<re.Match object; span=(124, 125), match=' '>\n",
      "<re.Match object; span=(125, 126), match='}'>\n",
      "<re.Match object; span=(126, 127), match=' '>\n",
      "<re.Match object; span=(127, 128), match='['>\n",
      "<re.Match object; span=(128, 129), match=' '>\n",
      "<re.Match object; span=(129, 130), match=']'>\n",
      "<re.Match object; span=(130, 131), match=' '>\n",
      "<re.Match object; span=(131, 132), match='\\\\'>\n",
      "<re.Match object; span=(132, 133), match=' '>\n",
      "<re.Match object; span=(133, 134), match='|'>\n",
      "<re.Match object; span=(134, 135), match=' '>\n",
      "<re.Match object; span=(135, 136), match='('>\n",
      "<re.Match object; span=(136, 137), match=' '>\n",
      "<re.Match object; span=(137, 138), match=')'>\n",
      "<re.Match object; span=(138, 139), match='\\n'>\n",
      "<re.Match object; span=(139, 140), match='\\n'>\n",
      "<re.Match object; span=(147, 148), match='.'>\n",
      "<re.Match object; span=(151, 152), match='\\n'>\n",
      "<re.Match object; span=(152, 153), match='\\n'>\n",
      "<re.Match object; span=(156, 157), match='-'>\n",
      "<re.Match object; span=(160, 161), match='-'>\n",
      "<re.Match object; span=(165, 166), match='\\n'>\n",
      "<re.Match object; span=(169, 170), match='.'>\n",
      "<re.Match object; span=(173, 174), match='.'>\n",
      "<re.Match object; span=(178, 179), match='\\n'>\n",
      "<re.Match object; span=(182, 183), match='*'>\n",
      "<re.Match object; span=(186, 187), match='*'>\n",
      "<re.Match object; span=(191, 192), match='\\n'>\n",
      "<re.Match object; span=(195, 196), match='-'>\n",
      "<re.Match object; span=(199, 200), match='-'>\n",
      "<re.Match object; span=(204, 205), match='\\n'>\n",
      "<re.Match object; span=(208, 209), match='*'>\n",
      "<re.Match object; span=(212, 213), match='*'>\n",
      "<re.Match object; span=(217, 218), match='\\n'>\n",
      "<re.Match object; span=(221, 222), match='.'>\n",
      "<re.Match object; span=(225, 226), match='.'>\n",
      "<re.Match object; span=(230, 231), match='\\n'>\n",
      "<re.Match object; span=(231, 232), match='\\n'>\n",
      "<re.Match object; span=(234, 235), match='.'>\n",
      "<re.Match object; span=(242, 243), match='\\n'>\n",
      "<re.Match object; span=(245, 246), match=' '>\n",
      "<re.Match object; span=(251, 252), match='\\n'>\n",
      "<re.Match object; span=(254, 255), match=' '>\n",
      "<re.Match object; span=(260, 261), match='\\n'>\n",
      "<re.Match object; span=(264, 265), match='.'>\n",
      "<re.Match object; span=(265, 266), match=' '>\n",
      "<re.Match object; span=(274, 275), match='\\n'>\n",
      "<re.Match object; span=(277, 278), match='.'>\n",
      "<re.Match object; span=(278, 279), match=' '>\n",
      "<re.Match object; span=(280, 281), match='\\n'>\n",
      "<re.Match object; span=(281, 282), match='\\n'>\n",
      "<re.Match object; span=(285, 286), match='\\n'>\n",
      "<re.Match object; span=(289, 290), match='\\n'>\n",
      "<re.Match object; span=(293, 294), match='\\n'>\n",
      "<re.Match object; span=(297, 298), match='\\n'>\n",
      "<re.Match object; span=(298, 299), match='\\n'>\n"
     ]
    }
   ],
   "source": [
    "pattern = re.compile(r'\\W')\n",
    "matches = pattern.finditer(text_to_search)\n",
    "for match in matches:\n",
    "    print(match)"
   ]
  },
  {
   "cell_type": "markdown",
   "metadata": {},
   "source": [
    "\\s  matches    - Whitespace (space, tab, newline)"
   ]
  },
  {
   "cell_type": "code",
   "execution_count": 13,
   "metadata": {},
   "outputs": [
    {
     "name": "stdout",
     "output_type": "stream",
     "text": [
      "<re.Match object; span=(0, 1), match='\\n'>\n",
      "<re.Match object; span=(26, 27), match='\\n'>\n",
      "<re.Match object; span=(52, 53), match='\\n'>\n",
      "<re.Match object; span=(63, 64), match='\\n'>\n",
      "<re.Match object; span=(64, 65), match='\\n'>\n",
      "<re.Match object; span=(67, 68), match=' '>\n",
      "<re.Match object; span=(72, 73), match='\\n'>\n",
      "<re.Match object; span=(73, 74), match='\\n'>\n",
      "<re.Match object; span=(88, 89), match=' '>\n",
      "<re.Match object; span=(94, 95), match=' '>\n",
      "<re.Match object; span=(97, 98), match=' '>\n",
      "<re.Match object; span=(100, 101), match=' '>\n",
      "<re.Match object; span=(110, 111), match='\\n'>\n",
      "<re.Match object; span=(112, 113), match=' '>\n",
      "<re.Match object; span=(114, 115), match=' '>\n",
      "<re.Match object; span=(116, 117), match=' '>\n",
      "<re.Match object; span=(118, 119), match=' '>\n",
      "<re.Match object; span=(120, 121), match=' '>\n",
      "<re.Match object; span=(122, 123), match=' '>\n",
      "<re.Match object; span=(124, 125), match=' '>\n",
      "<re.Match object; span=(126, 127), match=' '>\n",
      "<re.Match object; span=(128, 129), match=' '>\n",
      "<re.Match object; span=(130, 131), match=' '>\n",
      "<re.Match object; span=(132, 133), match=' '>\n",
      "<re.Match object; span=(134, 135), match=' '>\n",
      "<re.Match object; span=(136, 137), match=' '>\n",
      "<re.Match object; span=(138, 139), match='\\n'>\n",
      "<re.Match object; span=(139, 140), match='\\n'>\n",
      "<re.Match object; span=(151, 152), match='\\n'>\n",
      "<re.Match object; span=(152, 153), match='\\n'>\n",
      "<re.Match object; span=(165, 166), match='\\n'>\n",
      "<re.Match object; span=(178, 179), match='\\n'>\n",
      "<re.Match object; span=(191, 192), match='\\n'>\n",
      "<re.Match object; span=(204, 205), match='\\n'>\n",
      "<re.Match object; span=(217, 218), match='\\n'>\n",
      "<re.Match object; span=(230, 231), match='\\n'>\n",
      "<re.Match object; span=(231, 232), match='\\n'>\n",
      "<re.Match object; span=(242, 243), match='\\n'>\n",
      "<re.Match object; span=(245, 246), match=' '>\n",
      "<re.Match object; span=(251, 252), match='\\n'>\n",
      "<re.Match object; span=(254, 255), match=' '>\n",
      "<re.Match object; span=(260, 261), match='\\n'>\n",
      "<re.Match object; span=(265, 266), match=' '>\n",
      "<re.Match object; span=(274, 275), match='\\n'>\n",
      "<re.Match object; span=(278, 279), match=' '>\n",
      "<re.Match object; span=(280, 281), match='\\n'>\n",
      "<re.Match object; span=(281, 282), match='\\n'>\n",
      "<re.Match object; span=(285, 286), match='\\n'>\n",
      "<re.Match object; span=(289, 290), match='\\n'>\n",
      "<re.Match object; span=(293, 294), match='\\n'>\n",
      "<re.Match object; span=(297, 298), match='\\n'>\n",
      "<re.Match object; span=(298, 299), match='\\n'>\n"
     ]
    }
   ],
   "source": [
    "pattern = re.compile(r'\\s')\n",
    "matches = pattern.finditer(text_to_search)\n",
    "for match in matches:\n",
    "    print(match)"
   ]
  },
  {
   "cell_type": "markdown",
   "metadata": {},
   "source": [
    "\\S    matches what is  - Not Whitespace (space, tab, newline)"
   ]
  },
  {
   "cell_type": "code",
   "execution_count": 14,
   "metadata": {},
   "outputs": [
    {
     "name": "stdout",
     "output_type": "stream",
     "text": [
      "<re.Match object; span=(1, 2), match='a'>\n",
      "<re.Match object; span=(2, 3), match='b'>\n",
      "<re.Match object; span=(3, 4), match='c'>\n",
      "<re.Match object; span=(4, 5), match='d'>\n",
      "<re.Match object; span=(5, 6), match='e'>\n",
      "<re.Match object; span=(6, 7), match='f'>\n",
      "<re.Match object; span=(7, 8), match='g'>\n",
      "<re.Match object; span=(8, 9), match='h'>\n",
      "<re.Match object; span=(9, 10), match='i'>\n",
      "<re.Match object; span=(10, 11), match='j'>\n",
      "<re.Match object; span=(11, 12), match='k'>\n",
      "<re.Match object; span=(12, 13), match='l'>\n",
      "<re.Match object; span=(13, 14), match='m'>\n",
      "<re.Match object; span=(14, 15), match='n'>\n",
      "<re.Match object; span=(15, 16), match='o'>\n",
      "<re.Match object; span=(16, 17), match='p'>\n",
      "<re.Match object; span=(17, 18), match='q'>\n",
      "<re.Match object; span=(18, 19), match='r'>\n",
      "<re.Match object; span=(19, 20), match='s'>\n",
      "<re.Match object; span=(20, 21), match='t'>\n",
      "<re.Match object; span=(21, 22), match='u'>\n",
      "<re.Match object; span=(22, 23), match='v'>\n",
      "<re.Match object; span=(23, 24), match='w'>\n",
      "<re.Match object; span=(24, 25), match='y'>\n",
      "<re.Match object; span=(25, 26), match='z'>\n",
      "<re.Match object; span=(27, 28), match='A'>\n",
      "<re.Match object; span=(28, 29), match='B'>\n",
      "<re.Match object; span=(29, 30), match='C'>\n",
      "<re.Match object; span=(30, 31), match='D'>\n",
      "<re.Match object; span=(31, 32), match='E'>\n",
      "<re.Match object; span=(32, 33), match='F'>\n",
      "<re.Match object; span=(33, 34), match='G'>\n",
      "<re.Match object; span=(34, 35), match='H'>\n",
      "<re.Match object; span=(35, 36), match='I'>\n",
      "<re.Match object; span=(36, 37), match='J'>\n",
      "<re.Match object; span=(37, 38), match='K'>\n",
      "<re.Match object; span=(38, 39), match='L'>\n",
      "<re.Match object; span=(39, 40), match='M'>\n",
      "<re.Match object; span=(40, 41), match='N'>\n",
      "<re.Match object; span=(41, 42), match='O'>\n",
      "<re.Match object; span=(42, 43), match='P'>\n",
      "<re.Match object; span=(43, 44), match='Q'>\n",
      "<re.Match object; span=(44, 45), match='R'>\n",
      "<re.Match object; span=(45, 46), match='S'>\n",
      "<re.Match object; span=(46, 47), match='T'>\n",
      "<re.Match object; span=(47, 48), match='U'>\n",
      "<re.Match object; span=(48, 49), match='V'>\n",
      "<re.Match object; span=(49, 50), match='W'>\n",
      "<re.Match object; span=(50, 51), match='Y'>\n",
      "<re.Match object; span=(51, 52), match='Z'>\n",
      "<re.Match object; span=(53, 54), match='1'>\n",
      "<re.Match object; span=(54, 55), match='2'>\n",
      "<re.Match object; span=(55, 56), match='3'>\n",
      "<re.Match object; span=(56, 57), match='4'>\n",
      "<re.Match object; span=(57, 58), match='5'>\n",
      "<re.Match object; span=(58, 59), match='6'>\n",
      "<re.Match object; span=(59, 60), match='7'>\n",
      "<re.Match object; span=(60, 61), match='8'>\n",
      "<re.Match object; span=(61, 62), match='9'>\n",
      "<re.Match object; span=(62, 63), match='0'>\n",
      "<re.Match object; span=(65, 66), match='H'>\n",
      "<re.Match object; span=(66, 67), match='a'>\n",
      "<re.Match object; span=(68, 69), match='H'>\n",
      "<re.Match object; span=(69, 70), match='a'>\n",
      "<re.Match object; span=(70, 71), match='H'>\n",
      "<re.Match object; span=(71, 72), match='a'>\n",
      "<re.Match object; span=(74, 75), match='M'>\n",
      "<re.Match object; span=(75, 76), match='e'>\n",
      "<re.Match object; span=(76, 77), match='t'>\n",
      "<re.Match object; span=(77, 78), match='a'>\n",
      "<re.Match object; span=(78, 79), match='C'>\n",
      "<re.Match object; span=(79, 80), match='h'>\n",
      "<re.Match object; span=(80, 81), match='a'>\n",
      "<re.Match object; span=(81, 82), match='r'>\n",
      "<re.Match object; span=(82, 83), match='a'>\n",
      "<re.Match object; span=(83, 84), match='c'>\n",
      "<re.Match object; span=(84, 85), match='t'>\n",
      "<re.Match object; span=(85, 86), match='e'>\n",
      "<re.Match object; span=(86, 87), match='r'>\n",
      "<re.Match object; span=(87, 88), match='s'>\n",
      "<re.Match object; span=(89, 90), match='('>\n",
      "<re.Match object; span=(90, 91), match='N'>\n",
      "<re.Match object; span=(91, 92), match='e'>\n",
      "<re.Match object; span=(92, 93), match='e'>\n",
      "<re.Match object; span=(93, 94), match='d'>\n",
      "<re.Match object; span=(95, 96), match='t'>\n",
      "<re.Match object; span=(96, 97), match='o'>\n",
      "<re.Match object; span=(98, 99), match='b'>\n",
      "<re.Match object; span=(99, 100), match='e'>\n",
      "<re.Match object; span=(101, 102), match='e'>\n",
      "<re.Match object; span=(102, 103), match='s'>\n",
      "<re.Match object; span=(103, 104), match='c'>\n",
      "<re.Match object; span=(104, 105), match='a'>\n",
      "<re.Match object; span=(105, 106), match='p'>\n",
      "<re.Match object; span=(106, 107), match='e'>\n",
      "<re.Match object; span=(107, 108), match='d'>\n",
      "<re.Match object; span=(108, 109), match=')'>\n",
      "<re.Match object; span=(109, 110), match=':'>\n",
      "<re.Match object; span=(111, 112), match='.'>\n",
      "<re.Match object; span=(113, 114), match='^'>\n",
      "<re.Match object; span=(115, 116), match='$'>\n",
      "<re.Match object; span=(117, 118), match='*'>\n",
      "<re.Match object; span=(119, 120), match='+'>\n",
      "<re.Match object; span=(121, 122), match='?'>\n",
      "<re.Match object; span=(123, 124), match='{'>\n",
      "<re.Match object; span=(125, 126), match='}'>\n",
      "<re.Match object; span=(127, 128), match='['>\n",
      "<re.Match object; span=(129, 130), match=']'>\n",
      "<re.Match object; span=(131, 132), match='\\\\'>\n",
      "<re.Match object; span=(133, 134), match='|'>\n",
      "<re.Match object; span=(135, 136), match='('>\n",
      "<re.Match object; span=(137, 138), match=')'>\n",
      "<re.Match object; span=(140, 141), match='c'>\n",
      "<re.Match object; span=(141, 142), match='o'>\n",
      "<re.Match object; span=(142, 143), match='r'>\n",
      "<re.Match object; span=(143, 144), match='e'>\n",
      "<re.Match object; span=(144, 145), match='y'>\n",
      "<re.Match object; span=(145, 146), match='m'>\n",
      "<re.Match object; span=(146, 147), match='s'>\n",
      "<re.Match object; span=(147, 148), match='.'>\n",
      "<re.Match object; span=(148, 149), match='c'>\n",
      "<re.Match object; span=(149, 150), match='o'>\n",
      "<re.Match object; span=(150, 151), match='m'>\n",
      "<re.Match object; span=(153, 154), match='5'>\n",
      "<re.Match object; span=(154, 155), match='1'>\n",
      "<re.Match object; span=(155, 156), match='6'>\n",
      "<re.Match object; span=(156, 157), match='-'>\n",
      "<re.Match object; span=(157, 158), match='3'>\n",
      "<re.Match object; span=(158, 159), match='8'>\n",
      "<re.Match object; span=(159, 160), match='4'>\n",
      "<re.Match object; span=(160, 161), match='-'>\n",
      "<re.Match object; span=(161, 162), match='7'>\n",
      "<re.Match object; span=(162, 163), match='3'>\n",
      "<re.Match object; span=(163, 164), match='7'>\n",
      "<re.Match object; span=(164, 165), match='4'>\n",
      "<re.Match object; span=(166, 167), match='5'>\n",
      "<re.Match object; span=(167, 168), match='1'>\n",
      "<re.Match object; span=(168, 169), match='6'>\n",
      "<re.Match object; span=(169, 170), match='.'>\n",
      "<re.Match object; span=(170, 171), match='9'>\n",
      "<re.Match object; span=(171, 172), match='9'>\n",
      "<re.Match object; span=(172, 173), match='6'>\n",
      "<re.Match object; span=(173, 174), match='.'>\n",
      "<re.Match object; span=(174, 175), match='4'>\n",
      "<re.Match object; span=(175, 176), match='9'>\n",
      "<re.Match object; span=(176, 177), match='4'>\n",
      "<re.Match object; span=(177, 178), match='5'>\n",
      "<re.Match object; span=(179, 180), match='3'>\n",
      "<re.Match object; span=(180, 181), match='2'>\n",
      "<re.Match object; span=(181, 182), match='1'>\n",
      "<re.Match object; span=(182, 183), match='*'>\n",
      "<re.Match object; span=(183, 184), match='1'>\n",
      "<re.Match object; span=(184, 185), match='2'>\n",
      "<re.Match object; span=(185, 186), match='3'>\n",
      "<re.Match object; span=(186, 187), match='*'>\n",
      "<re.Match object; span=(187, 188), match='4'>\n",
      "<re.Match object; span=(188, 189), match='5'>\n",
      "<re.Match object; span=(189, 190), match='6'>\n",
      "<re.Match object; span=(190, 191), match='7'>\n",
      "<re.Match object; span=(192, 193), match='8'>\n",
      "<re.Match object; span=(193, 194), match='0'>\n",
      "<re.Match object; span=(194, 195), match='0'>\n",
      "<re.Match object; span=(195, 196), match='-'>\n",
      "<re.Match object; span=(196, 197), match='1'>\n",
      "<re.Match object; span=(197, 198), match='2'>\n",
      "<re.Match object; span=(198, 199), match='3'>\n",
      "<re.Match object; span=(199, 200), match='-'>\n",
      "<re.Match object; span=(200, 201), match='4'>\n",
      "<re.Match object; span=(201, 202), match='5'>\n",
      "<re.Match object; span=(202, 203), match='6'>\n",
      "<re.Match object; span=(203, 204), match='7'>\n",
      "<re.Match object; span=(205, 206), match='8'>\n",
      "<re.Match object; span=(206, 207), match='0'>\n",
      "<re.Match object; span=(207, 208), match='0'>\n",
      "<re.Match object; span=(208, 209), match='*'>\n",
      "<re.Match object; span=(209, 210), match='1'>\n",
      "<re.Match object; span=(210, 211), match='2'>\n",
      "<re.Match object; span=(211, 212), match='3'>\n",
      "<re.Match object; span=(212, 213), match='*'>\n",
      "<re.Match object; span=(213, 214), match='4'>\n",
      "<re.Match object; span=(214, 215), match='5'>\n",
      "<re.Match object; span=(215, 216), match='6'>\n",
      "<re.Match object; span=(216, 217), match='7'>\n",
      "<re.Match object; span=(218, 219), match='9'>\n",
      "<re.Match object; span=(219, 220), match='0'>\n",
      "<re.Match object; span=(220, 221), match='0'>\n",
      "<re.Match object; span=(221, 222), match='.'>\n",
      "<re.Match object; span=(222, 223), match='1'>\n",
      "<re.Match object; span=(223, 224), match='2'>\n",
      "<re.Match object; span=(224, 225), match='3'>\n",
      "<re.Match object; span=(225, 226), match='.'>\n",
      "<re.Match object; span=(226, 227), match='4'>\n",
      "<re.Match object; span=(227, 228), match='5'>\n",
      "<re.Match object; span=(228, 229), match='6'>\n",
      "<re.Match object; span=(229, 230), match='7'>\n",
      "<re.Match object; span=(232, 233), match='M'>\n",
      "<re.Match object; span=(233, 234), match='r'>\n",
      "<re.Match object; span=(234, 235), match='.'>\n",
      "<re.Match object; span=(235, 236), match='S'>\n",
      "<re.Match object; span=(236, 237), match='h'>\n",
      "<re.Match object; span=(237, 238), match='a'>\n",
      "<re.Match object; span=(238, 239), match='e'>\n",
      "<re.Match object; span=(239, 240), match='f'>\n",
      "<re.Match object; span=(240, 241), match='e'>\n",
      "<re.Match object; span=(241, 242), match='r'>\n",
      "<re.Match object; span=(243, 244), match='M'>\n",
      "<re.Match object; span=(244, 245), match='r'>\n",
      "<re.Match object; span=(246, 247), match='G'>\n",
      "<re.Match object; span=(247, 248), match='h'>\n",
      "<re.Match object; span=(248, 249), match='o'>\n",
      "<re.Match object; span=(249, 250), match='s'>\n",
      "<re.Match object; span=(250, 251), match='h'>\n",
      "<re.Match object; span=(252, 253), match='M'>\n",
      "<re.Match object; span=(253, 254), match='s'>\n",
      "<re.Match object; span=(255, 256), match='D'>\n",
      "<re.Match object; span=(256, 257), match='a'>\n",
      "<re.Match object; span=(257, 258), match='v'>\n",
      "<re.Match object; span=(258, 259), match='i'>\n",
      "<re.Match object; span=(259, 260), match='s'>\n",
      "<re.Match object; span=(261, 262), match='M'>\n",
      "<re.Match object; span=(262, 263), match='r'>\n",
      "<re.Match object; span=(263, 264), match='s'>\n",
      "<re.Match object; span=(264, 265), match='.'>\n",
      "<re.Match object; span=(266, 267), match='R'>\n",
      "<re.Match object; span=(267, 268), match='o'>\n",
      "<re.Match object; span=(268, 269), match='b'>\n",
      "<re.Match object; span=(269, 270), match='i'>\n",
      "<re.Match object; span=(270, 271), match='n'>\n",
      "<re.Match object; span=(271, 272), match='s'>\n",
      "<re.Match object; span=(272, 273), match='o'>\n",
      "<re.Match object; span=(273, 274), match='n'>\n",
      "<re.Match object; span=(275, 276), match='M'>\n",
      "<re.Match object; span=(276, 277), match='r'>\n",
      "<re.Match object; span=(277, 278), match='.'>\n",
      "<re.Match object; span=(279, 280), match='T'>\n",
      "<re.Match object; span=(282, 283), match='c'>\n",
      "<re.Match object; span=(283, 284), match='a'>\n",
      "<re.Match object; span=(284, 285), match='t'>\n",
      "<re.Match object; span=(286, 287), match='m'>\n",
      "<re.Match object; span=(287, 288), match='a'>\n",
      "<re.Match object; span=(288, 289), match='t'>\n",
      "<re.Match object; span=(290, 291), match='p'>\n",
      "<re.Match object; span=(291, 292), match='a'>\n",
      "<re.Match object; span=(292, 293), match='t'>\n",
      "<re.Match object; span=(294, 295), match='b'>\n",
      "<re.Match object; span=(295, 296), match='a'>\n",
      "<re.Match object; span=(296, 297), match='t'>\n"
     ]
    }
   ],
   "source": [
    "pattern = re.compile(r'\\S')\n",
    "matches = pattern.finditer(text_to_search)\n",
    "for match in matches:\n",
    "    print(match)"
   ]
  },
  {
   "cell_type": "markdown",
   "metadata": {},
   "source": [
    "lets match all the Ha's that have a word boundary before -\\b  matches    - Word Boundary"
   ]
  },
  {
   "cell_type": "code",
   "execution_count": 15,
   "metadata": {},
   "outputs": [
    {
     "name": "stdout",
     "output_type": "stream",
     "text": [
      "<re.Match object; span=(65, 67), match='Ha'>\n",
      "<re.Match object; span=(68, 70), match='Ha'>\n"
     ]
    }
   ],
   "source": [
    "pattern = re.compile(r'\\bHa')\n",
    "matches = pattern.finditer(text_to_search)\n",
    "for match in matches:\n",
    "    print(match)"
   ]
  },
  {
   "cell_type": "markdown",
   "metadata": {},
   "source": [
    "if we want to search a Ha which doesnt have a word boundary then use /B"
   ]
  },
  {
   "cell_type": "code",
   "execution_count": 16,
   "metadata": {},
   "outputs": [
    {
     "name": "stdout",
     "output_type": "stream",
     "text": [
      "<re.Match object; span=(70, 72), match='Ha'>\n"
     ]
    }
   ],
   "source": [
    "pattern = re.compile(r'\\BHa')\n",
    "matches = pattern.finditer(text_to_search)\n",
    "for match in matches:\n",
    "    print(match)"
   ]
  },
  {
   "cell_type": "markdown",
   "metadata": {},
   "source": [
    "^     matches  - Beginning of a String"
   ]
  },
  {
   "cell_type": "code",
   "execution_count": 17,
   "metadata": {},
   "outputs": [
    {
     "name": "stdout",
     "output_type": "stream",
     "text": [
      "<re.Match object; span=(0, 0), match=''>\n"
     ]
    }
   ],
   "source": [
    "pattern = re.compile(r'^')\n",
    "matches = pattern.finditer(text_to_search)\n",
    "for match in matches:\n",
    "    print(match)"
   ]
  },
  {
   "cell_type": "code",
   "execution_count": 18,
   "metadata": {},
   "outputs": [
    {
     "name": "stdout",
     "output_type": "stream",
     "text": [
      "<re.Match object; span=(0, 5), match='Start'>\n"
     ]
    }
   ],
   "source": [
    "pattern = re.compile(r'^Start')\n",
    "matches = pattern.finditer(sentence)\n",
    "for match in matches:\n",
    "    print(match)"
   ]
  },
  {
   "cell_type": "markdown",
   "metadata": {},
   "source": [
    "matching the phone numbers, \\d matches any word char so phone # is 3 digits/char in a row before - or ."
   ]
  },
  {
   "cell_type": "code",
   "execution_count": 19,
   "metadata": {},
   "outputs": [
    {
     "name": "stdout",
     "output_type": "stream",
     "text": [
      "<re.Match object; span=(53, 56), match='123'>\n",
      "<re.Match object; span=(56, 59), match='456'>\n",
      "<re.Match object; span=(59, 62), match='789'>\n",
      "<re.Match object; span=(153, 156), match='516'>\n",
      "<re.Match object; span=(157, 160), match='384'>\n",
      "<re.Match object; span=(161, 164), match='737'>\n",
      "<re.Match object; span=(166, 169), match='516'>\n",
      "<re.Match object; span=(170, 173), match='996'>\n",
      "<re.Match object; span=(174, 177), match='494'>\n",
      "<re.Match object; span=(179, 182), match='321'>\n",
      "<re.Match object; span=(183, 186), match='123'>\n",
      "<re.Match object; span=(187, 190), match='456'>\n",
      "<re.Match object; span=(192, 195), match='800'>\n",
      "<re.Match object; span=(196, 199), match='123'>\n",
      "<re.Match object; span=(200, 203), match='456'>\n",
      "<re.Match object; span=(205, 208), match='800'>\n",
      "<re.Match object; span=(209, 212), match='123'>\n",
      "<re.Match object; span=(213, 216), match='456'>\n",
      "<re.Match object; span=(218, 221), match='900'>\n",
      "<re.Match object; span=(222, 225), match='123'>\n",
      "<re.Match object; span=(226, 229), match='456'>\n"
     ]
    }
   ],
   "source": [
    "pattern = re.compile(r'\\d\\d\\d')\n",
    "matches = pattern.finditer(text_to_search)\n",
    "for match in matches:\n",
    "    print(match)"
   ]
  },
  {
   "cell_type": "markdown",
   "metadata": {},
   "source": [
    "but the above takes 123456....as well from the begining so we have to a little bit more specific matching only the phone number"
   ]
  },
  {
   "cell_type": "code",
   "execution_count": 20,
   "metadata": {},
   "outputs": [
    {
     "name": "stdout",
     "output_type": "stream",
     "text": [
      "<re.Match object; span=(153, 165), match='516-384-7374'>\n",
      "<re.Match object; span=(166, 178), match='516.996.4945'>\n",
      "<re.Match object; span=(179, 191), match='321*123*4567'>\n",
      "<re.Match object; span=(192, 204), match='800-123-4567'>\n",
      "<re.Match object; span=(205, 217), match='800*123*4567'>\n",
      "<re.Match object; span=(218, 230), match='900.123.4567'>\n"
     ]
    }
   ],
   "source": [
    "pattern = re.compile(r'\\d\\d\\d.\\d\\d\\d.\\d\\d\\d\\d')\n",
    "matches = pattern.finditer(text_to_search)\n",
    "for match in matches:\n",
    "    print(match)"
   ]
  },
  {
   "cell_type": "markdown",
   "metadata": {},
   "source": [
    "see the below matches all the phone number from the data_for_regex_parse.txt file"
   ]
  },
  {
   "cell_type": "code",
   "execution_count": 21,
   "metadata": {},
   "outputs": [
    {
     "name": "stdout",
     "output_type": "stream",
     "text": [
      "<re.Match object; span=(12, 24), match='615-555-7164'>\n",
      "<re.Match object; span=(102, 114), match='800-555-5669'>\n",
      "<re.Match object; span=(191, 203), match='560-555-5153'>\n",
      "<re.Match object; span=(281, 293), match='900-555-9340'>\n",
      "<re.Match object; span=(378, 390), match='714-555-7405'>\n",
      "<re.Match object; span=(467, 479), match='800-555-6771'>\n",
      "<re.Match object; span=(557, 569), match='783-555-4799'>\n",
      "<re.Match object; span=(647, 659), match='516-555-4615'>\n",
      "<re.Match object; span=(740, 752), match='127-555-1867'>\n",
      "<re.Match object; span=(831, 843), match='608-555-4938'>\n",
      "<re.Match object; span=(917, 929), match='568-555-6051'>\n",
      "<re.Match object; span=(1005, 1017), match='292-555-1875'>\n",
      "<re.Match object; span=(1093, 1105), match='900-555-3205'>\n",
      "<re.Match object; span=(1182, 1194), match='614-555-1166'>\n",
      "<re.Match object; span=(1273, 1285), match='530-555-2676'>\n",
      "<re.Match object; span=(1359, 1371), match='470-555-2750'>\n",
      "<re.Match object; span=(1443, 1455), match='800-555-6089'>\n",
      "<re.Match object; span=(1530, 1542), match='880-555-8319'>\n",
      "<re.Match object; span=(1618, 1630), match='777-555-8378'>\n",
      "<re.Match object; span=(1701, 1713), match='998-555-7385'>\n",
      "<re.Match object; span=(1794, 1806), match='800-555-7100'>\n",
      "<re.Match object; span=(1878, 1890), match='903-555-8277'>\n",
      "<re.Match object; span=(1966, 1978), match='196-555-5674'>\n",
      "<re.Match object; span=(2055, 2067), match='900-555-5118'>\n",
      "<re.Match object; span=(2139, 2151), match='905-555-1630'>\n",
      "<re.Match object; span=(2220, 2232), match='203-555-3475'>\n",
      "<re.Match object; span=(2304, 2316), match='884-555-8444'>\n",
      "<re.Match object; span=(2391, 2403), match='904-555-8559'>\n",
      "<re.Match object; span=(2479, 2491), match='889-555-7393'>\n",
      "<re.Match object; span=(2566, 2578), match='195-555-2405'>\n",
      "<re.Match object; span=(2651, 2663), match='321-555-9053'>\n",
      "<re.Match object; span=(2738, 2750), match='133-555-1711'>\n",
      "<re.Match object; span=(2830, 2842), match='900-555-5428'>\n",
      "<re.Match object; span=(2919, 2931), match='760-555-7147'>\n",
      "<re.Match object; span=(3018, 3030), match='391-555-6621'>\n",
      "<re.Match object; span=(3109, 3121), match='932-555-7724'>\n",
      "<re.Match object; span=(3198, 3210), match='609-555-7908'>\n",
      "<re.Match object; span=(3290, 3302), match='800-555-8810'>\n",
      "<re.Match object; span=(3378, 3390), match='149-555-7657'>\n",
      "<re.Match object; span=(3458, 3470), match='130-555-9709'>\n",
      "<re.Match object; span=(3541, 3553), match='143-555-9295'>\n",
      "<re.Match object; span=(3630, 3642), match='903-555-9878'>\n",
      "<re.Match object; span=(3720, 3732), match='574-555-3194'>\n",
      "<re.Match object; span=(3808, 3820), match='496-555-7533'>\n",
      "<re.Match object; span=(3893, 3905), match='210-555-3757'>\n",
      "<re.Match object; span=(3977, 3989), match='900-555-9598'>\n",
      "<re.Match object; span=(4062, 4074), match='866-555-9844'>\n",
      "<re.Match object; span=(4146, 4158), match='669-555-7159'>\n",
      "<re.Match object; span=(4231, 4243), match='152-555-7417'>\n",
      "<re.Match object; span=(4323, 4335), match='893-555-9832'>\n",
      "<re.Match object; span=(4413, 4425), match='217-555-7123'>\n",
      "<re.Match object; span=(4504, 4516), match='786-555-6544'>\n",
      "<re.Match object; span=(4594, 4606), match='780-555-2574'>\n",
      "<re.Match object; span=(4682, 4694), match='926-555-8735'>\n",
      "<re.Match object; span=(4768, 4780), match='895-555-3539'>\n",
      "<re.Match object; span=(4865, 4877), match='874-555-3949'>\n",
      "<re.Match object; span=(4951, 4963), match='800-555-2420'>\n",
      "<re.Match object; span=(5040, 5052), match='936-555-6340'>\n",
      "<re.Match object; span=(5129, 5141), match='372-555-9809'>\n",
      "<re.Match object; span=(5216, 5228), match='890-555-5618'>\n",
      "<re.Match object; span=(5298, 5310), match='670-555-3005'>\n",
      "<re.Match object; span=(5388, 5400), match='509-555-5997'>\n",
      "<re.Match object; span=(5481, 5493), match='721-555-5632'>\n",
      "<re.Match object; span=(5572, 5584), match='900-555-3567'>\n",
      "<re.Match object; span=(5662, 5674), match='147-555-6830'>\n",
      "<re.Match object; span=(5751, 5763), match='582-555-3426'>\n",
      "<re.Match object; span=(5836, 5848), match='400-555-1706'>\n",
      "<re.Match object; span=(5927, 5939), match='525-555-1793'>\n",
      "<re.Match object; span=(6017, 6029), match='317-555-6700'>\n",
      "<re.Match object; span=(6105, 6117), match='974-555-8301'>\n",
      "<re.Match object; span=(6195, 6207), match='800-555-3216'>\n",
      "<re.Match object; span=(6281, 6293), match='746-555-4094'>\n",
      "<re.Match object; span=(6368, 6380), match='922-555-1773'>\n",
      "<re.Match object; span=(6453, 6465), match='711-555-4427'>\n",
      "<re.Match object; span=(6538, 6550), match='355-555-1872'>\n",
      "<re.Match object; span=(6627, 6639), match='852-555-6521'>\n",
      "<re.Match object; span=(6719, 6731), match='691-555-5773'>\n",
      "<re.Match object; span=(6811, 6823), match='332-555-5441'>\n",
      "<re.Match object; span=(6897, 6909), match='900-555-7755'>\n",
      "<re.Match object; span=(6979, 6991), match='379-555-3685'>\n",
      "<re.Match object; span=(7069, 7081), match='127-555-9682'>\n",
      "<re.Match object; span=(7160, 7172), match='789-555-7032'>\n",
      "<re.Match object; span=(7251, 7263), match='783-555-5135'>\n",
      "<re.Match object; span=(7344, 7356), match='315-555-6507'>\n",
      "<re.Match object; span=(7435, 7447), match='481-555-5835'>\n",
      "<re.Match object; span=(7523, 7535), match='365-555-8287'>\n",
      "<re.Match object; span=(7615, 7627), match='911-555-7535'>\n",
      "<re.Match object; span=(7701, 7713), match='681-555-2460'>\n",
      "<re.Match object; span=(7787, 7799), match='274-555-9800'>\n",
      "<re.Match object; span=(7872, 7884), match='800-555-1372'>\n",
      "<re.Match object; span=(7961, 7973), match='300-555-7821'>\n",
      "<re.Match object; span=(8051, 8063), match='133-555-3889'>\n",
      "<re.Match object; span=(8139, 8151), match='705-555-6863'>\n",
      "<re.Match object; span=(8228, 8240), match='215-555-9449'>\n",
      "<re.Match object; span=(8319, 8331), match='988-555-6112'>\n",
      "<re.Match object; span=(8405, 8417), match='623-555-3006'>\n",
      "<re.Match object; span=(8489, 8501), match='192-555-4977'>\n",
      "<re.Match object; span=(8574, 8586), match='178-555-4899'>\n",
      "<re.Match object; span=(8658, 8670), match='952-555-3089'>\n",
      "<re.Match object; span=(8751, 8763), match='900-555-6426'>\n"
     ]
    }
   ],
   "source": [
    "with open(\"data_for_regex_parse.txt\",\"r\",errors=\"ignore\") as fread:\n",
    "    content = fread.read()\n",
    "    pattern = re.compile(r'\\d\\d\\d.\\d\\d\\d.\\d\\d\\d\\d')\n",
    "    matches = pattern.finditer(content)\n",
    "    for match in matches:\n",
    "        print(match)\n",
    "    "
   ]
  },
  {
   "cell_type": "markdown",
   "metadata": {},
   "source": [
    "we can use a char set within []----->[]      - Matches Characters in brackets"
   ]
  },
  {
   "cell_type": "code",
   "execution_count": 22,
   "metadata": {},
   "outputs": [
    {
     "name": "stdout",
     "output_type": "stream",
     "text": [
      "<re.Match object; span=(153, 165), match='516-384-7374'>\n",
      "<re.Match object; span=(166, 178), match='516.996.4945'>\n",
      "<re.Match object; span=(179, 191), match='321*123*4567'>\n",
      "<re.Match object; span=(192, 204), match='800-123-4567'>\n",
      "<re.Match object; span=(205, 217), match='800*123*4567'>\n",
      "<re.Match object; span=(218, 230), match='900.123.4567'>\n"
     ]
    }
   ],
   "source": [
    "pattern_new = re.compile(r'\\d\\d\\d[-.*]\\d\\d\\d[-.*]\\d\\d\\d\\d')\n",
    "matches = pattern_new.finditer(text_to_search)\n",
    "for match in matches:\n",
    "    print(match)"
   ]
  },
  {
   "cell_type": "markdown",
   "metadata": {},
   "source": [
    "lets say we want to match only 800 and 900 numbers"
   ]
  },
  {
   "cell_type": "code",
   "execution_count": 23,
   "metadata": {},
   "outputs": [
    {
     "name": "stdout",
     "output_type": "stream",
     "text": [
      "<re.Match object; span=(192, 204), match='800-123-4567'>\n",
      "<re.Match object; span=(205, 217), match='800*123*4567'>\n",
      "<re.Match object; span=(218, 230), match='900.123.4567'>\n"
     ]
    }
   ],
   "source": [
    "pattern_new = re.compile(r'[89]00[-.*]\\d\\d\\d[-.*]\\d\\d\\d\\d')\n",
    "matches = pattern_new.finditer(text_to_search)\n",
    "for match in matches:\n",
    "    print(match)"
   ]
  },
  {
   "cell_type": "code",
   "execution_count": 24,
   "metadata": {},
   "outputs": [
    {
     "name": "stdout",
     "output_type": "stream",
     "text": [
      "<re.Match object; span=(102, 114), match='800-555-5669'>\n",
      "<re.Match object; span=(281, 293), match='900-555-9340'>\n",
      "<re.Match object; span=(467, 479), match='800-555-6771'>\n",
      "<re.Match object; span=(1093, 1105), match='900-555-3205'>\n",
      "<re.Match object; span=(1443, 1455), match='800-555-6089'>\n",
      "<re.Match object; span=(1794, 1806), match='800-555-7100'>\n",
      "<re.Match object; span=(2055, 2067), match='900-555-5118'>\n",
      "<re.Match object; span=(2830, 2842), match='900-555-5428'>\n",
      "<re.Match object; span=(3290, 3302), match='800-555-8810'>\n",
      "<re.Match object; span=(3977, 3989), match='900-555-9598'>\n",
      "<re.Match object; span=(4951, 4963), match='800-555-2420'>\n",
      "<re.Match object; span=(5572, 5584), match='900-555-3567'>\n",
      "<re.Match object; span=(6195, 6207), match='800-555-3216'>\n",
      "<re.Match object; span=(6897, 6909), match='900-555-7755'>\n",
      "<re.Match object; span=(7872, 7884), match='800-555-1372'>\n",
      "<re.Match object; span=(8751, 8763), match='900-555-6426'>\n"
     ]
    }
   ],
   "source": [
    "pattern_new = re.compile(r'[89]00[-.*]\\d\\d\\d[-.*]\\d\\d\\d\\d')\n",
    "matches = pattern_new.finditer(content)\n",
    "for match in matches:\n",
    "    print(match)"
   ]
  },
  {
   "cell_type": "code",
   "execution_count": 25,
   "metadata": {},
   "outputs": [],
   "source": [
    "#match a range of chars btwn 1 and 5 in a patters by using [1-5]"
   ]
  },
  {
   "cell_type": "code",
   "execution_count": 26,
   "metadata": {},
   "outputs": [
    {
     "name": "stdout",
     "output_type": "stream",
     "text": [
      "<re.Match object; span=(53, 54), match='1'>\n",
      "<re.Match object; span=(54, 55), match='2'>\n",
      "<re.Match object; span=(55, 56), match='3'>\n",
      "<re.Match object; span=(56, 57), match='4'>\n",
      "<re.Match object; span=(57, 58), match='5'>\n",
      "<re.Match object; span=(153, 154), match='5'>\n",
      "<re.Match object; span=(154, 155), match='1'>\n",
      "<re.Match object; span=(157, 158), match='3'>\n",
      "<re.Match object; span=(159, 160), match='4'>\n",
      "<re.Match object; span=(162, 163), match='3'>\n",
      "<re.Match object; span=(164, 165), match='4'>\n",
      "<re.Match object; span=(166, 167), match='5'>\n",
      "<re.Match object; span=(167, 168), match='1'>\n",
      "<re.Match object; span=(174, 175), match='4'>\n",
      "<re.Match object; span=(176, 177), match='4'>\n",
      "<re.Match object; span=(177, 178), match='5'>\n",
      "<re.Match object; span=(179, 180), match='3'>\n",
      "<re.Match object; span=(180, 181), match='2'>\n",
      "<re.Match object; span=(181, 182), match='1'>\n",
      "<re.Match object; span=(183, 184), match='1'>\n",
      "<re.Match object; span=(184, 185), match='2'>\n",
      "<re.Match object; span=(185, 186), match='3'>\n",
      "<re.Match object; span=(187, 188), match='4'>\n",
      "<re.Match object; span=(188, 189), match='5'>\n",
      "<re.Match object; span=(196, 197), match='1'>\n",
      "<re.Match object; span=(197, 198), match='2'>\n",
      "<re.Match object; span=(198, 199), match='3'>\n",
      "<re.Match object; span=(200, 201), match='4'>\n",
      "<re.Match object; span=(201, 202), match='5'>\n",
      "<re.Match object; span=(209, 210), match='1'>\n",
      "<re.Match object; span=(210, 211), match='2'>\n",
      "<re.Match object; span=(211, 212), match='3'>\n",
      "<re.Match object; span=(213, 214), match='4'>\n",
      "<re.Match object; span=(214, 215), match='5'>\n",
      "<re.Match object; span=(222, 223), match='1'>\n",
      "<re.Match object; span=(223, 224), match='2'>\n",
      "<re.Match object; span=(224, 225), match='3'>\n",
      "<re.Match object; span=(226, 227), match='4'>\n",
      "<re.Match object; span=(227, 228), match='5'>\n"
     ]
    }
   ],
   "source": [
    "pattern_new = re.compile(r'[1-5]')\n",
    "matches = pattern_new.finditer(text_to_search)\n",
    "for match in matches:\n",
    "    print(match)"
   ]
  },
  {
   "cell_type": "markdown",
   "metadata": {},
   "source": [
    "match lower case a-z"
   ]
  },
  {
   "cell_type": "code",
   "execution_count": 27,
   "metadata": {},
   "outputs": [
    {
     "name": "stdout",
     "output_type": "stream",
     "text": [
      "<re.Match object; span=(1, 2), match='a'>\n",
      "<re.Match object; span=(2, 3), match='b'>\n",
      "<re.Match object; span=(3, 4), match='c'>\n",
      "<re.Match object; span=(4, 5), match='d'>\n",
      "<re.Match object; span=(5, 6), match='e'>\n",
      "<re.Match object; span=(6, 7), match='f'>\n",
      "<re.Match object; span=(7, 8), match='g'>\n",
      "<re.Match object; span=(8, 9), match='h'>\n",
      "<re.Match object; span=(9, 10), match='i'>\n",
      "<re.Match object; span=(10, 11), match='j'>\n",
      "<re.Match object; span=(11, 12), match='k'>\n",
      "<re.Match object; span=(12, 13), match='l'>\n",
      "<re.Match object; span=(13, 14), match='m'>\n",
      "<re.Match object; span=(14, 15), match='n'>\n",
      "<re.Match object; span=(15, 16), match='o'>\n",
      "<re.Match object; span=(16, 17), match='p'>\n",
      "<re.Match object; span=(17, 18), match='q'>\n",
      "<re.Match object; span=(18, 19), match='r'>\n",
      "<re.Match object; span=(19, 20), match='s'>\n",
      "<re.Match object; span=(20, 21), match='t'>\n",
      "<re.Match object; span=(21, 22), match='u'>\n",
      "<re.Match object; span=(22, 23), match='v'>\n",
      "<re.Match object; span=(23, 24), match='w'>\n",
      "<re.Match object; span=(24, 25), match='y'>\n",
      "<re.Match object; span=(25, 26), match='z'>\n",
      "<re.Match object; span=(66, 67), match='a'>\n",
      "<re.Match object; span=(69, 70), match='a'>\n",
      "<re.Match object; span=(71, 72), match='a'>\n",
      "<re.Match object; span=(75, 76), match='e'>\n",
      "<re.Match object; span=(76, 77), match='t'>\n",
      "<re.Match object; span=(77, 78), match='a'>\n",
      "<re.Match object; span=(79, 80), match='h'>\n",
      "<re.Match object; span=(80, 81), match='a'>\n",
      "<re.Match object; span=(81, 82), match='r'>\n",
      "<re.Match object; span=(82, 83), match='a'>\n",
      "<re.Match object; span=(83, 84), match='c'>\n",
      "<re.Match object; span=(84, 85), match='t'>\n",
      "<re.Match object; span=(85, 86), match='e'>\n",
      "<re.Match object; span=(86, 87), match='r'>\n",
      "<re.Match object; span=(87, 88), match='s'>\n",
      "<re.Match object; span=(91, 92), match='e'>\n",
      "<re.Match object; span=(92, 93), match='e'>\n",
      "<re.Match object; span=(93, 94), match='d'>\n",
      "<re.Match object; span=(95, 96), match='t'>\n",
      "<re.Match object; span=(96, 97), match='o'>\n",
      "<re.Match object; span=(98, 99), match='b'>\n",
      "<re.Match object; span=(99, 100), match='e'>\n",
      "<re.Match object; span=(101, 102), match='e'>\n",
      "<re.Match object; span=(102, 103), match='s'>\n",
      "<re.Match object; span=(103, 104), match='c'>\n",
      "<re.Match object; span=(104, 105), match='a'>\n",
      "<re.Match object; span=(105, 106), match='p'>\n",
      "<re.Match object; span=(106, 107), match='e'>\n",
      "<re.Match object; span=(107, 108), match='d'>\n",
      "<re.Match object; span=(140, 141), match='c'>\n",
      "<re.Match object; span=(141, 142), match='o'>\n",
      "<re.Match object; span=(142, 143), match='r'>\n",
      "<re.Match object; span=(143, 144), match='e'>\n",
      "<re.Match object; span=(144, 145), match='y'>\n",
      "<re.Match object; span=(145, 146), match='m'>\n",
      "<re.Match object; span=(146, 147), match='s'>\n",
      "<re.Match object; span=(148, 149), match='c'>\n",
      "<re.Match object; span=(149, 150), match='o'>\n",
      "<re.Match object; span=(150, 151), match='m'>\n",
      "<re.Match object; span=(233, 234), match='r'>\n",
      "<re.Match object; span=(236, 237), match='h'>\n",
      "<re.Match object; span=(237, 238), match='a'>\n",
      "<re.Match object; span=(238, 239), match='e'>\n",
      "<re.Match object; span=(239, 240), match='f'>\n",
      "<re.Match object; span=(240, 241), match='e'>\n",
      "<re.Match object; span=(241, 242), match='r'>\n",
      "<re.Match object; span=(244, 245), match='r'>\n",
      "<re.Match object; span=(247, 248), match='h'>\n",
      "<re.Match object; span=(248, 249), match='o'>\n",
      "<re.Match object; span=(249, 250), match='s'>\n",
      "<re.Match object; span=(250, 251), match='h'>\n",
      "<re.Match object; span=(253, 254), match='s'>\n",
      "<re.Match object; span=(256, 257), match='a'>\n",
      "<re.Match object; span=(257, 258), match='v'>\n",
      "<re.Match object; span=(258, 259), match='i'>\n",
      "<re.Match object; span=(259, 260), match='s'>\n",
      "<re.Match object; span=(262, 263), match='r'>\n",
      "<re.Match object; span=(263, 264), match='s'>\n",
      "<re.Match object; span=(267, 268), match='o'>\n",
      "<re.Match object; span=(268, 269), match='b'>\n",
      "<re.Match object; span=(269, 270), match='i'>\n",
      "<re.Match object; span=(270, 271), match='n'>\n",
      "<re.Match object; span=(271, 272), match='s'>\n",
      "<re.Match object; span=(272, 273), match='o'>\n",
      "<re.Match object; span=(273, 274), match='n'>\n",
      "<re.Match object; span=(276, 277), match='r'>\n",
      "<re.Match object; span=(282, 283), match='c'>\n",
      "<re.Match object; span=(283, 284), match='a'>\n",
      "<re.Match object; span=(284, 285), match='t'>\n",
      "<re.Match object; span=(286, 287), match='m'>\n",
      "<re.Match object; span=(287, 288), match='a'>\n",
      "<re.Match object; span=(288, 289), match='t'>\n",
      "<re.Match object; span=(290, 291), match='p'>\n",
      "<re.Match object; span=(291, 292), match='a'>\n",
      "<re.Match object; span=(292, 293), match='t'>\n",
      "<re.Match object; span=(294, 295), match='b'>\n",
      "<re.Match object; span=(295, 296), match='a'>\n",
      "<re.Match object; span=(296, 297), match='t'>\n"
     ]
    }
   ],
   "source": [
    "pattern_new = re.compile(r'[a-z]')\n",
    "matches = pattern_new.finditer(text_to_search)\n",
    "for match in matches:\n",
    "    print(match)"
   ]
  },
  {
   "cell_type": "markdown",
   "metadata": {},
   "source": [
    "match upper case and lower case letters"
   ]
  },
  {
   "cell_type": "code",
   "execution_count": 28,
   "metadata": {},
   "outputs": [
    {
     "name": "stdout",
     "output_type": "stream",
     "text": [
      "<re.Match object; span=(1, 2), match='a'>\n",
      "<re.Match object; span=(2, 3), match='b'>\n",
      "<re.Match object; span=(3, 4), match='c'>\n",
      "<re.Match object; span=(4, 5), match='d'>\n",
      "<re.Match object; span=(5, 6), match='e'>\n",
      "<re.Match object; span=(6, 7), match='f'>\n",
      "<re.Match object; span=(7, 8), match='g'>\n",
      "<re.Match object; span=(8, 9), match='h'>\n",
      "<re.Match object; span=(9, 10), match='i'>\n",
      "<re.Match object; span=(10, 11), match='j'>\n",
      "<re.Match object; span=(11, 12), match='k'>\n",
      "<re.Match object; span=(12, 13), match='l'>\n",
      "<re.Match object; span=(13, 14), match='m'>\n",
      "<re.Match object; span=(14, 15), match='n'>\n",
      "<re.Match object; span=(15, 16), match='o'>\n",
      "<re.Match object; span=(16, 17), match='p'>\n",
      "<re.Match object; span=(17, 18), match='q'>\n",
      "<re.Match object; span=(18, 19), match='r'>\n",
      "<re.Match object; span=(19, 20), match='s'>\n",
      "<re.Match object; span=(20, 21), match='t'>\n",
      "<re.Match object; span=(21, 22), match='u'>\n",
      "<re.Match object; span=(22, 23), match='v'>\n",
      "<re.Match object; span=(23, 24), match='w'>\n",
      "<re.Match object; span=(24, 25), match='y'>\n",
      "<re.Match object; span=(25, 26), match='z'>\n",
      "<re.Match object; span=(27, 28), match='A'>\n",
      "<re.Match object; span=(28, 29), match='B'>\n",
      "<re.Match object; span=(29, 30), match='C'>\n",
      "<re.Match object; span=(30, 31), match='D'>\n",
      "<re.Match object; span=(31, 32), match='E'>\n",
      "<re.Match object; span=(32, 33), match='F'>\n",
      "<re.Match object; span=(33, 34), match='G'>\n",
      "<re.Match object; span=(34, 35), match='H'>\n",
      "<re.Match object; span=(35, 36), match='I'>\n",
      "<re.Match object; span=(36, 37), match='J'>\n",
      "<re.Match object; span=(37, 38), match='K'>\n",
      "<re.Match object; span=(38, 39), match='L'>\n",
      "<re.Match object; span=(39, 40), match='M'>\n",
      "<re.Match object; span=(40, 41), match='N'>\n",
      "<re.Match object; span=(41, 42), match='O'>\n",
      "<re.Match object; span=(42, 43), match='P'>\n",
      "<re.Match object; span=(43, 44), match='Q'>\n",
      "<re.Match object; span=(44, 45), match='R'>\n",
      "<re.Match object; span=(45, 46), match='S'>\n",
      "<re.Match object; span=(46, 47), match='T'>\n",
      "<re.Match object; span=(47, 48), match='U'>\n",
      "<re.Match object; span=(48, 49), match='V'>\n",
      "<re.Match object; span=(49, 50), match='W'>\n",
      "<re.Match object; span=(50, 51), match='Y'>\n",
      "<re.Match object; span=(51, 52), match='Z'>\n",
      "<re.Match object; span=(65, 66), match='H'>\n",
      "<re.Match object; span=(66, 67), match='a'>\n",
      "<re.Match object; span=(68, 69), match='H'>\n",
      "<re.Match object; span=(69, 70), match='a'>\n",
      "<re.Match object; span=(70, 71), match='H'>\n",
      "<re.Match object; span=(71, 72), match='a'>\n",
      "<re.Match object; span=(74, 75), match='M'>\n",
      "<re.Match object; span=(75, 76), match='e'>\n",
      "<re.Match object; span=(76, 77), match='t'>\n",
      "<re.Match object; span=(77, 78), match='a'>\n",
      "<re.Match object; span=(78, 79), match='C'>\n",
      "<re.Match object; span=(79, 80), match='h'>\n",
      "<re.Match object; span=(80, 81), match='a'>\n",
      "<re.Match object; span=(81, 82), match='r'>\n",
      "<re.Match object; span=(82, 83), match='a'>\n",
      "<re.Match object; span=(83, 84), match='c'>\n",
      "<re.Match object; span=(84, 85), match='t'>\n",
      "<re.Match object; span=(85, 86), match='e'>\n",
      "<re.Match object; span=(86, 87), match='r'>\n",
      "<re.Match object; span=(87, 88), match='s'>\n",
      "<re.Match object; span=(90, 91), match='N'>\n",
      "<re.Match object; span=(91, 92), match='e'>\n",
      "<re.Match object; span=(92, 93), match='e'>\n",
      "<re.Match object; span=(93, 94), match='d'>\n",
      "<re.Match object; span=(95, 96), match='t'>\n",
      "<re.Match object; span=(96, 97), match='o'>\n",
      "<re.Match object; span=(98, 99), match='b'>\n",
      "<re.Match object; span=(99, 100), match='e'>\n",
      "<re.Match object; span=(101, 102), match='e'>\n",
      "<re.Match object; span=(102, 103), match='s'>\n",
      "<re.Match object; span=(103, 104), match='c'>\n",
      "<re.Match object; span=(104, 105), match='a'>\n",
      "<re.Match object; span=(105, 106), match='p'>\n",
      "<re.Match object; span=(106, 107), match='e'>\n",
      "<re.Match object; span=(107, 108), match='d'>\n",
      "<re.Match object; span=(140, 141), match='c'>\n",
      "<re.Match object; span=(141, 142), match='o'>\n",
      "<re.Match object; span=(142, 143), match='r'>\n",
      "<re.Match object; span=(143, 144), match='e'>\n",
      "<re.Match object; span=(144, 145), match='y'>\n",
      "<re.Match object; span=(145, 146), match='m'>\n",
      "<re.Match object; span=(146, 147), match='s'>\n",
      "<re.Match object; span=(148, 149), match='c'>\n",
      "<re.Match object; span=(149, 150), match='o'>\n",
      "<re.Match object; span=(150, 151), match='m'>\n",
      "<re.Match object; span=(232, 233), match='M'>\n",
      "<re.Match object; span=(233, 234), match='r'>\n",
      "<re.Match object; span=(235, 236), match='S'>\n",
      "<re.Match object; span=(236, 237), match='h'>\n",
      "<re.Match object; span=(237, 238), match='a'>\n",
      "<re.Match object; span=(238, 239), match='e'>\n",
      "<re.Match object; span=(239, 240), match='f'>\n",
      "<re.Match object; span=(240, 241), match='e'>\n",
      "<re.Match object; span=(241, 242), match='r'>\n",
      "<re.Match object; span=(243, 244), match='M'>\n",
      "<re.Match object; span=(244, 245), match='r'>\n",
      "<re.Match object; span=(246, 247), match='G'>\n",
      "<re.Match object; span=(247, 248), match='h'>\n",
      "<re.Match object; span=(248, 249), match='o'>\n",
      "<re.Match object; span=(249, 250), match='s'>\n",
      "<re.Match object; span=(250, 251), match='h'>\n",
      "<re.Match object; span=(252, 253), match='M'>\n",
      "<re.Match object; span=(253, 254), match='s'>\n",
      "<re.Match object; span=(255, 256), match='D'>\n",
      "<re.Match object; span=(256, 257), match='a'>\n",
      "<re.Match object; span=(257, 258), match='v'>\n",
      "<re.Match object; span=(258, 259), match='i'>\n",
      "<re.Match object; span=(259, 260), match='s'>\n",
      "<re.Match object; span=(261, 262), match='M'>\n",
      "<re.Match object; span=(262, 263), match='r'>\n",
      "<re.Match object; span=(263, 264), match='s'>\n",
      "<re.Match object; span=(266, 267), match='R'>\n",
      "<re.Match object; span=(267, 268), match='o'>\n",
      "<re.Match object; span=(268, 269), match='b'>\n",
      "<re.Match object; span=(269, 270), match='i'>\n",
      "<re.Match object; span=(270, 271), match='n'>\n",
      "<re.Match object; span=(271, 272), match='s'>\n",
      "<re.Match object; span=(272, 273), match='o'>\n",
      "<re.Match object; span=(273, 274), match='n'>\n",
      "<re.Match object; span=(275, 276), match='M'>\n",
      "<re.Match object; span=(276, 277), match='r'>\n",
      "<re.Match object; span=(279, 280), match='T'>\n",
      "<re.Match object; span=(282, 283), match='c'>\n",
      "<re.Match object; span=(283, 284), match='a'>\n",
      "<re.Match object; span=(284, 285), match='t'>\n",
      "<re.Match object; span=(286, 287), match='m'>\n",
      "<re.Match object; span=(287, 288), match='a'>\n",
      "<re.Match object; span=(288, 289), match='t'>\n",
      "<re.Match object; span=(290, 291), match='p'>\n",
      "<re.Match object; span=(291, 292), match='a'>\n",
      "<re.Match object; span=(292, 293), match='t'>\n",
      "<re.Match object; span=(294, 295), match='b'>\n",
      "<re.Match object; span=(295, 296), match='a'>\n",
      "<re.Match object; span=(296, 297), match='t'>\n"
     ]
    }
   ],
   "source": [
    "pattern_new = re.compile(r'[a-zA-Z]')\n",
    "matches = pattern_new.finditer(text_to_search)\n",
    "for match in matches:\n",
    "    print(match)"
   ]
  },
  {
   "cell_type": "markdown",
   "metadata": {},
   "source": [
    "^ matches the beginning of the string but within a range of char if ^ is placed it matches everything except the chars range"
   ]
  },
  {
   "cell_type": "code",
   "execution_count": 29,
   "metadata": {},
   "outputs": [
    {
     "name": "stdout",
     "output_type": "stream",
     "text": [
      "<re.Match object; span=(0, 1), match='\\n'>\n",
      "<re.Match object; span=(26, 27), match='\\n'>\n",
      "<re.Match object; span=(52, 53), match='\\n'>\n",
      "<re.Match object; span=(53, 54), match='1'>\n",
      "<re.Match object; span=(54, 55), match='2'>\n",
      "<re.Match object; span=(55, 56), match='3'>\n",
      "<re.Match object; span=(56, 57), match='4'>\n",
      "<re.Match object; span=(57, 58), match='5'>\n",
      "<re.Match object; span=(58, 59), match='6'>\n",
      "<re.Match object; span=(59, 60), match='7'>\n",
      "<re.Match object; span=(60, 61), match='8'>\n",
      "<re.Match object; span=(61, 62), match='9'>\n",
      "<re.Match object; span=(62, 63), match='0'>\n",
      "<re.Match object; span=(63, 64), match='\\n'>\n",
      "<re.Match object; span=(64, 65), match='\\n'>\n",
      "<re.Match object; span=(67, 68), match=' '>\n",
      "<re.Match object; span=(72, 73), match='\\n'>\n",
      "<re.Match object; span=(73, 74), match='\\n'>\n",
      "<re.Match object; span=(88, 89), match=' '>\n",
      "<re.Match object; span=(89, 90), match='('>\n",
      "<re.Match object; span=(94, 95), match=' '>\n",
      "<re.Match object; span=(97, 98), match=' '>\n",
      "<re.Match object; span=(100, 101), match=' '>\n",
      "<re.Match object; span=(108, 109), match=')'>\n",
      "<re.Match object; span=(109, 110), match=':'>\n",
      "<re.Match object; span=(110, 111), match='\\n'>\n",
      "<re.Match object; span=(111, 112), match='.'>\n",
      "<re.Match object; span=(112, 113), match=' '>\n",
      "<re.Match object; span=(113, 114), match='^'>\n",
      "<re.Match object; span=(114, 115), match=' '>\n",
      "<re.Match object; span=(115, 116), match='$'>\n",
      "<re.Match object; span=(116, 117), match=' '>\n",
      "<re.Match object; span=(117, 118), match='*'>\n",
      "<re.Match object; span=(118, 119), match=' '>\n",
      "<re.Match object; span=(119, 120), match='+'>\n",
      "<re.Match object; span=(120, 121), match=' '>\n",
      "<re.Match object; span=(121, 122), match='?'>\n",
      "<re.Match object; span=(122, 123), match=' '>\n",
      "<re.Match object; span=(123, 124), match='{'>\n",
      "<re.Match object; span=(124, 125), match=' '>\n",
      "<re.Match object; span=(125, 126), match='}'>\n",
      "<re.Match object; span=(126, 127), match=' '>\n",
      "<re.Match object; span=(127, 128), match='['>\n",
      "<re.Match object; span=(128, 129), match=' '>\n",
      "<re.Match object; span=(129, 130), match=']'>\n",
      "<re.Match object; span=(130, 131), match=' '>\n",
      "<re.Match object; span=(131, 132), match='\\\\'>\n",
      "<re.Match object; span=(132, 133), match=' '>\n",
      "<re.Match object; span=(133, 134), match='|'>\n",
      "<re.Match object; span=(134, 135), match=' '>\n",
      "<re.Match object; span=(135, 136), match='('>\n",
      "<re.Match object; span=(136, 137), match=' '>\n",
      "<re.Match object; span=(137, 138), match=')'>\n",
      "<re.Match object; span=(138, 139), match='\\n'>\n",
      "<re.Match object; span=(139, 140), match='\\n'>\n",
      "<re.Match object; span=(147, 148), match='.'>\n",
      "<re.Match object; span=(151, 152), match='\\n'>\n",
      "<re.Match object; span=(152, 153), match='\\n'>\n",
      "<re.Match object; span=(153, 154), match='5'>\n",
      "<re.Match object; span=(154, 155), match='1'>\n",
      "<re.Match object; span=(155, 156), match='6'>\n",
      "<re.Match object; span=(156, 157), match='-'>\n",
      "<re.Match object; span=(157, 158), match='3'>\n",
      "<re.Match object; span=(158, 159), match='8'>\n",
      "<re.Match object; span=(159, 160), match='4'>\n",
      "<re.Match object; span=(160, 161), match='-'>\n",
      "<re.Match object; span=(161, 162), match='7'>\n",
      "<re.Match object; span=(162, 163), match='3'>\n",
      "<re.Match object; span=(163, 164), match='7'>\n",
      "<re.Match object; span=(164, 165), match='4'>\n",
      "<re.Match object; span=(165, 166), match='\\n'>\n",
      "<re.Match object; span=(166, 167), match='5'>\n",
      "<re.Match object; span=(167, 168), match='1'>\n",
      "<re.Match object; span=(168, 169), match='6'>\n",
      "<re.Match object; span=(169, 170), match='.'>\n",
      "<re.Match object; span=(170, 171), match='9'>\n",
      "<re.Match object; span=(171, 172), match='9'>\n",
      "<re.Match object; span=(172, 173), match='6'>\n",
      "<re.Match object; span=(173, 174), match='.'>\n",
      "<re.Match object; span=(174, 175), match='4'>\n",
      "<re.Match object; span=(175, 176), match='9'>\n",
      "<re.Match object; span=(176, 177), match='4'>\n",
      "<re.Match object; span=(177, 178), match='5'>\n",
      "<re.Match object; span=(178, 179), match='\\n'>\n",
      "<re.Match object; span=(179, 180), match='3'>\n",
      "<re.Match object; span=(180, 181), match='2'>\n",
      "<re.Match object; span=(181, 182), match='1'>\n",
      "<re.Match object; span=(182, 183), match='*'>\n",
      "<re.Match object; span=(183, 184), match='1'>\n",
      "<re.Match object; span=(184, 185), match='2'>\n",
      "<re.Match object; span=(185, 186), match='3'>\n",
      "<re.Match object; span=(186, 187), match='*'>\n",
      "<re.Match object; span=(187, 188), match='4'>\n",
      "<re.Match object; span=(188, 189), match='5'>\n",
      "<re.Match object; span=(189, 190), match='6'>\n",
      "<re.Match object; span=(190, 191), match='7'>\n",
      "<re.Match object; span=(191, 192), match='\\n'>\n",
      "<re.Match object; span=(192, 193), match='8'>\n",
      "<re.Match object; span=(193, 194), match='0'>\n",
      "<re.Match object; span=(194, 195), match='0'>\n",
      "<re.Match object; span=(195, 196), match='-'>\n",
      "<re.Match object; span=(196, 197), match='1'>\n",
      "<re.Match object; span=(197, 198), match='2'>\n",
      "<re.Match object; span=(198, 199), match='3'>\n",
      "<re.Match object; span=(199, 200), match='-'>\n",
      "<re.Match object; span=(200, 201), match='4'>\n",
      "<re.Match object; span=(201, 202), match='5'>\n",
      "<re.Match object; span=(202, 203), match='6'>\n",
      "<re.Match object; span=(203, 204), match='7'>\n",
      "<re.Match object; span=(204, 205), match='\\n'>\n",
      "<re.Match object; span=(205, 206), match='8'>\n",
      "<re.Match object; span=(206, 207), match='0'>\n",
      "<re.Match object; span=(207, 208), match='0'>\n",
      "<re.Match object; span=(208, 209), match='*'>\n",
      "<re.Match object; span=(209, 210), match='1'>\n",
      "<re.Match object; span=(210, 211), match='2'>\n",
      "<re.Match object; span=(211, 212), match='3'>\n",
      "<re.Match object; span=(212, 213), match='*'>\n",
      "<re.Match object; span=(213, 214), match='4'>\n",
      "<re.Match object; span=(214, 215), match='5'>\n",
      "<re.Match object; span=(215, 216), match='6'>\n",
      "<re.Match object; span=(216, 217), match='7'>\n",
      "<re.Match object; span=(217, 218), match='\\n'>\n",
      "<re.Match object; span=(218, 219), match='9'>\n",
      "<re.Match object; span=(219, 220), match='0'>\n",
      "<re.Match object; span=(220, 221), match='0'>\n",
      "<re.Match object; span=(221, 222), match='.'>\n",
      "<re.Match object; span=(222, 223), match='1'>\n",
      "<re.Match object; span=(223, 224), match='2'>\n",
      "<re.Match object; span=(224, 225), match='3'>\n",
      "<re.Match object; span=(225, 226), match='.'>\n",
      "<re.Match object; span=(226, 227), match='4'>\n",
      "<re.Match object; span=(227, 228), match='5'>\n",
      "<re.Match object; span=(228, 229), match='6'>\n",
      "<re.Match object; span=(229, 230), match='7'>\n",
      "<re.Match object; span=(230, 231), match='\\n'>\n",
      "<re.Match object; span=(231, 232), match='\\n'>\n",
      "<re.Match object; span=(234, 235), match='.'>\n",
      "<re.Match object; span=(242, 243), match='\\n'>\n",
      "<re.Match object; span=(245, 246), match=' '>\n",
      "<re.Match object; span=(251, 252), match='\\n'>\n",
      "<re.Match object; span=(254, 255), match=' '>\n",
      "<re.Match object; span=(260, 261), match='\\n'>\n",
      "<re.Match object; span=(264, 265), match='.'>\n",
      "<re.Match object; span=(265, 266), match=' '>\n",
      "<re.Match object; span=(274, 275), match='\\n'>\n",
      "<re.Match object; span=(277, 278), match='.'>\n",
      "<re.Match object; span=(278, 279), match=' '>\n",
      "<re.Match object; span=(280, 281), match='\\n'>\n",
      "<re.Match object; span=(281, 282), match='\\n'>\n",
      "<re.Match object; span=(285, 286), match='\\n'>\n",
      "<re.Match object; span=(289, 290), match='\\n'>\n",
      "<re.Match object; span=(293, 294), match='\\n'>\n",
      "<re.Match object; span=(297, 298), match='\\n'>\n",
      "<re.Match object; span=(298, 299), match='\\n'>\n"
     ]
    }
   ],
   "source": [
    "pattern_new = re.compile(r'[^a-zA-Z]')\n",
    "matches = pattern_new.finditer(text_to_search)\n",
    "for match in matches:\n",
    "    print(match)"
   ]
  },
  {
   "cell_type": "markdown",
   "metadata": {},
   "source": [
    "we want to match all words that end in 'at' except bat\n",
    "cat\n",
    "mat\n",
    "pat\n",
    "bat"
   ]
  },
  {
   "cell_type": "code",
   "execution_count": 30,
   "metadata": {},
   "outputs": [
    {
     "name": "stdout",
     "output_type": "stream",
     "text": [
      "<re.Match object; span=(282, 285), match='cat'>\n",
      "<re.Match object; span=(286, 289), match='mat'>\n",
      "<re.Match object; span=(290, 293), match='pat'>\n"
     ]
    }
   ],
   "source": [
    "pattern_new = re.compile(r'[^b]at')\n",
    "matches = pattern_new.finditer(text_to_search)\n",
    "for match in matches:\n",
    "    print(match)"
   ]
  },
  {
   "cell_type": "markdown",
   "metadata": {},
   "source": [
    "we can use quantifiers to match more than one characters at once"
   ]
  },
  {
   "cell_type": "code",
   "execution_count": 31,
   "metadata": {},
   "outputs": [],
   "source": [
    "#Quantifiers:\n",
    " # * matches      - 0 or More\n",
    " # +       - 1 or More\n",
    "#?       - 0 or One\n",
    "#{3}     - Exact Number\n",
    "#{3,4}   - Range of Numbers (Minimum, Maximum)"
   ]
  },
  {
   "cell_type": "code",
   "execution_count": 32,
   "metadata": {},
   "outputs": [
    {
     "name": "stdout",
     "output_type": "stream",
     "text": [
      "<re.Match object; span=(153, 165), match='516-384-7374'>\n",
      "<re.Match object; span=(166, 178), match='516.996.4945'>\n",
      "<re.Match object; span=(179, 191), match='321*123*4567'>\n",
      "<re.Match object; span=(192, 204), match='800-123-4567'>\n",
      "<re.Match object; span=(205, 217), match='800*123*4567'>\n",
      "<re.Match object; span=(218, 230), match='900.123.4567'>\n"
     ]
    }
   ],
   "source": [
    "pattern_new = re.compile(r'\\d{3}[-.*]\\d{3}[-.*]\\d{4}')\n",
    "matches = pattern_new.finditer(text_to_search)\n",
    "for match in matches:\n",
    "    print(match)"
   ]
  },
  {
   "cell_type": "markdown",
   "metadata": {},
   "source": [
    "sometimes we dont know the exact number so we cant use {}, for example the prefix, some with mr, some with mrs, some with ms\n",
    "Mr.Shaefer\n",
    "Mr Ghosh\n",
    "Ms Davis\n",
    "Mrs. Robinson\n",
    "Mr. T\n",
    "\n",
    "if we want a pattern to match the name after mr,mrs, ms, we will have to use --- *  matches - 0 or More OR\n",
    "+    matches   - 1 or More"
   ]
  },
  {
   "cell_type": "code",
   "execution_count": 34,
   "metadata": {},
   "outputs": [
    {
     "name": "stdout",
     "output_type": "stream",
     "text": [
      "<re.Match object; span=(232, 235), match='Mr.'>\n",
      "<re.Match object; span=(243, 246), match='Mr '>\n",
      "<re.Match object; span=(261, 264), match='Mrs'>\n",
      "<re.Match object; span=(275, 278), match='Mr.'>\n"
     ]
    }
   ],
   "source": [
    "pattern_new = re.compile(r'Mr.')\n",
    "matches = pattern_new.finditer(text_to_search)\n",
    "for match in matches:\n",
    "    print(match)"
   ]
  },
  {
   "cell_type": "code",
   "execution_count": 35,
   "metadata": {},
   "outputs": [
    {
     "name": "stdout",
     "output_type": "stream",
     "text": [
      "<re.Match object; span=(232, 235), match='Mr.'>\n",
      "<re.Match object; span=(275, 278), match='Mr.'>\n"
     ]
    }
   ],
   "source": [
    "#or see the diff\n",
    "pattern_new = re.compile(r'Mr\\.')\n",
    "matches = pattern_new.finditer(text_to_search)\n",
    "for match in matches:\n",
    "    print(match)"
   ]
  },
  {
   "cell_type": "code",
   "execution_count": 36,
   "metadata": {},
   "outputs": [
    {
     "name": "stdout",
     "output_type": "stream",
     "text": [
      "<re.Match object; span=(232, 235), match='Mr.'>\n",
      "<re.Match object; span=(243, 245), match='Mr'>\n",
      "<re.Match object; span=(261, 263), match='Mr'>\n",
      "<re.Match object; span=(275, 278), match='Mr.'>\n"
     ]
    }
   ],
   "source": [
    "#or\n",
    "#or see the diff\n",
    "pattern_new = re.compile(r'Mr\\.?')\n",
    "matches = pattern_new.finditer(text_to_search)\n",
    "for match in matches:\n",
    "    print(match)"
   ]
  },
  {
   "cell_type": "code",
   "execution_count": 37,
   "metadata": {},
   "outputs": [
    {
     "name": "stdout",
     "output_type": "stream",
     "text": [
      "<re.Match object; span=(232, 236), match='Mr.S'>\n",
      "<re.Match object; span=(261, 264), match='Mrs'>\n"
     ]
    }
   ],
   "source": [
    "pattern_new = re.compile(r'Mr\\.?[A-z]')\n",
    "matches = pattern_new.finditer(text_to_search)\n",
    "for match in matches:\n",
    "    print(match)\n",
    "    \n",
    "#This only matches the first upper case char with Mr ...but we have to match the whole name    "
   ]
  },
  {
   "cell_type": "code",
   "execution_count": 41,
   "metadata": {},
   "outputs": [
    {
     "name": "stdout",
     "output_type": "stream",
     "text": [
      "<re.Match object; span=(243, 251), match='Mr Ghosh'>\n",
      "<re.Match object; span=(275, 280), match='Mr. T'>\n"
     ]
    }
   ],
   "source": [
    "#\\w    mathches  - Word Character (a-z, A-Z, 0-9, _)\n",
    "#\\s      - Whitespace (space, tab, newline)\n",
    "#?       - 0 or One quantifiers\n",
    "#*       - 0 or More\n",
    "pattern_new = re.compile(r'Mr\\.?\\s[A-Z]\\w*')\n",
    "matches = pattern_new.finditer(text_to_search)\n",
    "for match in matches:\n",
    "    print(match)\n",
    "    "
   ]
  },
  {
   "cell_type": "code",
   "execution_count": 42,
   "metadata": {},
   "outputs": [
    {
     "name": "stdout",
     "output_type": "stream",
     "text": [
      "<re.Match object; span=(243, 251), match='Mr Ghosh'>\n",
      "<re.Match object; span=(252, 260), match='Ms Davis'>\n",
      "<re.Match object; span=(261, 274), match='Mrs. Robinson'>\n",
      "<re.Match object; span=(275, 280), match='Mr. T'>\n"
     ]
    }
   ],
   "source": [
    "#but we have to match the ms and mrs also\n",
    "# to do that we have to use a group..to create a group we use ()\n",
    "#( )     - Group\n",
    "#|       - Either Or r|s|rs\n",
    "pattern_new = re.compile(r'M(r|s|rs)\\.?\\s[A-Z]\\w*')\n",
    "matches = pattern_new.finditer(text_to_search)\n",
    "for match in matches:\n",
    "    print(match)"
   ]
  },
  {
   "cell_type": "code",
   "execution_count": 87,
   "metadata": {},
   "outputs": [
    {
     "name": "stdout",
     "output_type": "stream",
     "text": [
      "<re.Match object; span=(1, 15), match='CoreyMShaefer@'>\n",
      "<re.Match object; span=(25, 40), match='corey.schaefer@'>\n",
      "<re.Match object; span=(55, 74), match='corey-321-schaefer@'>\n"
     ]
    }
   ],
   "source": [
    "emails = '''\n",
    "CoreyMShaefer@gmail.com\n",
    "corey.schaefer@university.edu\n",
    "corey-321-schaefer@my-work.net'''\n",
    "\n",
    "#lets write a regular expression that will match all of these emails\n",
    "\n",
    "pattern_new = re.compile(r'[a-zA-Z0-9.-]+@[a-zA-Z0-9-]+\\.(com|edu|net)')\n",
    "matches = pattern_new.finditer(emails)\n",
    "for match in matches:\n",
    "    print(match)"
   ]
  },
  {
   "cell_type": "code",
   "execution_count": 54,
   "metadata": {},
   "outputs": [
    {
     "name": "stdout",
     "output_type": "stream",
     "text": [
      "<re.Match object; span=(1, 24), match='CoreyMShaefer@gmail.com'>\n",
      "<re.Match object; span=(25, 54), match='corey.schaefer@university.edu'>\n",
      "<re.Match object; span=(55, 85), match='corey-321-schaefer@my-work.net'>\n"
     ]
    }
   ],
   "source": [
    "#or\n",
    "\n",
    "pattern_new = re.compile(r'[a-zA-Z0-9_.+-]+@[a-zA-Z0-9-]+\\.[a-zA-Z0-9-.]+')\n",
    "matches = pattern_new.finditer(emails)\n",
    "for match in matches:\n",
    "    print(match)"
   ]
  },
  {
   "cell_type": "markdown",
   "metadata": {},
   "source": [
    "how to capture information from groups"
   ]
  },
  {
   "cell_type": "code",
   "execution_count": 80,
   "metadata": {},
   "outputs": [
    {
     "name": "stdout",
     "output_type": "stream",
     "text": [
      "<re.Match object; span=(1, 23), match='https://www.google.com'>\n",
      "<re.Match object; span=(24, 42), match='http://coreyms.com'>\n",
      "<re.Match object; span=(43, 62), match='https://youtube.com'>\n",
      "<re.Match object; span=(63, 83), match='https://www.nasa.gov'>\n"
     ]
    }
   ],
   "source": [
    "urls = '''\n",
    "https://www.google.com\n",
    "http://coreyms.com\n",
    "https://youtube.com\n",
    "https://www.nasa.gov\n",
    "'''\n",
    "\n",
    "#lets say we want to match the domain names like google.com, nasa.gov etc...\n",
    "\n",
    "pattern_new = re.compile(r'https?\\://[a-zA-Z0-9-]+\\.[a-zA-Z.]+')\n",
    "matches = pattern_new.finditer(urls)\n",
    "for match in matches:\n",
    "    print(match)"
   ]
  },
  {
   "cell_type": "code",
   "execution_count": 81,
   "metadata": {},
   "outputs": [
    {
     "name": "stdout",
     "output_type": "stream",
     "text": [
      "<re.Match object; span=(1, 23), match='https://www.google.com'>\n",
      "<re.Match object; span=(24, 42), match='http://coreyms.com'>\n",
      "<re.Match object; span=(43, 62), match='https://youtube.com'>\n",
      "<re.Match object; span=(63, 83), match='https://www.nasa.gov'>\n"
     ]
    }
   ],
   "source": [
    "# or\n",
    "\n",
    "#here group1 is option www -- (www\\.)?\n",
    "#group2 is domain name (\\w+)\n",
    "#group3 is .net/.com etc (\\.\\w+)\n",
    "#group0 is evenrything -- the entire url\n",
    "\n",
    "pattern_new = re.compile(r'https?\\://(www\\.)?(\\w+)(\\.\\w+)')\n",
    "matches = pattern_new.finditer(urls)\n",
    "for match in matches:\n",
    "    print(match)"
   ]
  },
  {
   "cell_type": "code",
   "execution_count": 73,
   "metadata": {},
   "outputs": [
    {
     "name": "stdout",
     "output_type": "stream",
     "text": [
      "https://www.google.comhttp\n",
      "www.\n",
      "google\n",
      ".comhttp\n",
      "---------------------------\n",
      "https://youtube.comhttps\n",
      "None\n",
      "youtube\n",
      ".comhttps\n",
      "---------------------------\n"
     ]
    }
   ],
   "source": [
    "#using the group method\n",
    "pattern_new = re.compile(r'https?\\://(www\\.)?(\\w+)(\\.\\w+)')\n",
    "matches = pattern_new.finditer(urls)\n",
    "for match in matches:\n",
    "    print(match.group(0))\n",
    "    print(match.group(1))\n",
    "    print(match.group(2))\n",
    "    print(match.group(3))\n",
    "    print(\"---------------------------\")"
   ]
  },
  {
   "cell_type": "code",
   "execution_count": 74,
   "metadata": {},
   "outputs": [],
   "source": [
    "#now we want to extract only the domain name\n",
    "#so we have to substitue the entire url with just the domain name...eg. google.com etc...\n",
    "# sub()"
   ]
  },
  {
   "cell_type": "code",
   "execution_count": 77,
   "metadata": {},
   "outputs": [
    {
     "data": {
      "text/plain": [
       "'\\ngoogle.comhttp://coreyms.comyoutube.comhttps://www.nasa.gov\\n'"
      ]
     },
     "execution_count": 77,
     "metadata": {},
     "output_type": "execute_result"
    }
   ],
   "source": [
    "pattern_new = re.compile(r'https?\\://(www\\.)?(\\w+)(\\.\\w+)')\n",
    "subbed_urls = pattern_new.sub(r'\\2\\3',urls)\n",
    "subbed_urls"
   ]
  },
  {
   "cell_type": "markdown",
   "metadata": {},
   "source": [
    "FINDALL --- \n",
    "findall will just return the matches of only the group and nothing else vs. finditer returns matches with extra info\n",
    "example:"
   ]
  },
  {
   "cell_type": "code",
   "execution_count": 79,
   "metadata": {},
   "outputs": [
    {
     "name": "stdout",
     "output_type": "stream",
     "text": [
      "Mr\n",
      "Ms\n",
      "Mrs\n",
      "Mr\n"
     ]
    }
   ],
   "source": [
    "pattern_new = re.compile(r'(Mr|Ms|Mrs)\\.?\\s[A-Z]\\w*')\n",
    "matches = pattern_new.findall(text_to_search)\n",
    "for match in matches:\n",
    "    print(match)"
   ]
  },
  {
   "cell_type": "markdown",
   "metadata": {},
   "source": [
    "if there are no groups then findall returns the entire string, example:"
   ]
  },
  {
   "cell_type": "code",
   "execution_count": 82,
   "metadata": {},
   "outputs": [
    {
     "name": "stdout",
     "output_type": "stream",
     "text": [
      "https://www.google.com\n",
      "http://coreyms.com\n",
      "https://youtube.com\n",
      "https://www.nasa.gov\n"
     ]
    }
   ],
   "source": [
    "pattern_new = re.compile(r'https?\\://[a-zA-Z0-9-]+\\.[a-zA-Z.]+')\n",
    "matches = pattern_new.findall(urls)\n",
    "for match in matches:\n",
    "    print(match)"
   ]
  },
  {
   "cell_type": "markdown",
   "metadata": {},
   "source": [
    "Method  method will match if the regular expresssion matches at the beginning of the string. it doesnt return a iterable like findall or finditer, it returns like the first match"
   ]
  },
  {
   "cell_type": "code",
   "execution_count": 84,
   "metadata": {},
   "outputs": [
    {
     "data": {
      "text/plain": [
       "<re.Match object; span=(0, 5), match='Start'>"
      ]
     },
     "execution_count": 84,
     "metadata": {},
     "output_type": "execute_result"
    }
   ],
   "source": [
    "pattern = re.compile(r'^Start')\n",
    "matches = pattern.match(sentence)\n",
    "matches"
   ]
  },
  {
   "cell_type": "markdown",
   "metadata": {},
   "source": [
    "if we want to match other parts of the sentence then use search method"
   ]
  },
  {
   "cell_type": "code",
   "execution_count": 85,
   "metadata": {},
   "outputs": [
    {
     "data": {
      "text/plain": [
       "<re.Match object; span=(8, 16), match='sentence'>"
      ]
     },
     "execution_count": 85,
     "metadata": {},
     "output_type": "execute_result"
    }
   ],
   "source": [
    "pattern = re.compile(r'sentence')\n",
    "matches = pattern.search(sentence)\n",
    "matches"
   ]
  },
  {
   "cell_type": "markdown",
   "metadata": {},
   "source": [
    "Using flags in regex"
   ]
  },
  {
   "cell_type": "markdown",
   "metadata": {},
   "source": [
    "lets say we want to match a word - upper case lower case or a mixture or both"
   ]
  },
  {
   "cell_type": "code",
   "execution_count": 86,
   "metadata": {},
   "outputs": [
    {
     "data": {
      "text/plain": [
       "<re.Match object; span=(0, 5), match='Start'>"
      ]
     },
     "execution_count": 86,
     "metadata": {},
     "output_type": "execute_result"
    }
   ],
   "source": [
    "# uing ignorecase flag\n",
    "pattern = re.compile(r'start',re.I)\n",
    "matches = pattern.match(sentence)\n",
    "matches"
   ]
  },
  {
   "cell_type": "code",
   "execution_count": 1,
   "metadata": {},
   "outputs": [],
   "source": []
  },
  {
   "cell_type": "code",
   "execution_count": null,
   "metadata": {},
   "outputs": [],
   "source": [
    "    "
   ]
  }
 ],
 "metadata": {
  "kernelspec": {
   "display_name": "Python 3",
   "language": "python",
   "name": "python3"
  },
  "language_info": {
   "codemirror_mode": {
    "name": "ipython",
    "version": 3
   },
   "file_extension": ".py",
   "mimetype": "text/x-python",
   "name": "python",
   "nbconvert_exporter": "python",
   "pygments_lexer": "ipython3",
   "version": "3.7.6"
  }
 },
 "nbformat": 4,
 "nbformat_minor": 4
}
