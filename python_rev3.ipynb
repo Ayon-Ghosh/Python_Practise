{
 "cells": [
  {
   "cell_type": "markdown",
   "metadata": {},
   "source": [
    "<h1>Functions and OOPs</h1>\n",
    "\n",
    "CS: https://www.youtube.com/watch?v=K8L6KVGG-7o&list=PL-osiE80TeTt2d9bfVyTiXJA-UTHn6WwU&index=30"
   ]
  },
  {
   "cell_type": "markdown",
   "metadata": {},
   "source": [
    "Classes and Instances"
   ]
  },
  {
   "cell_type": "code",
   "execution_count": 1,
   "metadata": {},
   "outputs": [
    {
     "name": "stdout",
     "output_type": "stream",
     "text": [
      "<__main__.Employee object at 0x000001F50BA77B08>\n",
      "<__main__.Employee object at 0x000001F50BA77B48>\n"
     ]
    }
   ],
   "source": [
    "class Employee:\n",
    "    pass\n",
    "\n",
    "\n",
    "emp1 = Employee()\n",
    "emp2 = Employee()\n",
    "#emp1 and emp2 are instances of class -Employee\n",
    "print(emp1)\n",
    "print(emp2)"
   ]
  },
  {
   "cell_type": "markdown",
   "metadata": {},
   "source": [
    "instance variable are attributes/variables unique to a specific instance of a class\n",
    "exmples of instance variables below"
   ]
  },
  {
   "cell_type": "code",
   "execution_count": 2,
   "metadata": {},
   "outputs": [
    {
     "name": "stdout",
     "output_type": "stream",
     "text": [
      "ayon.ghosh@company.com\n",
      "Test.User@company.com\n"
     ]
    }
   ],
   "source": [
    "emp1.first = 'Ayon'\n",
    "emp1.last = 'Ghosh'\n",
    "emp1.email = 'ayon.ghosh@company.com'\n",
    "emp1.pay = 50000\n",
    "\n",
    "emp2.first = 'Test'\n",
    "emp2.last = 'User'\n",
    "emp2.email = 'Test.User@company.com'\n",
    "emp2.pay = 60000\n",
    "\n",
    "print(emp1.email)\n",
    "print(emp2.email)"
   ]
  },
  {
   "cell_type": "markdown",
   "metadata": {},
   "source": [
    "now using the class init method so we dont have to create instance variables"
   ]
  },
  {
   "cell_type": "code",
   "execution_count": 3,
   "metadata": {},
   "outputs": [
    {
     "name": "stdout",
     "output_type": "stream",
     "text": [
      "Ayon.Ghosh@company.com\n",
      "Test.User@company.com\n"
     ]
    }
   ],
   "source": [
    "class Employee:\n",
    "    def __init__(self,first,last,pay):\n",
    "        self.first = first\n",
    "        self.last = last\n",
    "        self.pay = pay\n",
    "        self.email = first+'.'+ last +'@company.com'       \n",
    "       \n",
    "        \n",
    "        \n",
    "emp1 = Employee('Ayon','Ghosh',50000)   \n",
    "emp2 = Employee('Test','User',60000)  \n",
    "print(emp1.email)\n",
    "print(emp2.email)"
   ]
  },
  {
   "cell_type": "markdown",
   "metadata": {},
   "source": [
    "we can do the full name for each employee by"
   ]
  },
  {
   "cell_type": "code",
   "execution_count": 5,
   "metadata": {},
   "outputs": [
    {
     "name": "stdout",
     "output_type": "stream",
     "text": [
      "Ayon Ghosh\n",
      "Test User\n"
     ]
    }
   ],
   "source": [
    "print(f\"{emp1.first} {emp1.last}\")\n",
    "print(f\"{emp2.first} {emp2.last}\")"
   ]
  },
  {
   "cell_type": "markdown",
   "metadata": {},
   "source": [
    "Or we can print the full name ny a method"
   ]
  },
  {
   "cell_type": "code",
   "execution_count": 6,
   "metadata": {},
   "outputs": [
    {
     "name": "stdout",
     "output_type": "stream",
     "text": [
      "Ayon Ghosh\n"
     ]
    }
   ],
   "source": [
    "class Employee:\n",
    "    def __init__(self,first,last,pay):\n",
    "        self.first = first\n",
    "        self.last = last\n",
    "        self.pay = pay\n",
    "        self.email = first+'.'+ last +'@company.com'    \n",
    "        self.full_name = first +\" \" + last\n",
    "       \n",
    "emp1 = Employee('Ayon','Ghosh',50000) \n",
    "print(emp1.full_name)"
   ]
  },
  {
   "cell_type": "markdown",
   "metadata": {},
   "source": [
    "using a class method"
   ]
  },
  {
   "cell_type": "code",
   "execution_count": 8,
   "metadata": {},
   "outputs": [
    {
     "name": "stdout",
     "output_type": "stream",
     "text": [
      "Jon Doe\n",
      "Jon.Doe@company.com\n"
     ]
    }
   ],
   "source": [
    "class Employee:\n",
    "    def __init__(self,first,last,pay):\n",
    "        self.first = first\n",
    "        self.last = last\n",
    "        self.pay = pay\n",
    "        self.email = first+'.'+ last +'@company.com'  \n",
    "        \n",
    "    def full_name(self):\n",
    "        return f\"{self.first} {self.last}\"\n",
    "    \n",
    "emp3 = Employee('Jon','Doe',70000)   \n",
    "print(emp3.full_name())\n",
    "print(emp3.email)"
   ]
  },
  {
   "cell_type": "markdown",
   "metadata": {},
   "source": [
    "instead of calling the class method on the instance we can use the class and method itsle. It will give the same result, Below"
   ]
  },
  {
   "cell_type": "code",
   "execution_count": 9,
   "metadata": {},
   "outputs": [
    {
     "data": {
      "text/plain": [
       "'Ayon Ghosh'"
      ]
     },
     "execution_count": 9,
     "metadata": {},
     "output_type": "execute_result"
    }
   ],
   "source": [
    "Employee.full_name(emp1)\n",
    "#same as emp2.full_name()"
   ]
  },
  {
   "cell_type": "markdown",
   "metadata": {},
   "source": [
    "Class Variables"
   ]
  },
  {
   "cell_type": "markdown",
   "metadata": {},
   "source": [
    "class variables are data that is shared by all employees such as anual raises for all employees"
   ]
  },
  {
   "cell_type": "markdown",
   "metadata": {},
   "source": [
    "first let hard code the raise and see why class variable will be a better use case"
   ]
  },
  {
   "cell_type": "code",
   "execution_count": 10,
   "metadata": {},
   "outputs": [
    {
     "name": "stdout",
     "output_type": "stream",
     "text": [
      "72800.0\n"
     ]
    }
   ],
   "source": [
    "class Employee:\n",
    "    def __init__(self,first,last,pay):\n",
    "        self.first = first\n",
    "        self.last = last\n",
    "        self.pay = pay\n",
    "        self.email = first+'.'+ last +'@company.com'  \n",
    "        \n",
    "    def full_name(self):\n",
    "        return f\"{self.first} {self.last}\"\n",
    "    \n",
    "    def apply_raise(self):\n",
    "        return self.pay*1.04\n",
    "    \n",
    "emp3 = Employee('Jon','Doe',70000)   \n",
    "print(emp3.apply_raise())\n",
    "\n",
    "#by doing this we cannot access the raise amount by\n",
    "#emp1.raise_amount\n",
    "#or\n",
    "#Employee.raise_amount\n",
    "#because it is hidden and hard coded in a class method"
   ]
  },
  {
   "cell_type": "markdown",
   "metadata": {},
   "source": [
    "now lets use a class variable"
   ]
  },
  {
   "cell_type": "code",
   "execution_count": 15,
   "metadata": {},
   "outputs": [
    {
     "name": "stdout",
     "output_type": "stream",
     "text": [
      "83200.0\n",
      "1.04\n",
      "1.04\n"
     ]
    }
   ],
   "source": [
    "class Employee:\n",
    "    \n",
    "    raise_amount = 1.04\n",
    "    def __init__(self,first,last,pay):\n",
    "        self.first = first\n",
    "        self.last = last\n",
    "        self.pay = pay\n",
    "        self.email = first+'.'+ last +'@company.com'  \n",
    "        \n",
    "    def full_name(self):\n",
    "        return f\"{self.first} {self.last}\"\n",
    "    \n",
    "    def apply_raise(self):\n",
    "        return self.pay*self.raise_amount\n",
    "        #this is accessing the class variable through instance\n",
    "        #return self.pay*Employee.raise_amount\n",
    "        #the above is accessing the class variable through class\n",
    "    \n",
    "emp4 = Employee('Jon','Doe',80000)   \n",
    "print(emp4.apply_raise()) \n",
    "print(Employee.raise_amount)\n",
    "print(emp4.raise_amount)"
   ]
  },
  {
   "cell_type": "markdown",
   "metadata": {},
   "source": [
    "these instances doesnt have the attribute raise_amount so when we try to print emp4.raise_amount it tries to search first withitn its attributes, oif it doesnt find it it searches in its class or the class it inherits from\n",
    "\n",
    "we can find by printing the namesspace of the instance and the class"
   ]
  },
  {
   "cell_type": "code",
   "execution_count": 16,
   "metadata": {},
   "outputs": [
    {
     "data": {
      "text/plain": [
       "{'first': 'Jon', 'last': 'Doe', 'pay': 80000, 'email': 'Jon.Doe@company.com'}"
      ]
     },
     "execution_count": 16,
     "metadata": {},
     "output_type": "execute_result"
    }
   ],
   "source": [
    "emp4.__dict__"
   ]
  },
  {
   "cell_type": "raw",
   "metadata": {},
   "source": [
    "see the raise amount is not asn attribute in the emp4"
   ]
  },
  {
   "cell_type": "code",
   "execution_count": 17,
   "metadata": {},
   "outputs": [
    {
     "data": {
      "text/plain": [
       "mappingproxy({'__module__': '__main__',\n",
       "              'raise_amount': 1.04,\n",
       "              '__init__': <function __main__.Employee.__init__(self, first, last, pay)>,\n",
       "              'full_name': <function __main__.Employee.full_name(self)>,\n",
       "              'apply_raise': <function __main__.Employee.apply_raise(self)>,\n",
       "              '__dict__': <attribute '__dict__' of 'Employee' objects>,\n",
       "              '__weakref__': <attribute '__weakref__' of 'Employee' objects>,\n",
       "              '__doc__': None})"
      ]
     },
     "execution_count": 17,
     "metadata": {},
     "output_type": "execute_result"
    }
   ],
   "source": [
    "Employee.__dict__"
   ]
  },
  {
   "cell_type": "markdown",
   "metadata": {},
   "source": [
    "see the raise amount is an attribute of Employee"
   ]
  },
  {
   "cell_type": "markdown",
   "metadata": {},
   "source": [
    "now lets set the raise_amount from outside to override the class variable we will see that it changes the raise_amount of the class and the instances"
   ]
  },
  {
   "cell_type": "code",
   "execution_count": 18,
   "metadata": {},
   "outputs": [
    {
     "name": "stdout",
     "output_type": "stream",
     "text": [
      "1.05\n",
      "1.05\n"
     ]
    }
   ],
   "source": [
    "Employee.raise_amount = 1.05\n",
    "print(Employee.raise_amount)\n",
    "print(emp4.raise_amount)"
   ]
  },
  {
   "cell_type": "markdown",
   "metadata": {},
   "source": [
    "now we will set the raise_aount of an instances not the class, see the raise_amount of emp3 and class employee havent changed only em4 has changed"
   ]
  },
  {
   "cell_type": "code",
   "execution_count": 20,
   "metadata": {},
   "outputs": [
    {
     "name": "stdout",
     "output_type": "stream",
     "text": [
      "1.05\n",
      "1.05\n",
      "1.06\n"
     ]
    }
   ],
   "source": [
    "emp4.raise_amount = 1.06\n",
    "print(Employee.raise_amount)\n",
    "emp3 = Employee('Jon','Doe',70000)   \n",
    "print(emp3.raise_amount)\n",
    "print(emp4.raise_amount)"
   ]
  },
  {
   "cell_type": "markdown",
   "metadata": {},
   "source": [
    "Now lets say we want to keep track of the number of employees. no of employes will be the same of all the instances"
   ]
  },
  {
   "cell_type": "code",
   "execution_count": 23,
   "metadata": {},
   "outputs": [],
   "source": [
    "class Employee:\n",
    "    \n",
    "    raise_amount = 1.04\n",
    "    num_of_emps = 0\n",
    "    \n",
    "    def __init__(self,first,last,pay):\n",
    "        self.first = first\n",
    "        self.last = last\n",
    "        self.pay = pay\n",
    "        self.email = first+'.'+ last +'@company.com'  \n",
    "        #we could have written self.num_of_employees but we dont want # or employee to be diff for any instance so bvetter to go with class variable\n",
    "        Employee.num_of_emps = Employee.num_of_emps + 1\n",
    "        \n",
    "    def full_name(self):\n",
    "        return f\"{self.first} {self.last}\"\n",
    "    \n",
    "    def apply_raise(self):\n",
    "        return self.pay*self.raise_amount"
   ]
  },
  {
   "cell_type": "code",
   "execution_count": 24,
   "metadata": {},
   "outputs": [
    {
     "name": "stdout",
     "output_type": "stream",
     "text": [
      "0\n",
      "4\n"
     ]
    }
   ],
   "source": [
    "print(Employee.num_of_emps)\n",
    "emp1 = Employee('A','G',50000)   \n",
    "emp2 = Employee('K','G',60000)   \n",
    "emp3 = Employee('R','G',70000)   \n",
    "emp4 = Employee('S','G',80000)  \n",
    "print(Employee.num_of_emps)"
   ]
  },
  {
   "cell_type": "markdown",
   "metadata": {},
   "source": [
    "regular methods class methods instance methods"
   ]
  },
  {
   "cell_type": "code",
   "execution_count": 27,
   "metadata": {},
   "outputs": [],
   "source": [
    "class Employee:\n",
    "    \n",
    "    raise_amount = 1.04\n",
    "    num_of_emps = 0\n",
    "    \n",
    "    def __init__(self,first,last,pay):\n",
    "        self.first = first\n",
    "        self.last = last\n",
    "        self.pay = pay\n",
    "        self.email = first+'.'+ last +'@company.com'  \n",
    "        #we could have written self.num_of_employees but we dont want # or employee to be diff for any instance so bvetter to go with class variable\n",
    "        Employee.num_of_emps = Employee.num_of_emps + 1\n",
    "        \n",
    "    def full_name(self):\n",
    "        return f\"{self.first} {self.last}\"\n",
    "    \n",
    "    def apply_raise(self):\n",
    "        return self.pay*self.raise_amount\n",
    "    \n",
    "    @classmethod\n",
    "    def set_raise_amt(cls, amt):\n",
    "        cls.raise_amount = amt"
   ]
  },
  {
   "cell_type": "code",
   "execution_count": 28,
   "metadata": {},
   "outputs": [
    {
     "name": "stdout",
     "output_type": "stream",
     "text": [
      "1.05\n",
      "1.05\n",
      "1.05\n"
     ]
    }
   ],
   "source": [
    "Employee.set_raise_amt(1.05)\n",
    "emp1 = Employee('A','G',50000)   \n",
    "emp2 = Employee('K','G',60000)   \n",
    "emp3 = Employee('R','G',70000)   \n",
    "emp4 = Employee('S','G',80000)  \n",
    "print(Employee.raise_amount)\n",
    "print(emp1.raise_amount)\n",
    "print(emp2.raise_amount)"
   ]
  },
  {
   "cell_type": "markdown",
   "metadata": {},
   "source": [
    "class method as alternative constructor means they use class method as mutiple ways to create objects"
   ]
  },
  {
   "cell_type": "markdown",
   "metadata": {},
   "source": [
    "lets say we get employee details as hypenated data we can use a class method to parse instead of doing it for every employee"
   ]
  },
  {
   "cell_type": "code",
   "execution_count": 32,
   "metadata": {},
   "outputs": [
    {
     "data": {
      "text/plain": [
       "'Ban'"
      ]
     },
     "execution_count": 32,
     "metadata": {},
     "output_type": "execute_result"
    }
   ],
   "source": [
    "emp_st_1 = \"Jon-Doe-20000\"\n",
    "emp_st_2 = \"Ayon-Ghosh-30000\"\n",
    "emp_st_3 = \"S-Ban-40000\"\n",
    "\n",
    "#bad process\n",
    "\n",
    "fname,lname,pay = emp_st_3.split('-')\n",
    "\n",
    "new_emp3 = Employee(fname,lname,pay)\n",
    "print(new_emp3.first)\n",
    "print(new_emp3.last)\n",
    "#now we can pass these values to the class for init"
   ]
  },
  {
   "cell_type": "code",
   "execution_count": 39,
   "metadata": {},
   "outputs": [],
   "source": [
    "#instead we can do a class method\n",
    "\n",
    "class Employee:\n",
    "    \n",
    "    raise_amount = 1.04\n",
    "    num_of_emps = 0\n",
    "    \n",
    "    def __init__(self,first,last,pay):\n",
    "        self.first = first\n",
    "        self.last = last\n",
    "        self.pay = pay\n",
    "        self.email = first+'.'+ last +'@company.com'  \n",
    "        #we could have written self.num_of_employees but we dont want # or employee to be diff for any instance so bvetter to go with class variable\n",
    "        Employee.num_of_emps = Employee.num_of_emps + 1\n",
    "        \n",
    "    def full_name(self):\n",
    "        return f\"{self.first} {self.last}\"\n",
    "    \n",
    "    def apply_raise(self):\n",
    "        return self.pay*self.raise_amount\n",
    "    \n",
    "    @classmethod\n",
    "    def set_raise_amt(cls, amt):\n",
    "        cls.raise_amount = amt\n",
    "        \n",
    "    @classmethod\n",
    "    def parse_employee(cls, emp_str):\n",
    "        first,last,pay = emp_str.split('-')\n",
    "        return cls(first,last,pay)\n",
    "         "
   ]
  },
  {
   "cell_type": "code",
   "execution_count": 41,
   "metadata": {},
   "outputs": [
    {
     "name": "stdout",
     "output_type": "stream",
     "text": [
      "Koyel\n",
      "Koyel.Ghosh@company.com\n",
      "Koyel Ghosh\n"
     ]
    }
   ],
   "source": [
    "new_emp4 = Employee.parse_employee('Koyel-Ghosh-10000')\n",
    "print(new_emp4.first)\n",
    "print(new_emp4.email)\n",
    "print(Employee.full_name(new_emp4))"
   ]
  },
  {
   "cell_type": "markdown",
   "metadata": {},
   "source": [
    "static method\n",
    "\n",
    "simple functions that are independant of the clss variables but they have somewhat logical connection with the class\n",
    "for example to find whether a day is a work or not for an employee\n",
    "\n",
    "static method dont take class or self(instance) as the fist argument so we pass the args that we want to work with"
   ]
  },
  {
   "cell_type": "code",
   "execution_count": 60,
   "metadata": {},
   "outputs": [],
   "source": [
    "#instead we can do a class method\n",
    "\n",
    "class Employee:\n",
    "    \n",
    "    raise_amount = 1.04\n",
    "    num_of_emps = 0\n",
    "    \n",
    "    def __init__(self,first,last,pay):\n",
    "        self.first = first\n",
    "        self.last = last\n",
    "        self.pay = pay\n",
    "        self.email = first+'.'+ last +'@company.com'  \n",
    "        #we could have written self.num_of_employees but we dont want # or employee to be diff for any instance so bvetter to go with class variable\n",
    "        Employee.num_of_emps = Employee.num_of_emps + 1\n",
    "        \n",
    "    def full_name(self):\n",
    "        return f\"{self.first} {self.last}\"\n",
    "    \n",
    "    def apply_raise(self):\n",
    "        return self.pay*self.raise_amount\n",
    "    \n",
    "    @classmethod\n",
    "    def set_raise_amt(cls, amt):\n",
    "        cls.raise_amount = amt\n",
    "        \n",
    "    @classmethod\n",
    "    def parse_employee(cls, emp_str):\n",
    "        first,last,pay = emp_str.split('-')\n",
    "        return cls(first,last,pay)\n",
    "    \n",
    "    @staticmethod\n",
    "    def is_workday(day):\n",
    "        if day.weekday() == 5 or day.weekday() == 6:\n",
    "            return False\n",
    "        else:\n",
    "            return True\n",
    "         "
   ]
  },
  {
   "cell_type": "code",
   "execution_count": 43,
   "metadata": {},
   "outputs": [
    {
     "name": "stdout",
     "output_type": "stream",
     "text": [
      "False\n"
     ]
    }
   ],
   "source": [
    "import datetime\n",
    "my_date = datetime.datetime(2016,7,10)\n",
    "print(Employee.is_workday(my_date))"
   ]
  },
  {
   "cell_type": "markdown",
   "metadata": {},
   "source": [
    "inheritance and sub classes\n",
    "\n",
    "create developers and managers classes to inherit from the class employee\n",
    "dev and managers can get the first, last name and pay from employee class\n",
    "\n",
    "dev and managers on top can have their own attributes and methods "
   ]
  },
  {
   "cell_type": "code",
   "execution_count": 45,
   "metadata": {},
   "outputs": [],
   "source": [
    "class developer(Employee):\n",
    "    pass"
   ]
  },
  {
   "cell_type": "code",
   "execution_count": 61,
   "metadata": {},
   "outputs": [
    {
     "name": "stdout",
     "output_type": "stream",
     "text": [
      "A.G@company.com\n",
      "R.G@company.com\n"
     ]
    }
   ],
   "source": [
    "dev_1 = Employee('A','G', 100000)\n",
    "dev_2 = Employee('R','G', 200000)\n",
    "print(dev_1.email)\n",
    "print(dev_2.email)"
   ]
  },
  {
   "cell_type": "code",
   "execution_count": 62,
   "metadata": {},
   "outputs": [
    {
     "name": "stdout",
     "output_type": "stream",
     "text": [
      "A.B@company.com\n",
      "C.D@company.com\n"
     ]
    }
   ],
   "source": [
    "dev_3 = developer('A','B', 100000)\n",
    "dev_4 = developer('C','D', 200000)\n",
    "print(dev_3.email)\n",
    "print(dev_4.email)"
   ]
  },
  {
   "cell_type": "code",
   "execution_count": 55,
   "metadata": {},
   "outputs": [
    {
     "name": "stdout",
     "output_type": "stream",
     "text": [
      "100000\n",
      "104000.0\n"
     ]
    }
   ],
   "source": [
    "print(dev_3.pay)\n",
    "print(dev_3.apply_raise())"
   ]
  },
  {
   "cell_type": "code",
   "execution_count": 50,
   "metadata": {},
   "outputs": [
    {
     "name": "stdout",
     "output_type": "stream",
     "text": [
      "Help on class developer in module __main__:\n",
      "\n",
      "class developer(Employee)\n",
      " |  developer(first, last, pay)\n",
      " |  \n",
      " |  Method resolution order:\n",
      " |      developer\n",
      " |      Employee\n",
      " |      builtins.object\n",
      " |  \n",
      " |  Methods inherited from Employee:\n",
      " |  \n",
      " |  __init__(self, first, last, pay)\n",
      " |      Initialize self.  See help(type(self)) for accurate signature.\n",
      " |  \n",
      " |  apply_raise(self)\n",
      " |  \n",
      " |  full_name(self)\n",
      " |  \n",
      " |  ----------------------------------------------------------------------\n",
      " |  Class methods inherited from Employee:\n",
      " |  \n",
      " |  parse_employee(emp_str) from builtins.type\n",
      " |  \n",
      " |  set_raise_amt(amt) from builtins.type\n",
      " |  \n",
      " |  ----------------------------------------------------------------------\n",
      " |  Static methods inherited from Employee:\n",
      " |  \n",
      " |  is_workday(day)\n",
      " |  \n",
      " |  ----------------------------------------------------------------------\n",
      " |  Data descriptors inherited from Employee:\n",
      " |  \n",
      " |  __dict__\n",
      " |      dictionary for instance variables (if defined)\n",
      " |  \n",
      " |  __weakref__\n",
      " |      list of weak references to the object (if defined)\n",
      " |  \n",
      " |  ----------------------------------------------------------------------\n",
      " |  Data and other attributes inherited from Employee:\n",
      " |  \n",
      " |  num_of_emps = 8\n",
      " |  \n",
      " |  raise_amount = 1.04\n",
      "\n"
     ]
    }
   ],
   "source": [
    "help(developer)"
   ]
  },
  {
   "cell_type": "markdown",
   "metadata": {},
   "source": [
    "customizing our subclass"
   ]
  },
  {
   "cell_type": "code",
   "execution_count": 67,
   "metadata": {},
   "outputs": [
    {
     "name": "stdout",
     "output_type": "stream",
     "text": [
      "100000\n",
      "110000.00000000001\n",
      "200000\n",
      "208000.0\n"
     ]
    }
   ],
   "source": [
    "class developer(Employee):\n",
    "    raise_amount = 1.10\n",
    "    \n",
    "    \n",
    "dev_1 = developer('A','G', 100000)\n",
    "dev_2 = Employee('R','G', 200000)    \n",
    "    \n",
    "    \n",
    "print(dev_1.pay)\n",
    "print(dev_1.apply_raise())    \n",
    "print(dev_2.pay)\n",
    "print(dev_2.apply_raise())    "
   ]
  },
  {
   "cell_type": "code",
   "execution_count": 68,
   "metadata": {},
   "outputs": [
    {
     "name": "stdout",
     "output_type": "stream",
     "text": [
      "A.G@company.com\n",
      "Python\n"
     ]
    }
   ],
   "source": [
    "class developer(Employee):\n",
    "    raise_amount = 1.10\n",
    "    \n",
    "    def __init__(self,first,last,pay, prog_lang):\n",
    "        super().__init__(first,last,pay)\n",
    "        self.prog_lang = prog_lang\n",
    "        \n",
    "        #some also write the above super()...init.. as: Employee.__init__(self,first,last,pay)\n",
    "\n",
    "dev_1 = developer('A','G', 100000, 'Python')\n",
    "dev_2 = developer('R','G', 200000, 'Java')  \n",
    "\n",
    "print(dev_1.email)\n",
    "print(dev_1.prog_lang)"
   ]
  },
  {
   "cell_type": "code",
   "execution_count": 83,
   "metadata": {},
   "outputs": [],
   "source": [
    "class Manager(Employee):\n",
    "    def __init__(self,first,last,pay, emps = None):\n",
    "        super().__init__(first,last,pay)\n",
    "        if emps is None:\n",
    "            self.emps = []\n",
    "        else:\n",
    "            self.emps = emps\n",
    "    \n",
    "    def add_emp(self,emp):\n",
    "        if emp not in self.emps:\n",
    "            self.emps.append(emp)\n",
    "            \n",
    "            \n",
    "    def remove_emp(self,emp):\n",
    "        if emp in self.emps:\n",
    "            self.emps.remove(emp)        \n",
    "            \n",
    "            \n",
    "    def print_emps(self):\n",
    "        for emp in self.emps:\n",
    "            print('--->',emp.full_name())\n",
    "            \n"
   ]
  },
  {
   "cell_type": "code",
   "execution_count": 84,
   "metadata": {},
   "outputs": [
    {
     "name": "stdout",
     "output_type": "stream",
     "text": [
      "sue.smith@company.com\n"
     ]
    }
   ],
   "source": [
    "mg1 = Manager('sue','smith',90000, [dev_1,dev_2,dev_3])\n",
    "print(mg1.email)"
   ]
  },
  {
   "cell_type": "code",
   "execution_count": 85,
   "metadata": {},
   "outputs": [
    {
     "name": "stdout",
     "output_type": "stream",
     "text": [
      "---> A G\n",
      "---> R G\n",
      "---> A B\n",
      "None\n"
     ]
    }
   ],
   "source": [
    "print(mg1.print_emps())"
   ]
  },
  {
   "cell_type": "code",
   "execution_count": 86,
   "metadata": {},
   "outputs": [
    {
     "name": "stdout",
     "output_type": "stream",
     "text": [
      "---> A G\n",
      "---> R G\n",
      "---> A B\n",
      "---> A G\n",
      "None\n"
     ]
    }
   ],
   "source": [
    "dev_5 = developer('A','G', 50000, 'Php')\n",
    "mg1.add_emp(dev_5)\n",
    "print(mg1.print_emps())"
   ]
  },
  {
   "cell_type": "code",
   "execution_count": 87,
   "metadata": {},
   "outputs": [
    {
     "name": "stdout",
     "output_type": "stream",
     "text": [
      "---> A G\n",
      "---> R G\n",
      "---> A B\n",
      "None\n"
     ]
    }
   ],
   "source": [
    "mg1.remove_emp(dev_5)\n",
    "print(mg1.print_emps())"
   ]
  },
  {
   "cell_type": "markdown",
   "metadata": {},
   "source": [
    "isinstance / issubclass"
   ]
  },
  {
   "cell_type": "code",
   "execution_count": 88,
   "metadata": {},
   "outputs": [
    {
     "name": "stdout",
     "output_type": "stream",
     "text": [
      "True\n"
     ]
    }
   ],
   "source": [
    "print(isinstance(mg1,Manager))"
   ]
  },
  {
   "cell_type": "code",
   "execution_count": 89,
   "metadata": {},
   "outputs": [
    {
     "name": "stdout",
     "output_type": "stream",
     "text": [
      "True\n"
     ]
    }
   ],
   "source": [
    "print(isinstance(mg1,Employee))"
   ]
  },
  {
   "cell_type": "code",
   "execution_count": 90,
   "metadata": {},
   "outputs": [
    {
     "name": "stdout",
     "output_type": "stream",
     "text": [
      "False\n"
     ]
    }
   ],
   "source": [
    "print(isinstance(mg1,developer))"
   ]
  },
  {
   "cell_type": "code",
   "execution_count": 92,
   "metadata": {},
   "outputs": [
    {
     "name": "stdout",
     "output_type": "stream",
     "text": [
      "True\n"
     ]
    }
   ],
   "source": [
    "print(issubclass(Manager,Employee))"
   ]
  },
  {
   "cell_type": "code",
   "execution_count": 93,
   "metadata": {},
   "outputs": [
    {
     "name": "stdout",
     "output_type": "stream",
     "text": [
      "True\n"
     ]
    }
   ],
   "source": [
    "print(issubclass(developer,Employee))"
   ]
  },
  {
   "cell_type": "markdown",
   "metadata": {},
   "source": [
    "Magic/dunder Method"
   ]
  },
  {
   "cell_type": "markdown",
   "metadata": {},
   "source": [
    "if we print dev_1 it will give the memory location of dev_1 object"
   ]
  },
  {
   "cell_type": "code",
   "execution_count": 94,
   "metadata": {},
   "outputs": [
    {
     "name": "stdout",
     "output_type": "stream",
     "text": [
      "<__main__.developer object at 0x000001F50BB4F408>\n"
     ]
    }
   ],
   "source": [
    "print(dev_1)"
   ]
  },
  {
   "cell_type": "markdown",
   "metadata": {},
   "source": [
    "we can use special dunder method to print something more meaningful"
   ]
  },
  {
   "cell_type": "markdown",
   "metadata": {},
   "source": [
    "__repr__() and __str()___"
   ]
  },
  {
   "cell_type": "code",
   "execution_count": 95,
   "metadata": {},
   "outputs": [],
   "source": [
    "#instead we can do a class method\n",
    "\n",
    "class Employee:\n",
    "    \n",
    "    raise_amount = 1.04\n",
    "    num_of_emps = 0\n",
    "    \n",
    "    def __init__(self,first,last,pay):\n",
    "        self.first = first\n",
    "        self.last = last\n",
    "        self.pay = pay\n",
    "        self.email = first+'.'+ last +'@company.com'  \n",
    "        #we could have written self.num_of_employees but we dont want # or employee to be diff for any instance so bvetter to go with class variable\n",
    "        Employee.num_of_emps = Employee.num_of_emps + 1\n",
    "        \n",
    "    def __repr__(self):\n",
    "        return f\"{self.first}, {self.last}, {self.pay}\"\n",
    "    \n",
    "    def __str__(self):\n",
    "        return f\"{self.email} --- {self.full_name()}\"\n",
    "        \n",
    "    def full_name(self):\n",
    "        return f\"{self.first} {self.last}\"\n",
    "    \n",
    "    def apply_raise(self):\n",
    "        return self.pay*self.raise_amount\n",
    "    \n",
    "    @classmethod\n",
    "    def set_raise_amt(cls, amt):\n",
    "        cls.raise_amount = amt\n",
    "        \n",
    "    @classmethod\n",
    "    def parse_employee(cls, emp_str):\n",
    "        first,last,pay = emp_str.split('-')\n",
    "        return cls(first,last,pay)\n",
    "    \n",
    "    @staticmethod\n",
    "    def is_workday(day):\n",
    "        if day.weekday() == 5 or day.weekday() == 6:\n",
    "            return False\n",
    "        else:\n",
    "            return True\n",
    "         "
   ]
  },
  {
   "cell_type": "code",
   "execution_count": 97,
   "metadata": {},
   "outputs": [
    {
     "name": "stdout",
     "output_type": "stream",
     "text": [
      "Koyel.Ghosh@company.com --- Koyel Ghosh\n",
      "Koyel, Ghosh, 20000\n"
     ]
    }
   ],
   "source": [
    "test_emp = Employee.parse_employee('Koyel-Ghosh-20000')\n",
    "print(test_emp)\n",
    "print(repr(test_emp))"
   ]
  },
  {
   "cell_type": "markdown",
   "metadata": {},
   "source": [
    "difference between __str__ and __repr__\n",
    "\n",
    "The goal of __repr__ is to be unambigious\n",
    "The goal of __str__ is be readable"
   ]
  },
  {
   "cell_type": "code",
   "execution_count": 104,
   "metadata": {},
   "outputs": [],
   "source": [
    "import datetime\n",
    "import pytz"
   ]
  },
  {
   "cell_type": "code",
   "execution_count": 105,
   "metadata": {},
   "outputs": [
    {
     "data": {
      "text/plain": [
       "datetime.datetime(2021, 3, 5, 23, 21, 55, 79928)"
      ]
     },
     "execution_count": 105,
     "metadata": {},
     "output_type": "execute_result"
    }
   ],
   "source": [
    "a = datetime.datetime.utcnow()\n",
    "a"
   ]
  },
  {
   "cell_type": "code",
   "execution_count": 106,
   "metadata": {},
   "outputs": [
    {
     "data": {
      "text/plain": [
       "'2021-03-05 23:21:55.079928'"
      ]
     },
     "execution_count": 106,
     "metadata": {},
     "output_type": "execute_result"
    }
   ],
   "source": [
    "str(a)"
   ]
  },
  {
   "cell_type": "code",
   "execution_count": 107,
   "metadata": {},
   "outputs": [
    {
     "data": {
      "text/plain": [
       "'datetime.datetime(2021, 3, 5, 23, 21, 55, 79928)'"
      ]
     },
     "execution_count": 107,
     "metadata": {},
     "output_type": "execute_result"
    }
   ],
   "source": [
    "repr(a)"
   ]
  },
  {
   "cell_type": "code",
   "execution_count": 109,
   "metadata": {},
   "outputs": [
    {
     "data": {
      "text/plain": [
       "\"'2021-03-05 23:21:55.079928'\""
      ]
     },
     "execution_count": 109,
     "metadata": {},
     "output_type": "execute_result"
    }
   ],
   "source": [
    "b = str(a)\n",
    "repr(b)"
   ]
  },
  {
   "cell_type": "code",
   "execution_count": 111,
   "metadata": {},
   "outputs": [
    {
     "data": {
      "text/plain": [
       "datetime.datetime(2021, 3, 5, 23, 54, 17, 696583, tzinfo=<UTC>)"
      ]
     },
     "execution_count": 111,
     "metadata": {},
     "output_type": "execute_result"
    }
   ],
   "source": [
    "a = datetime.datetime.utcnow().replace(tzinfo = pytz.UTC)\n",
    "a"
   ]
  },
  {
   "cell_type": "code",
   "execution_count": 112,
   "metadata": {},
   "outputs": [],
   "source": [
    "b = str(a)"
   ]
  },
  {
   "cell_type": "code",
   "execution_count": 114,
   "metadata": {},
   "outputs": [
    {
     "name": "stdout",
     "output_type": "stream",
     "text": [
      "str(a): 2021-03-05 23:54:17.696583+00:00\n",
      "str(b): 2021-03-05 23:54:17.696583+00:00\n"
     ]
    }
   ],
   "source": [
    "print(f\"str(a): {str(a)}\")\n",
    "print(f\"str(b): {str(b)}\")"
   ]
  },
  {
   "cell_type": "code",
   "execution_count": 115,
   "metadata": {},
   "outputs": [
    {
     "name": "stdout",
     "output_type": "stream",
     "text": [
      "repr(a): datetime.datetime(2021, 3, 5, 23, 54, 17, 696583, tzinfo=<UTC>)\n",
      "repr(b): '2021-03-05 23:54:17.696583+00:00'\n"
     ]
    }
   ],
   "source": [
    "print(f\"repr(a): {repr(a)}\")\n",
    "print(f\"repr(b): {repr(b)}\")"
   ]
  },
  {
   "cell_type": "code",
   "execution_count": null,
   "metadata": {},
   "outputs": [],
   "source": []
  }
 ],
 "metadata": {
  "kernelspec": {
   "display_name": "Python 3",
   "language": "python",
   "name": "python3"
  },
  "language_info": {
   "codemirror_mode": {
    "name": "ipython",
    "version": 3
   },
   "file_extension": ".py",
   "mimetype": "text/x-python",
   "name": "python",
   "nbconvert_exporter": "python",
   "pygments_lexer": "ipython3",
   "version": "3.7.6"
  }
 },
 "nbformat": 4,
 "nbformat_minor": 4
}
