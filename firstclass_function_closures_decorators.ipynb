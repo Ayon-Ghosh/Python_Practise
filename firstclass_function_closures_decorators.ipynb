{
 "cells": [
  {
   "cell_type": "markdown",
   "id": "32da2031",
   "metadata": {},
   "source": [
    "# First Class Functions"
   ]
  },
  {
   "cell_type": "markdown",
   "id": "9a4926ba",
   "metadata": {},
   "source": [
    "A first class function in a programming language is in that it treats functions as first class citizens\n",
    "\n",
    "A first class citizens/objects in a programming language is a entity that supprts all operations generally supported by other entities, sich as passed as a argument, returned as function, assigned to a variable etc "
   ]
  },
  {
   "cell_type": "markdown",
   "id": "c18792d5",
   "metadata": {},
   "source": [
    "Examples"
   ]
  },
  {
   "cell_type": "code",
   "execution_count": 1,
   "id": "9046f2ae",
   "metadata": {},
   "outputs": [],
   "source": [
    "#simple function\n",
    "def square(x):\n",
    "    return x*x"
   ]
  },
  {
   "cell_type": "code",
   "execution_count": 2,
   "id": "fa9008a3",
   "metadata": {},
   "outputs": [
    {
     "data": {
      "text/plain": [
       "<function __main__.square(x)>"
      ]
     },
     "execution_count": 2,
     "metadata": {},
     "output_type": "execute_result"
    }
   ],
   "source": [
    "f = square\n",
    "f"
   ]
  },
  {
   "cell_type": "code",
   "execution_count": 3,
   "id": "eff3b532",
   "metadata": {},
   "outputs": [
    {
     "data": {
      "text/plain": [
       "25"
      ]
     },
     "execution_count": 3,
     "metadata": {},
     "output_type": "execute_result"
    }
   ],
   "source": [
    "f(5)"
   ]
  },
  {
   "cell_type": "code",
   "execution_count": 4,
   "id": "2ee2ef1d",
   "metadata": {},
   "outputs": [
    {
     "data": {
      "text/plain": [
       "<function __main__.square(x)>"
      ]
     },
     "execution_count": 4,
     "metadata": {},
     "output_type": "execute_result"
    }
   ],
   "source": [
    "square"
   ]
  },
  {
   "cell_type": "markdown",
   "id": "7e063e15",
   "metadata": {},
   "source": [
    "this is an example of first class function as we treat the variable f as square and pass argument in it. this is an example where we assigned function to a variable"
   ]
  },
  {
   "cell_type": "markdown",
   "id": "2db644b3",
   "metadata": {},
   "source": [
    "the below example will show how to pass function as a argument of another function and return function. A function that accepts other function as argument and returns a function is called a higher order function"
   ]
  },
  {
   "cell_type": "code",
   "execution_count": 12,
   "id": "4ab8327b",
   "metadata": {},
   "outputs": [],
   "source": [
    "def map_func(my_func, arg_list):\n",
    "    result = []\n",
    "    for i in arg_list:\n",
    "        result.append(my_func(i))\n",
    "    return result    \n",
    "    "
   ]
  },
  {
   "cell_type": "code",
   "execution_count": 13,
   "id": "eab5704a",
   "metadata": {},
   "outputs": [
    {
     "data": {
      "text/plain": [
       "[1, 4, 9, 16, 25]"
      ]
     },
     "execution_count": 13,
     "metadata": {},
     "output_type": "execute_result"
    }
   ],
   "source": [
    "map_func(square,[1,2,3,4,5])"
   ]
  },
  {
   "cell_type": "markdown",
   "id": "68802b92",
   "metadata": {},
   "source": [
    "see here it takes square fucntion as argument it is a higher order function. when we passed square function we didnt add the parenthesis bcoz we arenot executing the function, we r executing the function when we r looping thu"
   ]
  },
  {
   "cell_type": "markdown",
   "id": "e4498f0d",
   "metadata": {},
   "source": [
    "Example 2"
   ]
  },
  {
   "cell_type": "code",
   "execution_count": 14,
   "id": "c5e89673",
   "metadata": {},
   "outputs": [],
   "source": [
    "def logger(msg):\n",
    "    def log_message():\n",
    "        print('log: ',msg)\n",
    "    return log_message    "
   ]
  },
  {
   "cell_type": "code",
   "execution_count": 15,
   "id": "19700561",
   "metadata": {},
   "outputs": [
    {
     "data": {
      "text/plain": [
       "<function __main__.logger.<locals>.log_message()>"
      ]
     },
     "execution_count": 15,
     "metadata": {},
     "output_type": "execute_result"
    }
   ],
   "source": [
    "log_hi = logger('hi')\n",
    "log_hi\n",
    "#now log_hi is equal to log_message"
   ]
  },
  {
   "cell_type": "code",
   "execution_count": 16,
   "id": "89e85ab5",
   "metadata": {},
   "outputs": [
    {
     "name": "stdout",
     "output_type": "stream",
     "text": [
      "log:  hi\n"
     ]
    }
   ],
   "source": [
    "#when we now execute it:\n",
    "log_hi()"
   ]
  },
  {
   "cell_type": "markdown",
   "id": "f95c0a41",
   "metadata": {},
   "source": [
    "Example"
   ]
  },
  {
   "cell_type": "code",
   "execution_count": 22,
   "id": "e780a34d",
   "metadata": {},
   "outputs": [],
   "source": [
    "def html_tag(tag):\n",
    "    def wrap_text(msg):\n",
    "        print(f'<{tag}>{msg}</{tag}>')\n",
    "    return wrap_text          "
   ]
  },
  {
   "cell_type": "code",
   "execution_count": 23,
   "id": "4f15a4b2",
   "metadata": {},
   "outputs": [
    {
     "data": {
      "text/plain": [
       "<function __main__.html_tag.<locals>.wrap_text(msg)>"
      ]
     },
     "execution_count": 23,
     "metadata": {},
     "output_type": "execute_result"
    }
   ],
   "source": [
    "tag_hi = html_tag('h1')\n",
    "tag_hi"
   ]
  },
  {
   "cell_type": "code",
   "execution_count": 24,
   "id": "4c7453a7",
   "metadata": {},
   "outputs": [
    {
     "name": "stdout",
     "output_type": "stream",
     "text": [
      "<h1>hello</h1>\n"
     ]
    }
   ],
   "source": [
    "tag_hi('hello')"
   ]
  },
  {
   "cell_type": "code",
   "execution_count": 25,
   "id": "aab0f3ff",
   "metadata": {},
   "outputs": [
    {
     "name": "stdout",
     "output_type": "stream",
     "text": [
      "<h1>my name is Ayon</h1>\n"
     ]
    }
   ],
   "source": [
    "tag_hi('my name is Ayon')"
   ]
  },
  {
   "cell_type": "markdown",
   "id": "78acb14b",
   "metadata": {},
   "source": [
    "# Closures"
   ]
  },
  {
   "cell_type": "markdown",
   "id": "3e884966",
   "metadata": {},
   "source": [
    "A clossure is a inner function that has access to the local variables or free variables in scope and remembers them even if the out function is executed. The closures are inner functions that take advantage of the first class functions by rememebring the variables local to the scope in which they r created."
   ]
  },
  {
   "cell_type": "markdown",
   "id": "702ebc04",
   "metadata": {},
   "source": [
    "wrap text or log message are all closures\n",
    "\n",
    "other examples will be"
   ]
  },
  {
   "cell_type": "code",
   "execution_count": 29,
   "id": "0e8748ea",
   "metadata": {},
   "outputs": [],
   "source": [
    "def outer_func():\n",
    "    message = 'hi'\n",
    "    def inner_func():\n",
    "        print(message)\n",
    "    return inner_func    "
   ]
  },
  {
   "cell_type": "code",
   "execution_count": 27,
   "id": "1ddd76e1",
   "metadata": {},
   "outputs": [
    {
     "data": {
      "text/plain": [
       "<function __main__.outer_func.<locals>.inner_func()>"
      ]
     },
     "execution_count": 27,
     "metadata": {},
     "output_type": "execute_result"
    }
   ],
   "source": [
    "test = outer_func()\n",
    "test"
   ]
  },
  {
   "cell_type": "code",
   "execution_count": 28,
   "id": "3ee98a9b",
   "metadata": {},
   "outputs": [
    {
     "name": "stdout",
     "output_type": "stream",
     "text": [
      "hi\n"
     ]
    }
   ],
   "source": [
    "test()"
   ]
  },
  {
   "cell_type": "markdown",
   "id": "a6632e33",
   "metadata": {},
   "source": [
    "other examples when we pass a parameter"
   ]
  },
  {
   "cell_type": "code",
   "execution_count": 30,
   "id": "de371519",
   "metadata": {},
   "outputs": [],
   "source": [
    "def outer_func(msg):\n",
    "    message = msg\n",
    "    def inner_func():\n",
    "        print(message)\n",
    "    return inner_func    "
   ]
  },
  {
   "cell_type": "code",
   "execution_count": 31,
   "id": "69671c83",
   "metadata": {},
   "outputs": [
    {
     "name": "stdout",
     "output_type": "stream",
     "text": [
      "hi\n",
      "hello\n"
     ]
    }
   ],
   "source": [
    "hi_func = outer_func('hi')\n",
    "hello_func = outer_func('hello')\n",
    "hi_func()\n",
    "hello_func()"
   ]
  },
  {
   "cell_type": "markdown",
   "id": "2ffa22d4",
   "metadata": {},
   "source": [
    "Logging example with closures\n",
    "here the inner function remembers the func passed in the outer function"
   ]
  },
  {
   "cell_type": "code",
   "execution_count": 35,
   "id": "c28141cc",
   "metadata": {},
   "outputs": [
    {
     "data": {
      "text/plain": [
       "<function __main__.logger.<locals>.func_log(*args)>"
      ]
     },
     "execution_count": 35,
     "metadata": {},
     "output_type": "execute_result"
    }
   ],
   "source": [
    "import logging\n",
    "logging.basicConfig(filename ='example.log', level = logging.INFO)\n",
    "\n",
    "def logger(func):\n",
    "    def func_log(*args):\n",
    "        logging.info('Running \"{}\" with argument {}'.format(func.__name__,args))\n",
    "        print(func(*args))\n",
    "    return func_log\n",
    "\n",
    "def add(x,y):\n",
    "    return x+y\n",
    "\n",
    "def sub(x,y):\n",
    "    return x-y\n",
    "\n",
    "add_logger = logger(add)\n",
    "add_logger"
   ]
  },
  {
   "cell_type": "code",
   "execution_count": 36,
   "id": "862332f7",
   "metadata": {},
   "outputs": [
    {
     "name": "stdout",
     "output_type": "stream",
     "text": [
      "5\n"
     ]
    }
   ],
   "source": [
    "add_logger(2,3)"
   ]
  },
  {
   "cell_type": "code",
   "execution_count": 38,
   "id": "0102a12c",
   "metadata": {},
   "outputs": [
    {
     "name": "stdout",
     "output_type": "stream",
     "text": [
      "6\n"
     ]
    }
   ],
   "source": [
    "sub_logger = logger(sub)\n",
    "sub_logger(7,1)"
   ]
  },
  {
   "cell_type": "markdown",
   "id": "ae950270",
   "metadata": {},
   "source": [
    "# Decorators"
   ]
  },
  {
   "cell_type": "markdown",
   "id": "6b5aa8e8",
   "metadata": {},
   "source": [
    "a decorator is a function that takes another function as argument, adds some kind of functionality and return another function all of these without altering the source code of the original function that we passed in as parameter to the outer function"
   ]
  },
  {
   "cell_type": "code",
   "execution_count": 39,
   "id": "93bddcf3",
   "metadata": {},
   "outputs": [],
   "source": [
    "def decorator_function(orginal_function):\n",
    "    def wrapper_function():\n",
    "        return orginal_function()\n",
    "    return wrapper_function"
   ]
  },
  {
   "cell_type": "code",
   "execution_count": 41,
   "id": "a72f89be",
   "metadata": {},
   "outputs": [],
   "source": [
    "def display_function():\n",
    "    print(\"orginal function ran\")"
   ]
  },
  {
   "cell_type": "code",
   "execution_count": 42,
   "id": "4574bc4a",
   "metadata": {},
   "outputs": [
    {
     "data": {
      "text/plain": [
       "<function __main__.decorator_function.<locals>.wrapper_function()>"
      ]
     },
     "execution_count": 42,
     "metadata": {},
     "output_type": "execute_result"
    }
   ],
   "source": [
    "decorator_display = decorator_function(display_function)\n",
    "decorator_display"
   ]
  },
  {
   "cell_type": "code",
   "execution_count": 43,
   "id": "ad13f793",
   "metadata": {},
   "outputs": [
    {
     "name": "stdout",
     "output_type": "stream",
     "text": [
      "orginal function ran\n"
     ]
    }
   ],
   "source": [
    "#now executing the inner function which is the wrapper function\n",
    "decorator_display()"
   ]
  },
  {
   "cell_type": "markdown",
   "id": "2481e12c",
   "metadata": {},
   "source": [
    "now without modifying the existing functionality in any way i can add functionality to the wrapper function"
   ]
  },
  {
   "cell_type": "code",
   "execution_count": 44,
   "id": "8074db16",
   "metadata": {},
   "outputs": [],
   "source": [
    "def decorator_function(orginal_function):\n",
    "    def wrapper_function():\n",
    "        print(\"our wrapper executed this before {}\".format(orginal_function.__name__))\n",
    "        return orginal_function()\n",
    "    return wrapper_function"
   ]
  },
  {
   "cell_type": "code",
   "execution_count": 45,
   "id": "e7e2fa6b",
   "metadata": {},
   "outputs": [
    {
     "data": {
      "text/plain": [
       "<function __main__.decorator_function.<locals>.wrapper_function()>"
      ]
     },
     "execution_count": 45,
     "metadata": {},
     "output_type": "execute_result"
    }
   ],
   "source": [
    "decorator_display = decorator_function(display_function)\n",
    "decorator_display"
   ]
  },
  {
   "cell_type": "code",
   "execution_count": 46,
   "id": "f364cfcd",
   "metadata": {},
   "outputs": [
    {
     "name": "stdout",
     "output_type": "stream",
     "text": [
      "our wrapper executed this before display_function\n",
      "orginal function ran\n"
     ]
    }
   ],
   "source": [
    "#now executing the inner function which is the wrapper function\n",
    "decorator_display()"
   ]
  },
  {
   "cell_type": "code",
   "execution_count": 47,
   "id": "8d9ad414",
   "metadata": {},
   "outputs": [],
   "source": [
    "#this can be written as\n",
    "\n",
    "\n",
    "@decorator_function\n",
    "def display_function():\n",
    "    print(\"orginal function ran\")"
   ]
  },
  {
   "cell_type": "code",
   "execution_count": 50,
   "id": "f242b254",
   "metadata": {},
   "outputs": [
    {
     "name": "stdout",
     "output_type": "stream",
     "text": [
      "our wrapper executed this before display_function\n",
      "orginal function ran\n"
     ]
    }
   ],
   "source": [
    "#@decorator_function means decorator_display = decorator_function(display_function)\n",
    "\n",
    "#so now we dont have to write decorator_display = decorator_function(display_function)\n",
    "\n",
    "#instead we write and it will perform the sanme as \n",
    "#decorator_display = decorator_function(display_function)\n",
    "#decorator_display()\n",
    "\n",
    "display_function()"
   ]
  },
  {
   "cell_type": "code",
   "execution_count": null,
   "id": "d2d2c295",
   "metadata": {},
   "outputs": [],
   "source": [
    "#@decorator_function will not work if the closure function or inner function which is the display_function have any parameters passed\n",
    "\n",
    "#for example the below will throw an error\n",
    "\n",
    "@decorator_function\n",
    "def display_info(name, age):\n",
    "    print(\"orginal info ran with arguments {}, {}\".format(name, age))\n",
    "#the below will throw an error if eecuted\n",
    "\n",
    "display_info(John, 25)"
   ]
  },
  {
   "cell_type": "code",
   "execution_count": 53,
   "id": "589fe0a8",
   "metadata": {},
   "outputs": [
    {
     "name": "stdout",
     "output_type": "stream",
     "text": [
      "our wrapper executed this before display_info\n",
      "orginal info ran with arguments John, 25\n"
     ]
    }
   ],
   "source": [
    "#this we can make it work by passing *args, *kwargs in the wrapper_function\n",
    "\n",
    "def decorator_function(orginal_function):\n",
    "    def wrapper_function(*args,**kwargs):\n",
    "        print(\"our wrapper executed this before {}\".format(orginal_function.__name__))\n",
    "        return orginal_function(*args,**kwargs)\n",
    "    return wrapper_function\n",
    "\n",
    "@decorator_function\n",
    "def display_info(name, age):\n",
    "    print(\"orginal info ran with arguments {}, {}\".format(name, age))\n",
    "#the below will throw an error if eecuted\n",
    "\n",
    "display_info('John', 25)"
   ]
  },
  {
   "cell_type": "code",
   "execution_count": 55,
   "id": "4056d395",
   "metadata": {},
   "outputs": [
    {
     "name": "stdout",
     "output_type": "stream",
     "text": [
      "our wrapper executed this before display_function\n",
      "orginal function ran\n"
     ]
    }
   ],
   "source": [
    "# here we dont even pass args and kwargs\n",
    "@decorator_function\n",
    "def display_function():\n",
    "    print(\"orginal function ran\")\n",
    "display_function()    "
   ]
  },
  {
   "cell_type": "code",
   "execution_count": null,
   "id": "071d474b",
   "metadata": {},
   "outputs": [],
   "source": []
  }
 ],
 "metadata": {
  "kernelspec": {
   "display_name": "Python 3",
   "language": "python",
   "name": "python3"
  },
  "language_info": {
   "codemirror_mode": {
    "name": "ipython",
    "version": 3
   },
   "file_extension": ".py",
   "mimetype": "text/x-python",
   "name": "python",
   "nbconvert_exporter": "python",
   "pygments_lexer": "ipython3",
   "version": "3.7.6"
  }
 },
 "nbformat": 4,
 "nbformat_minor": 5
}
