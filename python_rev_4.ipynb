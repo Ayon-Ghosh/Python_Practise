{
 "cells": [
  {
   "cell_type": "markdown",
   "metadata": {},
   "source": [
    "# Getter Setter Decorators and SQLITE database"
   ]
  },
  {
   "cell_type": "code",
   "execution_count": 4,
   "metadata": {},
   "outputs": [
    {
     "name": "stdout",
     "output_type": "stream",
     "text": [
      "John.Smith@email.com\n",
      "John Smith\n"
     ]
    }
   ],
   "source": [
    "class Employee:\n",
    "    \n",
    "    \n",
    "    \n",
    "    def __init__(self,first,last):\n",
    "        self.first = first\n",
    "        self.last = last\n",
    "        self.email = first+'.'+ last +'@email.com'  \n",
    "        \n",
    "        \n",
    "         \n",
    "    def full_name(self):\n",
    "        return f\"{self.first} {self.last}\"\n",
    "\n",
    "    \n",
    "emp1 = Employee('John','Smith')    \n",
    "print(emp1.email)\n",
    "print(emp1.full_name())"
   ]
  },
  {
   "cell_type": "markdown",
   "metadata": {},
   "source": [
    "now lets set the first name as Jim"
   ]
  },
  {
   "cell_type": "markdown",
   "metadata": {},
   "source": [
    "emp1.first = 'Tim'\n",
    "print(emp1.email)\n",
    "print(emp1.full_name())"
   ]
  },
  {
   "cell_type": "markdown",
   "metadata": {},
   "source": [
    "see the first and last has changed but the email has not changed and if we wanted to Tim to reflect in email then we can set it as a method like fullname. but that would mean changing the code at all places where email is called\n",
    "\n",
    "The solution is to create a method and set it as a property decorater so email will be called as attribute"
   ]
  },
  {
   "cell_type": "code",
   "execution_count": 8,
   "metadata": {},
   "outputs": [
    {
     "name": "stdout",
     "output_type": "stream",
     "text": [
      "Tom.Smith@email.com\n",
      "Tom Smith\n"
     ]
    }
   ],
   "source": [
    "class Employee:\n",
    "    \n",
    "    \n",
    "    \n",
    "    def __init__(self,first,last):\n",
    "        self.first = first\n",
    "        self.last = last\n",
    "    \n",
    "    @property\n",
    "    def email(self):    \n",
    "        return f\"{self.first}.{self.last}@email.com\"\n",
    "        \n",
    "        \n",
    "         \n",
    "    def full_name(self):\n",
    "        return f\"{self.first} {self.last}\"\n",
    "\n",
    "emp1 = Employee('John','Smith')        \n",
    "emp1.first = 'Tom'    \n",
    "print(emp1.email)\n",
    "print(emp1.full_name())                "
   ]
  },
  {
   "cell_type": "markdown",
   "metadata": {},
   "source": [
    "now lets say instead of just first name we want to set the full_name like emp1.fullname = 'Tom Ghosh' \n",
    "it will run into error, so to do that we use setters"
   ]
  },
  {
   "cell_type": "code",
   "execution_count": 24,
   "metadata": {},
   "outputs": [
    {
     "name": "stdout",
     "output_type": "stream",
     "text": [
      "Tom\n",
      "Tom.Ghosh@email.com\n",
      "Tom Ghosh\n"
     ]
    }
   ],
   "source": [
    "class Employee:\n",
    "\n",
    "    def __init__(self, first, last):\n",
    "        self.first = first\n",
    "        self.last = last\n",
    "\n",
    "    @property\n",
    "    def email(self):\n",
    "        return '{}.{}@email.com'.format(self.first, self.last)\n",
    "\n",
    "    @property\n",
    "    def fullname(self):\n",
    "        return '{} {}'.format(self.first, self.last)\n",
    "    \n",
    "    @fullname.setter\n",
    "    def fullname(self, name):\n",
    "        first, last = name.split(' ')\n",
    "        self.first = first\n",
    "        self.last = last\n",
    "\n",
    "emp1 = Employee('John','Smith')        \n",
    "emp1.fullname = 'Tom Ghosh'  \n",
    "print(emp1.first)\n",
    "print(emp1.email)\n",
    "print(emp1.fullname)"
   ]
  },
  {
   "cell_type": "markdown",
   "metadata": {},
   "source": [
    "# SQLITE"
   ]
  },
  {
   "cell_type": "code",
   "execution_count": 46,
   "metadata": {},
   "outputs": [],
   "source": [
    "class Employee_for_database:\n",
    "\n",
    "    def __init__(self, first, last,pay):\n",
    "        self.first = first\n",
    "        self.last = last\n",
    "        self.pay = pay\n",
    "\n",
    "    @property\n",
    "    def email(self):\n",
    "        return '{}.{}@email.com'.format(self.first, self.last)\n",
    "\n",
    "    @property\n",
    "    def fullname(self):\n",
    "        return '{} {}'.format(self.first, self.last)\n",
    "    \n",
    "    def __repr__(self):\n",
    "        return f\"{self.first}, {self.last}, {self.pay}\"    "
   ]
  },
  {
   "cell_type": "code",
   "execution_count": 32,
   "metadata": {},
   "outputs": [],
   "source": [
    "import sqlite3\n",
    "\n",
    "conn = sqlite3.connect(\"employee.db\")\n",
    "\n"
   ]
  },
  {
   "cell_type": "code",
   "execution_count": 33,
   "metadata": {},
   "outputs": [],
   "source": [
    "c = conn.cursor()"
   ]
  },
  {
   "cell_type": "code",
   "execution_count": 43,
   "metadata": {},
   "outputs": [
    {
     "ename": "OperationalError",
     "evalue": "table employee already exists",
     "output_type": "error",
     "traceback": [
      "\u001b[1;31m---------------------------------------------------------------------------\u001b[0m",
      "\u001b[1;31mOperationalError\u001b[0m                          Traceback (most recent call last)",
      "\u001b[1;32m<ipython-input-43-78abe4e6d022>\u001b[0m in \u001b[0;36m<module>\u001b[1;34m\u001b[0m\n\u001b[0;32m      1\u001b[0m \u001b[1;31m#create a employee table\u001b[0m\u001b[1;33m\u001b[0m\u001b[1;33m\u001b[0m\u001b[1;33m\u001b[0m\u001b[0m\n\u001b[1;32m----> 2\u001b[1;33m \u001b[0mc\u001b[0m\u001b[1;33m.\u001b[0m\u001b[0mexecute\u001b[0m\u001b[1;33m(\u001b[0m\u001b[1;34m\"\"\"CREATE TABLE employee(first text, last text, pay integer)\"\"\"\u001b[0m\u001b[1;33m)\u001b[0m\u001b[1;33m\u001b[0m\u001b[1;33m\u001b[0m\u001b[0m\n\u001b[0m\u001b[0;32m      3\u001b[0m \u001b[0mconn\u001b[0m\u001b[1;33m.\u001b[0m\u001b[0mcommit\u001b[0m\u001b[1;33m(\u001b[0m\u001b[1;33m)\u001b[0m\u001b[1;33m\u001b[0m\u001b[1;33m\u001b[0m\u001b[0m\n",
      "\u001b[1;31mOperationalError\u001b[0m: table employee already exists"
     ]
    }
   ],
   "source": [
    "#create a employee table\n",
    "c.execute(\"\"\"CREATE TABLE employee(first text, last text, pay integer)\"\"\")\n",
    "conn.commit()\n"
   ]
  },
  {
   "cell_type": "code",
   "execution_count": 35,
   "metadata": {},
   "outputs": [
    {
     "data": {
      "text/plain": [
       "<sqlite3.Cursor at 0x199c0790f10>"
      ]
     },
     "execution_count": 35,
     "metadata": {},
     "output_type": "execute_result"
    }
   ],
   "source": [
    "#inserting the employee details\n",
    "c.execute(\"INSERT INTO employee VALUES ('Ayon','Ghosh',100000)\")\n",
    "c.execute(\"INSERT INTO employee VALUES ('Koyel','Ghosh',10000)\")\n"
   ]
  },
  {
   "cell_type": "code",
   "execution_count": 40,
   "metadata": {},
   "outputs": [
    {
     "data": {
      "text/plain": [
       "[('Ayon', 'Ghosh', 100000), ('Koyel', 'Ghosh', 10000)]"
      ]
     },
     "execution_count": 40,
     "metadata": {},
     "output_type": "execute_result"
    }
   ],
   "source": [
    "#querying the database\n",
    "c.execute(\"SELECT * FROM employee WHERE last = 'Ghosh'\")\n",
    "c.fetchall()"
   ]
  },
  {
   "cell_type": "code",
   "execution_count": 44,
   "metadata": {},
   "outputs": [
    {
     "name": "stdout",
     "output_type": "stream",
     "text": [
      "('Ayon', 'Ghosh', 100000)\n",
      "('Koyel', 'Ghosh', 10000)\n"
     ]
    }
   ],
   "source": [
    "c.execute(\"SELECT * FROM employee WHERE last = 'Ghosh'\")\n",
    "result = c.fetchall()\n",
    "for i in result:\n",
    "    print(i)"
   ]
  },
  {
   "cell_type": "code",
   "execution_count": 47,
   "metadata": {},
   "outputs": [
    {
     "name": "stdout",
     "output_type": "stream",
     "text": [
      "Jane\n",
      "Doe\n",
      "2000\n"
     ]
    }
   ],
   "source": [
    "#now using the employee class\n",
    "emp1 = Employee_for_database(\"Rivan\",\"Ghosh\",1000000)\n",
    "emp2 = Employee_for_database(\"Jon\",\"Doe\",1000)\n",
    "emp3 = Employee_for_database(\"Jane\",\"Doe\",2000)\n",
    "print(emp3.first)\n",
    "print(emp3.last)\n",
    "print(emp3.pay)"
   ]
  },
  {
   "cell_type": "code",
   "execution_count": 51,
   "metadata": {},
   "outputs": [
    {
     "data": {
      "text/plain": [
       "<sqlite3.Cursor at 0x199c0790f10>"
      ]
     },
     "execution_count": 51,
     "metadata": {},
     "output_type": "execute_result"
    }
   ],
   "source": [
    "#we can use string formating to insert into database from Employee_for_database but it is not a good practise because of risk of sql injection\n",
    "#attacks because we can set the values as such that could break the entire database\n",
    "\n",
    "c.execute(\"INSERT INTO employee VALUES ('{}','{}',{})\".format(emp1.first, emp1.last, emp1.pay))\n"
   ]
  },
  {
   "cell_type": "code",
   "execution_count": 52,
   "metadata": {},
   "outputs": [
    {
     "data": {
      "text/plain": [
       "<sqlite3.Cursor at 0x199c0790f10>"
      ]
     },
     "execution_count": 52,
     "metadata": {},
     "output_type": "execute_result"
    }
   ],
   "source": [
    "#instead the correct ways are:\n",
    "\n",
    "#first way\n",
    "\n",
    "c.execute(\"INSERT INTO employee VALUES (?,?,?)\",(emp2.first, emp2.last, emp2.pay))\n",
    "\n",
    "#second way\n",
    "\n",
    "c.execute(\"INSERT INTO employee VALUES (:first,:last,:pay)\",{'first': emp3.first, 'last': emp3.last, 'pay':emp3.pay})"
   ]
  },
  {
   "cell_type": "code",
   "execution_count": 53,
   "metadata": {},
   "outputs": [],
   "source": [
    "conn.commit()"
   ]
  },
  {
   "cell_type": "code",
   "execution_count": 54,
   "metadata": {},
   "outputs": [
    {
     "data": {
      "text/plain": [
       "<sqlite3.Cursor at 0x199c0790f10>"
      ]
     },
     "execution_count": 54,
     "metadata": {},
     "output_type": "execute_result"
    }
   ],
   "source": [
    "c.execute(\"SELECT * FROM employee WHERE last = 'Doe'\")"
   ]
  },
  {
   "cell_type": "code",
   "execution_count": 55,
   "metadata": {},
   "outputs": [
    {
     "data": {
      "text/plain": [
       "[('Jon', 'Doe', 1000), ('Jane', 'Doe', 2000)]"
      ]
     },
     "execution_count": 55,
     "metadata": {},
     "output_type": "execute_result"
    }
   ],
   "source": [
    "c.fetchall()"
   ]
  },
  {
   "cell_type": "code",
   "execution_count": 57,
   "metadata": {},
   "outputs": [
    {
     "data": {
      "text/plain": [
       "[('Jon', 'Doe', 1000), ('Jane', 'Doe', 2000)]"
      ]
     },
     "execution_count": 57,
     "metadata": {},
     "output_type": "execute_result"
    }
   ],
   "source": [
    "#directly from the class\n",
    "#first way mapping the previous first way ---weird thing is u have to use the whole tuple even if u have one search criterai\n",
    "c.execute(\"SELECT * FROM employee WHERE last = ?\",('Doe',))\n",
    "c.fetchall()\n"
   ]
  },
  {
   "cell_type": "code",
   "execution_count": 58,
   "metadata": {},
   "outputs": [
    {
     "data": {
      "text/plain": [
       "[('Jon', 'Doe', 1000), ('Jane', 'Doe', 2000)]"
      ]
     },
     "execution_count": 58,
     "metadata": {},
     "output_type": "execute_result"
    }
   ],
   "source": [
    "#second way\n",
    "\n",
    "c.execute(\"SELECT * FROM employee WHERE last = :last\",{'last': 'Doe'})\n",
    "c.fetchall()          "
   ]
  },
  {
   "cell_type": "code",
   "execution_count": 67,
   "metadata": {},
   "outputs": [],
   "source": [
    "# we can create in memory database that is used in testing for getting a fresh slate and u dont to keep deleting a databse file over and over\n",
    "\n",
    "conn = sqlite3.connect(':memory:')\n",
    "c.execute(\"\"\"CREATE TABLE employees(first text, last text, pay integer)\"\"\")\n",
    "conn.commit()\n"
   ]
  },
  {
   "cell_type": "code",
   "execution_count": 78,
   "metadata": {},
   "outputs": [],
   "source": [
    "def insert_emp(emp):\n",
    "    with conn:\n",
    "        c.execute(\"INSERT INTO employees VALUES (:first,:last,:pay)\",{'first': emp.first, 'last': emp.last, 'pay':emp.pay})\n",
    "    \n",
    "    \n",
    "def get_emp_by_name(lastname):\n",
    "    with conn:\n",
    "        c.execute(\"SELECT * FROM employees WHERE last = :last\",{'last': lastname})\n",
    "        return c.fetchall()  \n",
    "    \n",
    "    \n",
    "def update_pay(emp, pay):\n",
    "    with conn:\n",
    "        c.execute(\"\"\"UPDATE employees SET pay = :pay\n",
    "                    WHERE first = :first AND last = :last\"\"\",\n",
    "                  {'first': emp.first, 'last': emp.last, 'pay': pay})\n",
    "        \n",
    "def remove_emp(emp):\n",
    "    with conn:\n",
    "        c.execute(\"\"\"DELETE FROM employees WHERE first = :first AND last = :last\"\"\",\n",
    "                  {'first': emp.first, 'last': emp.last})\n",
    "        "
   ]
  },
  {
   "cell_type": "code",
   "execution_count": 79,
   "metadata": {},
   "outputs": [],
   "source": [
    "emp1 = Employee_for_database(\"Rivan\",\"Ghosh\",1000000)\n",
    "emp2 = Employee_for_database(\"Jon\",\"Doe\",1000)\n",
    "emp3 = Employee_for_database(\"Jane\",\"Doe\",2000)"
   ]
  },
  {
   "cell_type": "code",
   "execution_count": 80,
   "metadata": {},
   "outputs": [],
   "source": [
    "insert_emp(emp1)\n",
    "insert_emp(emp2)\n",
    "insert_emp(emp3)"
   ]
  },
  {
   "cell_type": "code",
   "execution_count": 81,
   "metadata": {},
   "outputs": [
    {
     "name": "stdout",
     "output_type": "stream",
     "text": [
      "[('Jon', 'Doe', 95000), ('Jane', 'Doe', 2000), ('Jon', 'Doe', 95000), ('Jane', 'Doe', 2000), ('Jon', 'Doe', 1000), ('Jane', 'Doe', 2000)]\n",
      "[('Jon', 'Doe', 95000), ('Jane', 'Doe', 2000), ('Jon', 'Doe', 95000), ('Jane', 'Doe', 2000), ('Jon', 'Doe', 95000), ('Jane', 'Doe', 2000)]\n"
     ]
    }
   ],
   "source": [
    "emps = get_emp_by_name('Doe')\n",
    "print(emps)\n",
    "\n",
    "update_pay(emp2, 95000)\n",
    "remove_emp(emp1)\n",
    "\n",
    "emps = get_emp_by_name('Doe')\n",
    "print(emps)"
   ]
  },
  {
   "cell_type": "code",
   "execution_count": 82,
   "metadata": {},
   "outputs": [],
   "source": [
    "conn.close()"
   ]
  },
  {
   "cell_type": "code",
   "execution_count": null,
   "metadata": {},
   "outputs": [],
   "source": []
  }
 ],
 "metadata": {
  "kernelspec": {
   "display_name": "Python 3",
   "language": "python",
   "name": "python3"
  },
  "language_info": {
   "codemirror_mode": {
    "name": "ipython",
    "version": 3
   },
   "file_extension": ".py",
   "mimetype": "text/x-python",
   "name": "python",
   "nbconvert_exporter": "python",
   "pygments_lexer": "ipython3",
   "version": "3.7.6"
  }
 },
 "nbformat": 4,
 "nbformat_minor": 4
}
