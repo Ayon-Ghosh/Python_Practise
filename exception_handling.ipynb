{
 "cells": [
  {
   "cell_type": "markdown",
   "metadata": {},
   "source": [
    "Try and except\n",
    "Try\n",
    "  do your operation here\n",
    "except ExceptionI:\n",
    "    if there is a exeption1, then execute this block\n",
    "except Exception2:\n",
    "    if there is a exeption2, then execute this block\n",
    "----------upto ExceptionN\n",
    "else:\n",
    "    if there is a not eception, execute this block \n",
    "Note: If we dont have any idea what kind of exception will occur then we dont specify after except as shown below    "
   ]
  },
  {
   "cell_type": "code",
   "execution_count": 2,
   "metadata": {},
   "outputs": [
    {
     "name": "stdout",
     "output_type": "stream",
     "text": [
      "content written sucessfully\n"
     ]
    }
   ],
   "source": [
    "try:\n",
    "    f=open('test.txt','w+')\n",
    "    f.write('test write this')\n",
    "except:\n",
    "    print('Error: couldnt read or write data')\n",
    "else:\n",
    "    print('content written sucessfully')\n",
    "    f.close()"
   ]
  },
  {
   "cell_type": "markdown",
   "metadata": {},
   "source": [
    "see  carefully the error with r mode"
   ]
  },
  {
   "cell_type": "code",
   "execution_count": 3,
   "metadata": {},
   "outputs": [
    {
     "name": "stdout",
     "output_type": "stream",
     "text": [
      "Error: couldnt read or write data\n"
     ]
    }
   ],
   "source": [
    "try:\n",
    "    f=open('test.txt','r')\n",
    "    f.write('test write this')\n",
    "except:\n",
    "    print('Error: couldnt read or write data')\n",
    "else:\n",
    "    print('content written sucessfully')\n",
    "    f.close()"
   ]
  },
  {
   "cell_type": "markdown",
   "metadata": {},
   "source": [
    "if we have idea what kind of error, then we specify after exception like below"
   ]
  },
  {
   "cell_type": "code",
   "execution_count": 4,
   "metadata": {},
   "outputs": [
    {
     "name": "stdout",
     "output_type": "stream",
     "text": [
      "Error: couldnt read or write data\n"
     ]
    }
   ],
   "source": [
    "try:\n",
    "    f=open('test.txt','r')\n",
    "    f.write('test write this')\n",
    "except IOError:\n",
    "    print('Error: couldnt read or write data')\n",
    "else:\n",
    "    print('content written sucessfully')\n",
    "    f.close()"
   ]
  },
  {
   "cell_type": "markdown",
   "metadata": {},
   "source": [
    "see the below example"
   ]
  },
  {
   "cell_type": "code",
   "execution_count": null,
   "metadata": {},
   "outputs": [],
   "source": [
    "def askint():\n",
    "    try:\n",
    "        val = int(input(\"enter an integer:\"))\n",
    "    except:\n",
    "        print('u didnt enter the integer')\n",
    "    finally:\n",
    "        print('finally executed')\n",
    "    print(val)        "
   ]
  },
  {
   "cell_type": "code",
   "execution_count": 6,
   "metadata": {},
   "outputs": [
    {
     "name": "stdout",
     "output_type": "stream",
     "text": [
      "enter an integer:12\n",
      "finally executed\n",
      "12\n"
     ]
    }
   ],
   "source": [
    "askint()"
   ]
  },
  {
   "cell_type": "code",
   "execution_count": null,
   "metadata": {},
   "outputs": [],
   "source": [
    "askint()"
   ]
  },
  {
   "cell_type": "markdown",
   "metadata": {},
   "source": [
    "While loop always excecutes itself till the condition is met. While True always excecutes itself no matter what as we r setting all condition true"
   ]
  },
  {
   "cell_type": "code",
   "execution_count": 3,
   "metadata": {},
   "outputs": [],
   "source": [
    "def askint1():\n",
    "    while True:\n",
    "        try:\n",
    "            val = int(input(\"enter an integer:\"))\n",
    "        except:\n",
    "            print('u didnt enter the integer')\n",
    "            continue\n",
    "        else:\n",
    "            print('yes thats an integer')\n",
    "            break\n",
    "        finally:\n",
    "            print('finally executed')\n",
    "        print(val)  "
   ]
  },
  {
   "cell_type": "code",
   "execution_count": 4,
   "metadata": {},
   "outputs": [
    {
     "name": "stdout",
     "output_type": "stream",
     "text": [
      "enter an integer:1234\n",
      "yes thats an integer\n",
      "finally executed\n"
     ]
    }
   ],
   "source": [
    "askint1()"
   ]
  },
  {
   "cell_type": "code",
   "execution_count": null,
   "metadata": {},
   "outputs": [
    {
     "name": "stdout",
     "output_type": "stream",
     "text": [
      "enter an integer:shdbsa\n",
      "u didnt enter the integer\n",
      "finally executed\n"
     ]
    }
   ],
   "source": [
    "askint1()"
   ]
  },
  {
   "cell_type": "code",
   "execution_count": null,
   "metadata": {},
   "outputs": [],
   "source": []
  }
 ],
 "metadata": {
  "kernelspec": {
   "display_name": "Python 3",
   "language": "python",
   "name": "python3"
  }
 },
 "nbformat": 4,
 "nbformat_minor": 2
}
