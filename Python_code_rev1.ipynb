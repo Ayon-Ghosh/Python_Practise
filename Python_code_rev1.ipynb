{
 "cells": [
  {
   "cell_type": "markdown",
   "metadata": {},
   "source": [
    "# practising amstrong_nos"
   ]
  },
  {
   "cell_type": "code",
   "execution_count": null,
   "metadata": {},
   "outputs": [],
   "source": [
    "separate digits"
   ]
  },
  {
   "cell_type": "code",
   "execution_count": 9,
   "metadata": {},
   "outputs": [
    {
     "name": "stdout",
     "output_type": "stream",
     "text": [
      "enter the number:13467\n"
     ]
    },
    {
     "data": {
      "text/plain": [
       "[1, 3, 4, 6, 7]"
      ]
     },
     "execution_count": 9,
     "metadata": {},
     "output_type": "execute_result"
    }
   ],
   "source": [
    "input_number = input(\"enter the number:\")\n",
    "digit_list = []\n",
    "len_num = len(input_number)\n",
    "for i in range(len_num):\n",
    "    remainder = int(input_number)%10\n",
    "    input_number = int(input_number)//10\n",
    "    digit_list.append(remainder)\n",
    "digit_list[::-1]"
   ]
  },
  {
   "cell_type": "code",
   "execution_count": 12,
   "metadata": {},
   "outputs": [
    {
     "name": "stdout",
     "output_type": "stream",
     "text": [
      "enter the number:1357\n"
     ]
    },
    {
     "data": {
      "text/plain": [
       "[1, 3, 5, 7]"
      ]
     },
     "execution_count": 12,
     "metadata": {},
     "output_type": "execute_result"
    }
   ],
   "source": [
    "input_number = int(input(\"enter the number:\"))\n",
    "digit_list = []\n",
    "while input_number!=0:\n",
    "    i = input_number%10\n",
    "    input_number= input_number//10\n",
    "    digit_list.append(i)\n",
    "digit_list[::-1]    "
   ]
  },
  {
   "cell_type": "markdown",
   "metadata": {},
   "source": [
    "Amstrong number"
   ]
  },
  {
   "cell_type": "code",
   "execution_count": 22,
   "metadata": {},
   "outputs": [
    {
     "name": "stdout",
     "output_type": "stream",
     "text": [
      "enter the number:9474\n",
      "4\n",
      "9474\n",
      "Bingo\n"
     ]
    }
   ],
   "source": [
    "input_number = input(\"enter the number:\")\n",
    "len_num = len(input_number)\n",
    "print(len_num)\n",
    "result = 0\n",
    "j = input_number\n",
    "for i in range(len_num):\n",
    "    \n",
    "    remainder = int(j)%10\n",
    "    j = int(j)//10\n",
    "    result = result + (remainder)**len_num\n",
    "print(result)    \n",
    "if result == int(input_number):\n",
    "    print(\"Bingo\")\n",
    "else:\n",
    "    print(\"better luck next time\")"
   ]
  },
  {
   "cell_type": "markdown",
   "metadata": {},
   "source": [
    "Another way"
   ]
  },
  {
   "cell_type": "code",
   "execution_count": 24,
   "metadata": {},
   "outputs": [
    {
     "name": "stdout",
     "output_type": "stream",
     "text": [
      "enter the number:54748\n",
      "5\n",
      "54748\n",
      "Bingo\n"
     ]
    }
   ],
   "source": [
    "input_number = input(\"enter the number:\")\n",
    "len_num = len(input_number)\n",
    "print(len_num)\n",
    "result = 0\n",
    "j = input_number\n",
    "while j!=-0:\n",
    "    \n",
    "    remainder = int(j)%10\n",
    "    j = int(j)//10\n",
    "    result = result + (remainder)**len_num\n",
    "print(result)    \n",
    "if result == int(input_number):\n",
    "    print(\"Bingo\")\n",
    "else:\n",
    "    print(\"better luck next time\")"
   ]
  },
  {
   "cell_type": "markdown",
   "metadata": {},
   "source": [
    "Amstrong number in a list"
   ]
  },
  {
   "cell_type": "code",
   "execution_count": 28,
   "metadata": {},
   "outputs": [
    {
     "data": {
      "text/plain": [
       "[0, 1, 2, 3, 4, 5, 6, 7, 8, 9, 153, 370, 371, 407, 1634, 8208, 9474]"
      ]
     },
     "execution_count": 28,
     "metadata": {},
     "output_type": "execute_result"
    }
   ],
   "source": [
    "amstrong_num_list = []\n",
    "for num in range(10000):\n",
    "    len_num = len(str(num))\n",
    "    result = 0\n",
    "    j = num\n",
    "    while j!=-0:\n",
    "        remainder = int(j)%10\n",
    "        j = int(j)//10\n",
    "        result = result + (remainder)**len_num\n",
    "    if result == num:\n",
    "        amstrong_num_list.append(num)\n",
    "    else:\n",
    "        continue        \n",
    "    \n",
    "amstrong_num_list    "
   ]
  },
  {
   "cell_type": "code",
   "execution_count": 31,
   "metadata": {},
   "outputs": [
    {
     "data": {
      "text/plain": [
       "'0,1,2,3,4,5,6,7,8,9,153,370,371,407,1634,8208,9474'"
      ]
     },
     "execution_count": 31,
     "metadata": {},
     "output_type": "execute_result"
    }
   ],
   "source": [
    "amstrong_num_list_str = [str(x) for x in amstrong_num_list]\n",
    "','.join(amstrong_num_list_str)"
   ]
  },
  {
   "cell_type": "markdown",
   "metadata": {},
   "source": [
    "# practrising factorial_recurive.py"
   ]
  },
  {
   "cell_type": "code",
   "execution_count": 36,
   "metadata": {},
   "outputs": [
    {
     "data": {
      "text/plain": [
       "120"
      ]
     },
     "execution_count": 36,
     "metadata": {},
     "output_type": "execute_result"
    }
   ],
   "source": [
    "def fact(n):\n",
    "    if n == 0:\n",
    "        return 1\n",
    "    else:\n",
    "        return n*fact(n-1)\n",
    "fact(5)    "
   ]
  },
  {
   "cell_type": "code",
   "execution_count": 37,
   "metadata": {},
   "outputs": [
    {
     "name": "stdout",
     "output_type": "stream",
     "text": [
      "First modules name:__main__.\n"
     ]
    }
   ],
   "source": [
    "print('First modules name:{}.'.format(__name__))"
   ]
  },
  {
   "cell_type": "code",
   "execution_count": 38,
   "metadata": {},
   "outputs": [
    {
     "name": "stdout",
     "output_type": "stream",
     "text": [
      "top level is one.py\n",
      "one.py is run directly\n"
     ]
    }
   ],
   "source": [
    "def func():\n",
    "    print(\"func() in one.py\")\n",
    "    \n",
    "print(\"top level is one.py\")\n",
    "\n",
    "if __name__==\"__main__\":\n",
    "    print(\"one.py is run directly\")\n",
    "else:\n",
    "    print(\"one.py is run from another function\")    "
   ]
  },
  {
   "cell_type": "markdown",
   "metadata": {},
   "source": [
    "# practising practise.py"
   ]
  },
  {
   "cell_type": "code",
   "execution_count": 39,
   "metadata": {},
   "outputs": [],
   "source": [
    "#A Robot moves in a Plane starting from the origin point (0,0). The robot can move toward UP, \n",
    "#DOWN, LEFT, RIGHT. The trace of Robot movement is as given following:\n",
    "#UP 5\n",
    "#DOWN 3\n",
    "#LEFT 3\n",
    "#RIGHT 2\n",
    "#The numbers after directions are steps. Write a program to compute the distance current position \n",
    "#after sequence of movements.\n",
    "#Hint: Use math module."
   ]
  },
  {
   "cell_type": "code",
   "execution_count": 75,
   "metadata": {},
   "outputs": [
    {
     "name": "stdout",
     "output_type": "stream",
     "text": [
      "enter the step:UP 5 DOWN 3 LEFT 3 RIGHT 2\n",
      "distance:2.2\n"
     ]
    }
   ],
   "source": [
    "import math\n",
    "step = input(\"enter the step:\").split(' ')\n",
    "\n",
    "if len(step)%2==0:\n",
    "    \n",
    "    direction = [step[x] for x in range(len(step)) if x%2==0]\n",
    "    step_count = [step[x] for x in range(len(step)) if x%2!=0]\n",
    "    \n",
    "    direction_dict = dict(zip(direction,step_count))\n",
    "    postion_x = 0\n",
    "    postion_y = 0\n",
    "    start_postion = [postion_x,postion_y]\n",
    "    for key in direction_dict.keys():\n",
    "        if key.lower() == 'up':\n",
    "            postion_y = postion_y + int(direction_dict[key])\n",
    "            location = [postion_x,postion_y]\n",
    "        elif key.lower() == 'down':   \n",
    "            postion_y = postion_y - int(direction_dict[key])\n",
    "            location = [postion_x,postion_y]\n",
    "        elif key.lower() == 'left':   \n",
    "            postion_x = postion_x - int(direction_dict[key])\n",
    "            location = [postion_x,postion_y]\n",
    "        elif key.lower() == 'right':   \n",
    "            postion_x = postion_x + int(direction_dict[key])\n",
    "            location = [postion_x,postion_y]\n",
    "        else:\n",
    "            print(\"you have to put the right direction\")\n",
    "    distance = round(math.sqrt(postion_x**2 + postion_y**2),1)\n",
    "    print(f\"distance:{distance}\")\n",
    "else:\n",
    "    print(\"you have to put the right direction\")"
   ]
  },
  {
   "cell_type": "code",
   "execution_count": 76,
   "metadata": {},
   "outputs": [],
   "source": [
    "#Weather forecasting organization wants to show is it day or night. So, write \n",
    "#a program for such organization to find whether is it dark outside or not."
   ]
  },
  {
   "cell_type": "code",
   "execution_count": 85,
   "metadata": {},
   "outputs": [
    {
     "name": "stdout",
     "output_type": "stream",
     "text": [
      "it is day\n"
     ]
    }
   ],
   "source": [
    "import time\n",
    "localtime = time.localtime()\n",
    "localtime\n",
    "if localtime.tm_hour>=6 and localtime.tm_hour <=18:\n",
    "    print(\"it is day\")\n",
    "else:\n",
    "    print(\"it is night\")"
   ]
  },
  {
   "cell_type": "code",
   "execution_count": 86,
   "metadata": {},
   "outputs": [],
   "source": [
    "#Write a program that calculates and prints the value according to the given formula:\n",
    "\n",
    "#Q = Square root of [(2 * C * D)/H]\n",
    "\n",
    "#Following are the fixed values of C and H:\n",
    "\n",
    "#C is 50. H is 30.\n",
    "\n",
    "#D is the variable whose values should be input to your program in a \n",
    "#comma-separated sequence.For example Let us assume the following comma \n",
    "#separated input sequence is given to the program:"
   ]
  },
  {
   "cell_type": "code",
   "execution_count": 93,
   "metadata": {},
   "outputs": [
    {
     "name": "stdout",
     "output_type": "stream",
     "text": [
      "enter the list of D:1,2,3,4\n"
     ]
    },
    {
     "data": {
      "text/plain": [
       "[1.83, 2.58, 3.16, 3.65]"
      ]
     },
     "execution_count": 93,
     "metadata": {},
     "output_type": "execute_result"
    }
   ],
   "source": [
    "input_D = input(\"enter the list of D:\").split(',')\n",
    "input_D = [int(x) for x in input_D]\n",
    "C = 50\n",
    "H = 30\n",
    "results = []\n",
    "for i in input_D:\n",
    "    result = round(math.sqrt(2*C*i/H),2)\n",
    "    results.append(result)\n",
    "results    "
   ]
  },
  {
   "cell_type": "code",
   "execution_count": 94,
   "metadata": {},
   "outputs": [],
   "source": [
    "#Write a program which takes 2 digits, X,Y as input and generates a 2-dimensional array. \n",
    "\n",
    "#The element value in the i-th row and j-th column of the array should be i * j.\n",
    "#Note: i=0,1.., X-1; j=0,1,¡­Y-1. Suppose the following inputs are given to the program: 3,5\n",
    "#Then, the output of the program should be:\n",
    "#[[0, 0, 0, 0, 0], [0, 1, 2, 3, 4], [0, 2, 4, 6, 8]]"
   ]
  },
  {
   "cell_type": "code",
   "execution_count": 107,
   "metadata": {},
   "outputs": [
    {
     "name": "stdout",
     "output_type": "stream",
     "text": [
      "enter row and col:5,6\n"
     ]
    },
    {
     "data": {
      "text/plain": [
       "array([[ 0.,  0.,  0.,  0.,  0.,  0.],\n",
       "       [ 0.,  1.,  2.,  3.,  4.,  5.],\n",
       "       [ 0.,  2.,  4.,  6.,  8., 10.],\n",
       "       [ 0.,  3.,  6.,  9., 12., 15.],\n",
       "       [ 0.,  4.,  8., 12., 16., 20.]])"
      ]
     },
     "execution_count": 107,
     "metadata": {},
     "output_type": "execute_result"
    }
   ],
   "source": [
    "import numpy as np\n",
    "row_col=input('enter row and col:').split(',')\n",
    "row = int(row_col[0])\n",
    "col = int(row_col[1])\n",
    "y = np.zeros((row, col)) \n",
    "for i in range(row):\n",
    "    sub = []\n",
    "    for j in range(col):\n",
    "        temp = y[i][j] + i*j\n",
    "        y[i][j] = temp  \n",
    "y   "
   ]
  },
  {
   "cell_type": "markdown",
   "metadata": {},
   "source": [
    "Another way"
   ]
  },
  {
   "cell_type": "code",
   "execution_count": 108,
   "metadata": {},
   "outputs": [
    {
     "name": "stdout",
     "output_type": "stream",
     "text": [
      "enter row and col:5,6\n"
     ]
    },
    {
     "data": {
      "text/plain": [
       "[[0, 0, 0, 0, 0, 0],\n",
       " [0, 1, 2, 3, 4, 5],\n",
       " [0, 2, 4, 6, 8, 10],\n",
       " [0, 3, 6, 9, 12, 15],\n",
       " [0, 4, 8, 12, 16, 20]]"
      ]
     },
     "execution_count": 108,
     "metadata": {},
     "output_type": "execute_result"
    }
   ],
   "source": [
    "import numpy as np\n",
    "row_col=input('enter row and col:').split(',')\n",
    "row = int(row_col[0])\n",
    "col = int(row_col[1])\n",
    "result = []\n",
    "for i in range(row):\n",
    "    sub =[]\n",
    "    for j in range(col):\n",
    "        sub.append(i*j)\n",
    "    result.append(sub)    \n",
    "        \n",
    "result       "
   ]
  },
  {
   "cell_type": "code",
   "execution_count": 109,
   "metadata": {},
   "outputs": [],
   "source": [
    "#Write a program that accepts a comma separated sequence of words as input and\n",
    "# prints the words in a comma-separated sequence after sorting them alphabetically."
   ]
  },
  {
   "cell_type": "code",
   "execution_count": 116,
   "metadata": {},
   "outputs": [
    {
     "name": "stdout",
     "output_type": "stream",
     "text": [
      "enter list of words:bee, ant, dog, bee\n"
     ]
    },
    {
     "data": {
      "text/plain": [
       "[' ant', ' bee', ' dog', 'bee']"
      ]
     },
     "execution_count": 116,
     "metadata": {},
     "output_type": "execute_result"
    }
   ],
   "source": [
    "input_wordlist = input('enter list of words:').split(',')\n",
    "sorted(input_wordlist)"
   ]
  },
  {
   "cell_type": "markdown",
   "metadata": {},
   "source": [
    "Write a program which will find factors of given number and find whether the factor is even or odd."
   ]
  },
  {
   "cell_type": "code",
   "execution_count": 119,
   "metadata": {},
   "outputs": [
    {
     "name": "stdout",
     "output_type": "stream",
     "text": [
      "enter the number:50\n",
      "the factor 2 is even\n",
      "the factor 5 is odd\n",
      "the factor 10 is even\n",
      "the factor 25 is odd\n"
     ]
    }
   ],
   "source": [
    "input_int = int(input(\"enter the number:\"))\n",
    "for i in range(2,input_int):\n",
    "    if input_int%i==0:\n",
    "        if i%2==0:\n",
    "            print(f\"the factor {i} is even\")\n",
    "        else:\n",
    "            print(f\"the factor {i} is odd\")\n",
    "    "
   ]
  },
  {
   "cell_type": "markdown",
   "metadata": {},
   "source": [
    "Write a program, whichwill find all the numbers between 1000 and 3000 (both included) such that each digit of a number is an even number. The numbers obtained should be printed in a comma separated sequence on a single line."
   ]
  },
  {
   "cell_type": "code",
   "execution_count": 127,
   "metadata": {},
   "outputs": [
    {
     "data": {
      "text/plain": [
       "'2000,2002,2004,2006,2008,2020,2022,2024,2026,2028,2040,2042,2044,2046,2048,2060,2062,2064,2066,2068,2080,2082,2084,2086,2088,2200,2202,2204,2206,2208,2220,2222,2224,2226,2228,2240,2242,2244,2246,2248,2260,2262,2264,2266,2268,2280,2282,2284,2286,2288,2400,2402,2404,2406,2408,2420,2422,2424,2426,2428,2440,2442,2444,2446,2448,2460,2462,2464,2466,2468,2480,2482,2484,2486,2488,2600,2602,2604,2606,2608,2620,2622,2624,2626,2628,2640,2642,2644,2646,2648,2660,2662,2664,2666,2668,2680,2682,2684,2686,2688,2800,2802,2804,2806,2808,2820,2822,2824,2826,2828,2840,2842,2844,2846,2848,2860,2862,2864,2866,2868,2880,2882,2884,2886,2888'"
      ]
     },
     "execution_count": 127,
     "metadata": {},
     "output_type": "execute_result"
    }
   ],
   "source": [
    "result = []\n",
    "for num in range(1000,3001):\n",
    "    str_num = str(num)\n",
    "    if int(str_num[0])%2==0 and int(str_num[1])%2==0 and int(str_num[2])%2==0 and int(str_num[3])%2==0:\n",
    "         result.append(str_num)\n",
    "','.join(result)    "
   ]
  },
  {
   "cell_type": "markdown",
   "metadata": {},
   "source": [
    "Write a program that accepts a sentence and calculate the number of letters and digits.Suppose if the entered string is: Python0325Then the output will be:LETTERS: 6DIGITS:4"
   ]
  },
  {
   "cell_type": "code",
   "execution_count": 131,
   "metadata": {},
   "outputs": [
    {
     "name": "stdout",
     "output_type": "stream",
     "text": [
      "enter the string:Python0325\n",
      "Letter6 and digit4\n"
     ]
    }
   ],
   "source": [
    "input_string = input(\"enter the string:\")\n",
    "letter_counter = 0\n",
    "digit_counter = 0\n",
    "for i in input_string:\n",
    "    if i.isalpha():\n",
    "        letter_counter = letter_counter+1\n",
    "    elif i.isdigit():\n",
    "        digit_counter = digit_counter+1\n",
    "    else:\n",
    "        continue\n",
    "print(f\"Letter{letter_counter} and digit{digit_counter}\")        \n",
    "        "
   ]
  },
  {
   "cell_type": "markdown",
   "metadata": {},
   "source": [
    "Design a code which will find the given number is Palindrome number or not."
   ]
  },
  {
   "cell_type": "code",
   "execution_count": 156,
   "metadata": {},
   "outputs": [
    {
     "name": "stdout",
     "output_type": "stream",
     "text": [
      "enter the num:1234\n",
      "this number is not a pallindrome\n"
     ]
    }
   ],
   "source": [
    "input_num = input(\"enter the num:\")\n",
    "list_num = []\n",
    "for i in input_num:\n",
    "    list_num.append(i)\n",
    "    \n",
    "if list_num == list_num[::-1]:\n",
    "    print(\"this number is a pallindrome\")\n",
    "else:\n",
    "    print(\"this number is not a pallindrome\")\n",
    "    "
   ]
  },
  {
   "cell_type": "markdown",
   "metadata": {},
   "source": [
    "Another way to dop pallidrome"
   ]
  },
  {
   "cell_type": "code",
   "execution_count": 157,
   "metadata": {},
   "outputs": [
    {
     "name": "stdout",
     "output_type": "stream",
     "text": [
      "It is palindrome\n"
     ]
    }
   ],
   "source": [
    "# change this value for a different output\n",
    "my_str = 'aIbohPhoBiA'\n",
    "\n",
    "# make it suitable for caseless comparison\n",
    "my_str = my_str.casefold()\n",
    "\n",
    "# reverse the string\n",
    "rev_str = reversed(my_str)\n",
    "\n",
    "# check if the string is equal to its reverse\n",
    "if list(my_str) == list(rev_str):\n",
    "   print(\"It is palindrome\")\n",
    "else:\n",
    "   print(\"It is not palindrome\")"
   ]
  },
  {
   "cell_type": "markdown",
   "metadata": {},
   "source": [
    "What is the output of the following code?\n",
    "nums =set([1,1,2,3,3,3,4,4])\n",
    "print(len(nums))"
   ]
  },
  {
   "cell_type": "code",
   "execution_count": 158,
   "metadata": {},
   "outputs": [
    {
     "name": "stdout",
     "output_type": "stream",
     "text": [
      "4\n"
     ]
    }
   ],
   "source": [
    "nums =set([1,1,2,3,3,3,4,4])\n",
    "print(len(nums))"
   ]
  },
  {
   "cell_type": "code",
   "execution_count": 160,
   "metadata": {},
   "outputs": [
    {
     "data": {
      "text/plain": [
       "4"
      ]
     },
     "execution_count": 160,
     "metadata": {},
     "output_type": "execute_result"
    }
   ],
   "source": [
    "nums =set([1,1,2,3,3,3,4,4])\n",
    "len(nums)"
   ]
  },
  {
   "cell_type": "code",
   "execution_count": 163,
   "metadata": {},
   "outputs": [
    {
     "data": {
      "text/plain": [
       "['dog', 'tiger', 'cat', 'monkey']"
      ]
     },
     "execution_count": 163,
     "metadata": {},
     "output_type": "execute_result"
    }
   ],
   "source": [
    "animals = ['dog','cat', 'monkey']\n",
    "animals.insert(1,'tiger')\n",
    "animals"
   ]
  },
  {
   "cell_type": "code",
   "execution_count": 162,
   "metadata": {},
   "outputs": [
    {
     "data": {
      "text/plain": [
       "30"
      ]
     },
     "execution_count": 162,
     "metadata": {},
     "output_type": "execute_result"
    }
   ],
   "source": [
    "list2=[[10,20],[30,40]]\n",
    "list2[1][0]"
   ]
  },
  {
   "cell_type": "code",
   "execution_count": 167,
   "metadata": {},
   "outputs": [
    {
     "data": {
      "text/plain": [
       "['cat', 'dog', 'monkey']"
      ]
     },
     "execution_count": 167,
     "metadata": {},
     "output_type": "execute_result"
    }
   ],
   "source": [
    "animals = ['dog','cat', 'monkey']\n",
    "animals.sort()\n",
    "animals"
   ]
  },
  {
   "cell_type": "code",
   "execution_count": 168,
   "metadata": {},
   "outputs": [
    {
     "data": {
      "text/plain": [
       "[2, 5, 6, 10, 20, 30, 40]"
      ]
     },
     "execution_count": 168,
     "metadata": {},
     "output_type": "execute_result"
    }
   ],
   "source": [
    "list1=[10,20,30,40,2,5,6]\n",
    "list1.sort()\n",
    "list1"
   ]
  },
  {
   "cell_type": "code",
   "execution_count": 171,
   "metadata": {},
   "outputs": [
    {
     "data": {
      "text/plain": [
       "[10, 20, 30, 40, 5, 6]"
      ]
     },
     "execution_count": 171,
     "metadata": {},
     "output_type": "execute_result"
    }
   ],
   "source": [
    "list1=[10,20,30,40,2,5,6]\n",
    "del list1[4]\n",
    "list1\n"
   ]
  },
  {
   "cell_type": "code",
   "execution_count": 179,
   "metadata": {},
   "outputs": [
    {
     "name": "stdout",
     "output_type": "stream",
     "text": [
      "[15, 14, 13, 12, 11, 10]\n"
     ]
    }
   ],
   "source": [
    "def Reverse(lst): \n",
    "    lst.reverse() \n",
    "    return lst \n",
    "      \n",
    "lst = [10, 11, 12, 13, 14, 15] \n",
    "print(Reverse(lst)) "
   ]
  },
  {
   "cell_type": "code",
   "execution_count": 183,
   "metadata": {},
   "outputs": [
    {
     "data": {
      "text/plain": [
       "[6, 5, 2, 40, 30, 20, 10]"
      ]
     },
     "execution_count": 183,
     "metadata": {},
     "output_type": "execute_result"
    }
   ],
   "source": [
    "list1=[10,20,30,40,2,5,6]\n",
    "list1.reverse()\n",
    "list1"
   ]
  },
  {
   "cell_type": "code",
   "execution_count": 187,
   "metadata": {},
   "outputs": [
    {
     "data": {
      "text/plain": [
       "[15, 14, 13, 12, 11, 10]"
      ]
     },
     "execution_count": 187,
     "metadata": {},
     "output_type": "execute_result"
    }
   ],
   "source": [
    "list1 = [10, 11, 12, 13, 14, 15] \n",
    "list2 = reversed(list1)\n",
    "list(list2)"
   ]
  },
  {
   "cell_type": "code",
   "execution_count": 188,
   "metadata": {},
   "outputs": [
    {
     "data": {
      "text/plain": [
       "['j', 'h', 'k', 'h', 'h', 'd', 'w', 'd', 'a', 'd', 'v', 'c', 'b', 'a']"
      ]
     },
     "execution_count": 188,
     "metadata": {},
     "output_type": "execute_result"
    }
   ],
   "source": [
    "str1 = 'abcvdadwdhhkhj'\n",
    "str2 = reversed(str1)\n",
    "list(str2)"
   ]
  },
  {
   "cell_type": "code",
   "execution_count": 189,
   "metadata": {},
   "outputs": [
    {
     "data": {
      "text/plain": [
       "['a', 'b', 'c', 'v', 'd', 'a', 'd', 'w', 'd', 'h', 'h', 'k', 'h', 'j']"
      ]
     },
     "execution_count": 189,
     "metadata": {},
     "output_type": "execute_result"
    }
   ],
   "source": [
    "list(str1)"
   ]
  },
  {
   "cell_type": "code",
   "execution_count": 190,
   "metadata": {},
   "outputs": [
    {
     "data": {
      "text/plain": [
       "'cat'"
      ]
     },
     "execution_count": 190,
     "metadata": {},
     "output_type": "execute_result"
    }
   ],
   "source": [
    "animals = ('dog','cat','monkey')\n",
    "animals[1]"
   ]
  },
  {
   "cell_type": "code",
   "execution_count": 191,
   "metadata": {},
   "outputs": [
    {
     "data": {
      "text/plain": [
       "3.5"
      ]
     },
     "execution_count": 191,
     "metadata": {},
     "output_type": "execute_result"
    }
   ],
   "source": [
    "tuple1 = ((10,2,3),(3.5,4))\n",
    "tuple1[1][0]"
   ]
  },
  {
   "cell_type": "code",
   "execution_count": 194,
   "metadata": {},
   "outputs": [
    {
     "name": "stdout",
     "output_type": "stream",
     "text": [
      "4\n",
      "4\n",
      "4\n"
     ]
    }
   ],
   "source": [
    "name = \"ayon\"\n",
    "list1=[10,20,3.5,2.3]\n",
    "tup1 = (10,20,3.5,2.3)\n",
    "\n",
    "print(len(name))\n",
    "print(len(list1))\n",
    "print(len(tup1))"
   ]
  },
  {
   "cell_type": "code",
   "execution_count": 195,
   "metadata": {},
   "outputs": [
    {
     "name": "stdout",
     "output_type": "stream",
     "text": [
      "yon\n",
      "[3.5, 2.3]\n",
      "(20, 3.5, 2.3)\n",
      "noya\n"
     ]
    }
   ],
   "source": [
    "print(name[1:4])\n",
    "print(list1[2:])\n",
    "print(tup1[1:])\n",
    "print(name[::-1])"
   ]
  },
  {
   "cell_type": "code",
   "execution_count": 196,
   "metadata": {},
   "outputs": [
    {
     "name": "stdout",
     "output_type": "stream",
     "text": [
      "3\n",
      "1\n"
     ]
    }
   ],
   "source": [
    "list1=[10,20,3.5,2.3]\n",
    "word = \"frickkky\"\n",
    "print(word.count('k'))\n",
    "print(list1.count(2.3))"
   ]
  },
  {
   "cell_type": "code",
   "execution_count": 198,
   "metadata": {},
   "outputs": [
    {
     "name": "stdout",
     "output_type": "stream",
     "text": [
      "yes\n"
     ]
    }
   ],
   "source": [
    "list1=[10,20,3.5,2.3]\n",
    "if 3.5 in list1:\n",
    "    print('yes')"
   ]
  },
  {
   "cell_type": "code",
   "execution_count": 201,
   "metadata": {},
   "outputs": [
    {
     "data": {
      "text/plain": [
       "(2, 3, 111, 112)"
      ]
     },
     "execution_count": 201,
     "metadata": {},
     "output_type": "execute_result"
    }
   ],
   "source": [
    "tup1 = (2,3)\n",
    "tup2 =(111,112)\n",
    "tup1+tup2"
   ]
  },
  {
   "cell_type": "code",
   "execution_count": 202,
   "metadata": {},
   "outputs": [
    {
     "data": {
      "text/plain": [
       "[10, 20, 'hello', 40]"
      ]
     },
     "execution_count": 202,
     "metadata": {},
     "output_type": "execute_result"
    }
   ],
   "source": [
    "list1 = [10,20,30,40]\n",
    "list2 = list1\n",
    "list1[2] = 'hello'\n",
    "list2"
   ]
  },
  {
   "cell_type": "code",
   "execution_count": 203,
   "metadata": {},
   "outputs": [
    {
     "data": {
      "text/plain": [
       "[1, 4, 9]"
      ]
     },
     "execution_count": 203,
     "metadata": {},
     "output_type": "execute_result"
    }
   ],
   "source": [
    "result=[x**2 for x in [1,2,3]]\n",
    "result\n"
   ]
  },
  {
   "cell_type": "code",
   "execution_count": 204,
   "metadata": {},
   "outputs": [
    {
     "data": {
      "text/plain": [
       "[2, 3, 3, 4, 5, 6, 7, 8, 9, 10]"
      ]
     },
     "execution_count": 204,
     "metadata": {},
     "output_type": "execute_result"
    }
   ],
   "source": [
    "[x if x>2 else x+1 for x in range(1,11)]"
   ]
  },
  {
   "cell_type": "code",
   "execution_count": 206,
   "metadata": {},
   "outputs": [
    {
     "data": {
      "text/plain": [
       "['Hello', 'A', 'Ayon']"
      ]
     },
     "execution_count": 206,
     "metadata": {},
     "output_type": "execute_result"
    }
   ],
   "source": [
    "words = ['hello', 'a', 'ayon']\n",
    "[x.capitalize() for x in words]"
   ]
  },
  {
   "cell_type": "code",
   "execution_count": 208,
   "metadata": {},
   "outputs": [
    {
     "data": {
      "text/plain": [
       "['1', '2', '3', '4']"
      ]
     },
     "execution_count": 208,
     "metadata": {},
     "output_type": "execute_result"
    }
   ],
   "source": [
    "str1 = \"ayonsonu1234\"\n",
    "str2 = [x for x in str1 if x.isalpha()]\n",
    "str3 = [x for x in str1 if x.isdigit()]\n",
    "str3"
   ]
  },
  {
   "cell_type": "code",
   "execution_count": 211,
   "metadata": {},
   "outputs": [
    {
     "data": {
      "text/plain": [
       "[1, 4, 'a']"
      ]
     },
     "execution_count": 211,
     "metadata": {},
     "output_type": "execute_result"
    }
   ],
   "source": [
    "list1 = [[1,2,3], [4,5,6], ['a','b','c']]\n",
    "def firstelement(x):\n",
    "    return x[0]\n",
    "[firstelement(x) for x in list1]    "
   ]
  },
  {
   "cell_type": "code",
   "execution_count": 213,
   "metadata": {},
   "outputs": [
    {
     "data": {
      "text/plain": [
       "[11, 22, 33, 44]"
      ]
     },
     "execution_count": 213,
     "metadata": {},
     "output_type": "execute_result"
    }
   ],
   "source": [
    "a = [1,2,3,4]\n",
    "c = [10,20,30,40]\n",
    "[a[i]+c[i] for i in range(0,len(a))]"
   ]
  },
  {
   "cell_type": "code",
   "execution_count": 214,
   "metadata": {},
   "outputs": [
    {
     "data": {
      "text/plain": [
       "[11, 2, 7, 12, 3, 8, 13, 4, 9, 14, 5, 10]"
      ]
     },
     "execution_count": 214,
     "metadata": {},
     "output_type": "execute_result"
    }
   ],
   "source": [
    "a = [1,2,3,4]\n",
    "b = [10,1,6]\n",
    "[x+y for x in a for y in b]"
   ]
  },
  {
   "cell_type": "code",
   "execution_count": 215,
   "metadata": {},
   "outputs": [
    {
     "data": {
      "text/plain": [
       "[[3, 7], [2, 9], [1, 10]]"
      ]
     },
     "execution_count": 215,
     "metadata": {},
     "output_type": "execute_result"
    }
   ],
   "source": [
    "list2 = [[2,9],[1,10],[3,7]]\n",
    "\n",
    "def second(x):\n",
    "    return x[1]\n",
    "\n",
    "list2.sort(key=second)\n",
    "list2"
   ]
  },
  {
   "cell_type": "code",
   "execution_count": 216,
   "metadata": {},
   "outputs": [
    {
     "data": {
      "text/plain": [
       "[(1, 10), (2, 9), (3, 7)]"
      ]
     },
     "execution_count": 216,
     "metadata": {},
     "output_type": "execute_result"
    }
   ],
   "source": [
    "list3 = [(2,9),(1,10),(3,7)]\n",
    "\n",
    "def second(x):\n",
    "    return x[1]\n",
    "\n",
    "list3.sort(key=second,reverse=True)\n",
    "list3\n"
   ]
  },
  {
   "cell_type": "code",
   "execution_count": 217,
   "metadata": {},
   "outputs": [
    {
     "data": {
      "text/plain": [
       "[2, 3, 6, 7]"
      ]
     },
     "execution_count": 217,
     "metadata": {},
     "output_type": "execute_result"
    }
   ],
   "source": [
    "d1 = {3:'a',2:'f',6:'d',7:'b'}\n",
    "sorted(d1)"
   ]
  },
  {
   "cell_type": "code",
   "execution_count": 219,
   "metadata": {},
   "outputs": [
    {
     "data": {
      "text/plain": [
       "['a', 'b', 'd', 'f']"
      ]
     },
     "execution_count": 219,
     "metadata": {},
     "output_type": "execute_result"
    }
   ],
   "source": [
    "sorted(d1.values())"
   ]
  },
  {
   "cell_type": "code",
   "execution_count": 220,
   "metadata": {},
   "outputs": [
    {
     "data": {
      "text/plain": [
       "[(2, 'f'), (3, 'a'), (6, 'd'), (7, 'b')]"
      ]
     },
     "execution_count": 220,
     "metadata": {},
     "output_type": "execute_result"
    }
   ],
   "source": [
    "sorted(d1.items())"
   ]
  },
  {
   "cell_type": "code",
   "execution_count": 221,
   "metadata": {},
   "outputs": [
    {
     "data": {
      "text/plain": [
       "[(3, 'a'), (7, 'b'), (6, 'd'), (2, 'f')]"
      ]
     },
     "execution_count": 221,
     "metadata": {},
     "output_type": "execute_result"
    }
   ],
   "source": [
    "sorted(d1.items(), key = lambda x:x[1])"
   ]
  },
  {
   "cell_type": "code",
   "execution_count": 222,
   "metadata": {},
   "outputs": [
    {
     "data": {
      "text/plain": [
       "[(3, 'z'), (4, 's'), (2, 'r'), (1, 'a')]"
      ]
     },
     "execution_count": 222,
     "metadata": {},
     "output_type": "execute_result"
    }
   ],
   "source": [
    "tup2 = ((1,'a'),(4,'s'),(3,'z'),(2,'r'))\n",
    "sorted(tup2,key=lambda x:x[1], reverse = True)"
   ]
  },
  {
   "cell_type": "code",
   "execution_count": 224,
   "metadata": {},
   "outputs": [
    {
     "data": {
      "text/plain": [
       "{1: 'tup', 'list': ['list_item']}"
      ]
     },
     "execution_count": 224,
     "metadata": {},
     "output_type": "execute_result"
    }
   ],
   "source": [
    "dict = {1:'tup'}\n",
    "if 'list' not in dict:\n",
    "    dict['list'] = []\n",
    "dict['list'].append('list_item')\n",
    "dict    \n"
   ]
  },
  {
   "cell_type": "code",
   "execution_count": 225,
   "metadata": {},
   "outputs": [
    {
     "name": "stdout",
     "output_type": "stream",
     "text": [
      "{1: 'tup', 'list': ['list_item'], 2: None}\n"
     ]
    }
   ],
   "source": [
    "dict.setdefault(2)\n",
    "print(dict)"
   ]
  },
  {
   "cell_type": "code",
   "execution_count": 226,
   "metadata": {},
   "outputs": [
    {
     "name": "stdout",
     "output_type": "stream",
     "text": [
      "{1: 'tup', 'list': 'list_item', 2: None}\n"
     ]
    }
   ],
   "source": [
    "dict = {1:'tup'}\n",
    "if 'list' not in dict:\n",
    "    dict['list'] = 'list_item'\n",
    "dict.setdefault(2)\n",
    "print(dict)"
   ]
  },
  {
   "cell_type": "code",
   "execution_count": 232,
   "metadata": {},
   "outputs": [
    {
     "data": {
      "text/plain": [
       "{4: 'd', 5: 'b', 6: 'c', 74: 'd', 1: 'a', 2: 'b', 3: 'c'}"
      ]
     },
     "execution_count": 232,
     "metadata": {},
     "output_type": "execute_result"
    }
   ],
   "source": [
    "a = [1,2,3,4]\n",
    "b = ['a','b','c','d']\n",
    "for i in range(len(a)):\n",
    "    d[a[i]] = b[i]\n",
    "d        "
   ]
  },
  {
   "cell_type": "code",
   "execution_count": 233,
   "metadata": {},
   "outputs": [
    {
     "data": {
      "text/plain": [
       "'d'"
      ]
     },
     "execution_count": 233,
     "metadata": {},
     "output_type": "execute_result"
    }
   ],
   "source": [
    "d.get(74)"
   ]
  },
  {
   "cell_type": "code",
   "execution_count": 235,
   "metadata": {},
   "outputs": [
    {
     "data": {
      "text/plain": [
       "{1: None, 2: None, 3: None, 4: None}"
      ]
     },
     "execution_count": 235,
     "metadata": {},
     "output_type": "execute_result"
    }
   ],
   "source": [
    "list1=[1,2,3,4]\n",
    "dict.fromkeys(list1,None)"
   ]
  },
  {
   "cell_type": "code",
   "execution_count": 236,
   "metadata": {},
   "outputs": [
    {
     "data": {
      "text/plain": [
       "{1: 'Ayon', 2: 'Ayon', 3: 'Ayon', 4: 'Ayon', 5: 'Ayon', 6: 'Ayon'}"
      ]
     },
     "execution_count": 236,
     "metadata": {},
     "output_type": "execute_result"
    }
   ],
   "source": [
    "{}.fromkeys(range(1,7),'Ayon')"
   ]
  },
  {
   "cell_type": "code",
   "execution_count": 237,
   "metadata": {},
   "outputs": [
    {
     "data": {
      "text/plain": [
       "{100: 'a', 200: 'b', 300: 'c'}"
      ]
     },
     "execution_count": 237,
     "metadata": {},
     "output_type": "execute_result"
    }
   ],
   "source": [
    "d = {1: 'a', 2: 'b', 3: 'c'}\n",
    "{k*100: v for k, v in d.items()}"
   ]
  },
  {
   "cell_type": "code",
   "execution_count": 238,
   "metadata": {},
   "outputs": [
    {
     "data": {
      "text/plain": [
       "dict_items([(1, 'a'), (2, 'b'), (3, 'c')])"
      ]
     },
     "execution_count": 238,
     "metadata": {},
     "output_type": "execute_result"
    }
   ],
   "source": [
    "d.items()"
   ]
  },
  {
   "cell_type": "code",
   "execution_count": 246,
   "metadata": {},
   "outputs": [
    {
     "data": {
      "text/plain": [
       "[100, 200, 300]"
      ]
     },
     "execution_count": 246,
     "metadata": {},
     "output_type": "execute_result"
    }
   ],
   "source": [
    "tup = [(1, 'a'), (2, 'b'), (3, 'c')]\n",
    "[k[0]*100 for k in tup]"
   ]
  },
  {
   "cell_type": "code",
   "execution_count": 247,
   "metadata": {},
   "outputs": [
    {
     "name": "stdout",
     "output_type": "stream",
     "text": [
      "2nd key using loop : for\n"
     ]
    }
   ],
   "source": [
    "# initializing dictionary  \n",
    "test_dict = { \"geeks\" : 7, \"for\" : 1, \"geeks\" : 2 } \n",
    "  \n",
    "# accessing 2nd element using naive method \n",
    "# using loop \n",
    "j = 0\n",
    "for i in test_dict: \n",
    "    if (j == 1): \n",
    "        print ('2nd key using loop : ' + i) \n",
    "    j = j + 1"
   ]
  },
  {
   "cell_type": "code",
   "execution_count": 249,
   "metadata": {},
   "outputs": [
    {
     "name": "stdout",
     "output_type": "stream",
     "text": [
      "geeks\n",
      "for\n"
     ]
    }
   ],
   "source": [
    "test_dict = { \"geeks\" : 7, \"for\" : 1, \"geeks\" : 2 } \n",
    "for i in test_dict: \n",
    "    print(i)"
   ]
  },
  {
   "cell_type": "code",
   "execution_count": 251,
   "metadata": {},
   "outputs": [
    {
     "data": {
      "text/plain": [
       "{'jon': 20, 'alia': 21, 'ayon': 40, 'koyel': None}"
      ]
     },
     "execution_count": 251,
     "metadata": {},
     "output_type": "execute_result"
    }
   ],
   "source": [
    "std = {'jon':20, 'alia':21, 'ayon':40}\n",
    "\n",
    "std.setdefault('jon')\n",
    "std.setdefault('koyel')\n",
    "std"
   ]
  },
  {
   "cell_type": "code",
   "execution_count": 253,
   "metadata": {},
   "outputs": [
    {
     "name": "stdout",
     "output_type": "stream",
     "text": [
      "{'Name': 'Zara', 'Age': 7}\n"
     ]
    }
   ],
   "source": [
    "dict = {'Name':'Zara','Age':7}\n",
    "print(str(dict))"
   ]
  },
  {
   "cell_type": "code",
   "execution_count": 254,
   "metadata": {},
   "outputs": [
    {
     "name": "stdout",
     "output_type": "stream",
     "text": [
      "{'Name': 'Zara', 'Age': 7}\n"
     ]
    }
   ],
   "source": [
    "print(dict.copy())"
   ]
  },
  {
   "cell_type": "code",
   "execution_count": 256,
   "metadata": {},
   "outputs": [
    {
     "name": "stdout",
     "output_type": "stream",
     "text": [
      "dict_items([(1, 'Python'), (2, 'Android')])\n",
      "dict_keys([1, 2])\n",
      "dict_values(['Python', 'Android'])\n",
      "Python\n",
      "None\n"
     ]
    }
   ],
   "source": [
    "dict1={1:'Python',2:'Android'}\n",
    "print(dict1.items())\n",
    "print(dict1.keys())\n",
    "print(dict1.values())\n",
    "print(dict1.setdefault(1))\n",
    "print(dict1.setdefault(3))"
   ]
  },
  {
   "cell_type": "code",
   "execution_count": 259,
   "metadata": {},
   "outputs": [
    {
     "name": "stdout",
     "output_type": "stream",
     "text": [
      "None\n",
      "{1: 'Python', 2: 'Android', 3: None}\n"
     ]
    }
   ],
   "source": [
    "third_value = dict1.setdefault(3,'code')\n",
    "print(third_value)\n",
    "print(dict1)"
   ]
  },
  {
   "cell_type": "code",
   "execution_count": 260,
   "metadata": {},
   "outputs": [
    {
     "name": "stdout",
     "output_type": "stream",
     "text": [
      "[3, 1, 2]\n",
      "[1, 2, 3]\n",
      "1 => Java\n",
      "2 => Big Data\n",
      "3 => Python\n"
     ]
    }
   ],
   "source": [
    "dic={3:'Python',1:'Java',2:'Big Data'}\n",
    "k=list(dic.keys())\n",
    "print(k)\n",
    "\n",
    "sk=sorted(k)\n",
    "print(sk)\n",
    "\n",
    "for k in sk:\n",
    "    print(k,'=>',dic[k])"
   ]
  },
  {
   "cell_type": "code",
   "execution_count": 261,
   "metadata": {},
   "outputs": [
    {
     "data": {
      "text/plain": [
       "{'name': {'first': 'Bob', 'last': 'Smith'},\n",
       " 'jobs': ['dev', 'mgr'],\n",
       " 'age': 40.5}"
      ]
     },
     "execution_count": 261,
     "metadata": {},
     "output_type": "execute_result"
    }
   ],
   "source": [
    "rec = {'name': {'first': 'Bob', 'last': 'Smith'},\n",
    "'jobs': ['dev', 'mgr'],'age': 40.5}\n",
    "rec"
   ]
  },
  {
   "cell_type": "code",
   "execution_count": 263,
   "metadata": {},
   "outputs": [
    {
     "data": {
      "text/plain": [
       "{'first': 'Bob', 'last': 'Smith'}"
      ]
     },
     "execution_count": 263,
     "metadata": {},
     "output_type": "execute_result"
    }
   ],
   "source": [
    "rec.get('name')"
   ]
  },
  {
   "cell_type": "code",
   "execution_count": 268,
   "metadata": {},
   "outputs": [
    {
     "data": {
      "text/plain": [
       "{'a': 3, 'b': 4, 'c': 5, 'd': 6}"
      ]
     },
     "execution_count": 268,
     "metadata": {},
     "output_type": "execute_result"
    }
   ],
   "source": [
    "dict1 = {'a': 1, 'b': 2, 'c': 3, 'd': 4}\n",
    "{k:v+2 for k,v in dict1.items()}"
   ]
  },
  {
   "cell_type": "code",
   "execution_count": 270,
   "metadata": {},
   "outputs": [
    {
     "data": {
      "text/plain": [
       "{'b': 4, 'c': 5, 'd': 6, 'e': 7}"
      ]
     },
     "execution_count": 270,
     "metadata": {},
     "output_type": "execute_result"
    }
   ],
   "source": [
    "dict1 = {'a': 1, 'b': 2, 'c': 3, 'd': 4, 'e': 5}\n",
    "{k:v+2 for k,v in dict1.items() if v>=2}"
   ]
  },
  {
   "cell_type": "code",
   "execution_count": 272,
   "metadata": {},
   "outputs": [
    {
     "data": {
      "text/plain": [
       "{'d': 4}"
      ]
     },
     "execution_count": 272,
     "metadata": {},
     "output_type": "execute_result"
    }
   ],
   "source": [
    "{k:v for (k,v) in dict1.items() if v>2 if v%2 == 0}"
   ]
  },
  {
   "cell_type": "code",
   "execution_count": 274,
   "metadata": {},
   "outputs": [
    {
     "data": {
      "text/plain": [
       "{'a': 'odd', 'b': 'even', 'c': 'odd', 'd': 'even', 'e': 'odd', 'f': 'even'}"
      ]
     },
     "execution_count": 274,
     "metadata": {},
     "output_type": "execute_result"
    }
   ],
   "source": [
    "dict1 = {'a': 1, 'b': 2, 'c': 3, 'd': 4, 'e': 5, 'f':6}\n",
    "{k:('even' if v%2==0 else 'odd') for (k,v) in dict1.items()}"
   ]
  },
  {
   "cell_type": "code",
   "execution_count": 283,
   "metadata": {},
   "outputs": [
    {
     "data": {
      "text/plain": [
       "{2: 4, 4: 16, 6: 36, 8: 64}"
      ]
     },
     "execution_count": 283,
     "metadata": {},
     "output_type": "execute_result"
    }
   ],
   "source": [
    "{n:n**2 for n in range(1,10) if n%2 == 0}"
   ]
  },
  {
   "cell_type": "code",
   "execution_count": 285,
   "metadata": {},
   "outputs": [
    {
     "name": "stdout",
     "output_type": "stream",
     "text": [
      "set()\n"
     ]
    }
   ],
   "source": [
    "d1 = {'fname':'Ayon','lname':'jobs','age':21}    \n",
    "d2 = {'fname':'Ayon','lname':'Ghosh','age':21}\n",
    "is_equal=True\n",
    "diff = set(d1.keys()).symmetric_difference(set(d2.keys()))\n",
    "print(diff)"
   ]
  },
  {
   "cell_type": "code",
   "execution_count": 290,
   "metadata": {},
   "outputs": [
    {
     "name": "stdout",
     "output_type": "stream",
     "text": [
      "Ayon Ayon\n",
      "jobs Ghosh\n",
      "the values are different\n"
     ]
    }
   ],
   "source": [
    "if len(set(d1.keys()).symmetric_difference(set(d2.keys()))) == 0:\n",
    "    for k in d1:\n",
    "        if k in d1:\n",
    "            if k in d2:\n",
    "                print(d1[k],d2[k])\n",
    "                if d1[k]==d2[k]:\n",
    "                    continue\n",
    "                else:\n",
    "                    print(\"the values are different\")\n",
    "                    break\n",
    "            else:\n",
    "                print(\"the keys are different\")\n",
    "                break\n",
    "else:\n",
    "     print(\"the dicts have asymmetric keys\")"
   ]
  },
  {
   "cell_type": "code",
   "execution_count": 291,
   "metadata": {},
   "outputs": [
    {
     "name": "stdout",
     "output_type": "stream",
     "text": [
      "Hadoop\n"
     ]
    }
   ],
   "source": [
    "list=[\"Hadoop\",\"Python\",\"Android\"]\n",
    "print(list[-3])"
   ]
  },
  {
   "cell_type": "code",
   "execution_count": 292,
   "metadata": {},
   "outputs": [
    {
     "name": "stdout",
     "output_type": "stream",
     "text": [
      "['Hadoop', 'Java', 'Android']\n"
     ]
    }
   ],
   "source": [
    "list[1]=\"Java\"\n",
    "print(list)"
   ]
  },
  {
   "cell_type": "code",
   "execution_count": 293,
   "metadata": {},
   "outputs": [
    {
     "name": "stdout",
     "output_type": "stream",
     "text": [
      "['Hadoop', 'Scripting', 'Java', 'Android']\n"
     ]
    }
   ],
   "source": [
    "list.insert(1,'Scripting')\n",
    "print(list)\n"
   ]
  },
  {
   "cell_type": "code",
   "execution_count": 294,
   "metadata": {},
   "outputs": [
    {
     "name": "stdout",
     "output_type": "stream",
     "text": [
      "[(1, 2, 3), ('Python', 'Java')]\n"
     ]
    }
   ],
   "source": [
    "list=[(1,2,3),(\"Python\",\"Java\")]\n",
    "print(list)"
   ]
  },
  {
   "cell_type": "code",
   "execution_count": 304,
   "metadata": {},
   "outputs": [
    {
     "data": {
      "text/plain": [
       "(1, 2, 3, 5, 7, 'a', 'b')"
      ]
     },
     "execution_count": 304,
     "metadata": {},
     "output_type": "execute_result"
    }
   ],
   "source": [
    "list1=[1,2,3,5,7,'a','b']\n",
    "tup1=tuple(list1)\n",
    "tup1"
   ]
  },
  {
   "cell_type": "code",
   "execution_count": 308,
   "metadata": {},
   "outputs": [
    {
     "name": "stdout",
     "output_type": "stream",
     "text": [
      "True\n",
      "{'c', 'd', 'a', 'e', 'b', 'o', 'v'}\n",
      "{'a', 'd', 'o'}\n",
      "{'v', 'b'}\n"
     ]
    }
   ],
   "source": [
    "s={'a','b','c','d','e','f','o','v'}\n",
    "set1={'a','b','d','o','v'}\n",
    "set2={'a','c','d','o','e'}\n",
    "print(s.issuperset(set1))\n",
    "print(set1|set2)\n",
    "print(set1&set2)\n",
    "print(set1-set2)"
   ]
  },
  {
   "cell_type": "code",
   "execution_count": 316,
   "metadata": {},
   "outputs": [
    {
     "data": {
      "text/plain": [
       "[(0, 'eat'), (1, 'sleep'), (2, 'drink')]"
      ]
     },
     "execution_count": 316,
     "metadata": {},
     "output_type": "execute_result"
    }
   ],
   "source": [
    "a =['eat', 'sleep','drink']\n",
    "x = enumerate(a)\n",
    "listA = []\n",
    "for i in x:\n",
    "    listA.append(i)\n",
    "listA\n"
   ]
  },
  {
   "cell_type": "code",
   "execution_count": 317,
   "metadata": {},
   "outputs": [
    {
     "data": {
      "text/plain": [
       "{1: 'sleep', 2: 'drink', 3: 'c', 0: 'eat'}"
      ]
     },
     "execution_count": 317,
     "metadata": {},
     "output_type": "execute_result"
    }
   ],
   "source": [
    "for i in listA:\n",
    "    d[i[0]] = i[1]\n",
    "d    "
   ]
  },
  {
   "cell_type": "code",
   "execution_count": 318,
   "metadata": {},
   "outputs": [
    {
     "name": "stdout",
     "output_type": "stream",
     "text": [
      "100 eat\n",
      "101 sleep\n",
      "102 drink\n"
     ]
    }
   ],
   "source": [
    "for count,i in enumerate(a,100):\n",
    "    print(count,i)   "
   ]
  },
  {
   "cell_type": "code",
   "execution_count": 322,
   "metadata": {},
   "outputs": [
    {
     "data": {
      "text/plain": [
       "[[1, 3, 5], [2, 4, 6]]"
      ]
     },
     "execution_count": 322,
     "metadata": {},
     "output_type": "execute_result"
    }
   ],
   "source": [
    "m = [[1,2],[3,4],[5,6]] \n",
    "matrix = []\n",
    "for i in range(2):\n",
    "    row = []\n",
    "    for j in range(3):\n",
    "         row.append(m[j][i])\n",
    "    matrix.append(row)\n",
    "matrix     "
   ]
  },
  {
   "cell_type": "code",
   "execution_count": 323,
   "metadata": {},
   "outputs": [
    {
     "data": {
      "text/plain": [
       "array([[1, 3, 5],\n",
       "       [2, 4, 6]])"
      ]
     },
     "execution_count": 323,
     "metadata": {},
     "output_type": "execute_result"
    }
   ],
   "source": [
    "import numpy as np\n",
    "m = np.array([[1,2],[3,4],[5,6]])\n",
    "m.T"
   ]
  },
  {
   "cell_type": "code",
   "execution_count": null,
   "metadata": {},
   "outputs": [],
   "source": []
  }
 ],
 "metadata": {
  "kernelspec": {
   "display_name": "Python 3",
   "language": "python",
   "name": "python3"
  },
  "language_info": {
   "codemirror_mode": {
    "name": "ipython",
    "version": 3
   },
   "file_extension": ".py",
   "mimetype": "text/x-python",
   "name": "python",
   "nbconvert_exporter": "python",
   "pygments_lexer": "ipython3",
   "version": "3.7.6"
  }
 },
 "nbformat": 4,
 "nbformat_minor": 4
}
