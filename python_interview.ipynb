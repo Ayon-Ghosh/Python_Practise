{
 "cells": [
  {
   "cell_type": "markdown",
   "id": "d4d3c3b0",
   "metadata": {},
   "source": [
    "Rolling a dice"
   ]
  },
  {
   "cell_type": "code",
   "execution_count": 6,
   "id": "196bfb18",
   "metadata": {},
   "outputs": [
    {
     "name": "stdout",
     "output_type": "stream",
     "text": [
      "roll a dice? (Y/N):N\n"
     ]
    }
   ],
   "source": [
    "import random\n",
    "inp = input(\"roll a dice? (Y/N):\")\n",
    "if inp == 'Y':\n",
    "     print(random.randint(1,6))\n",
    "else:\n",
    "     pass"
   ]
  },
  {
   "cell_type": "code",
   "execution_count": 1,
   "id": "d73b6c04",
   "metadata": {},
   "outputs": [
    {
     "name": "stdout",
     "output_type": "stream",
     "text": [
      "3\n"
     ]
    }
   ],
   "source": [
    "import random\n",
    "print(random.randint(1,6))"
   ]
  },
  {
   "cell_type": "markdown",
   "id": "3166fc06",
   "metadata": {},
   "source": [
    "difference btwn range and Xrange\n",
    "https://www.geeksforgeeks.org/range-vs-xrange-python/"
   ]
  },
  {
   "cell_type": "markdown",
   "id": "35ddce7c",
   "metadata": {},
   "source": [
    "hat are docstrings in Python?\n",
    "Ans: Docstrings are not actually comments, but, they are documentation strings. These docstrings are within triple quotes. They are not assigned to any variable and therefore, at times, serve the purpose of comments as well.\n",
    "\n",
    "Example:\n",
    "\n",
    "1\n",
    "2\n",
    "3\n",
    "4\n",
    "5\n",
    "6\n",
    "7\n",
    "8\n",
    "\"\"\"\n",
    "Using docstring as a comment.\n",
    "This code divides 2 numbers\n",
    "\"\"\"\n",
    "x=8\n",
    "y=4\n",
    "z=x/y\n",
    "print(z)"
   ]
  },
  {
   "cell_type": "markdown",
   "id": "957c481a",
   "metadata": {},
   "source": [
    "Q49. What is the difference between deep and shallow copy?\n",
    "https://www.youtube.com/watch?v=naG4uXpmVAU\n",
    "Ans: Shallow copy is used when a new instance type gets created and it keeps the values that are copied in the new instance. Shallow copy is used to copy the reference pointers just like it copies the values. These references point to the original objects and the changes made in any member of the class will also affect the original copy of it. Shallow copy allows faster execution of the program and it depends on the size of the data that is used.\n",
    "\n",
    "Deep copy is used to store the values that are already copied. Deep copy doesn’t copy the reference pointers to the objects. It makes the reference to an object and the new object that is pointed by some other object gets stored. The changes made in the original copy won’t affect any other copy that uses the object. Deep copy makes execution of the program slower due to making certain copies for each object that is been called."
   ]
  },
  {
   "cell_type": "code",
   "execution_count": 1,
   "id": "f62e2f8f",
   "metadata": {},
   "outputs": [
    {
     "name": "stdout",
     "output_type": "stream",
     "text": [
      "enter the number of rows: 4\n",
      "*\n",
      "**\n",
      "***\n",
      "****\n"
     ]
    }
   ],
   "source": [
    "# first star program\n",
    "num = int(input(\"enter the number of rows: \"))\n",
    "for i in range(1, num+1):\n",
    "    for j in range(0, i):\n",
    "        print(\"*\", end = '')\n",
    "    print() \n",
    "    "
   ]
  },
  {
   "cell_type": "code",
   "execution_count": 4,
   "id": "ccd76775",
   "metadata": {},
   "outputs": [
    {
     "name": "stdout",
     "output_type": "stream",
     "text": [
      "*\n",
      "**\n",
      "***\n",
      "****\n"
     ]
    }
   ],
   "source": [
    "for row in range(0,4):\n",
    "    for col in range(0,row+1):\n",
    "        print('*', end='')\n",
    "    print()    "
   ]
  },
  {
   "cell_type": "code",
   "execution_count": 2,
   "id": "b057bd13",
   "metadata": {},
   "outputs": [
    {
     "name": "stdout",
     "output_type": "stream",
     "text": [
      "enter the number of rows: 4\n",
      "****\n",
      "***\n",
      "**\n",
      "*\n"
     ]
    }
   ],
   "source": [
    "num = int(input(\"enter the number of rows: \"))\n"
   ]
  },
  {
   "cell_type": "code",
   "execution_count": 10,
   "id": "9573bc14",
   "metadata": {},
   "outputs": [
    {
     "name": "stdout",
     "output_type": "stream",
     "text": [
      "enter the number of rows: 4\n",
      "****\n",
      "***\n",
      "**\n",
      "*\n"
     ]
    }
   ],
   "source": [
    "num = int(input(\"enter the number of rows: \"))\n",
    "for i in range(0, num):\n",
    "    for j in range(i,num):\n",
    "          print(\"*\", end = '')\n",
    "    print()        \n",
    "    "
   ]
  },
  {
   "cell_type": "code",
   "execution_count": 5,
   "id": "7c8fc992",
   "metadata": {},
   "outputs": [
    {
     "name": "stdout",
     "output_type": "stream",
     "text": [
      "*****\n",
      "****\n",
      "***\n",
      "**\n",
      "*\n"
     ]
    }
   ],
   "source": [
    "for row in range(5):\n",
    "    for col in range(row,5):\n",
    "        print('*', end='')\n",
    "    print()    "
   ]
  },
  {
   "cell_type": "code",
   "execution_count": 11,
   "id": "51d5a07b",
   "metadata": {},
   "outputs": [
    {
     "name": "stdout",
     "output_type": "stream",
     "text": [
      "enter the number of rows: 4\n",
      "\n",
      "*\n",
      "**\n",
      "***\n"
     ]
    }
   ],
   "source": [
    "num = int(input(\"enter the number of rows: \"))\n",
    "for i in range(0, num):\n",
    "    for j in range(0,i):\n",
    "          print(\"*\", end = '')\n",
    "    print()        \n",
    "    "
   ]
  },
  {
   "cell_type": "code",
   "execution_count": 14,
   "id": "b8845c38",
   "metadata": {},
   "outputs": [
    {
     "name": "stdout",
     "output_type": "stream",
     "text": [
      "enter the number of rows: 5\n",
      "    *\n",
      "   ***\n",
      "  *****\n",
      " *******\n",
      "*********\n"
     ]
    }
   ],
   "source": [
    "row = int(input(\"enter the number of rows: \"))\n",
    "col = 2*row\n",
    "for i in range(1, row+1):\n",
    "    for j in range(row, i,-1):\n",
    "          print(\" \", end = '')\n",
    "    for j in range(0,i):\n",
    "          print(\"*\", end ='')\n",
    "    for j in range(1,i):\n",
    "          print(\"*\", end ='')\n",
    "    print()      "
   ]
  },
  {
   "cell_type": "code",
   "execution_count": 14,
   "id": "49e17795",
   "metadata": {},
   "outputs": [
    {
     "name": "stdout",
     "output_type": "stream",
     "text": [
      "    A\n",
      "   AAB\n",
      "  AAABB\n",
      " AAAABBB\n",
      "AAAAABBBB\n"
     ]
    }
   ],
   "source": [
    "for row in range(1,6):\n",
    "    for col in range(5,row,-1):\n",
    "        print(' ',end='')\n",
    "    for col in range(0,row):\n",
    "        print('A',end='')\n",
    "    for col in range(1,row):\n",
    "        print('B', end= '')\n",
    "    \n",
    "    print()    \n",
    "    "
   ]
  },
  {
   "cell_type": "code",
   "execution_count": 22,
   "id": "2f0970fa",
   "metadata": {},
   "outputs": [
    {
     "name": "stdout",
     "output_type": "stream",
     "text": [
      "    1\n",
      "   121\n",
      "  12312\n",
      " 1234123\n",
      "123451234\n"
     ]
    }
   ],
   "source": [
    "for row in range(1,6):\n",
    "    for col in range(5,row,-1):\n",
    "        print(' ',end='')\n",
    "    for col in range(1,row+1):\n",
    "        print(col,end='')\n",
    "    for col in range(1,row):\n",
    "        print(col, end= '')\n",
    "    \n",
    "    print()    \n",
    "    "
   ]
  },
  {
   "cell_type": "code",
   "execution_count": 17,
   "id": "bfdc51ba",
   "metadata": {},
   "outputs": [
    {
     "name": "stdout",
     "output_type": "stream",
     "text": [
      "     *\n",
      "    ***\n",
      "   *****\n",
      "  *******\n",
      " *********\n"
     ]
    }
   ],
   "source": [
    "for row in range(0,5):\n",
    "    for col in range(5,row,-1):\n",
    "        print(' ',end='')\n",
    "    temp = 2*row+1\n",
    "    print(temp*'*', end='\\n')\n",
    "    \n",
    "    "
   ]
  },
  {
   "cell_type": "code",
   "execution_count": 31,
   "id": "bb9aa8f1",
   "metadata": {},
   "outputs": [
    {
     "name": "stdout",
     "output_type": "stream",
     "text": [
      "enter the number of rows: 5\n",
      "     *\n",
      "    ***\n",
      "   *****\n",
      "  *******\n",
      " *********\n"
     ]
    }
   ],
   "source": [
    "row = int(input(\"enter the number of rows: \"))\n",
    "col = 2*row\n",
    "for i in range(0,row):\n",
    "    for j in range(i,row):\n",
    "        print(' ',end = '')\n",
    "    temp = 2*i+1\n",
    "    print(temp*'*', end = '\\n')\n",
    "   "
   ]
  },
  {
   "cell_type": "code",
   "execution_count": 21,
   "id": "32b0c08e",
   "metadata": {},
   "outputs": [
    {
     "name": "stdout",
     "output_type": "stream",
     "text": [
      "****\n"
     ]
    }
   ],
   "source": [
    "print(4*'*')"
   ]
  },
  {
   "cell_type": "code",
   "execution_count": 32,
   "id": "7bedb948",
   "metadata": {},
   "outputs": [
    {
     "name": "stdout",
     "output_type": "stream",
     "text": [
      "enter the number of rows: 4\n",
      "   1\n",
      "  121\n",
      " 12312\n",
      "1234123\n"
     ]
    }
   ],
   "source": [
    "row = int(input(\"enter the number of rows: \"))\n",
    "col = 2*row\n",
    "for i in range(1, row+1):\n",
    "    for j in range(row, i,-1):\n",
    "          print(\" \", end = '')\n",
    "    for j in range(1,i+1):\n",
    "          print(j, end ='')\n",
    "    for j in range(1,i):\n",
    "          print(j, end ='')\n",
    "    print()     "
   ]
  },
  {
   "cell_type": "code",
   "execution_count": 35,
   "id": "5ef9ef52",
   "metadata": {},
   "outputs": [
    {
     "name": "stdout",
     "output_type": "stream",
     "text": [
      "1\n"
     ]
    }
   ],
   "source": [
    "for k in range(1,2):\n",
    "    print(k)"
   ]
  },
  {
   "cell_type": "code",
   "execution_count": 53,
   "id": "a303e3ff",
   "metadata": {},
   "outputs": [
    {
     "name": "stdout",
     "output_type": "stream",
     "text": [
      "enter the number of rows: 4\n",
      "   1\n",
      "  121\n",
      " 12321\n",
      "1234321\n"
     ]
    }
   ],
   "source": [
    "row = int(input(\"enter the number of rows: \"))\n",
    "col = 2*row\n",
    "for i in range(1,row+1):\n",
    "    \n",
    "    for j in range(i,row):\n",
    "        print(' ',end = '')\n",
    "    for j in range(1,i+1):\n",
    "          print(j, end ='')\n",
    "    for j in range(i-1,0,-1):\n",
    "          print(j, end ='')\n",
    "    print()     "
   ]
  },
  {
   "cell_type": "code",
   "execution_count": 54,
   "id": "43a02581",
   "metadata": {},
   "outputs": [
    {
     "name": "stdout",
     "output_type": "stream",
     "text": [
      "enter the number of rows: 4\n",
      "   1\n",
      "  121\n",
      " 12312\n",
      "1234123\n"
     ]
    }
   ],
   "source": [
    "row = int(input(\"enter the number of rows: \"))\n",
    "col = 2*row\n",
    "for i in range(1,row+1):\n",
    "    \n",
    "    for j in range(i,row):\n",
    "        print(' ',end = '')\n",
    "    for j in range(1,i+1):\n",
    "          print(j, end ='')\n",
    "    for j in range(1,i):\n",
    "          print(j, end ='')\n",
    "    print()     "
   ]
  },
  {
   "cell_type": "code",
   "execution_count": 55,
   "id": "dc034d1c",
   "metadata": {},
   "outputs": [],
   "source": [
    "#A Robot moves in a Plane starting from the origin point (0,0). The robot can move toward UP, \n",
    "#DOWN, LEFT, RIGHT. The trace of Robot movement is as given following:\n",
    "#UP 5\n",
    "#DOWN 3\n",
    "#LEFT 3\n",
    "#RIGHT 2\n",
    "#The numbers after directions are steps. Write a program to compute the distance current position \n",
    "#after sequence of movements.\n",
    "#Hint: Use math module."
   ]
  },
  {
   "cell_type": "code",
   "execution_count": 27,
   "id": "b999be6d",
   "metadata": {},
   "outputs": [
    {
     "name": "stdout",
     "output_type": "stream",
     "text": [
      "enter number of steps:5\n",
      "enter directionLEFT, 10\n",
      "enter directionRIGHT 2\n",
      "enter directionDOWN 6\n",
      "enter directionLEFT 10\n",
      "enter directionUP 15\n",
      "current_point: [2, 9]\n",
      "distance:9.22\n"
     ]
    }
   ],
   "source": [
    "import math\n",
    "current_point = [0,0]\n",
    "n_steps = int(input('enter number of steps:'))\n",
    "for i in range(n_steps):\n",
    "    dir = input(\"enter direction\").split(' ')\n",
    "    if dir[0] == 'UP':\n",
    "        current_point[1]= current_point[1]+int(dir[1])\n",
    "    elif dir[0] == 'DOWN':\n",
    "        current_point[1]= current_point[1]-int(dir[1])\n",
    "    elif dir[0]=='LEFT':\n",
    "        current_point[0]= current_point[0]-int(dir[1])\n",
    "    else:\n",
    "        current_point[0]= current_point[0]+int(dir[1])\n",
    "print(f'current_point: {current_point}')\n",
    "distance = math.sqrt(((current_point[0])**2)+((current_point[1])**2))\n",
    "print(f'distance:{round(distance,2)}')"
   ]
  },
  {
   "cell_type": "code",
   "execution_count": 64,
   "id": "772f58fb",
   "metadata": {},
   "outputs": [
    {
     "name": "stdout",
     "output_type": "stream",
     "text": [
      "enter the number of steps:4\n",
      "enter the dir:UP 5\n",
      "enter the dir:5\n",
      "enter the dir:DOWN 3\n",
      "enter the dir:LEFT 3\n",
      "[['UP', '5'], ['5'], ['DOWN', '3'], ['LEFT', '3']]\n",
      "[-3, 2]\n",
      "distance from starting point: (3.605551275463989, 2)\n"
     ]
    }
   ],
   "source": [
    "import math\n",
    "starting_point = [0,0]\n",
    "N = int(input('enter the number of steps:'))\n",
    "dir_list = []\n",
    "for i in range(0,N):\n",
    "    dir = input('enter the dir:').split(' ')\n",
    "    dir_list.append(dir)\n",
    "    if dir[0] == 'UP':\n",
    "        starting_point[1] = starting_point[1] + int(dir[1])\n",
    "    elif dir[0] == 'DOWN':\n",
    "        starting_point[1] = starting_point[1] - int(dir[1])   \n",
    "    elif dir[0] == 'LEFT':\n",
    "        starting_point[0] = starting_point[0] - int(dir[1])  \n",
    "    elif dir[0] == 'RIGHT':\n",
    "        starting_point[0] = starting_point[0] + int(dir[1])\n",
    "    else:\n",
    "        continue\n",
    "print(dir_list)\n",
    "print(starting_point)\n",
    "print(f'distance from starting point: {round((starting_point[0])**2 + (starting_point[1])**2)**0.5,2}')"
   ]
  },
  {
   "cell_type": "code",
   "execution_count": 61,
   "id": "34a6b46c",
   "metadata": {},
   "outputs": [
    {
     "name": "stdout",
     "output_type": "stream",
     "text": [
      "9234\n",
      "************\n",
      "sum: 5\n",
      "sum: 9\n",
      "sum: 11\n",
      "sum: 12\n",
      "sum: 3\n",
      "sum: 5\n",
      "sum: 6\n",
      "sum: 7\n",
      "1009\n",
      "************\n",
      "9\n",
      "************\n",
      "sum: 0\n",
      "sum: 0\n",
      "sum: 3\n",
      "sum: 5\n"
     ]
    },
    {
     "data": {
      "text/plain": [
       "['1123', '2300']"
      ]
     },
     "execution_count": 61,
     "metadata": {},
     "output_type": "execute_result"
    }
   ],
   "source": [
    "s =[9234,1245,1123,1009,9,2300]\n",
    "\n",
    "result = []\n",
    "for i in s:\n",
    "    sum = 0\n",
    "    i = str(i)\n",
    "    if '9' in str(i):\n",
    "        print(i)\n",
    "        print('************')\n",
    "        continue\n",
    "    else:\n",
    "        temp = int(i)\n",
    "        while(temp!=0):\n",
    "            div = temp%10\n",
    "            sum = sum+div\n",
    "            temp=temp//10\n",
    "            \n",
    "            print(f'sum: {sum}')\n",
    "        if sum<=9:\n",
    "            result.append(i)\n",
    "result        \n",
    "        "
   ]
  },
  {
   "cell_type": "code",
   "execution_count": 59,
   "id": "723a8b25",
   "metadata": {},
   "outputs": [
    {
     "name": "stdout",
     "output_type": "stream",
     "text": [
      "enter your num:1234\n",
      "1,2,3,4\n"
     ]
    }
   ],
   "source": [
    "listA = []\n",
    "num = int(input('enter your num:'))\n",
    "i = num\n",
    "while(i!=0):\n",
    "    div = i%10\n",
    "    listA.append(str(div))\n",
    "    i=i//10\n",
    "strA = ','.join(listA)     \n",
    "print(strA[::-1])    "
   ]
  },
  {
   "cell_type": "code",
   "execution_count": 72,
   "id": "363ff81b",
   "metadata": {},
   "outputs": [
    {
     "name": "stdout",
     "output_type": "stream",
     "text": [
      "6\n"
     ]
    }
   ],
   "source": [
    "s = '123'\n",
    "sum = 0\n",
    "for i in s:\n",
    "    sum = sum+int(i)\n",
    "print(sum)    \n",
    "    "
   ]
  },
  {
   "cell_type": "code",
   "execution_count": 87,
   "id": "f0a60fb8",
   "metadata": {},
   "outputs": [
    {
     "name": "stdout",
     "output_type": "stream",
     "text": [
      "enter your num:153\n",
      "153\n",
      "yes\n"
     ]
    }
   ],
   "source": [
    "input_num = int(input('enter your num:'))\n",
    "sum = 0\n",
    "num = input_num \n",
    "\n",
    "while num!=0:\n",
    "    div = num%10\n",
    "    sum=sum+div**3\n",
    "    num = num//10\n",
    "print(sum)    \n",
    "if sum==input_num:\n",
    "    print('yes')"
   ]
  },
  {
   "cell_type": "code",
   "execution_count": 81,
   "id": "67efa861",
   "metadata": {},
   "outputs": [],
   "source": [
    "def another_way(s):\n",
    "    \n",
    "    result = []\n",
    "    for i in s:\n",
    "        sum = 0\n",
    "        i = str(i)\n",
    "        if '9' in str(i):\n",
    "             continue\n",
    "        else:\n",
    "            for j in i:\n",
    "                sum = sum + int(j)\n",
    "            print(sum)    \n",
    "            if sum<=9:\n",
    "                result.append(i)\n",
    "    return result         "
   ]
  },
  {
   "cell_type": "code",
   "execution_count": 82,
   "id": "4c460d9e",
   "metadata": {},
   "outputs": [
    {
     "name": "stdout",
     "output_type": "stream",
     "text": [
      "12\n",
      "7\n",
      "5\n"
     ]
    },
    {
     "data": {
      "text/plain": [
       "['1123', '2300']"
      ]
     },
     "execution_count": 82,
     "metadata": {},
     "output_type": "execute_result"
    }
   ],
   "source": [
    "dataset = [9234,1245,1123,1009,9,2300]\n",
    "another_way(dataset)"
   ]
  },
  {
   "cell_type": "code",
   "execution_count": 83,
   "id": "8be9ebcf",
   "metadata": {},
   "outputs": [
    {
     "name": "stdout",
     "output_type": "stream",
     "text": [
      "9\n",
      "10\n",
      "5\n",
      "12\n"
     ]
    },
    {
     "data": {
      "text/plain": [
       "['45', '2300']"
      ]
     },
     "execution_count": 83,
     "metadata": {},
     "output_type": "execute_result"
    }
   ],
   "source": [
    "set_in = {1234,1245,45,1009,9,2300}\n",
    "another_way(set_in)"
   ]
  },
  {
   "cell_type": "code",
   "execution_count": 63,
   "id": "d9caac35",
   "metadata": {},
   "outputs": [],
   "source": [
    "def result(dataset):\n",
    "    s = list(dataset)\n",
    "    result = []\n",
    "    for i in s:\n",
    "        sum = 0\n",
    "        i = str(i)\n",
    "        if '9' in str(i):\n",
    "             continue\n",
    "        else:        \n",
    "            temp = int(i)\n",
    "            while(temp!=0):\n",
    "                div = temp%10\n",
    "                sum = sum+div\n",
    "                temp=temp//10\n",
    "            \n",
    "            \n",
    "        if sum<=9:\n",
    "            result.append(i)\n",
    "    return result        \n",
    "        "
   ]
  },
  {
   "cell_type": "code",
   "execution_count": 64,
   "id": "2ba40717",
   "metadata": {},
   "outputs": [
    {
     "data": {
      "text/plain": [
       "['1123', '2300']"
      ]
     },
     "execution_count": 64,
     "metadata": {},
     "output_type": "execute_result"
    }
   ],
   "source": [
    "dataset = [9234,1245,1123,1009,9,2300]\n",
    "result(dataset)"
   ]
  },
  {
   "cell_type": "code",
   "execution_count": 65,
   "id": "d9115f6a",
   "metadata": {},
   "outputs": [
    {
     "data": {
      "text/plain": [
       "['45', '2300']"
      ]
     },
     "execution_count": 65,
     "metadata": {},
     "output_type": "execute_result"
    }
   ],
   "source": [
    "set_in = {1234,1245,45,1009,9,2300}\n",
    "result(set_in)"
   ]
  },
  {
   "cell_type": "code",
   "execution_count": 65,
   "id": "bcf1cedc",
   "metadata": {},
   "outputs": [],
   "source": [
    "#The element value in the i-th row and j-th column of the array should be i * j.\n",
    "#Note: i=0,1.., X-1; j=0,1,¡­Y-1. Suppose the following inputs are given to the program: 3,5\n",
    "#Then, the output of the program should be:\n",
    "#[[0, 0, 0, 0, 0], [0, 1, 2, 3, 4], [0, 2, 4, 6, 8]]"
   ]
  },
  {
   "cell_type": "code",
   "execution_count": 93,
   "id": "eb669e6b",
   "metadata": {},
   "outputs": [
    {
     "data": {
      "text/plain": [
       "[[0, 0, 0], [1, 2, 3, 4, 5], [2, 3, 4, 5, 6], [3, 4, 5, 6, 7]]"
      ]
     },
     "execution_count": 93,
     "metadata": {},
     "output_type": "execute_result"
    }
   ],
   "source": [
    "row = []\n",
    "\n",
    "for i in range(0,4):\n",
    "    col=[]\n",
    "    if i!=0:\n",
    "        for j in range(0,5):\n",
    "            temp = i+j\n",
    "            col.append(temp)\n",
    "        row.append(col)\n",
    "    else:\n",
    "        for j in range(0,3):\n",
    "            temp = 0\n",
    "            col.append(temp)\n",
    "        row.append(col) \n",
    "row    \n",
    "        "
   ]
  },
  {
   "cell_type": "code",
   "execution_count": 103,
   "id": "4dfbbc22",
   "metadata": {},
   "outputs": [
    {
     "data": {
      "text/plain": [
       "[[0, 0, 0, 0, 0],\n",
       " [0, 1, 2, 3, 4],\n",
       " [0, 2, 4, 6, 8],\n",
       " [0, 3, 6, 9, 12],\n",
       " [0, 4, 8, 12, 16]]"
      ]
     },
     "execution_count": 103,
     "metadata": {},
     "output_type": "execute_result"
    }
   ],
   "source": [
    "[[i*j for i in range(0,5) ] for j in range(0,5)]"
   ]
  },
  {
   "cell_type": "code",
   "execution_count": 111,
   "id": "a0d76498",
   "metadata": {},
   "outputs": [
    {
     "data": {
      "text/plain": [
       "[[0, 0, 0], [1, 2, 3], [2, 3, 4], [3, 4, 5]]"
      ]
     },
     "execution_count": 111,
     "metadata": {},
     "output_type": "execute_result"
    }
   ],
   "source": [
    "[[0 if i==0 else j for j in range(i,3+i)] for i in range(4)]"
   ]
  },
  {
   "cell_type": "code",
   "execution_count": 107,
   "id": "8e823570",
   "metadata": {},
   "outputs": [
    {
     "data": {
      "text/plain": [
       "[[1, 3, 5], [2, 4, 6]]"
      ]
     },
     "execution_count": 107,
     "metadata": {},
     "output_type": "execute_result"
    }
   ],
   "source": [
    "m = [[1,2],[3,4],[5,6]] \n",
    "matrix = []\n",
    "for i in range(2):\n",
    "    row = []\n",
    "    for j in range(3):\n",
    "         row.append(m[j][i])\n",
    "    matrix.append(row)\n",
    "matrix    "
   ]
  },
  {
   "cell_type": "code",
   "execution_count": 71,
   "id": "5c88ab28",
   "metadata": {},
   "outputs": [
    {
     "name": "stdout",
     "output_type": "stream",
     "text": [
      "enter row and col:3, 5\n"
     ]
    },
    {
     "data": {
      "text/plain": [
       "[[0, 0, 0, 0, 0], [0, 1, 2, 3, 4], [0, 2, 4, 6, 8]]"
      ]
     },
     "execution_count": 71,
     "metadata": {},
     "output_type": "execute_result"
    }
   ],
   "source": [
    "row_col=input('enter row and col:').split(',')\n",
    "row_col = [int(i) for i in row_col]\n",
    "result = [[i*j for i in range(0, row_col[1])] for j in range(0, row_col[0])]\n",
    "result"
   ]
  },
  {
   "cell_type": "markdown",
   "id": "8b1c0b78",
   "metadata": {},
   "source": [
    "Write a program to produce Fibonacci series in Python."
   ]
  },
  {
   "cell_type": "code",
   "execution_count": 102,
   "id": "b828173f",
   "metadata": {},
   "outputs": [
    {
     "name": "stdout",
     "output_type": "stream",
     "text": [
      "10\n"
     ]
    },
    {
     "data": {
      "text/plain": [
       "[0, 1, 1, 2, 3, 5, 8, 13, 21, 34]"
      ]
     },
     "execution_count": 102,
     "metadata": {},
     "output_type": "execute_result"
    }
   ],
   "source": [
    "N = int(input())\n",
    "a = 0\n",
    "b = 1\n",
    "fib_series = [0,1]\n",
    "for i in range(0,N-2):\n",
    "    temp = a + b\n",
    "    fib_series.append(temp)\n",
    "    a=b\n",
    "    b=temp\n",
    "    \n",
    "    \n",
    "fib_series"
   ]
  },
  {
   "cell_type": "code",
   "execution_count": 113,
   "id": "694f1859",
   "metadata": {},
   "outputs": [
    {
     "name": "stdout",
     "output_type": "stream",
     "text": [
      "10\n"
     ]
    },
    {
     "data": {
      "text/plain": [
       "[0, 1, 1, 2, 3, 5, 8, 13, 21, 34]"
      ]
     },
     "execution_count": 113,
     "metadata": {},
     "output_type": "execute_result"
    }
   ],
   "source": [
    "N = int(input())\n",
    "fib = [0,1]\n",
    "a = 0\n",
    "b = 1\n",
    "for i in range(0,N-2):\n",
    "    temp = a+b\n",
    "    a = b\n",
    "    b = temp\n",
    "    \n",
    "    fib.append(temp)\n",
    "fib    "
   ]
  },
  {
   "cell_type": "code",
   "execution_count": 118,
   "id": "a2d4d2dd",
   "metadata": {},
   "outputs": [],
   "source": [
    "def fib_recu(N):\n",
    "    if N == 0:\n",
    "        tn = 0\n",
    "        return tn\n",
    "    elif N == 1:\n",
    "        tn = 1\n",
    "        return tn\n",
    "    else:\n",
    "        tn = fib_recu(N-1) + fib_recu(N-2)\n",
    "        return tn"
   ]
  },
  {
   "cell_type": "code",
   "execution_count": 120,
   "id": "915d9dc2",
   "metadata": {},
   "outputs": [
    {
     "data": {
      "text/plain": [
       "[0, 1, 1, 2, 3, 5, 8, 13, 21, 34]"
      ]
     },
     "execution_count": 120,
     "metadata": {},
     "output_type": "execute_result"
    }
   ],
   "source": [
    "[fib_recu(i) for i in range(10)]"
   ]
  },
  {
   "cell_type": "code",
   "execution_count": 100,
   "id": "3f7946ab",
   "metadata": {},
   "outputs": [],
   "source": [
    "def fib_recurse(N):\n",
    "    \n",
    "    if N==1:\n",
    "        tn = 0\n",
    "        return tn\n",
    "    elif N == 2:\n",
    "        tn = 1\n",
    "        return tn\n",
    "    else:\n",
    "        tn =  fib_recurse(N-1) + fib_recurse(N-2)\n",
    "        return tn"
   ]
  },
  {
   "cell_type": "code",
   "execution_count": 101,
   "id": "92e3b67c",
   "metadata": {},
   "outputs": [
    {
     "data": {
      "text/plain": [
       "89"
      ]
     },
     "execution_count": 101,
     "metadata": {},
     "output_type": "execute_result"
    }
   ],
   "source": [
    "fib_recurse(12)"
   ]
  },
  {
   "cell_type": "markdown",
   "id": "e213877c",
   "metadata": {},
   "source": [
    "recursion"
   ]
  },
  {
   "cell_type": "code",
   "execution_count": 123,
   "id": "deb5891a",
   "metadata": {},
   "outputs": [],
   "source": [
    "def recursion(N):\n",
    "    if N==0:\n",
    "        return 1\n",
    "    elif N==1:\n",
    "        return 1\n",
    "    else:\n",
    "        return N*recursion(N-1)"
   ]
  },
  {
   "cell_type": "code",
   "execution_count": 124,
   "id": "5e3619de",
   "metadata": {},
   "outputs": [
    {
     "data": {
      "text/plain": [
       "120"
      ]
     },
     "execution_count": 124,
     "metadata": {},
     "output_type": "execute_result"
    }
   ],
   "source": [
    "recursion(5)"
   ]
  },
  {
   "cell_type": "code",
   "execution_count": 103,
   "id": "127db15d",
   "metadata": {},
   "outputs": [],
   "source": [
    "def recursion(N):\n",
    "    if N == 0:\n",
    "        return 1\n",
    "    elif N ==1:\n",
    "        return 1\n",
    "    else:\n",
    "        return recursion(N-1)*N\n",
    "       "
   ]
  },
  {
   "cell_type": "code",
   "execution_count": 109,
   "id": "b665c236",
   "metadata": {},
   "outputs": [
    {
     "data": {
      "text/plain": [
       "362880"
      ]
     },
     "execution_count": 109,
     "metadata": {},
     "output_type": "execute_result"
    }
   ],
   "source": [
    "recursion(9)"
   ]
  },
  {
   "cell_type": "code",
   "execution_count": 110,
   "id": "c71544b3",
   "metadata": {},
   "outputs": [],
   "source": [
    "#Write a program that calculates and prints the value according to the given formula:\n",
    "\n",
    "#Q = Square root of [(2 * C * D)/H]\n",
    "\n",
    "#Following are the fixed values of C and H:\n",
    "\n",
    "#C is 50. H is 30.\n",
    "\n",
    "#D is the variable whose values should be input to your program in a \n",
    "#comma-separated sequence.For example Let us assume the following comma \n",
    "#separated input sequence is given to the program:"
   ]
  },
  {
   "cell_type": "code",
   "execution_count": 137,
   "id": "27a1d6e6",
   "metadata": {},
   "outputs": [],
   "source": [
    "import math\n",
    "def my_fumc(*num):\n",
    "    result = []\n",
    "    C = 50\n",
    "    H = 30\n",
    "    for n in num:\n",
    "        temp = round(math.sqrt(2*C*n/H))\n",
    "        result.append(temp)\n",
    "    return result   "
   ]
  },
  {
   "cell_type": "code",
   "execution_count": 138,
   "id": "a90dc207",
   "metadata": {},
   "outputs": [
    {
     "data": {
      "text/plain": [
       "[3, 4]"
      ]
     },
     "execution_count": 138,
     "metadata": {},
     "output_type": "execute_result"
    }
   ],
   "source": [
    "my_fumc(3,6)"
   ]
  },
  {
   "cell_type": "markdown",
   "id": "273f7671",
   "metadata": {},
   "source": [
    "Write a function to generate N samples from a normal distribution and plot the histogram."
   ]
  },
  {
   "cell_type": "code",
   "execution_count": 126,
   "id": "8b56e2d6",
   "metadata": {},
   "outputs": [
    {
     "data": {
      "text/plain": [
       "array([[<AxesSubplot:title={'center':'0'}>]], dtype=object)"
      ]
     },
     "execution_count": 126,
     "metadata": {},
     "output_type": "execute_result"
    },
    {
     "data": {
      "image/png": "[encoded data removed]",
      "text/plain": [
       "<Figure size 432x288 with 1 Axes>"
      ]
     },
     "metadata": {
      "needs_background": "light"
     },
     "output_type": "display_data"
    }
   ],
   "source": [
    "from numpy.random import randn\n",
    "import pandas as pd\n",
    "import matplotlib.pyplot as plt\n",
    "import seaborn as sns\n",
    "import numpy as np\n",
    "df = pd.DataFrame(randn(200))\n",
    "df.hist()"
   ]
  },
  {
   "cell_type": "code",
   "execution_count": 127,
   "id": "ff887734",
   "metadata": {},
   "outputs": [
    {
     "data": {
      "text/plain": [
       "<AxesSubplot:>"
      ]
     },
     "execution_count": 127,
     "metadata": {},
     "output_type": "execute_result"
    },
    {
     "data": {
      "image/png": "[encoded data removed]",
      "text/plain": [
       "<Figure size 432x288 with 1 Axes>"
      ]
     },
     "metadata": {
      "needs_background": "light"
     },
     "output_type": "display_data"
    }
   ],
   "source": [
    "df.plot()"
   ]
  },
  {
   "cell_type": "code",
   "execution_count": 5,
   "id": "c5f46758",
   "metadata": {},
   "outputs": [
    {
     "data": {
      "text/plain": [
       "array([[<AxesSubplot:title={'center':'0'}>]], dtype=object)"
      ]
     },
     "execution_count": 5,
     "metadata": {},
     "output_type": "execute_result"
    },
    {
     "data": {
      "image/png": "[encoded data removed]",
      "text/plain": [
       "<Figure size 432x288 with 1 Axes>"
      ]
     },
     "metadata": {
      "needs_background": "light"
     },
     "output_type": "display_data"
    }
   ],
   "source": [
    "from numpy.random import randn\n",
    "import pandas as pd\n",
    "import matplotlib.pyplot as plt\n",
    "import seaborn as sns\n",
    "import numpy as np\n",
    "df = pd.DataFrame(randn(10))\n",
    "df.hist()"
   ]
  },
  {
   "cell_type": "code",
   "execution_count": 6,
   "id": "b1e0feff",
   "metadata": {},
   "outputs": [],
   "source": [
    "def gen_hist(N):\n",
    "    df = pd.DataFrame(randn(10))\n",
    "    return df.hist()"
   ]
  },
  {
   "cell_type": "code",
   "execution_count": 7,
   "id": "7e5be57e",
   "metadata": {},
   "outputs": [
    {
     "name": "stdout",
     "output_type": "stream",
     "text": [
      "10\n"
     ]
    },
    {
     "data": {
      "text/plain": [
       "array([[<AxesSubplot:title={'center':'0'}>]], dtype=object)"
      ]
     },
     "execution_count": 7,
     "metadata": {},
     "output_type": "execute_result"
    },
    {
     "data": {
      "image/png": "[encoded data removed]",
      "text/plain": [
       "<Figure size 432x288 with 1 Axes>"
      ]
     },
     "metadata": {
      "needs_background": "light"
     },
     "output_type": "display_data"
    }
   ],
   "source": [
    "N = int(input())\n",
    "gen_hist(N)"
   ]
  },
  {
   "cell_type": "markdown",
   "id": "84ac2d5b",
   "metadata": {},
   "source": [
    "another way"
   ]
  },
  {
   "cell_type": "code",
   "execution_count": 8,
   "id": "badb41c2",
   "metadata": {},
   "outputs": [
    {
     "data": {
      "image/png": "[encoded data removed]",
      "text/plain": [
       "<Figure size 432x288 with 1 Axes>"
      ]
     },
     "metadata": {
      "needs_background": "light"
     },
     "output_type": "display_data"
    }
   ],
   "source": [
    "import scipy.stats \n",
    "import matplotlib.pyplot as plt\n",
    "\n",
    "def gen_samples_from_norm(N): \n",
    "    dist = scipy.stats.norm(0, 1)\n",
    "    samples = dist.rvs(N)\n",
    "    plt.hist(samples)\n",
    "    plt.xlabel(str(N)+' samples')\n",
    "    plt.ylabel('Count')\n",
    "    plt.show()\n",
    "\n",
    "gen_samples_from_norm(10)"
   ]
  },
  {
   "cell_type": "code",
   "execution_count": 129,
   "id": "9569ad92",
   "metadata": {},
   "outputs": [
    {
     "name": "stdout",
     "output_type": "stream",
     "text": [
      "[ 1.25150085 -0.26125569 -0.83488886 -0.46027121  0.87137567  0.65522156\n",
      "  0.04524684 -0.79416416  0.64008401 -1.07451089]\n"
     ]
    }
   ],
   "source": [
    "import scipy.stats \n",
    "dist = scipy.stats.norm(0, 1)\n",
    "samples = dist.rvs(N)\n",
    "print(samples)"
   ]
  },
  {
   "cell_type": "code",
   "execution_count": 130,
   "id": "54c41392",
   "metadata": {},
   "outputs": [
    {
     "data": {
      "image/png": "[encoded data removed]",
      "text/plain": [
       "<Figure size 432x288 with 1 Axes>"
      ]
     },
     "metadata": {
      "needs_background": "light"
     },
     "output_type": "display_data"
    }
   ],
   "source": [
    "plt.plot(samples)\n",
    "plt.show()"
   ]
  },
  {
   "cell_type": "code",
   "execution_count": 10,
   "id": "be46ee56",
   "metadata": {},
   "outputs": [
    {
     "data": {
      "text/plain": [
       "array([ 1.284671  , -0.24697369,  0.91958578, -1.13841011,  0.81414341,\n",
       "       -0.91805299,  1.69974041,  0.11183717,  0.04793648, -0.65282655])"
      ]
     },
     "execution_count": 10,
     "metadata": {},
     "output_type": "execute_result"
    }
   ],
   "source": [
    "randn(10)"
   ]
  },
  {
   "cell_type": "markdown",
   "id": "c1dc824a",
   "metadata": {},
   "source": [
    "another way"
   ]
  },
  {
   "cell_type": "code",
   "execution_count": 17,
   "id": "6b0293dd",
   "metadata": {},
   "outputs": [],
   "source": [
    "def gen_hist_another(N):\n",
    "    samples = randn(10)\n",
    "    plt.hist(samples)\n",
    "    plt.xlabel(str(N) + \" \" + \"samples\")\n",
    "    plt.ylabel(\"count\")\n",
    "    plt.show()"
   ]
  },
  {
   "cell_type": "code",
   "execution_count": 18,
   "id": "9160375d",
   "metadata": {},
   "outputs": [
    {
     "data": {
      "image/png": "[encoded data removed]",
      "text/plain": [
       "<Figure size 432x288 with 1 Axes>"
      ]
     },
     "metadata": {
      "needs_background": "light"
     },
     "output_type": "display_data"
    }
   ],
   "source": [
    "gen_hist_another(20)"
   ]
  },
  {
   "cell_type": "markdown",
   "id": "7bc203d0",
   "metadata": {},
   "source": [
    "Let's say you're given a huge 100 GB log file. You want to be able to count how many lines are in the file. \n",
    "\n",
    "Write code in Python to count the total number of lines in the file."
   ]
  },
  {
   "cell_type": "code",
   "execution_count": 23,
   "id": "a671902c",
   "metadata": {},
   "outputs": [
    {
     "name": "stdout",
     "output_type": "stream",
     "text": [
      "4\n"
     ]
    }
   ],
   "source": [
    "with open('C:\\\\Interview\\\\logfile.txt','r') as fread:\n",
    "    counter = 0\n",
    "    for line in fread:\n",
    "        counter = counter +1\n",
    "print(counter)    "
   ]
  },
  {
   "cell_type": "markdown",
   "id": "c4b219df",
   "metadata": {},
   "source": [
    "Given a percentile threshold and N samples, write a function to simulate a truncated normal distribution."
   ]
  },
  {
   "cell_type": "code",
   "execution_count": 135,
   "id": "c4cffd6e",
   "metadata": {},
   "outputs": [],
   "source": [
    "from scipy.stats import truncnorm \n",
    "numargs = truncnorm .numargs \n",
    "a, b = 0.2, 0.8\n",
    "rv = truncnorm(a, b) "
   ]
  },
  {
   "cell_type": "markdown",
   "id": "839d17e8",
   "metadata": {},
   "source": [
    "Given a string, return the first recurring character in it, or None if there is no recurring chracter.\n",
    "\n",
    "Example:\n",
    "\n",
    "input = \"interviewquery\"\n",
    "output = \"i\"\n",
    "\n",
    "input = \"interv\"\n",
    "output = None"
   ]
  },
  {
   "cell_type": "code",
   "execution_count": 139,
   "id": "2034fbb2",
   "metadata": {},
   "outputs": [
    {
     "name": "stdout",
     "output_type": "stream",
     "text": [
      "i\n"
     ]
    }
   ],
   "source": [
    "str_in = \"interviewquery\" \n",
    "for i in range(len(str_in)):\n",
    "    if str_in[i] in str_in[i+1:]:\n",
    "        print(str_in[i])\n",
    "        break\n",
    "    else:\n",
    "        continue\n",
    "        "
   ]
  },
  {
   "cell_type": "code",
   "execution_count": 140,
   "id": "d4bdda65",
   "metadata": {},
   "outputs": [
    {
     "name": "stdout",
     "output_type": "stream",
     "text": [
      "i\n"
     ]
    }
   ],
   "source": [
    "str_in = \"interviewquery\" \n",
    "\n",
    "for i in str_in:\n",
    "    count = str_in.count(i)\n",
    "    if count>=2:\n",
    "        print(i)\n",
    "        break\n",
    "    else:\n",
    "        continue\n",
    "    "
   ]
  },
  {
   "cell_type": "code",
   "execution_count": 43,
   "id": "dcb54acd",
   "metadata": {},
   "outputs": [
    {
     "name": "stdout",
     "output_type": "stream",
     "text": [
      "i\n"
     ]
    }
   ],
   "source": [
    "str_in = \"interviewquery\" \n",
    "str_out = \"inter\"\n",
    "count = 0\n",
    "for i in str_out:\n",
    "    count = str_in.count(i)\n",
    "    if count==2:\n",
    "        print(i)\n",
    "        break\n",
    "        \n",
    "        "
   ]
  },
  {
   "cell_type": "markdown",
   "id": "78091d63",
   "metadata": {},
   "source": [
    "Say you are given a text document with the following 4 phrases:\n",
    "I saw a cat\n",
    "I saw a dog\n",
    "I saw a horse\n",
    "I have a dog\n",
    "Write a program in python to determine the TF-IDF (term frequency-inverse document frequency) values for each term of this document."
   ]
  },
  {
   "cell_type": "code",
   "execution_count": 44,
   "id": "c074fc5f",
   "metadata": {},
   "outputs": [],
   "source": [
    "dataset = [ ['my', 'dog', 'has', 'flea', 'problems', 'help', 'please'],    \n",
    "                   ['maybe', 'not', 'take', 'him', 'to', 'dog', 'park', 'stupid'],\n",
    "                   ['my', 'dalmation', 'is', 'so', 'cute', 'I', 'love', 'him'],\n",
    "                   ['stop', 'posting', 'stupid', 'worthless', 'garbage'],\n",
    "                   ['mr', 'licks', 'ate', 'my', 'steak', 'how', 'to', 'stop', 'him'],\n",
    "                   ['quit', 'buying', 'worthless', 'dog', 'food', 'stupid'] ]\n",
    "classVec = [0, 1, 0, 1, 0, 1]  "
   ]
  },
  {
   "cell_type": "code",
   "execution_count": 65,
   "id": "2b2e36f2",
   "metadata": {},
   "outputs": [
    {
     "name": "stdout",
     "output_type": "stream",
     "text": [
      "defaultdict(<class 'int'>, {'my': 1})\n",
      "defaultdict(<class 'int'>, {'my': 1, 'dog': 1})\n",
      "defaultdict(<class 'int'>, {'my': 1, 'dog': 1, 'has': 1})\n",
      "defaultdict(<class 'int'>, {'my': 1, 'dog': 1, 'has': 1, 'flea': 1})\n",
      "defaultdict(<class 'int'>, {'my': 1, 'dog': 1, 'has': 1, 'flea': 1, 'problems': 1})\n",
      "defaultdict(<class 'int'>, {'my': 1, 'dog': 1, 'has': 1, 'flea': 1, 'problems': 1, 'help': 1})\n",
      "defaultdict(<class 'int'>, {'my': 1, 'dog': 1, 'has': 1, 'flea': 1, 'problems': 1, 'help': 1, 'please': 1})\n",
      "defaultdict(<class 'int'>, {'my': 1, 'dog': 1, 'has': 1, 'flea': 1, 'problems': 1, 'help': 1, 'please': 1, 'maybe': 1})\n",
      "defaultdict(<class 'int'>, {'my': 1, 'dog': 1, 'has': 1, 'flea': 1, 'problems': 1, 'help': 1, 'please': 1, 'maybe': 1, 'not': 1})\n",
      "defaultdict(<class 'int'>, {'my': 1, 'dog': 1, 'has': 1, 'flea': 1, 'problems': 1, 'help': 1, 'please': 1, 'maybe': 1, 'not': 1, 'take': 1})\n",
      "defaultdict(<class 'int'>, {'my': 1, 'dog': 1, 'has': 1, 'flea': 1, 'problems': 1, 'help': 1, 'please': 1, 'maybe': 1, 'not': 1, 'take': 1, 'him': 1})\n",
      "defaultdict(<class 'int'>, {'my': 1, 'dog': 1, 'has': 1, 'flea': 1, 'problems': 1, 'help': 1, 'please': 1, 'maybe': 1, 'not': 1, 'take': 1, 'him': 1, 'to': 1})\n",
      "defaultdict(<class 'int'>, {'my': 1, 'dog': 2, 'has': 1, 'flea': 1, 'problems': 1, 'help': 1, 'please': 1, 'maybe': 1, 'not': 1, 'take': 1, 'him': 1, 'to': 1})\n",
      "defaultdict(<class 'int'>, {'my': 1, 'dog': 2, 'has': 1, 'flea': 1, 'problems': 1, 'help': 1, 'please': 1, 'maybe': 1, 'not': 1, 'take': 1, 'him': 1, 'to': 1, 'park': 1})\n",
      "defaultdict(<class 'int'>, {'my': 1, 'dog': 2, 'has': 1, 'flea': 1, 'problems': 1, 'help': 1, 'please': 1, 'maybe': 1, 'not': 1, 'take': 1, 'him': 1, 'to': 1, 'park': 1, 'stupid': 1})\n",
      "defaultdict(<class 'int'>, {'my': 2, 'dog': 2, 'has': 1, 'flea': 1, 'problems': 1, 'help': 1, 'please': 1, 'maybe': 1, 'not': 1, 'take': 1, 'him': 1, 'to': 1, 'park': 1, 'stupid': 1})\n",
      "defaultdict(<class 'int'>, {'my': 2, 'dog': 2, 'has': 1, 'flea': 1, 'problems': 1, 'help': 1, 'please': 1, 'maybe': 1, 'not': 1, 'take': 1, 'him': 1, 'to': 1, 'park': 1, 'stupid': 1, 'dalmation': 1})\n",
      "defaultdict(<class 'int'>, {'my': 2, 'dog': 2, 'has': 1, 'flea': 1, 'problems': 1, 'help': 1, 'please': 1, 'maybe': 1, 'not': 1, 'take': 1, 'him': 1, 'to': 1, 'park': 1, 'stupid': 1, 'dalmation': 1, 'is': 1})\n",
      "defaultdict(<class 'int'>, {'my': 2, 'dog': 2, 'has': 1, 'flea': 1, 'problems': 1, 'help': 1, 'please': 1, 'maybe': 1, 'not': 1, 'take': 1, 'him': 1, 'to': 1, 'park': 1, 'stupid': 1, 'dalmation': 1, 'is': 1, 'so': 1})\n",
      "defaultdict(<class 'int'>, {'my': 2, 'dog': 2, 'has': 1, 'flea': 1, 'problems': 1, 'help': 1, 'please': 1, 'maybe': 1, 'not': 1, 'take': 1, 'him': 1, 'to': 1, 'park': 1, 'stupid': 1, 'dalmation': 1, 'is': 1, 'so': 1, 'cute': 1})\n",
      "defaultdict(<class 'int'>, {'my': 2, 'dog': 2, 'has': 1, 'flea': 1, 'problems': 1, 'help': 1, 'please': 1, 'maybe': 1, 'not': 1, 'take': 1, 'him': 1, 'to': 1, 'park': 1, 'stupid': 1, 'dalmation': 1, 'is': 1, 'so': 1, 'cute': 1, 'I': 1})\n",
      "defaultdict(<class 'int'>, {'my': 2, 'dog': 2, 'has': 1, 'flea': 1, 'problems': 1, 'help': 1, 'please': 1, 'maybe': 1, 'not': 1, 'take': 1, 'him': 1, 'to': 1, 'park': 1, 'stupid': 1, 'dalmation': 1, 'is': 1, 'so': 1, 'cute': 1, 'I': 1, 'love': 1})\n",
      "defaultdict(<class 'int'>, {'my': 2, 'dog': 2, 'has': 1, 'flea': 1, 'problems': 1, 'help': 1, 'please': 1, 'maybe': 1, 'not': 1, 'take': 1, 'him': 2, 'to': 1, 'park': 1, 'stupid': 1, 'dalmation': 1, 'is': 1, 'so': 1, 'cute': 1, 'I': 1, 'love': 1})\n",
      "defaultdict(<class 'int'>, {'my': 2, 'dog': 2, 'has': 1, 'flea': 1, 'problems': 1, 'help': 1, 'please': 1, 'maybe': 1, 'not': 1, 'take': 1, 'him': 2, 'to': 1, 'park': 1, 'stupid': 1, 'dalmation': 1, 'is': 1, 'so': 1, 'cute': 1, 'I': 1, 'love': 1, 'stop': 1})\n",
      "defaultdict(<class 'int'>, {'my': 2, 'dog': 2, 'has': 1, 'flea': 1, 'problems': 1, 'help': 1, 'please': 1, 'maybe': 1, 'not': 1, 'take': 1, 'him': 2, 'to': 1, 'park': 1, 'stupid': 1, 'dalmation': 1, 'is': 1, 'so': 1, 'cute': 1, 'I': 1, 'love': 1, 'stop': 1, 'posting': 1})\n",
      "defaultdict(<class 'int'>, {'my': 2, 'dog': 2, 'has': 1, 'flea': 1, 'problems': 1, 'help': 1, 'please': 1, 'maybe': 1, 'not': 1, 'take': 1, 'him': 2, 'to': 1, 'park': 1, 'stupid': 2, 'dalmation': 1, 'is': 1, 'so': 1, 'cute': 1, 'I': 1, 'love': 1, 'stop': 1, 'posting': 1})\n",
      "defaultdict(<class 'int'>, {'my': 2, 'dog': 2, 'has': 1, 'flea': 1, 'problems': 1, 'help': 1, 'please': 1, 'maybe': 1, 'not': 1, 'take': 1, 'him': 2, 'to': 1, 'park': 1, 'stupid': 2, 'dalmation': 1, 'is': 1, 'so': 1, 'cute': 1, 'I': 1, 'love': 1, 'stop': 1, 'posting': 1, 'worthless': 1})\n",
      "defaultdict(<class 'int'>, {'my': 2, 'dog': 2, 'has': 1, 'flea': 1, 'problems': 1, 'help': 1, 'please': 1, 'maybe': 1, 'not': 1, 'take': 1, 'him': 2, 'to': 1, 'park': 1, 'stupid': 2, 'dalmation': 1, 'is': 1, 'so': 1, 'cute': 1, 'I': 1, 'love': 1, 'stop': 1, 'posting': 1, 'worthless': 1, 'garbage': 1})\n",
      "defaultdict(<class 'int'>, {'my': 2, 'dog': 2, 'has': 1, 'flea': 1, 'problems': 1, 'help': 1, 'please': 1, 'maybe': 1, 'not': 1, 'take': 1, 'him': 2, 'to': 1, 'park': 1, 'stupid': 2, 'dalmation': 1, 'is': 1, 'so': 1, 'cute': 1, 'I': 1, 'love': 1, 'stop': 1, 'posting': 1, 'worthless': 1, 'garbage': 1, 'mr': 1})\n",
      "defaultdict(<class 'int'>, {'my': 2, 'dog': 2, 'has': 1, 'flea': 1, 'problems': 1, 'help': 1, 'please': 1, 'maybe': 1, 'not': 1, 'take': 1, 'him': 2, 'to': 1, 'park': 1, 'stupid': 2, 'dalmation': 1, 'is': 1, 'so': 1, 'cute': 1, 'I': 1, 'love': 1, 'stop': 1, 'posting': 1, 'worthless': 1, 'garbage': 1, 'mr': 1, 'licks': 1})\n",
      "defaultdict(<class 'int'>, {'my': 2, 'dog': 2, 'has': 1, 'flea': 1, 'problems': 1, 'help': 1, 'please': 1, 'maybe': 1, 'not': 1, 'take': 1, 'him': 2, 'to': 1, 'park': 1, 'stupid': 2, 'dalmation': 1, 'is': 1, 'so': 1, 'cute': 1, 'I': 1, 'love': 1, 'stop': 1, 'posting': 1, 'worthless': 1, 'garbage': 1, 'mr': 1, 'licks': 1, 'ate': 1})\n",
      "defaultdict(<class 'int'>, {'my': 3, 'dog': 2, 'has': 1, 'flea': 1, 'problems': 1, 'help': 1, 'please': 1, 'maybe': 1, 'not': 1, 'take': 1, 'him': 2, 'to': 1, 'park': 1, 'stupid': 2, 'dalmation': 1, 'is': 1, 'so': 1, 'cute': 1, 'I': 1, 'love': 1, 'stop': 1, 'posting': 1, 'worthless': 1, 'garbage': 1, 'mr': 1, 'licks': 1, 'ate': 1})\n",
      "defaultdict(<class 'int'>, {'my': 3, 'dog': 2, 'has': 1, 'flea': 1, 'problems': 1, 'help': 1, 'please': 1, 'maybe': 1, 'not': 1, 'take': 1, 'him': 2, 'to': 1, 'park': 1, 'stupid': 2, 'dalmation': 1, 'is': 1, 'so': 1, 'cute': 1, 'I': 1, 'love': 1, 'stop': 1, 'posting': 1, 'worthless': 1, 'garbage': 1, 'mr': 1, 'licks': 1, 'ate': 1, 'steak': 1})\n",
      "defaultdict(<class 'int'>, {'my': 3, 'dog': 2, 'has': 1, 'flea': 1, 'problems': 1, 'help': 1, 'please': 1, 'maybe': 1, 'not': 1, 'take': 1, 'him': 2, 'to': 1, 'park': 1, 'stupid': 2, 'dalmation': 1, 'is': 1, 'so': 1, 'cute': 1, 'I': 1, 'love': 1, 'stop': 1, 'posting': 1, 'worthless': 1, 'garbage': 1, 'mr': 1, 'licks': 1, 'ate': 1, 'steak': 1, 'how': 1})\n",
      "defaultdict(<class 'int'>, {'my': 3, 'dog': 2, 'has': 1, 'flea': 1, 'problems': 1, 'help': 1, 'please': 1, 'maybe': 1, 'not': 1, 'take': 1, 'him': 2, 'to': 2, 'park': 1, 'stupid': 2, 'dalmation': 1, 'is': 1, 'so': 1, 'cute': 1, 'I': 1, 'love': 1, 'stop': 1, 'posting': 1, 'worthless': 1, 'garbage': 1, 'mr': 1, 'licks': 1, 'ate': 1, 'steak': 1, 'how': 1})\n",
      "defaultdict(<class 'int'>, {'my': 3, 'dog': 2, 'has': 1, 'flea': 1, 'problems': 1, 'help': 1, 'please': 1, 'maybe': 1, 'not': 1, 'take': 1, 'him': 2, 'to': 2, 'park': 1, 'stupid': 2, 'dalmation': 1, 'is': 1, 'so': 1, 'cute': 1, 'I': 1, 'love': 1, 'stop': 2, 'posting': 1, 'worthless': 1, 'garbage': 1, 'mr': 1, 'licks': 1, 'ate': 1, 'steak': 1, 'how': 1})\n",
      "defaultdict(<class 'int'>, {'my': 3, 'dog': 2, 'has': 1, 'flea': 1, 'problems': 1, 'help': 1, 'please': 1, 'maybe': 1, 'not': 1, 'take': 1, 'him': 3, 'to': 2, 'park': 1, 'stupid': 2, 'dalmation': 1, 'is': 1, 'so': 1, 'cute': 1, 'I': 1, 'love': 1, 'stop': 2, 'posting': 1, 'worthless': 1, 'garbage': 1, 'mr': 1, 'licks': 1, 'ate': 1, 'steak': 1, 'how': 1})\n",
      "defaultdict(<class 'int'>, {'my': 3, 'dog': 2, 'has': 1, 'flea': 1, 'problems': 1, 'help': 1, 'please': 1, 'maybe': 1, 'not': 1, 'take': 1, 'him': 3, 'to': 2, 'park': 1, 'stupid': 2, 'dalmation': 1, 'is': 1, 'so': 1, 'cute': 1, 'I': 1, 'love': 1, 'stop': 2, 'posting': 1, 'worthless': 1, 'garbage': 1, 'mr': 1, 'licks': 1, 'ate': 1, 'steak': 1, 'how': 1, 'quit': 1})\n",
      "defaultdict(<class 'int'>, {'my': 3, 'dog': 2, 'has': 1, 'flea': 1, 'problems': 1, 'help': 1, 'please': 1, 'maybe': 1, 'not': 1, 'take': 1, 'him': 3, 'to': 2, 'park': 1, 'stupid': 2, 'dalmation': 1, 'is': 1, 'so': 1, 'cute': 1, 'I': 1, 'love': 1, 'stop': 2, 'posting': 1, 'worthless': 1, 'garbage': 1, 'mr': 1, 'licks': 1, 'ate': 1, 'steak': 1, 'how': 1, 'quit': 1, 'buying': 1})\n",
      "defaultdict(<class 'int'>, {'my': 3, 'dog': 2, 'has': 1, 'flea': 1, 'problems': 1, 'help': 1, 'please': 1, 'maybe': 1, 'not': 1, 'take': 1, 'him': 3, 'to': 2, 'park': 1, 'stupid': 2, 'dalmation': 1, 'is': 1, 'so': 1, 'cute': 1, 'I': 1, 'love': 1, 'stop': 2, 'posting': 1, 'worthless': 2, 'garbage': 1, 'mr': 1, 'licks': 1, 'ate': 1, 'steak': 1, 'how': 1, 'quit': 1, 'buying': 1})\n",
      "defaultdict(<class 'int'>, {'my': 3, 'dog': 3, 'has': 1, 'flea': 1, 'problems': 1, 'help': 1, 'please': 1, 'maybe': 1, 'not': 1, 'take': 1, 'him': 3, 'to': 2, 'park': 1, 'stupid': 2, 'dalmation': 1, 'is': 1, 'so': 1, 'cute': 1, 'I': 1, 'love': 1, 'stop': 2, 'posting': 1, 'worthless': 2, 'garbage': 1, 'mr': 1, 'licks': 1, 'ate': 1, 'steak': 1, 'how': 1, 'quit': 1, 'buying': 1})\n",
      "defaultdict(<class 'int'>, {'my': 3, 'dog': 3, 'has': 1, 'flea': 1, 'problems': 1, 'help': 1, 'please': 1, 'maybe': 1, 'not': 1, 'take': 1, 'him': 3, 'to': 2, 'park': 1, 'stupid': 2, 'dalmation': 1, 'is': 1, 'so': 1, 'cute': 1, 'I': 1, 'love': 1, 'stop': 2, 'posting': 1, 'worthless': 2, 'garbage': 1, 'mr': 1, 'licks': 1, 'ate': 1, 'steak': 1, 'how': 1, 'quit': 1, 'buying': 1, 'food': 1})\n",
      "defaultdict(<class 'int'>, {'my': 3, 'dog': 3, 'has': 1, 'flea': 1, 'problems': 1, 'help': 1, 'please': 1, 'maybe': 1, 'not': 1, 'take': 1, 'him': 3, 'to': 2, 'park': 1, 'stupid': 3, 'dalmation': 1, 'is': 1, 'so': 1, 'cute': 1, 'I': 1, 'love': 1, 'stop': 2, 'posting': 1, 'worthless': 2, 'garbage': 1, 'mr': 1, 'licks': 1, 'ate': 1, 'steak': 1, 'how': 1, 'quit': 1, 'buying': 1, 'food': 1})\n"
     ]
    }
   ],
   "source": [
    "from collections import defaultdict\n",
    "import math\n",
    "import operator\n",
    " \n",
    "doc_frequency=defaultdict(int)\n",
    "for word_list in dataset:\n",
    "     for i in word_list:\n",
    "        doc_frequency[i]+=1\n",
    "        print(doc_frequency)"
   ]
  },
  {
   "cell_type": "code",
   "execution_count": 48,
   "id": "25dd6a51",
   "metadata": {},
   "outputs": [
    {
     "data": {
      "text/plain": [
       "defaultdict(int,\n",
       "            {'my': 3,\n",
       "             'dog': 3,\n",
       "             'has': 1,\n",
       "             'flea': 1,\n",
       "             'problems': 1,\n",
       "             'help': 1,\n",
       "             'please': 1,\n",
       "             'maybe': 1,\n",
       "             'not': 1,\n",
       "             'take': 1,\n",
       "             'him': 3,\n",
       "             'to': 2,\n",
       "             'park': 1,\n",
       "             'stupid': 3,\n",
       "             'dalmation': 1,\n",
       "             'is': 1,\n",
       "             'so': 1,\n",
       "             'cute': 1,\n",
       "             'I': 1,\n",
       "             'love': 1,\n",
       "             'stop': 2,\n",
       "             'posting': 1,\n",
       "             'worthless': 2,\n",
       "             'garbage': 1,\n",
       "             'mr': 1,\n",
       "             'licks': 1,\n",
       "             'ate': 1,\n",
       "             'steak': 1,\n",
       "             'how': 1,\n",
       "             'quit': 1,\n",
       "             'buying': 1,\n",
       "             'food': 1})"
      ]
     },
     "execution_count": 48,
     "metadata": {},
     "output_type": "execute_result"
    }
   ],
   "source": [
    "doc_frequency"
   ]
  },
  {
   "cell_type": "code",
   "execution_count": 54,
   "id": "2f01a387",
   "metadata": {},
   "outputs": [
    {
     "data": {
      "text/plain": [
       "{'my': 0.06976744186046512,\n",
       " 'dog': 0.06976744186046512,\n",
       " 'has': 0.023255813953488372,\n",
       " 'flea': 0.023255813953488372,\n",
       " 'problems': 0.023255813953488372,\n",
       " 'help': 0.023255813953488372,\n",
       " 'please': 0.023255813953488372,\n",
       " 'maybe': 0.023255813953488372,\n",
       " 'not': 0.023255813953488372,\n",
       " 'take': 0.023255813953488372,\n",
       " 'him': 0.06976744186046512,\n",
       " 'to': 0.046511627906976744,\n",
       " 'park': 0.023255813953488372,\n",
       " 'stupid': 0.06976744186046512,\n",
       " 'dalmation': 0.023255813953488372,\n",
       " 'is': 0.023255813953488372,\n",
       " 'so': 0.023255813953488372,\n",
       " 'cute': 0.023255813953488372,\n",
       " 'I': 0.023255813953488372,\n",
       " 'love': 0.023255813953488372,\n",
       " 'stop': 0.046511627906976744,\n",
       " 'posting': 0.023255813953488372,\n",
       " 'worthless': 0.046511627906976744,\n",
       " 'garbage': 0.023255813953488372,\n",
       " 'mr': 0.023255813953488372,\n",
       " 'licks': 0.023255813953488372,\n",
       " 'ate': 0.023255813953488372,\n",
       " 'steak': 0.023255813953488372,\n",
       " 'how': 0.023255813953488372,\n",
       " 'quit': 0.023255813953488372,\n",
       " 'buying': 0.023255813953488372,\n",
       " 'food': 0.023255813953488372}"
      ]
     },
     "execution_count": 54,
     "metadata": {},
     "output_type": "execute_result"
    }
   ],
   "source": [
    "word_tf={}  \n",
    "for i in doc_frequency:\n",
    "        word_tf[i]=doc_frequency[i]/sum(doc_frequency.values())\n",
    "word_tf        "
   ]
  },
  {
   "cell_type": "code",
   "execution_count": 66,
   "id": "b800548a",
   "metadata": {},
   "outputs": [
    {
     "data": {
      "text/plain": [
       "6"
      ]
     },
     "execution_count": 66,
     "metadata": {},
     "output_type": "execute_result"
    }
   ],
   "source": [
    "len(dataset)"
   ]
  },
  {
   "cell_type": "code",
   "execution_count": 90,
   "id": "ec8cf82a",
   "metadata": {},
   "outputs": [],
   "source": [
    "doc_num=len(dataset)\n",
    "word_idf={} \n",
    "\n",
    "for i in doc_frequency:\n",
    "        word_idf[i]=math.log(doc_num/(doc_frequency[i]))"
   ]
  },
  {
   "cell_type": "code",
   "execution_count": 91,
   "id": "3e97be4d",
   "metadata": {},
   "outputs": [
    {
     "data": {
      "text/plain": [
       "{'my': 0.6931471805599453,\n",
       " 'dog': 0.6931471805599453,\n",
       " 'has': 1.791759469228055,\n",
       " 'flea': 1.791759469228055,\n",
       " 'problems': 1.791759469228055,\n",
       " 'help': 1.791759469228055,\n",
       " 'please': 1.791759469228055,\n",
       " 'maybe': 1.791759469228055,\n",
       " 'not': 1.791759469228055,\n",
       " 'take': 1.791759469228055,\n",
       " 'him': 0.6931471805599453,\n",
       " 'to': 1.0986122886681098,\n",
       " 'park': 1.791759469228055,\n",
       " 'stupid': 0.6931471805599453,\n",
       " 'dalmation': 1.791759469228055,\n",
       " 'is': 1.791759469228055,\n",
       " 'so': 1.791759469228055,\n",
       " 'cute': 1.791759469228055,\n",
       " 'I': 1.791759469228055,\n",
       " 'love': 1.791759469228055,\n",
       " 'stop': 1.0986122886681098,\n",
       " 'posting': 1.791759469228055,\n",
       " 'worthless': 1.0986122886681098,\n",
       " 'garbage': 1.791759469228055,\n",
       " 'mr': 1.791759469228055,\n",
       " 'licks': 1.791759469228055,\n",
       " 'ate': 1.791759469228055,\n",
       " 'steak': 1.791759469228055,\n",
       " 'how': 1.791759469228055,\n",
       " 'quit': 1.791759469228055,\n",
       " 'buying': 1.791759469228055,\n",
       " 'food': 1.791759469228055}"
      ]
     },
     "execution_count": 91,
     "metadata": {},
     "output_type": "execute_result"
    }
   ],
   "source": [
    "word_idf"
   ]
  },
  {
   "cell_type": "code",
   "execution_count": 92,
   "id": "ee1d6e2e",
   "metadata": {},
   "outputs": [
    {
     "data": {
      "text/plain": [
       "{'my': 0.0483591056204613,\n",
       " 'dog': 0.0483591056204613,\n",
       " 'has': 0.04166882486576872,\n",
       " 'flea': 0.04166882486576872,\n",
       " 'problems': 0.04166882486576872,\n",
       " 'help': 0.04166882486576872,\n",
       " 'please': 0.04166882486576872,\n",
       " 'maybe': 0.04166882486576872,\n",
       " 'not': 0.04166882486576872,\n",
       " 'take': 0.04166882486576872,\n",
       " 'him': 0.0483591056204613,\n",
       " 'to': 0.051098245984563244,\n",
       " 'park': 0.04166882486576872,\n",
       " 'stupid': 0.0483591056204613,\n",
       " 'dalmation': 0.04166882486576872,\n",
       " 'is': 0.04166882486576872,\n",
       " 'so': 0.04166882486576872,\n",
       " 'cute': 0.04166882486576872,\n",
       " 'I': 0.04166882486576872,\n",
       " 'love': 0.04166882486576872,\n",
       " 'stop': 0.051098245984563244,\n",
       " 'posting': 0.04166882486576872,\n",
       " 'worthless': 0.051098245984563244,\n",
       " 'garbage': 0.04166882486576872,\n",
       " 'mr': 0.04166882486576872,\n",
       " 'licks': 0.04166882486576872,\n",
       " 'ate': 0.04166882486576872,\n",
       " 'steak': 0.04166882486576872,\n",
       " 'how': 0.04166882486576872,\n",
       " 'quit': 0.04166882486576872,\n",
       " 'buying': 0.04166882486576872,\n",
       " 'food': 0.04166882486576872}"
      ]
     },
     "execution_count": 92,
     "metadata": {},
     "output_type": "execute_result"
    }
   ],
   "source": [
    "word_tf_idf={}\n",
    "for i in doc_frequency:\n",
    "        word_tf_idf[i]=word_tf[i]*word_idf[i]\n",
    "word_tf_idf        "
   ]
  },
  {
   "cell_type": "markdown",
   "id": "efb7982b",
   "metadata": {},
   "source": [
    "using sklearn"
   ]
  },
  {
   "cell_type": "code",
   "execution_count": 84,
   "id": "35e195a6",
   "metadata": {},
   "outputs": [
    {
     "name": "stdout",
     "output_type": "stream",
     "text": [
      "<Text: my dog has flea problems help please maybe...>\n"
     ]
    }
   ],
   "source": [
    "from nltk.text import TextCollection\n",
    "from nltk.tokenize import word_tokenize\n",
    "corpus=TextCollection(dataset)\n",
    "print(corpus)"
   ]
  },
  {
   "cell_type": "code",
   "execution_count": 89,
   "id": "a8b42ee0",
   "metadata": {},
   "outputs": [
    {
     "name": "stdout",
     "output_type": "stream",
     "text": [
      "0.06976744186046512\n",
      "0.6931471805599453\n",
      "0.0483591056204613\n"
     ]
    }
   ],
   "source": [
    "tf=corpus.tf('my',corpus)\n",
    "print(tf)\n",
    " \n",
    "idf=corpus.idf('my')\n",
    "print(idf)\n",
    " \n",
    "tf_idf=corpus.tf_idf('my',corpus)\n",
    "print(tf_idf)"
   ]
  },
  {
   "cell_type": "markdown",
   "id": "424f9657",
   "metadata": {},
   "source": [
    "Given a list of timestamps in sequential order, return a list of lists grouped by week (7 days) using the first timestamp as the starting point.\n",
    "\n",
    "Example:\n",
    "\n",
    "ts = [\n",
    "    '2019-01-01', \n",
    "    '2019-01-02',\n",
    "    '2019-01-08', \n",
    "    '2019-02-01', \n",
    "    '2019-02-02',\n",
    "    '2019-02-05',\n",
    "]\n",
    "\n",
    "output = [\n",
    "    ['2019-01-01', '2019-01-02'], \n",
    "    ['2019-01-08'], \n",
    "    ['2019-02-01', '2019-02-02'],\n",
    "    ['2019-02-05'],\n",
    "]"
   ]
  },
  {
   "cell_type": "code",
   "execution_count": 147,
   "id": "ad64a94b",
   "metadata": {},
   "outputs": [
    {
     "data": {
      "text/html": [
       "<div>\n",
       "<style scoped>\n",
       "    .dataframe tbody tr th:only-of-type {\n",
       "        vertical-align: middle;\n",
       "    }\n",
       "\n",
       "    .dataframe tbody tr th {\n",
       "        vertical-align: top;\n",
       "    }\n",
       "\n",
       "    .dataframe thead th {\n",
       "        text-align: right;\n",
       "    }\n",
       "</style>\n",
       "<table border=\"1\" class=\"dataframe\">\n",
       "  <thead>\n",
       "    <tr style=\"text-align: right;\">\n",
       "      <th></th>\n",
       "      <th>Date</th>\n",
       "    </tr>\n",
       "  </thead>\n",
       "  <tbody>\n",
       "    <tr>\n",
       "      <th>0</th>\n",
       "      <td>2019-01-01</td>\n",
       "    </tr>\n",
       "    <tr>\n",
       "      <th>1</th>\n",
       "      <td>2019-01-02</td>\n",
       "    </tr>\n",
       "    <tr>\n",
       "      <th>2</th>\n",
       "      <td>2019-01-08</td>\n",
       "    </tr>\n",
       "    <tr>\n",
       "      <th>3</th>\n",
       "      <td>2019-02-01</td>\n",
       "    </tr>\n",
       "    <tr>\n",
       "      <th>4</th>\n",
       "      <td>2019-02-02</td>\n",
       "    </tr>\n",
       "    <tr>\n",
       "      <th>5</th>\n",
       "      <td>2019-02-05</td>\n",
       "    </tr>\n",
       "  </tbody>\n",
       "</table>\n",
       "</div>"
      ],
      "text/plain": [
       "         Date\n",
       "0  2019-01-01\n",
       "1  2019-01-02\n",
       "2  2019-01-08\n",
       "3  2019-02-01\n",
       "4  2019-02-02\n",
       "5  2019-02-05"
      ]
     },
     "execution_count": 147,
     "metadata": {},
     "output_type": "execute_result"
    }
   ],
   "source": [
    "ts = ['2019-01-01', '2019-01-02', '2019-01-08', '2019-02-01', '2019-02-02', '2019-02-05']\n",
    "ts = pd.DataFrame(ts,columns=['Date'])\n",
    "ts"
   ]
  },
  {
   "cell_type": "code",
   "execution_count": 153,
   "id": "ac0ad772",
   "metadata": {},
   "outputs": [
    {
     "name": "stderr",
     "output_type": "stream",
     "text": [
      "C:\\Users\\ayonh\\anaconda3\\lib\\site-packages\\ipykernel_launcher.py:1: FutureWarning: Series.dt.weekofyear and Series.dt.week have been deprecated.  Please use Series.dt.isocalendar().week instead.\n",
      "  \"\"\"Entry point for launching an IPython kernel.\n"
     ]
    },
    {
     "data": {
      "text/plain": [
       "[['2019-01-01', '2019-01-02'],\n",
       " ['2019-01-08'],\n",
       " ['2019-02-01', '2019-02-02'],\n",
       " ['2019-02-05']]"
      ]
     },
     "execution_count": 153,
     "metadata": {},
     "output_type": "execute_result"
    }
   ],
   "source": [
    "ts['week'] = pd.to_datetime(ts.Date).dt.week\n",
    "ts.groupby('week')['Date'].apply(list).to_list()"
   ]
  },
  {
   "cell_type": "code",
   "execution_count": 141,
   "id": "93ce72e6",
   "metadata": {},
   "outputs": [
    {
     "data": {
      "text/html": [
       "<div>\n",
       "<style scoped>\n",
       "    .dataframe tbody tr th:only-of-type {\n",
       "        vertical-align: middle;\n",
       "    }\n",
       "\n",
       "    .dataframe tbody tr th {\n",
       "        vertical-align: top;\n",
       "    }\n",
       "\n",
       "    .dataframe thead th {\n",
       "        text-align: right;\n",
       "    }\n",
       "</style>\n",
       "<table border=\"1\" class=\"dataframe\">\n",
       "  <thead>\n",
       "    <tr style=\"text-align: right;\">\n",
       "      <th></th>\n",
       "      <th>date</th>\n",
       "    </tr>\n",
       "  </thead>\n",
       "  <tbody>\n",
       "    <tr>\n",
       "      <th>0</th>\n",
       "      <td>2019-01-01</td>\n",
       "    </tr>\n",
       "    <tr>\n",
       "      <th>1</th>\n",
       "      <td>2019-01-02</td>\n",
       "    </tr>\n",
       "    <tr>\n",
       "      <th>2</th>\n",
       "      <td>2019-01-08</td>\n",
       "    </tr>\n",
       "    <tr>\n",
       "      <th>3</th>\n",
       "      <td>2019-02-01</td>\n",
       "    </tr>\n",
       "    <tr>\n",
       "      <th>4</th>\n",
       "      <td>2019-02-02</td>\n",
       "    </tr>\n",
       "    <tr>\n",
       "      <th>5</th>\n",
       "      <td>2019-02-05</td>\n",
       "    </tr>\n",
       "  </tbody>\n",
       "</table>\n",
       "</div>"
      ],
      "text/plain": [
       "         date\n",
       "0  2019-01-01\n",
       "1  2019-01-02\n",
       "2  2019-01-08\n",
       "3  2019-02-01\n",
       "4  2019-02-02\n",
       "5  2019-02-05"
      ]
     },
     "execution_count": 141,
     "metadata": {},
     "output_type": "execute_result"
    }
   ],
   "source": [
    "import pandas as pd\n",
    "ts = [ '2019-01-01', '2019-01-02', '2019-01-08', '2019-02-01', '2019-02-02', '2019-02-05', ]\n",
    "ts = pd.DataFrame(ts, columns = ['date'])\n",
    "ts"
   ]
  },
  {
   "cell_type": "code",
   "execution_count": 103,
   "id": "a5452f9d",
   "metadata": {},
   "outputs": [
    {
     "name": "stderr",
     "output_type": "stream",
     "text": [
      "C:\\Users\\ayonh\\anaconda3\\lib\\site-packages\\ipykernel_launcher.py:1: FutureWarning: Series.dt.weekofyear and Series.dt.week have been deprecated.  Please use Series.dt.isocalendar().week instead.\n",
      "  \"\"\"Entry point for launching an IPython kernel.\n"
     ]
    },
    {
     "data": {
      "text/plain": [
       "0    1\n",
       "1    1\n",
       "2    2\n",
       "3    5\n",
       "4    5\n",
       "5    6\n",
       "Name: week, dtype: int64"
      ]
     },
     "execution_count": 103,
     "metadata": {},
     "output_type": "execute_result"
    }
   ],
   "source": [
    "ts['week'] = pd.to_datetime(ts.date).dt.week\n",
    "ts['week']"
   ]
  },
  {
   "cell_type": "code",
   "execution_count": 105,
   "id": "4fa9b4b0",
   "metadata": {},
   "outputs": [
    {
     "data": {
      "text/html": [
       "<div>\n",
       "<style scoped>\n",
       "    .dataframe tbody tr th:only-of-type {\n",
       "        vertical-align: middle;\n",
       "    }\n",
       "\n",
       "    .dataframe tbody tr th {\n",
       "        vertical-align: top;\n",
       "    }\n",
       "\n",
       "    .dataframe thead th {\n",
       "        text-align: right;\n",
       "    }\n",
       "</style>\n",
       "<table border=\"1\" class=\"dataframe\">\n",
       "  <thead>\n",
       "    <tr style=\"text-align: right;\">\n",
       "      <th></th>\n",
       "      <th>date</th>\n",
       "      <th>week</th>\n",
       "    </tr>\n",
       "  </thead>\n",
       "  <tbody>\n",
       "    <tr>\n",
       "      <th>0</th>\n",
       "      <td>2019-01-01</td>\n",
       "      <td>1</td>\n",
       "    </tr>\n",
       "    <tr>\n",
       "      <th>1</th>\n",
       "      <td>2019-01-02</td>\n",
       "      <td>1</td>\n",
       "    </tr>\n",
       "    <tr>\n",
       "      <th>2</th>\n",
       "      <td>2019-01-08</td>\n",
       "      <td>2</td>\n",
       "    </tr>\n",
       "    <tr>\n",
       "      <th>3</th>\n",
       "      <td>2019-02-01</td>\n",
       "      <td>5</td>\n",
       "    </tr>\n",
       "    <tr>\n",
       "      <th>4</th>\n",
       "      <td>2019-02-02</td>\n",
       "      <td>5</td>\n",
       "    </tr>\n",
       "    <tr>\n",
       "      <th>5</th>\n",
       "      <td>2019-02-05</td>\n",
       "      <td>6</td>\n",
       "    </tr>\n",
       "  </tbody>\n",
       "</table>\n",
       "</div>"
      ],
      "text/plain": [
       "         date  week\n",
       "0  2019-01-01     1\n",
       "1  2019-01-02     1\n",
       "2  2019-01-08     2\n",
       "3  2019-02-01     5\n",
       "4  2019-02-02     5\n",
       "5  2019-02-05     6"
      ]
     },
     "execution_count": 105,
     "metadata": {},
     "output_type": "execute_result"
    }
   ],
   "source": [
    "ts"
   ]
  },
  {
   "cell_type": "code",
   "execution_count": 108,
   "id": "baf556a8",
   "metadata": {},
   "outputs": [
    {
     "data": {
      "text/plain": [
       "[['2019-01-01', '2019-01-02'],\n",
       " ['2019-01-08'],\n",
       " ['2019-02-01', '2019-02-02'],\n",
       " ['2019-02-05']]"
      ]
     },
     "execution_count": 108,
     "metadata": {},
     "output_type": "execute_result"
    }
   ],
   "source": [
    "ts.groupby('week')['date'].apply(list).tolist()"
   ]
  },
  {
   "cell_type": "markdown",
   "id": "114765a4",
   "metadata": {},
   "source": [
    "or we can use datatime, strip_time and use groupby from itertoools module and in groupby use lambda as //7 --------- or we can use collections defaultdict>strip time? "
   ]
  },
  {
   "cell_type": "markdown",
   "id": "9b04445f",
   "metadata": {},
   "source": [
    "friends_added = [{'user_ids': [1, 2], 'created_at': '2020-01-01'},\n",
    "                 {'user_ids': [3, 2], 'created_at': '2020-01-02'},\n",
    "                 {'user_ids': [2, 1], 'created_at': '2020-02-02'},\n",
    "                 {'user_ids': [4, 1], 'created_at': '2020-02-02'}]\n",
    "\n",
    "friends_removed = [{'user_ids': [2, 1], 'created_at': '2020-01-03'},\n",
    "                   {'user_ids': [2, 3], 'created_at': '2020-01-05'},\n",
    "                   {'user_ids': [1, 2], 'created_at': '2020-02-05'}]\n",
    "                   \n",
    "There are two lists of dictionaries representing friendship beginnings and endings: friends_added and friends_removed. Each dictionary contains the user_ids and created_at time of the friendship beginning /ending . \n",
    "\n",
    "Write a function to generate an output which lists the pairs of friends with their corresponding timestamps of the friendship beginning and then the timestamp of the friendship ending.\n",
    "\n",
    "Note: There can be multiple instances over time when two people became friends and unfriended; only output lists when a corresponding friendship was removed.                   "
   ]
  },
  {
   "cell_type": "code",
   "execution_count": 154,
   "id": "be9e4f51",
   "metadata": {},
   "outputs": [],
   "source": [
    "friends_added = [{'user_ids': [1, 2], 'created_at': '2020-01-01'}, {'user_ids': [3, 2], 'created_at': '2020-01-02'}, {'user_ids': [2, 1], 'created_at': '2020-02-02'}, {'user_ids': [4, 1], 'created_at': '2020-02-02'}]\n",
    "\n",
    "friends_removed = [{'user_ids': [2, 1], 'created_at': '2020-01-03'}, {'user_ids': [2, 3], 'created_at': '2020-01-05'}, {'user_ids': [1, 2], 'created_at': '2020-02-05'}]"
   ]
  },
  {
   "cell_type": "code",
   "execution_count": 155,
   "id": "f8e5481b",
   "metadata": {},
   "outputs": [
    {
     "data": {
      "text/plain": [
       "{'user_ids': [1, 2], 'created_at': '2020-01-01'}"
      ]
     },
     "execution_count": 155,
     "metadata": {},
     "output_type": "execute_result"
    }
   ],
   "source": [
    "friends_added[0]"
   ]
  },
  {
   "cell_type": "code",
   "execution_count": 35,
   "id": "0822df2b",
   "metadata": {},
   "outputs": [
    {
     "name": "stdout",
     "output_type": "stream",
     "text": [
      "[1, 2]\n",
      "--------------\n",
      "[2, 1]\n",
      "ooooooooooooooooooooooo\n",
      "[2, 3]\n",
      "ooooooooooooooooooooooo\n",
      "[1, 2]\n",
      "ooooooooooooooooooooooo\n",
      "[1, 2]\n",
      "----***********\n",
      "[3, 2]\n",
      "--------------\n",
      "[2, 1]\n",
      "ooooooooooooooooooooooo\n",
      "[2, 3]\n",
      "ooooooooooooooooooooooo\n",
      "[1, 2]\n",
      "ooooooooooooooooooooooo\n",
      "[2, 1]\n",
      "--------------\n",
      "[2, 1]\n",
      "ooooooooooooooooooooooo\n",
      "[2, 1]\n",
      "----***********\n",
      "[2, 3]\n",
      "ooooooooooooooooooooooo\n",
      "[1, 2]\n",
      "ooooooooooooooooooooooo\n",
      "[4, 1]\n",
      "--------------\n",
      "[2, 1]\n",
      "ooooooooooooooooooooooo\n",
      "[2, 3]\n",
      "ooooooooooooooooooooooo\n",
      "[1, 2]\n",
      "ooooooooooooooooooooooo\n"
     ]
    }
   ],
   "source": [
    "result = []\n",
    "for i in friends_added:\n",
    "    print(i['user_ids'])\n",
    "    print('--------------')\n",
    "    for j in friends_removed:\n",
    "        print(j['user_ids'])\n",
    "        print('ooooooooooooooooooooooo')\n",
    "        if i['user_ids'] == j['user_ids']:\n",
    "                 print(i['user_ids'])    \n",
    "                 print('----***********') \n",
    "        \n",
    "        "
   ]
  },
  {
   "cell_type": "code",
   "execution_count": 38,
   "id": "9121e36d",
   "metadata": {},
   "outputs": [
    {
     "data": {
      "text/plain": [
       "[{'user_ids': [1, 2], 'start_date': '2020-01-01', 'end_date': '2020-01-03'},\n",
       " {'user_ids': [1, 2], 'start_date': '2020-01-01', 'end_date': '2020-02-05'},\n",
       " {'user_ids': [2, 3], 'start_date': '2020-01-02', 'end_date': '2020-01-05'}]"
      ]
     },
     "execution_count": 38,
     "metadata": {},
     "output_type": "execute_result"
    }
   ],
   "source": [
    "fd_added = [{'user_ids': [1, 2], 'created_at': '2020-01-01'}, {'user_ids': [3, 2], 'created_at': '2020-01-02'}, {'user_ids': [2, 1], 'created_at': '2020-02-02'}, {'user_ids': [4, 1], 'created_at': '2020-02-02'}]\n",
    "\n",
    "fd_removed = [{'user_ids': [2, 1], 'created_at': '2020-01-03'}, {'user_ids': [2, 3], 'created_at': '2020-01-05'}, {'user_ids': [1, 2], 'created_at': '2020-02-05'}]\n",
    "friendship = []\n",
    "for add in fd_added:\n",
    "    for rem in fd_removed:\n",
    "            if sorted(add['user_ids']) == sorted(rem['user_ids']):\n",
    "                fd_removed.remove(rem)\n",
    "                friendship.append({\n",
    "                    'user_ids': sorted(add['user_ids']),\n",
    "                    'start_date': add['created_at'],\n",
    "                    'end_date': rem['created_at']\n",
    "                })\n",
    "friendship                "
   ]
  },
  {
   "cell_type": "markdown",
   "id": "a4dee464",
   "metadata": {},
   "source": [
    "In data science, there exists the concept of stemming, which is the heuristic of chopping off the end of a word to clean and bucket it into an easier feature set. \n",
    "\n",
    "Given a dictionary consisting of many roots and a sentence, stem all the words in the sentence with the root forming it. If a word has many roots can form it, replace it with the root with the shortest length."
   ]
  },
  {
   "cell_type": "markdown",
   "id": "0cd3e816",
   "metadata": {},
   "source": [
    "Input: \n",
    "roots = [\"cat\", \"bat\", \"rat\"]\n",
    "sentence = \"the cattle was rattled by the battery\"\n",
    "\n",
    "Output: \"the cat was rat by the bat\""
   ]
  },
  {
   "cell_type": "code",
   "execution_count": 49,
   "id": "48abdff8",
   "metadata": {},
   "outputs": [
    {
     "data": {
      "text/plain": [
       "['the', 'cattle', 'was', 'rattled', 'by', 'the', 'battery']"
      ]
     },
     "execution_count": 49,
     "metadata": {},
     "output_type": "execute_result"
    }
   ],
   "source": [
    "root= [\"cat\", \"bat\", \"rat\"]\n",
    "sent_in =  \"the cattle was rattled by the battery\"\n",
    "sent_list = sent_in.split(' ')\n",
    "sent_list"
   ]
  },
  {
   "cell_type": "code",
   "execution_count": 61,
   "id": "0766d90b",
   "metadata": {},
   "outputs": [
    {
     "data": {
      "text/plain": [
       "'the cat was rat by the bat'"
      ]
     },
     "execution_count": 61,
     "metadata": {},
     "output_type": "execute_result"
    }
   ],
   "source": [
    "for i in range(0,len(sent_list)):\n",
    "    for j in root:\n",
    "        if sent_list[i][:len(j)]==j:\n",
    "             sent_in = sent_in.replace(sent_list[i],j)\n",
    "sent_in        "
   ]
  },
  {
   "cell_type": "markdown",
   "id": "7ae89229",
   "metadata": {},
   "source": [
    "Let's say you're given a list of standardized test scores from high schoolers from grades 9 to 12.\n",
    "\n",
    "Given the dataset, write code in Pandas to return the cumulative percentage of students that received scores within the buckets of <50, <75, <90, <100."
   ]
  },
  {
   "cell_type": "code",
   "execution_count": 90,
   "id": "31ca4fdb",
   "metadata": {},
   "outputs": [
    {
     "data": {
      "text/html": [
       "<div>\n",
       "<style scoped>\n",
       "    .dataframe tbody tr th:only-of-type {\n",
       "        vertical-align: middle;\n",
       "    }\n",
       "\n",
       "    .dataframe tbody tr th {\n",
       "        vertical-align: top;\n",
       "    }\n",
       "\n",
       "    .dataframe thead th {\n",
       "        text-align: right;\n",
       "    }\n",
       "</style>\n",
       "<table border=\"1\" class=\"dataframe\">\n",
       "  <thead>\n",
       "    <tr style=\"text-align: right;\">\n",
       "      <th></th>\n",
       "      <th>user_id</th>\n",
       "      <th>grade</th>\n",
       "      <th>test_score</th>\n",
       "    </tr>\n",
       "  </thead>\n",
       "  <tbody>\n",
       "    <tr>\n",
       "      <th>0</th>\n",
       "      <td>1</td>\n",
       "      <td>10</td>\n",
       "      <td>85</td>\n",
       "    </tr>\n",
       "    <tr>\n",
       "      <th>1</th>\n",
       "      <td>2</td>\n",
       "      <td>10</td>\n",
       "      <td>60</td>\n",
       "    </tr>\n",
       "    <tr>\n",
       "      <th>2</th>\n",
       "      <td>3</td>\n",
       "      <td>11</td>\n",
       "      <td>90</td>\n",
       "    </tr>\n",
       "    <tr>\n",
       "      <th>3</th>\n",
       "      <td>4</td>\n",
       "      <td>10</td>\n",
       "      <td>30</td>\n",
       "    </tr>\n",
       "    <tr>\n",
       "      <th>4</th>\n",
       "      <td>5</td>\n",
       "      <td>11</td>\n",
       "      <td>99</td>\n",
       "    </tr>\n",
       "    <tr>\n",
       "      <th>5</th>\n",
       "      <td>6</td>\n",
       "      <td>10</td>\n",
       "      <td>44</td>\n",
       "    </tr>\n",
       "    <tr>\n",
       "      <th>6</th>\n",
       "      <td>7</td>\n",
       "      <td>10</td>\n",
       "      <td>84</td>\n",
       "    </tr>\n",
       "    <tr>\n",
       "      <th>7</th>\n",
       "      <td>8</td>\n",
       "      <td>10</td>\n",
       "      <td>93</td>\n",
       "    </tr>\n",
       "    <tr>\n",
       "      <th>8</th>\n",
       "      <td>9</td>\n",
       "      <td>10</td>\n",
       "      <td>90</td>\n",
       "    </tr>\n",
       "    <tr>\n",
       "      <th>9</th>\n",
       "      <td>10</td>\n",
       "      <td>10</td>\n",
       "      <td>98</td>\n",
       "    </tr>\n",
       "    <tr>\n",
       "      <th>10</th>\n",
       "      <td>11</td>\n",
       "      <td>10</td>\n",
       "      <td>89</td>\n",
       "    </tr>\n",
       "    <tr>\n",
       "      <th>11</th>\n",
       "      <td>12</td>\n",
       "      <td>10</td>\n",
       "      <td>78</td>\n",
       "    </tr>\n",
       "  </tbody>\n",
       "</table>\n",
       "</div>"
      ],
      "text/plain": [
       "    user_id  grade  test_score\n",
       "0         1     10          85\n",
       "1         2     10          60\n",
       "2         3     11          90\n",
       "3         4     10          30\n",
       "4         5     11          99\n",
       "5         6     10          44\n",
       "6         7     10          84\n",
       "7         8     10          93\n",
       "8         9     10          90\n",
       "9        10     10          98\n",
       "10       11     10          89\n",
       "11       12     10          78"
      ]
     },
     "execution_count": 90,
     "metadata": {},
     "output_type": "execute_result"
    }
   ],
   "source": [
    "import pandas as pd\n",
    "data = {'user_id':  [1,2,3,4,5,6,7,8,9,10,11,12],\n",
    "        'grade': [10,10,11,10,11,10,10,10,10,10,10,10],\n",
    "        'test_score': [85,60,90,30,99,44,84,93,90,98,89,78]\n",
    "        }\n",
    "df = pd.DataFrame(data)\n",
    "df"
   ]
  },
  {
   "cell_type": "code",
   "execution_count": 91,
   "id": "232644f8",
   "metadata": {},
   "outputs": [
    {
     "data": {
      "text/html": [
       "<div>\n",
       "<style scoped>\n",
       "    .dataframe tbody tr th:only-of-type {\n",
       "        vertical-align: middle;\n",
       "    }\n",
       "\n",
       "    .dataframe tbody tr th {\n",
       "        vertical-align: top;\n",
       "    }\n",
       "\n",
       "    .dataframe thead th {\n",
       "        text-align: right;\n",
       "    }\n",
       "</style>\n",
       "<table border=\"1\" class=\"dataframe\">\n",
       "  <thead>\n",
       "    <tr style=\"text-align: right;\">\n",
       "      <th></th>\n",
       "      <th>user_id</th>\n",
       "      <th>grade</th>\n",
       "      <th>test_score</th>\n",
       "      <th>label</th>\n",
       "    </tr>\n",
       "  </thead>\n",
       "  <tbody>\n",
       "    <tr>\n",
       "      <th>0</th>\n",
       "      <td>1</td>\n",
       "      <td>10</td>\n",
       "      <td>85</td>\n",
       "      <td>&lt;90</td>\n",
       "    </tr>\n",
       "    <tr>\n",
       "      <th>1</th>\n",
       "      <td>2</td>\n",
       "      <td>10</td>\n",
       "      <td>60</td>\n",
       "      <td>&lt;75</td>\n",
       "    </tr>\n",
       "    <tr>\n",
       "      <th>2</th>\n",
       "      <td>3</td>\n",
       "      <td>11</td>\n",
       "      <td>90</td>\n",
       "      <td>&lt;90</td>\n",
       "    </tr>\n",
       "    <tr>\n",
       "      <th>3</th>\n",
       "      <td>4</td>\n",
       "      <td>10</td>\n",
       "      <td>30</td>\n",
       "      <td>&lt;50</td>\n",
       "    </tr>\n",
       "    <tr>\n",
       "      <th>4</th>\n",
       "      <td>5</td>\n",
       "      <td>11</td>\n",
       "      <td>99</td>\n",
       "      <td>&lt;100</td>\n",
       "    </tr>\n",
       "    <tr>\n",
       "      <th>5</th>\n",
       "      <td>6</td>\n",
       "      <td>10</td>\n",
       "      <td>44</td>\n",
       "      <td>&lt;50</td>\n",
       "    </tr>\n",
       "    <tr>\n",
       "      <th>6</th>\n",
       "      <td>7</td>\n",
       "      <td>10</td>\n",
       "      <td>84</td>\n",
       "      <td>&lt;90</td>\n",
       "    </tr>\n",
       "    <tr>\n",
       "      <th>7</th>\n",
       "      <td>8</td>\n",
       "      <td>10</td>\n",
       "      <td>93</td>\n",
       "      <td>&lt;100</td>\n",
       "    </tr>\n",
       "    <tr>\n",
       "      <th>8</th>\n",
       "      <td>9</td>\n",
       "      <td>10</td>\n",
       "      <td>90</td>\n",
       "      <td>&lt;90</td>\n",
       "    </tr>\n",
       "    <tr>\n",
       "      <th>9</th>\n",
       "      <td>10</td>\n",
       "      <td>10</td>\n",
       "      <td>98</td>\n",
       "      <td>&lt;100</td>\n",
       "    </tr>\n",
       "    <tr>\n",
       "      <th>10</th>\n",
       "      <td>11</td>\n",
       "      <td>10</td>\n",
       "      <td>89</td>\n",
       "      <td>&lt;90</td>\n",
       "    </tr>\n",
       "    <tr>\n",
       "      <th>11</th>\n",
       "      <td>12</td>\n",
       "      <td>10</td>\n",
       "      <td>78</td>\n",
       "      <td>&lt;90</td>\n",
       "    </tr>\n",
       "  </tbody>\n",
       "</table>\n",
       "</div>"
      ],
      "text/plain": [
       "    user_id  grade  test_score label\n",
       "0         1     10          85   <90\n",
       "1         2     10          60   <75\n",
       "2         3     11          90   <90\n",
       "3         4     10          30   <50\n",
       "4         5     11          99  <100\n",
       "5         6     10          44   <50\n",
       "6         7     10          84   <90\n",
       "7         8     10          93  <100\n",
       "8         9     10          90   <90\n",
       "9        10     10          98  <100\n",
       "10       11     10          89   <90\n",
       "11       12     10          78   <90"
      ]
     },
     "execution_count": 91,
     "metadata": {},
     "output_type": "execute_result"
    }
   ],
   "source": [
    "df['label']=pd.cut(df.test_score, bins=[0,50,70,90,100], labels=['<50','<75','<90' , '<100'])\n",
    "df"
   ]
  },
  {
   "cell_type": "code",
   "execution_count": 92,
   "id": "66800b36",
   "metadata": {},
   "outputs": [
    {
     "data": {
      "text/plain": [
       "grade  test_score\n",
       "10     30            1\n",
       "       44            1\n",
       "       60            1\n",
       "       78            1\n",
       "       84            1\n",
       "       85            1\n",
       "       89            1\n",
       "       90            1\n",
       "       93            1\n",
       "       98            1\n",
       "11     90            1\n",
       "       99            1\n",
       "Name: user_id, dtype: int64"
      ]
     },
     "execution_count": 92,
     "metadata": {},
     "output_type": "execute_result"
    }
   ],
   "source": [
    "numer = df.groupby(['grade','test_score'])['user_id'].count()\n",
    "numer"
   ]
  },
  {
   "cell_type": "code",
   "execution_count": 97,
   "id": "e6c4ab71",
   "metadata": {},
   "outputs": [
    {
     "name": "stdout",
     "output_type": "stream",
     "text": [
      "df:     user_id  grade test_score\n",
      "0         1     10        <90\n",
      "1         2     10        <75\n",
      "2         3     11        <90\n",
      "3         4     10        <50\n",
      "4         5     11       <100\n",
      "5         6     10        <50\n",
      "6         7     10        <90\n",
      "7         8     10       <100\n",
      "8         9     10        <90\n",
      "9        10     10       <100\n",
      "10       11     10        <90\n",
      "11       12     10        <90\n",
      "--------------------\n",
      "numer: grade  test_score\n",
      "10     <50           2\n",
      "       <75           1\n",
      "       <90           5\n",
      "       <100          2\n",
      "11     <50           0\n",
      "       <75           0\n",
      "       <90           1\n",
      "       <100          1\n",
      "Name: user_id, dtype: int64\n",
      "--------------------\n",
      "denom: grade\n",
      "10    10\n",
      "11     2\n",
      "Name: user_id, dtype: int64\n",
      "--------------------\n",
      "df: grade  test_score\n",
      "10     <50           0.2\n",
      "       <75           0.1\n",
      "       <90           0.5\n",
      "       <100          0.2\n",
      "11     <50           0.0\n",
      "       <75           0.0\n",
      "       <90           0.5\n",
      "       <100          0.5\n",
      "Name: user_id, dtype: float64\n",
      "--------------------\n",
      "df:    grade test_score  user_id\n",
      "0     10        <50      0.2\n",
      "1     10        <75      0.1\n",
      "2     10        <90      0.5\n",
      "3     10       <100      0.2\n",
      "4     11        <50      0.0\n",
      "5     11        <75      0.0\n",
      "6     11        <90      0.5\n",
      "7     11       <100      0.5\n",
      "--------------------\n"
     ]
    },
    {
     "data": {
      "text/html": [
       "<div>\n",
       "<style scoped>\n",
       "    .dataframe tbody tr th:only-of-type {\n",
       "        vertical-align: middle;\n",
       "    }\n",
       "\n",
       "    .dataframe tbody tr th {\n",
       "        vertical-align: top;\n",
       "    }\n",
       "\n",
       "    .dataframe thead th {\n",
       "        text-align: right;\n",
       "    }\n",
       "</style>\n",
       "<table border=\"1\" class=\"dataframe\">\n",
       "  <thead>\n",
       "    <tr style=\"text-align: right;\">\n",
       "      <th></th>\n",
       "      <th>grade</th>\n",
       "      <th>test_score</th>\n",
       "      <th>Percentage</th>\n",
       "    </tr>\n",
       "  </thead>\n",
       "  <tbody>\n",
       "    <tr>\n",
       "      <th>0</th>\n",
       "      <td>10</td>\n",
       "      <td>&lt;50</td>\n",
       "      <td>20.0%</td>\n",
       "    </tr>\n",
       "    <tr>\n",
       "      <th>1</th>\n",
       "      <td>10</td>\n",
       "      <td>&lt;75</td>\n",
       "      <td>30.000000000000004%</td>\n",
       "    </tr>\n",
       "    <tr>\n",
       "      <th>2</th>\n",
       "      <td>10</td>\n",
       "      <td>&lt;90</td>\n",
       "      <td>80.0%</td>\n",
       "    </tr>\n",
       "    <tr>\n",
       "      <th>3</th>\n",
       "      <td>10</td>\n",
       "      <td>&lt;100</td>\n",
       "      <td>100.0%</td>\n",
       "    </tr>\n",
       "    <tr>\n",
       "      <th>4</th>\n",
       "      <td>11</td>\n",
       "      <td>&lt;50</td>\n",
       "      <td>0.0%</td>\n",
       "    </tr>\n",
       "    <tr>\n",
       "      <th>5</th>\n",
       "      <td>11</td>\n",
       "      <td>&lt;75</td>\n",
       "      <td>0.0%</td>\n",
       "    </tr>\n",
       "    <tr>\n",
       "      <th>6</th>\n",
       "      <td>11</td>\n",
       "      <td>&lt;90</td>\n",
       "      <td>50.0%</td>\n",
       "    </tr>\n",
       "    <tr>\n",
       "      <th>7</th>\n",
       "      <td>11</td>\n",
       "      <td>&lt;100</td>\n",
       "      <td>100.0%</td>\n",
       "    </tr>\n",
       "  </tbody>\n",
       "</table>\n",
       "</div>"
      ],
      "text/plain": [
       "   grade test_score           Percentage\n",
       "0     10        <50                20.0%\n",
       "1     10        <75  30.000000000000004%\n",
       "2     10        <90                80.0%\n",
       "3     10       <100               100.0%\n",
       "4     11        <50                 0.0%\n",
       "5     11        <75                 0.0%\n",
       "6     11        <90                50.0%\n",
       "7     11       <100               100.0%"
      ]
     },
     "execution_count": 97,
     "metadata": {},
     "output_type": "execute_result"
    }
   ],
   "source": [
    "import pandas as pd\n",
    "data = {'user_id':  [1,2,3,4,5,6,7,8,9,10,11,12],\n",
    "        'grade': [10,10,11,10,11,10,10,10,10,10,10,10],\n",
    "        'test_score': [85,60,90,30,99,44,84,93,90,98,89,78]\n",
    "        }\n",
    "df = pd.DataFrame(data,columns = ['user_id' ,  'grade' , 'test_score'] )\n",
    "# print(df)\n",
    "bins = [0, 50, 75, 90, 100]\n",
    "labels=['<50','<75','<90' , '<100']\n",
    "df['test_score'] = pd.cut(df['test_score'], bins,labels=labels)\n",
    "print(f'df: {df}')\n",
    "print('--------------------')\n",
    "numer = df.groupby(['grade','test_score'])['user_id'].count()\n",
    "print(f'numer: {numer}')\n",
    "print('--------------------')\n",
    "denom = df.groupby(['grade'])['user_id'].count()\n",
    "print(f'denom: {denom}')\n",
    "print('--------------------')\n",
    "df = numer/denom\n",
    "print(f'df: {df}')\n",
    "print('--------------------')\n",
    "df = df.reset_index()\n",
    "print(f'df: {df}')\n",
    "print('--------------------')\n",
    "df['Percentage']=(df.groupby(['grade'])['user_id'].cumsum()*100).astype('str')+\"%\"\n",
    "df=df[['grade','test_score','Percentage']]\n",
    "df"
   ]
  },
  {
   "cell_type": "code",
   "execution_count": 86,
   "id": "c73b1dcd",
   "metadata": {},
   "outputs": [],
   "source": [
    "df = numer/denom"
   ]
  },
  {
   "cell_type": "code",
   "execution_count": 87,
   "id": "104eb762",
   "metadata": {},
   "outputs": [
    {
     "data": {
      "text/plain": [
       "grade  test_score\n",
       "10     30            0.1\n",
       "       44            0.1\n",
       "       60            0.1\n",
       "       78            0.1\n",
       "       84            0.1\n",
       "       85            0.1\n",
       "       89            0.1\n",
       "       90            0.1\n",
       "       93            0.1\n",
       "       98            0.1\n",
       "11     90            0.5\n",
       "       99            0.5\n",
       "Name: user_id, dtype: float64"
      ]
     },
     "execution_count": 87,
     "metadata": {},
     "output_type": "execute_result"
    }
   ],
   "source": [
    "df"
   ]
  },
  {
   "cell_type": "code",
   "execution_count": 93,
   "id": "77ac3be4",
   "metadata": {},
   "outputs": [
    {
     "data": {
      "text/html": [
       "<div>\n",
       "<style scoped>\n",
       "    .dataframe tbody tr th:only-of-type {\n",
       "        vertical-align: middle;\n",
       "    }\n",
       "\n",
       "    .dataframe tbody tr th {\n",
       "        vertical-align: top;\n",
       "    }\n",
       "\n",
       "    .dataframe thead th {\n",
       "        text-align: right;\n",
       "    }\n",
       "</style>\n",
       "<table border=\"1\" class=\"dataframe\">\n",
       "  <thead>\n",
       "    <tr style=\"text-align: right;\">\n",
       "      <th></th>\n",
       "      <th>grade</th>\n",
       "      <th>test_score</th>\n",
       "      <th>Percentage</th>\n",
       "    </tr>\n",
       "  </thead>\n",
       "  <tbody>\n",
       "    <tr>\n",
       "      <th>0</th>\n",
       "      <td>10</td>\n",
       "      <td>85</td>\n",
       "      <td>100%</td>\n",
       "    </tr>\n",
       "    <tr>\n",
       "      <th>1</th>\n",
       "      <td>10</td>\n",
       "      <td>60</td>\n",
       "      <td>300%</td>\n",
       "    </tr>\n",
       "    <tr>\n",
       "      <th>2</th>\n",
       "      <td>11</td>\n",
       "      <td>90</td>\n",
       "      <td>300%</td>\n",
       "    </tr>\n",
       "    <tr>\n",
       "      <th>3</th>\n",
       "      <td>10</td>\n",
       "      <td>30</td>\n",
       "      <td>700%</td>\n",
       "    </tr>\n",
       "    <tr>\n",
       "      <th>4</th>\n",
       "      <td>11</td>\n",
       "      <td>99</td>\n",
       "      <td>800%</td>\n",
       "    </tr>\n",
       "    <tr>\n",
       "      <th>5</th>\n",
       "      <td>10</td>\n",
       "      <td>44</td>\n",
       "      <td>1300%</td>\n",
       "    </tr>\n",
       "    <tr>\n",
       "      <th>6</th>\n",
       "      <td>10</td>\n",
       "      <td>84</td>\n",
       "      <td>2000%</td>\n",
       "    </tr>\n",
       "    <tr>\n",
       "      <th>7</th>\n",
       "      <td>10</td>\n",
       "      <td>93</td>\n",
       "      <td>2800%</td>\n",
       "    </tr>\n",
       "    <tr>\n",
       "      <th>8</th>\n",
       "      <td>10</td>\n",
       "      <td>90</td>\n",
       "      <td>3700%</td>\n",
       "    </tr>\n",
       "    <tr>\n",
       "      <th>9</th>\n",
       "      <td>10</td>\n",
       "      <td>98</td>\n",
       "      <td>4700%</td>\n",
       "    </tr>\n",
       "    <tr>\n",
       "      <th>10</th>\n",
       "      <td>10</td>\n",
       "      <td>89</td>\n",
       "      <td>5800%</td>\n",
       "    </tr>\n",
       "    <tr>\n",
       "      <th>11</th>\n",
       "      <td>10</td>\n",
       "      <td>78</td>\n",
       "      <td>7000%</td>\n",
       "    </tr>\n",
       "  </tbody>\n",
       "</table>\n",
       "</div>"
      ],
      "text/plain": [
       "    grade  test_score Percentage\n",
       "0      10          85       100%\n",
       "1      10          60       300%\n",
       "2      11          90       300%\n",
       "3      10          30       700%\n",
       "4      11          99       800%\n",
       "5      10          44      1300%\n",
       "6      10          84      2000%\n",
       "7      10          93      2800%\n",
       "8      10          90      3700%\n",
       "9      10          98      4700%\n",
       "10     10          89      5800%\n",
       "11     10          78      7000%"
      ]
     },
     "execution_count": 93,
     "metadata": {},
     "output_type": "execute_result"
    }
   ],
   "source": [
    "df['Percentage']=(df.groupby(['grade'])['user_id'].cumsum()*100).astype('str')+\"%\"\n",
    "df=df[['grade','test_score','Percentage']]\n",
    "df"
   ]
  },
  {
   "cell_type": "markdown",
   "id": "29357c46",
   "metadata": {},
   "source": [
    "We're given a string of integers that represent page numbers.\n",
    "\n",
    "Write a function to return the last page number in the string. If the string of integers is not in correct page order, return the last number in order.\n",
    "\n",
    " \n",
    "\n",
    "input = '12345'\n",
    "output = 5\n",
    "\n",
    "input = '12345678910111213'\n",
    "output = 13\n",
    "\n",
    "input = '1235678'\n",
    "output = 3"
   ]
  },
  {
   "cell_type": "code",
   "execution_count": 100,
   "id": "10654680",
   "metadata": {},
   "outputs": [],
   "source": [
    "def get_last_page(int_string):\n",
    "    # set counter\n",
    "    i = 0\n",
    "\n",
    "    # while there is still a string\n",
    "    while len(int_string) > 0:\n",
    "        i += 1\n",
    "        # compare our index to the page number \n",
    "        # we have to do an operation where we cut the value by the length of the digit\n",
    "        # for example '11', we have to cut off two digits\n",
    "        if i == int(int_string[:len(str(i))]):\n",
    "            # recreate the integer string\n",
    "            int_string = int_string[len(str(i)):]\n",
    "        else:\n",
    "            # if it's not equivalent, return the last index number\n",
    "            return i - 1\n",
    "    return i "
   ]
  },
  {
   "cell_type": "code",
   "execution_count": 105,
   "id": "4a68f2f6",
   "metadata": {},
   "outputs": [
    {
     "data": {
      "text/plain": [
       "11"
      ]
     },
     "execution_count": 105,
     "metadata": {},
     "output_type": "execute_result"
    }
   ],
   "source": [
    "get_last_page(\"1234567891011\")"
   ]
  },
  {
   "cell_type": "code",
   "execution_count": 106,
   "id": "bc2b3131",
   "metadata": {},
   "outputs": [
    {
     "data": {
      "text/html": [
       "<div>\n",
       "<style scoped>\n",
       "    .dataframe tbody tr th:only-of-type {\n",
       "        vertical-align: middle;\n",
       "    }\n",
       "\n",
       "    .dataframe tbody tr th {\n",
       "        vertical-align: top;\n",
       "    }\n",
       "\n",
       "    .dataframe thead th {\n",
       "        text-align: right;\n",
       "    }\n",
       "</style>\n",
       "<table border=\"1\" class=\"dataframe\">\n",
       "  <thead>\n",
       "    <tr style=\"text-align: right;\">\n",
       "      <th></th>\n",
       "      <th>task1_start</th>\n",
       "      <th>task2_start</th>\n",
       "    </tr>\n",
       "  </thead>\n",
       "  <tbody>\n",
       "    <tr>\n",
       "      <th>0</th>\n",
       "      <td>3448</td>\n",
       "      <td>15978</td>\n",
       "    </tr>\n",
       "    <tr>\n",
       "      <th>1</th>\n",
       "      <td>6255</td>\n",
       "      <td>16485</td>\n",
       "    </tr>\n",
       "    <tr>\n",
       "      <th>2</th>\n",
       "      <td>1828</td>\n",
       "      <td>12470</td>\n",
       "    </tr>\n",
       "    <tr>\n",
       "      <th>3</th>\n",
       "      <td>4402</td>\n",
       "      <td>11623</td>\n",
       "    </tr>\n",
       "    <tr>\n",
       "      <th>4</th>\n",
       "      <td>17510</td>\n",
       "      <td>1609</td>\n",
       "    </tr>\n",
       "    <tr>\n",
       "      <th>...</th>\n",
       "      <td>...</td>\n",
       "      <td>...</td>\n",
       "    </tr>\n",
       "    <tr>\n",
       "      <th>9999995</th>\n",
       "      <td>10811</td>\n",
       "      <td>17779</td>\n",
       "    </tr>\n",
       "    <tr>\n",
       "      <th>9999996</th>\n",
       "      <td>4938</td>\n",
       "      <td>9320</td>\n",
       "    </tr>\n",
       "    <tr>\n",
       "      <th>9999997</th>\n",
       "      <td>17543</td>\n",
       "      <td>13001</td>\n",
       "    </tr>\n",
       "    <tr>\n",
       "      <th>9999998</th>\n",
       "      <td>382</td>\n",
       "      <td>7542</td>\n",
       "    </tr>\n",
       "    <tr>\n",
       "      <th>9999999</th>\n",
       "      <td>3706</td>\n",
       "      <td>6046</td>\n",
       "    </tr>\n",
       "  </tbody>\n",
       "</table>\n",
       "<p>10000000 rows × 2 columns</p>\n",
       "</div>"
      ],
      "text/plain": [
       "         task1_start  task2_start\n",
       "0               3448        15978\n",
       "1               6255        16485\n",
       "2               1828        12470\n",
       "3               4402        11623\n",
       "4              17510         1609\n",
       "...              ...          ...\n",
       "9999995        10811        17779\n",
       "9999996         4938         9320\n",
       "9999997        17543        13001\n",
       "9999998          382         7542\n",
       "9999999         3706         6046\n",
       "\n",
       "[10000000 rows x 2 columns]"
      ]
     },
     "execution_count": 106,
     "metadata": {},
     "output_type": "execute_result"
    }
   ],
   "source": [
    "import numpy as np\n",
    "import pandas as pd\n",
    "import random\n",
    "task1 = np.random.randint(0, 5*60*60, size = 10000000)\n",
    "task2 = np.random.randint(0, 5*60*60, size = 10000000)\n",
    "data = pd.DataFrame(\n",
    "    {'task1_start': task1,\n",
    "     'task2_start': task2,\n",
    "    })\n",
    "data"
   ]
  },
  {
   "cell_type": "code",
   "execution_count": 108,
   "id": "1e9108d2",
   "metadata": {},
   "outputs": [
    {
     "data": {
      "text/html": [
       "<div>\n",
       "<style scoped>\n",
       "    .dataframe tbody tr th:only-of-type {\n",
       "        vertical-align: middle;\n",
       "    }\n",
       "\n",
       "    .dataframe tbody tr th {\n",
       "        vertical-align: top;\n",
       "    }\n",
       "\n",
       "    .dataframe thead th {\n",
       "        text-align: right;\n",
       "    }\n",
       "</style>\n",
       "<table border=\"1\" class=\"dataframe\">\n",
       "  <thead>\n",
       "    <tr style=\"text-align: right;\">\n",
       "      <th></th>\n",
       "      <th>task1_start</th>\n",
       "      <th>task2_start</th>\n",
       "      <th>overlap</th>\n",
       "    </tr>\n",
       "  </thead>\n",
       "  <tbody>\n",
       "    <tr>\n",
       "      <th>0</th>\n",
       "      <td>3448</td>\n",
       "      <td>15978</td>\n",
       "      <td>0</td>\n",
       "    </tr>\n",
       "    <tr>\n",
       "      <th>1</th>\n",
       "      <td>6255</td>\n",
       "      <td>16485</td>\n",
       "      <td>0</td>\n",
       "    </tr>\n",
       "    <tr>\n",
       "      <th>2</th>\n",
       "      <td>1828</td>\n",
       "      <td>12470</td>\n",
       "      <td>0</td>\n",
       "    </tr>\n",
       "    <tr>\n",
       "      <th>3</th>\n",
       "      <td>4402</td>\n",
       "      <td>11623</td>\n",
       "      <td>0</td>\n",
       "    </tr>\n",
       "    <tr>\n",
       "      <th>4</th>\n",
       "      <td>17510</td>\n",
       "      <td>1609</td>\n",
       "      <td>0</td>\n",
       "    </tr>\n",
       "    <tr>\n",
       "      <th>...</th>\n",
       "      <td>...</td>\n",
       "      <td>...</td>\n",
       "      <td>...</td>\n",
       "    </tr>\n",
       "    <tr>\n",
       "      <th>9999995</th>\n",
       "      <td>10811</td>\n",
       "      <td>17779</td>\n",
       "      <td>0</td>\n",
       "    </tr>\n",
       "    <tr>\n",
       "      <th>9999996</th>\n",
       "      <td>4938</td>\n",
       "      <td>9320</td>\n",
       "      <td>0</td>\n",
       "    </tr>\n",
       "    <tr>\n",
       "      <th>9999997</th>\n",
       "      <td>17543</td>\n",
       "      <td>13001</td>\n",
       "      <td>0</td>\n",
       "    </tr>\n",
       "    <tr>\n",
       "      <th>9999998</th>\n",
       "      <td>382</td>\n",
       "      <td>7542</td>\n",
       "      <td>0</td>\n",
       "    </tr>\n",
       "    <tr>\n",
       "      <th>9999999</th>\n",
       "      <td>3706</td>\n",
       "      <td>6046</td>\n",
       "      <td>1</td>\n",
       "    </tr>\n",
       "  </tbody>\n",
       "</table>\n",
       "<p>10000000 rows × 3 columns</p>\n",
       "</div>"
      ],
      "text/plain": [
       "         task1_start  task2_start  overlap\n",
       "0               3448        15978        0\n",
       "1               6255        16485        0\n",
       "2               1828        12470        0\n",
       "3               4402        11623        0\n",
       "4              17510         1609        0\n",
       "...              ...          ...      ...\n",
       "9999995        10811        17779        0\n",
       "9999996         4938         9320        0\n",
       "9999997        17543        13001        0\n",
       "9999998          382         7542        0\n",
       "9999999         3706         6046        1\n",
       "\n",
       "[10000000 rows x 3 columns]"
      ]
     },
     "execution_count": 108,
     "metadata": {},
     "output_type": "execute_result"
    }
   ],
   "source": [
    "data['overlap'] = np.where(np.abs(data.task1_start - data.task2_start) <=3600, 1, 0)\n",
    "data"
   ]
  },
  {
   "cell_type": "code",
   "execution_count": 109,
   "id": "192aad5d",
   "metadata": {},
   "outputs": [
    {
     "name": "stdout",
     "output_type": "stream",
     "text": [
      "0.360291\n"
     ]
    }
   ],
   "source": [
    "print(data['overlap'].mean())"
   ]
  },
  {
   "cell_type": "markdown",
   "id": "b7c1fa75",
   "metadata": {},
   "source": [
    "<b>Given a list of integers, find all combinations that equal the value N.</b>\n",
    "<p>Example: \n",
    "\n",
    "<p>integers = [2,3,5], target = 8,\n",
    "\n",
    "<p>output = [\n",
    "  [2,2,2,2],\n",
    "  [2,3,3],\n",
    "  [3,5]\n",
    "]"
   ]
  },
  {
   "cell_type": "code",
   "execution_count": 124,
   "id": "ff600be5",
   "metadata": {},
   "outputs": [
    {
     "ename": "KeyboardInterrupt",
     "evalue": "",
     "output_type": "error",
     "traceback": [
      "\u001b[1;31m---------------------------------------------------------------------------\u001b[0m",
      "\u001b[1;31mKeyboardInterrupt\u001b[0m                         Traceback (most recent call last)",
      "\u001b[1;32m<ipython-input-124-548d7d8b4f82>\u001b[0m in \u001b[0;36m<module>\u001b[1;34m\u001b[0m\n\u001b[0;32m     17\u001b[0m                 \u001b[0mtemp_list\u001b[0m\u001b[1;33m.\u001b[0m\u001b[0mappend\u001b[0m\u001b[1;33m(\u001b[0m\u001b[0minp\u001b[0m\u001b[1;33m[\u001b[0m\u001b[0mj\u001b[0m\u001b[1;33m]\u001b[0m\u001b[1;33m)\u001b[0m\u001b[1;33m\u001b[0m\u001b[1;33m\u001b[0m\u001b[0m\n\u001b[0;32m     18\u001b[0m                 \u001b[0mrem\u001b[0m \u001b[1;33m=\u001b[0m \u001b[0mtarget\u001b[0m \u001b[1;33m-\u001b[0m \u001b[0mtemp\u001b[0m\u001b[1;33m\u001b[0m\u001b[1;33m\u001b[0m\u001b[0m\n\u001b[1;32m---> 19\u001b[1;33m                 \u001b[1;32mif\u001b[0m \u001b[0mj\u001b[0m\u001b[1;33m+\u001b[0m\u001b[1;36m1\u001b[0m\u001b[1;33m<\u001b[0m\u001b[0mlen\u001b[0m\u001b[1;33m(\u001b[0m\u001b[0minp\u001b[0m\u001b[1;33m)\u001b[0m\u001b[1;33m:\u001b[0m\u001b[1;33m\u001b[0m\u001b[1;33m\u001b[0m\u001b[0m\n\u001b[0m\u001b[0;32m     20\u001b[0m                     \u001b[1;32mif\u001b[0m \u001b[0minp\u001b[0m\u001b[1;33m[\u001b[0m\u001b[0mj\u001b[0m\u001b[1;33m+\u001b[0m\u001b[1;36m1\u001b[0m\u001b[1;33m]\u001b[0m\u001b[1;33m>\u001b[0m\u001b[0mrem\u001b[0m\u001b[1;33m:\u001b[0m\u001b[1;33m\u001b[0m\u001b[1;33m\u001b[0m\u001b[0m\n\u001b[0;32m     21\u001b[0m                         \u001b[0mrem_str\u001b[0m\u001b[1;33m=\u001b[0m\u001b[0mstr\u001b[0m\u001b[1;33m(\u001b[0m\u001b[0mrem\u001b[0m\u001b[1;33m)\u001b[0m\u001b[1;33m\u001b[0m\u001b[1;33m\u001b[0m\u001b[0m\n",
      "\u001b[1;31mKeyboardInterrupt\u001b[0m: "
     ]
    }
   ],
   "source": [
    "target=8\n",
    "inp = [2,3,5]\n",
    "str_inp = [str(i) for i in inp]\n",
    "output = []\n",
    "for i in inp:\n",
    "    temp = 0\n",
    "    temp_list = []\n",
    "    if target%i==0:\n",
    "        n = target//i\n",
    "        for j in range(0,n):\n",
    "            temp_list.append(i)\n",
    "        output.append(temp_list)  \n",
    "    else:\n",
    "         while temp!=target:\n",
    "            for j in range(0,len(inp)):\n",
    "                temp = temp+inp[j]\n",
    "                temp_list.append(inp[j])\n",
    "                rem = target - temp\n",
    "                if j+1<len(inp):\n",
    "                    if inp[j+1]>rem:\n",
    "                        rem_str=str(rem)\n",
    "                        if rem_str in str_inp:\n",
    "                            temp = temp+rem\n",
    "                            temp_list.append(rem)\n",
    "                            output.append(temp_list)    \n",
    "                        else:\n",
    "                            continue\n",
    "                else:\n",
    "                    continue\n",
    "print(output)"
   ]
  },
  {
   "cell_type": "markdown",
   "id": "df8cf79c",
   "metadata": {},
   "source": [
    "https://www.educative.io/m/find-all-sum-combinations\n",
    "\n",
    "https://www.geeksforgeeks.org/combinational-sum/"
   ]
  },
  {
   "cell_type": "markdown",
   "id": "4eaf690c",
   "metadata": {},
   "source": [
    "<b>Given an array of integers (positive and negative) write a program that can find the largest continuous sum.\n",
    "You just need to return the total sum amount, not the sequence.\n",
    "Let’s see a few clarifying examples.</b>\n",
    "<p>[7,8,9] answer is: 7+8+9 =24\n",
    "<p>[-1,7,8,9,-10] answer is: 7+8+9=24\n",
    "<p>[2,3,-10,9,2] answer is 9+2=11\n",
    "<p>[2,11,-10,9,2] answer is 2+11-10+9+2=14\n",
    "<p>[12,-10,7,-8,4,6] answer is 12\n"
   ]
  },
  {
   "cell_type": "code",
   "execution_count": 161,
   "id": "dbd6d6cb",
   "metadata": {},
   "outputs": [
    {
     "data": {
      "text/plain": [
       "12"
      ]
     },
     "execution_count": 161,
     "metadata": {},
     "output_type": "execute_result"
    }
   ],
   "source": [
    "s =[12,-10,7,-8,4,6]  \n",
    "current_sum = 0\n",
    "max_sum = 0\n",
    "for i in s:\n",
    "    if i>0:\n",
    "        current_sum = current_sum+i\n",
    "        max_sum = max(current_sum,max_sum)\n",
    "    else:\n",
    "        current_sum=0\n",
    "        continue\n",
    "max_sum        "
   ]
  },
  {
   "cell_type": "code",
   "execution_count": 6,
   "id": "c824ce4f",
   "metadata": {},
   "outputs": [],
   "source": [
    "def largest_continuous_sum(arr):\n",
    "    if len(arr) == 0:\n",
    "        return 0\n",
    "    else:\n",
    "        max_sum = curr_sum = arr[0]\n",
    "        for num in arr[1:]:\n",
    "            curr_sum = max(num+curr_sum,num)\n",
    "            max_sum = max(curr_sum,max_sum)\n",
    "    return max_sum"
   ]
  },
  {
   "cell_type": "code",
   "execution_count": 7,
   "id": "33c82bbb",
   "metadata": {},
   "outputs": [
    {
     "data": {
      "text/plain": [
       "24"
      ]
     },
     "execution_count": 7,
     "metadata": {},
     "output_type": "execute_result"
    }
   ],
   "source": [
    "largest_continuous_sum([7,8,9])"
   ]
  },
  {
   "cell_type": "code",
   "execution_count": 8,
   "id": "8c116f50",
   "metadata": {},
   "outputs": [
    {
     "data": {
      "text/plain": [
       "24"
      ]
     },
     "execution_count": 8,
     "metadata": {},
     "output_type": "execute_result"
    }
   ],
   "source": [
    "largest_continuous_sum([-1,7,8,9,-10])"
   ]
  },
  {
   "cell_type": "code",
   "execution_count": 9,
   "id": "ca7ee5cb",
   "metadata": {},
   "outputs": [
    {
     "data": {
      "text/plain": [
       "14"
      ]
     },
     "execution_count": 9,
     "metadata": {},
     "output_type": "execute_result"
    }
   ],
   "source": [
    "largest_continuous_sum([2,11,-10,9,2])"
   ]
  },
  {
   "cell_type": "markdown",
   "id": "1bd4b8c8",
   "metadata": {},
   "source": [
    "Given a string in the form 'AAAABBBBCCCCCDDEEEE' compress it to become 'A4B4C5D2E4'. \n",
    "For this problem, you can falsely \"compress\" strings of single or double letters. \n",
    "For instance, it is okay for 'AAB' to return 'A2B1' even though this technically takes more space.\n",
    "The function should also be case sensitive, so that a string 'AAAaaa' returns 'A3a3'.\n"
   ]
  },
  {
   "cell_type": "code",
   "execution_count": 170,
   "id": "b3583a5c",
   "metadata": {},
   "outputs": [
    {
     "data": {
      "text/plain": [
       "'A2B1'"
      ]
     },
     "execution_count": 170,
     "metadata": {},
     "output_type": "execute_result"
    }
   ],
   "source": [
    "str_in = 'AAB'\n",
    "result = ''\n",
    "i=0\n",
    "for i in range(i,len(str_in)):\n",
    "    if str_in[i] not in result:\n",
    "        result = result+str_in[i]+str(str_in.count(str_in[i]))\n",
    "        i = i+str_in.count(str_in[i])\n",
    "    else:\n",
    "        continue\n",
    "       \n",
    "result                            \n",
    "    "
   ]
  },
  {
   "cell_type": "code",
   "execution_count": 26,
   "id": "8b87b178",
   "metadata": {},
   "outputs": [
    {
     "name": "stdout",
     "output_type": "stream",
     "text": [
      "A4B4C5D2E4\n"
     ]
    }
   ],
   "source": [
    "str_in = 'AAAABBBBCCCCCDDEEEE'\n",
    "i=0\n",
    "str_out = ''\n",
    "while i<len(str_in):\n",
    "    for i in range(i,len(str_in)):\n",
    "        count = str.count(str_in,str_in[i])\n",
    "        str_out = str_out+str_in[i]+str(count) \n",
    "        if count>1:\n",
    "            break\n",
    "        else:\n",
    "            continue\n",
    "    i = i + count\n",
    "     \n",
    "print(str_out)    "
   ]
  },
  {
   "cell_type": "code",
   "execution_count": 37,
   "id": "ecd9d1a3",
   "metadata": {},
   "outputs": [],
   "source": [
    "def str_count(str_in):\n",
    "    i=0\n",
    "    str_out = '' \n",
    "    while i<len(str_in):\n",
    "        for i in range(i,len(str_in)):\n",
    "            if str_in[i] not in str_out:\n",
    "                count = str.count(str_in,str_in[i])\n",
    "                str_out = str_out+str_in[i]+str(count) \n",
    "                if count>1:\n",
    "                    break\n",
    "                else:\n",
    "                    continue\n",
    "            else:\n",
    "                count = str.count(str_in[i:],str_in[i])\n",
    "        i = i + count\n",
    "    return str_out"
   ]
  },
  {
   "cell_type": "code",
   "execution_count": 38,
   "id": "f2e76417",
   "metadata": {},
   "outputs": [
    {
     "data": {
      "text/plain": [
       "'A4B4C5D2E4'"
      ]
     },
     "execution_count": 38,
     "metadata": {},
     "output_type": "execute_result"
    }
   ],
   "source": [
    "str_count('AAAABBBBCCCCCDDEEEE')"
   ]
  },
  {
   "cell_type": "code",
   "execution_count": 39,
   "id": "b3ebba13",
   "metadata": {},
   "outputs": [
    {
     "data": {
      "text/plain": [
       "'A2B1'"
      ]
     },
     "execution_count": 39,
     "metadata": {},
     "output_type": "execute_result"
    }
   ],
   "source": [
    "str_count('AAB')"
   ]
  },
  {
   "cell_type": "code",
   "execution_count": 40,
   "id": "f3e8e78b",
   "metadata": {},
   "outputs": [
    {
     "data": {
      "text/plain": [
       "'A3a3'"
      ]
     },
     "execution_count": 40,
     "metadata": {},
     "output_type": "execute_result"
    }
   ],
   "source": [
    "str_count('AAAaaa')"
   ]
  },
  {
   "cell_type": "code",
   "execution_count": 41,
   "id": "5bdb6146",
   "metadata": {},
   "outputs": [
    {
     "data": {
      "text/plain": [
       "'A6B4C5E4J2'"
      ]
     },
     "execution_count": 41,
     "metadata": {},
     "output_type": "execute_result"
    }
   ],
   "source": [
    "str_count('AAAABBBBCCCCCDDEEEEAAJJ')"
   ]
  },
  {
   "cell_type": "markdown",
   "id": "35cf331e",
   "metadata": {},
   "source": [
    "You are given an array of historical stock prices per day, for example:\n",
    "<p>[ 6 ,13 , 2, 10 , 3, 5]\n",
    "<p>Write an algorithm that figures out what days (index of array) you could buy and sell the stock for maximum profit.\n",
    "<p>You are only allowed to buy the stock once and sell it once. \n",
    "<p>Also no shorting the stock, you have to buy before selling\n",
    "<p>Let’s walk through an example of this with the example array of stock prices.\n",
    "<p>Given:\n",
    "<p>[ 6 ,13 , 2, 10 , 3, 5]\n",
    "<p>You make the most profit by buying on day 3 (price of $2) and selling on day 4 (price of $10), netting you an $8 gain.\n"
   ]
  },
  {
   "cell_type": "code",
   "execution_count": 50,
   "id": "f173d2a8",
   "metadata": {},
   "outputs": [
    {
     "name": "stdout",
     "output_type": "stream",
     "text": [
      "max_profit: 8\n",
      "You make the most profit by buying on day 2 (price of 2)𝑎𝑛𝑑 𝑠𝑒𝑙𝑙𝑖𝑛𝑔 𝑜𝑛 𝑑𝑎𝑦 3 (𝑝𝑟𝑖𝑐𝑒 𝑜𝑓 10), netting you an $8 gain.\n"
     ]
    }
   ],
   "source": [
    "arr = [6,13,2,10,3,5]\n",
    "max_profit = 0\n",
    "for i in range(0,len(arr)):\n",
    "    for j in range(i,len(arr)):\n",
    "        if arr[j]>=arr[i]:\n",
    "            profit = arr[j] - arr[i]\n",
    "            max_profit = max(profit,max_profit)\n",
    "            if profit>=max_profit:\n",
    "                buy = i\n",
    "                buy_price = arr[i]\n",
    "                sell = j\n",
    "                sell_price = arr[j]\n",
    "        else:\n",
    "            continue\n",
    "print(f'max_profit: {max_profit}')\n",
    "print(f'You make the most profit by buying on day {buy} (price of {buy_price})𝑎𝑛𝑑 𝑠𝑒𝑙𝑙𝑖𝑛𝑔 𝑜𝑛 𝑑𝑎𝑦 {sell} (𝑝𝑟𝑖𝑐𝑒 𝑜𝑓 {sell_price}), netting you an ${max_profit} gain.')     "
   ]
  },
  {
   "cell_type": "code",
   "execution_count": 51,
   "id": "561337e7",
   "metadata": {},
   "outputs": [],
   "source": [
    "def stock_proce(arr):\n",
    "    max_profit = 0\n",
    "    for i in range(0,len(arr)):\n",
    "        for j in range(i,len(arr)):\n",
    "            if arr[j]>=arr[i]:\n",
    "                profit = arr[j] - arr[i]\n",
    "                max_profit = max(profit,max_profit)\n",
    "                if profit>=max_profit:\n",
    "                    buy = i\n",
    "                    buy_price = arr[i]\n",
    "                    sell = j\n",
    "                    sell_price = arr[j]\n",
    "                else:\n",
    "                    continue\n",
    "    return f'You make the most profit by buying on day {buy} (price of {buy_price})𝑎𝑛𝑑 𝑠𝑒𝑙𝑙𝑖𝑛𝑔 𝑜𝑛 𝑑𝑎𝑦 {sell} (𝑝𝑟𝑖𝑐𝑒 𝑜𝑓 {sell_price}), netting you an ${max_profit} gain.'     "
   ]
  },
  {
   "cell_type": "code",
   "execution_count": 52,
   "id": "c2c13583",
   "metadata": {},
   "outputs": [
    {
     "data": {
      "text/plain": [
       "'You make the most profit by buying on day 2 (price of 2)𝑎𝑛𝑑 𝑠𝑒𝑙𝑙𝑖𝑛𝑔 𝑜𝑛 𝑑𝑎𝑦 3 (𝑝𝑟𝑖𝑐𝑒 𝑜𝑓 10), netting you an $8 gain.'"
      ]
     },
     "execution_count": 52,
     "metadata": {},
     "output_type": "execute_result"
    }
   ],
   "source": [
    "stock_proce([6,13,2,10,3,5])"
   ]
  },
  {
   "cell_type": "code",
   "execution_count": 53,
   "id": "9b84c1e2",
   "metadata": {},
   "outputs": [
    {
     "data": {
      "text/plain": [
       "'You make the most profit by buying on day 4 (price of 1)𝑎𝑛𝑑 𝑠𝑒𝑙𝑙𝑖𝑛𝑔 𝑜𝑛 𝑑𝑎𝑦 5 (𝑝𝑟𝑖𝑐𝑒 𝑜𝑓 10), netting you an $9 gain.'"
      ]
     },
     "execution_count": 53,
     "metadata": {},
     "output_type": "execute_result"
    }
   ],
   "source": [
    "stock_proce([3,8,2,5,1,10])"
   ]
  },
  {
   "cell_type": "markdown",
   "id": "2f1c6809",
   "metadata": {},
   "source": [
    "<p>Consider an array of non-negative integers. \n",
    "<p>A second array is formed by shuffling the elements of the first array and deleting a random element. Given these two arrays, find which element is missing in the second array.\n",
    "<p>For example, given:\n",
    "<p>[1,2,3,4,5]\n",
    "<p>[1,3,4,5]\n",
    "<p>The missing value was 2\n",
    "<p>Try to solve this problem in multiple ways!\n"
   ]
  },
  {
   "cell_type": "code",
   "execution_count": 90,
   "id": "591084f7",
   "metadata": {},
   "outputs": [],
   "source": [
    "import random\n",
    "random.seed(7)\n",
    "arr = [1,2,3,4]"
   ]
  },
  {
   "cell_type": "code",
   "execution_count": 91,
   "id": "bd9ee3f1",
   "metadata": {},
   "outputs": [
    {
     "name": "stdout",
     "output_type": "stream",
     "text": [
      "[1, 2, 4]\n"
     ]
    }
   ],
   "source": [
    "random_item_from_list = random.choice(arr)\n",
    "arr.remove(random_item_from_list)\n",
    "arr2 = arr\n",
    "print(arr)"
   ]
  },
  {
   "cell_type": "markdown",
   "id": "8a5d0eee",
   "metadata": {},
   "source": [
    "OR"
   ]
  },
  {
   "cell_type": "code",
   "execution_count": 76,
   "id": "75a57d14",
   "metadata": {},
   "outputs": [
    {
     "data": {
      "text/plain": [
       "[2, 3, 4]"
      ]
     },
     "execution_count": 76,
     "metadata": {},
     "output_type": "execute_result"
    }
   ],
   "source": [
    "arr.pop(random.randrange(len(arr)))\n",
    "arr2 = arr\n",
    "arr2"
   ]
  },
  {
   "cell_type": "code",
   "execution_count": 106,
   "id": "40f4aeac",
   "metadata": {},
   "outputs": [
    {
     "name": "stdout",
     "output_type": "stream",
     "text": [
      "['1', '2', '3', '4']\n",
      "['1', '2', '4']\n",
      "3\n"
     ]
    }
   ],
   "source": [
    "import random\n",
    "random.seed(7)\n",
    "arr = [1,2,3,4]\n",
    "arr_str = [str(i) for i in arr]\n",
    "print(arr_str)\n",
    "random_item_from_list = random.choice(arr)\n",
    "arr.remove(random_item_from_list)\n",
    "arr2 = arr\n",
    "arr2_str = [str(j) for j in arr2]\n",
    "print(arr2_str)\n",
    "for j in arr_str:\n",
    "    if j not in arr2_str:\n",
    "        print(j)\n",
    "        break         \n",
    "    else:\n",
    "        continue"
   ]
  },
  {
   "cell_type": "markdown",
   "id": "eeec11b8",
   "metadata": {},
   "source": [
    "Given a list of numbers, return whether any two sums to k. For example, given [10, 15, 3, 7] and k of 17, return true since 10 + 7 is 17."
   ]
  },
  {
   "cell_type": "code",
   "execution_count": 3,
   "id": "cead85b8",
   "metadata": {},
   "outputs": [
    {
     "name": "stdout",
     "output_type": "stream",
     "text": [
      "enter the list:1,2,3,4\n",
      "17\n"
     ]
    }
   ],
   "source": [
    "inp_list = input(\"enter the list:\").split(',')\n",
    "inp_list\n",
    "target_sum = int(input(\"\"))"
   ]
  },
  {
   "cell_type": "code",
   "execution_count": 22,
   "id": "4f2d9605",
   "metadata": {},
   "outputs": [],
   "source": [
    "def check_sum(inp_list,target_sum):\n",
    "    inp_int_list = [int(x) for x in inp_list]\n",
    "    out = []\n",
    "    for i in inp_int_list[1:]:\n",
    "        for j in inp_int_list:\n",
    "            if i + j == target_sum:\n",
    "                out.append(str(i))\n",
    "                out.append(str(j))\n",
    "    return ','.join(out)             "
   ]
  },
  {
   "cell_type": "code",
   "execution_count": 10,
   "id": "a4464004",
   "metadata": {},
   "outputs": [
    {
     "name": "stdout",
     "output_type": "stream",
     "text": [
      "enter the list:10,15,3,7\n",
      "17\n"
     ]
    }
   ],
   "source": [
    "inp_list = input(\"enter the list:\").split(',')\n",
    "inp_list\n",
    "target_sum = int(input(\"\"))"
   ]
  },
  {
   "cell_type": "code",
   "execution_count": 23,
   "id": "e1275084",
   "metadata": {},
   "outputs": [
    {
     "data": {
      "text/plain": [
       "'7,10'"
      ]
     },
     "execution_count": 23,
     "metadata": {},
     "output_type": "execute_result"
    }
   ],
   "source": [
    "check_sum(inp_list,target_sum)"
   ]
  },
  {
   "cell_type": "code",
   "execution_count": 21,
   "id": "6d1dfa41",
   "metadata": {},
   "outputs": [],
   "source": [
    "def check_sums(array, k):\n",
    "    potential_solutions = set()\n",
    "    for num in array:\n",
    "        if num in potential_solutions:\n",
    "            return True\n",
    "        potential_solutions.add(k - num)\n",
    "    \n",
    "    return False\n",
    "\n",
    "\n",
    "assert not check_sums([], 17)\n",
    "assert check_sums([10, 15, 3, 7], 17)\n",
    "assert not check_sums([10, 15, 3, 4], 17)"
   ]
  },
  {
   "cell_type": "markdown",
   "id": "0f462652",
   "metadata": {},
   "source": [
    "This problem was asked by Uber.\n",
    "\n",
    "Given an array of integers, return a new array such that each element at index i of the new array is the product of all the numbers in the original array except the one at i.\n",
    "\n",
    "For example, if our input was [1, 2, 3, 4, 5], the expected output would be [120, 60, 40, 30, 24]. If our input was [3, 2, 1], the expected output would be [2, 3, 6].\n",
    "\n",
    "Follow-up: what if you can't use division?"
   ]
  },
  {
   "cell_type": "code",
   "execution_count": 48,
   "id": "bdf60939",
   "metadata": {},
   "outputs": [],
   "source": [
    "import functools\n",
    "def mul_array(array):\n",
    "    out = []\n",
    "    for i in array:\n",
    "        lis = [j for j in array if j !=i ]\n",
    "        temp = functools.reduce(lambda x, y: x*y, lis)\n",
    "        out.append(temp)\n",
    "    return out    \n",
    "        "
   ]
  },
  {
   "cell_type": "code",
   "execution_count": 49,
   "id": "fe999887",
   "metadata": {},
   "outputs": [
    {
     "data": {
      "text/plain": [
       "[120, 60, 40, 30, 24]"
      ]
     },
     "execution_count": 49,
     "metadata": {},
     "output_type": "execute_result"
    }
   ],
   "source": [
    "mul_array([1,2,3,4,5])"
   ]
  },
  {
   "cell_type": "code",
   "execution_count": 50,
   "id": "84a4bb13",
   "metadata": {},
   "outputs": [
    {
     "data": {
      "text/plain": [
       "[18, 12, 6]"
      ]
     },
     "execution_count": 50,
     "metadata": {},
     "output_type": "execute_result"
    }
   ],
   "source": [
    "mul_array([2,3,6])"
   ]
  },
  {
   "cell_type": "code",
   "execution_count": 51,
   "id": "40ae3e8f",
   "metadata": {},
   "outputs": [
    {
     "data": {
      "text/plain": [
       "[2, 3, 6]"
      ]
     },
     "execution_count": 51,
     "metadata": {},
     "output_type": "execute_result"
    }
   ],
   "source": [
    "mul_array([3,2,1])"
   ]
  },
  {
   "cell_type": "markdown",
   "id": "71583582",
   "metadata": {},
   "source": [
    "another way-----------------"
   ]
  },
  {
   "cell_type": "code",
   "execution_count": 55,
   "id": "587dade0",
   "metadata": {},
   "outputs": [],
   "source": [
    "import functools\n",
    "def mul_div_array(array):\n",
    "    out = []\n",
    "    for i in array:\n",
    "        temp = int((functools.reduce(lambda x, y: x*y, array))/i)\n",
    "        out.append(temp)\n",
    "    return out   "
   ]
  },
  {
   "cell_type": "code",
   "execution_count": 56,
   "id": "49f26720",
   "metadata": {},
   "outputs": [
    {
     "data": {
      "text/plain": [
       "[120, 60, 40, 30, 24]"
      ]
     },
     "execution_count": 56,
     "metadata": {},
     "output_type": "execute_result"
    }
   ],
   "source": [
    "mul_div_array([1,2,3,4,5])"
   ]
  },
  {
   "cell_type": "markdown",
   "id": "48d58ce9",
   "metadata": {},
   "source": [
    "This problem was asked by Google.\n",
    "\n",
    "Given the root to a binary tree, implement serialize(root), which serializes the tree into a string, and deserialize(s), which deserializes the string back into the tree."
   ]
  },
  {
   "cell_type": "code",
   "execution_count": 57,
   "id": "ad7dac05",
   "metadata": {},
   "outputs": [
    {
     "name": "stdout",
     "output_type": "stream",
     "text": [
      "{\"data\": \"a\", \"left\": \"{\\\"data\\\": \\\"b\\\", \\\"left\\\": \\\"{\\\\\\\"data\\\\\\\": \\\\\\\"d\\\\\\\"}\\\", \\\"right\\\": \\\"{\\\\\\\"data\\\\\\\": \\\\\\\"e\\\\\\\"}\\\"}\", \"right\": \"{\\\"data\\\": \\\"c\\\", \\\"left\\\": \\\"{\\\\\\\"data\\\\\\\": \\\\\\\"f\\\\\\\"}\\\", \\\"right\\\": \\\"{\\\\\\\"data\\\\\\\": \\\\\\\"g\\\\\\\"}\\\"}\"}\n"
     ]
    }
   ],
   "source": [
    "import json\n",
    "\n",
    "class Node:\n",
    "    def __init__(self, data):\n",
    "        self.data = data\n",
    "        self.left = None\n",
    "        self.right = None\n",
    "    \n",
    "    def __repr__(self):\n",
    "        return str(self.data)\n",
    "\n",
    "def serialize(root):\n",
    "    if not root:\n",
    "        return None\n",
    "\n",
    "    serialized_tree_map = dict()\n",
    "    serialized_left = serialize(root.left)\n",
    "    serialized_right = serialize(root.right)\n",
    "\n",
    "    serialized_tree_map['data'] = root.data\n",
    "    if serialized_left:\n",
    "        serialized_tree_map['left'] = serialized_left\n",
    "    if serialized_right:\n",
    "        serialized_tree_map['right'] = serialized_right\n",
    "\n",
    "    return json.dumps(serialized_tree_map)\n",
    "\n",
    "\n",
    "def deserialize(s):\n",
    "    serialized_tree_map = json.loads(s)\n",
    "\n",
    "    node = Node(serialized_tree_map['data'])\n",
    "    if 'left' in serialized_tree_map:\n",
    "        node.left = deserialize(serialized_tree_map['left'])\n",
    "    if 'right' in serialized_tree_map:\n",
    "        node.right = deserialize(serialized_tree_map['right'])\n",
    "\n",
    "    return node\n",
    "\n",
    "\n",
    "node_a = Node('a')\n",
    "node_b = Node('b')\n",
    "node_c = Node('c')\n",
    "node_d = Node('d')\n",
    "node_e = Node('e')\n",
    "node_f = Node('f')\n",
    "node_g = Node('g')\n",
    "node_a.left = node_b\n",
    "node_a.right = node_c\n",
    "node_b.left = node_d\n",
    "node_b.right = node_e\n",
    "node_c.left = node_f\n",
    "node_c.right = node_g\n",
    "\n",
    "serialized_a = serialize(node_a)\n",
    "print(serialized_a)\n",
    "\n",
    "deserialized_a = deserialize(serialized_a)\n",
    "assert str(deserialized_a) == \"a\""
   ]
  },
  {
   "cell_type": "markdown",
   "id": "b8177bab",
   "metadata": {},
   "source": [
    "Problem 4\n",
    "This problem was asked by Stripe.\n",
    "\n",
    "Given an array of integers, find the first missing positive integer in linear time and constant space. In other words, find the lowest positive integer that does not exist in the array. The array can contain duplicates and negative numbers as well.\n",
    "\n",
    "For example, the input [3, 4, -1, 1] should give 2. The input [1, 2, 0] should give 3.\n",
    "\n",
    "You can modify the input array in-place."
   ]
  },
  {
   "cell_type": "code",
   "execution_count": 66,
   "id": "5b80277e",
   "metadata": {},
   "outputs": [
    {
     "name": "stdout",
     "output_type": "stream",
     "text": [
      "1\n"
     ]
    }
   ],
   "source": [
    "array = [3, 4, -1, 1] \n",
    "sorted_array = sorted(array)\n",
    "for i in range(len(sorted_array)):\n",
    "    if sorted_array[i]>0:\n",
    "        if (sorted_array[i] - sorted_array[i-1])>1:\n",
    "            temp = sorted_array[i-1]+1\n",
    "            break   \n",
    "        else:\n",
    "            temp = sorted_array[i]+1\n",
    "            break    \n",
    "    elif sorted_array[i-1]<=0:\n",
    "        temp = 1\n",
    "        break\n",
    "print(temp)        "
   ]
  },
  {
   "cell_type": "code",
   "execution_count": 178,
   "id": "6fd6678f",
   "metadata": {},
   "outputs": [
    {
     "name": "stdout",
     "output_type": "stream",
     "text": [
      "3\n"
     ]
    }
   ],
   "source": [
    "array = [1, 2, 0]\n",
    "sorted_array = sorted(array)\n",
    "for i in range(len(sorted_array)):\n",
    "    if sorted_array[i]>=0 and i!=len(sorted_array)-1:\n",
    "        if sorted_array[i+1] - sorted_array[i]>1:\n",
    "            temp = sorted_array[i]+1\n",
    "            print(temp)\n",
    "            break\n",
    "        else:\n",
    "             temp = sorted_array[len(sorted_array)-1]+1\n",
    "                \n",
    "    else:\n",
    "        continue\n",
    "print(temp)        "
   ]
  },
  {
   "cell_type": "code",
   "execution_count": 179,
   "id": "112481f8",
   "metadata": {},
   "outputs": [],
   "source": [
    "def cons(a, b):\n",
    "    return lambda f : f(a, b)"
   ]
  },
  {
   "cell_type": "code",
   "execution_count": 73,
   "id": "dcb8f9bd",
   "metadata": {},
   "outputs": [
    {
     "data": {
      "text/plain": [
       "3"
      ]
     },
     "execution_count": 73,
     "metadata": {},
     "output_type": "execute_result"
    }
   ],
   "source": [
    "reult.__closure__[0].cell_contents"
   ]
  },
  {
   "cell_type": "code",
   "execution_count": 74,
   "id": "7bfdaf08",
   "metadata": {},
   "outputs": [],
   "source": [
    "def car(pair):\n",
    "    def return_first(a, b):\n",
    "        return a\n",
    "    return pair(return_first)\n",
    "\n",
    "def cdr(pair):\n",
    "    def return_last(a, b):\n",
    "        return b\n",
    "    return pair(return_last)"
   ]
  },
  {
   "cell_type": "code",
   "execution_count": null,
   "id": "63829d4e",
   "metadata": {},
   "outputs": [],
   "source": []
  },
  {
   "cell_type": "code",
   "execution_count": 75,
   "id": "c7130fed",
   "metadata": {},
   "outputs": [
    {
     "data": {
      "text/plain": [
       "42"
      ]
     },
     "execution_count": 75,
     "metadata": {},
     "output_type": "execute_result"
    }
   ],
   "source": [
    "car(cons(42, 81))"
   ]
  },
  {
   "cell_type": "code",
   "execution_count": 181,
   "id": "4d100fa8",
   "metadata": {},
   "outputs": [
    {
     "data": {
      "text/plain": [
       "<function __main__.f.<locals>.<lambda>(x)>"
      ]
     },
     "execution_count": 181,
     "metadata": {},
     "output_type": "execute_result"
    }
   ],
   "source": [
    "def f(x):\n",
    "    i = (lambda x:x**2)\n",
    "    return i\n",
    "f(2)\n",
    "\n"
   ]
  },
  {
   "cell_type": "code",
   "execution_count": 183,
   "id": "a9206342",
   "metadata": {},
   "outputs": [
    {
     "data": {
      "text/plain": [
       "4"
      ]
     },
     "execution_count": 183,
     "metadata": {},
     "output_type": "execute_result"
    }
   ],
   "source": [
    "i = f(2)\n",
    "i(2)"
   ]
  },
  {
   "cell_type": "code",
   "execution_count": 81,
   "id": "ab051b93",
   "metadata": {},
   "outputs": [
    {
     "data": {
      "text/plain": [
       "4"
      ]
     },
     "execution_count": 81,
     "metadata": {},
     "output_type": "execute_result"
    }
   ],
   "source": [
    "def f(x):\n",
    "    return (lambda x:x**2)(x)\n",
    "    \n",
    "f(2)"
   ]
  },
  {
   "cell_type": "code",
   "execution_count": 82,
   "id": "7bfc1373",
   "metadata": {},
   "outputs": [
    {
     "data": {
      "text/plain": [
       "4"
      ]
     },
     "execution_count": 82,
     "metadata": {},
     "output_type": "execute_result"
    }
   ],
   "source": [
    "def f(x):\n",
    "    return (lambda x:x**2)\n",
    "    \n",
    "f(2)(2)"
   ]
  },
  {
   "cell_type": "code",
   "execution_count": 91,
   "id": "0d028c49",
   "metadata": {},
   "outputs": [
    {
     "data": {
      "text/plain": [
       "'foo was called'"
      ]
     },
     "execution_count": 91,
     "metadata": {},
     "output_type": "execute_result"
    }
   ],
   "source": [
    "def foo():\n",
    "    return 'foo was called'\n",
    "foo()"
   ]
  },
  {
   "cell_type": "markdown",
   "id": "8c7c3d63",
   "metadata": {},
   "source": [
    "This problem was asked by Google.\n",
    "\n",
    "The area of a circle is defined as r^2. Estimate \\pi to 3 decimal places using a Monte Carlo method.\n",
    "\n",
    "Hint: The basic equation of a circle is x^2 + y^2 = r^2."
   ]
  },
  {
   "cell_type": "code",
   "execution_count": 3,
   "id": "58348f33",
   "metadata": {},
   "outputs": [],
   "source": [
    "from random import random\n",
    "radius = 2\n",
    "\n",
    "\n",
    "def estimate_pi(num_random_tests):\n",
    "    pi_counter = 0\n",
    "    rsquared = radius ** 2\n",
    "    for _ in range(num_random_tests):\n",
    "        x_rand = random() * radius\n",
    "        y_rand = random() * radius\n",
    "        if (x_rand ** 2) + (y_rand ** 2) < rsquared:\n",
    "            pi_counter += 1\n",
    "\n",
    "    return 4 * pi_counter / num_random_tests"
   ]
  },
  {
   "cell_type": "code",
   "execution_count": 4,
   "id": "18baf561",
   "metadata": {},
   "outputs": [
    {
     "data": {
      "text/plain": [
       "3.04"
      ]
     },
     "execution_count": 4,
     "metadata": {},
     "output_type": "execute_result"
    }
   ],
   "source": [
    "round(estimate_pi(100), 3)"
   ]
  },
  {
   "cell_type": "code",
   "execution_count": 5,
   "id": "55bad8ec",
   "metadata": {},
   "outputs": [
    {
     "data": {
      "text/plain": [
       "0.09347597942790253"
      ]
     },
     "execution_count": 5,
     "metadata": {},
     "output_type": "execute_result"
    }
   ],
   "source": [
    "x_rand = random()\n",
    "x_rand"
   ]
  },
  {
   "cell_type": "code",
   "execution_count": 6,
   "id": "1e048c78",
   "metadata": {},
   "outputs": [
    {
     "data": {
      "text/plain": [
       "0.293234410030632"
      ]
     },
     "execution_count": 6,
     "metadata": {},
     "output_type": "execute_result"
    }
   ],
   "source": [
    "y_rand = random()\n",
    "y_rand"
   ]
  },
  {
   "cell_type": "markdown",
   "id": "2448fe5f",
   "metadata": {},
   "source": [
    "Given a stream of elements too large to store in memory, pick a random element from the stream with uniform probability."
   ]
  },
  {
   "cell_type": "code",
   "execution_count": 19,
   "id": "e95e99f6",
   "metadata": {},
   "outputs": [
    {
     "name": "stdout",
     "output_type": "stream",
     "text": [
      "1\n",
      "Random element of the first 1 is 0\n",
      "1\n",
      "Random element of the first 2 is 1\n",
      "1\n",
      "Random element of the first 3 is 2\n",
      "1\n",
      "Random element of the first 4 is 3\n",
      "1\n",
      "Random element of the first 5 is 4\n",
      "1\n",
      "Random element of the first 6 is 5\n",
      "1\n",
      "Random element of the first 7 is 6\n",
      "1\n",
      "Random element of the first 8 is 7\n",
      "1\n",
      "Random element of the first 9 is 8\n",
      "1\n",
      "Random element of the first 10 is 9\n"
     ]
    }
   ],
   "source": [
    "from random import random\n",
    "\n",
    "\n",
    "def pick_random_element(x):\n",
    "    count_so_far = 0\n",
    "    result = None\n",
    "    count_so_far += 1\n",
    "\n",
    "    print(count_so_far)\n",
    "\n",
    "    if count_so_far == 1:\n",
    "        result = x\n",
    "    else:\n",
    "        random_value = int(count_so_far * random())\n",
    "        print(f'random_value: {random_value}')\n",
    "        if random_value == count_so_far - 1:\n",
    "            result = x\n",
    "\n",
    "    return result\n",
    "\n",
    "\n",
    "sample_stream = [0, 1, 2, 3, 4, 5, 6, 7, 8, 9]\n",
    "for index, element in enumerate(sample_stream):\n",
    "    random_element = pick_random_element(element)\n",
    "    print(\"Random element of the first {} is {}\".format(index + 1, random_element))"
   ]
  },
  {
   "cell_type": "markdown",
   "id": "44636f5a",
   "metadata": {},
   "source": [
    "This problem was asked by Twitter.\n",
    "\n",
    "You run an e-commerce website and want to record the last N order ids in a log. Implement a data structure to accomplish this, with the following API:\n",
    "\n",
    "record(order_id): adds the order_id to the log get_last(i): gets the ith last element from the log. i is guaranteed to be smaller than or equal to N. You should be as efficient with time and space as possible."
   ]
  },
  {
   "cell_type": "code",
   "execution_count": null,
   "id": "a6835641",
   "metadata": {},
   "outputs": [],
   "source": [
    "class OrderLog:\n",
    "    def __init__(self, size):\n",
    "        self.log = list()\n",
    "        self.size = size\n",
    "\n",
    "    def __repr__(self):\n",
    "        return str(self.log)\n",
    "\n",
    "    def record(self, order_id):\n",
    "        self.log.append(order_id)\n",
    "        if len(self.log) > self.size:\n",
    "            self.log = self.log[1:]\n",
    "\n",
    "    def get_last(self, i):\n",
    "        return self.log[-i]"
   ]
  },
  {
   "cell_type": "markdown",
   "id": "5ad1e7e3",
   "metadata": {},
   "source": [
    "what is the difference bwteen str() and repr()?"
   ]
  },
  {
   "cell_type": "markdown",
   "id": "868cf130",
   "metadata": {},
   "source": [
    "https://www.interviewquery.com/blog-python-data-science-interview-questions"
   ]
  },
  {
   "cell_type": "markdown",
   "id": "3970c5d4",
   "metadata": {},
   "source": [
    "Write a function to generate N samples from a normal distribution and plot them on the histogram."
   ]
  },
  {
   "cell_type": "code",
   "execution_count": 5,
   "id": "66b0e7d2",
   "metadata": {},
   "outputs": [
    {
     "data": {
      "image/png": "[encoded data removed]",
      "text/plain": [
       "<Figure size 432x288 with 1 Axes>"
      ]
     },
     "metadata": {
      "needs_background": "light"
     },
     "output_type": "display_data"
    }
   ],
   "source": [
    "import random\n",
    "import numpy as np\n",
    "import seaborn as sns\n",
    "import matplotlib.pyplot as plt\n",
    "samples = np.random.randn(10)*10\n",
    "plt.hist(samples)\n",
    "plt.show()"
   ]
  },
  {
   "cell_type": "code",
   "execution_count": 6,
   "id": "a20c6863",
   "metadata": {},
   "outputs": [
    {
     "data": {
      "text/plain": [
       "<seaborn.axisgrid.FacetGrid at 0x1f9fa71ca48>"
      ]
     },
     "execution_count": 6,
     "metadata": {},
     "output_type": "execute_result"
    },
    {
     "data": {
      "image/png": "[encoded data removed]",
      "text/plain": [
       "<Figure size 360x360 with 1 Axes>"
      ]
     },
     "metadata": {
      "needs_background": "light"
     },
     "output_type": "display_data"
    }
   ],
   "source": [
    "sns.displot(samples)"
   ]
  },
  {
   "cell_type": "markdown",
   "id": "a85c877b",
   "metadata": {},
   "source": [
    "Write a function that takes in a list of dictionaries with a key and list of integers and returns a dictionary with the standard deviation of each list."
   ]
  },
  {
   "cell_type": "code",
   "execution_count": 37,
   "id": "fea2ca20",
   "metadata": {},
   "outputs": [
    {
     "name": "stdout",
     "output_type": "stream",
     "text": [
      "3.5\n",
      "[0.25, 2.25, 2.25, 0.25, 0.25, 2.25, 2.25, 0.25]\n",
      "10.0\n",
      "1 2\n",
      "---------\n",
      "13.38\n",
      "[153.26, 153.26, 425.18, 1.9, 708.62, 107.74, 19.18, 40.7]\n",
      "1609.8400000000001\n",
      "14 2\n",
      "---------\n"
     ]
    },
    {
     "data": {
      "text/plain": [
       "{'list1': 1.12, 'list2': 14.19}"
      ]
     },
     "execution_count": 37,
     "metadata": {},
     "output_type": "execute_result"
    }
   ],
   "source": [
    "import math\n",
    "from functools import reduce\n",
    "inp = [\n",
    "    {\n",
    "        'key': 'list1',\n",
    "        'values': [4,5,2,3,4,5,2,3],\n",
    "    },\n",
    "    {\n",
    "        'key': 'list2',\n",
    "        'values': [1,1,34,12,40,3,9,7],\n",
    "    }\n",
    "]\n",
    "\n",
    "#output -> {'list1': 1.12, 'list2': 14.19}\n",
    "result = {}\n",
    "for i in inp:\n",
    "    temp_mean = round(sum(i['values'])/len(i['values']),2)\n",
    "    print(temp_mean)\n",
    "    temp_list = [round((x - temp_mean)**2,2) for x in i['values']]\n",
    "    print(temp_list)\n",
    "    variance = reduce(lambda x,y: x+y, temp_list)\n",
    "    print(variance)\n",
    "    print(round(math.sqrt(variance/len(i['values']))),2)\n",
    "    print('---------')\n",
    "    result[i['key']] = round(math.sqrt(variance/len(i['values'])),2)\n",
    "result    "
   ]
  },
  {
   "cell_type": "code",
   "execution_count": 38,
   "id": "6ec0294c",
   "metadata": {},
   "outputs": [],
   "source": [
    "def calc_std(inp):\n",
    "    result = {}\n",
    "    for i in inp:\n",
    "        temp_mean = round(sum(i['values'])/len(i['values']),2)\n",
    "        temp_list = [round((x - temp_mean)**2,2) for x in i['values']]\n",
    "        variance = reduce(lambda x,y: x+y, temp_list)\n",
    "        result[i['key']] = round(math.sqrt(variance/len(i['values'])),2)\n",
    "    return result    "
   ]
  },
  {
   "cell_type": "code",
   "execution_count": 39,
   "id": "3aa7b9e6",
   "metadata": {},
   "outputs": [
    {
     "data": {
      "text/plain": [
       "{'list1': 1.12, 'list2': 14.19}"
      ]
     },
     "execution_count": 39,
     "metadata": {},
     "output_type": "execute_result"
    }
   ],
   "source": [
    "inp = [\n",
    "    {\n",
    "        'key': 'list1',\n",
    "        'values': [4,5,2,3,4,5,2,3],\n",
    "    },\n",
    "    {\n",
    "        'key': 'list2',\n",
    "        'values': [1,1,34,12,40,3,9,7],\n",
    "    }\n",
    "]\n",
    "calc_std(inp)"
   ]
  },
  {
   "cell_type": "markdown",
   "id": "b980300c",
   "metadata": {},
   "source": [
    "1. Given a list of stock_prices in ascending order by datetime, and their respective dates in list dts, write a function max_profit that outputs the max profit by buying and selling at a specific interval.\n",
    "\n",
    "Example:\n",
    "\n",
    "stock_prices = [10,5,20,32,25,12]\n",
    "dts = [\n",
    "    '2019-01-01', \n",
    "    '2019-01-02',\n",
    "    '2019-01-03',\n",
    "    '2019-01-04',\n",
    "    '2019-01-05',\n",
    "    '2019-01-06',\n",
    "]\n",
    "\n",
    "def max_profit(stock_prices,dts) -> 27"
   ]
  },
  {
   "cell_type": "code",
   "execution_count": 187,
   "id": "2d9a8b46",
   "metadata": {},
   "outputs": [
    {
     "name": "stdout",
     "output_type": "stream",
     "text": [
      "27\n"
     ]
    }
   ],
   "source": [
    "stock_prices =  [10,5,20,32,25,12]\n",
    "max_prof = 0\n",
    "curr_prof = 0\n",
    "for i in range(len(stock_prices)):\n",
    "    curr_prof = 0\n",
    "    for j in range(i,len(stock_prices)):\n",
    "        if stock_prices[j]>stock_prices[i]:\n",
    "            curr_prof = stock_prices[j]-stock_prices[i]\n",
    "            max_prof = max(curr_prof,max_prof)\n",
    "            \n",
    "            \n",
    "        else:\n",
    "            continue\n",
    "print(max_prof)            "
   ]
  },
  {
   "cell_type": "code",
   "execution_count": 70,
   "id": "e3b84cb6",
   "metadata": {},
   "outputs": [],
   "source": [
    "def maxProfit(price, start, end):\n",
    " \n",
    "    # If the stocks can't be bought\n",
    "    if (end <= start):\n",
    "        return 0\n",
    "    \n",
    "    \n",
    " \n",
    "    # Initialise the profit\n",
    "    profit = 0\n",
    " \n",
    "    # The day at which the stock\n",
    "    # must be bought\n",
    "    for i in range(start, end, 1):\n",
    " \n",
    "        # The day at which the\n",
    "        # stock must be sold\n",
    "        for j in range(i+1, end+1):\n",
    " \n",
    "            # If buying the stock at ith day and\n",
    "            # selling it at jth day is profitable\n",
    "            if (price[j] > price[i]):\n",
    "                 \n",
    "                # Update the current profit\n",
    "                curr_profit = price[j] - price[i] +\\\n",
    "                            maxProfit(price, start, i - 1)+ \\\n",
    "                            maxProfit(price, j + 1, end)\n",
    " \n",
    "                # Update the maximum profit so far\n",
    "                profit = max(profit, curr_profit)\n",
    "                \n",
    "                \n",
    "                \n",
    "                 \n",
    "    return profit"
   ]
  },
  {
   "cell_type": "code",
   "execution_count": 71,
   "id": "af1ce95a",
   "metadata": {},
   "outputs": [
    {
     "name": "stdout",
     "output_type": "stream",
     "text": [
      "27\n"
     ]
    }
   ],
   "source": [
    "price =  [10,5,20,32,25,12] \n",
    "n = len(price)\n",
    "print(maxProfit(price, 0, n - 1))"
   ]
  },
  {
   "cell_type": "markdown",
   "id": "858d6823",
   "metadata": {},
   "source": [
    "Q10. Imagine a deck of 500 cards numbered from 1 to 500. If all the cards are shuffled randomly and you are asked to pick three cards, one at a time, what's the probability of each subsequent card being larger than the previous drawn card?"
   ]
  },
  {
   "cell_type": "code",
   "execution_count": 201,
   "id": "2fa2f247",
   "metadata": {},
   "outputs": [
    {
     "name": "stdout",
     "output_type": "stream",
     "text": [
      "[458]\n",
      "0.00016800000000000002\n",
      "[308]\n",
      "the subsequent pick was less than previous\n"
     ]
    }
   ],
   "source": [
    "import numpy as np\n",
    "import pandas as pd\n",
    "import random\n",
    "prob = 1/500\n",
    "start_pick = 1\n",
    "count = 1\n",
    "for i in range(2):\n",
    "    \n",
    "    pick = np.random.randint(1,500, size = 1)\n",
    "    print(pick)\n",
    "    \n",
    "    if pick>start_pick:\n",
    "        prob = ((500-pick[0])/500)*prob\n",
    "        print(prob)\n",
    "        count = count+1   \n",
    "    \n",
    "    start_pick = pick\n",
    "    \n",
    "if count==3:\n",
    "    print(prob)\n",
    "else:\n",
    "    print(\"the subsequent pick was less than previous\")\n",
    " "
   ]
  },
  {
   "cell_type": "markdown",
   "id": "65b883fd",
   "metadata": {},
   "source": [
    "Write a function that can take a string and return a list of bigrams."
   ]
  },
  {
   "cell_type": "code",
   "execution_count": 45,
   "id": "5009f3d3",
   "metadata": {},
   "outputs": [
    {
     "data": {
      "text/plain": [
       "['Have',\n",
       " 'free',\n",
       " 'hours',\n",
       " 'and',\n",
       " 'love',\n",
       " 'children?',\n",
       " 'Drive',\n",
       " 'kids',\n",
       " 'to',\n",
       " 'school',\n",
       " 'soccer',\n",
       " 'practice',\n",
       " 'and',\n",
       " 'other',\n",
       " 'activities']"
      ]
     },
     "execution_count": 45,
     "metadata": {},
     "output_type": "execute_result"
    }
   ],
   "source": [
    "sentence = \"\"\"\n",
    "Have free hours and love children?\n",
    "Drive kids to school, soccer practice\n",
    "and other activities.\n",
    "\"\"\"\n",
    "sentence = sentence.replace(',','').replace('\\n',' ').replace('.','')\n",
    "sentence_list = sentence.split(' ')\n",
    "for i in sentence_list:\n",
    "    if i == '':\n",
    "        sentence_list.remove('')\n",
    "sentence_list"
   ]
  },
  {
   "cell_type": "code",
   "execution_count": 57,
   "id": "44203c08",
   "metadata": {},
   "outputs": [
    {
     "data": {
      "text/plain": [
       "[('Have', 'free'),\n",
       " ('free', 'hours'),\n",
       " ('hours', 'and'),\n",
       " ('and', 'love'),\n",
       " ('love', 'children?'),\n",
       " ('children?', 'Drive'),\n",
       " ('Drive', 'kids'),\n",
       " ('kids', 'to'),\n",
       " ('to', 'school'),\n",
       " ('school', 'soccer'),\n",
       " ('soccer', 'practice'),\n",
       " ('practice', 'and'),\n",
       " ('and', 'other'),\n",
       " ('other', 'activities')]"
      ]
     },
     "execution_count": 57,
     "metadata": {},
     "output_type": "execute_result"
    }
   ],
   "source": [
    "result = []\n",
    "for i in range(len(sentence_list)-1):\n",
    "    for j in range(i+1,i+2):\n",
    "        result.append(tuple([sentence_list[i],sentence_list[j]]))\n",
    "result        "
   ]
  },
  {
   "cell_type": "markdown",
   "id": "20a45f8a",
   "metadata": {},
   "source": [
    "Given two strings A and B, return whether or not A can be shifted some number of times to get B.\n",
    "A = 'abcde'\n",
    "B = 'cdeab'\n",
    "can_shift(A, B) == True\n",
    "A = 'abc'\n",
    "B = 'acb'\n",
    "can_shift(A, B) == False"
   ]
  },
  {
   "cell_type": "markdown",
   "id": "7479ffec",
   "metadata": {},
   "source": [
    "left shift"
   ]
  },
  {
   "cell_type": "code",
   "execution_count": 63,
   "id": "089977c4",
   "metadata": {},
   "outputs": [
    {
     "name": "stdout",
     "output_type": "stream",
     "text": [
      "True\n"
     ]
    }
   ],
   "source": [
    "A = 'abcde'\n",
    "B = 'cdeab'\n",
    "count= 0\n",
    "for i in range(1,4):\n",
    "    Lfirst = A[0:i]\n",
    "    Lsecond = A[i:]\n",
    "    str_out = Lsecond+Lfirst\n",
    "    if str_out == B:\n",
    "        count = count+1\n",
    "if count==1:\n",
    "    print(\"True\")\n",
    "    \n",
    "else:\n",
    "    print(\"False\")"
   ]
  },
  {
   "cell_type": "markdown",
   "id": "5b0eb8fd",
   "metadata": {},
   "source": [
    "right shift"
   ]
  },
  {
   "cell_type": "code",
   "execution_count": 65,
   "id": "0a5f6a74",
   "metadata": {},
   "outputs": [
    {
     "name": "stdout",
     "output_type": "stream",
     "text": [
      "ythonprogramp\n",
      "-------------\n",
      "thonprogrampy\n",
      "-------------\n",
      "honprogrampyt\n",
      "-------------\n",
      "onprogrampyth\n",
      "-------------\n",
      "nprogrampytho\n",
      "-------------\n",
      "programpython\n",
      "-------------\n",
      "rogrampythonp\n",
      "-------------\n",
      "ogrampythonpr\n",
      "-------------\n",
      "grampythonpro\n",
      "-------------\n",
      "rampythonprog\n",
      "-------------\n",
      "ampythonprogr\n",
      "-------------\n"
     ]
    }
   ],
   "source": [
    "A = 'pythonprogram'\n",
    "for i in range(1,len(A)-1):\n",
    "    Lfirst = A[0:i]\n",
    "    Lsecond = A[i:]\n",
    "    str_out = Lsecond+Lfirst\n",
    "    print(str_out)\n",
    "    print(\"-------------\")"
   ]
  },
  {
   "cell_type": "markdown",
   "id": "b86f8c7b",
   "metadata": {},
   "source": [
    "Given two strings, string1 and string, determine if there exists a one to one character mapping between each character of string1 to string2.\n",
    "string1 = 'qwe'\n",
    "string2 = 'asd'\n",
    "string_map(string1, string2) == True\n",
    "#q = a, w = s, and e = d"
   ]
  },
  {
   "cell_type": "code",
   "execution_count": 78,
   "id": "061c72f8",
   "metadata": {},
   "outputs": [
    {
     "name": "stdout",
     "output_type": "stream",
     "text": [
      "1\n",
      "2\n",
      "3\n"
     ]
    }
   ],
   "source": [
    "string1 = 'qwe' \n",
    "string2 = 'asd'\n",
    "count = 0\n",
    "if len(string1)==len(string2):\n",
    "    for i in range(0,len(string1)):\n",
    "        if (string1[i] not in string1[i+1:]) and (string2[j] not in string2[j+1:]):\n",
    "                count = count+1\n",
    "                print(count)\n",
    "        else:\n",
    "                print(\"False\")\n",
    "else:\n",
    "    print(\"False\")\n",
    "                \n"
   ]
  },
  {
   "cell_type": "code",
   "execution_count": 79,
   "id": "74e85f46",
   "metadata": {},
   "outputs": [
    {
     "name": "stdout",
     "output_type": "stream",
     "text": [
      "True\n"
     ]
    }
   ],
   "source": [
    "if count==len(string1):\n",
    "    print(\"True\")"
   ]
  },
  {
   "cell_type": "code",
   "execution_count": 81,
   "id": "1e44bef3",
   "metadata": {},
   "outputs": [],
   "source": [
    "def string_map(string1, string2):\n",
    "    count = 0\n",
    "    if len(string1)==len(string2):\n",
    "        for i in range(0,len(string1)):\n",
    "            if (string1[i] not in string1[i+1:]) and (string2[j] not in string2[j+1:]):\n",
    "                count = count+1\n",
    "                print(count)\n",
    "            else:\n",
    "                print(\"False\")\n",
    "    else:\n",
    "        print(\"False\")\n",
    "    if count==len(string1):\n",
    "        print(\"True\")"
   ]
  },
  {
   "cell_type": "code",
   "execution_count": 83,
   "id": "2ee4396e",
   "metadata": {},
   "outputs": [
    {
     "name": "stdout",
     "output_type": "stream",
     "text": [
      "False\n",
      "False\n",
      "False\n",
      "False\n",
      "False\n"
     ]
    }
   ],
   "source": [
    "string_map('donut','fatty')"
   ]
  },
  {
   "cell_type": "markdown",
   "id": "3709e504",
   "metadata": {},
   "source": [
    "Given a string, return the first recurring character in it, or None if there is no recurring character.\n",
    "input = \"interviewquery\"\n",
    "output = \"i\"\n",
    "input = \"interv\"\n",
    "output = None"
   ]
  },
  {
   "cell_type": "code",
   "execution_count": 92,
   "id": "2f83e785",
   "metadata": {},
   "outputs": [
    {
     "name": "stdout",
     "output_type": "stream",
     "text": [
      "i\n"
     ]
    }
   ],
   "source": [
    "A = \"interviewquery\"\n",
    "for i in range(0,len(A)):\n",
    "    if A[i] in A[i+1:]:\n",
    "        print(A[i])\n",
    "        break\n",
    "    else:\n",
    "        print(\"None\")"
   ]
  },
  {
   "cell_type": "markdown",
   "id": "a80b4199",
   "metadata": {},
   "source": [
    "iven a list of timestamps in sequential order, return a list of lists grouped by week (7 days) using the first timestamp as the starting point.\n",
    "ts = [\n",
    "'2019-01-01',\n",
    "'2019-01-02',\n",
    "'2019-01-08',\n",
    "'2019-02-01',\n",
    "'2019-02-02',\n",
    "'2019-02-05',\n",
    "]\n",
    "output = [\n",
    "['2019-01-01', '2019-01-02'],\n",
    "['2019-01-08'],\n",
    "['2019-02-01', '2019-02-02'],\n",
    "['2019-02-05'],\n",
    "]"
   ]
  },
  {
   "cell_type": "code",
   "execution_count": 98,
   "id": "eee13d0d",
   "metadata": {},
   "outputs": [
    {
     "name": "stdout",
     "output_type": "stream",
     "text": [
      "<class 'pandas.core.frame.DataFrame'>\n",
      "RangeIndex: 6 entries, 0 to 5\n",
      "Data columns (total 2 columns):\n",
      " #   Column  Non-Null Count  Dtype         \n",
      "---  ------  --------------  -----         \n",
      " 0   dates   6 non-null      object        \n",
      " 1   Date    6 non-null      datetime64[ns]\n",
      "dtypes: datetime64[ns](1), object(1)\n",
      "memory usage: 224.0+ bytes\n"
     ]
    }
   ],
   "source": [
    "import datetime\n",
    "daterange = ['2019-01-01', '2019-01-02', '2019-01-08', '2019-02-01', '2019-02-02', '2019-02-05']\n",
    "df=pd.DataFrame(['2019-01-01', '2019-01-02', '2019-01-08', '2019-02-01', '2019-02-02', '2019-02-05'], columns = ['dates'])\n",
    "df.head()\n",
    "df['Date']= pd.to_datetime(df['dates'])\n",
    "df.info()"
   ]
  },
  {
   "cell_type": "code",
   "execution_count": 100,
   "id": "0bf31cfe",
   "metadata": {},
   "outputs": [
    {
     "data": {
      "text/html": [
       "<div>\n",
       "<style scoped>\n",
       "    .dataframe tbody tr th:only-of-type {\n",
       "        vertical-align: middle;\n",
       "    }\n",
       "\n",
       "    .dataframe tbody tr th {\n",
       "        vertical-align: top;\n",
       "    }\n",
       "\n",
       "    .dataframe thead th {\n",
       "        text-align: right;\n",
       "    }\n",
       "</style>\n",
       "<table border=\"1\" class=\"dataframe\">\n",
       "  <thead>\n",
       "    <tr style=\"text-align: right;\">\n",
       "      <th></th>\n",
       "      <th>dates</th>\n",
       "      <th>Date</th>\n",
       "    </tr>\n",
       "  </thead>\n",
       "  <tbody>\n",
       "    <tr>\n",
       "      <th>0</th>\n",
       "      <td>2019-01-01</td>\n",
       "      <td>2019-01-01</td>\n",
       "    </tr>\n",
       "    <tr>\n",
       "      <th>1</th>\n",
       "      <td>2019-01-02</td>\n",
       "      <td>2019-01-02</td>\n",
       "    </tr>\n",
       "    <tr>\n",
       "      <th>2</th>\n",
       "      <td>2019-01-08</td>\n",
       "      <td>2019-01-08</td>\n",
       "    </tr>\n",
       "    <tr>\n",
       "      <th>3</th>\n",
       "      <td>2019-02-01</td>\n",
       "      <td>2019-02-01</td>\n",
       "    </tr>\n",
       "    <tr>\n",
       "      <th>4</th>\n",
       "      <td>2019-02-02</td>\n",
       "      <td>2019-02-02</td>\n",
       "    </tr>\n",
       "    <tr>\n",
       "      <th>5</th>\n",
       "      <td>2019-02-05</td>\n",
       "      <td>2019-02-05</td>\n",
       "    </tr>\n",
       "  </tbody>\n",
       "</table>\n",
       "</div>"
      ],
      "text/plain": [
       "        dates       Date\n",
       "0  2019-01-01 2019-01-01\n",
       "1  2019-01-02 2019-01-02\n",
       "2  2019-01-08 2019-01-08\n",
       "3  2019-02-01 2019-02-01\n",
       "4  2019-02-02 2019-02-02\n",
       "5  2019-02-05 2019-02-05"
      ]
     },
     "execution_count": 100,
     "metadata": {},
     "output_type": "execute_result"
    }
   ],
   "source": [
    "df"
   ]
  },
  {
   "cell_type": "code",
   "execution_count": 102,
   "id": "3a2f94d7",
   "metadata": {},
   "outputs": [
    {
     "name": "stderr",
     "output_type": "stream",
     "text": [
      "C:\\Users\\ayonh\\anaconda3\\lib\\site-packages\\ipykernel_launcher.py:1: FutureWarning: Series.dt.weekofyear and Series.dt.week have been deprecated.  Please use Series.dt.isocalendar().week instead.\n",
      "  \"\"\"Entry point for launching an IPython kernel.\n"
     ]
    },
    {
     "data": {
      "text/html": [
       "<div>\n",
       "<style scoped>\n",
       "    .dataframe tbody tr th:only-of-type {\n",
       "        vertical-align: middle;\n",
       "    }\n",
       "\n",
       "    .dataframe tbody tr th {\n",
       "        vertical-align: top;\n",
       "    }\n",
       "\n",
       "    .dataframe thead th {\n",
       "        text-align: right;\n",
       "    }\n",
       "</style>\n",
       "<table border=\"1\" class=\"dataframe\">\n",
       "  <thead>\n",
       "    <tr style=\"text-align: right;\">\n",
       "      <th></th>\n",
       "      <th>dates</th>\n",
       "      <th>Date</th>\n",
       "      <th>week_number</th>\n",
       "    </tr>\n",
       "  </thead>\n",
       "  <tbody>\n",
       "    <tr>\n",
       "      <th>0</th>\n",
       "      <td>2019-01-01</td>\n",
       "      <td>2019-01-01</td>\n",
       "      <td>1</td>\n",
       "    </tr>\n",
       "    <tr>\n",
       "      <th>1</th>\n",
       "      <td>2019-01-02</td>\n",
       "      <td>2019-01-02</td>\n",
       "      <td>1</td>\n",
       "    </tr>\n",
       "    <tr>\n",
       "      <th>2</th>\n",
       "      <td>2019-01-08</td>\n",
       "      <td>2019-01-08</td>\n",
       "      <td>2</td>\n",
       "    </tr>\n",
       "    <tr>\n",
       "      <th>3</th>\n",
       "      <td>2019-02-01</td>\n",
       "      <td>2019-02-01</td>\n",
       "      <td>5</td>\n",
       "    </tr>\n",
       "    <tr>\n",
       "      <th>4</th>\n",
       "      <td>2019-02-02</td>\n",
       "      <td>2019-02-02</td>\n",
       "      <td>5</td>\n",
       "    </tr>\n",
       "    <tr>\n",
       "      <th>5</th>\n",
       "      <td>2019-02-05</td>\n",
       "      <td>2019-02-05</td>\n",
       "      <td>6</td>\n",
       "    </tr>\n",
       "  </tbody>\n",
       "</table>\n",
       "</div>"
      ],
      "text/plain": [
       "        dates       Date  week_number\n",
       "0  2019-01-01 2019-01-01            1\n",
       "1  2019-01-02 2019-01-02            1\n",
       "2  2019-01-08 2019-01-08            2\n",
       "3  2019-02-01 2019-02-01            5\n",
       "4  2019-02-02 2019-02-02            5\n",
       "5  2019-02-05 2019-02-05            6"
      ]
     },
     "execution_count": 102,
     "metadata": {},
     "output_type": "execute_result"
    }
   ],
   "source": [
    "df['week_number'] = df['Date'].dt.week\n",
    "df"
   ]
  },
  {
   "cell_type": "code",
   "execution_count": 115,
   "id": "6b7a7cd4",
   "metadata": {},
   "outputs": [
    {
     "data": {
      "text/html": [
       "<div>\n",
       "<style scoped>\n",
       "    .dataframe tbody tr th:only-of-type {\n",
       "        vertical-align: middle;\n",
       "    }\n",
       "\n",
       "    .dataframe tbody tr th {\n",
       "        vertical-align: top;\n",
       "    }\n",
       "\n",
       "    .dataframe thead th {\n",
       "        text-align: right;\n",
       "    }\n",
       "</style>\n",
       "<table border=\"1\" class=\"dataframe\">\n",
       "  <thead>\n",
       "    <tr style=\"text-align: right;\">\n",
       "      <th></th>\n",
       "      <th>Date</th>\n",
       "      <th>week_number</th>\n",
       "    </tr>\n",
       "  </thead>\n",
       "  <tbody>\n",
       "    <tr>\n",
       "      <th>0</th>\n",
       "      <td>2019-01-01</td>\n",
       "      <td>1</td>\n",
       "    </tr>\n",
       "    <tr>\n",
       "      <th>1</th>\n",
       "      <td>2019-01-02</td>\n",
       "      <td>1</td>\n",
       "    </tr>\n",
       "    <tr>\n",
       "      <th>2</th>\n",
       "      <td>2019-01-08</td>\n",
       "      <td>2</td>\n",
       "    </tr>\n",
       "    <tr>\n",
       "      <th>3</th>\n",
       "      <td>2019-02-01</td>\n",
       "      <td>5</td>\n",
       "    </tr>\n",
       "    <tr>\n",
       "      <th>4</th>\n",
       "      <td>2019-02-02</td>\n",
       "      <td>5</td>\n",
       "    </tr>\n",
       "    <tr>\n",
       "      <th>5</th>\n",
       "      <td>2019-02-05</td>\n",
       "      <td>6</td>\n",
       "    </tr>\n",
       "  </tbody>\n",
       "</table>\n",
       "</div>"
      ],
      "text/plain": [
       "        Date  week_number\n",
       "0 2019-01-01            1\n",
       "1 2019-01-02            1\n",
       "2 2019-01-08            2\n",
       "3 2019-02-01            5\n",
       "4 2019-02-02            5\n",
       "5 2019-02-05            6"
      ]
     },
     "execution_count": 115,
     "metadata": {},
     "output_type": "execute_result"
    }
   ],
   "source": [
    "df = df[['Date','week_number']]\n",
    "df"
   ]
  },
  {
   "cell_type": "code",
   "execution_count": 118,
   "id": "ad9f347c",
   "metadata": {},
   "outputs": [
    {
     "data": {
      "text/plain": [
       "array([[Timestamp('2019-01-01 00:00:00'), 1],\n",
       "       [Timestamp('2019-01-02 00:00:00'), 1],\n",
       "       [Timestamp('2019-01-08 00:00:00'), 2],\n",
       "       [Timestamp('2019-02-01 00:00:00'), 5],\n",
       "       [Timestamp('2019-02-02 00:00:00'), 5],\n",
       "       [Timestamp('2019-02-05 00:00:00'), 6]], dtype=object)"
      ]
     },
     "execution_count": 118,
     "metadata": {},
     "output_type": "execute_result"
    }
   ],
   "source": [
    "df.to_numpy()"
   ]
  },
  {
   "cell_type": "markdown",
   "id": "e3992d0b",
   "metadata": {},
   "source": [
    "Let's say you're given a list of standardized test scores from high schoolers from grades 9 to 12.\n",
    "\n",
    "Given the dataset, write code in Pandas to return the cumulative percentage of students that received scores within the buckets of <50, <75, <90, <100."
   ]
  },
  {
   "cell_type": "code",
   "execution_count": 119,
   "id": "13ed9d72",
   "metadata": {},
   "outputs": [
    {
     "data": {
      "text/html": [
       "<div>\n",
       "<style scoped>\n",
       "    .dataframe tbody tr th:only-of-type {\n",
       "        vertical-align: middle;\n",
       "    }\n",
       "\n",
       "    .dataframe tbody tr th {\n",
       "        vertical-align: top;\n",
       "    }\n",
       "\n",
       "    .dataframe thead th {\n",
       "        text-align: right;\n",
       "    }\n",
       "</style>\n",
       "<table border=\"1\" class=\"dataframe\">\n",
       "  <thead>\n",
       "    <tr style=\"text-align: right;\">\n",
       "      <th></th>\n",
       "      <th>user_id</th>\n",
       "      <th>grade</th>\n",
       "      <th>test_score</th>\n",
       "    </tr>\n",
       "  </thead>\n",
       "  <tbody>\n",
       "    <tr>\n",
       "      <th>0</th>\n",
       "      <td>1</td>\n",
       "      <td>10</td>\n",
       "      <td>85</td>\n",
       "    </tr>\n",
       "    <tr>\n",
       "      <th>1</th>\n",
       "      <td>2</td>\n",
       "      <td>10</td>\n",
       "      <td>60</td>\n",
       "    </tr>\n",
       "    <tr>\n",
       "      <th>2</th>\n",
       "      <td>3</td>\n",
       "      <td>11</td>\n",
       "      <td>90</td>\n",
       "    </tr>\n",
       "    <tr>\n",
       "      <th>3</th>\n",
       "      <td>4</td>\n",
       "      <td>10</td>\n",
       "      <td>30</td>\n",
       "    </tr>\n",
       "    <tr>\n",
       "      <th>4</th>\n",
       "      <td>5</td>\n",
       "      <td>11</td>\n",
       "      <td>99</td>\n",
       "    </tr>\n",
       "  </tbody>\n",
       "</table>\n",
       "</div>"
      ],
      "text/plain": [
       "   user_id  grade  test_score\n",
       "0        1     10          85\n",
       "1        2     10          60\n",
       "2        3     11          90\n",
       "3        4     10          30\n",
       "4        5     11          99"
      ]
     },
     "execution_count": 119,
     "metadata": {},
     "output_type": "execute_result"
    }
   ],
   "source": [
    "df = pd.DataFrame({'user_id':[1,2,3,4,5],'grade':[10,10,11,10,11], 'test_score':[85,60,90,30,99]})\n",
    "df"
   ]
  },
  {
   "cell_type": "markdown",
   "id": "26bfe219",
   "metadata": {},
   "source": [
    "You’re given two dataframes. One contains information about addresses and the other contains relationships between various cities and states:\n",
    "\n",
    "address\n",
    "\n",
    "4860 Sunset Boulevard, San Francisco, 94105\n",
    "\n",
    "3055 Paradise Lane, Salt Lake City, 84103\n",
    "\n",
    "682 Main Street, Detroit, 48204\n",
    "\n",
    "9001 Cascade Road, Kansas City, 64102\n",
    "\n",
    "5853 Leon Street, Tampa, 33605\n",
    "\n",
    "city\n",
    "\n",
    "state\n",
    "\n",
    "Salt Lake City\n",
    "\n",
    "Utah\n",
    "\n",
    "Kansas City\n",
    "\n",
    "Missouri\n",
    "\n",
    "Detroit\n",
    "\n",
    "Michigan\n",
    "\n",
    "Tampa\n",
    "\n",
    "Florida\n",
    "\n",
    "San Francisco\n",
    "\n",
    "California"
   ]
  },
  {
   "cell_type": "code",
   "execution_count": 185,
   "id": "e3f72ecb",
   "metadata": {},
   "outputs": [
    {
     "data": {
      "text/html": [
       "<div>\n",
       "<style scoped>\n",
       "    .dataframe tbody tr th:only-of-type {\n",
       "        vertical-align: middle;\n",
       "    }\n",
       "\n",
       "    .dataframe tbody tr th {\n",
       "        vertical-align: top;\n",
       "    }\n",
       "\n",
       "    .dataframe thead th {\n",
       "        text-align: right;\n",
       "    }\n",
       "</style>\n",
       "<table border=\"1\" class=\"dataframe\">\n",
       "  <thead>\n",
       "    <tr style=\"text-align: right;\">\n",
       "      <th></th>\n",
       "      <th>Street_address</th>\n",
       "      <th>City</th>\n",
       "      <th>ZipCode</th>\n",
       "    </tr>\n",
       "  </thead>\n",
       "  <tbody>\n",
       "    <tr>\n",
       "      <th>0</th>\n",
       "      <td>682 Main Street</td>\n",
       "      <td>Detroit</td>\n",
       "      <td>48204</td>\n",
       "    </tr>\n",
       "    <tr>\n",
       "      <th>1</th>\n",
       "      <td>9001 Cascade Road</td>\n",
       "      <td>Kansas City</td>\n",
       "      <td>64102</td>\n",
       "    </tr>\n",
       "    <tr>\n",
       "      <th>2</th>\n",
       "      <td>3055 Paradise Lane</td>\n",
       "      <td>Salt Lake City</td>\n",
       "      <td>84103</td>\n",
       "    </tr>\n",
       "    <tr>\n",
       "      <th>3</th>\n",
       "      <td>4860 Sunset Boulevard</td>\n",
       "      <td>San Francisco</td>\n",
       "      <td>94105</td>\n",
       "    </tr>\n",
       "    <tr>\n",
       "      <th>4</th>\n",
       "      <td>5853 Leon Street</td>\n",
       "      <td>Tampa</td>\n",
       "      <td>33605</td>\n",
       "    </tr>\n",
       "  </tbody>\n",
       "</table>\n",
       "</div>"
      ],
      "text/plain": [
       "          Street_address            City ZipCode\n",
       "0        682 Main Street         Detroit   48204\n",
       "1      9001 Cascade Road     Kansas City   64102\n",
       "2     3055 Paradise Lane  Salt Lake City   84103\n",
       "3  4860 Sunset Boulevard   San Francisco   94105\n",
       "4       5853 Leon Street           Tampa   33605"
      ]
     },
     "execution_count": 185,
     "metadata": {},
     "output_type": "execute_result"
    }
   ],
   "source": [
    "df = pd.DataFrame({'Address':['4860 Sunset Boulevard,San Francisco,94105','3055 Paradise Lane,Salt Lake City,84103','682 Main Street,Detroit,48204','9001 Cascade Road,Kansas City,64102','5853 Leon Street,Tampa,33605']})\n",
    "df[['Street_address','City', 'ZipCode']] = df['Address'].str.split(',',expand=True)\n",
    "df.drop(columns = 'Address',inplace=True)\n",
    "df1 = df.sort_values(by=['City'], ascending=True)\n",
    "df1 = df1.reset_index()\n",
    "df1 = df1[['Street_address','City','ZipCode']]\n",
    "df1"
   ]
  },
  {
   "cell_type": "code",
   "execution_count": 187,
   "id": "495d33f5",
   "metadata": {},
   "outputs": [
    {
     "name": "stdout",
     "output_type": "stream",
     "text": [
      "<class 'pandas.core.frame.DataFrame'>\n",
      "RangeIndex: 5 entries, 0 to 4\n",
      "Data columns (total 3 columns):\n",
      " #   Column          Non-Null Count  Dtype \n",
      "---  ------          --------------  ----- \n",
      " 0   Street_address  5 non-null      object\n",
      " 1   City            5 non-null      object\n",
      " 2   ZipCode         5 non-null      object\n",
      "dtypes: object(3)\n",
      "memory usage: 248.0+ bytes\n"
     ]
    }
   ],
   "source": [
    "df1.info()"
   ]
  },
  {
   "cell_type": "code",
   "execution_count": 188,
   "id": "a1efa61f",
   "metadata": {},
   "outputs": [
    {
     "data": {
      "text/html": [
       "<div>\n",
       "<style scoped>\n",
       "    .dataframe tbody tr th:only-of-type {\n",
       "        vertical-align: middle;\n",
       "    }\n",
       "\n",
       "    .dataframe tbody tr th {\n",
       "        vertical-align: top;\n",
       "    }\n",
       "\n",
       "    .dataframe thead th {\n",
       "        text-align: right;\n",
       "    }\n",
       "</style>\n",
       "<table border=\"1\" class=\"dataframe\">\n",
       "  <thead>\n",
       "    <tr style=\"text-align: right;\">\n",
       "      <th></th>\n",
       "      <th>City</th>\n",
       "      <th>state</th>\n",
       "    </tr>\n",
       "  </thead>\n",
       "  <tbody>\n",
       "    <tr>\n",
       "      <th>0</th>\n",
       "      <td>Detroit</td>\n",
       "      <td>Michigan</td>\n",
       "    </tr>\n",
       "    <tr>\n",
       "      <th>1</th>\n",
       "      <td>Kansas City</td>\n",
       "      <td>Missouri</td>\n",
       "    </tr>\n",
       "    <tr>\n",
       "      <th>2</th>\n",
       "      <td>Salt Lake City</td>\n",
       "      <td>Utah</td>\n",
       "    </tr>\n",
       "    <tr>\n",
       "      <th>3</th>\n",
       "      <td>San Francisco</td>\n",
       "      <td>California</td>\n",
       "    </tr>\n",
       "    <tr>\n",
       "      <th>4</th>\n",
       "      <td>Tampa</td>\n",
       "      <td>Florida</td>\n",
       "    </tr>\n",
       "  </tbody>\n",
       "</table>\n",
       "</div>"
      ],
      "text/plain": [
       "             City       state\n",
       "0         Detroit    Michigan\n",
       "1     Kansas City    Missouri\n",
       "2  Salt Lake City        Utah\n",
       "3   San Francisco  California\n",
       "4           Tampa     Florida"
      ]
     },
     "execution_count": 188,
     "metadata": {},
     "output_type": "execute_result"
    }
   ],
   "source": [
    "df_2 = pd.DataFrame({'City':['Salt Lake City','Kansas City','Detroit','Tampa','San Francisco'],'state':['Utah','Missouri','Michigan','Florida','California']})\n",
    "df2 = df_2.sort_values(by=['City'], ascending=True)\n",
    "df2 = df2.reset_index()\n",
    "df2 = df2[['City','state']]\n",
    "df2 "
   ]
  },
  {
   "cell_type": "code",
   "execution_count": 189,
   "id": "e9ab2629",
   "metadata": {},
   "outputs": [
    {
     "name": "stdout",
     "output_type": "stream",
     "text": [
      "<class 'pandas.core.frame.DataFrame'>\n",
      "RangeIndex: 5 entries, 0 to 4\n",
      "Data columns (total 2 columns):\n",
      " #   Column  Non-Null Count  Dtype \n",
      "---  ------  --------------  ----- \n",
      " 0   City    5 non-null      object\n",
      " 1   state   5 non-null      object\n",
      "dtypes: object(2)\n",
      "memory usage: 208.0+ bytes\n"
     ]
    }
   ],
   "source": [
    "df2.info()"
   ]
  },
  {
   "cell_type": "code",
   "execution_count": 190,
   "id": "1ab4d2d5",
   "metadata": {},
   "outputs": [
    {
     "data": {
      "text/html": [
       "<div>\n",
       "<style scoped>\n",
       "    .dataframe tbody tr th:only-of-type {\n",
       "        vertical-align: middle;\n",
       "    }\n",
       "\n",
       "    .dataframe tbody tr th {\n",
       "        vertical-align: top;\n",
       "    }\n",
       "\n",
       "    .dataframe thead th {\n",
       "        text-align: right;\n",
       "    }\n",
       "</style>\n",
       "<table border=\"1\" class=\"dataframe\">\n",
       "  <thead>\n",
       "    <tr style=\"text-align: right;\">\n",
       "      <th></th>\n",
       "      <th>Street_address</th>\n",
       "      <th>City</th>\n",
       "      <th>ZipCode</th>\n",
       "      <th>state</th>\n",
       "    </tr>\n",
       "  </thead>\n",
       "  <tbody>\n",
       "    <tr>\n",
       "      <th>0</th>\n",
       "      <td>682 Main Street</td>\n",
       "      <td>Detroit</td>\n",
       "      <td>48204</td>\n",
       "      <td>Michigan</td>\n",
       "    </tr>\n",
       "    <tr>\n",
       "      <th>1</th>\n",
       "      <td>9001 Cascade Road</td>\n",
       "      <td>Kansas City</td>\n",
       "      <td>64102</td>\n",
       "      <td>Missouri</td>\n",
       "    </tr>\n",
       "    <tr>\n",
       "      <th>2</th>\n",
       "      <td>3055 Paradise Lane</td>\n",
       "      <td>Salt Lake City</td>\n",
       "      <td>84103</td>\n",
       "      <td>Utah</td>\n",
       "    </tr>\n",
       "    <tr>\n",
       "      <th>3</th>\n",
       "      <td>4860 Sunset Boulevard</td>\n",
       "      <td>San Francisco</td>\n",
       "      <td>94105</td>\n",
       "      <td>California</td>\n",
       "    </tr>\n",
       "    <tr>\n",
       "      <th>4</th>\n",
       "      <td>5853 Leon Street</td>\n",
       "      <td>Tampa</td>\n",
       "      <td>33605</td>\n",
       "      <td>Florida</td>\n",
       "    </tr>\n",
       "  </tbody>\n",
       "</table>\n",
       "</div>"
      ],
      "text/plain": [
       "          Street_address            City ZipCode       state\n",
       "0        682 Main Street         Detroit   48204    Michigan\n",
       "1      9001 Cascade Road     Kansas City   64102    Missouri\n",
       "2     3055 Paradise Lane  Salt Lake City   84103        Utah\n",
       "3  4860 Sunset Boulevard   San Francisco   94105  California\n",
       "4       5853 Leon Street           Tampa   33605     Florida"
      ]
     },
     "execution_count": 190,
     "metadata": {},
     "output_type": "execute_result"
    }
   ],
   "source": [
    "df3 = df1.merge(df2, on='City')\n",
    "df3"
   ]
  },
  {
   "cell_type": "markdown",
   "id": "8369d7fa",
   "metadata": {},
   "source": [
    "You're given a dataframe of students:\n",
    "\n",
    "<p>name\tage\tfavorite_color\tgrade\n",
    "<p>Tim Voss\t19\tred\t91\n",
    "<p>Nicole Johnson\t20\tyellow\t95\n",
    "<p>Elsa Williams\t21\tgreen\t82\n",
    "<p>John James\t20\tblue\t75\n",
    "<p>Catherine Jones\t23\tgreen\t93\n",
    "\n",
    "\n",
    "Write a function to select only the rows where the student's favorite color is green or red and their grade is above 90."
   ]
  },
  {
   "cell_type": "code",
   "execution_count": 192,
   "id": "4c488d74",
   "metadata": {},
   "outputs": [
    {
     "data": {
      "text/html": [
       "<div>\n",
       "<style scoped>\n",
       "    .dataframe tbody tr th:only-of-type {\n",
       "        vertical-align: middle;\n",
       "    }\n",
       "\n",
       "    .dataframe tbody tr th {\n",
       "        vertical-align: top;\n",
       "    }\n",
       "\n",
       "    .dataframe thead th {\n",
       "        text-align: right;\n",
       "    }\n",
       "</style>\n",
       "<table border=\"1\" class=\"dataframe\">\n",
       "  <thead>\n",
       "    <tr style=\"text-align: right;\">\n",
       "      <th></th>\n",
       "      <th>name</th>\n",
       "      <th>age</th>\n",
       "      <th>favorite_color</th>\n",
       "      <th>grade</th>\n",
       "    </tr>\n",
       "  </thead>\n",
       "  <tbody>\n",
       "    <tr>\n",
       "      <th>0</th>\n",
       "      <td>Tim Voss</td>\n",
       "      <td>19</td>\n",
       "      <td>red</td>\n",
       "      <td>91</td>\n",
       "    </tr>\n",
       "  </tbody>\n",
       "</table>\n",
       "</div>"
      ],
      "text/plain": [
       "       name  age favorite_color  grade\n",
       "0  Tim Voss   19            red     91"
      ]
     },
     "execution_count": 192,
     "metadata": {},
     "output_type": "execute_result"
    }
   ],
   "source": [
    "import pandas as pd\n",
    "students = {\"name\" : [\"Tim Voss\", \"Nicole Johnson\", \"Elsa Williams\", \"John James\", \"Catherine Jones\"], \"age\" : [19, 20, 21, 20, 23], \"favorite_color\" : [\"red\", \"yellow\", \"green\", \"blue\", \"green\"], \"grade\" : [91, 95, 82, 75, 93]}\n",
    "student_df = pd.DataFrame(students)\n",
    "student_df\n",
    "result = student_df[(student_df['favorite_color']=='red') & (student_df['grade']>90)]\n",
    "result"
   ]
  },
  {
   "cell_type": "markdown",
   "id": "23a0ec0f",
   "metadata": {},
   "source": [
    "You're given a dataframe containing a list of user IDs and their full names (e.g. 'James Emerson'). Transform this dataframe into a dataframe that contains the user ids and only the first name of each user."
   ]
  },
  {
   "cell_type": "code",
   "execution_count": 211,
   "id": "0a6df5c8",
   "metadata": {},
   "outputs": [
    {
     "data": {
      "text/html": [
       "<div>\n",
       "<style scoped>\n",
       "    .dataframe tbody tr th:only-of-type {\n",
       "        vertical-align: middle;\n",
       "    }\n",
       "\n",
       "    .dataframe tbody tr th {\n",
       "        vertical-align: top;\n",
       "    }\n",
       "\n",
       "    .dataframe thead th {\n",
       "        text-align: right;\n",
       "    }\n",
       "</style>\n",
       "<table border=\"1\" class=\"dataframe\">\n",
       "  <thead>\n",
       "    <tr style=\"text-align: right;\">\n",
       "      <th></th>\n",
       "      <th>user_id</th>\n",
       "      <th>full_name</th>\n",
       "    </tr>\n",
       "  </thead>\n",
       "  <tbody>\n",
       "    <tr>\n",
       "      <th>0</th>\n",
       "      <td>1034</td>\n",
       "      <td>James Emerson</td>\n",
       "    </tr>\n",
       "    <tr>\n",
       "      <th>1</th>\n",
       "      <td>9430</td>\n",
       "      <td>Fiona Woodward</td>\n",
       "    </tr>\n",
       "    <tr>\n",
       "      <th>2</th>\n",
       "      <td>7281</td>\n",
       "      <td>Alvin Gross</td>\n",
       "    </tr>\n",
       "    <tr>\n",
       "      <th>3</th>\n",
       "      <td>5264</td>\n",
       "      <td>Deborah Handler</td>\n",
       "    </tr>\n",
       "    <tr>\n",
       "      <th>4</th>\n",
       "      <td>8995</td>\n",
       "      <td>Leah Xue</td>\n",
       "    </tr>\n",
       "  </tbody>\n",
       "</table>\n",
       "</div>"
      ],
      "text/plain": [
       "   user_id        full_name\n",
       "0     1034    James Emerson\n",
       "1     9430   Fiona Woodward\n",
       "2     7281      Alvin Gross\n",
       "3     5264  Deborah Handler\n",
       "4     8995         Leah Xue"
      ]
     },
     "execution_count": 211,
     "metadata": {},
     "output_type": "execute_result"
    }
   ],
   "source": [
    "import pandas as pd\n",
    "\n",
    "users = {\"user_id\" : [1034, 9430, 7281, 5264, 8995], \"full_name\" : [\"James Emerson\", \"Fiona Woodward\", \"Alvin Gross\", \"Deborah Handler\", \"Leah Xue\"]}\n",
    "users_df = pd.DataFrame(users)\n",
    "users_df"
   ]
  },
  {
   "cell_type": "code",
   "execution_count": 212,
   "id": "4ca08fde",
   "metadata": {},
   "outputs": [
    {
     "data": {
      "text/html": [
       "<div>\n",
       "<style scoped>\n",
       "    .dataframe tbody tr th:only-of-type {\n",
       "        vertical-align: middle;\n",
       "    }\n",
       "\n",
       "    .dataframe tbody tr th {\n",
       "        vertical-align: top;\n",
       "    }\n",
       "\n",
       "    .dataframe thead th {\n",
       "        text-align: right;\n",
       "    }\n",
       "</style>\n",
       "<table border=\"1\" class=\"dataframe\">\n",
       "  <thead>\n",
       "    <tr style=\"text-align: right;\">\n",
       "      <th></th>\n",
       "      <th>user_id</th>\n",
       "      <th>full_name</th>\n",
       "      <th>firstname</th>\n",
       "      <th>lastname</th>\n",
       "    </tr>\n",
       "  </thead>\n",
       "  <tbody>\n",
       "    <tr>\n",
       "      <th>0</th>\n",
       "      <td>1034</td>\n",
       "      <td>James Emerson</td>\n",
       "      <td>James</td>\n",
       "      <td>Emerson</td>\n",
       "    </tr>\n",
       "    <tr>\n",
       "      <th>1</th>\n",
       "      <td>9430</td>\n",
       "      <td>Fiona Woodward</td>\n",
       "      <td>Fiona</td>\n",
       "      <td>Woodward</td>\n",
       "    </tr>\n",
       "    <tr>\n",
       "      <th>2</th>\n",
       "      <td>7281</td>\n",
       "      <td>Alvin Gross</td>\n",
       "      <td>Alvin</td>\n",
       "      <td>Gross</td>\n",
       "    </tr>\n",
       "    <tr>\n",
       "      <th>3</th>\n",
       "      <td>5264</td>\n",
       "      <td>Deborah Handler</td>\n",
       "      <td>Deborah</td>\n",
       "      <td>Handler</td>\n",
       "    </tr>\n",
       "    <tr>\n",
       "      <th>4</th>\n",
       "      <td>8995</td>\n",
       "      <td>Leah Xue</td>\n",
       "      <td>Leah</td>\n",
       "      <td>Xue</td>\n",
       "    </tr>\n",
       "  </tbody>\n",
       "</table>\n",
       "</div>"
      ],
      "text/plain": [
       "   user_id        full_name firstname  lastname\n",
       "0     1034    James Emerson     James   Emerson\n",
       "1     9430   Fiona Woodward     Fiona  Woodward\n",
       "2     7281      Alvin Gross     Alvin     Gross\n",
       "3     5264  Deborah Handler   Deborah   Handler\n",
       "4     8995         Leah Xue      Leah       Xue"
      ]
     },
     "execution_count": 212,
     "metadata": {},
     "output_type": "execute_result"
    }
   ],
   "source": [
    "users_df[['firstname','lastname']] = users_df['full_name'].str.split(' ',expand=True)\n",
    "#users_df.drop(columns = 'lastname',inplace=True)\n",
    "users_df"
   ]
  },
  {
   "cell_type": "code",
   "execution_count": 213,
   "id": "08437ddb",
   "metadata": {},
   "outputs": [
    {
     "data": {
      "text/html": [
       "<div>\n",
       "<style scoped>\n",
       "    .dataframe tbody tr th:only-of-type {\n",
       "        vertical-align: middle;\n",
       "    }\n",
       "\n",
       "    .dataframe tbody tr th {\n",
       "        vertical-align: top;\n",
       "    }\n",
       "\n",
       "    .dataframe thead th {\n",
       "        text-align: right;\n",
       "    }\n",
       "</style>\n",
       "<table border=\"1\" class=\"dataframe\">\n",
       "  <thead>\n",
       "    <tr style=\"text-align: right;\">\n",
       "      <th></th>\n",
       "      <th>user_id</th>\n",
       "      <th>firstname</th>\n",
       "    </tr>\n",
       "  </thead>\n",
       "  <tbody>\n",
       "    <tr>\n",
       "      <th>0</th>\n",
       "      <td>1034</td>\n",
       "      <td>James</td>\n",
       "    </tr>\n",
       "    <tr>\n",
       "      <th>1</th>\n",
       "      <td>9430</td>\n",
       "      <td>Fiona</td>\n",
       "    </tr>\n",
       "    <tr>\n",
       "      <th>2</th>\n",
       "      <td>7281</td>\n",
       "      <td>Alvin</td>\n",
       "    </tr>\n",
       "    <tr>\n",
       "      <th>3</th>\n",
       "      <td>5264</td>\n",
       "      <td>Deborah</td>\n",
       "    </tr>\n",
       "    <tr>\n",
       "      <th>4</th>\n",
       "      <td>8995</td>\n",
       "      <td>Leah</td>\n",
       "    </tr>\n",
       "  </tbody>\n",
       "</table>\n",
       "</div>"
      ],
      "text/plain": [
       "   user_id firstname\n",
       "0     1034     James\n",
       "1     9430     Fiona\n",
       "2     7281     Alvin\n",
       "3     5264   Deborah\n",
       "4     8995      Leah"
      ]
     },
     "execution_count": 213,
     "metadata": {},
     "output_type": "execute_result"
    }
   ],
   "source": [
    "users_df.drop(columns = ['full_name','lastname'],inplace=True)\n",
    "users_df"
   ]
  },
  {
   "cell_type": "markdown",
   "id": "f5bf6cc1",
   "metadata": {},
   "source": [
    "https://towardsdatascience.com/53-python-interview-questions-and-answers-91fa311eec3f"
   ]
  },
  {
   "cell_type": "markdown",
   "id": "26cc0d84",
   "metadata": {},
   "source": [
    "How is string interpolation performed?"
   ]
  },
  {
   "cell_type": "markdown",
   "id": "94f68f28",
   "metadata": {},
   "source": [
    "Without importing the Template class, there are 3 ways to interpolate strings."
   ]
  },
  {
   "cell_type": "code",
   "execution_count": 214,
   "id": "527b1802",
   "metadata": {},
   "outputs": [
    {
     "name": "stdout",
     "output_type": "stream",
     "text": [
      "Hello Chris\n",
      "Hey Chris Chris\n",
      "My name is Chris\n"
     ]
    }
   ],
   "source": [
    "name = 'Chris'\n",
    "# 1. f strings\n",
    "print(f'Hello {name}')\n",
    "# 2. % operator\n",
    "print('Hey %s %s' % (name, name))\n",
    "# 3. format\n",
    "print(\n",
    " \"My name is {}\".format((name))\n",
    ")"
   ]
  },
  {
   "cell_type": "markdown",
   "id": "4b8215ba",
   "metadata": {},
   "source": [
    "What is the difference between “is” and “==”?"
   ]
  },
  {
   "cell_type": "markdown",
   "id": "b75b8ed2",
   "metadata": {},
   "source": [
    "is checks identity and == checks equality.\n",
    "We’ll walk through an example"
   ]
  },
  {
   "cell_type": "code",
   "execution_count": 216,
   "id": "be626bee",
   "metadata": {},
   "outputs": [
    {
     "name": "stdout",
     "output_type": "stream",
     "text": [
      "True\n"
     ]
    }
   ],
   "source": [
    "a = [1,2,3]\n",
    "b = a\n",
    "c = [1,2,3]\n",
    "print(a==b)"
   ]
  },
  {
   "cell_type": "code",
   "execution_count": 217,
   "id": "333ccca8",
   "metadata": {},
   "outputs": [
    {
     "name": "stdout",
     "output_type": "stream",
     "text": [
      "True\n"
     ]
    }
   ],
   "source": [
    "print(a==c)"
   ]
  },
  {
   "cell_type": "code",
   "execution_count": 218,
   "id": "619ac336",
   "metadata": {},
   "outputs": [
    {
     "name": "stdout",
     "output_type": "stream",
     "text": [
      "True\n"
     ]
    }
   ],
   "source": [
    "print(a is b)"
   ]
  },
  {
   "cell_type": "code",
   "execution_count": 219,
   "id": "4a17fa2c",
   "metadata": {},
   "outputs": [
    {
     "name": "stdout",
     "output_type": "stream",
     "text": [
      "False\n"
     ]
    }
   ],
   "source": [
    "print(a is c)"
   ]
  },
  {
   "cell_type": "markdown",
   "id": "1c3284f3",
   "metadata": {},
   "source": [
    "We can verify this by printing their object id’s."
   ]
  },
  {
   "cell_type": "code",
   "execution_count": 220,
   "id": "1e73a4c7",
   "metadata": {},
   "outputs": [
    {
     "name": "stdout",
     "output_type": "stream",
     "text": [
      "2844911808840\n",
      "2844911808840\n",
      "2844911425992\n"
     ]
    }
   ],
   "source": [
    "print(id(a))\n",
    "print(id(b))\n",
    "print(id(c))"
   ]
  },
  {
   "cell_type": "markdown",
   "id": "0c3c9361",
   "metadata": {},
   "source": [
    "What is a decorator?\n",
    "\n",
    "A decorator allows adding functionality to an existing function by passing that existing function to a decorator, which executes the existing function as well as additional code.\n",
    "We’ll write a decorator that that logs when another function is called."
   ]
  },
  {
   "cell_type": "markdown",
   "id": "1cc655a7",
   "metadata": {},
   "source": [
    "refer DSML_Rev file on decorator"
   ]
  },
  {
   "cell_type": "markdown",
   "id": "cb4ab4ae",
   "metadata": {},
   "source": [
    "Define a class named car with 2 attributes, “color” and “speed”. Then create an instance and return speed."
   ]
  },
  {
   "cell_type": "code",
   "execution_count": 224,
   "id": "ea9a36d6",
   "metadata": {},
   "outputs": [
    {
     "data": {
      "text/plain": [
       "'black'"
      ]
     },
     "execution_count": 224,
     "metadata": {},
     "output_type": "execute_result"
    }
   ],
   "source": [
    "class car:\n",
    "    def __init__(self,color,speed):\n",
    "        self.color = color\n",
    "        self.speed = speed\n",
    "        \n",
    "honda = car('black',90)\n",
    "honda.color"
   ]
  },
  {
   "cell_type": "code",
   "execution_count": 225,
   "id": "b58ebc8a",
   "metadata": {},
   "outputs": [
    {
     "data": {
      "text/plain": [
       "90"
      ]
     },
     "execution_count": 225,
     "metadata": {},
     "output_type": "execute_result"
    }
   ],
   "source": [
    "honda.speed"
   ]
  },
  {
   "cell_type": "markdown",
   "id": "f8eec427",
   "metadata": {},
   "source": [
    "What is the difference between instance, static and class methods in python?"
   ]
  },
  {
   "cell_type": "markdown",
   "id": "a5e2365e",
   "metadata": {},
   "source": [
    "refer to python_rev3 in DSML_REV"
   ]
  },
  {
   "cell_type": "code",
   "execution_count": 226,
   "id": "8be52c1d",
   "metadata": {},
   "outputs": [],
   "source": [
    "class emp:\n",
    "    pass\n",
    "\n",
    "emp1 = emp()\n",
    "emp2 = emp()\n",
    "emp1.firstname = 'John'\n",
    "emp1.age = 25\n",
    "\n",
    "emp2.firstname = 'Doe'\n",
    "emp2.age = 32"
   ]
  },
  {
   "cell_type": "code",
   "execution_count": 227,
   "id": "3005c499",
   "metadata": {},
   "outputs": [
    {
     "name": "stdout",
     "output_type": "stream",
     "text": [
      "John\n",
      "32\n"
     ]
    }
   ],
   "source": [
    "print(emp1.firstname)\n",
    "print(emp2.age)"
   ]
  },
  {
   "cell_type": "code",
   "execution_count": 229,
   "id": "60acd9be",
   "metadata": {},
   "outputs": [],
   "source": [
    "class emp:\n",
    "    def __init__(self,first,last):\n",
    "        self.first = first\n",
    "        self.last = last\n",
    "        \n",
    "    def email(self):\n",
    "        return f'{self.first}.{self.last}@company.com'"
   ]
  },
  {
   "cell_type": "code",
   "execution_count": 231,
   "id": "405a0daa",
   "metadata": {},
   "outputs": [
    {
     "data": {
      "text/plain": [
       "'Ram.Dev@company.com'"
      ]
     },
     "execution_count": 231,
     "metadata": {},
     "output_type": "execute_result"
    }
   ],
   "source": [
    "emp3 = emp('Ram','Dev')\n",
    "emp3.email()"
   ]
  },
  {
   "cell_type": "code",
   "execution_count": 232,
   "id": "267fc5b6",
   "metadata": {},
   "outputs": [
    {
     "data": {
      "text/plain": [
       "'Li.Xu@company.com'"
      ]
     },
     "execution_count": 232,
     "metadata": {},
     "output_type": "execute_result"
    }
   ],
   "source": [
    "class emp:\n",
    "    def __init__(self,first,last):\n",
    "        self.first = first\n",
    "        self.last = last\n",
    "        self.email = first+'.'+last+'@company.com'     \n",
    "emp4 = emp('Li','Xu')  \n",
    "emp4.email"
   ]
  },
  {
   "cell_type": "code",
   "execution_count": 1,
   "id": "5458bfed",
   "metadata": {},
   "outputs": [
    {
     "data": {
      "text/plain": [
       "[1, 2, 3, 4]"
      ]
     },
     "execution_count": 1,
     "metadata": {},
     "output_type": "execute_result"
    }
   ],
   "source": [
    "a = [1,2,3]\n",
    "a.append(4)\n",
    "a"
   ]
  },
  {
   "cell_type": "code",
   "execution_count": 3,
   "id": "1e83a4ea",
   "metadata": {},
   "outputs": [
    {
     "data": {
      "text/plain": [
       "[1, 2, 3, 4, 5, 6]"
      ]
     },
     "execution_count": 3,
     "metadata": {},
     "output_type": "execute_result"
    }
   ],
   "source": [
    "a.extend([5,6])\n",
    "a"
   ]
  },
  {
   "cell_type": "markdown",
   "id": "657acec9",
   "metadata": {},
   "source": [
    "combine two lists into a list of tuples"
   ]
  },
  {
   "cell_type": "code",
   "execution_count": 4,
   "id": "3226ac82",
   "metadata": {},
   "outputs": [
    {
     "data": {
      "text/plain": [
       "[('a', 1), ('b', 2), ('c', 3)]"
      ]
     },
     "execution_count": 4,
     "metadata": {},
     "output_type": "execute_result"
    }
   ],
   "source": [
    "a = ['a','b','c']\n",
    "b = [1,2,3]\n",
    "\n",
    "[(i,j) for i,j in zip(a,b)]"
   ]
  },
  {
   "cell_type": "code",
   "execution_count": 6,
   "id": "63ccf06c",
   "metadata": {},
   "outputs": [
    {
     "data": {
      "text/plain": [
       "[('a', 1), ('b', 2), ('c', 3)]"
      ]
     },
     "execution_count": 6,
     "metadata": {},
     "output_type": "execute_result"
    }
   ],
   "source": [
    "list(zip(a,b))"
   ]
  },
  {
   "cell_type": "code",
   "execution_count": 7,
   "id": "d5ae015b",
   "metadata": {},
   "outputs": [
    {
     "data": {
      "text/plain": [
       "{'a': 1, 'b': 2, 'c': 3}"
      ]
     },
     "execution_count": 7,
     "metadata": {},
     "output_type": "execute_result"
    }
   ],
   "source": [
    "dict(zip(a,b))"
   ]
  },
  {
   "cell_type": "code",
   "execution_count": 8,
   "id": "f40e6b24",
   "metadata": {},
   "outputs": [
    {
     "data": {
      "text/plain": [
       "{('a', 1), ('b', 2), ('c', 3)}"
      ]
     },
     "execution_count": 8,
     "metadata": {},
     "output_type": "execute_result"
    }
   ],
   "source": [
    "set(zip(a,b))"
   ]
  },
  {
   "cell_type": "markdown",
   "id": "accfc3ed",
   "metadata": {},
   "source": [
    " How can you sort a dictionary by key, alphabetically?"
   ]
  },
  {
   "cell_type": "code",
   "execution_count": 9,
   "id": "f1f19b87",
   "metadata": {},
   "outputs": [
    {
     "data": {
      "text/plain": [
       "{1: 'Ayon', 2: 'Ayon', 3: 'Ayon', 4: 'Ayon', 5: 'Ayon', 6: 'Ayon'}"
      ]
     },
     "execution_count": 9,
     "metadata": {},
     "output_type": "execute_result"
    }
   ],
   "source": [
    "{}.fromkeys(range(1,7),'Ayon')"
   ]
  },
  {
   "cell_type": "code",
   "execution_count": 10,
   "id": "c9e49f70",
   "metadata": {},
   "outputs": [
    {
     "name": "stdout",
     "output_type": "stream",
     "text": [
      "[(100, 'milk'), (101, 'fruits'), (102, 'veg')]\n"
     ]
    },
    {
     "data": {
      "text/plain": [
       "{100: 'milk', 101: 'fruits', 102: 'veg'}"
      ]
     },
     "execution_count": 10,
     "metadata": {},
     "output_type": "execute_result"
    }
   ],
   "source": [
    "list1=['milk','fruits','veg']\n",
    "result = []\n",
    "for i in enumerate(list1,100):\n",
    "    result.append(i)\n",
    "print(result)    \n",
    "d = {}\n",
    "for i in range(len(result)):\n",
    "    d[result[i][0]]=result[i][1]\n",
    "d    "
   ]
  },
  {
   "cell_type": "code",
   "execution_count": 11,
   "id": "34a1a8dd",
   "metadata": {},
   "outputs": [
    {
     "data": {
      "text/plain": [
       "{'jon': 20, 'alia': 21, 'ayon': 40, 'koyel': None, 'rivan': 4}"
      ]
     },
     "execution_count": 11,
     "metadata": {},
     "output_type": "execute_result"
    }
   ],
   "source": [
    "std = {'jon':20, 'alia':21, 'ayon':40}\n",
    "\n",
    "std.setdefault('jon')\n",
    "std.setdefault('koyel')\n",
    "std\n",
    "std.setdefault('rivan',4)\n",
    "std"
   ]
  },
  {
   "cell_type": "code",
   "execution_count": 12,
   "id": "b1c21eaf",
   "metadata": {},
   "outputs": [
    {
     "name": "stdout",
     "output_type": "stream",
     "text": [
      "1\n",
      "---\n",
      "Python\n",
      "2\n",
      "---\n",
      "Android\n",
      "{1: 'Python', 2: 'Android'}\n",
      "Python\n",
      "{1: 'Javascript', 2: 'Android'}\n",
      "{1: 'Javascript'}\n"
     ]
    }
   ],
   "source": [
    "dict={1:\"Python\",2:\"Android\"}\n",
    "for i in dict:\n",
    "    print(i)\n",
    "    print('---')\n",
    "    print(dict[i])\n",
    "print(dict)\n",
    "print(dict[1])\n",
    "dict[1]=\"Javascript\"\n",
    "print(dict)\n",
    "del(dict[2])\n",
    "print(dict)"
   ]
  },
  {
   "cell_type": "code",
   "execution_count": 15,
   "id": "e58f647b",
   "metadata": {},
   "outputs": [
    {
     "data": {
      "text/plain": [
       "{'a': 2, 'b': 4, 'c': 6, 'd': 8}"
      ]
     },
     "execution_count": 15,
     "metadata": {},
     "output_type": "execute_result"
    }
   ],
   "source": [
    "#dictionary comprehnesion\n",
    "dict1 = {'a': 1, 'b': 2, 'c': 3, 'd': 4}\n",
    "result = {k:v*2 for (k,v) in dict1.items()}\n",
    "result"
   ]
  },
  {
   "cell_type": "code",
   "execution_count": 16,
   "id": "57c60864",
   "metadata": {},
   "outputs": [
    {
     "data": {
      "text/plain": [
       "{'a': 1, 'b': 4, 'c': 9, 'd': 16}"
      ]
     },
     "execution_count": 16,
     "metadata": {},
     "output_type": "execute_result"
    }
   ],
   "source": [
    "result = {k:v**2 for (k,v) in dict1.items()}\n",
    "result"
   ]
  },
  {
   "cell_type": "code",
   "execution_count": 19,
   "id": "e5ecf45b",
   "metadata": {},
   "outputs": [
    {
     "data": {
      "text/plain": [
       "{'b': 4, 'd': 8}"
      ]
     },
     "execution_count": 19,
     "metadata": {},
     "output_type": "execute_result"
    }
   ],
   "source": [
    "result = {k:v*2 for (k,v) in dict1.items() if v<12 if v%2 == 0}\n",
    "result"
   ]
  },
  {
   "cell_type": "code",
   "execution_count": 23,
   "id": "1bd85e97",
   "metadata": {},
   "outputs": [
    {
     "data": {
      "text/plain": [
       "{2: 56, 1: 2, 5: 12, 4: 24, 6: 18, 3: 323}"
      ]
     },
     "execution_count": 23,
     "metadata": {},
     "output_type": "execute_result"
    }
   ],
   "source": [
    "key_value ={}   \n",
    " \n",
    "# Initializing value\n",
    "key_value[2] = 56      \n",
    "key_value[1] = 2\n",
    "key_value[5] = 12\n",
    "key_value[4] = 24\n",
    "key_value[6] = 18     \n",
    "key_value[3] = 323\n",
    "\n",
    "key_value"
   ]
  },
  {
   "cell_type": "code",
   "execution_count": 27,
   "id": "9d6ff25b",
   "metadata": {},
   "outputs": [
    {
     "data": {
      "text/plain": [
       "[(1, 2), (2, 56), (3, 323), (4, 24), (5, 12), (6, 18)]"
      ]
     },
     "execution_count": 27,
     "metadata": {},
     "output_type": "execute_result"
    }
   ],
   "source": [
    "sorted(key_value.items())"
   ]
  },
  {
   "cell_type": "code",
   "execution_count": 29,
   "id": "463c33e3",
   "metadata": {},
   "outputs": [
    {
     "data": {
      "text/plain": [
       "{1: 2, 2: 56, 3: 323, 4: 24, 5: 12, 6: 18}"
      ]
     },
     "execution_count": 29,
     "metadata": {},
     "output_type": "execute_result"
    }
   ],
   "source": [
    "result = sorted(key_value.items())\n",
    "d = {}\n",
    "for i in range(len(result)):\n",
    "    d[result[i][0]] = result[i][1]\n",
    "d    "
   ]
  },
  {
   "cell_type": "markdown",
   "id": "69afa05c",
   "metadata": {},
   "source": [
    "How does a class inherit from another class in Python?"
   ]
  },
  {
   "cell_type": "code",
   "execution_count": 30,
   "id": "453da19a",
   "metadata": {},
   "outputs": [
    {
     "name": "stdout",
     "output_type": "stream",
     "text": [
      "vroom\n"
     ]
    }
   ],
   "source": [
    "class Car():\n",
    "    def drive(self):\n",
    "        print('vroom')\n",
    "class Audi(Car):\n",
    "    pass\n",
    "audi = Audi()\n",
    "audi.drive()"
   ]
  },
  {
   "cell_type": "markdown",
   "id": "2b726be2",
   "metadata": {},
   "source": [
    "How can you remove all whitespace from a string?"
   ]
  },
  {
   "cell_type": "code",
   "execution_count": 38,
   "id": "d52643b7",
   "metadata": {},
   "outputs": [
    {
     "name": "stdout",
     "output_type": "stream",
     "text": [
      "['A', 'string', 'with', 'white', 'space']\n",
      "A string with white space\n"
     ]
    }
   ],
   "source": [
    "s = 'A string with     white space'\n",
    "s = s.split(' ')\n",
    "s = [x for x in s if x!='']\n",
    "print(s)\n",
    "print(' '.join(s))"
   ]
  },
  {
   "cell_type": "code",
   "execution_count": 39,
   "id": "8d3585d2",
   "metadata": {},
   "outputs": [
    {
     "data": {
      "text/plain": [
       "'Astringwithwhitespace'"
      ]
     },
     "execution_count": 39,
     "metadata": {},
     "output_type": "execute_result"
    }
   ],
   "source": [
    "a = 'A string with     white space'\n",
    "a.replace(' ','')"
   ]
  },
  {
   "cell_type": "markdown",
   "id": "97bae7a0",
   "metadata": {},
   "source": [
    "Why would you use enumerate() when iterating on a sequence?"
   ]
  },
  {
   "cell_type": "markdown",
   "id": "a27bafe4",
   "metadata": {},
   "source": [
    "list1 = ['a','b','c']\n",
    "result = []\n",
    "for i in enumerate(list1,100):\n",
    "     result.append(i)\n",
    "result        "
   ]
  },
  {
   "cell_type": "markdown",
   "id": "32515a30",
   "metadata": {},
   "source": [
    "How do you upper and lowercase a string?"
   ]
  },
  {
   "cell_type": "code",
   "execution_count": 41,
   "id": "79148ea6",
   "metadata": {},
   "outputs": [
    {
     "data": {
      "text/plain": [
       "'POTATOCAKE'"
      ]
     },
     "execution_count": 41,
     "metadata": {},
     "output_type": "execute_result"
    }
   ],
   "source": [
    "small_word = 'potatocake'\n",
    "big_word = 'FISHCAKE'\n",
    "small_word.upper()"
   ]
  },
  {
   "cell_type": "code",
   "execution_count": 42,
   "id": "ddd9366d",
   "metadata": {},
   "outputs": [
    {
     "data": {
      "text/plain": [
       "'fishcake'"
      ]
     },
     "execution_count": 42,
     "metadata": {},
     "output_type": "execute_result"
    }
   ],
   "source": [
    "big_word.lower()"
   ]
  },
  {
   "cell_type": "markdown",
   "id": "50f81866",
   "metadata": {},
   "source": [
    "remove() remove the first matching value."
   ]
  },
  {
   "cell_type": "code",
   "execution_count": 43,
   "id": "ab4cbc7b",
   "metadata": {},
   "outputs": [
    {
     "data": {
      "text/plain": [
       "['a', 'c', 'd']"
      ]
     },
     "execution_count": 43,
     "metadata": {},
     "output_type": "execute_result"
    }
   ],
   "source": [
    "li = ['a','b','c','d']\n",
    "li.remove('b')\n",
    "li"
   ]
  },
  {
   "cell_type": "markdown",
   "id": "1f0904fb",
   "metadata": {},
   "source": [
    "del removes an element by index."
   ]
  },
  {
   "cell_type": "code",
   "execution_count": 44,
   "id": "3ce0cad0",
   "metadata": {},
   "outputs": [
    {
     "data": {
      "text/plain": [
       "['b', 'c', 'd']"
      ]
     },
     "execution_count": 44,
     "metadata": {},
     "output_type": "execute_result"
    }
   ],
   "source": [
    "li = ['a','b','c','d']\n",
    "del li[0]\n",
    "li\n",
    "#=> ['b', 'c', 'd']"
   ]
  },
  {
   "cell_type": "markdown",
   "id": "bf8a6893",
   "metadata": {},
   "source": [
    "pop() removes an element by index and returns that element."
   ]
  },
  {
   "cell_type": "code",
   "execution_count": 45,
   "id": "16f49f94",
   "metadata": {},
   "outputs": [
    {
     "data": {
      "text/plain": [
       "['a', 'b', 'd']"
      ]
     },
     "execution_count": 45,
     "metadata": {},
     "output_type": "execute_result"
    }
   ],
   "source": [
    "li = ['a','b','c','d']\n",
    "li.pop(2)\n",
    "#=> 'c'\n",
    "li\n",
    "#=> ['a', 'b', 'd']"
   ]
  },
  {
   "cell_type": "code",
   "execution_count": null,
   "id": "f3541351",
   "metadata": {},
   "outputs": [],
   "source": []
  }
 ],
 "metadata": {
  "kernelspec": {
   "display_name": "Python 3",
   "language": "python",
   "name": "python3"
  },
  "language_info": {
   "codemirror_mode": {
    "name": "ipython",
    "version": 3
   },
   "file_extension": ".py",
   "mimetype": "text/x-python",
   "name": "python",
   "nbconvert_exporter": "python",
   "pygments_lexer": "ipython3",
   "version": "3.7.6"
  }
 },
 "nbformat": 4,
 "nbformat_minor": 5
}
