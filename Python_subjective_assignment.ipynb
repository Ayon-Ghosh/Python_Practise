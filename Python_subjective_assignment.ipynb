{
 "cells": [
  {
   "cell_type": "markdown",
   "metadata": {},
   "source": [
    "# Python_Numpy_Pandas_Matplotlib_subjective_assignment"
   ]
  },
  {
   "cell_type": "markdown",
   "metadata": {},
   "source": [
    "Q1. Write a Python program to get the string from the given string where all the occurrence of its first char has been changed to '$,' except first char itself?   \n",
    "Sample String: 'prospect'\n",
    "Expected Result : 'pros$ect' "
   ]
  },
  {
   "cell_type": "code",
   "execution_count": 1,
   "metadata": {},
   "outputs": [
    {
     "data": {
      "text/plain": [
       "'pros$ect'"
      ]
     },
     "execution_count": 1,
     "metadata": {},
     "output_type": "execute_result"
    }
   ],
   "source": [
    "def replace_str(str_in):\n",
    "    str_first = str_in[0]\n",
    "    str_changed = str_in[1:].replace(str_in[0],'$')\n",
    "    str_out = str_first + str_changed\n",
    "    return str_out\n",
    "replace_str('prospect')"
   ]
  },
  {
   "cell_type": "markdown",
   "metadata": {},
   "source": [
    "Q2. Write a Python program to get the single string from the two given strings, and separated by the space and swap the first two characters of each string?          \n",
    "Sample String : 'abc', 'xyz'. \n",
    "Expected Result: 'xyc abz'  "
   ]
  },
  {
   "cell_type": "code",
   "execution_count": 1,
   "metadata": {},
   "outputs": [
    {
     "name": "stdout",
     "output_type": "stream",
     "text": [
      "abcq mnpd\n"
     ]
    }
   ],
   "source": [
    "str_in = 'abcd', 'mnpq'\n",
    "result = []\n",
    "i = 0\n",
    "j = 1\n",
    "for pos in str_in:\n",
    "    str_changed = str_in[i].replace(str_in[i][len(str_in[i])-1],str_in[j][len(str_in[j])-1])\n",
    "    i = i+1\n",
    "    j = j-1\n",
    "    result.append(str_changed)\n",
    "print(' '.join(result))"
   ]
  },
  {
   "cell_type": "code",
   "execution_count": 9,
   "metadata": {},
   "outputs": [
    {
     "name": "stdout",
     "output_type": "stream",
     "text": [
      "xyc abz\n"
     ]
    }
   ],
   "source": [
    "#str_in = 'abcd', 'mnpq'\n",
    "str_in = 'abc', 'xyz'\n",
    "result = []\n",
    "for i in range(len(str_in)):\n",
    "    if i == 0:\n",
    "        str_changed = str_in[i].replace(str_in[i][:2],str_in[i+1][:2])\n",
    "        result.append(str_changed)\n",
    "    else:   \n",
    "        str_changed = str_in[i].replace(str_in[i][:2],str_in[i-1][:2]) \n",
    "        result.append(str_changed)\n",
    "print(' '.join(result))        "
   ]
  },
  {
   "cell_type": "markdown",
   "metadata": {},
   "source": [
    "Q3. Write the Python program to add 'ing' at the end of the given string (length of the string should be at least 3). If given string already ends with 'ing,' then add 'ly' instead. If string length of the given string is less than 3, leave it unchanged?\n",
    "Sample string:    \n",
    "' abc ' Expected result: ' abcing '   \n",
    "' string ' Expected result:   ' stringly "
   ]
  },
  {
   "cell_type": "code",
   "execution_count": 4,
   "metadata": {},
   "outputs": [
    {
     "name": "stdout",
     "output_type": "stream",
     "text": [
      "enter a str:abc\n",
      "abcing\n"
     ]
    }
   ],
   "source": [
    "str_in = input('enter a str:')\n",
    "if len(str_in)<3:\n",
    "    print(str_in)\n",
    "elif str_in.endswith('ing'):\n",
    "    print(str_in + 'ly')\n",
    "else:\n",
    "    print(str_in+'ing')"
   ]
  },
  {
   "cell_type": "markdown",
   "metadata": {},
   "source": [
    "Q4.  Write the Python program to find the first appearance of the substring 'not' and 'poor' from the given string, if 'not' follows the 'poor', replace the whole 'not'...' poor' substring with 'good'.Return the resulting string.  \n",
    " \n",
    "Sample string: 'The lyrics are not that poor!' \n",
    "'The lyrics are poor!' \n",
    "Expected Result: 'The lyrics are good!' \n",
    "'The lyrics are poor!' "
   ]
  },
  {
   "cell_type": "code",
   "execution_count": 1,
   "metadata": {},
   "outputs": [
    {
     "name": "stdout",
     "output_type": "stream",
     "text": [
      "enter a str:our freinds are not that poor\n",
      "our freinds are good\n"
     ]
    }
   ],
   "source": [
    "str_in = input('enter a str:')\n",
    "x = str_in.find('not')\n",
    "y = str_in.find('poor')\n",
    "if (x>0) & (y>0) & (x<y):\n",
    "    print(str_in[:x] + 'good')    \n",
    "else:\n",
    "    print(str_in)      "
   ]
  },
  {
   "cell_type": "markdown",
   "metadata": {},
   "source": [
    "Q5. Write the Python program to remove the characters which have odd index values of a given string. "
   ]
  },
  {
   "cell_type": "code",
   "execution_count": 3,
   "metadata": {},
   "outputs": [
    {
     "name": "stdout",
     "output_type": "stream",
     "text": [
      "enter a str:abcdef\n",
      "ace\n"
     ]
    }
   ],
   "source": [
    "str_in = input('enter a str:')\n",
    "result = []\n",
    "for i in range(len(str_in)):\n",
    "    if i%2==0:\n",
    "        result.append(str_in[i])\n",
    "print(''.join(result))        "
   ]
  },
  {
   "cell_type": "markdown",
   "metadata": {},
   "source": [
    "Q6. Write the Python function to get a string made of 4 copies of the last two characters of the specified string (length must be at least 2). "
   ]
  },
  {
   "cell_type": "code",
   "execution_count": 10,
   "metadata": {},
   "outputs": [
    {
     "name": "stdout",
     "output_type": "stream",
     "text": [
      "enter a str:abba\n",
      "babababa\n"
     ]
    }
   ],
   "source": [
    "str_in = input('enter a str:')\n",
    "print(str_in[-2:]*4)"
   ]
  },
  {
   "cell_type": "markdown",
   "metadata": {},
   "source": [
    "Q7. Write the python function to get a string made of its first three characters of a specified string. If the length of the string is less than 3 then return the original string. \n",
    " \n",
    "Sample function and result : first-three('ipy') -> ipy first-three('python') -> pyt \n",
    " "
   ]
  },
  {
   "cell_type": "code",
   "execution_count": 13,
   "metadata": {},
   "outputs": [
    {
     "name": "stdout",
     "output_type": "stream",
     "text": [
      "enter a str:py\n",
      "py\n"
     ]
    }
   ],
   "source": [
    "str_in = input('enter a str:')\n",
    "if len(str_in)>=3:\n",
    "    print(str_in[:3])\n",
    "else:\n",
    "    print(str_in)"
   ]
  },
  {
   "cell_type": "markdown",
   "metadata": {},
   "source": [
    "Q8. Write the python program to print the following floating numbers up  to 2 decimal places"
   ]
  },
  {
   "cell_type": "code",
   "execution_count": 18,
   "metadata": {},
   "outputs": [
    {
     "name": "stdout",
     "output_type": "stream",
     "text": [
      "3.57\n"
     ]
    }
   ],
   "source": [
    "import random\n",
    "print (float(\"{0:.2f}\".format(random.uniform(3, 5))))"
   ]
  },
  {
   "cell_type": "markdown",
   "metadata": {},
   "source": [
    "Q9. Write the Python program to format a number with a percentage? "
   ]
  },
  {
   "cell_type": "code",
   "execution_count": 22,
   "metadata": {},
   "outputs": [
    {
     "name": "stdout",
     "output_type": "stream",
     "text": [
      "enter a percentage:63%\n",
      "0.63\n"
     ]
    }
   ],
   "source": [
    "per = input('enter a percentage:')\n",
    "print(int(per[:-1])/100)"
   ]
  },
  {
   "cell_type": "markdown",
   "metadata": {},
   "source": [
    "Q10. Write the Python program to count occurrences of a substring in a   String? "
   ]
  },
  {
   "cell_type": "code",
   "execution_count": 27,
   "metadata": {},
   "outputs": [
    {
     "name": "stdout",
     "output_type": "stream",
     "text": [
      "enter a str:i love cats pet:cows i love cats pet:cats\n",
      "enter a sub_str:pet\n"
     ]
    },
    {
     "data": {
      "text/plain": [
       "2"
      ]
     },
     "execution_count": 27,
     "metadata": {},
     "output_type": "execute_result"
    }
   ],
   "source": [
    "import re\n",
    "str_in = input('enter a str:')\n",
    "sub_str = input('enter a sub_str:')\n",
    "e = re.findall(r\"{}:\\w\\w\\w\".format(sub_str),str_in)\n",
    "len(e)\n"
   ]
  },
  {
   "cell_type": "code",
   "execution_count": null,
   "metadata": {},
   "outputs": [],
   "source": [
    "i love cats pet:cows i love cats pet:cats\n",
    "pet"
   ]
  },
  {
   "cell_type": "code",
   "execution_count": 10,
   "metadata": {},
   "outputs": [
    {
     "name": "stdout",
     "output_type": "stream",
     "text": [
      "enter a str:i love cats pet:cows i love cats pet:cats\n",
      "enter a sub_str:pet\n"
     ]
    },
    {
     "data": {
      "text/plain": [
       "2"
      ]
     },
     "execution_count": 10,
     "metadata": {},
     "output_type": "execute_result"
    }
   ],
   "source": [
    "import re\n",
    "str_in = input('enter a str:')\n",
    "sub_str = input('enter a sub_str:')\n",
    "str_in.count(sub_str)"
   ]
  },
  {
   "cell_type": "markdown",
   "metadata": {},
   "source": [
    "Q11. Write the Python program to count repeated characters in a string. "
   ]
  },
  {
   "cell_type": "code",
   "execution_count": 30,
   "metadata": {},
   "outputs": [
    {
     "name": "stdout",
     "output_type": "stream",
     "text": [
      "enter a str:ababababacdtyyyy\n",
      "{'a': 5, 'b': 4, 'c': 1, 'd': 1, 't': 1, 'y': 4}\n"
     ]
    }
   ],
   "source": [
    "str_in = input('enter a str:')\n",
    "unique_str = []\n",
    "count_str = []\n",
    "for i in str_in:\n",
    "    if i not in unique_str:\n",
    "        unique_str.append(i)\n",
    "        count_str.append(str_in.count(i))  \n",
    "print(dict(zip(unique_str,count_str)))        "
   ]
  },
  {
   "cell_type": "markdown",
   "metadata": {},
   "source": [
    "Q12. Write the Python program to print the square and cube symbol in the area of a rectangle and volume of a cylinder? "
   ]
  },
  {
   "cell_type": "code",
   "execution_count": 31,
   "metadata": {},
   "outputs": [
    {
     "name": "stdout",
     "output_type": "stream",
     "text": [
      "The area of the rectangle is 1256.66cm²\n",
      "The volume of the cylinder is 1254.725cm³\n"
     ]
    }
   ],
   "source": [
    "area = 1256.66\n",
    "volume = 1254.725\n",
    "decimals = 2\n",
    "print(\"The area of the rectangle is {0:.{1}f}cm\\u00b2\".format(area, decimals))\n",
    "decimals = 3\n",
    "print(\"The volume of the cylinder is {0:.{1}f}cm\\u00b3\".format(volume, decimals))"
   ]
  },
  {
   "cell_type": "markdown",
   "metadata": {},
   "source": [
    "Q13. Write the Python program to check if a string contains all letters of  the alphabet"
   ]
  },
  {
   "cell_type": "code",
   "execution_count": 33,
   "metadata": {},
   "outputs": [
    {
     "name": "stdout",
     "output_type": "stream",
     "text": [
      "enter a str:gqdvwdv12cc\n",
      "you entered number in string\n"
     ]
    }
   ],
   "source": [
    "str_in = input('enter a str:')\n",
    "count = 0 \n",
    "for i in str_in:\n",
    "    if i.isalpha():\n",
    "          continue\n",
    "    else:\n",
    "        count = count + 1\n",
    "if count>1:\n",
    "    print('you entered number in string')\n",
    "else:\n",
    "    print('you are good')"
   ]
  },
  {
   "cell_type": "markdown",
   "metadata": {},
   "source": [
    "Q14.  Write the Python program to find the second most repeated word in a given string? "
   ]
  },
  {
   "cell_type": "code",
   "execution_count": 11,
   "metadata": {},
   "outputs": [
    {
     "name": "stdout",
     "output_type": "stream",
     "text": [
      "enter a str:qwdhqwdjdkdlhewedhwdhwdhwidhwdihwdiwhdwdgyfd\n",
      "[('j', 1), ('k', 1), ('l', 1), ('g', 1), ('y', 1), ('f', 1), ('q', 2), ('e', 2), ('i', 3), ('h', 8), ('w', 10), ('d', 13)]\n",
      "[('w', 10)]\n"
     ]
    }
   ],
   "source": [
    "def second_freq_letter_in_string():\n",
    "    str_in = input('enter a str:')\n",
    "    unique_str = []\n",
    "    count_str = []\n",
    "    for i in str_in:\n",
    "         if i not in unique_str:\n",
    "                     unique_str.append(i)\n",
    "                     count_str.append(str_in.count(i))  \n",
    "    my_dic = dict(zip(unique_str,count_str))\n",
    "    sorted_dic=sorted(my_dic.items(), key = lambda x:x[1])\n",
    "    print(sorted_dic)\n",
    "    second_freq_count = sorted_dic[len(sorted_dic)-2][1]\n",
    "    result = [sorted_dic[i] for i in range(len(sorted_dic)) if sorted_dic[i][1]==second_freq_count]\n",
    "    print(result)\n",
    "second_freq_letter_in_string()    "
   ]
  },
  {
   "cell_type": "code",
   "execution_count": null,
   "metadata": {},
   "outputs": [],
   "source": [
    "def second_freq_word_in_sentence():\n",
    "    str_in = input('enter a sentence:').split()\n",
    "    unique_str = []\n",
    "    count_str = []\n",
    "    for i in str_in:\n",
    "         if i not in unique_str:\n",
    "                     unique_str.append(i)\n",
    "                     count_str.append(str_in.count(i))  \n",
    "    my_dic = dict(zip(unique_str,count_str))\n",
    "    sorted_dic=sorted(my_dic.items(), key = lambda x:x[1])\n",
    "    second_freq_count = sorted_dic[len(sorted_dic)-2][1]\n",
    "    result = [sorted_dic[i] for i in range(len(sorted_dic)) if sorted_dic[i][1]==second_freq_count]\n",
    "    print(result)\n",
    "second_freq_word_in_sentence() "
   ]
  },
  {
   "cell_type": "code",
   "execution_count": 4,
   "metadata": {},
   "outputs": [
    {
     "name": "stdout",
     "output_type": "stream",
     "text": [
      "enter a str:geeks\n"
     ]
    },
    {
     "data": {
      "text/plain": [
       "['g', 'e', 'e', 'k', 's']"
      ]
     },
     "execution_count": 4,
     "metadata": {},
     "output_type": "execute_result"
    }
   ],
   "source": [
    "str_in = input('enter a str:')\n",
    "my_list = list(str_in)\n",
    "my_list"
   ]
  },
  {
   "cell_type": "markdown",
   "metadata": {},
   "source": [
    "\n",
    "\n",
    "Q15. Write the Python program to find the minimum window in the given string, which will contains all the characters of another given strings? "
   ]
  },
  {
   "cell_type": "code",
   "execution_count": 12,
   "metadata": {},
   "outputs": [
    {
     "name": "stdout",
     "output_type": "stream",
     "text": [
      "enter a str:geeksforgeeks\n",
      "enter the desired_char:gsk\n"
     ]
    },
    {
     "ename": "IndexError",
     "evalue": "list index out of range",
     "output_type": "error",
     "traceback": [
      "\u001b[1;31m---------------------------------------------------------------------------\u001b[0m",
      "\u001b[1;31mIndexError\u001b[0m                                Traceback (most recent call last)",
      "\u001b[1;32m<ipython-input-12-7b6115a55260>\u001b[0m in \u001b[0;36m<module>\u001b[1;34m\u001b[0m\n\u001b[0;32m     16\u001b[0m     \u001b[1;32mfor\u001b[0m \u001b[0mj\u001b[0m \u001b[1;32min\u001b[0m \u001b[0mrange\u001b[0m\u001b[1;33m(\u001b[0m\u001b[0mlen\u001b[0m\u001b[1;33m(\u001b[0m\u001b[0my\u001b[0m\u001b[1;33m)\u001b[0m\u001b[1;33m,\u001b[0m\u001b[1;36m0\u001b[0m\u001b[1;33m,\u001b[0m\u001b[1;33m-\u001b[0m\u001b[1;36m1\u001b[0m\u001b[1;33m)\u001b[0m\u001b[1;33m:\u001b[0m\u001b[1;33m\u001b[0m\u001b[1;33m\u001b[0m\u001b[0m\n\u001b[0;32m     17\u001b[0m \u001b[1;33m\u001b[0m\u001b[0m\n\u001b[1;32m---> 18\u001b[1;33m                  \u001b[0mtemp_delta\u001b[0m\u001b[1;33m=\u001b[0m\u001b[0my\u001b[0m\u001b[1;33m[\u001b[0m\u001b[0mi\u001b[0m\u001b[1;33m]\u001b[0m\u001b[1;33m[\u001b[0m\u001b[0mj\u001b[0m\u001b[1;33m]\u001b[0m \u001b[1;33m-\u001b[0m\u001b[0my\u001b[0m\u001b[1;33m[\u001b[0m\u001b[0mi\u001b[0m\u001b[1;33m]\u001b[0m\u001b[1;33m[\u001b[0m\u001b[0mj\u001b[0m\u001b[1;33m-\u001b[0m\u001b[1;36m1\u001b[0m\u001b[1;33m]\u001b[0m\u001b[1;33m\u001b[0m\u001b[1;33m\u001b[0m\u001b[0m\n\u001b[0m\u001b[0;32m     19\u001b[0m     \u001b[0mdelta\u001b[0m \u001b[1;33m=\u001b[0m \u001b[0mdelta\u001b[0m \u001b[1;33m+\u001b[0m \u001b[0mtemp_delta\u001b[0m\u001b[1;33m\u001b[0m\u001b[1;33m\u001b[0m\u001b[0m\n",
      "\u001b[1;31mIndexError\u001b[0m: list index out of range"
     ]
    }
   ],
   "source": [
    "def indices(my_list,char_desired):\n",
    "    return [index for index, i in enumerate(my_list) if i == char_desired]\n",
    "str_in = input('enter a str:')\n",
    "my_list = list(str_in)\n",
    "desired_chars = input('enter the desired_char:')\n",
    "desired_chars_list = list(desired_chars)\n",
    "y = []\n",
    "for char_desired in desired_chars_list:\n",
    "        count_index = str_in.count(char_desired)\n",
    "        for j in range(count_index):\n",
    "                l = indices(my_list,char_desired)\n",
    "        y.append(l)\n",
    "y        \n",
    "delta = 0\n",
    "for i in range(2):\n",
    "    for j in range(len(y),0,-1):\n",
    "        \n",
    "                 temp_delta=y[i][j] -y[i][j-1]\n",
    "    delta = delta + temp_delta        "
   ]
  },
  {
   "cell_type": "markdown",
   "metadata": {},
   "source": [
    "Q16. Write the Python program to find smallest window that contains all characters of the given string? "
   ]
  },
  {
   "cell_type": "code",
   "execution_count": null,
   "metadata": {},
   "outputs": [],
   "source": []
  },
  {
   "cell_type": "markdown",
   "metadata": {},
   "source": [
    "Q17.  Write the Python program to count number of substrings from a   given string of lowercase alphabets with exactly k distinct (given) characters?   "
   ]
  },
  {
   "cell_type": "code",
   "execution_count": 10,
   "metadata": {},
   "outputs": [
    {
     "name": "stdout",
     "output_type": "stream",
     "text": [
      "enter the string:asddggh\n",
      "enter the number of chars of a substring:3\n",
      "['asd', 'asd', 'asg', 'asg', 'ash', 'add', 'adg', 'adg', 'adh', 'adg', 'adg', 'adh', 'agg', 'agh', 'agh', 'sdd', 'sdg', 'sdg', 'sdh', 'sdg', 'sdg', 'sdh', 'sgg', 'sgh', 'sgh', 'ddg', 'ddg', 'ddh', 'dgg', 'dgh', 'dgh', 'dgg', 'dgh', 'dgh', 'ggh']\n"
     ]
    }
   ],
   "source": [
    "from itertools import combinations as com    \n",
    "str_in = input('enter the string:') \n",
    "num = int(input('enter the number of chars of a substring:'))\n",
    "count=0\n",
    "for i in str_in:\n",
    "    if i.isupper():\n",
    "        print('your string contains uppercase.')\n",
    "        break\n",
    "        \n",
    "    else:\n",
    "        count=count+1\n",
    "        continue\n",
    "if len(str_in) == count:\n",
    "    x = com(str_in,num)\n",
    "    print([''.join(j) for j in x])"
   ]
  },
  {
   "cell_type": "markdown",
   "metadata": {},
   "source": [
    "Q18. Write the Python program to count number of non-empty substrings of the given string?   "
   ]
  },
  {
   "cell_type": "code",
   "execution_count": 29,
   "metadata": {},
   "outputs": [
    {
     "name": "stdout",
     "output_type": "stream",
     "text": [
      "enter the string:wdhwdhwbd\n",
      "510\n"
     ]
    }
   ],
   "source": [
    "from itertools import combinations as com    \n",
    "str_in = input('enter the string:')\n",
    "count=0\n",
    "for i in range(1,len(str_in)):\n",
    "        x = com(str_in,i)\n",
    "        count=len(list(x))+count\n",
    "print(count)"
   ]
  },
  {
   "cell_type": "markdown",
   "metadata": {},
   "source": [
    "Q19. Write the Python program to count number of substrings with same   first and last characters of the given string? "
   ]
  },
  {
   "cell_type": "code",
   "execution_count": 13,
   "metadata": {},
   "outputs": [
    {
     "name": "stdout",
     "output_type": "stream",
     "text": [
      "enter the string:sgvhvqhs\n",
      "11\n"
     ]
    }
   ],
   "source": [
    "def count_substrings_equalEnds(str_in): \n",
    "    count = 0; \n",
    "    for i in range(len(str_in)): \n",
    "        for j in range(i, len(str_in)): \n",
    "            if (str_in[i] == str_in[j]): \n",
    "                count = count + 1\n",
    "    return count \n",
    "str_in = input('enter the string:')\n",
    "print(count_substrings_equalEnds(str_in))"
   ]
  },
  {
   "cell_type": "markdown",
   "metadata": {},
   "source": [
    "Q20. Write the Python program to count the number of strings where the   string length is 2 or more, and  first and last character are same from a given list of strings. "
   ]
  },
  {
   "cell_type": "code",
   "execution_count": 37,
   "metadata": {},
   "outputs": [
    {
     "name": "stdout",
     "output_type": "stream",
     "text": [
      "enter the list of string:koyel, ayon, rivan, max, abu, laureen, dumpi, shamik\n",
      "0\n"
     ]
    }
   ],
   "source": [
    "str_in = input('enter the list of string:').split(',')\n",
    "str_list = list(str_in)\n",
    "count=0\n",
    "for i in str_list:\n",
    "    if (len(i)>=2) and i[0]==i[-1]:\n",
    "        count=count+1\n",
    "print(count)        "
   ]
  },
  {
   "cell_type": "markdown",
   "metadata": {},
   "source": [
    "Q21. Write the Python program to get a list, sorted in increasing order by the last element in each tuple from the given list of non-empty  tuples?   "
   ]
  },
  {
   "cell_type": "code",
   "execution_count": 37,
   "metadata": {},
   "outputs": [
    {
     "data": {
      "text/plain": [
       "[(1, 'a'), (2, 'r'), (4, 's'), (3, 'z')]"
      ]
     },
     "execution_count": 37,
     "metadata": {},
     "output_type": "execute_result"
    }
   ],
   "source": [
    "my_list = [(1,'a'),(4,'s'),(3,'z'),(2,'r')]\n",
    "sorted(my_list,key=lambda x:x[1])"
   ]
  },
  {
   "cell_type": "markdown",
   "metadata": {},
   "source": [
    "Q22. Write the Python program to remove duplicates from a list? "
   ]
  },
  {
   "cell_type": "code",
   "execution_count": 38,
   "metadata": {},
   "outputs": [
    {
     "name": "stdout",
     "output_type": "stream",
     "text": [
      "{1, 2, 3, 4, 5, 6, 7, 8, 11, 12}\n"
     ]
    }
   ],
   "source": [
    "my_list = [1,11,2,3,3,4,6,7,5,8,11,12]\n",
    "print(set(my_list))"
   ]
  },
  {
   "cell_type": "markdown",
   "metadata": {},
   "source": [
    "Q23. Write the Python program to find the list of words that are longer than n from a given list of words? "
   ]
  },
  {
   "cell_type": "code",
   "execution_count": 6,
   "metadata": {},
   "outputs": [
    {
     "name": "stdout",
     "output_type": "stream",
     "text": [
      "enter a sentence:NYC Queens Bronz ATL MIA FLL\n",
      "enter the wordcount:3\n"
     ]
    },
    {
     "data": {
      "text/plain": [
       "['Queens', 'Bronz']"
      ]
     },
     "execution_count": 6,
     "metadata": {},
     "output_type": "execute_result"
    }
   ],
   "source": [
    "sentence = input('enter a sentence:').split(' ')\n",
    "count = int(input('enter the wordcount:'))\n",
    "words = list(sentence)\n",
    "sel_list = []\n",
    "for word in words:\n",
    "    if len(word)>count:\n",
    "          sel_list.append(word)\n",
    "sel_list   "
   ]
  },
  {
   "cell_type": "markdown",
   "metadata": {},
   "source": [
    "Q24. Write the Python program to print a specified list after removing the  0th, 4th, and 5th elements? "
   ]
  },
  {
   "cell_type": "code",
   "execution_count": 14,
   "metadata": {},
   "outputs": [
    {
     "name": "stdout",
     "output_type": "stream",
     "text": [
      "[2, 3, 4, 7, 8, 10]\n"
     ]
    }
   ],
   "source": [
    "my_list = [1,2,3,4,'aba',6,7,8,10]\n",
    "print([x for (i,x) in enumerate(my_list) if i not in (0,4,5)])"
   ]
  },
  {
   "cell_type": "markdown",
   "metadata": {},
   "source": [
    "Q25. Write the Python program to generate all permutations of a list in   Python?  "
   ]
  },
  {
   "cell_type": "code",
   "execution_count": 12,
   "metadata": {},
   "outputs": [
    {
     "name": "stdout",
     "output_type": "stream",
     "text": [
      "[(1,), (2,), (3,), (4,), ('aba',), (6,), (7,), (8,), (10,)]\n",
      "[(1, 2), (1, 3), (1, 4), (1, 'aba'), (1, 6), (1, 7), (1, 8), (1, 10), (2, 3), (2, 4), (2, 'aba'), (2, 6), (2, 7), (2, 8), (2, 10), (3, 4), (3, 'aba'), (3, 6), (3, 7), (3, 8), (3, 10), (4, 'aba'), (4, 6), (4, 7), (4, 8), (4, 10), ('aba', 6), ('aba', 7), ('aba', 8), ('aba', 10), (6, 7), (6, 8), (6, 10), (7, 8), (7, 10), (8, 10)]\n",
      "[(1, 2, 3), (1, 2, 4), (1, 2, 'aba'), (1, 2, 6), (1, 2, 7), (1, 2, 8), (1, 2, 10), (1, 3, 4), (1, 3, 'aba'), (1, 3, 6), (1, 3, 7), (1, 3, 8), (1, 3, 10), (1, 4, 'aba'), (1, 4, 6), (1, 4, 7), (1, 4, 8), (1, 4, 10), (1, 'aba', 6), (1, 'aba', 7), (1, 'aba', 8), (1, 'aba', 10), (1, 6, 7), (1, 6, 8), (1, 6, 10), (1, 7, 8), (1, 7, 10), (1, 8, 10), (2, 3, 4), (2, 3, 'aba'), (2, 3, 6), (2, 3, 7), (2, 3, 8), (2, 3, 10), (2, 4, 'aba'), (2, 4, 6), (2, 4, 7), (2, 4, 8), (2, 4, 10), (2, 'aba', 6), (2, 'aba', 7), (2, 'aba', 8), (2, 'aba', 10), (2, 6, 7), (2, 6, 8), (2, 6, 10), (2, 7, 8), (2, 7, 10), (2, 8, 10), (3, 4, 'aba'), (3, 4, 6), (3, 4, 7), (3, 4, 8), (3, 4, 10), (3, 'aba', 6), (3, 'aba', 7), (3, 'aba', 8), (3, 'aba', 10), (3, 6, 7), (3, 6, 8), (3, 6, 10), (3, 7, 8), (3, 7, 10), (3, 8, 10), (4, 'aba', 6), (4, 'aba', 7), (4, 'aba', 8), (4, 'aba', 10), (4, 6, 7), (4, 6, 8), (4, 6, 10), (4, 7, 8), (4, 7, 10), (4, 8, 10), ('aba', 6, 7), ('aba', 6, 8), ('aba', 6, 10), ('aba', 7, 8), ('aba', 7, 10), ('aba', 8, 10), (6, 7, 8), (6, 7, 10), (6, 8, 10), (7, 8, 10)]\n",
      "[(1, 2, 3, 4), (1, 2, 3, 'aba'), (1, 2, 3, 6), (1, 2, 3, 7), (1, 2, 3, 8), (1, 2, 3, 10), (1, 2, 4, 'aba'), (1, 2, 4, 6), (1, 2, 4, 7), (1, 2, 4, 8), (1, 2, 4, 10), (1, 2, 'aba', 6), (1, 2, 'aba', 7), (1, 2, 'aba', 8), (1, 2, 'aba', 10), (1, 2, 6, 7), (1, 2, 6, 8), (1, 2, 6, 10), (1, 2, 7, 8), (1, 2, 7, 10), (1, 2, 8, 10), (1, 3, 4, 'aba'), (1, 3, 4, 6), (1, 3, 4, 7), (1, 3, 4, 8), (1, 3, 4, 10), (1, 3, 'aba', 6), (1, 3, 'aba', 7), (1, 3, 'aba', 8), (1, 3, 'aba', 10), (1, 3, 6, 7), (1, 3, 6, 8), (1, 3, 6, 10), (1, 3, 7, 8), (1, 3, 7, 10), (1, 3, 8, 10), (1, 4, 'aba', 6), (1, 4, 'aba', 7), (1, 4, 'aba', 8), (1, 4, 'aba', 10), (1, 4, 6, 7), (1, 4, 6, 8), (1, 4, 6, 10), (1, 4, 7, 8), (1, 4, 7, 10), (1, 4, 8, 10), (1, 'aba', 6, 7), (1, 'aba', 6, 8), (1, 'aba', 6, 10), (1, 'aba', 7, 8), (1, 'aba', 7, 10), (1, 'aba', 8, 10), (1, 6, 7, 8), (1, 6, 7, 10), (1, 6, 8, 10), (1, 7, 8, 10), (2, 3, 4, 'aba'), (2, 3, 4, 6), (2, 3, 4, 7), (2, 3, 4, 8), (2, 3, 4, 10), (2, 3, 'aba', 6), (2, 3, 'aba', 7), (2, 3, 'aba', 8), (2, 3, 'aba', 10), (2, 3, 6, 7), (2, 3, 6, 8), (2, 3, 6, 10), (2, 3, 7, 8), (2, 3, 7, 10), (2, 3, 8, 10), (2, 4, 'aba', 6), (2, 4, 'aba', 7), (2, 4, 'aba', 8), (2, 4, 'aba', 10), (2, 4, 6, 7), (2, 4, 6, 8), (2, 4, 6, 10), (2, 4, 7, 8), (2, 4, 7, 10), (2, 4, 8, 10), (2, 'aba', 6, 7), (2, 'aba', 6, 8), (2, 'aba', 6, 10), (2, 'aba', 7, 8), (2, 'aba', 7, 10), (2, 'aba', 8, 10), (2, 6, 7, 8), (2, 6, 7, 10), (2, 6, 8, 10), (2, 7, 8, 10), (3, 4, 'aba', 6), (3, 4, 'aba', 7), (3, 4, 'aba', 8), (3, 4, 'aba', 10), (3, 4, 6, 7), (3, 4, 6, 8), (3, 4, 6, 10), (3, 4, 7, 8), (3, 4, 7, 10), (3, 4, 8, 10), (3, 'aba', 6, 7), (3, 'aba', 6, 8), (3, 'aba', 6, 10), (3, 'aba', 7, 8), (3, 'aba', 7, 10), (3, 'aba', 8, 10), (3, 6, 7, 8), (3, 6, 7, 10), (3, 6, 8, 10), (3, 7, 8, 10), (4, 'aba', 6, 7), (4, 'aba', 6, 8), (4, 'aba', 6, 10), (4, 'aba', 7, 8), (4, 'aba', 7, 10), (4, 'aba', 8, 10), (4, 6, 7, 8), (4, 6, 7, 10), (4, 6, 8, 10), (4, 7, 8, 10), ('aba', 6, 7, 8), ('aba', 6, 7, 10), ('aba', 6, 8, 10), ('aba', 7, 8, 10), (6, 7, 8, 10)]\n",
      "[(1, 2, 3, 4, 'aba'), (1, 2, 3, 4, 6), (1, 2, 3, 4, 7), (1, 2, 3, 4, 8), (1, 2, 3, 4, 10), (1, 2, 3, 'aba', 6), (1, 2, 3, 'aba', 7), (1, 2, 3, 'aba', 8), (1, 2, 3, 'aba', 10), (1, 2, 3, 6, 7), (1, 2, 3, 6, 8), (1, 2, 3, 6, 10), (1, 2, 3, 7, 8), (1, 2, 3, 7, 10), (1, 2, 3, 8, 10), (1, 2, 4, 'aba', 6), (1, 2, 4, 'aba', 7), (1, 2, 4, 'aba', 8), (1, 2, 4, 'aba', 10), (1, 2, 4, 6, 7), (1, 2, 4, 6, 8), (1, 2, 4, 6, 10), (1, 2, 4, 7, 8), (1, 2, 4, 7, 10), (1, 2, 4, 8, 10), (1, 2, 'aba', 6, 7), (1, 2, 'aba', 6, 8), (1, 2, 'aba', 6, 10), (1, 2, 'aba', 7, 8), (1, 2, 'aba', 7, 10), (1, 2, 'aba', 8, 10), (1, 2, 6, 7, 8), (1, 2, 6, 7, 10), (1, 2, 6, 8, 10), (1, 2, 7, 8, 10), (1, 3, 4, 'aba', 6), (1, 3, 4, 'aba', 7), (1, 3, 4, 'aba', 8), (1, 3, 4, 'aba', 10), (1, 3, 4, 6, 7), (1, 3, 4, 6, 8), (1, 3, 4, 6, 10), (1, 3, 4, 7, 8), (1, 3, 4, 7, 10), (1, 3, 4, 8, 10), (1, 3, 'aba', 6, 7), (1, 3, 'aba', 6, 8), (1, 3, 'aba', 6, 10), (1, 3, 'aba', 7, 8), (1, 3, 'aba', 7, 10), (1, 3, 'aba', 8, 10), (1, 3, 6, 7, 8), (1, 3, 6, 7, 10), (1, 3, 6, 8, 10), (1, 3, 7, 8, 10), (1, 4, 'aba', 6, 7), (1, 4, 'aba', 6, 8), (1, 4, 'aba', 6, 10), (1, 4, 'aba', 7, 8), (1, 4, 'aba', 7, 10), (1, 4, 'aba', 8, 10), (1, 4, 6, 7, 8), (1, 4, 6, 7, 10), (1, 4, 6, 8, 10), (1, 4, 7, 8, 10), (1, 'aba', 6, 7, 8), (1, 'aba', 6, 7, 10), (1, 'aba', 6, 8, 10), (1, 'aba', 7, 8, 10), (1, 6, 7, 8, 10), (2, 3, 4, 'aba', 6), (2, 3, 4, 'aba', 7), (2, 3, 4, 'aba', 8), (2, 3, 4, 'aba', 10), (2, 3, 4, 6, 7), (2, 3, 4, 6, 8), (2, 3, 4, 6, 10), (2, 3, 4, 7, 8), (2, 3, 4, 7, 10), (2, 3, 4, 8, 10), (2, 3, 'aba', 6, 7), (2, 3, 'aba', 6, 8), (2, 3, 'aba', 6, 10), (2, 3, 'aba', 7, 8), (2, 3, 'aba', 7, 10), (2, 3, 'aba', 8, 10), (2, 3, 6, 7, 8), (2, 3, 6, 7, 10), (2, 3, 6, 8, 10), (2, 3, 7, 8, 10), (2, 4, 'aba', 6, 7), (2, 4, 'aba', 6, 8), (2, 4, 'aba', 6, 10), (2, 4, 'aba', 7, 8), (2, 4, 'aba', 7, 10), (2, 4, 'aba', 8, 10), (2, 4, 6, 7, 8), (2, 4, 6, 7, 10), (2, 4, 6, 8, 10), (2, 4, 7, 8, 10), (2, 'aba', 6, 7, 8), (2, 'aba', 6, 7, 10), (2, 'aba', 6, 8, 10), (2, 'aba', 7, 8, 10), (2, 6, 7, 8, 10), (3, 4, 'aba', 6, 7), (3, 4, 'aba', 6, 8), (3, 4, 'aba', 6, 10), (3, 4, 'aba', 7, 8), (3, 4, 'aba', 7, 10), (3, 4, 'aba', 8, 10), (3, 4, 6, 7, 8), (3, 4, 6, 7, 10), (3, 4, 6, 8, 10), (3, 4, 7, 8, 10), (3, 'aba', 6, 7, 8), (3, 'aba', 6, 7, 10), (3, 'aba', 6, 8, 10), (3, 'aba', 7, 8, 10), (3, 6, 7, 8, 10), (4, 'aba', 6, 7, 8), (4, 'aba', 6, 7, 10), (4, 'aba', 6, 8, 10), (4, 'aba', 7, 8, 10), (4, 6, 7, 8, 10), ('aba', 6, 7, 8, 10)]\n",
      "[(1, 2, 3, 4, 'aba', 6), (1, 2, 3, 4, 'aba', 7), (1, 2, 3, 4, 'aba', 8), (1, 2, 3, 4, 'aba', 10), (1, 2, 3, 4, 6, 7), (1, 2, 3, 4, 6, 8), (1, 2, 3, 4, 6, 10), (1, 2, 3, 4, 7, 8), (1, 2, 3, 4, 7, 10), (1, 2, 3, 4, 8, 10), (1, 2, 3, 'aba', 6, 7), (1, 2, 3, 'aba', 6, 8), (1, 2, 3, 'aba', 6, 10), (1, 2, 3, 'aba', 7, 8), (1, 2, 3, 'aba', 7, 10), (1, 2, 3, 'aba', 8, 10), (1, 2, 3, 6, 7, 8), (1, 2, 3, 6, 7, 10), (1, 2, 3, 6, 8, 10), (1, 2, 3, 7, 8, 10), (1, 2, 4, 'aba', 6, 7), (1, 2, 4, 'aba', 6, 8), (1, 2, 4, 'aba', 6, 10), (1, 2, 4, 'aba', 7, 8), (1, 2, 4, 'aba', 7, 10), (1, 2, 4, 'aba', 8, 10), (1, 2, 4, 6, 7, 8), (1, 2, 4, 6, 7, 10), (1, 2, 4, 6, 8, 10), (1, 2, 4, 7, 8, 10), (1, 2, 'aba', 6, 7, 8), (1, 2, 'aba', 6, 7, 10), (1, 2, 'aba', 6, 8, 10), (1, 2, 'aba', 7, 8, 10), (1, 2, 6, 7, 8, 10), (1, 3, 4, 'aba', 6, 7), (1, 3, 4, 'aba', 6, 8), (1, 3, 4, 'aba', 6, 10), (1, 3, 4, 'aba', 7, 8), (1, 3, 4, 'aba', 7, 10), (1, 3, 4, 'aba', 8, 10), (1, 3, 4, 6, 7, 8), (1, 3, 4, 6, 7, 10), (1, 3, 4, 6, 8, 10), (1, 3, 4, 7, 8, 10), (1, 3, 'aba', 6, 7, 8), (1, 3, 'aba', 6, 7, 10), (1, 3, 'aba', 6, 8, 10), (1, 3, 'aba', 7, 8, 10), (1, 3, 6, 7, 8, 10), (1, 4, 'aba', 6, 7, 8), (1, 4, 'aba', 6, 7, 10), (1, 4, 'aba', 6, 8, 10), (1, 4, 'aba', 7, 8, 10), (1, 4, 6, 7, 8, 10), (1, 'aba', 6, 7, 8, 10), (2, 3, 4, 'aba', 6, 7), (2, 3, 4, 'aba', 6, 8), (2, 3, 4, 'aba', 6, 10), (2, 3, 4, 'aba', 7, 8), (2, 3, 4, 'aba', 7, 10), (2, 3, 4, 'aba', 8, 10), (2, 3, 4, 6, 7, 8), (2, 3, 4, 6, 7, 10), (2, 3, 4, 6, 8, 10), (2, 3, 4, 7, 8, 10), (2, 3, 'aba', 6, 7, 8), (2, 3, 'aba', 6, 7, 10), (2, 3, 'aba', 6, 8, 10), (2, 3, 'aba', 7, 8, 10), (2, 3, 6, 7, 8, 10), (2, 4, 'aba', 6, 7, 8), (2, 4, 'aba', 6, 7, 10), (2, 4, 'aba', 6, 8, 10), (2, 4, 'aba', 7, 8, 10), (2, 4, 6, 7, 8, 10), (2, 'aba', 6, 7, 8, 10), (3, 4, 'aba', 6, 7, 8), (3, 4, 'aba', 6, 7, 10), (3, 4, 'aba', 6, 8, 10), (3, 4, 'aba', 7, 8, 10), (3, 4, 6, 7, 8, 10), (3, 'aba', 6, 7, 8, 10), (4, 'aba', 6, 7, 8, 10)]\n",
      "[(1, 2, 3, 4, 'aba', 6, 7), (1, 2, 3, 4, 'aba', 6, 8), (1, 2, 3, 4, 'aba', 6, 10), (1, 2, 3, 4, 'aba', 7, 8), (1, 2, 3, 4, 'aba', 7, 10), (1, 2, 3, 4, 'aba', 8, 10), (1, 2, 3, 4, 6, 7, 8), (1, 2, 3, 4, 6, 7, 10), (1, 2, 3, 4, 6, 8, 10), (1, 2, 3, 4, 7, 8, 10), (1, 2, 3, 'aba', 6, 7, 8), (1, 2, 3, 'aba', 6, 7, 10), (1, 2, 3, 'aba', 6, 8, 10), (1, 2, 3, 'aba', 7, 8, 10), (1, 2, 3, 6, 7, 8, 10), (1, 2, 4, 'aba', 6, 7, 8), (1, 2, 4, 'aba', 6, 7, 10), (1, 2, 4, 'aba', 6, 8, 10), (1, 2, 4, 'aba', 7, 8, 10), (1, 2, 4, 6, 7, 8, 10), (1, 2, 'aba', 6, 7, 8, 10), (1, 3, 4, 'aba', 6, 7, 8), (1, 3, 4, 'aba', 6, 7, 10), (1, 3, 4, 'aba', 6, 8, 10), (1, 3, 4, 'aba', 7, 8, 10), (1, 3, 4, 6, 7, 8, 10), (1, 3, 'aba', 6, 7, 8, 10), (1, 4, 'aba', 6, 7, 8, 10), (2, 3, 4, 'aba', 6, 7, 8), (2, 3, 4, 'aba', 6, 7, 10), (2, 3, 4, 'aba', 6, 8, 10), (2, 3, 4, 'aba', 7, 8, 10), (2, 3, 4, 6, 7, 8, 10), (2, 3, 'aba', 6, 7, 8, 10), (2, 4, 'aba', 6, 7, 8, 10), (3, 4, 'aba', 6, 7, 8, 10)]\n",
      "[(1, 2, 3, 4, 'aba', 6, 7, 8), (1, 2, 3, 4, 'aba', 6, 7, 10), (1, 2, 3, 4, 'aba', 6, 8, 10), (1, 2, 3, 4, 'aba', 7, 8, 10), (1, 2, 3, 4, 6, 7, 8, 10), (1, 2, 3, 'aba', 6, 7, 8, 10), (1, 2, 4, 'aba', 6, 7, 8, 10), (1, 3, 4, 'aba', 6, 7, 8, 10), (2, 3, 4, 'aba', 6, 7, 8, 10)]\n"
     ]
    }
   ],
   "source": [
    "from itertools import combinations as com    \n",
    "my_list = [1,2,3,4,'aba',6,7,8,10]\n",
    "for i in range(1,len(my_list)):\n",
    "        x = com(my_list,i)\n",
    "        print(list(x))"
   ]
  },
  {
   "cell_type": "markdown",
   "metadata": {},
   "source": [
    "Q26. Write the Python program to convert a pair of values into a sorted  unique array?              \n",
    "Original List-  [ (1, 2), (3, 4), (1, 2), (5, 6), (7, 8), (1, 2), (3, 4), (3, 4), (7, 8), (9, 10) ]              \n",
    "Sorted Unique Data- [ 1, 2, 3, 4, 5, 6, 7, 8, 9, 10 ] "
   ]
  },
  {
   "cell_type": "code",
   "execution_count": 16,
   "metadata": {},
   "outputs": [
    {
     "data": {
      "text/plain": [
       "[1, 2, 3, 4, 5, 6, 7, 8, 9, 10]"
      ]
     },
     "execution_count": 16,
     "metadata": {},
     "output_type": "execute_result"
    }
   ],
   "source": [
    "original_List = [ (1, 2), (3, 4), (1, 2), (5, 6), (7, 8), (1, 2), (3, 4), (3, 4), (7, 8), (9, 10) ]\n",
    "unsorted_list = []\n",
    "for i in original_List:\n",
    "    for j in range(2):\n",
    "        unsorted_list.append(i[j])\n",
    "sorted_unique_list =list(set(unsorted_list))    \n",
    "sorted_unique_list"
   ]
  },
  {
   "cell_type": "markdown",
   "metadata": {},
   "source": [
    "Q27.  Write the Python class to convert an integer to a roman numeral? : writing in function form"
   ]
  },
  {
   "cell_type": "code",
   "execution_count": 14,
   "metadata": {},
   "outputs": [
    {
     "name": "stdout",
     "output_type": "stream",
     "text": [
      "enter the integer you want to convert to roman numericals: 3487\n",
      "MMMCDLXXXVII\n"
     ]
    }
   ],
   "source": [
    "# my approach is simple. built helper functions to calculate the number - break up not upfront and mapped in Roman dic.\n",
    "#built the main function to break the integer to the denomination that can be converted by the helper functions\n",
    "roman_dict = {1:'I',4:'IV',5:'V',9:'IX',10:'X',40:'XL',50:'L',90:'XC',100:'C',400:'CD',500:'D',900:'CM',1000:'M'}\n",
    "\n",
    "def diff_3(x):\n",
    "    roman_3=[]\n",
    "    for i in range(x):\n",
    "        roman_3.append(roman_dict[1])\n",
    "    return ''.join(roman_3)\n",
    "\n",
    "def diff_5_to_9(x):\n",
    "    roman_5_to_9=[]\n",
    "    temp = x-5\n",
    "    roman_5_to_9.append(roman_dict[5])\n",
    "    for i in range(temp):\n",
    "        roman_5_to_9.append(roman_dict[1])\n",
    "    return ''.join(roman_5_to_9)\n",
    "\n",
    "def diff_10_to_40(x):\n",
    "    roman_10_to_40=[]\n",
    "    temp = int(x/10)\n",
    "    for i in range(temp):\n",
    "        roman_10_to_40.append(roman_dict[10])\n",
    "    return ''.join(roman_10_to_40)\n",
    "\n",
    "def diff_50_to_90(x):\n",
    "    roman_50_to_90=[]\n",
    "    temp = x-50\n",
    "    roman_50_to_90.append(roman_dict[50])\n",
    "    temp1 = int(temp/10)\n",
    "    for i in range(temp1):\n",
    "        roman_50_to_90.append(roman_dict[10])\n",
    "    return ''.join(roman_50_to_90)\n",
    "\n",
    "def diff_100_to_400(x):\n",
    "    roman_100_to_400=[]\n",
    "    temp = int(x/100)\n",
    "    for i in range(temp):\n",
    "        roman_100_to_400.append(roman_dict[100])\n",
    "    return ''.join(roman_100_to_400)\n",
    "\n",
    "def diff_500_to_900(x):\n",
    "    roman_500_to_900=[]\n",
    "    temp = x-500\n",
    "    roman_500_to_900.append(roman_dict[500])\n",
    "    temp1 = int(temp/100)\n",
    "    for i in range(temp1):\n",
    "        roman_500_to_900.append(roman_dict[100])\n",
    "    return ''.join(roman_500_to_900)\n",
    "\n",
    "def integer_to_roman_converter(x):\n",
    "    str_x = str(x)\n",
    "    j=len(str_x)-1\n",
    "    my_list = []\n",
    "    for i in str_x:\n",
    "        temp = int(i)*10**j\n",
    "        j=j-1\n",
    "        if temp>=1000:\n",
    "            x = int(temp/1000)\n",
    "            for i in range(x):\n",
    "                my_list.append(roman_dict[1000])            \n",
    "        elif temp == 900:\n",
    "            my_list.append(roman_dict[900])\n",
    "        elif temp>=500 and temp<900:  \n",
    "            my_list.append(diff_500_to_900(temp))\n",
    "        elif temp == 400:\n",
    "            my_list.append(roman_dict[400])\n",
    "        elif temp>=100 and temp<400:\n",
    "            my_list.append(diff_100_to_400(temp))   \n",
    "        elif temp == 90:\n",
    "            my_list.append(roman_dict[90])        \n",
    "        elif temp>=50 and temp<90:  \n",
    "            my_list.append(diff_50_to_90(temp))\n",
    "        elif temp == 40:\n",
    "            my_list.append(roman_dict[40])   \n",
    "        elif temp>=10 and temp<40:\n",
    "            my_list.append(diff_10_to_40(temp)) \n",
    "        elif temp == 9:\n",
    "            my_list.append(roman_dict[9])        \n",
    "        elif temp>=5 and temp<9:\n",
    "            my_list.append(diff_5_to_9(temp))  \n",
    "        elif temp == 5:\n",
    "            my_list.append(roman_dict[5])   \n",
    "        elif temp == 4:\n",
    "            my_list.append(roman_dict[4])   \n",
    "        else:\n",
    "            my_list.append(diff_3(temp))          \n",
    "    print(''.join(my_list))     \n",
    "x = int(input('enter the integer you want to convert to roman numericals: '))\n",
    "integer_to_roman_converter(x)"
   ]
  },
  {
   "cell_type": "markdown",
   "metadata": {},
   "source": [
    "Q28 Write the Python class to convert a Roman numeral to an integer?  writing in OOPs form"
   ]
  },
  {
   "cell_type": "code",
   "execution_count": 5,
   "metadata": {},
   "outputs": [
    {
     "name": "stdout",
     "output_type": "stream",
     "text": [
      "3986\n"
     ]
    }
   ],
   "source": [
    "# My appraoch is to take the value from the roman dict and add from the end unless the roman numeial = CD,CM,XL,IX. If it stumbles upon \n",
    "# CD,CM,XL,IX we will have to subtract the current and the previous: for example if CD ..we will add CD but subtract C and D indivitually\n",
    "class roman_to_integer:\n",
    "    \n",
    "    def __init__(self):\n",
    "        self.str_in = str_in\n",
    "    def roman_to_integer_converter(self,str_in):  \n",
    "        roman_dict = {'I':1,'IV':4,'V':5,'IX':9,'X':10,'XL':40,'L':50,'XC':90,'C':100,'CD':400,'D':500,'CM':900,'M':1000}\n",
    "        result = 0\n",
    "        for i in range(len(str_in)-1,-1,-1):\n",
    "                result = result + roman_dict[str_in[i]]\n",
    "                if str_in[i-1]+str_in[i] in ['CM','CD','XL','IX']:\n",
    "                            result = result + roman_dict[str_in[i-1]+str_in[i]] - (roman_dict[str_in[i-1]] + roman_dict[str_in[i]]) \n",
    "        return result                \n",
    "                \n",
    "print(roman_to_integer().roman_to_integer_converter('MMMCMLXXXVI'))       "
   ]
  },
  {
   "cell_type": "markdown",
   "metadata": {},
   "source": [
    "Q29. Write the Python class to find  the validity of the string of the parentheses, '(', ')', '{', '}', '[' and '] and the brackets must be closed  in the correct order, example - \"()\" and \"()[]{}\" are valid but \"[)\", \"({[)]\" and \"{{{\" are invalid.  "
   ]
  },
  {
   "cell_type": "code",
   "execution_count": 33,
   "metadata": {},
   "outputs": [
    {
     "name": "stdout",
     "output_type": "stream",
     "text": [
      "enter the parenthesis:(,{,[,},],)\n",
      "index_open0\n",
      ")\n",
      "temp_index_closed:5\n",
      "temp_index_closed_rev:0\n",
      "5\n",
      "index_open1\n",
      "}\n",
      "temp_index_closed:3\n",
      "temp_index_closed_rev:2\n",
      "index_open2\n",
      "]\n",
      "temp_index_closed:4\n",
      "temp_index_closed_rev:1\n",
      "count:1\n",
      "['(', '{', '[', '}', ']', 5]\n",
      "incorrect syntax\n"
     ]
    }
   ],
   "source": [
    "# rough work\n",
    "parenthesis_dict = {'(': ')', '{':'}', '[':']'}\n",
    "str_in = input('enter the parenthesis:').split(',')\n",
    "str_list = list(str_in)\n",
    "str_rev = str_list[::-1]\n",
    "count=0\n",
    "for i in str_list:\n",
    "    if i in parenthesis_dict.keys():\n",
    "        #print('a')\n",
    "        index_open = str_list.index(i)\n",
    "        print('index_open{}'.format(index_open))\n",
    "        temp_close_value = parenthesis_dict.get(i)\n",
    "        print(temp_close_value)\n",
    "        if temp_close_value in str_list:\n",
    "            #print('b')\n",
    "            temp_index_closed = str_list.index(temp_close_value)\n",
    "            print('temp_index_closed:{}'.format(temp_index_closed))\n",
    "            temp_index_closed_rev = str_rev.index(temp_close_value)\n",
    "            print('temp_index_closed_rev:{}'.format(temp_index_closed_rev))\n",
    "            \n",
    "            if temp_index_closed == index_open+1 or temp_index_closed_rev == index_open:\n",
    "                str_list[temp_index_closed] = temp_index_closed\n",
    "                print(str_list[temp_index_closed])\n",
    "                count =count+1\n",
    "            else:\n",
    "                continue\n",
    "        else:\n",
    "            print('incorrect syntax')\n",
    "print('count:{}'.format(count))\n",
    "print(str_list)\n",
    "#print(len(str_list))\n",
    "if len(str_list)==2*count:\n",
    "    print('correct syntax')\n",
    "else:\n",
    "    print('incorrect syntax')"
   ]
  },
  {
   "cell_type": "code",
   "execution_count": 35,
   "metadata": {},
   "outputs": [
    {
     "name": "stdout",
     "output_type": "stream",
     "text": [
      "correct syntax\n",
      "None\n",
      "########################################\n",
      "correct syntax\n",
      "None\n",
      "########################################\n",
      "correct syntax\n",
      "None\n",
      "########################################\n",
      "incorrect syntax\n",
      "None\n",
      "########################################\n",
      "incorrect syntax\n",
      "incorrect syntax\n",
      "None\n"
     ]
    }
   ],
   "source": [
    "# Approach:\n",
    "#convert the str to a list and also take the reverse of the list\n",
    "#declare the correct parenthesis in dic and get the keys when open bracket and values when close bracket\n",
    "#logic: the index of open bracket in a list must be either the same index in the rev str_list or the next postion of the open idex\n",
    "class check_syntax:\n",
    "       def check_parenthesis(self,str_in):\n",
    "            parenthesis_dict = {'(': ')', '{':'}', '[':']'}\n",
    "            str_in = str_in.split(',')\n",
    "            str_list = list(str_in)\n",
    "            str_rev = str_list[::-1]\n",
    "            count=0\n",
    "            for i in str_list:\n",
    "                if i in parenthesis_dict.keys():\n",
    "                    index_open = str_list.index(i)\n",
    "                    temp_close_value = parenthesis_dict.get(i)\n",
    "                    if temp_close_value in str_list:\n",
    "                            temp_index_closed = str_list.index(temp_close_value)\n",
    "                            temp_index_closed_rev = str_rev.index(temp_close_value)\n",
    "                            if temp_index_closed == index_open+1 or temp_index_closed_rev == index_open:\n",
    "                                    str_list[temp_index_closed] = temp_index_closed\n",
    "                                    count =count+1\n",
    "                            else:\n",
    "                                    #print('incorrect syntax')\n",
    "                                    continue\n",
    "                    else:\n",
    "                        print('incorrect syntax')\n",
    "                        \n",
    "\n",
    "            if len(str_list)==2*count:\n",
    "                  print('correct syntax')\n",
    "            else:\n",
    "                  print('incorrect syntax')\n",
    "print(check_syntax().check_parenthesis(\"(,),{,},[,]\"))  \n",
    "print('#'*40)                    \n",
    "print(check_syntax().check_parenthesis(\"(,{,[,],},)\"))  \n",
    "print('#'*40)\n",
    "print(check_syntax().check_parenthesis(\"(,{,[,],(,),},)\"))  \n",
    "print('#'*40)\n",
    "print(check_syntax().check_parenthesis(\"(,{,[,(,],),},)\"))  \n",
    "print('#'*40)\n",
    "print(check_syntax().check_parenthesis(\"(,{,[,(,],},)\"))  "
   ]
  },
  {
   "cell_type": "markdown",
   "metadata": {},
   "source": [
    "Q30. Write the Python class to get all possible unique subsets from a set of distinct integers?  "
   ]
  },
  {
   "cell_type": "code",
   "execution_count": 9,
   "metadata": {},
   "outputs": [
    {
     "name": "stdout",
     "output_type": "stream",
     "text": [
      "[()]\n",
      "[(4,), (5,), (6,)]\n",
      "[(4, 5), (4, 6), (5, 6)]\n",
      "[(4, 5, 6)]\n"
     ]
    }
   ],
   "source": [
    "from itertools import combinations as com    \n",
    "my_list = [4,5,6]\n",
    "for i in range(0,len(my_list)+1):\n",
    "        x = com(my_list,i)\n",
    "        print(list(x))"
   ]
  },
  {
   "cell_type": "code",
   "execution_count": 81,
   "metadata": {},
   "outputs": [
    {
     "data": {
      "text/plain": [
       "[[], [1], [2], [3], [1, 2], [1, 3], [2, 3], [1, 2, 3]]"
      ]
     },
     "execution_count": 81,
     "metadata": {},
     "output_type": "execute_result"
    }
   ],
   "source": [
    "#another method\n",
    "import itertools\n",
    "lst = [1, 2, 3]\n",
    "combs = [[]]\n",
    "\n",
    "for i in range(1, len(lst)+1):\n",
    "    temp = [list(x) for x in itertools.combinations(lst, i)]\n",
    "    combs.extend(temp)\n",
    "combs    "
   ]
  },
  {
   "cell_type": "markdown",
   "metadata": {},
   "source": [
    "Q31. Write the Python class to find a pair of elements (indices of the two numbers) from a given array whose sum equals the specific target number? "
   ]
  },
  {
   "cell_type": "code",
   "execution_count": 97,
   "metadata": {},
   "outputs": [],
   "source": [
    "class pairwise:\n",
    "    def pairwise_sum(self,my_list,target_sum):\n",
    "            for i in range(0,len(my_list)):\n",
    "                for j in range(i+1,len(my_list)):\n",
    "                    if my_list[i]+my_list[j]==target_sum:\n",
    "                        first_element =  my_list[i]\n",
    "                        second_element = my_list[j]\n",
    "                        break\n",
    "            print('index of first_element: {}'.format(my_list.index(first_element)))\n",
    "            print('index of second_element: {}'.format(my_list.index(second_element)))"
   ]
  },
  {
   "cell_type": "code",
   "execution_count": 98,
   "metadata": {},
   "outputs": [
    {
     "name": "stdout",
     "output_type": "stream",
     "text": [
      "index of first_element: 0\n",
      "index of second_element: 3\n",
      "None\n"
     ]
    }
   ],
   "source": [
    "print(pairwise().pairwise_sum([10,20,10,40,50,60,70],50))"
   ]
  },
  {
   "cell_type": "markdown",
   "metadata": {},
   "source": [
    "Q32. Write the Python class to find the three elements that sum to zero from the set of n real numbers? "
   ]
  },
  {
   "cell_type": "code",
   "execution_count": 114,
   "metadata": {},
   "outputs": [
    {
     "name": "stdout",
     "output_type": "stream",
     "text": [
      "[[-10, 2, 8], [-7, -3, 10]]\n"
     ]
    }
   ],
   "source": [
    "class three_sum:\n",
    "    def three_element_sum(self,my_list):\n",
    "            result = []\n",
    "            \n",
    "            for i in range(0,len(my_list)):\n",
    "                for j in range(i+1,len(my_list)):\n",
    "                    for k in range(j+1,len(my_list)):\n",
    "                        temp=[]\n",
    "                        if my_list[i]+my_list[j]+my_list[k]==0:\n",
    "                                temp.append(my_list[i])\n",
    "                                temp.append(my_list[j])\n",
    "                                temp.append(my_list[k])\n",
    "                                result.append(temp)                 \n",
    "            return result           \n",
    "print(three_sum().three_element_sum([-25, -10, -7, -3, 2, 4, 8, 10]))            "
   ]
  },
  {
   "cell_type": "markdown",
   "metadata": {},
   "source": [
    "Q33. Write the Python class to implement pow(x, n)? "
   ]
  },
  {
   "cell_type": "code",
   "execution_count": 122,
   "metadata": {},
   "outputs": [
    {
     "name": "stdout",
     "output_type": "stream",
     "text": [
      "8\n",
      "15625\n"
     ]
    }
   ],
   "source": [
    "class power:\n",
    "    def pow(self,x,n):\n",
    "        if n == 1:\n",
    "            return x\n",
    "        else:\n",
    "            return x*pow(x,n-1)\n",
    "print(power().pow(2,3)) \n",
    "print(power().pow(5,6)) "
   ]
  },
  {
   "cell_type": "markdown",
   "metadata": {},
   "source": [
    "Q34. Write the Python class which has two methods get_String and print_String. get_String accept the string from the user and  \n",
    "print the string in upper case.   "
   ]
  },
  {
   "cell_type": "code",
   "execution_count": 131,
   "metadata": {},
   "outputs": [
    {
     "name": "stdout",
     "output_type": "stream",
     "text": [
      "enter a string:ayon\n",
      "AYON\n"
     ]
    }
   ],
   "source": [
    "class string_function:\n",
    "    def get_string(self):\n",
    "        str_in = input('enter a string:')\n",
    "        return str_in\n",
    "    def print_string(self, str_in):\n",
    "        str_out = str_in.upper()\n",
    "        return str_out\n",
    "temp = string_function().get_string()\n",
    "print(string_function().print_string(temp))"
   ]
  },
  {
   "cell_type": "code",
   "execution_count": 128,
   "metadata": {},
   "outputs": [
    {
     "name": "stdout",
     "output_type": "stream",
     "text": [
      "enter the string:koyel\n"
     ]
    },
    {
     "data": {
      "text/plain": [
       "'KOYEL'"
      ]
     },
     "execution_count": 128,
     "metadata": {},
     "output_type": "execute_result"
    }
   ],
   "source": [
    "#another way\n",
    "class InputOutString(object):\n",
    "    def __init__(self):\n",
    "        self.s = \"\"\n",
    "\n",
    "    def getString(self):\n",
    "        self.s = input(\"enter the string:\")\n",
    "\n",
    "    def printString(self):\n",
    "        return self.s.upper()\n",
    "\n",
    "strObj = InputOutString()\n",
    "strObj.getString()\n",
    "strObj.printString()   "
   ]
  },
  {
   "cell_type": "markdown",
   "metadata": {},
   "source": [
    "Q35. Write the Python class named Rectangle constructed by a length and width and the method which will compute the area of the   rectangle?   "
   ]
  },
  {
   "cell_type": "code",
   "execution_count": 5,
   "metadata": {},
   "outputs": [
    {
     "name": "stdout",
     "output_type": "stream",
     "text": [
      "enter the length:3\n",
      "enter the breadth:4\n"
     ]
    },
    {
     "data": {
      "text/plain": [
       "12"
      ]
     },
     "execution_count": 5,
     "metadata": {},
     "output_type": "execute_result"
    }
   ],
   "source": [
    "class rectangle:\n",
    "    def __init__(self):\n",
    "        self.length = ''\n",
    "        self.breadth = ''\n",
    "        \n",
    "    def get_measure(self):\n",
    "        self.length = int(input('enter the length:'))\n",
    "        self.breadth = int(input('enter the breadth:'))                  \n",
    "    def cal_area(self):\n",
    "        self.area = self.length*self.breadth\n",
    "        return self.area        \n",
    "rect_area = rectangle()\n",
    "rect_area.get_measure()\n",
    "rect_area.cal_area()"
   ]
  },
  {
   "cell_type": "markdown",
   "metadata": {},
   "source": [
    "Q36.  Write the Python class named Circle constructed by the radius  and two methods which will compute the area and perimeter of the circle?   "
   ]
  },
  {
   "cell_type": "code",
   "execution_count": 3,
   "metadata": {},
   "outputs": [
    {
     "name": "stdout",
     "output_type": "stream",
     "text": [
      "enter the radius:4\n",
      "perimeter:25\n",
      "area:50\n"
     ]
    }
   ],
   "source": [
    "class circle:\n",
    "    \n",
    "    \n",
    "    def __init__(self):\n",
    "        self.radius = ''\n",
    "        \n",
    "    def get_radius(self):\n",
    "        self.radius = int(input('enter the radius:'))    \n",
    "        \n",
    "    def get_perimiter(self):\n",
    "        import math\n",
    "        print('perimeter:{}'.format(round(math.pi*self.radius*2),2))     \n",
    "              \n",
    "    def get_area(self):\n",
    "        import math\n",
    "        print('area:{}'.format(round(math.pi*self.radius*self.radius),2))     \n",
    "              \n",
    "circle_obj = circle()\n",
    "circle_obj.get_radius()\n",
    "circle_obj.get_perimiter()\n",
    "circle_obj.get_area()"
   ]
  },
  {
   "cell_type": "markdown",
   "metadata": {},
   "source": [
    "Q37. Write the Python program to get the class name of an instance in  Python? "
   ]
  },
  {
   "cell_type": "code",
   "execution_count": 4,
   "metadata": {},
   "outputs": [
    {
     "data": {
      "text/plain": [
       "'DecisionTreeClassifier'"
      ]
     },
     "execution_count": 4,
     "metadata": {},
     "output_type": "execute_result"
    }
   ],
   "source": [
    "from sklearn.tree import DecisionTreeClassifier\n",
    "model = DecisionTreeClassifier()\n",
    "model.__class__.__name__"
   ]
  },
  {
   "cell_type": "markdown",
   "metadata": {},
   "source": [
    "Q38. Write the Python program to count the number of students of   individual class?   Sample data \n",
    " classes = ( ('V', 1), ('VI', 1), ('V', 2), ('VI', 2), ('VI', 3), ('VII', 1), ) \n",
    "Expected Output- Counter({'VI': 3, 'V': 2, 'VII': 1}) "
   ]
  },
  {
   "cell_type": "code",
   "execution_count": 28,
   "metadata": {},
   "outputs": [
    {
     "data": {
      "text/plain": [
       "{'V': 3, 'VI': 6, 'VII': 1}"
      ]
     },
     "execution_count": 28,
     "metadata": {},
     "output_type": "execute_result"
    }
   ],
   "source": [
    "classes = ( ('V', 1), ('VI', 1), ('V', 2), ('VI', 2), ('VI', 3), ('VII', 1) ) \n",
    "class_dict={}\n",
    "count = []\n",
    "class_list = ['V','VI','VII']\n",
    "count_V = 0\n",
    "count_VI = 0\n",
    "count_VII = 0\n",
    "for i in range(len(classes)):\n",
    "    if classes[i][0] == 'V':\n",
    "        count_V = count_V+classes[i][1]\n",
    "        \n",
    "    elif classes[i][0] == 'VI':\n",
    "        count_VI = count_VI+classes[i][1] \n",
    "        \n",
    "    else:\n",
    "        count_VII = count_VII+classes[i][1]\n",
    "        \n",
    "count.append(count_V)        \n",
    "count.append(count_VI)\n",
    "count.append(count_VII)\n",
    "        \n",
    "class_dict = dict(zip(class_list,count))     \n",
    "class_dict"
   ]
  },
  {
   "cell_type": "markdown",
   "metadata": {},
   "source": [
    "Q39. Write the Python program to create an instance of an OrderedDict using the given dictionary and sort dictionary during the      creation and print members of the dictionary in reverse order? \n",
    "Expected Output- Angola 244. Andorra 376. Algeria 213. Afghanistan 93. Albania 355. \n",
    "In reverse order- Albania  355. Afghanistan  93. Algeria  213. Andorra  376. Angola  244.  "
   ]
  },
  {
   "cell_type": "code",
   "execution_count": 31,
   "metadata": {},
   "outputs": [
    {
     "name": "stdout",
     "output_type": "stream",
     "text": [
      "Afghanistan 93\n",
      "Albania 355\n",
      "Algeria 213\n",
      "Andorra 376\n",
      "Angola 244\n",
      "\n",
      " In reverse order:\n",
      "Angola 244\n",
      "Andorra 376\n",
      "Algeria 213\n",
      "Albania 355\n",
      "Afghanistan 93\n"
     ]
    }
   ],
   "source": [
    "my_dict = {'Afghanistan': 93, 'Albania': 355, 'Algeria': 213, 'Andorra': 376, 'Angola': 244}\n",
    "from collections import OrderedDict\n",
    "new_dict = OrderedDict(my_dict.items())\n",
    "for key in new_dict:\n",
    "    print (key, new_dict[key])\n",
    "\n",
    "print(\"\\n In reverse order:\")\n",
    "for key in reversed(new_dict):\n",
    "    print (key, new_dict[key])"
   ]
  },
  {
   "cell_type": "code",
   "execution_count": 34,
   "metadata": {},
   "outputs": [
    {
     "name": "stdout",
     "output_type": "stream",
     "text": [
      "\n",
      " In reverse order:\n"
     ]
    },
    {
     "data": {
      "text/plain": [
       "[('Afghanistan', 93),\n",
       " ('Albania', 355),\n",
       " ('Algeria', 213),\n",
       " ('Andorra', 376),\n",
       " ('Angola', 244)]"
      ]
     },
     "execution_count": 34,
     "metadata": {},
     "output_type": "execute_result"
    }
   ],
   "source": [
    "my_dict = {'Afghanistan': 93, 'Albania': 355, 'Algeria': 213, 'Andorra': 376, 'Angola': 244}\n",
    "sorted(my_dict.items(), key = lambda x:x[1])\n",
    "print(\"\\n In reverse order:\")\n",
    "sorted(my_dict.items(), key = lambda x:x[0])"
   ]
  },
  {
   "cell_type": "markdown",
   "metadata": {},
   "source": [
    "Q40. Write the Python program to compare two unordered lists (not sets)? "
   ]
  },
  {
   "cell_type": "code",
   "execution_count": 39,
   "metadata": {},
   "outputs": [
    {
     "data": {
      "text/plain": [
       "False"
      ]
     },
     "execution_count": 39,
     "metadata": {},
     "output_type": "execute_result"
    }
   ],
   "source": [
    "from collections import Counter\n",
    "def compare_list(x, y):\n",
    "    return Counter(x) == Counter(y)\n",
    "list1 = [20, 20, 30, 10, 20, 30]\n",
    "list2 = [30, 20, 10, 30, 20, 50]\n",
    "compare_list(list1, list2)"
   ]
  },
  {
   "cell_type": "markdown",
   "metadata": {},
   "source": [
    "Q41. Write the Python program to get an array buffer information? Expected "
   ]
  },
  {
   "cell_type": "code",
   "execution_count": 44,
   "metadata": {},
   "outputs": [
    {
     "name": "stdout",
     "output_type": "stream",
     "text": [
      "(2626698587344, 2)\n"
     ]
    }
   ],
   "source": [
    "from array import array\n",
    "x = array('I',(10,20))\n",
    "print(x.buffer_info())\n"
   ]
  },
  {
   "cell_type": "markdown",
   "metadata": {},
   "source": [
    "Q42.  Write the Python program to convert an array to an array of machine values and return the bytes representation? "
   ]
  },
  {
   "cell_type": "code",
   "execution_count": 45,
   "metadata": {},
   "outputs": [
    {
     "name": "stdout",
     "output_type": "stream",
     "text": [
      "b'\\n\\x00\\x00\\x00\\x14\\x00\\x00\\x00'\n"
     ]
    }
   ],
   "source": [
    "from array import array\n",
    "x = array('I',(10,20))\n",
    "print(x.tobytes())"
   ]
  },
  {
   "cell_type": "markdown",
   "metadata": {},
   "source": [
    "Q43. Write the Python program to read a string and interpreting the string as an array of machine values? "
   ]
  },
  {
   "cell_type": "code",
   "execution_count": 48,
   "metadata": {},
   "outputs": [
    {
     "name": "stdout",
     "output_type": "stream",
     "text": [
      "array_test: array('I', [1, 2, 3, 4])\n",
      "Bytes: b'01000000020000000300000004000000'\n",
      "array_test2 : array('i', [1, 2, 3, 4])\n"
     ]
    }
   ],
   "source": [
    "from array import array\n",
    "import binascii\n",
    "array_test1 = array('I', [1, 2, 3, 4])\n",
    "print('array_test:', array_test1)\n",
    "to_bytes = array_test1.tobytes()\n",
    "print('Bytes:', binascii.hexlify(to_bytes))\n",
    "array_test2 = array('i')\n",
    "array_test2.frombytes(to_bytes)\n",
    "print('array_test2 :', array_test2)"
   ]
  },
  {
   "cell_type": "markdown",
   "metadata": {},
   "source": [
    "Q44. Write the Python program to push three items into the heap and return the smallest item from the heap. Also, return and pop the smallest item from the heap? "
   ]
  },
  {
   "cell_type": "code",
   "execution_count": 34,
   "metadata": {},
   "outputs": [
    {
     "data": {
      "text/plain": [
       "[('VI', 1), ('VII', 3), ('VIII', 2)]"
      ]
     },
     "execution_count": 34,
     "metadata": {},
     "output_type": "execute_result"
    }
   ],
   "source": [
    "import heapq\n",
    "def heapsort(iterable):\n",
    "        h = []\n",
    "        for value in iterable:\n",
    "             heapq.heappush(h, value)\n",
    "        return [heapq.heappop(h) for i in range(len(h))]\n",
    "heapsort([('VI', 1),('VII', 3), ('VIII', 2)])"
   ]
  },
  {
   "cell_type": "markdown",
   "metadata": {},
   "source": [
    "Q45. Write the Python program to locate the left insertion point for a specified value in sorted order? "
   ]
  },
  {
   "cell_type": "markdown",
   "metadata": {},
   "source": [
    "Q46. Write the Python program to create the FIFO queue? "
   ]
  },
  {
   "cell_type": "code",
   "execution_count": 36,
   "metadata": {},
   "outputs": [
    {
     "name": "stdout",
     "output_type": "stream",
     "text": [
      "0 1 2 3 4 \n",
      "\n"
     ]
    }
   ],
   "source": [
    "import queue\n",
    "q = queue.Queue()\n",
    "for x in range(5):\n",
    "    q.put(str(x))\n",
    "while not q.empty():\n",
    "    print(q.get(), end=\" \")\n",
    "print(\"\\n\")"
   ]
  },
  {
   "cell_type": "markdown",
   "metadata": {},
   "source": [
    "Q47. Write the Python program to calculate the harmonic sum of n-1. Note: The harmonic sum is the sum of reciprocals of the positive Integers? "
   ]
  },
  {
   "cell_type": "code",
   "execution_count": 49,
   "metadata": {},
   "outputs": [
    {
     "name": "stdout",
     "output_type": "stream",
     "text": [
      "enter your number: 6\n",
      "4.4071428571428575\n"
     ]
    }
   ],
   "source": [
    "num=int(input(\"enter your number: \"))\n",
    "result = float(0)\n",
    "\n",
    "for i in range(1,num+1):\n",
    "    result = float(result)+float(i/(i+1))\n",
    "\n",
    "print(result)  "
   ]
  },
  {
   "cell_type": "markdown",
   "metadata": {},
   "source": [
    "Q48. Write the NumPy program to create a 2d array with 6 on the border and 0 inside? "
   ]
  },
  {
   "cell_type": "code",
   "execution_count": 2,
   "metadata": {},
   "outputs": [
    {
     "data": {
      "text/plain": [
       "array([[6, 6, 6, 6],\n",
       "       [6, 0, 0, 6],\n",
       "       [6, 0, 0, 6],\n",
       "       [6, 0, 0, 6],\n",
       "       [6, 6, 6, 6]])"
      ]
     },
     "execution_count": 2,
     "metadata": {},
     "output_type": "execute_result"
    }
   ],
   "source": [
    "import numpy as np\n",
    "original_array = np.full((5,4),6)\n",
    "original_array\n",
    "for i in range(1,4):\n",
    "    for j in range(1,3):\n",
    "         original_array[i][j] = 0\n",
    "original_array            "
   ]
  },
  {
   "cell_type": "markdown",
   "metadata": {},
   "source": [
    "Q49.  Write the NumPy program to create a 8x8 matrix and fill it with the   checkerboard pattern? "
   ]
  },
  {
   "cell_type": "code",
   "execution_count": 70,
   "metadata": {},
   "outputs": [
    {
     "data": {
      "text/plain": [
       "array([[3, 9, 3, 9, 3, 9, 3, 9],\n",
       "       [9, 3, 9, 3, 9, 3, 9, 3],\n",
       "       [3, 9, 3, 9, 3, 9, 3, 9],\n",
       "       [9, 3, 9, 3, 9, 3, 9, 3],\n",
       "       [3, 9, 3, 9, 3, 9, 3, 9],\n",
       "       [9, 3, 9, 3, 9, 3, 9, 3],\n",
       "       [3, 9, 3, 9, 3, 9, 3, 9],\n",
       "       [9, 3, 9, 3, 9, 3, 9, 3]])"
      ]
     },
     "execution_count": 70,
     "metadata": {},
     "output_type": "execute_result"
    }
   ],
   "source": [
    "import numpy as np\n",
    "original_array = np.full((8,8),3)\n",
    "original_array\n",
    "for i in range(0,8):\n",
    "    for j in range(0,8):\n",
    "        if (i +j)%2!=0:\n",
    "             original_array[i][j] = 9\n",
    "original_array"
   ]
  },
  {
   "cell_type": "markdown",
   "metadata": {},
   "source": [
    "Q50. Write the NumPy program to create an empty and a full array. "
   ]
  },
  {
   "cell_type": "code",
   "execution_count": 71,
   "metadata": {},
   "outputs": [
    {
     "name": "stdout",
     "output_type": "stream",
     "text": [
      "[[6.23042070e-307 4.67296746e-307 1.69121096e-306 8.90073682e-308]\n",
      " [6.23038336e-307 2.22522597e-306 1.33511969e-306 1.37962320e-306]\n",
      " [9.34604358e-307 9.79101082e-307 1.78020576e-306 1.69119873e-306]\n",
      " [2.22522868e-306 1.24611809e-306 8.06632139e-308 1.60221208e-306]]\n",
      "[[2 2 2 2]\n",
      " [2 2 2 2]\n",
      " [2 2 2 2]\n",
      " [2 2 2 2]]\n"
     ]
    }
   ],
   "source": [
    "import numpy as np\n",
    "empty_array = np.empty((4,4))\n",
    "print(empty_array)\n",
    "\n",
    "full_array = np.full((4,4),2)\n",
    "print(full_array)"
   ]
  },
  {
   "cell_type": "markdown",
   "metadata": {},
   "source": [
    "Q51. Write the NumPy program to convert the values of Centigrade degrees into the Fahrenheit degrees and the centigrade values are  stored in the NumPy array. "
   ]
  },
  {
   "cell_type": "code",
   "execution_count": 81,
   "metadata": {},
   "outputs": [
    {
     "name": "stdout",
     "output_type": "stream",
     "text": [
      "[[40 31 99 61]\n",
      " [35  0 97  8]\n",
      " [ 2 97 58 38]\n",
      " [37 78 36 94]]\n",
      "########################################\n",
      "[[104.0, 95.0, 35.6, 98.6], [87.8, 32.0, 206.6, 172.4], [210.2, 206.6, 136.4, 96.8], [141.8, 46.4, 100.4, 201.2]]\n"
     ]
    }
   ],
   "source": [
    "import numpy as np\n",
    "celsius_array = np.random.randint(0,100,size=(4,4))\n",
    "fahrenhite_array = [[(celsius_array[i][j] * 9/5) + 32 for i in range(0,4)] for j in range(0,4)]\n",
    "print(celsius_array)\n",
    "print('#'*40)\n",
    "print(fahrenhite_array)"
   ]
  },
  {
   "cell_type": "markdown",
   "metadata": {},
   "source": [
    "Q52. Write the NumPy program to find the real and imaginary parts of an array of complex numbers? "
   ]
  },
  {
   "cell_type": "code",
   "execution_count": 84,
   "metadata": {},
   "outputs": [
    {
     "name": "stdout",
     "output_type": "stream",
     "text": [
      "[1. 3. 5.]\n",
      "[2. 4. 6.]\n"
     ]
    }
   ],
   "source": [
    "import numpy as np\n",
    "a = np.array([1+2j, 3+4j, 5+6j])\n",
    "print(a.real)\n",
    "print(a.imag)"
   ]
  },
  {
   "cell_type": "markdown",
   "metadata": {},
   "source": [
    "or"
   ]
  },
  {
   "cell_type": "code",
   "execution_count": 20,
   "metadata": {},
   "outputs": [
    {
     "data": {
      "text/plain": [
       "array([[ 1.+0.j,  2.+0.j,  3.+0.j],\n",
       "       [10.+0.j, 11.+0.j, 12.+0.j]])"
      ]
     },
     "execution_count": 20,
     "metadata": {},
     "output_type": "execute_result"
    }
   ],
   "source": [
    "a = np.array([[1,2,3],[10,11,12]], dtype = complex)\n",
    "a"
   ]
  },
  {
   "cell_type": "markdown",
   "metadata": {},
   "source": [
    "Q53. Write the NumPy program to test whether each element of a 1-D array is also present in the second array? "
   ]
  },
  {
   "cell_type": "code",
   "execution_count": 87,
   "metadata": {},
   "outputs": [
    {
     "data": {
      "text/plain": [
       "False"
      ]
     },
     "execution_count": 87,
     "metadata": {},
     "output_type": "execute_result"
    }
   ],
   "source": [
    "from collections import Counter\n",
    "def compare_list(x, y):\n",
    "    return Counter(x) == Counter(y)\n",
    "Array1 = [0, 10, 20, 40, 60] \n",
    "Array2 = [0, 40] \n",
    "compare_list(list1, list2)"
   ]
  },
  {
   "cell_type": "code",
   "execution_count": 93,
   "metadata": {},
   "outputs": [
    {
     "data": {
      "text/plain": [
       "[True, False, False, True, False]"
      ]
     },
     "execution_count": 93,
     "metadata": {},
     "output_type": "execute_result"
    }
   ],
   "source": [
    "Array1 = [0, 10, 20, 40, 60] \n",
    "Array2 = [0, 40] \n",
    "result = []\n",
    "for i in Array1:\n",
    "    if i in Array2:\n",
    "        result.append(True)\n",
    "    else:\n",
    "        result.append(False)\n",
    "result        "
   ]
  },
  {
   "cell_type": "markdown",
   "metadata": {},
   "source": [
    "Q54. Write the NumPy program to find common values between two arrays? "
   ]
  },
  {
   "cell_type": "code",
   "execution_count": 95,
   "metadata": {},
   "outputs": [
    {
     "data": {
      "text/plain": [
       "[0, 40]"
      ]
     },
     "execution_count": 95,
     "metadata": {},
     "output_type": "execute_result"
    }
   ],
   "source": [
    "Array1 = [0, 10, 20, 40, 60] \n",
    "Array2 = [0, 40] \n",
    "result=[]\n",
    "for i in Array1:\n",
    "    if i in Array2:\n",
    "        result.append(i)\n",
    "result        "
   ]
  },
  {
   "cell_type": "markdown",
   "metadata": {},
   "source": [
    "Q55. Write the NumPy program to get the unique elements of an array?   "
   ]
  },
  {
   "cell_type": "code",
   "execution_count": 1,
   "metadata": {},
   "outputs": [
    {
     "data": {
      "text/plain": [
       "[0, 10, 20, 30, 40, 50, 60]"
      ]
     },
     "execution_count": 1,
     "metadata": {},
     "output_type": "execute_result"
    }
   ],
   "source": [
    "Array1 = [0, 10, 20, 40, 60, 40,30,50] \n",
    "unique = []\n",
    "for i in Array1:\n",
    "    if i not in unique:\n",
    "        unique.append(i)\n",
    "sorted(unique) \n",
    "\n"
   ]
  },
  {
   "cell_type": "markdown",
   "metadata": {},
   "source": [
    "Q56. Write the NumPy program to find the set exclusive-or of two arrays. Set exclusive-or will return the sorted, unique values that are in only one (not both) of the input arrays? "
   ]
  },
  {
   "cell_type": "code",
   "execution_count": 7,
   "metadata": {},
   "outputs": [
    {
     "name": "stdout",
     "output_type": "stream",
     "text": [
      "[0, 20, 30, 50, 60, 70, 80]\n"
     ]
    }
   ],
   "source": [
    "Array1= [0, 10, 20, 40, 60, 80] \n",
    "set1 = set(Array1)\n",
    "Array2= [10, 30, 40, 50, 70] \n",
    "set2 = set(Array2)\n",
    "diff = set(set1.symmetric_difference(set2))\n",
    "print(sorted(list(diff)))"
   ]
  },
  {
   "cell_type": "markdown",
   "metadata": {},
   "source": [
    "Q57. Write the NumPy program to test if all elements in an array evaluate to True ?   "
   ]
  },
  {
   "cell_type": "code",
   "execution_count": 22,
   "metadata": {},
   "outputs": [
    {
     "data": {
      "text/plain": [
       "False"
      ]
     },
     "execution_count": 22,
     "metadata": {},
     "output_type": "execute_result"
    }
   ],
   "source": [
    "import numpy as np\n",
    "np.all([[True,False],[True,True]])\n",
    "np.all([-1, 4, 5])\n",
    "np.all([-1, 0, 5])"
   ]
  },
  {
   "cell_type": "markdown",
   "metadata": {},
   "source": [
    "Q58 Write the NumPy program to test whether any array element along   the given axis evaluates to True?   "
   ]
  },
  {
   "cell_type": "code",
   "execution_count": 23,
   "metadata": {},
   "outputs": [
    {
     "data": {
      "text/plain": [
       "array([ True, False])"
      ]
     },
     "execution_count": 23,
     "metadata": {},
     "output_type": "execute_result"
    }
   ],
   "source": [
    "np.all([[True,False],[True,True]], axis=0)"
   ]
  },
  {
   "cell_type": "markdown",
   "metadata": {},
   "source": [
    "Q59. Write the NumPy program to construct an array by repeating? "
   ]
  },
  {
   "cell_type": "code",
   "execution_count": 27,
   "metadata": {},
   "outputs": [
    {
     "name": "stdout",
     "output_type": "stream",
     "text": [
      "enter the times you want to repeat:4\n"
     ]
    },
    {
     "data": {
      "text/plain": [
       "array([1., 2., 3., 4., 1., 2., 3., 4., 1., 2., 3., 4., 1., 2., 3., 4.])"
      ]
     },
     "execution_count": 27,
     "metadata": {},
     "output_type": "execute_result"
    }
   ],
   "source": [
    "test = np.array([1,2,3,4], dtype = int)\n",
    "test\n",
    "num = int(input('enter the times you want to repeat:'))\n",
    "result = []\n",
    "for i in range(num):\n",
    "      result = np.concatenate((result, test), axis=0)\n",
    "result        "
   ]
  },
  {
   "cell_type": "markdown",
   "metadata": {},
   "source": [
    "Q60. Write the NumPy program to find the indices of the maximum and minimum values with the given axis of an array? "
   ]
  },
  {
   "cell_type": "code",
   "execution_count": 28,
   "metadata": {},
   "outputs": [
    {
     "name": "stdout",
     "output_type": "stream",
     "text": [
      "index of min element:0:\n",
      "index of max element:4:\n"
     ]
    }
   ],
   "source": [
    "test = [0,4,78,9,90,11,6]\n",
    "print('index of min element:{}:'.format(np.argmin(test)))\n",
    "print('index of max element:{}:'.format(np.argmax(test)))"
   ]
  },
  {
   "cell_type": "code",
   "execution_count": 35,
   "metadata": {},
   "outputs": [
    {
     "name": "stdout",
     "output_type": "stream",
     "text": [
      "[[ 5 74  3 53 46]\n",
      " [22 15  4  6 56]\n",
      " [60 30 62 87 39]\n",
      " [74 83 53 20 49]\n",
      " [45 98 13 66 27]]\n",
      "****************************************\n",
      "index of min element:0:\n",
      "****************************************\n",
      "index of max element:3:\n"
     ]
    }
   ],
   "source": [
    "from numpy.random import randint as rn\n",
    "M = rn(1,100,25).reshape(5,5)\n",
    "print(M)\n",
    "print('*'*40)\n",
    "print('index of min element:{}:'.format(np.argmin(test), axis= 1))\n",
    "print('*'*40)\n",
    "print('index of max element:{}:'.format(np.argmax(test)))"
   ]
  },
  {
   "cell_type": "markdown",
   "metadata": {},
   "source": [
    "Q61.  Write the NumPy program compare two arrays using numpy? "
   ]
  },
  {
   "cell_type": "code",
   "execution_count": 29,
   "metadata": {},
   "outputs": [
    {
     "name": "stdout",
     "output_type": "stream",
     "text": [
      "Array x:  [1 2]\n",
      "Array y:  [3 4]\n",
      "########################################\n",
      "[False False]\n",
      "x >= y\n",
      "########################################\n",
      "[False False]\n",
      "x < y\n",
      "########################################\n",
      "[ True  True]\n",
      "x <= y\n",
      "[ True  True]\n"
     ]
    }
   ],
   "source": [
    "import numpy as np\n",
    "x = np.array([1, 2])\n",
    "y = np.array([3, 4])\n",
    "print(\"Array x: \",x)\n",
    "print(\"Array y: \",y)\n",
    "print('#'*40)\n",
    "print(np.greater(x, y))\n",
    "print(\"x >= y\")\n",
    "print('#'*40)\n",
    "print(np.greater_equal(x, y))\n",
    "print(\"x < y\")\n",
    "print('#'*40)\n",
    "print(np.less(x, y))\n",
    "print(\"x <= y\")\n",
    "print(np.less_equal(x, y))\n"
   ]
  },
  {
   "cell_type": "markdown",
   "metadata": {},
   "source": [
    "Q62. Write the NumPy program to sort an along the first, last axis of an  array? "
   ]
  },
  {
   "cell_type": "code",
   "execution_count": 36,
   "metadata": {},
   "outputs": [
    {
     "name": "stdout",
     "output_type": "stream",
     "text": [
      "[[2 1]\n",
      " [4 6]]\n",
      "########################################\n",
      "[[4 6]\n",
      " [1 2]]\n"
     ]
    }
   ],
   "source": [
    "Original_array= [[4, 6],[2, 1]]\n",
    "print(np.sort(Original_array,axis=0))\n",
    "print('#'*40)\n",
    "print(np.sort(Original_array,axis=1))"
   ]
  },
  {
   "cell_type": "markdown",
   "metadata": {},
   "source": [
    "Q63. Write the NumPy program to sort pairs of first name and last name return their indices (first by last name, then by first name). "
   ]
  },
  {
   "cell_type": "code",
   "execution_count": 47,
   "metadata": {},
   "outputs": [
    {
     "data": {
      "text/plain": [
       "array([0, 1, 2, 3, 4], dtype=int64)"
      ]
     },
     "execution_count": 47,
     "metadata": {},
     "output_type": "execute_result"
    }
   ],
   "source": [
    "first_names = ( 'Betsey', 'Shelley', 'Lanell', 'Genesis', 'Margery' ) \n",
    "surnames = ( 'Battle', 'Brien', 'Plotner', 'Stahl', 'Woolum' ) \n",
    "ind = np.lexsort((first_names, surnames))\n",
    "ind"
   ]
  },
  {
   "cell_type": "markdown",
   "metadata": {},
   "source": [
    "OR"
   ]
  },
  {
   "cell_type": "code",
   "execution_count": 47,
   "metadata": {},
   "outputs": [
    {
     "data": {
      "text/plain": [
       "{0: 0, 3: 1, 2: 2, 4: 3, 1: 4}"
      ]
     },
     "execution_count": 47,
     "metadata": {},
     "output_type": "execute_result"
    }
   ],
   "source": [
    "import numpy as np\n",
    "first_names = np.array(( 'Betsey', 'Shelley', 'Lanell', 'Genesis', 'Margery' ))\n",
    "first_names\n",
    "first_names_enumerate = list(enumerate(first_names))\n",
    "first_names_enumerate\n",
    "def second(x):\n",
    "    return x[1]\n",
    "first_name_sorted = sorted(first_names_enumerate, key = second)\n",
    "surnames = np.array(( 'Battle', 'Brien', 'Plotner', 'Stahl', 'Woolum' ) )\n",
    "surnames_enumerate = list(enumerate(surnames))\n",
    "surnames_enumerate\n",
    "surname_sorted = sorted(surnames_enumerate,key = second)\n",
    "sorted_name_indices = dict(zip([x[0] for x in first_name_sorted],[x[0] for x in surname_sorted]))\n",
    "sorted_name_indices"
   ]
  },
  {
   "cell_type": "markdown",
   "metadata": {},
   "source": [
    "Q64. Write the NumPy program to get the values and indices of the elements that are bigger than 10 in the given array? "
   ]
  },
  {
   "cell_type": "code",
   "execution_count": null,
   "metadata": {},
   "outputs": [],
   "source": [
    "test = [0,3,4,10,11,12,15.19]\n",
    "result = [test.index(i) for i in test if i>10]\n",
    "result"
   ]
  },
  {
   "cell_type": "code",
   "execution_count": 60,
   "metadata": {},
   "outputs": [
    {
     "name": "stdout",
     "output_type": "stream",
     "text": [
      "original_matrix:\n",
      "[[63 14 68 23 56]\n",
      " [78 69 27  8 28]\n",
      " [43 50 26 39 67]\n",
      " [22 39 90 87 89]\n",
      " [71 78  5 37 37]]\n",
      "########################################\n",
      "[63 68 56 78 69 67 90 87 89 71 78]\n"
     ]
    }
   ],
   "source": [
    "from numpy.random import randint as rn\n",
    "M = rn(1,100,25).reshape(5,5)\n",
    "print('original_matrix:{}{}'.format('\\n',M))\n",
    "print('#'*40)\n",
    "print(M[M>50])"
   ]
  },
  {
   "cell_type": "markdown",
   "metadata": {},
   "source": [
    "Q65. Write the NumPy program to find the memory size of a NumPy array? "
   ]
  },
  {
   "cell_type": "code",
   "execution_count": 50,
   "metadata": {},
   "outputs": [
    {
     "name": "stdout",
     "output_type": "stream",
     "text": [
      "size:64\n"
     ]
    }
   ],
   "source": [
    "import numpy as np\n",
    "test = np.random.randint(0,100,size=(4,4))\n",
    "print(\"size:{}\".format(test.size * test.itemsize))"
   ]
  },
  {
   "cell_type": "markdown",
   "metadata": {},
   "source": [
    "Q66. Write the NumPy program to create an array of ones and an array   of zeros? "
   ]
  },
  {
   "cell_type": "code",
   "execution_count": 52,
   "metadata": {},
   "outputs": [
    {
     "name": "stdout",
     "output_type": "stream",
     "text": [
      "[[0. 0. 0.]\n",
      " [0. 0. 0.]\n",
      " [0. 0. 0.]\n",
      " [0. 0. 0.]\n",
      " [0. 0. 0.]]\n",
      "[[1. 1. 1.]\n",
      " [1. 1. 1.]\n",
      " [1. 1. 1.]\n",
      " [1. 1. 1.]\n",
      " [1. 1. 1.]]\n"
     ]
    }
   ],
   "source": [
    "import numpy as np\n",
    "a = np.zeros((5,3))\n",
    "print(a)\n",
    "b = np.ones((5,3))\n",
    "print(b)"
   ]
  },
  {
   "cell_type": "markdown",
   "metadata": {},
   "source": [
    "Q67. Write the NumPy program to change the dimension of an array? "
   ]
  },
  {
   "cell_type": "code",
   "execution_count": 57,
   "metadata": {},
   "outputs": [
    {
     "name": "stdout",
     "output_type": "stream",
     "text": [
      "size of a: (10,)\n",
      "size of b: (5, 2)\n"
     ]
    }
   ],
   "source": [
    "a=np.arange(10)\n",
    "print('size of a: {}'.format(a.shape))\n",
    "\n",
    "b =np.reshape(a,(5,2))\n",
    "b = np.reshape(a,(5,2),order='C')\n",
    "print('size of b: {}'.format(b.shape))"
   ]
  },
  {
   "cell_type": "markdown",
   "metadata": {},
   "source": [
    "Q68. Write the NumPy program to create a new shape to an array without changing its data ? "
   ]
  },
  {
   "cell_type": "code",
   "execution_count": 59,
   "metadata": {},
   "outputs": [
    {
     "name": "stdout",
     "output_type": "stream",
     "text": [
      "original: [[1, 2], [3, 4], [5, 6]]\n",
      "changed: [[1 2 3]\n",
      " [4 5 6]]\n"
     ]
    }
   ],
   "source": [
    "original = [[1, 2] ,[3, 4], [5, 6]] \n",
    "changed = np.reshape(original,(2,3),order='C')\n",
    "print('original: {}'.format(original))\n",
    "print('changed: {}'.format(changed))"
   ]
  },
  {
   "cell_type": "code",
   "execution_count": 63,
   "metadata": {},
   "outputs": [
    {
     "data": {
      "text/plain": [
       "array([[18, 29, 30],\n",
       "       [17, 85, 97],\n",
       "       [76, 78, 26],\n",
       "       [81, 93, 65],\n",
       "       [70, 79, 34],\n",
       "       [30, 13, 54],\n",
       "       [67, 26, 30],\n",
       "       [84, 62, 63],\n",
       "       [43, 82, 44],\n",
       "       [80, 15, 28]])"
      ]
     },
     "execution_count": 63,
     "metadata": {},
     "output_type": "execute_result"
    }
   ],
   "source": [
    "#or\n",
    "from numpy.random import randint as rn\n",
    "M = rn(1,100,30).reshape(6,5)\n",
    "M.reshape(10,-1)"
   ]
  },
  {
   "cell_type": "markdown",
   "metadata": {},
   "source": [
    "Q69. Write the NumPy program to create a new array of 3*5, filled with 2?   "
   ]
  },
  {
   "cell_type": "code",
   "execution_count": 62,
   "metadata": {},
   "outputs": [
    {
     "name": "stdout",
     "output_type": "stream",
     "text": [
      "[[2 2 2 2 2]\n",
      " [2 2 2 2 2]\n",
      " [2 2 2 2 2]]\n"
     ]
    }
   ],
   "source": [
    "test = np.full((3, 5), 2, dtype=int)\n",
    "print(test)"
   ]
  },
  {
   "cell_type": "markdown",
   "metadata": {},
   "source": [
    "Q70. Write the NumPy program to create a 3-D array with ones on a   diagonal and zeros elsewhere? "
   ]
  },
  {
   "cell_type": "code",
   "execution_count": 64,
   "metadata": {},
   "outputs": [
    {
     "data": {
      "text/plain": [
       "array([[1., 0., 0.],\n",
       "       [0., 1., 0.],\n",
       "       [0., 0., 1.]])"
      ]
     },
     "execution_count": 64,
     "metadata": {},
     "output_type": "execute_result"
    }
   ],
   "source": [
    "import numpy as np\n",
    "a = np.zeros((3,3))\n",
    "for i in range(3):\n",
    "    for j in range(3):\n",
    "        if i ==j:\n",
    "            a[i][j]=1\n",
    "a           \n",
    "        "
   ]
  },
  {
   "cell_type": "code",
   "execution_count": 78,
   "metadata": {},
   "outputs": [
    {
     "name": "stdout",
     "output_type": "stream",
     "text": [
      "Identity matrix of dimension (3, 3)\n",
      "[[1. 0. 0.]\n",
      " [0. 1. 0.]\n",
      " [0. 0. 1.]]\n"
     ]
    }
   ],
   "source": [
    "# or\n",
    "mat = np.eye(3) \n",
    "print(\"Identity matrix of dimension\", mat.shape)\n",
    "print(mat)"
   ]
  },
  {
   "cell_type": "markdown",
   "metadata": {},
   "source": [
    "Q71. Write the NumPy program to split an array of 14 elements into the  3 arrays and each of which has 2, 4, and 8 elements in original order? "
   ]
  },
  {
   "cell_type": "code",
   "execution_count": 9,
   "metadata": {},
   "outputs": [
    {
     "name": "stdout",
     "output_type": "stream",
     "text": [
      "Original array: [ 1  2  3  4  5  6  7  8  9 10 11 12 13 14]\n",
      "After splitting:\n",
      "[array([1, 2]), array([3, 4, 5, 6]), array([ 7,  8,  9, 10, 11, 12, 13, 14])]\n"
     ]
    }
   ],
   "source": [
    "import numpy as np\n",
    "original = np.arange(1,15)\n",
    "print(\"Original array:\",original)\n",
    "print(\"After splitting:\")\n",
    "print(np.split(original, [2, 6]))\n",
    "         "
   ]
  },
  {
   "cell_type": "markdown",
   "metadata": {},
   "source": [
    "Q72. Write the NumPy program to split of an array of shape 4x4 it into two arrays along the second axis ?   "
   ]
  },
  {
   "cell_type": "code",
   "execution_count": 14,
   "metadata": {},
   "outputs": [
    {
     "name": "stdout",
     "output_type": "stream",
     "text": [
      "Original array: [[ 0  1  2  3]\n",
      " [ 4  5  6  7]\n",
      " [ 8  9 10 11]\n",
      " [12 13 14 15]]\n",
      "After splitting:\n",
      "[array([[ 0,  1],\n",
      "       [ 4,  5],\n",
      "       [ 8,  9],\n",
      "       [12, 13]]), array([[ 2,  3],\n",
      "       [ 6,  7],\n",
      "       [10, 11],\n",
      "       [14, 15]])]\n"
     ]
    }
   ],
   "source": [
    "import numpy as np\n",
    "original = np.arange(0,16).reshape(4,4)\n",
    "print(\"Original array:\",original)\n",
    "print(\"After splitting:\")\n",
    "print(np.array_split(original, [2], axis=1))"
   ]
  },
  {
   "cell_type": "code",
   "execution_count": 83,
   "metadata": {},
   "outputs": [
    {
     "name": "stdout",
     "output_type": "stream",
     "text": [
      "Matrix of random 2-digit numbers\n",
      "--------------------------------\n",
      " [[87 42 10 44]\n",
      " [81 86 38 63]\n",
      " [49 88 42 35]\n",
      " [22 56 78 57]]\n",
      "After splitting:\n",
      "[[87 42]\n",
      " [81 86]\n",
      " [49 88]\n",
      " [22 56]]\n",
      "[[10 44]\n",
      " [38 63]\n",
      " [42 35]\n",
      " [78 57]]\n"
     ]
    }
   ],
   "source": [
    "# or\n",
    "import numpy as np \n",
    "from numpy.random import randint as rn\n",
    "mat = np.array(rn(10,100,16)).reshape(4,4)\n",
    "print(\"Matrix of random 2-digit numbers\\n--------------------------------\\n\",mat)\n",
    "mat1 = mat[:,0:2]\n",
    "mat2 = mat[:,2:4]\n",
    "print(\"After splitting:\")\n",
    "print(mat1)\n",
    "print(mat2)"
   ]
  },
  {
   "cell_type": "markdown",
   "metadata": {},
   "source": [
    "Q73. Write the NumPy program to create a 5x5 matrix with row values   ranging from 0 to 4? "
   ]
  },
  {
   "cell_type": "code",
   "execution_count": 24,
   "metadata": {},
   "outputs": [
    {
     "data": {
      "text/plain": [
       "[[0, 1, 2, 3, 4],\n",
       " [0, 1, 2, 3, 4],\n",
       " [0, 1, 2, 3, 4],\n",
       " [0, 1, 2, 3, 4],\n",
       " [0, 1, 2, 3, 4]]"
      ]
     },
     "execution_count": 24,
     "metadata": {},
     "output_type": "execute_result"
    }
   ],
   "source": [
    "result = []\n",
    "temp=[]\n",
    "for i in range(0,5):\n",
    "    for j in range(0,1):\n",
    "        x = [i for i in range(0,5)]\n",
    "    result.append(x)    \n",
    "result    "
   ]
  },
  {
   "cell_type": "code",
   "execution_count": 84,
   "metadata": {},
   "outputs": [
    {
     "data": {
      "text/plain": [
       "array([[3, 1, 0, 0, 2],\n",
       "       [2, 2, 1, 1, 0],\n",
       "       [3, 1, 1, 3, 1],\n",
       "       [0, 2, 1, 3, 3],\n",
       "       [0, 2, 1, 3, 1]])"
      ]
     },
     "execution_count": 84,
     "metadata": {},
     "output_type": "execute_result"
    }
   ],
   "source": [
    "import numpy as np \n",
    "from numpy.random import randint as rn\n",
    "mat = np.array(rn(0,4,25)).reshape(5,5)\n",
    "mat"
   ]
  },
  {
   "cell_type": "markdown",
   "metadata": {},
   "source": [
    "Q74. Write the NumPy program to create an array of zeros and three column types (integer, float, character)? "
   ]
  },
  {
   "cell_type": "code",
   "execution_count": 102,
   "metadata": {},
   "outputs": [
    {
     "data": {
      "text/plain": [
       "array([[(0, 0., b'')],\n",
       "       [(0, 0., b'')],\n",
       "       [(0, 0., b'')]],\n",
       "      dtype=[('f0', '<i4'), ('f1', '<f4'), ('f2', 'S40')])"
      ]
     },
     "execution_count": 102,
     "metadata": {},
     "output_type": "execute_result"
    }
   ],
   "source": [
    "x = np.zeros((3,1), dtype = ('i4,f4,a40'))\n",
    "x"
   ]
  },
  {
   "cell_type": "code",
   "execution_count": 105,
   "metadata": {},
   "outputs": [
    {
     "data": {
      "text/plain": [
       "rec.array([[(0, 0., b'')],\n",
       "           [(0, 0., b'')],\n",
       "           [(0, 0., b'')]],\n",
       "          dtype=[('integer', '<i4'), ('floating', '<f8'), ('char', 'S40')])"
      ]
     },
     "execution_count": 105,
     "metadata": {},
     "output_type": "execute_result"
    }
   ],
   "source": [
    "# or\n",
    "x1 = np.zeros((3,1), dtype = int)\n",
    "x2 = np.zeros((3,1), dtype = float)\n",
    "x3 = np.zeros((3,1), dtype = 'a40' )\n",
    "result = np.core.records.fromarrays([x1,x2,x3],names='integer,floating,char')\n",
    "result"
   ]
  },
  {
   "cell_type": "markdown",
   "metadata": {},
   "source": [
    "Q75. Write the NumPy program to remove the negative values in the numpy array with 0? "
   ]
  },
  {
   "cell_type": "code",
   "execution_count": 39,
   "metadata": {},
   "outputs": [
    {
     "data": {
      "text/plain": [
       "[0, 0, 0, 2, 3, 4, 5, 0]"
      ]
     },
     "execution_count": 39,
     "metadata": {},
     "output_type": "execute_result"
    }
   ],
   "source": [
    "lst = [-1, -4, 0, 2, 3, 4, 5, -6] \n",
    "for i in range(len(lst)):\n",
    "    if lst[i]<0:\n",
    "        lst[i] = 0\n",
    "lst        "
   ]
  },
  {
   "cell_type": "code",
   "execution_count": 120,
   "metadata": {},
   "outputs": [
    {
     "name": "stdout",
     "output_type": "stream",
     "text": [
      "[[-27  16  17  33 -44]\n",
      " [ 49 -11  38  -3  -3]\n",
      " [ 46  17  47 -39 -19]\n",
      " [ 21  -6  -6  32 -13]\n",
      " [ 28  23  -2 -35  37]]\n",
      "qqqqqqqqqqqqqqqqqqqqqqqqqqqqqqqqqqqqqqqqqqqqqqqqqqqqqqqqqqqqqqqqqqqqqqqqqqqqqqqq\n",
      "[-27 -44 -11  -3  -3 -39 -19  -6  -6 -13  -2 -35]\n",
      "qqqqqqqqqqqqqqqqqqqqqqqqqqqqqqqqqqqqqqqqqqqqqqqqqqqqqqqqqqqqqqqqqqqqqqqqqqqqqqqq\n",
      "[[ 0 16 17 33  0]\n",
      " [49  0 38  0  0]\n",
      " [46 17 47  0  0]\n",
      " [21  0  0 32  0]\n",
      " [28 23  0  0 37]]\n"
     ]
    }
   ],
   "source": [
    "# or\n",
    "import numpy as np \n",
    "from numpy.random import randint as rn\n",
    "mat = np.array(rn(-50,50,25)).reshape(5,5)\n",
    "print(mat)\n",
    "print('q'*80)\n",
    "print(mat[mat<0])\n",
    "print('q'*80)\n",
    "for i in range(len(mat)):\n",
    "    for j in range(len(mat)):\n",
    "            if mat[i][j]<0:\n",
    "                mat[i][j] = 0\n",
    "print(mat)"
   ]
  },
  {
   "cell_type": "markdown",
   "metadata": {},
   "source": [
    "Q76.  Write the NumPy program to compute the histogram of a set of  data?   "
   ]
  },
  {
   "cell_type": "code",
   "execution_count": 51,
   "metadata": {},
   "outputs": [
    {
     "data": {
      "image/png": "[encoded data removed]",
      "text/plain": [
       "<Figure size 432x288 with 1 Axes>"
      ]
     },
     "metadata": {
      "needs_background": "light"
     },
     "output_type": "display_data"
    }
   ],
   "source": [
    "import matplotlib.pyplot as plt\n",
    "%matplotlib inline\n",
    "import numpy as np\n",
    "x = np.random.randn(2,2)\n",
    "plt.hist(x)\n",
    "plt.show()"
   ]
  },
  {
   "cell_type": "markdown",
   "metadata": {},
   "source": [
    "Q77. Write the NumPy program to compute the line graph of a set of data? "
   ]
  },
  {
   "cell_type": "code",
   "execution_count": 127,
   "metadata": {},
   "outputs": [
    {
     "data": {
      "text/plain": [
       "<matplotlib.axes._subplots.AxesSubplot at 0x2a6acd91088>"
      ]
     },
     "execution_count": 127,
     "metadata": {},
     "output_type": "execute_result"
    },
    {
     "data": {
      "image/png": "[encoded data removed]",
      "text/plain": [
       "<Figure size 432x288 with 1 Axes>"
      ]
     },
     "metadata": {
      "needs_background": "light"
     },
     "output_type": "display_data"
    }
   ],
   "source": [
    "from numpy.random import randint as rn\n",
    "import pandas as pd\n",
    "df = pd.DataFrame(rn(1,100,100), index = pd.date_range('April-1-2020', periods = 100), columns=['value'])\n",
    "import matplotlib.pyplot as plt\n",
    "%matplotlib inline\n",
    "df.plot()"
   ]
  },
  {
   "cell_type": "markdown",
   "metadata": {},
   "source": [
    "Q78. Write the NumPy program to extracts all the elements from second  row from given (4x4) array? "
   ]
  },
  {
   "cell_type": "code",
   "execution_count": 130,
   "metadata": {},
   "outputs": [
    {
     "data": {
      "text/plain": [
       "array([-11, -14,  -8,  27])"
      ]
     },
     "execution_count": 130,
     "metadata": {},
     "output_type": "execute_result"
    }
   ],
   "source": [
    "import numpy as np \n",
    "from numpy.random import randint as rn\n",
    "mat = np.array(rn(-50,50,16)).reshape(4,4)\n",
    "mat[1,:]"
   ]
  },
  {
   "cell_type": "markdown",
   "metadata": {},
   "source": [
    "Q79. Write the NumPy program to extract first element of the second  row  and fourth element of fourth row from a given (4x4) array? "
   ]
  },
  {
   "cell_type": "code",
   "execution_count": 135,
   "metadata": {},
   "outputs": [
    {
     "name": "stdout",
     "output_type": "stream",
     "text": [
      "[[-45 -49  39  10]\n",
      " [  7 -15 -25  19]\n",
      " [-46 -31 -28 -22]\n",
      " [-47 -36  10  30]]\n",
      "aaaaaaaaaaaaaaaaaaaaaaaaaaaaaaaaaaaaaaaaaaaaaaaaaa\n",
      "7 30\n"
     ]
    }
   ],
   "source": [
    "import numpy as np \n",
    "from numpy.random import randint as rn\n",
    "mat = np.array(rn(-50,50,16)).reshape(4,4)\n",
    "print(mat)\n",
    "print('a'*50)\n",
    "print(mat[1,0], mat[3,3])"
   ]
  },
  {
   "cell_type": "markdown",
   "metadata": {},
   "source": [
    "Q80. Write the NumPy program to add two arrays A and B of sizes (3,3)   and (,3)?"
   ]
  },
  {
   "cell_type": "code",
   "execution_count": 137,
   "metadata": {},
   "outputs": [
    {
     "name": "stdout",
     "output_type": "stream",
     "text": [
      "[[0. 0. 0.]\n",
      " [0. 0. 0.]\n",
      " [0. 0. 0.]]\n",
      "aaaaaaaaaaaaaaaaaaaaaaaaaaaaaaaaaaaaaaaaaaaaaaaaaa\n",
      "[[10  7 14]]\n",
      "aaaaaaaaaaaaaaaaaaaaaaaaaaaaaaaaaaaaaaaaaaaaaaaaaa\n",
      "[[10.  7. 14.]\n",
      " [10.  7. 14.]\n",
      " [10.  7. 14.]]\n"
     ]
    }
   ],
   "source": [
    "import numpy as np \n",
    "from numpy.random import randint as rn\n",
    "mat1 = np.zeros((3,3))\n",
    "print(mat1)\n",
    "print('a'*50)\n",
    "mat2 = np.array(rn(0,20,3)).reshape(-1,3)\n",
    "print(mat2)\n",
    "print('a'*50)\n",
    "print(mat1+mat2)"
   ]
  },
  {
   "cell_type": "markdown",
   "metadata": {},
   "source": [
    "Q81.  Write the NumPy program to copy data from a given array to   another array? "
   ]
  },
  {
   "cell_type": "code",
   "execution_count": 138,
   "metadata": {},
   "outputs": [
    {
     "data": {
      "text/plain": [
       "array([1, 2, 3])"
      ]
     },
     "execution_count": 138,
     "metadata": {},
     "output_type": "execute_result"
    }
   ],
   "source": [
    "x = np.array([1, 2, 3])\n",
    "z = np.copy(x)\n",
    "z"
   ]
  },
  {
   "cell_type": "markdown",
   "metadata": {},
   "source": [
    "Q82.Write the NumPy program to calculate the sum of all columns of the 2D numpy array? "
   ]
  },
  {
   "cell_type": "code",
   "execution_count": 141,
   "metadata": {},
   "outputs": [
    {
     "name": "stdout",
     "output_type": "stream",
     "text": [
      "[[33  2  4 17]\n",
      " [44 16  7 38]\n",
      " [31 39 27  7]\n",
      " [29 39 44 17]]\n",
      "aaaaaaaaaaaaaaaaaaaaaaaaaaaaaaaaaaaaaaaaaaaaaaaaaa\n",
      "[137  96  82  79]\n"
     ]
    }
   ],
   "source": [
    "import numpy as np \n",
    "from numpy.random import randint as rn\n",
    "mat = np.array(rn(1,50,16)).reshape(4,4)\n",
    "print(mat)\n",
    "print('a'*50)\n",
    "print(mat.sum(axis=0))"
   ]
  },
  {
   "cell_type": "markdown",
   "metadata": {},
   "source": [
    "Q83.  Write the NumPy program to calculate averages without NaNs along the given array? "
   ]
  },
  {
   "cell_type": "code",
   "execution_count": 182,
   "metadata": {},
   "outputs": [
    {
     "name": "stdout",
     "output_type": "stream",
     "text": [
      "the orginal matrix with random and nan values: \n",
      " [[ 1.2879856  -0.95098591 -0.07445626 -0.92367556 -0.60547685 -1.27418563]\n",
      " [ 0.06183916  0.41918992 -1.12577611 -0.1983051  -1.2304127  -0.18348179]\n",
      " [ 0.53933342 -0.96303056 -0.6254832  -1.54072622  1.57155598  1.28726901]\n",
      " [-2.09578147 -1.1514922   1.81880004 -0.08180908  0.40852285  1.392023  ]\n",
      " [-1.93426759  0.81943004 -0.02774071 -0.48319616  0.51680212  0.49826694]]\n",
      "avreage of each columns excluding NaN values: \n",
      " [-0.42817818 -0.36537774 -0.00693125 -0.64554242  0.13219828  0.34397831]\n"
     ]
    }
   ],
   "source": [
    "import numpy as np \n",
    "from numpy.random import randn as rn\n",
    "mat = np.array(rn(30).reshape(5,6))\n",
    "mask = np.random.choice([1,0], mat.shape, p=[.1, .9]).astype(bool)\n",
    "mat[mask] = np.nan\n",
    "print('the orginal matrix with random and nan values: \\n {}'.format(mat))\n",
    "mat_avg = np.nanmean(mat,axis=0)\n",
    "print('avreage of each columns excluding NaN values: \\n {}'.format(mat_avg))"
   ]
  },
  {
   "cell_type": "code",
   "execution_count": null,
   "metadata": {},
   "outputs": [],
   "source": [
    "Q83.  Write the NumPy program to calculate averages without NaNs along the given array?   "
   ]
  },
  {
   "cell_type": "code",
   "execution_count": 186,
   "metadata": {},
   "outputs": [
    {
     "name": "stderr",
     "output_type": "stream",
     "text": [
      "C:\\ProgramData\\Anaconda3\\lib\\site-packages\\ipykernel_launcher.py:2: RuntimeWarning: Mean of empty slice\n",
      "  \n"
     ]
    },
    {
     "data": {
      "text/plain": [
       "array([20., 45.,  6., nan])"
      ]
     },
     "execution_count": 186,
     "metadata": {},
     "output_type": "execute_result"
    }
   ],
   "source": [
    "original_array = [[10, 20,30.], [40,50,np.nan], [np.nan, 6, np.nan] ,[np.nan,np.nan, np.nan]] \n",
    "avg = np.nanmean(original_array,axis=1)\n",
    "avg"
   ]
  },
  {
   "cell_type": "markdown",
   "metadata": {},
   "source": [
    "Q85. Write the NumPy program to convert a Python dictionary to a   Numpy ndarray ? "
   ]
  },
  {
   "cell_type": "code",
   "execution_count": 202,
   "metadata": {},
   "outputs": [
    {
     "data": {
      "text/plain": [
       "rec.array([(1.,  3.,  4.,  3.), (0.,  1.,  1., -1.), (0.,  0.,  5., -1.),\n",
       "           (2., -1., -1., -1.)],\n",
       "          dtype=[('f0', '<f8'), ('f1', '<f8'), ('f2', '<f8'), ('f3', '<f8')])"
      ]
     },
     "execution_count": 202,
     "metadata": {},
     "output_type": "execute_result"
    }
   ],
   "source": [
    "my_dict = {'column0': {'a': 1, 'b': 0.0, 'c': 0.0, 'd': 2.0}, 'column1': {'a': 3.0, 'b': 1, 'c': 0.0, 'd': -1.0}, 'column2': {'a': 4, 'b': 1, 'c': 5.0, 'd': -1.0}, 'column3': {'a': 3.0, 'b': -1.0, 'c': -1.0, 'd': -1.0}} \n",
    "x1 = np.array(list(my_dict['column0'].values()))\n",
    "x2 = np.array(list(my_dict['column1'].values()))\n",
    "x3 = np.array(list(my_dict['column2'].values()))\n",
    "x4 = np.array(list(my_dict['column3'].values()))\n",
    "result = np.core.records.fromarrays([x1,x2,x3,x4])\n",
    "result"
   ]
  },
  {
   "cell_type": "markdown",
   "metadata": {},
   "source": [
    "Q86. Write the Numpy program to find and store the non-zero unique rows in an array after comparing each row with other row in the  given matrix? "
   ]
  },
  {
   "cell_type": "code",
   "execution_count": 212,
   "metadata": {},
   "outputs": [
    {
     "data": {
      "text/plain": [
       "array([[ 1,  1,  0],\n",
       "       [ 0,  2,  3],\n",
       "       [ 0, -1,  1]])"
      ]
     },
     "execution_count": 212,
     "metadata": {},
     "output_type": "execute_result"
    }
   ],
   "source": [
    "original = np.array([[ 1, 1, 0],[ 0, 0, 0], [ 0, 2, 3], [ 0, 0, 0], [ 0, -1, 1], [ 0, 0, 0]] )\n",
    "original[np.any(original!= 0, axis=1)]"
   ]
  },
  {
   "cell_type": "markdown",
   "metadata": {},
   "source": [
    "Q87.  Write the NumPy program to multiply the matrix by another matrix of complex numbers and create a new matrix of complex numbers?   "
   ]
  },
  {
   "cell_type": "code",
   "execution_count": 213,
   "metadata": {},
   "outputs": [
    {
     "name": "stdout",
     "output_type": "stream",
     "text": [
      "First array:\n",
      "[1.+2.j 3.+4.j]\n",
      "Second array:\n",
      "[5.+6.j 7.+8.j]\n",
      "Product of above two arrays:\n",
      "(70-8j)\n"
     ]
    }
   ],
   "source": [
    "import numpy as np\n",
    "x = np.array([1+2j,3+4j])\n",
    "print(\"First array:\")\n",
    "print(x)\n",
    "y = np.array([5+6j,7+8j])\n",
    "print(\"Second array:\")\n",
    "print(y)\n",
    "z = np.vdot(x, y)\n",
    "print(\"Product of above two arrays:\")\n",
    "print(z)"
   ]
  },
  {
   "cell_type": "markdown",
   "metadata": {},
   "source": [
    "Q88. Write a NumPy program to generate the matrix product of two Arrays? "
   ]
  },
  {
   "cell_type": "code",
   "execution_count": 216,
   "metadata": {},
   "outputs": [
    {
     "name": "stdout",
     "output_type": "stream",
     "text": [
      "\n",
      "1st Matrix of random single-digit numbers\n",
      "\n",
      " [[2 4 2]\n",
      " [2 9 5]\n",
      " [2 1 2]]\n",
      "\n",
      "2nd Matrix of random single-digit numbers\n",
      "------------\n",
      " [[7 4 7]\n",
      " [7 2 2]\n",
      " [4 9 8]]\n",
      "\n",
      " product of 2 matrices: [[14 16 14]\n",
      " [14 18 10]\n",
      " [ 8  9 16]]\n"
     ]
    }
   ],
   "source": [
    "from numpy.random import randint as ri\n",
    "mat1 = np.array(ri(1,10,9)).reshape(3,3)\n",
    "mat2 = np.array(ri(1,10,9)).reshape(3,3)\n",
    "print(\"\\n1st Matrix of random single-digit numbers\\n\\n\",mat1)\n",
    "print(\"\\n2nd Matrix of random single-digit numbers\\n------------\\n\",mat2)\n",
    "print(\"\\n product of 2 matrices: {}\".format(mat1*mat2))"
   ]
  },
  {
   "cell_type": "markdown",
   "metadata": {},
   "source": [
    "Q89. Write the NumPy program to find roots of the following   Polynomials? a) (x2 - 4x + 7) b) x4 - 11x3 + 9x2 + 11x + 10 "
   ]
  },
  {
   "cell_type": "code",
   "execution_count": 4,
   "metadata": {},
   "outputs": [
    {
     "name": "stdout",
     "output_type": "stream",
     "text": [
      "root of the first poly expression: \n",
      "[2.+1.73205081j 2.-1.73205081j]\n",
      "root of the second poly expression: \n",
      "[ 9.97739366+0.j          1.9206355 +0.j         -0.44901458+0.56588568j\n",
      " -0.44901458-0.56588568j]\n"
     ]
    }
   ],
   "source": [
    "import numpy as np\n",
    "coeff1 = [1,-4,7]\n",
    "coeff2 = [1,-11,9,11,10]\n",
    "root1 = np.roots(coeff1)\n",
    "root2 = np.roots(coeff2)\n",
    "print('root of the first poly expression: \\n{}'.format(root1))\n",
    "print('root of the second poly expression: \\n{}'.format(root2))"
   ]
  },
  {
   "cell_type": "markdown",
   "metadata": {},
   "source": [
    "Q90. Write the NumPy program to calculate inverse of sine, cosine, and inverse tangent for all elements in a given array? "
   ]
  },
  {
   "cell_type": "code",
   "execution_count": 5,
   "metadata": {},
   "outputs": [
    {
     "name": "stdout",
     "output_type": "stream",
     "text": [
      "Inverse sine: [-1.57079633  0.          1.57079633]\n",
      "Inverse cosine: [3.14159265 1.57079633 0.        ]\n",
      "Inverse tangent: [-0.78539816  0.          0.78539816]\n"
     ]
    }
   ],
   "source": [
    "import numpy as np\n",
    "x = np.array([-1., 0, 1.])\n",
    "print(\"Inverse sine:\", np.arcsin(x))\n",
    "print(\"Inverse cosine:\", np.arccos(x))\n",
    "print(\"Inverse tangent:\", np.arctan(x))"
   ]
  },
  {
   "cell_type": "markdown",
   "metadata": {},
   "source": [
    "Q91. Write the NumPy program to calculate the difference between in neighbouring elements, element-wise of a given array?     "
   ]
  },
  {
   "cell_type": "code",
   "execution_count": 22,
   "metadata": {},
   "outputs": [
    {
     "name": "stdout",
     "output_type": "stream",
     "text": [
      "original array: \n",
      "[ 5  6  7  1  5 11 18]\n",
      "elemenwise diff array: \n",
      "[1, 1, -6, 4, 6, 7]\n"
     ]
    }
   ],
   "source": [
    "from numpy.random import randint as ri\n",
    "arr = np.array([5,6,7,1,5,11,18])\n",
    "print('original array: \\n{}'.format(arr))\n",
    "diffarr = []\n",
    "for i in range(1,7):\n",
    "    temp= arr[i] - arr[i-1]\n",
    "    diffarr.append(temp)\n",
    "print('elemenwise diff array: \\n{}'.format(diffarr))  \n",
    "    "
   ]
  },
  {
   "cell_type": "markdown",
   "metadata": {},
   "source": [
    "Q92. Write the Python program to find the maximum and the minimum   value of a given flattened array? "
   ]
  },
  {
   "cell_type": "code",
   "execution_count": 27,
   "metadata": {},
   "outputs": [
    {
     "name": "stdout",
     "output_type": "stream",
     "text": [
      "levelled: [21 27 10 22 22  5 30 14]\n",
      "max: 30\n",
      "max: 5\n"
     ]
    }
   ],
   "source": [
    "from numpy.random import randint as ri\n",
    "mat1 = np.array(ri(1,50,8)).reshape(4,2)\n",
    "print('levelled: {}'.format(mat1.ravel()))\n",
    "print('max: {}'.format(mat1.max()))\n",
    "print('max: {}'.format(mat1.min()))"
   ]
  },
  {
   "cell_type": "markdown",
   "metadata": {},
   "source": [
    "Q93. Write the NumPy program to calculate the difference between in the maximum and the minimum values of a given array along the second axis ?   "
   ]
  },
  {
   "cell_type": "code",
   "execution_count": 34,
   "metadata": {},
   "outputs": [
    {
     "name": "stdout",
     "output_type": "stream",
     "text": [
      "[[42 38 19  7 31]\n",
      " [42 13  3 14 26]]\n",
      "[35 39]\n"
     ]
    }
   ],
   "source": [
    "from numpy.random import randint as ri\n",
    "mat1 = np.array(ri(1,50,10)).reshape(2,5)\n",
    "print(mat1)\n",
    "print(mat1.max(axis=1) - mat1.min(axis=1))"
   ]
  },
  {
   "cell_type": "markdown",
   "metadata": {},
   "source": [
    "Q94. Write the NumPy program to compute the weighted of the given array ?  "
   ]
  },
  {
   "cell_type": "code",
   "execution_count": 40,
   "metadata": {},
   "outputs": [
    {
     "name": "stdout",
     "output_type": "stream",
     "text": [
      "the weighted average: 39.09090909090909\n"
     ]
    }
   ],
   "source": [
    "from numpy.random import randint as ri\n",
    "mat = np.array(ri(1,50,5)).reshape(1,5)\n",
    "weights = np.array(ri(1,5,5)).reshape(1,5)\n",
    "print('the weighted average: {}'.format(np.average(mat, axis=1, weights=weights)[0]))"
   ]
  },
  {
   "cell_type": "markdown",
   "metadata": {},
   "source": [
    "Q95. Write the NumPy program to compute the mean, standard deviation, and the variance of a given array along the second  axis?   "
   ]
  },
  {
   "cell_type": "code",
   "execution_count": 45,
   "metadata": {},
   "outputs": [
    {
     "name": "stdout",
     "output_type": "stream",
     "text": [
      "original array: [21 14 10 10  3]\n",
      "average: 11.6\n",
      "std: 5.885575587824865\n",
      "variance: 34.64\n"
     ]
    }
   ],
   "source": [
    "from numpy.random import randint as ri\n",
    "mat = np.array(ri(1,50,5)).reshape(1,5)\n",
    "print('original array: {}'.format(mat[0]))\n",
    "print('average: {}'.format(np.average(mat, axis=1)[0]))\n",
    "print('std: {}'.format(np.std(mat, axis=1)[0]))\n",
    "print('variance: {}'.format(np.var(mat, axis=1)[0]))\n"
   ]
  },
  {
   "cell_type": "markdown",
   "metadata": {},
   "source": [
    "Q96. Write the Numpy program to compute the covariance matrix of the two given arrays?   "
   ]
  },
  {
   "cell_type": "code",
   "execution_count": 48,
   "metadata": {},
   "outputs": [
    {
     "name": "stdout",
     "output_type": "stream",
     "text": [
      "the transposed matrix: \n",
      "[[0 1 2]\n",
      " [2 1 0]]\n",
      "as x incrases across each row the cov incraeses\n",
      "the cov matrix: \n",
      "[[ 1. -1.]\n",
      " [-1.  1.]]\n"
     ]
    }
   ],
   "source": [
    "x = np.array([[0, 2], [1, 1], [2, 0]]).T\n",
    "print('the transposed matrix: \\n{}'.format(x))\n",
    "print('as x incrases across each row the cov increases')\n",
    "print('the cov matrix: \\n{}'.format(np.cov(x)))"
   ]
  },
  {
   "cell_type": "markdown",
   "metadata": {},
   "source": [
    "Q98. Write the NumPy program to compute Pearson product-moment correlation coefficients of two given arrays? "
   ]
  },
  {
   "cell_type": "code",
   "execution_count": 50,
   "metadata": {},
   "outputs": [
    {
     "data": {
      "text/plain": [
       "array([[1.        , 0.05376053],\n",
       "       [0.05376053, 1.        ]])"
      ]
     },
     "execution_count": 50,
     "metadata": {},
     "output_type": "execute_result"
    }
   ],
   "source": [
    "mat1 = np.array(ri(1,50,5)).reshape(1,5) \n",
    "mat2 = np.array(ri(1,50,5)).reshape(1,5) \n",
    "np.corrcoef(mat1, mat2)"
   ]
  },
  {
   "cell_type": "markdown",
   "metadata": {},
   "source": [
    "Q99. Write the python program to count the number of occurrences of each value in a given array of non-negative integers?   "
   ]
  },
  {
   "cell_type": "code",
   "execution_count": 53,
   "metadata": {},
   "outputs": [
    {
     "name": "stdout",
     "output_type": "stream",
     "text": [
      "original array: [0 1 6 1 4 1 2 2 7]\n",
      "array counting number of occurances: [1 3 2 0 1 0 1 1]\n"
     ]
    }
   ],
   "source": [
    "arr = np.array([0, 1, 6, 1, 4, 1, 2, 2, 7] )\n",
    "print('original array: {}'.format(arr))\n",
    "print('array counting number of occurances: {}'.format(np.bincount(arr))) "
   ]
  },
  {
   "cell_type": "markdown",
   "metadata": {},
   "source": [
    "Q100. Write a Numpy program to compute the histogram of nums against the bins? "
   ]
  },
  {
   "cell_type": "code",
   "execution_count": 59,
   "metadata": {},
   "outputs": [
    {
     "data": {
      "text/plain": [
       "(array([2., 3., 1.]), array([0, 1, 2, 3]), <a list of 3 Patch objects>)"
      ]
     },
     "execution_count": 59,
     "metadata": {},
     "output_type": "execute_result"
    },
    {
     "data": {
      "image/png": "[encoded data removed]",
      "text/plain": [
       "<Figure size 432x288 with 1 Axes>"
      ]
     },
     "metadata": {
      "needs_background": "light"
     },
     "output_type": "display_data"
    }
   ],
   "source": [
    "import matplotlib.pyplot as plt\n",
    "%matplotlib inline\n",
    "import numpy as np\n",
    "nums= np.array([0.5, 0.7, 1.0, 1.2, 1.3, 2.1])\n",
    "bins = [0, 1, 2, 3] \n",
    "plt.hist(nums,bins=bins,edgecolor='black')"
   ]
  },
  {
   "cell_type": "markdown",
   "metadata": {},
   "source": [
    "Q101. Write the Python program to add, subtract, multiply and divide two pandas series ? "
   ]
  },
  {
   "cell_type": "code",
   "execution_count": 72,
   "metadata": {},
   "outputs": [
    {
     "name": "stdout",
     "output_type": "stream",
     "text": [
      "ser1: \n",
      "0   -1.229566\n",
      "1   -0.004384\n",
      "2    0.684963\n",
      "3    1.044512\n",
      "4    0.452699\n",
      "dtype: float64\n",
      "vvvvvvvvvvvvvvvvvvvvvvvvvvvvvvvvvvvvvvvvvvvvvvvvvvvvvvvvvvvvvvvvv\n",
      "ser1: \n",
      "0   -1.064280\n",
      "1   -0.025265\n",
      "2    0.167313\n",
      "3   -0.691726\n",
      "4    0.129973\n",
      "dtype: float64\n",
      "vvvvvvvvvvvvvvvvvvvvvvvvvvvvvvvvvvvvvvvvvvvvvvvvvvvvvvvvvvvvvvvvv\n",
      "add: \n",
      "0   -2.293847\n",
      "1   -0.029649\n",
      "2    0.852276\n",
      "3    0.352786\n",
      "4    0.582671\n",
      "dtype: float64\n",
      "vvvvvvvvvvvvvvvvvvvvvvvvvvvvvvvvvvvvvvvvvvvvvvvvvvvvvvvvvvvvvvvvv\n",
      "subract: \n",
      "0   -0.165286\n",
      "1    0.020881\n",
      "2    0.517650\n",
      "3    1.736238\n",
      "4    0.322726\n",
      "dtype: float64\n",
      "vvvvvvvvvvvvvvvvvvvvvvvvvvvvvvvvvvvvvvvvvvvvvvvvvvvvvvvvvvvvvvvvv\n",
      "mul: \n",
      "0    1.308603\n",
      "1    0.000111\n",
      "2    0.114603\n",
      "3   -0.722516\n",
      "4    0.058838\n",
      "dtype: float64\n",
      "vvvvvvvvvvvvvvvvvvvvvvvvvvvvvvvvvvvvvvvvvvvvvvvvvvvvvvvvvvvvvvvvv\n",
      "div: \n",
      "0    1.155303\n",
      "1    0.173514\n",
      "2    4.093898\n",
      "3   -1.510009\n",
      "4    3.483034\n",
      "dtype: float64\n"
     ]
    }
   ],
   "source": [
    "import numpy as np\n",
    "import pandas as pd\n",
    "from numpy.random import randn\n",
    "ser1 = pd.Series(randn(5), index = np.arange(0,5))\n",
    "ser2 = pd.Series(randn(5), index = np.arange(0,5))\n",
    "print('ser1: \\n{}'.format(ser1))\n",
    "print('v'*65)\n",
    "print('ser1: \\n{}'.format(ser2))\n",
    "print('v'*65)\n",
    "print('add: \\n{}'.format(ser1+ser2))\n",
    "print('v'*65)\n",
    "print('subract: \\n{}'.format(ser1-ser2))\n",
    "print('v'*65)\n",
    "print('mul: \\n{}'.format(ser1*ser2))\n",
    "print('v'*65)\n",
    "print('div: \\n{}'.format(ser1/ser2))"
   ]
  },
  {
   "cell_type": "markdown",
   "metadata": {},
   "source": [
    "Q102. Write a Python program to convert a dictionary to the Pandas Series? "
   ]
  },
  {
   "cell_type": "code",
   "execution_count": 81,
   "metadata": {},
   "outputs": [
    {
     "data": {
      "text/plain": [
       "a    100\n",
       "b    200\n",
       "c    300\n",
       "d    400\n",
       "e    800\n",
       "dtype: int64"
      ]
     },
     "execution_count": 81,
     "metadata": {},
     "output_type": "execute_result"
    }
   ],
   "source": [
    "my_dict = {'a': 100, 'b': 200, 'c': 300, 'd': 400, 'e': 800}\n",
    "ser = pd.Series(list(my_dict.values()), index = my_dict.keys())\n",
    "ser"
   ]
  },
  {
   "cell_type": "markdown",
   "metadata": {},
   "source": [
    "Q103. Write a python program to change the data type of given a column or a Series?  "
   ]
  },
  {
   "cell_type": "code",
   "execution_count": 90,
   "metadata": {},
   "outputs": [
    {
     "name": "stdout",
     "output_type": "stream",
     "text": [
      "series: \n",
      "0       100\n",
      "1       200\n",
      "2    python\n",
      "3    300.12\n",
      "4       400\n",
      "dtype: object\n",
      "using ignore and changing dtype: \n",
      "0       100\n",
      "1       200\n",
      "2    python\n",
      "3    300.12\n",
      "4       400\n",
      "dtype: object\n",
      "using coerce and changing dtype: \n",
      "0    100.00\n",
      "1    200.00\n",
      "2       NaN\n",
      "3    300.12\n",
      "4    400.00\n",
      "dtype: float64\n"
     ]
    }
   ],
   "source": [
    "lst = [100,200,'python', 300.12,400]\n",
    "ser1 = pd.Series(lst, index = np.arange(len(lst)))\n",
    "print('series: \\n{}'.format(ser1))\n",
    "print('using ignore and changing dtype: \\n{}'.format(pd.to_numeric(ser1, errors='ignore')))\n",
    "print('using coerce and changing dtype: \\n{}'.format(pd.to_numeric(ser1, errors='coerce')))"
   ]
  },
  {
   "cell_type": "markdown",
   "metadata": {},
   "source": [
    "Q104. Write the python pandas program to convert the first column of a DataFrame as a Series?   "
   ]
  },
  {
   "cell_type": "code",
   "execution_count": 5,
   "metadata": {},
   "outputs": [
    {
     "name": "stdout",
     "output_type": "stream",
     "text": [
      "Dataframe:\n",
      "   col1  col2  col3  col4\n",
      "0    36    26    25    40\n",
      "1    47    34    46    16\n",
      "2    18    25    19     4\n",
      "3    49    12     1    26\n",
      "Series:\n",
      "0    36\n",
      "1    47\n",
      "2    18\n",
      "3    49\n",
      "Name: col1, dtype: int32\n"
     ]
    }
   ],
   "source": [
    "import numpy as np \n",
    "import pandas as pd\n",
    "from numpy.random import randint as rn\n",
    "mat = np.array(rn(1,50,16)).reshape(4,4)\n",
    "df = pd.DataFrame(mat, columns=['col1','col2','col3','col4'])\n",
    "print('Dataframe:\\n{}'.format(df))\n",
    "ser = pd.Series(df['col1'])\n",
    "print('Series:\\n{}'.format(ser))"
   ]
  },
  {
   "cell_type": "markdown",
   "metadata": {},
   "source": [
    "Q105. Write a pandas program to create the mean and standard deviation of the data of a given Series? "
   ]
  },
  {
   "cell_type": "code",
   "execution_count": 14,
   "metadata": {},
   "outputs": [
    {
     "name": "stdout",
     "output_type": "stream",
     "text": [
      "series:\n",
      "0   -1.212709\n",
      "1    0.474053\n",
      "2    0.615342\n",
      "3   -0.438336\n",
      "4   -3.266877\n",
      "5    1.249964\n",
      "6    1.509514\n",
      "7   -0.498197\n",
      "8   -0.336094\n",
      "9    0.165201\n",
      "dtype: float64\n",
      "mean:\n",
      "-0.17381367771565132\n",
      "std:\n",
      "1.3689427315476927\n"
     ]
    }
   ],
   "source": [
    "from numpy.random import randn\n",
    "ser1 = pd.Series(randn(10), index = np.arange(0,10))\n",
    "print('series:\\n{}'.format(ser1))\n",
    "print('mean:\\n{}'.format(ser1.mean()))\n",
    "print('std:\\n{}'.format(ser1.std())) "
   ]
  },
  {
   "cell_type": "markdown",
   "metadata": {},
   "source": [
    "Q106. Write a pandas program to get powers of an array values element-wise? "
   ]
  },
  {
   "cell_type": "code",
   "execution_count": 16,
   "metadata": {},
   "outputs": [
    {
     "data": {
      "text/html": [
       "<div>\n",
       "<style scoped>\n",
       "    .dataframe tbody tr th:only-of-type {\n",
       "        vertical-align: middle;\n",
       "    }\n",
       "\n",
       "    .dataframe tbody tr th {\n",
       "        vertical-align: top;\n",
       "    }\n",
       "\n",
       "    .dataframe thead th {\n",
       "        text-align: right;\n",
       "    }\n",
       "</style>\n",
       "<table border=\"1\" class=\"dataframe\">\n",
       "  <thead>\n",
       "    <tr style=\"text-align: right;\">\n",
       "      <th></th>\n",
       "      <th>X</th>\n",
       "      <th>Y</th>\n",
       "      <th>Z</th>\n",
       "    </tr>\n",
       "  </thead>\n",
       "  <tbody>\n",
       "    <tr>\n",
       "      <td>0</td>\n",
       "      <td>78</td>\n",
       "      <td>84</td>\n",
       "      <td>86</td>\n",
       "    </tr>\n",
       "    <tr>\n",
       "      <td>1</td>\n",
       "      <td>85</td>\n",
       "      <td>94</td>\n",
       "      <td>97</td>\n",
       "    </tr>\n",
       "    <tr>\n",
       "      <td>2</td>\n",
       "      <td>96</td>\n",
       "      <td>89</td>\n",
       "      <td>96</td>\n",
       "    </tr>\n",
       "    <tr>\n",
       "      <td>3</td>\n",
       "      <td>80</td>\n",
       "      <td>83</td>\n",
       "      <td>72</td>\n",
       "    </tr>\n",
       "    <tr>\n",
       "      <td>4</td>\n",
       "      <td>86</td>\n",
       "      <td>86</td>\n",
       "      <td>83</td>\n",
       "    </tr>\n",
       "  </tbody>\n",
       "</table>\n",
       "</div>"
      ],
      "text/plain": [
       "   X    Y    Z\n",
       "0  78   84  86\n",
       "1  85   94  97\n",
       "2  96   89  96\n",
       "3  80   83  72\n",
       "4  86   86  83"
      ]
     },
     "execution_count": 16,
     "metadata": {},
     "output_type": "execute_result"
    }
   ],
   "source": [
    "my_dict = {'X ':[78,85,96,80,86], ' Y ':[84,94,89,83,86],'Z':[86,97,96,72,83]} \n",
    "df = pd.DataFrame(my_dict)\n",
    "df"
   ]
  },
  {
   "cell_type": "markdown",
   "metadata": {},
   "source": [
    "Q107. Write the pandas program to get the first 3 rows of a given DataFrame? "
   ]
  },
  {
   "cell_type": "code",
   "execution_count": 19,
   "metadata": {},
   "outputs": [
    {
     "data": {
      "text/html": [
       "<div>\n",
       "<style scoped>\n",
       "    .dataframe tbody tr th:only-of-type {\n",
       "        vertical-align: middle;\n",
       "    }\n",
       "\n",
       "    .dataframe tbody tr th {\n",
       "        vertical-align: top;\n",
       "    }\n",
       "\n",
       "    .dataframe thead th {\n",
       "        text-align: right;\n",
       "    }\n",
       "</style>\n",
       "<table border=\"1\" class=\"dataframe\">\n",
       "  <thead>\n",
       "    <tr style=\"text-align: right;\">\n",
       "      <th></th>\n",
       "      <th>name</th>\n",
       "      <th>score</th>\n",
       "      <th>attempts</th>\n",
       "      <th>qualify</th>\n",
       "    </tr>\n",
       "  </thead>\n",
       "  <tbody>\n",
       "    <tr>\n",
       "      <td>a</td>\n",
       "      <td>Anastasia</td>\n",
       "      <td>12.5</td>\n",
       "      <td>1</td>\n",
       "      <td>yes</td>\n",
       "    </tr>\n",
       "    <tr>\n",
       "      <td>b</td>\n",
       "      <td>Dima</td>\n",
       "      <td>9.0</td>\n",
       "      <td>3</td>\n",
       "      <td>no</td>\n",
       "    </tr>\n",
       "    <tr>\n",
       "      <td>c</td>\n",
       "      <td>Katherine</td>\n",
       "      <td>16.5</td>\n",
       "      <td>2</td>\n",
       "      <td>yes</td>\n",
       "    </tr>\n",
       "  </tbody>\n",
       "</table>\n",
       "</div>"
      ],
      "text/plain": [
       "        name  score  attempts qualify\n",
       "a  Anastasia   12.5         1     yes\n",
       "b       Dima    9.0         3      no\n",
       "c  Katherine   16.5         2     yes"
      ]
     },
     "execution_count": 19,
     "metadata": {},
     "output_type": "execute_result"
    }
   ],
   "source": [
    "exam_data = pd.DataFrame({'name': ['Anastasia', 'Dima', 'Katherine', 'James', 'Emily', 'Michael', 'Matthew', 'Laura', 'Kevin', 'Jonas'], \n",
    "             'score': [12.5, 9, 16.5, np.nan, 9, 20, 14.5, np.nan, 8, 19], \n",
    "             'attempts': [1, 3, 2, 3, 2, 3, 1, 1, 2, 1], \n",
    "             'qualify': [ 'yes', 'no', 'yes' , 'no', ' no ', ' yes ', 'yes', 'no',  'no',  'yes' ] }, index = ['a', 'b', 'c', 'd', 'e', 'f', 'g', 'h', 'i', 'j' ])\n",
    "exam_data.head(3)"
   ]
  },
  {
   "cell_type": "markdown",
   "metadata": {},
   "source": [
    "Q108:  Write the pandas program to select the specified columns and the rows from a given data frame? "
   ]
  },
  {
   "cell_type": "code",
   "execution_count": 22,
   "metadata": {},
   "outputs": [
    {
     "data": {
      "text/html": [
       "<div>\n",
       "<style scoped>\n",
       "    .dataframe tbody tr th:only-of-type {\n",
       "        vertical-align: middle;\n",
       "    }\n",
       "\n",
       "    .dataframe tbody tr th {\n",
       "        vertical-align: top;\n",
       "    }\n",
       "\n",
       "    .dataframe thead th {\n",
       "        text-align: right;\n",
       "    }\n",
       "</style>\n",
       "<table border=\"1\" class=\"dataframe\">\n",
       "  <thead>\n",
       "    <tr style=\"text-align: right;\">\n",
       "      <th></th>\n",
       "      <th>name</th>\n",
       "      <th>score</th>\n",
       "    </tr>\n",
       "  </thead>\n",
       "  <tbody>\n",
       "    <tr>\n",
       "      <td>c</td>\n",
       "      <td>Katherine</td>\n",
       "      <td>16.5</td>\n",
       "    </tr>\n",
       "    <tr>\n",
       "      <td>d</td>\n",
       "      <td>James</td>\n",
       "      <td>NaN</td>\n",
       "    </tr>\n",
       "    <tr>\n",
       "      <td>e</td>\n",
       "      <td>Emily</td>\n",
       "      <td>9.0</td>\n",
       "    </tr>\n",
       "  </tbody>\n",
       "</table>\n",
       "</div>"
      ],
      "text/plain": [
       "        name  score\n",
       "c  Katherine   16.5\n",
       "d      James    NaN\n",
       "e      Emily    9.0"
      ]
     },
     "execution_count": 22,
     "metadata": {},
     "output_type": "execute_result"
    }
   ],
   "source": [
    "exam_data[['name','score']].iloc[2:5]"
   ]
  },
  {
   "cell_type": "markdown",
   "metadata": {},
   "source": [
    "Q109. Write the pandas program to calculate mean score for each different student in DataFrame?  "
   ]
  },
  {
   "cell_type": "code",
   "execution_count": 25,
   "metadata": {},
   "outputs": [
    {
     "data": {
      "text/plain": [
       "13.5625"
      ]
     },
     "execution_count": 25,
     "metadata": {},
     "output_type": "execute_result"
    }
   ],
   "source": [
    "# from exam_data we can deduce that the Nan can be replaced by a score of 9 as both James and Laura didnt qualify\n",
    "exam_data.fillna(9)\n",
    "exam_data['score'].mean()"
   ]
  },
  {
   "cell_type": "markdown",
   "metadata": {},
   "source": [
    "Q110. Write the Pandas program to rename columns of a given DataFrame "
   ]
  },
  {
   "cell_type": "code",
   "execution_count": 29,
   "metadata": {},
   "outputs": [
    {
     "data": {
      "text/html": [
       "<div>\n",
       "<style scoped>\n",
       "    .dataframe tbody tr th:only-of-type {\n",
       "        vertical-align: middle;\n",
       "    }\n",
       "\n",
       "    .dataframe tbody tr th {\n",
       "        vertical-align: top;\n",
       "    }\n",
       "\n",
       "    .dataframe thead th {\n",
       "        text-align: right;\n",
       "    }\n",
       "</style>\n",
       "<table border=\"1\" class=\"dataframe\">\n",
       "  <thead>\n",
       "    <tr style=\"text-align: right;\">\n",
       "      <th></th>\n",
       "      <th>student_name</th>\n",
       "      <th>marks</th>\n",
       "      <th>no. of tries</th>\n",
       "      <th>passed</th>\n",
       "    </tr>\n",
       "  </thead>\n",
       "  <tbody>\n",
       "    <tr>\n",
       "      <td>a</td>\n",
       "      <td>Anastasia</td>\n",
       "      <td>12.5</td>\n",
       "      <td>1</td>\n",
       "      <td>yes</td>\n",
       "    </tr>\n",
       "    <tr>\n",
       "      <td>b</td>\n",
       "      <td>Dima</td>\n",
       "      <td>9.0</td>\n",
       "      <td>3</td>\n",
       "      <td>no</td>\n",
       "    </tr>\n",
       "    <tr>\n",
       "      <td>c</td>\n",
       "      <td>Katherine</td>\n",
       "      <td>16.5</td>\n",
       "      <td>2</td>\n",
       "      <td>yes</td>\n",
       "    </tr>\n",
       "    <tr>\n",
       "      <td>d</td>\n",
       "      <td>James</td>\n",
       "      <td>NaN</td>\n",
       "      <td>3</td>\n",
       "      <td>no</td>\n",
       "    </tr>\n",
       "    <tr>\n",
       "      <td>e</td>\n",
       "      <td>Emily</td>\n",
       "      <td>9.0</td>\n",
       "      <td>2</td>\n",
       "      <td>no</td>\n",
       "    </tr>\n",
       "  </tbody>\n",
       "</table>\n",
       "</div>"
      ],
      "text/plain": [
       "  student_name  marks  no. of tries passed\n",
       "a    Anastasia   12.5             1    yes\n",
       "b         Dima    9.0             3     no\n",
       "c    Katherine   16.5             2    yes\n",
       "d        James    NaN             3     no\n",
       "e        Emily    9.0             2    no "
      ]
     },
     "execution_count": 29,
     "metadata": {},
     "output_type": "execute_result"
    }
   ],
   "source": [
    "df = exam_data.rename({'name': 'student_name','score': 'marks','attempts': 'no. of tries', 'qualify':'passed'},axis='columns')\n",
    "df.head()"
   ]
  },
  {
   "cell_type": "markdown",
   "metadata": {},
   "source": [
    "Q112. Write a pandas program to widen output display to see more columns? "
   ]
  },
  {
   "cell_type": "code",
   "execution_count": 30,
   "metadata": {},
   "outputs": [],
   "source": [
    "pd.pandas.set_option('display.max_columns', None)"
   ]
  },
  {
   "cell_type": "markdown",
   "metadata": {},
   "source": [
    "Q113. Write a pandas program to convert the data frame column type from string to DateTime?   "
   ]
  },
  {
   "cell_type": "code",
   "execution_count": 39,
   "metadata": {},
   "outputs": [
    {
     "name": "stdout",
     "output_type": "stream",
     "text": [
      "original DF: \n",
      "        Date\n",
      "0  3/11/2000\n",
      "1  3/12/2000\n",
      "2  3/13/2000\n",
      "casted datetime: 0   2000-03-11\n",
      "1   2000-03-12\n",
      "2   2000-03-13\n",
      "Name: Date, dtype: datetime64[ns]\n"
     ]
    }
   ],
   "source": [
    "Date = ['3/11/2000','3/12/2000','3/13/2000']\n",
    "df = pd.DataFrame(Date, index = range(len(Date)), columns = ['Date'])\n",
    "print('original DF: \\n{}'.format(df))\n",
    "print('casted datetime: {}'.format(pd.to_datetime(df['Date'])))\n"
   ]
  },
  {
   "cell_type": "markdown",
   "metadata": {},
   "source": [
    "Q114. Write a pandas program to append the data to an empty DataFrame? "
   ]
  },
  {
   "cell_type": "code",
   "execution_count": 45,
   "metadata": {
    "scrolled": true
   },
   "outputs": [
    {
     "data": {
      "text/html": [
       "<div>\n",
       "<style scoped>\n",
       "    .dataframe tbody tr th:only-of-type {\n",
       "        vertical-align: middle;\n",
       "    }\n",
       "\n",
       "    .dataframe tbody tr th {\n",
       "        vertical-align: top;\n",
       "    }\n",
       "\n",
       "    .dataframe thead th {\n",
       "        text-align: right;\n",
       "    }\n",
       "</style>\n",
       "<table border=\"1\" class=\"dataframe\">\n",
       "  <thead>\n",
       "    <tr style=\"text-align: right;\">\n",
       "      <th></th>\n",
       "      <th>col 1</th>\n",
       "      <th>col 2</th>\n",
       "    </tr>\n",
       "  </thead>\n",
       "  <tbody>\n",
       "    <tr>\n",
       "      <td>0</td>\n",
       "      <td>10</td>\n",
       "      <td>-1.515398</td>\n",
       "    </tr>\n",
       "    <tr>\n",
       "      <td>1</td>\n",
       "      <td>11</td>\n",
       "      <td>0.086646</td>\n",
       "    </tr>\n",
       "    <tr>\n",
       "      <td>2</td>\n",
       "      <td>12</td>\n",
       "      <td>-0.467977</td>\n",
       "    </tr>\n",
       "    <tr>\n",
       "      <td>3</td>\n",
       "      <td>13</td>\n",
       "      <td>-0.488746</td>\n",
       "    </tr>\n",
       "    <tr>\n",
       "      <td>4</td>\n",
       "      <td>14</td>\n",
       "      <td>-2.391850</td>\n",
       "    </tr>\n",
       "    <tr>\n",
       "      <td>5</td>\n",
       "      <td>15</td>\n",
       "      <td>-1.021091</td>\n",
       "    </tr>\n",
       "    <tr>\n",
       "      <td>6</td>\n",
       "      <td>16</td>\n",
       "      <td>-0.472960</td>\n",
       "    </tr>\n",
       "  </tbody>\n",
       "</table>\n",
       "</div>"
      ],
      "text/plain": [
       "   col 1     col 2\n",
       "0     10 -1.515398\n",
       "1     11  0.086646\n",
       "2     12 -0.467977\n",
       "3     13 -0.488746\n",
       "4     14 -2.391850\n",
       "5     15 -1.021091\n",
       "6     16 -0.472960"
      ]
     },
     "execution_count": 45,
     "metadata": {},
     "output_type": "execute_result"
    }
   ],
   "source": [
    "df = pd.DataFrame()\n",
    "data = pd.DataFrame({'col 1': np.arange(10,17), 'col 2': randn(7)})\n",
    "df = df.append(data)\n",
    "df"
   ]
  },
  {
   "cell_type": "markdown",
   "metadata": {},
   "source": [
    "Q115. Write a pandas program to count the number of columns of a DataFrame? "
   ]
  },
  {
   "cell_type": "code",
   "execution_count": 48,
   "metadata": {},
   "outputs": [
    {
     "name": "stdout",
     "output_type": "stream",
     "text": [
      "number of columns in titanic data shape is: 12\n"
     ]
    }
   ],
   "source": [
    "titanic_train = pd.read_csv(\"https://gist.githubusercontent.com/michhar/2dfd2de0d4f8727f873422c5d959fff5/raw/ff414a1bcfcba32481e4d4e8db578e55872a2ca1/titanic.csv\",\n",
    "                           sep='\\t')   \n",
    "print('number of columns in titanic data shape is: {}'.format(titanic_train.shape[1]))"
   ]
  },
  {
   "cell_type": "code",
   "execution_count": null,
   "metadata": {},
   "outputs": [],
   "source": [
    "Q116. Write a Pandas program to remove the last n rows of a given DataFrame ? "
   ]
  },
  {
   "cell_type": "code",
   "execution_count": 63,
   "metadata": {},
   "outputs": [
    {
     "name": "stdout",
     "output_type": "stream",
     "text": [
      "original dataframe: \n",
      "        name  score  attempts qualify\n",
      "a  Anastasia   12.5         1     yes\n",
      "b       Dima    9.0         3      no\n",
      "c  Katherine   16.5         2     yes\n",
      "d      James    NaN         3      no\n",
      "e      Emily    9.0         2     no \n",
      "f    Michael   20.0         3    yes \n",
      "g    Matthew   14.5         1     yes\n",
      "h      Laura    NaN         1      no\n",
      "i      Kevin    8.0         2      no\n",
      "j      Jonas   19.0         1     yes\n",
      "sliced dataframe: \n",
      "        name  score  attempts qualify\n",
      "a  Anastasia   12.5         1     yes\n",
      "b       Dima    9.0         3      no\n",
      "c  Katherine   16.5         2     yes\n",
      "d      James    NaN         3      no\n",
      "e      Emily    9.0         2     no \n"
     ]
    }
   ],
   "source": [
    "#original dataframe\n",
    "print('original dataframe: \\n{}'.format(exam_data))\n",
    "#selecting the part to remove\n",
    "print('sliced dataframe: \\n{}'.format(exam_data.iloc[:-5,:]))"
   ]
  },
  {
   "cell_type": "markdown",
   "metadata": {},
   "source": [
    "Q117. Write a Pandas program to import excel data (coalpublic2013.xlsx ) into a Pandas data frame.  "
   ]
  },
  {
   "cell_type": "code",
   "execution_count": 66,
   "metadata": {},
   "outputs": [
    {
     "data": {
      "text/html": [
       "<div>\n",
       "<style scoped>\n",
       "    .dataframe tbody tr th:only-of-type {\n",
       "        vertical-align: middle;\n",
       "    }\n",
       "\n",
       "    .dataframe tbody tr th {\n",
       "        vertical-align: top;\n",
       "    }\n",
       "\n",
       "    .dataframe thead th {\n",
       "        text-align: right;\n",
       "    }\n",
       "</style>\n",
       "<table border=\"1\" class=\"dataframe\">\n",
       "  <thead>\n",
       "    <tr style=\"text-align: right;\">\n",
       "      <th></th>\n",
       "      <th>Unnamed: 0</th>\n",
       "      <th>a</th>\n",
       "      <th>b</th>\n",
       "      <th>c</th>\n",
       "      <th>d</th>\n",
       "      <th>message</th>\n",
       "    </tr>\n",
       "  </thead>\n",
       "  <tbody>\n",
       "    <tr>\n",
       "      <td>0</td>\n",
       "      <td>0</td>\n",
       "      <td>1</td>\n",
       "      <td>2</td>\n",
       "      <td>3</td>\n",
       "      <td>4</td>\n",
       "      <td>hello</td>\n",
       "    </tr>\n",
       "    <tr>\n",
       "      <td>1</td>\n",
       "      <td>1</td>\n",
       "      <td>5</td>\n",
       "      <td>6</td>\n",
       "      <td>7</td>\n",
       "      <td>8</td>\n",
       "      <td>world</td>\n",
       "    </tr>\n",
       "    <tr>\n",
       "      <td>2</td>\n",
       "      <td>2</td>\n",
       "      <td>9</td>\n",
       "      <td>10</td>\n",
       "      <td>11</td>\n",
       "      <td>12</td>\n",
       "      <td>foo</td>\n",
       "    </tr>\n",
       "  </tbody>\n",
       "</table>\n",
       "</div>"
      ],
      "text/plain": [
       "   Unnamed: 0  a   b   c   d message\n",
       "0           0  1   2   3   4   hello\n",
       "1           1  5   6   7   8   world\n",
       "2           2  9  10  11  12     foo"
      ]
     },
     "execution_count": 66,
     "metadata": {},
     "output_type": "execute_result"
    }
   ],
   "source": [
    "draft = pd.read_excel('C:\\\\Users\\\\140524\\Desktop\\\\Can_Instructure\\\\assignments\\\\PANDAS\\\\code_pandas1\\\\examples\\\\ex1.xlsx') \n",
    "draft.head()"
   ]
  },
  {
   "cell_type": "markdown",
   "metadata": {},
   "source": [
    "Q118. Write a Pandas program to import excel data (coalpublic2013.xlsx   ) into a data frame and find details where \"Mine Name\" starts with   \"P. "
   ]
  },
  {
   "cell_type": "code",
   "execution_count": 77,
   "metadata": {},
   "outputs": [
    {
     "data": {
      "text/html": [
       "<div>\n",
       "<style scoped>\n",
       "    .dataframe tbody tr th:only-of-type {\n",
       "        vertical-align: middle;\n",
       "    }\n",
       "\n",
       "    .dataframe tbody tr th {\n",
       "        vertical-align: top;\n",
       "    }\n",
       "\n",
       "    .dataframe thead th {\n",
       "        text-align: right;\n",
       "    }\n",
       "</style>\n",
       "<table border=\"1\" class=\"dataframe\">\n",
       "  <thead>\n",
       "    <tr style=\"text-align: right;\">\n",
       "      <th></th>\n",
       "      <th>Year</th>\n",
       "      <th>MSHA ID</th>\n",
       "      <th>Mine_Name</th>\n",
       "      <th>Production</th>\n",
       "      <th>Labor_Hours</th>\n",
       "    </tr>\n",
       "  </thead>\n",
       "  <tbody>\n",
       "    <tr>\n",
       "      <td>13</td>\n",
       "      <td>2013</td>\n",
       "      <td>103332</td>\n",
       "      <td>Powhatan Mine</td>\n",
       "      <td>1,40,521</td>\n",
       "      <td>61394</td>\n",
       "    </tr>\n",
       "    <tr>\n",
       "      <td>18</td>\n",
       "      <td>2013</td>\n",
       "      <td>102976</td>\n",
       "      <td>Piney Woods Preparation Plant</td>\n",
       "      <td>0</td>\n",
       "      <td>14828</td>\n",
       "    </tr>\n",
       "    <tr>\n",
       "      <td>19</td>\n",
       "      <td>2013</td>\n",
       "      <td>102976</td>\n",
       "      <td>Piney Woods Preparation Plant</td>\n",
       "      <td>0</td>\n",
       "      <td>23193</td>\n",
       "    </tr>\n",
       "    <tr>\n",
       "      <td>46</td>\n",
       "      <td>2013</td>\n",
       "      <td>103321</td>\n",
       "      <td>Poplar Springs</td>\n",
       "      <td>1,89,370</td>\n",
       "      <td>76366</td>\n",
       "    </tr>\n",
       "  </tbody>\n",
       "</table>\n",
       "</div>"
      ],
      "text/plain": [
       "    Year  MSHA ID                      Mine_Name Production Labor_Hours\n",
       "13  2013   103332                  Powhatan Mine   1,40,521       61394\n",
       "18  2013   102976  Piney Woods Preparation Plant          0       14828\n",
       "19  2013   102976  Piney Woods Preparation Plant          0       23193\n",
       "46  2013   103321                 Poplar Springs   1,89,370       76366"
      ]
     },
     "execution_count": 77,
     "metadata": {},
     "output_type": "execute_result"
    }
   ],
   "source": [
    "coal_df = pd.read_excel('C:\\\\Users\\\\140524\\Desktop\\\\Can_Instructure\\\\assignments\\\\Python_subjective_assignment\\\\coalpublic2013.xlsx') \n",
    "str_name = coal_df[\"Mine_Name\"].astype(str)\n",
    "selected_mine_name = [Mine_Name for Mine_Name in str_name if Mine_Name[0]=='P']\n",
    "coal_df[coal_df.Mine_Name.isin(selected_mine_name)]"
   ]
  },
  {
   "cell_type": "markdown",
   "metadata": {},
   "source": [
    "Q119. Write a Pandas program to import excel data (employee.xlsx )  into a Pandas dataframe and find the list of employees where hire_date> 01-01-07. "
   ]
  },
  {
   "cell_type": "code",
   "execution_count": 91,
   "metadata": {},
   "outputs": [
    {
     "data": {
      "text/html": [
       "<div>\n",
       "<style scoped>\n",
       "    .dataframe tbody tr th:only-of-type {\n",
       "        vertical-align: middle;\n",
       "    }\n",
       "\n",
       "    .dataframe tbody tr th {\n",
       "        vertical-align: top;\n",
       "    }\n",
       "\n",
       "    .dataframe thead th {\n",
       "        text-align: right;\n",
       "    }\n",
       "</style>\n",
       "<table border=\"1\" class=\"dataframe\">\n",
       "  <thead>\n",
       "    <tr style=\"text-align: right;\">\n",
       "      <th></th>\n",
       "      <th>emp_id</th>\n",
       "      <th>first_name</th>\n",
       "      <th>last_name</th>\n",
       "      <th>hiredate</th>\n",
       "    </tr>\n",
       "  </thead>\n",
       "  <tbody>\n",
       "    <tr>\n",
       "      <td>4</td>\n",
       "      <td>104</td>\n",
       "      <td>Bruce</td>\n",
       "      <td>Ernst</td>\n",
       "      <td>2007-05-21</td>\n",
       "    </tr>\n",
       "    <tr>\n",
       "      <td>7</td>\n",
       "      <td>107</td>\n",
       "      <td>Diana</td>\n",
       "      <td>Lorentz</td>\n",
       "      <td>2007-07-02</td>\n",
       "    </tr>\n",
       "    <tr>\n",
       "      <td>13</td>\n",
       "      <td>113</td>\n",
       "      <td>Luis</td>\n",
       "      <td>Popp</td>\n",
       "      <td>2007-07-12</td>\n",
       "    </tr>\n",
       "    <tr>\n",
       "      <td>19</td>\n",
       "      <td>119</td>\n",
       "      <td>Karen</td>\n",
       "      <td>Colmenares</td>\n",
       "      <td>2007-10-08</td>\n",
       "    </tr>\n",
       "    <tr>\n",
       "      <td>24</td>\n",
       "      <td>124</td>\n",
       "      <td>Kevin</td>\n",
       "      <td>Mourgos</td>\n",
       "      <td>2007-11-16</td>\n",
       "    </tr>\n",
       "    <tr>\n",
       "      <td>27</td>\n",
       "      <td>127</td>\n",
       "      <td>James</td>\n",
       "      <td>Landry</td>\n",
       "      <td>2007-01-14</td>\n",
       "    </tr>\n",
       "    <tr>\n",
       "      <td>28</td>\n",
       "      <td>128</td>\n",
       "      <td>Steven</td>\n",
       "      <td>Markle</td>\n",
       "      <td>2008-08-03</td>\n",
       "    </tr>\n",
       "    <tr>\n",
       "      <td>32</td>\n",
       "      <td>132</td>\n",
       "      <td>TJ</td>\n",
       "      <td>Olson</td>\n",
       "      <td>2007-10-04</td>\n",
       "    </tr>\n",
       "    <tr>\n",
       "      <td>35</td>\n",
       "      <td>135</td>\n",
       "      <td>Ki</td>\n",
       "      <td>Gee</td>\n",
       "      <td>2007-12-12</td>\n",
       "    </tr>\n",
       "    <tr>\n",
       "      <td>36</td>\n",
       "      <td>136</td>\n",
       "      <td>Hazel</td>\n",
       "      <td>Philtanker</td>\n",
       "      <td>2008-06-02</td>\n",
       "    </tr>\n",
       "    <tr>\n",
       "      <td>43</td>\n",
       "      <td>124</td>\n",
       "      <td>Kevin</td>\n",
       "      <td>Mourgos</td>\n",
       "      <td>2007-11-16</td>\n",
       "    </tr>\n",
       "    <tr>\n",
       "      <td>46</td>\n",
       "      <td>127</td>\n",
       "      <td>James</td>\n",
       "      <td>Landry</td>\n",
       "      <td>2007-01-14</td>\n",
       "    </tr>\n",
       "    <tr>\n",
       "      <td>47</td>\n",
       "      <td>128</td>\n",
       "      <td>Steven</td>\n",
       "      <td>Markle</td>\n",
       "      <td>2008-08-03</td>\n",
       "    </tr>\n",
       "    <tr>\n",
       "      <td>51</td>\n",
       "      <td>132</td>\n",
       "      <td>TJ</td>\n",
       "      <td>Olson</td>\n",
       "      <td>2007-10-04</td>\n",
       "    </tr>\n",
       "    <tr>\n",
       "      <td>54</td>\n",
       "      <td>135</td>\n",
       "      <td>Ki</td>\n",
       "      <td>Gee</td>\n",
       "      <td>2007-12-12</td>\n",
       "    </tr>\n",
       "    <tr>\n",
       "      <td>55</td>\n",
       "      <td>136</td>\n",
       "      <td>Hazel</td>\n",
       "      <td>Philtanker</td>\n",
       "      <td>2008-06-02</td>\n",
       "    </tr>\n",
       "  </tbody>\n",
       "</table>\n",
       "</div>"
      ],
      "text/plain": [
       "    emp_id first_name   last_name   hiredate\n",
       "4      104      Bruce       Ernst 2007-05-21\n",
       "7      107      Diana     Lorentz 2007-07-02\n",
       "13     113       Luis        Popp 2007-07-12\n",
       "19     119      Karen  Colmenares 2007-10-08\n",
       "24     124      Kevin     Mourgos 2007-11-16\n",
       "27     127      James      Landry 2007-01-14\n",
       "28     128     Steven      Markle 2008-08-03\n",
       "32     132         TJ       Olson 2007-10-04\n",
       "35     135         Ki         Gee 2007-12-12\n",
       "36     136      Hazel  Philtanker 2008-06-02\n",
       "43     124      Kevin     Mourgos 2007-11-16\n",
       "46     127      James      Landry 2007-01-14\n",
       "47     128     Steven      Markle 2008-08-03\n",
       "51     132         TJ       Olson 2007-10-04\n",
       "54     135         Ki         Gee 2007-12-12\n",
       "55     136      Hazel  Philtanker 2008-06-02"
      ]
     },
     "execution_count": 91,
     "metadata": {},
     "output_type": "execute_result"
    }
   ],
   "source": [
    "emp_df1 = pd.read_excel('C:\\\\Users\\\\140524\\Desktop\\\\Can_Instructure\\\\assignments\\\\Python_subjective_assignment\\\\employee.xlsx',sheet_name = 'Sheet1') \n",
    "emp_df2 = pd.read_excel('C:\\\\Users\\\\140524\\Desktop\\\\Can_Instructure\\\\assignments\\\\Python_subjective_assignment\\\\employee.xlsx',sheet_name = 'Sheet2')\n",
    "emp_df3 = pd.read_excel('C:\\\\Users\\\\140524\\Desktop\\\\Can_Instructure\\\\assignments\\\\Python_subjective_assignment\\\\employee.xlsx',sheet_name = 'Sheet2')\n",
    "emp_list = [emp_df1,emp_df2,emp_df3]\n",
    "emp_df = pd.concat((df for df in emp_list), ignore_index=True)\n",
    "emp_df['hiredate'] = pd.to_datetime(emp_df['hire_date'])\n",
    "emp_df = emp_df.drop(columns='hire_date')\n",
    "emp_df[emp_df['hiredate']>'2007-01-01']"
   ]
  },
  {
   "cell_type": "markdown",
   "metadata": {},
   "source": [
    "Q120.  Write a Pandas program to import excel data (employee.xlsx ) into a Pandas dataframe and  find a list of the employees of a specified year "
   ]
  },
  {
   "cell_type": "code",
   "execution_count": 103,
   "metadata": {},
   "outputs": [
    {
     "data": {
      "text/html": [
       "<div>\n",
       "<style scoped>\n",
       "    .dataframe tbody tr th:only-of-type {\n",
       "        vertical-align: middle;\n",
       "    }\n",
       "\n",
       "    .dataframe tbody tr th {\n",
       "        vertical-align: top;\n",
       "    }\n",
       "\n",
       "    .dataframe thead th {\n",
       "        text-align: right;\n",
       "    }\n",
       "</style>\n",
       "<table border=\"1\" class=\"dataframe\">\n",
       "  <thead>\n",
       "    <tr style=\"text-align: right;\">\n",
       "      <th></th>\n",
       "      <th>emp_id</th>\n",
       "      <th>first_name</th>\n",
       "      <th>last_name</th>\n",
       "      <th>hiredate</th>\n",
       "      <th>hire_year</th>\n",
       "    </tr>\n",
       "  </thead>\n",
       "  <tbody>\n",
       "    <tr>\n",
       "      <td>4</td>\n",
       "      <td>104</td>\n",
       "      <td>Bruce</td>\n",
       "      <td>Ernst</td>\n",
       "      <td>2007-05-21</td>\n",
       "      <td>2007</td>\n",
       "    </tr>\n",
       "    <tr>\n",
       "      <td>7</td>\n",
       "      <td>107</td>\n",
       "      <td>Diana</td>\n",
       "      <td>Lorentz</td>\n",
       "      <td>2007-07-02</td>\n",
       "      <td>2007</td>\n",
       "    </tr>\n",
       "    <tr>\n",
       "      <td>13</td>\n",
       "      <td>113</td>\n",
       "      <td>Luis</td>\n",
       "      <td>Popp</td>\n",
       "      <td>2007-07-12</td>\n",
       "      <td>2007</td>\n",
       "    </tr>\n",
       "    <tr>\n",
       "      <td>19</td>\n",
       "      <td>119</td>\n",
       "      <td>Karen</td>\n",
       "      <td>Colmenares</td>\n",
       "      <td>2007-10-08</td>\n",
       "      <td>2007</td>\n",
       "    </tr>\n",
       "    <tr>\n",
       "      <td>24</td>\n",
       "      <td>124</td>\n",
       "      <td>Kevin</td>\n",
       "      <td>Mourgos</td>\n",
       "      <td>2007-11-16</td>\n",
       "      <td>2007</td>\n",
       "    </tr>\n",
       "    <tr>\n",
       "      <td>27</td>\n",
       "      <td>127</td>\n",
       "      <td>James</td>\n",
       "      <td>Landry</td>\n",
       "      <td>2007-01-14</td>\n",
       "      <td>2007</td>\n",
       "    </tr>\n",
       "    <tr>\n",
       "      <td>32</td>\n",
       "      <td>132</td>\n",
       "      <td>TJ</td>\n",
       "      <td>Olson</td>\n",
       "      <td>2007-10-04</td>\n",
       "      <td>2007</td>\n",
       "    </tr>\n",
       "    <tr>\n",
       "      <td>35</td>\n",
       "      <td>135</td>\n",
       "      <td>Ki</td>\n",
       "      <td>Gee</td>\n",
       "      <td>2007-12-12</td>\n",
       "      <td>2007</td>\n",
       "    </tr>\n",
       "    <tr>\n",
       "      <td>43</td>\n",
       "      <td>124</td>\n",
       "      <td>Kevin</td>\n",
       "      <td>Mourgos</td>\n",
       "      <td>2007-11-16</td>\n",
       "      <td>2007</td>\n",
       "    </tr>\n",
       "    <tr>\n",
       "      <td>46</td>\n",
       "      <td>127</td>\n",
       "      <td>James</td>\n",
       "      <td>Landry</td>\n",
       "      <td>2007-01-14</td>\n",
       "      <td>2007</td>\n",
       "    </tr>\n",
       "    <tr>\n",
       "      <td>51</td>\n",
       "      <td>132</td>\n",
       "      <td>TJ</td>\n",
       "      <td>Olson</td>\n",
       "      <td>2007-10-04</td>\n",
       "      <td>2007</td>\n",
       "    </tr>\n",
       "    <tr>\n",
       "      <td>54</td>\n",
       "      <td>135</td>\n",
       "      <td>Ki</td>\n",
       "      <td>Gee</td>\n",
       "      <td>2007-12-12</td>\n",
       "      <td>2007</td>\n",
       "    </tr>\n",
       "  </tbody>\n",
       "</table>\n",
       "</div>"
      ],
      "text/plain": [
       "    emp_id first_name   last_name   hiredate  hire_year\n",
       "4      104      Bruce       Ernst 2007-05-21       2007\n",
       "7      107      Diana     Lorentz 2007-07-02       2007\n",
       "13     113       Luis        Popp 2007-07-12       2007\n",
       "19     119      Karen  Colmenares 2007-10-08       2007\n",
       "24     124      Kevin     Mourgos 2007-11-16       2007\n",
       "27     127      James      Landry 2007-01-14       2007\n",
       "32     132         TJ       Olson 2007-10-04       2007\n",
       "35     135         Ki         Gee 2007-12-12       2007\n",
       "43     124      Kevin     Mourgos 2007-11-16       2007\n",
       "46     127      James      Landry 2007-01-14       2007\n",
       "51     132         TJ       Olson 2007-10-04       2007\n",
       "54     135         Ki         Gee 2007-12-12       2007"
      ]
     },
     "execution_count": 103,
     "metadata": {},
     "output_type": "execute_result"
    }
   ],
   "source": [
    "emp_df['hire_year'] = pd.DatetimeIndex(emp_df['hiredate']).year\n",
    "emp_df[emp_df['hire_year'] == 2007]"
   ]
  },
  {
   "cell_type": "markdown",
   "metadata": {},
   "source": [
    "Q121. Write a pandas program to import three datasheets from a given   excel data  (coalpublic2013.xlsx ) in to a single dataframe.   "
   ]
  },
  {
   "cell_type": "code",
   "execution_count": 104,
   "metadata": {},
   "outputs": [
    {
     "data": {
      "text/html": [
       "<div>\n",
       "<style scoped>\n",
       "    .dataframe tbody tr th:only-of-type {\n",
       "        vertical-align: middle;\n",
       "    }\n",
       "\n",
       "    .dataframe tbody tr th {\n",
       "        vertical-align: top;\n",
       "    }\n",
       "\n",
       "    .dataframe thead th {\n",
       "        text-align: right;\n",
       "    }\n",
       "</style>\n",
       "<table border=\"1\" class=\"dataframe\">\n",
       "  <thead>\n",
       "    <tr style=\"text-align: right;\">\n",
       "      <th></th>\n",
       "      <th>emp_id</th>\n",
       "      <th>first_name</th>\n",
       "      <th>last_name</th>\n",
       "      <th>hire_date</th>\n",
       "    </tr>\n",
       "  </thead>\n",
       "  <tbody>\n",
       "    <tr>\n",
       "      <td>0</td>\n",
       "      <td>100</td>\n",
       "      <td>Steven</td>\n",
       "      <td>King</td>\n",
       "      <td>17-06-2003</td>\n",
       "    </tr>\n",
       "    <tr>\n",
       "      <td>1</td>\n",
       "      <td>101</td>\n",
       "      <td>Neena</td>\n",
       "      <td>Kochhar</td>\n",
       "      <td>21-09-2005</td>\n",
       "    </tr>\n",
       "    <tr>\n",
       "      <td>2</td>\n",
       "      <td>102</td>\n",
       "      <td>Lex De</td>\n",
       "      <td>Haan</td>\n",
       "      <td>13-01-2001</td>\n",
       "    </tr>\n",
       "  </tbody>\n",
       "</table>\n",
       "</div>"
      ],
      "text/plain": [
       "   emp_id first_name last_name   hire_date\n",
       "0     100     Steven      King  17-06-2003\n",
       "1     101      Neena   Kochhar  21-09-2005\n",
       "2     102     Lex De      Haan  13-01-2001"
      ]
     },
     "execution_count": 104,
     "metadata": {},
     "output_type": "execute_result"
    }
   ],
   "source": [
    "emp_df1 = pd.read_excel('C:\\\\Users\\\\140524\\Desktop\\\\Can_Instructure\\\\assignments\\\\Python_subjective_assignment\\\\employee.xlsx',sheet_name = 'Sheet1') \n",
    "emp_df2 = pd.read_excel('C:\\\\Users\\\\140524\\Desktop\\\\Can_Instructure\\\\assignments\\\\Python_subjective_assignment\\\\employee.xlsx',sheet_name = 'Sheet2')\n",
    "emp_df3 = pd.read_excel('C:\\\\Users\\\\140524\\Desktop\\\\Can_Instructure\\\\assignments\\\\Python_subjective_assignment\\\\employee.xlsx',sheet_name = 'Sheet2')\n",
    "emp_list = [emp_df1,emp_df2,emp_df3]\n",
    "emp_df = pd.concat((df for df in emp_list), ignore_index=True)\n",
    "emp_df.head(3)"
   ]
  },
  {
   "cell_type": "markdown",
   "metadata": {},
   "source": [
    "Q 122. Write a pandas program to import three datasheets from a given excel data (employee.xlsx ) into a single data frame and export the result into new Excel file.   "
   ]
  },
  {
   "cell_type": "code",
   "execution_count": 106,
   "metadata": {},
   "outputs": [],
   "source": [
    "import sys\n",
    "emp_df.to_csv('C:\\\\Users\\\\140524\\Desktop\\\\Can_Instructure\\\\assignments\\\\Python_subjective_assignment\\\\emp_one_sheet.csv')"
   ]
  },
  {
   "cell_type": "markdown",
   "metadata": {},
   "source": [
    "Q123. Write a pandas program to create the Pivot table with multiple indexes from the data set of the  titanic.csv. "
   ]
  },
  {
   "cell_type": "code",
   "execution_count": 116,
   "metadata": {},
   "outputs": [
    {
     "name": "stdout",
     "output_type": "stream",
     "text": [
      "titanic head:\n",
      "   PassengerId  Survived  Pclass  \\\n",
      "0            1         0       3   \n",
      "1            2         1       1   \n",
      "\n",
      "                                                Name     Sex   Age  SibSp  \\\n",
      "0                            Braund, Mr. Owen Harris    male  22.0      1   \n",
      "1  Cumings, Mrs. John Bradley (Florence Briggs Th...  female  38.0      1   \n",
      "\n",
      "   Parch     Ticket     Fare Cabin Embarked  \n",
      "0      0  A/5 21171   7.2500   NaN        S  \n",
      "1      0   PC 17599  71.2833   C85        C  \n",
      "zzzzzzzzzzzzzzzzzzzzzzzzzzzzzzzzzzzzzzzz\n",
      "titanic pivot1-stack-mean:\n",
      "Pclass         1         2         3\n",
      "Sex                                 \n",
      "female  1.000000  0.916667  0.571429\n",
      "male    0.142857  0.166667  0.131148\n",
      "zzzzzzzzzzzzzzzzzzzzzzzzzzzzzzzzzzzzzzzz\n",
      "titanic pivot2-stack-count:\n",
      "Pclass   1   2   3\n",
      "Sex               \n",
      "female   9  12  35\n",
      "male    21  18  61\n"
     ]
    }
   ],
   "source": [
    "titanic = pd.read_csv(\"https://gist.githubusercontent.com/michhar/2dfd2de0d4f8727f873422c5d959fff5/raw/ff414a1bcfcba32481e4d4e8db578e55872a2ca1/titanic.csv\",\n",
    "                           sep='\\t')   \n",
    "print('titanic head:\\n{}'.format(titanic.head(2)))\n",
    "print('z'*40)\n",
    "print('titanic pivot1-stack-mean:\\n{}'.format(titanic.groupby(['Sex','Pclass']).Survived.mean().unstack()))\n",
    "print('z'*40)\n",
    "print('titanic pivot2-stack-count:\\n{}'.format(titanic.pivot_table(index='Sex', columns='Pclass', values='Survived', aggfunc='count')))"
   ]
  },
  {
   "cell_type": "markdown",
   "metadata": {},
   "source": [
    "Q124. Write a Pandas program to create the Pivot table and find survival rate by gender?"
   ]
  },
  {
   "cell_type": "code",
   "execution_count": 123,
   "metadata": {},
   "outputs": [
    {
     "name": "stdout",
     "output_type": "stream",
     "text": [
      "titanic pivot-stack-mean:\n",
      "Pclass         1         2         3\n",
      "Sex                                 \n",
      "female  1.000000  0.916667  0.571429\n",
      "male    0.142857  0.166667  0.131148\n"
     ]
    }
   ],
   "source": [
    "print('titanic pivot-stack-mean:\\n{}'.format(titanic.pivot_table(index='Sex', columns='Pclass', values='Survived', aggfunc=(lambda x: x.mean()))))"
   ]
  },
  {
   "cell_type": "code",
   "execution_count": 120,
   "metadata": {},
   "outputs": [
    {
     "name": "stdout",
     "output_type": "stream",
     "text": [
      "titanic pivot-stack-mean:\n",
      "Pclass         1         2         3\n",
      "Sex                                 \n",
      "female  1.000000  0.916667  0.571429\n",
      "male    0.142857  0.166667  0.131148\n"
     ]
    }
   ],
   "source": [
    "print('titanic pivot-stack-mean:\\n{}'.format(titanic.pivot_table(index='Sex', columns='Pclass', values='Survived', aggfunc='mean')))"
   ]
  },
  {
   "cell_type": "markdown",
   "metadata": {},
   "source": [
    "Q125. Write a pandas program to make partition each of the passengers into 4 categories based on their age. "
   ]
  },
  {
   "cell_type": "code",
   "execution_count": 139,
   "metadata": {},
   "outputs": [
    {
     "data": {
      "text/html": [
       "<div>\n",
       "<style scoped>\n",
       "    .dataframe tbody tr th:only-of-type {\n",
       "        vertical-align: middle;\n",
       "    }\n",
       "\n",
       "    .dataframe tbody tr th {\n",
       "        vertical-align: top;\n",
       "    }\n",
       "\n",
       "    .dataframe thead th {\n",
       "        text-align: right;\n",
       "    }\n",
       "</style>\n",
       "<table border=\"1\" class=\"dataframe\">\n",
       "  <thead>\n",
       "    <tr style=\"text-align: right;\">\n",
       "      <th></th>\n",
       "      <th>PassengerId</th>\n",
       "      <th>Survived</th>\n",
       "      <th>Pclass</th>\n",
       "      <th>Name</th>\n",
       "      <th>Sex</th>\n",
       "      <th>Age</th>\n",
       "      <th>SibSp</th>\n",
       "      <th>Parch</th>\n",
       "      <th>Ticket</th>\n",
       "      <th>Fare</th>\n",
       "      <th>Cabin</th>\n",
       "      <th>Embarked</th>\n",
       "      <th>Age_by_range</th>\n",
       "    </tr>\n",
       "  </thead>\n",
       "  <tbody>\n",
       "    <tr>\n",
       "      <td>0</td>\n",
       "      <td>1</td>\n",
       "      <td>0</td>\n",
       "      <td>3</td>\n",
       "      <td>Braund, Mr. Owen Harris</td>\n",
       "      <td>male</td>\n",
       "      <td>22.0</td>\n",
       "      <td>1</td>\n",
       "      <td>0</td>\n",
       "      <td>A/5 21171</td>\n",
       "      <td>7.2500</td>\n",
       "      <td>NaN</td>\n",
       "      <td>S</td>\n",
       "      <td>(10, 30]</td>\n",
       "    </tr>\n",
       "    <tr>\n",
       "      <td>1</td>\n",
       "      <td>2</td>\n",
       "      <td>1</td>\n",
       "      <td>1</td>\n",
       "      <td>Cumings, Mrs. John Bradley (Florence Briggs Th...</td>\n",
       "      <td>female</td>\n",
       "      <td>38.0</td>\n",
       "      <td>1</td>\n",
       "      <td>0</td>\n",
       "      <td>PC 17599</td>\n",
       "      <td>71.2833</td>\n",
       "      <td>C85</td>\n",
       "      <td>C</td>\n",
       "      <td>(30, 60]</td>\n",
       "    </tr>\n",
       "    <tr>\n",
       "      <td>2</td>\n",
       "      <td>3</td>\n",
       "      <td>1</td>\n",
       "      <td>3</td>\n",
       "      <td>Heikkinen, Miss. Laina</td>\n",
       "      <td>female</td>\n",
       "      <td>26.0</td>\n",
       "      <td>0</td>\n",
       "      <td>0</td>\n",
       "      <td>STON/O2. 3101282</td>\n",
       "      <td>7.9250</td>\n",
       "      <td>NaN</td>\n",
       "      <td>S</td>\n",
       "      <td>(10, 30]</td>\n",
       "    </tr>\n",
       "    <tr>\n",
       "      <td>3</td>\n",
       "      <td>4</td>\n",
       "      <td>1</td>\n",
       "      <td>1</td>\n",
       "      <td>Futrelle, Mrs. Jacques Heath (Lily May Peel)</td>\n",
       "      <td>female</td>\n",
       "      <td>35.0</td>\n",
       "      <td>1</td>\n",
       "      <td>0</td>\n",
       "      <td>113803</td>\n",
       "      <td>53.1000</td>\n",
       "      <td>C123</td>\n",
       "      <td>S</td>\n",
       "      <td>(30, 60]</td>\n",
       "    </tr>\n",
       "    <tr>\n",
       "      <td>4</td>\n",
       "      <td>5</td>\n",
       "      <td>0</td>\n",
       "      <td>3</td>\n",
       "      <td>Allen, Mr. William Henry</td>\n",
       "      <td>male</td>\n",
       "      <td>35.0</td>\n",
       "      <td>0</td>\n",
       "      <td>0</td>\n",
       "      <td>373450</td>\n",
       "      <td>8.0500</td>\n",
       "      <td>NaN</td>\n",
       "      <td>S</td>\n",
       "      <td>(30, 60]</td>\n",
       "    </tr>\n",
       "  </tbody>\n",
       "</table>\n",
       "</div>"
      ],
      "text/plain": [
       "   PassengerId  Survived  Pclass  \\\n",
       "0            1         0       3   \n",
       "1            2         1       1   \n",
       "2            3         1       3   \n",
       "3            4         1       1   \n",
       "4            5         0       3   \n",
       "\n",
       "                                                Name     Sex   Age  SibSp  \\\n",
       "0                            Braund, Mr. Owen Harris    male  22.0      1   \n",
       "1  Cumings, Mrs. John Bradley (Florence Briggs Th...  female  38.0      1   \n",
       "2                             Heikkinen, Miss. Laina  female  26.0      0   \n",
       "3       Futrelle, Mrs. Jacques Heath (Lily May Peel)  female  35.0      1   \n",
       "4                           Allen, Mr. William Henry    male  35.0      0   \n",
       "\n",
       "   Parch            Ticket     Fare Cabin Embarked Age_by_range  \n",
       "0      0         A/5 21171   7.2500   NaN        S     (10, 30]  \n",
       "1      0          PC 17599  71.2833   C85        C     (30, 60]  \n",
       "2      0  STON/O2. 3101282   7.9250   NaN        S     (10, 30]  \n",
       "3      0            113803  53.1000  C123        S     (30, 60]  \n",
       "4      0            373450   8.0500   NaN        S     (30, 60]  "
      ]
     },
     "execution_count": 139,
     "metadata": {},
     "output_type": "execute_result"
    }
   ],
   "source": [
    "titanic['Age_by_range'] = pd.cut(x=titanic['Age'], bins=[0,10,30,60,80,100])\n",
    "titanic.head()"
   ]
  },
  {
   "cell_type": "markdown",
   "metadata": {},
   "source": [
    "Q126. Write a pandas program to create the Pivot table and find survival rate by the gender, age of the different categories of various classes. "
   ]
  },
  {
   "cell_type": "code",
   "execution_count": 143,
   "metadata": {},
   "outputs": [
    {
     "data": {
      "text/html": [
       "<div>\n",
       "<style scoped>\n",
       "    .dataframe tbody tr th:only-of-type {\n",
       "        vertical-align: middle;\n",
       "    }\n",
       "\n",
       "    .dataframe tbody tr th {\n",
       "        vertical-align: top;\n",
       "    }\n",
       "\n",
       "    .dataframe thead th {\n",
       "        text-align: right;\n",
       "    }\n",
       "</style>\n",
       "<table border=\"1\" class=\"dataframe\">\n",
       "  <thead>\n",
       "    <tr style=\"text-align: right;\">\n",
       "      <th>Age_by_range</th>\n",
       "      <th>(0, 10]</th>\n",
       "      <th>(10, 30]</th>\n",
       "      <th>(30, 60]</th>\n",
       "      <th>(60, 80]</th>\n",
       "    </tr>\n",
       "    <tr>\n",
       "      <th>Sex</th>\n",
       "      <th></th>\n",
       "      <th></th>\n",
       "      <th></th>\n",
       "      <th></th>\n",
       "    </tr>\n",
       "  </thead>\n",
       "  <tbody>\n",
       "    <tr>\n",
       "      <td>female</td>\n",
       "      <td>0.5</td>\n",
       "      <td>0.678571</td>\n",
       "      <td>0.769231</td>\n",
       "      <td>NaN</td>\n",
       "    </tr>\n",
       "    <tr>\n",
       "      <td>male</td>\n",
       "      <td>0.2</td>\n",
       "      <td>0.142857</td>\n",
       "      <td>0.071429</td>\n",
       "      <td>0.0</td>\n",
       "    </tr>\n",
       "  </tbody>\n",
       "</table>\n",
       "</div>"
      ],
      "text/plain": [
       "Age_by_range  (0, 10]  (10, 30]  (30, 60]  (60, 80]\n",
       "Sex                                                \n",
       "female            0.5  0.678571  0.769231       NaN\n",
       "male              0.2  0.142857  0.071429       0.0"
      ]
     },
     "execution_count": 143,
     "metadata": {},
     "output_type": "execute_result"
    }
   ],
   "source": [
    "titanic.pivot_table(index='Sex', columns='Age_by_range', values='Survived', aggfunc='mean')"
   ]
  },
  {
   "cell_type": "code",
   "execution_count": 144,
   "metadata": {},
   "outputs": [
    {
     "data": {
      "text/html": [
       "<div>\n",
       "<style scoped>\n",
       "    .dataframe tbody tr th:only-of-type {\n",
       "        vertical-align: middle;\n",
       "    }\n",
       "\n",
       "    .dataframe tbody tr th {\n",
       "        vertical-align: top;\n",
       "    }\n",
       "\n",
       "    .dataframe thead th {\n",
       "        text-align: right;\n",
       "    }\n",
       "</style>\n",
       "<table border=\"1\" class=\"dataframe\">\n",
       "  <thead>\n",
       "    <tr style=\"text-align: right;\">\n",
       "      <th>Age_by_range</th>\n",
       "      <th>(0, 10]</th>\n",
       "      <th>(10, 30]</th>\n",
       "      <th>(30, 60]</th>\n",
       "      <th>(60, 80]</th>\n",
       "      <th>(80, 100]</th>\n",
       "    </tr>\n",
       "    <tr>\n",
       "      <th>Sex</th>\n",
       "      <th></th>\n",
       "      <th></th>\n",
       "      <th></th>\n",
       "      <th></th>\n",
       "      <th></th>\n",
       "    </tr>\n",
       "  </thead>\n",
       "  <tbody>\n",
       "    <tr>\n",
       "      <td>female</td>\n",
       "      <td>0.5</td>\n",
       "      <td>0.678571</td>\n",
       "      <td>0.769231</td>\n",
       "      <td>NaN</td>\n",
       "      <td>NaN</td>\n",
       "    </tr>\n",
       "    <tr>\n",
       "      <td>male</td>\n",
       "      <td>0.2</td>\n",
       "      <td>0.142857</td>\n",
       "      <td>0.071429</td>\n",
       "      <td>0.0</td>\n",
       "      <td>NaN</td>\n",
       "    </tr>\n",
       "  </tbody>\n",
       "</table>\n",
       "</div>"
      ],
      "text/plain": [
       "Age_by_range  (0, 10]  (10, 30]  (30, 60]  (60, 80]  (80, 100]\n",
       "Sex                                                           \n",
       "female            0.5  0.678571  0.769231       NaN        NaN\n",
       "male              0.2  0.142857  0.071429       0.0        NaN"
      ]
     },
     "execution_count": 144,
     "metadata": {},
     "output_type": "execute_result"
    }
   ],
   "source": [
    "#or\n",
    "titanic.groupby(['Sex','Age_by_range']).Survived.mean().unstack()"
   ]
  },
  {
   "cell_type": "code",
   "execution_count": 145,
   "metadata": {},
   "outputs": [
    {
     "data": {
      "text/html": [
       "<div>\n",
       "<style scoped>\n",
       "    .dataframe tbody tr th:only-of-type {\n",
       "        vertical-align: middle;\n",
       "    }\n",
       "\n",
       "    .dataframe tbody tr th {\n",
       "        vertical-align: top;\n",
       "    }\n",
       "\n",
       "    .dataframe thead th {\n",
       "        text-align: right;\n",
       "    }\n",
       "</style>\n",
       "<table border=\"1\" class=\"dataframe\">\n",
       "  <thead>\n",
       "    <tr style=\"text-align: right;\">\n",
       "      <th>Pclass</th>\n",
       "      <th>1</th>\n",
       "      <th>2</th>\n",
       "      <th>3</th>\n",
       "      <th>All</th>\n",
       "    </tr>\n",
       "    <tr>\n",
       "      <th>Sex</th>\n",
       "      <th></th>\n",
       "      <th></th>\n",
       "      <th></th>\n",
       "      <th></th>\n",
       "    </tr>\n",
       "  </thead>\n",
       "  <tbody>\n",
       "    <tr>\n",
       "      <td>female</td>\n",
       "      <td>9</td>\n",
       "      <td>12</td>\n",
       "      <td>35</td>\n",
       "      <td>56</td>\n",
       "    </tr>\n",
       "    <tr>\n",
       "      <td>male</td>\n",
       "      <td>21</td>\n",
       "      <td>18</td>\n",
       "      <td>61</td>\n",
       "      <td>100</td>\n",
       "    </tr>\n",
       "    <tr>\n",
       "      <td>All</td>\n",
       "      <td>30</td>\n",
       "      <td>30</td>\n",
       "      <td>96</td>\n",
       "      <td>156</td>\n",
       "    </tr>\n",
       "  </tbody>\n",
       "</table>\n",
       "</div>"
      ],
      "text/plain": [
       "Pclass   1   2   3  All\n",
       "Sex                    \n",
       "female   9  12  35   56\n",
       "male    21  18  61  100\n",
       "All     30  30  96  156"
      ]
     },
     "execution_count": 145,
     "metadata": {},
     "output_type": "execute_result"
    }
   ],
   "source": [
    "titanic.pivot_table(index='Sex', columns='Pclass', values='Survived', aggfunc='count',\n",
    "                    margins=True)"
   ]
  },
  {
   "cell_type": "markdown",
   "metadata": {},
   "source": [
    "Q127. Write a pandas program to create the Pivot table and calculate   number of women and men were in a particular cabin class.   "
   ]
  },
  {
   "cell_type": "code",
   "execution_count": 146,
   "metadata": {},
   "outputs": [
    {
     "data": {
      "text/html": [
       "<div>\n",
       "<style scoped>\n",
       "    .dataframe tbody tr th:only-of-type {\n",
       "        vertical-align: middle;\n",
       "    }\n",
       "\n",
       "    .dataframe tbody tr th {\n",
       "        vertical-align: top;\n",
       "    }\n",
       "\n",
       "    .dataframe thead th {\n",
       "        text-align: right;\n",
       "    }\n",
       "</style>\n",
       "<table border=\"1\" class=\"dataframe\">\n",
       "  <thead>\n",
       "    <tr style=\"text-align: right;\">\n",
       "      <th></th>\n",
       "      <th>PassengerId</th>\n",
       "      <th>Survived</th>\n",
       "      <th>Pclass</th>\n",
       "      <th>Name</th>\n",
       "      <th>Sex</th>\n",
       "      <th>Age</th>\n",
       "      <th>SibSp</th>\n",
       "      <th>Parch</th>\n",
       "      <th>Ticket</th>\n",
       "      <th>Fare</th>\n",
       "      <th>Cabin</th>\n",
       "      <th>Embarked</th>\n",
       "      <th>Age_by_range</th>\n",
       "      <th>Alpha_Cabin</th>\n",
       "    </tr>\n",
       "  </thead>\n",
       "  <tbody>\n",
       "    <tr>\n",
       "      <td>0</td>\n",
       "      <td>1</td>\n",
       "      <td>0</td>\n",
       "      <td>3</td>\n",
       "      <td>Braund, Mr. Owen Harris</td>\n",
       "      <td>male</td>\n",
       "      <td>22.0</td>\n",
       "      <td>1</td>\n",
       "      <td>0</td>\n",
       "      <td>A/5 21171</td>\n",
       "      <td>7.2500</td>\n",
       "      <td>NaN</td>\n",
       "      <td>S</td>\n",
       "      <td>(10, 30]</td>\n",
       "      <td>0.0</td>\n",
       "    </tr>\n",
       "    <tr>\n",
       "      <td>1</td>\n",
       "      <td>2</td>\n",
       "      <td>1</td>\n",
       "      <td>1</td>\n",
       "      <td>Cumings, Mrs. John Bradley (Florence Briggs Th...</td>\n",
       "      <td>female</td>\n",
       "      <td>38.0</td>\n",
       "      <td>1</td>\n",
       "      <td>0</td>\n",
       "      <td>PC 17599</td>\n",
       "      <td>71.2833</td>\n",
       "      <td>C85</td>\n",
       "      <td>C</td>\n",
       "      <td>(30, 60]</td>\n",
       "      <td>3.0</td>\n",
       "    </tr>\n",
       "  </tbody>\n",
       "</table>\n",
       "</div>"
      ],
      "text/plain": [
       "   PassengerId  Survived  Pclass  \\\n",
       "0            1         0       3   \n",
       "1            2         1       1   \n",
       "\n",
       "                                                Name     Sex   Age  SibSp  \\\n",
       "0                            Braund, Mr. Owen Harris    male  22.0      1   \n",
       "1  Cumings, Mrs. John Bradley (Florence Briggs Th...  female  38.0      1   \n",
       "\n",
       "   Parch     Ticket     Fare Cabin Embarked Age_by_range  Alpha_Cabin  \n",
       "0      0  A/5 21171   7.2500   NaN        S     (10, 30]          0.0  \n",
       "1      0   PC 17599  71.2833   C85        C     (30, 60]          3.0  "
      ]
     },
     "execution_count": 146,
     "metadata": {},
     "output_type": "execute_result"
    }
   ],
   "source": [
    "titanic['Alpha_Cabin'] = titanic['Cabin'].str.extract('([A-Z]+)')\n",
    "titanic['Alpha_Cabin'] = titanic['Alpha_Cabin'].map({'A':1,'B':2,'C':3,'D':4,'E':5,'F':6,'G':7,'T':8})\n",
    "titanic.Alpha_Cabin.fillna(0, inplace=True)\n",
    "titanic.head(2)"
   ]
  },
  {
   "cell_type": "code",
   "execution_count": 149,
   "metadata": {},
   "outputs": [
    {
     "data": {
      "text/html": [
       "<div>\n",
       "<style scoped>\n",
       "    .dataframe tbody tr th:only-of-type {\n",
       "        vertical-align: middle;\n",
       "    }\n",
       "\n",
       "    .dataframe tbody tr th {\n",
       "        vertical-align: top;\n",
       "    }\n",
       "\n",
       "    .dataframe thead th {\n",
       "        text-align: right;\n",
       "    }\n",
       "</style>\n",
       "<table border=\"1\" class=\"dataframe\">\n",
       "  <thead>\n",
       "    <tr style=\"text-align: right;\">\n",
       "      <th>Alpha_Cabin</th>\n",
       "      <th>0.0</th>\n",
       "      <th>1.0</th>\n",
       "      <th>2.0</th>\n",
       "      <th>3.0</th>\n",
       "      <th>4.0</th>\n",
       "      <th>5.0</th>\n",
       "      <th>6.0</th>\n",
       "      <th>7.0</th>\n",
       "      <th>All</th>\n",
       "    </tr>\n",
       "    <tr>\n",
       "      <th>Sex</th>\n",
       "      <th></th>\n",
       "      <th></th>\n",
       "      <th></th>\n",
       "      <th></th>\n",
       "      <th></th>\n",
       "      <th></th>\n",
       "      <th></th>\n",
       "      <th></th>\n",
       "      <th></th>\n",
       "    </tr>\n",
       "  </thead>\n",
       "  <tbody>\n",
       "    <tr>\n",
       "      <td>female</td>\n",
       "      <td>43.0</td>\n",
       "      <td>NaN</td>\n",
       "      <td>2.0</td>\n",
       "      <td>5.0</td>\n",
       "      <td>2.0</td>\n",
       "      <td>1.0</td>\n",
       "      <td>2.0</td>\n",
       "      <td>1.0</td>\n",
       "      <td>56</td>\n",
       "    </tr>\n",
       "    <tr>\n",
       "      <td>male</td>\n",
       "      <td>82.0</td>\n",
       "      <td>2.0</td>\n",
       "      <td>3.0</td>\n",
       "      <td>5.0</td>\n",
       "      <td>4.0</td>\n",
       "      <td>2.0</td>\n",
       "      <td>2.0</td>\n",
       "      <td>NaN</td>\n",
       "      <td>100</td>\n",
       "    </tr>\n",
       "    <tr>\n",
       "      <td>All</td>\n",
       "      <td>125.0</td>\n",
       "      <td>2.0</td>\n",
       "      <td>5.0</td>\n",
       "      <td>10.0</td>\n",
       "      <td>6.0</td>\n",
       "      <td>3.0</td>\n",
       "      <td>4.0</td>\n",
       "      <td>1.0</td>\n",
       "      <td>156</td>\n",
       "    </tr>\n",
       "  </tbody>\n",
       "</table>\n",
       "</div>"
      ],
      "text/plain": [
       "Alpha_Cabin    0.0  1.0  2.0   3.0  4.0  5.0  6.0  7.0  All\n",
       "Sex                                                        \n",
       "female        43.0  NaN  2.0   5.0  2.0  1.0  2.0  1.0   56\n",
       "male          82.0  2.0  3.0   5.0  4.0  2.0  2.0  NaN  100\n",
       "All          125.0  2.0  5.0  10.0  6.0  3.0  4.0  1.0  156"
      ]
     },
     "execution_count": 149,
     "metadata": {},
     "output_type": "execute_result"
    }
   ],
   "source": [
    "titanic.pivot_table(index='Sex', columns='Alpha_Cabin', values='Survived', aggfunc='count',\n",
    "                    margins=True)"
   ]
  },
  {
   "cell_type": "code",
   "execution_count": 153,
   "metadata": {},
   "outputs": [
    {
     "data": {
      "text/html": [
       "<div>\n",
       "<style scoped>\n",
       "    .dataframe tbody tr th:only-of-type {\n",
       "        vertical-align: middle;\n",
       "    }\n",
       "\n",
       "    .dataframe tbody tr th {\n",
       "        vertical-align: top;\n",
       "    }\n",
       "\n",
       "    .dataframe thead th {\n",
       "        text-align: right;\n",
       "    }\n",
       "</style>\n",
       "<table border=\"1\" class=\"dataframe\">\n",
       "  <thead>\n",
       "    <tr style=\"text-align: right;\">\n",
       "      <th>Cabin</th>\n",
       "      <th>A</th>\n",
       "      <th>B</th>\n",
       "      <th>C</th>\n",
       "      <th>D</th>\n",
       "      <th>E</th>\n",
       "      <th>F</th>\n",
       "      <th>G</th>\n",
       "      <th>n</th>\n",
       "      <th>All</th>\n",
       "    </tr>\n",
       "    <tr>\n",
       "      <th>Sex</th>\n",
       "      <th></th>\n",
       "      <th></th>\n",
       "      <th></th>\n",
       "      <th></th>\n",
       "      <th></th>\n",
       "      <th></th>\n",
       "      <th></th>\n",
       "      <th></th>\n",
       "      <th></th>\n",
       "    </tr>\n",
       "  </thead>\n",
       "  <tbody>\n",
       "    <tr>\n",
       "      <td>female</td>\n",
       "      <td>NaN</td>\n",
       "      <td>2.0</td>\n",
       "      <td>5.0</td>\n",
       "      <td>2.0</td>\n",
       "      <td>1.0</td>\n",
       "      <td>2.0</td>\n",
       "      <td>1.0</td>\n",
       "      <td>43.0</td>\n",
       "      <td>56</td>\n",
       "    </tr>\n",
       "    <tr>\n",
       "      <td>male</td>\n",
       "      <td>2.0</td>\n",
       "      <td>3.0</td>\n",
       "      <td>5.0</td>\n",
       "      <td>4.0</td>\n",
       "      <td>2.0</td>\n",
       "      <td>2.0</td>\n",
       "      <td>NaN</td>\n",
       "      <td>82.0</td>\n",
       "      <td>100</td>\n",
       "    </tr>\n",
       "    <tr>\n",
       "      <td>All</td>\n",
       "      <td>2.0</td>\n",
       "      <td>5.0</td>\n",
       "      <td>10.0</td>\n",
       "      <td>6.0</td>\n",
       "      <td>3.0</td>\n",
       "      <td>4.0</td>\n",
       "      <td>1.0</td>\n",
       "      <td>125.0</td>\n",
       "      <td>156</td>\n",
       "    </tr>\n",
       "  </tbody>\n",
       "</table>\n",
       "</div>"
      ],
      "text/plain": [
       "Cabin     A    B     C    D    E    F    G      n  All\n",
       "Sex                                                   \n",
       "female  NaN  2.0   5.0  2.0  1.0  2.0  1.0   43.0   56\n",
       "male    2.0  3.0   5.0  4.0  2.0  2.0  NaN   82.0  100\n",
       "All     2.0  5.0  10.0  6.0  3.0  4.0  1.0  125.0  156"
      ]
     },
     "execution_count": 153,
     "metadata": {},
     "output_type": "execute_result"
    }
   ],
   "source": [
    "#or\n",
    "titanic[\"Cabin\"].unique() \n",
    "import numpy as np \n",
    "char_cabin = titanic[\"Cabin\"].astype(str)\n",
    "new_Cabin = [cabin[0] for cabin in char_cabin]\n",
    "new_Cabin = pd.Categorical(new_Cabin)\n",
    "titanic[\"Cabin\"] = new_Cabin\n",
    "titanic.pivot_table(index='Sex', columns='Cabin', values='Survived', aggfunc='count',\n",
    "                    margins=True)"
   ]
  },
  {
   "cell_type": "markdown",
   "metadata": {},
   "source": [
    "Q128. Write a pandas program to create the Pivot table and separate the gender according to whether they travelled alone or not to get the probability of survival "
   ]
  },
  {
   "cell_type": "code",
   "execution_count": 158,
   "metadata": {},
   "outputs": [
    {
     "data": {
      "text/html": [
       "<div>\n",
       "<style scoped>\n",
       "    .dataframe tbody tr th:only-of-type {\n",
       "        vertical-align: middle;\n",
       "    }\n",
       "\n",
       "    .dataframe tbody tr th {\n",
       "        vertical-align: top;\n",
       "    }\n",
       "\n",
       "    .dataframe thead th {\n",
       "        text-align: right;\n",
       "    }\n",
       "</style>\n",
       "<table border=\"1\" class=\"dataframe\">\n",
       "  <thead>\n",
       "    <tr style=\"text-align: right;\">\n",
       "      <th>Alone</th>\n",
       "      <th>0</th>\n",
       "      <th>1</th>\n",
       "      <th>All</th>\n",
       "    </tr>\n",
       "    <tr>\n",
       "      <th>Sex</th>\n",
       "      <th></th>\n",
       "      <th></th>\n",
       "      <th></th>\n",
       "    </tr>\n",
       "  </thead>\n",
       "  <tbody>\n",
       "    <tr>\n",
       "      <td>female</td>\n",
       "      <td>0.857143</td>\n",
       "      <td>0.628571</td>\n",
       "      <td>0.714286</td>\n",
       "    </tr>\n",
       "    <tr>\n",
       "      <td>male</td>\n",
       "      <td>0.156250</td>\n",
       "      <td>0.111111</td>\n",
       "      <td>0.140000</td>\n",
       "    </tr>\n",
       "    <tr>\n",
       "      <td>All</td>\n",
       "      <td>0.329412</td>\n",
       "      <td>0.366197</td>\n",
       "      <td>0.346154</td>\n",
       "    </tr>\n",
       "  </tbody>\n",
       "</table>\n",
       "</div>"
      ],
      "text/plain": [
       "Alone          0         1       All\n",
       "Sex                                 \n",
       "female  0.857143  0.628571  0.714286\n",
       "male    0.156250  0.111111  0.140000\n",
       "All     0.329412  0.366197  0.346154"
      ]
     },
     "execution_count": 158,
     "metadata": {},
     "output_type": "execute_result"
    }
   ],
   "source": [
    "# 1 means with family // 0 means travelling alone\n",
    "titanic['Family_member'] = titanic['SibSp'] + titanic['Parch']\n",
    "titanic['Alone'] = titanic.Family_member.apply(lambda x:0 if x==0 else 1)\n",
    "titanic.pivot_table(index='Sex', columns='Alone', values='Survived', aggfunc='mean',\n",
    "                    margins=True)"
   ]
  },
  {
   "cell_type": "markdown",
   "metadata": {},
   "source": [
    "Q129. Write a pandas program to create the Pivot table and find the probability of survival by class, gender, solo boarding, and the port of embarkation. "
   ]
  },
  {
   "cell_type": "code",
   "execution_count": 160,
   "metadata": {},
   "outputs": [
    {
     "data": {
      "text/html": [
       "<div>\n",
       "<style scoped>\n",
       "    .dataframe tbody tr th:only-of-type {\n",
       "        vertical-align: middle;\n",
       "    }\n",
       "\n",
       "    .dataframe tbody tr th {\n",
       "        vertical-align: top;\n",
       "    }\n",
       "\n",
       "    .dataframe thead th {\n",
       "        text-align: right;\n",
       "    }\n",
       "</style>\n",
       "<table border=\"1\" class=\"dataframe\">\n",
       "  <thead>\n",
       "    <tr style=\"text-align: right;\">\n",
       "      <th></th>\n",
       "      <th></th>\n",
       "      <th>Embarked</th>\n",
       "      <th>C</th>\n",
       "      <th>Q</th>\n",
       "      <th>S</th>\n",
       "    </tr>\n",
       "    <tr>\n",
       "      <th>Pclass</th>\n",
       "      <th>Sex</th>\n",
       "      <th>Alone</th>\n",
       "      <th></th>\n",
       "      <th></th>\n",
       "      <th></th>\n",
       "    </tr>\n",
       "  </thead>\n",
       "  <tbody>\n",
       "    <tr>\n",
       "      <td rowspan=\"4\" valign=\"top\">1</td>\n",
       "      <td rowspan=\"2\" valign=\"top\">female</td>\n",
       "      <td>0</td>\n",
       "      <td>NaN</td>\n",
       "      <td>NaN</td>\n",
       "      <td>1.000000</td>\n",
       "    </tr>\n",
       "    <tr>\n",
       "      <td>1</td>\n",
       "      <td>1.000000</td>\n",
       "      <td>NaN</td>\n",
       "      <td>1.000000</td>\n",
       "    </tr>\n",
       "    <tr>\n",
       "      <td rowspan=\"2\" valign=\"top\">male</td>\n",
       "      <td>0</td>\n",
       "      <td>0.000000</td>\n",
       "      <td>NaN</td>\n",
       "      <td>0.400000</td>\n",
       "    </tr>\n",
       "    <tr>\n",
       "      <td>1</td>\n",
       "      <td>0.200000</td>\n",
       "      <td>NaN</td>\n",
       "      <td>0.000000</td>\n",
       "    </tr>\n",
       "    <tr>\n",
       "      <td rowspan=\"4\" valign=\"top\">2</td>\n",
       "      <td rowspan=\"2\" valign=\"top\">female</td>\n",
       "      <td>0</td>\n",
       "      <td>NaN</td>\n",
       "      <td>NaN</td>\n",
       "      <td>1.000000</td>\n",
       "    </tr>\n",
       "    <tr>\n",
       "      <td>1</td>\n",
       "      <td>1.000000</td>\n",
       "      <td>NaN</td>\n",
       "      <td>0.800000</td>\n",
       "    </tr>\n",
       "    <tr>\n",
       "      <td rowspan=\"2\" valign=\"top\">male</td>\n",
       "      <td>0</td>\n",
       "      <td>0.000000</td>\n",
       "      <td>NaN</td>\n",
       "      <td>0.200000</td>\n",
       "    </tr>\n",
       "    <tr>\n",
       "      <td>1</td>\n",
       "      <td>0.000000</td>\n",
       "      <td>NaN</td>\n",
       "      <td>0.166667</td>\n",
       "    </tr>\n",
       "    <tr>\n",
       "      <td rowspan=\"4\" valign=\"top\">3</td>\n",
       "      <td rowspan=\"2\" valign=\"top\">female</td>\n",
       "      <td>0</td>\n",
       "      <td>0.500000</td>\n",
       "      <td>1.0</td>\n",
       "      <td>0.666667</td>\n",
       "    </tr>\n",
       "    <tr>\n",
       "      <td>1</td>\n",
       "      <td>0.500000</td>\n",
       "      <td>1.0</td>\n",
       "      <td>0.375000</td>\n",
       "    </tr>\n",
       "    <tr>\n",
       "      <td rowspan=\"2\" valign=\"top\">male</td>\n",
       "      <td>0</td>\n",
       "      <td>0.166667</td>\n",
       "      <td>0.0</td>\n",
       "      <td>0.147059</td>\n",
       "    </tr>\n",
       "    <tr>\n",
       "      <td>1</td>\n",
       "      <td>0.500000</td>\n",
       "      <td>0.0</td>\n",
       "      <td>0.000000</td>\n",
       "    </tr>\n",
       "  </tbody>\n",
       "</table>\n",
       "</div>"
      ],
      "text/plain": [
       "Embarked                    C    Q         S\n",
       "Pclass Sex    Alone                         \n",
       "1      female 0           NaN  NaN  1.000000\n",
       "              1      1.000000  NaN  1.000000\n",
       "       male   0      0.000000  NaN  0.400000\n",
       "              1      0.200000  NaN  0.000000\n",
       "2      female 0           NaN  NaN  1.000000\n",
       "              1      1.000000  NaN  0.800000\n",
       "       male   0      0.000000  NaN  0.200000\n",
       "              1      0.000000  NaN  0.166667\n",
       "3      female 0      0.500000  1.0  0.666667\n",
       "              1      0.500000  1.0  0.375000\n",
       "       male   0      0.166667  0.0  0.147059\n",
       "              1      0.500000  0.0  0.000000"
      ]
     },
     "execution_count": 160,
     "metadata": {},
     "output_type": "execute_result"
    }
   ],
   "source": [
    "# using unstack()\n",
    "## 1 means with family // 0 means travelling alone\n",
    "titanic.groupby(['Pclass','Sex','Alone','Embarked']).Survived.mean().unstack()"
   ]
  },
  {
   "cell_type": "code",
   "execution_count": 161,
   "metadata": {},
   "outputs": [
    {
     "data": {
      "text/html": [
       "<div>\n",
       "<style scoped>\n",
       "    .dataframe tbody tr th:only-of-type {\n",
       "        vertical-align: middle;\n",
       "    }\n",
       "\n",
       "    .dataframe tbody tr th {\n",
       "        vertical-align: top;\n",
       "    }\n",
       "\n",
       "    .dataframe thead th {\n",
       "        text-align: right;\n",
       "    }\n",
       "</style>\n",
       "<table border=\"1\" class=\"dataframe\">\n",
       "  <thead>\n",
       "    <tr style=\"text-align: right;\">\n",
       "      <th></th>\n",
       "      <th></th>\n",
       "      <th>Embarked</th>\n",
       "      <th>C</th>\n",
       "      <th>Q</th>\n",
       "      <th>S</th>\n",
       "      <th>All</th>\n",
       "    </tr>\n",
       "    <tr>\n",
       "      <th>Pclass</th>\n",
       "      <th>Sex</th>\n",
       "      <th>Alone</th>\n",
       "      <th></th>\n",
       "      <th></th>\n",
       "      <th></th>\n",
       "      <th></th>\n",
       "    </tr>\n",
       "  </thead>\n",
       "  <tbody>\n",
       "    <tr>\n",
       "      <td rowspan=\"4\" valign=\"top\">1</td>\n",
       "      <td rowspan=\"2\" valign=\"top\">female</td>\n",
       "      <td>0</td>\n",
       "      <td>NaN</td>\n",
       "      <td>NaN</td>\n",
       "      <td>1.000000</td>\n",
       "      <td>1.000000</td>\n",
       "    </tr>\n",
       "    <tr>\n",
       "      <td>1</td>\n",
       "      <td>1.000000</td>\n",
       "      <td>NaN</td>\n",
       "      <td>1.000000</td>\n",
       "      <td>1.000000</td>\n",
       "    </tr>\n",
       "    <tr>\n",
       "      <td rowspan=\"2\" valign=\"top\">male</td>\n",
       "      <td>0</td>\n",
       "      <td>0.000000</td>\n",
       "      <td>NaN</td>\n",
       "      <td>0.400000</td>\n",
       "      <td>0.222222</td>\n",
       "    </tr>\n",
       "    <tr>\n",
       "      <td>1</td>\n",
       "      <td>0.200000</td>\n",
       "      <td>NaN</td>\n",
       "      <td>0.000000</td>\n",
       "      <td>0.083333</td>\n",
       "    </tr>\n",
       "    <tr>\n",
       "      <td rowspan=\"4\" valign=\"top\">2</td>\n",
       "      <td rowspan=\"2\" valign=\"top\">female</td>\n",
       "      <td>0</td>\n",
       "      <td>NaN</td>\n",
       "      <td>NaN</td>\n",
       "      <td>1.000000</td>\n",
       "      <td>1.000000</td>\n",
       "    </tr>\n",
       "    <tr>\n",
       "      <td>1</td>\n",
       "      <td>1.000000</td>\n",
       "      <td>NaN</td>\n",
       "      <td>0.800000</td>\n",
       "      <td>0.857143</td>\n",
       "    </tr>\n",
       "    <tr>\n",
       "      <td rowspan=\"2\" valign=\"top\">male</td>\n",
       "      <td>0</td>\n",
       "      <td>0.000000</td>\n",
       "      <td>NaN</td>\n",
       "      <td>0.200000</td>\n",
       "      <td>0.181818</td>\n",
       "    </tr>\n",
       "    <tr>\n",
       "      <td>1</td>\n",
       "      <td>0.000000</td>\n",
       "      <td>NaN</td>\n",
       "      <td>0.166667</td>\n",
       "      <td>0.142857</td>\n",
       "    </tr>\n",
       "    <tr>\n",
       "      <td rowspan=\"4\" valign=\"top\">3</td>\n",
       "      <td rowspan=\"2\" valign=\"top\">female</td>\n",
       "      <td>0</td>\n",
       "      <td>0.500000</td>\n",
       "      <td>1.000000</td>\n",
       "      <td>0.666667</td>\n",
       "      <td>0.785714</td>\n",
       "    </tr>\n",
       "    <tr>\n",
       "      <td>1</td>\n",
       "      <td>0.500000</td>\n",
       "      <td>1.000000</td>\n",
       "      <td>0.375000</td>\n",
       "      <td>0.428571</td>\n",
       "    </tr>\n",
       "    <tr>\n",
       "      <td rowspan=\"2\" valign=\"top\">male</td>\n",
       "      <td>0</td>\n",
       "      <td>0.166667</td>\n",
       "      <td>0.000000</td>\n",
       "      <td>0.147059</td>\n",
       "      <td>0.136364</td>\n",
       "    </tr>\n",
       "    <tr>\n",
       "      <td>1</td>\n",
       "      <td>0.500000</td>\n",
       "      <td>0.000000</td>\n",
       "      <td>0.000000</td>\n",
       "      <td>0.117647</td>\n",
       "    </tr>\n",
       "    <tr>\n",
       "      <td>All</td>\n",
       "      <td></td>\n",
       "      <td></td>\n",
       "      <td>0.375000</td>\n",
       "      <td>0.538462</td>\n",
       "      <td>0.309091</td>\n",
       "      <td>0.341935</td>\n",
       "    </tr>\n",
       "  </tbody>\n",
       "</table>\n",
       "</div>"
      ],
      "text/plain": [
       "Embarked                    C         Q         S       All\n",
       "Pclass Sex    Alone                                        \n",
       "1      female 0           NaN       NaN  1.000000  1.000000\n",
       "              1      1.000000       NaN  1.000000  1.000000\n",
       "       male   0      0.000000       NaN  0.400000  0.222222\n",
       "              1      0.200000       NaN  0.000000  0.083333\n",
       "2      female 0           NaN       NaN  1.000000  1.000000\n",
       "              1      1.000000       NaN  0.800000  0.857143\n",
       "       male   0      0.000000       NaN  0.200000  0.181818\n",
       "              1      0.000000       NaN  0.166667  0.142857\n",
       "3      female 0      0.500000  1.000000  0.666667  0.785714\n",
       "              1      0.500000  1.000000  0.375000  0.428571\n",
       "       male   0      0.166667  0.000000  0.147059  0.136364\n",
       "              1      0.500000  0.000000  0.000000  0.117647\n",
       "All                  0.375000  0.538462  0.309091  0.341935"
      ]
     },
     "execution_count": 161,
     "metadata": {},
     "output_type": "execute_result"
    }
   ],
   "source": [
    "# or using pivot_table\n",
    "titanic.pivot_table(index=['Pclass','Sex','Alone'], columns='Embarked', values='Survived', aggfunc='mean',\n",
    "                    margins=True)"
   ]
  },
  {
   "cell_type": "markdown",
   "metadata": {},
   "source": [
    "Q130. Write a pandas program to get current date, oldest date and number of days between Current date and the  oldest date of Ufo dataset. "
   ]
  },
  {
   "cell_type": "code",
   "execution_count": 122,
   "metadata": {},
   "outputs": [
    {
     "name": "stdout",
     "output_type": "stream",
     "text": [
      "the shape of the dataframe: (80332, 11)\n",
      "xxxxxxxxxxxxxxxxxxxxxxxxxxxxxxxxxxxxxxxxxxxxxxxxxxxxxxxxxxxxxxxxxxxxxxxxxxxxxxxxxxxxxxxxxxxxxxxxxxxx\n",
      "the head(2): \n",
      "           city state/province country UFO_shape length_of_encounter_seconds  \\\n",
      "0    san marcos             tx      us  cylinder                        2700   \n",
      "1  lackland afb             tx     NaN     light                        7200   \n",
      "\n",
      "  described_duration_of_encounter  \\\n",
      "0                      45 minutes   \n",
      "1                         1-2 hrs   \n",
      "\n",
      "                                         description date_documented  \\\n",
      "0  This event took place in early fall around 194...       4/27/2004   \n",
      "1  1949 Lackland AFB&#44 TX.  Lights racing acros...      12/16/2005   \n",
      "\n",
      "     latitude  longitude       Date  Hour  Min  \n",
      "0  29.8830556 -97.941111 1949-10-10    20   30  \n",
      "1    29.38421 -98.581082 1949-10-10    21    0  \n",
      "xxxxxxxxxxxxxxxxxxxxxxxxxxxxxxxxxxxxxxxxxxxxxxxxxxxxxxxxxxxxxxxxxxxxxxxxxxxxxxxxxxxxxxxxxxxxxxxxxxxx\n",
      "ufo datatypes: \n",
      "city                                       object\n",
      "state/province                             object\n",
      "country                                    object\n",
      "UFO_shape                                  object\n",
      "length_of_encounter_seconds                object\n",
      "described_duration_of_encounter            object\n",
      "description                                object\n",
      "date_documented                            object\n",
      "latitude                                   object\n",
      "longitude                                 float64\n",
      "Date                               datetime64[ns]\n",
      "Hour                                        int32\n",
      "Min                                         int32\n",
      "dtype: object\n",
      "xxxxxxxxxxxxxxxxxxxxxxxxxxxxxxxxxxxxxxxxxxxxxxxxxxxxxxxxxxxxxxxxxxxxxxxxxxxxxxxxxxxxxxxxxxxxxxxxxxxx\n",
      "No of days pased between the oldest and latest sitings: 39260 days\n"
     ]
    }
   ],
   "source": [
    "# the data frame imported here has the following problems\n",
    "# columns not present\n",
    "# Date_time column in inconsitent in data on which the datatime functions such as to_datetime/ datatimeindex/ \n",
    "#or as type(datatime[n64] won't work)\n",
    "#The onnly approach is to perform string operation first based on the index of the whole string - \n",
    "#strip the un even spaces - and then \n",
    "# convert to datetime objects.\n",
    "import pandas as pd\n",
    "import numpy as np\n",
    "col_names = ['Date_time','city','state/province','country','UFO_shape','length_of_encounter_seconds','described_duration_of_encounter','description','date_documented','latitude','longitude']\n",
    "ufo = pd.read_csv('https://raw.githubusercontent.com/planetsig/ufo-reports/master/csv-data/ufo-scrubbed-geocoded-time-standardized.csv', header = None, names =col_names)\n",
    "print('the shape of the dataframe: {}'.format(ufo.shape))\n",
    "print('x'*100)\n",
    "#string operation - split the whole string by 'space' and take the str from the 0th index and strip of any spaces\n",
    "ufo['Date'] = [x.split(' ')[0].replace(\" \", \"\") for x in ufo['Date_time']]\n",
    "#string operation - split the whole string by 'space' and take the str from the 1st index, further split it by ':', \n",
    "#take the 0th index and strip of any spaces\n",
    "ufo['Hour'] = [x.split(' ')[1].split(':')[0].replace(\" \", \"\") for x in ufo['Date_time']]\n",
    "#string operation - split the whole string by 'space' and take the str from the 1st index, further split it by ':', \n",
    "#take the 1st index and strip of any spaces\n",
    "ufo['Min'] = [x.split(' ')[1].split(':')[1].replace(\" \", \"\") for x in ufo['Date_time']]\n",
    "# convert the Date into Datetime index\n",
    "ufo['Date'] = pd.DatetimeIndex(ufo['Date'])\n",
    "# convert the Hour into into int\n",
    "ufo['Hour'] = ufo['Hour'].astype(int)\n",
    "# convert the Min into into int\n",
    "ufo['Min'] = ufo['Min'].astype(int)\n",
    "ufo = ufo.drop('Date_time', axis=1)\n",
    "print('the head(2): \\n{}'.format(ufo.head(2)))\n",
    "print('x'*100)\n",
    "print('ufo datatypes: \\n{}'.format(ufo.dtypes))\n",
    "print('x'*100)\n",
    "days_passed = ufo['Date'].max() - ufo['Date'].min()\n",
    "print('No of days pased between the oldest and latest sitings: {} days'.format(days_passed.days))"
   ]
  },
  {
   "cell_type": "code",
   "execution_count": 123,
   "metadata": {},
   "outputs": [
    {
     "data": {
      "text/plain": [
       "city                                  0\n",
       "state/province                     5797\n",
       "country                            9670\n",
       "UFO_shape                          1932\n",
       "length_of_encounter_seconds           0\n",
       "described_duration_of_encounter       0\n",
       "description                          15\n",
       "date_documented                       0\n",
       "latitude                              0\n",
       "longitude                             0\n",
       "Date                                  0\n",
       "Hour                                  0\n",
       "Min                                   0\n",
       "dtype: int64"
      ]
     },
     "execution_count": 123,
     "metadata": {},
     "output_type": "execute_result"
    }
   ],
   "source": [
    "ufo.isna().sum()"
   ]
  },
  {
   "cell_type": "markdown",
   "metadata": {},
   "source": [
    "Q131. Write a pandas program to get all sighting days of the  unidentified flying object (ufo) between 1950-10-10 and 1960-10-  10.   "
   ]
  },
  {
   "cell_type": "code",
   "execution_count": 124,
   "metadata": {},
   "outputs": [
    {
     "data": {
      "text/html": [
       "<div>\n",
       "<style scoped>\n",
       "    .dataframe tbody tr th:only-of-type {\n",
       "        vertical-align: middle;\n",
       "    }\n",
       "\n",
       "    .dataframe tbody tr th {\n",
       "        vertical-align: top;\n",
       "    }\n",
       "\n",
       "    .dataframe thead th {\n",
       "        text-align: right;\n",
       "    }\n",
       "</style>\n",
       "<table border=\"1\" class=\"dataframe\">\n",
       "  <thead>\n",
       "    <tr style=\"text-align: right;\">\n",
       "      <th></th>\n",
       "      <th>city</th>\n",
       "      <th>state/province</th>\n",
       "      <th>country</th>\n",
       "      <th>UFO_shape</th>\n",
       "      <th>length_of_encounter_seconds</th>\n",
       "      <th>described_duration_of_encounter</th>\n",
       "      <th>description</th>\n",
       "      <th>date_documented</th>\n",
       "      <th>latitude</th>\n",
       "      <th>longitude</th>\n",
       "      <th>Date</th>\n",
       "      <th>Hour</th>\n",
       "      <th>Min</th>\n",
       "    </tr>\n",
       "  </thead>\n",
       "  <tbody>\n",
       "    <tr>\n",
       "      <td>2</td>\n",
       "      <td>chester (uk/england)</td>\n",
       "      <td>NaN</td>\n",
       "      <td>gb</td>\n",
       "      <td>circle</td>\n",
       "      <td>20</td>\n",
       "      <td>20 seconds</td>\n",
       "      <td>Green/Orange circular disc over Chester&amp;#44 En...</td>\n",
       "      <td>1/21/2008</td>\n",
       "      <td>53.2</td>\n",
       "      <td>-2.916667</td>\n",
       "      <td>1955-10-10</td>\n",
       "      <td>17</td>\n",
       "      <td>0</td>\n",
       "    </tr>\n",
       "    <tr>\n",
       "      <td>3</td>\n",
       "      <td>edna</td>\n",
       "      <td>tx</td>\n",
       "      <td>us</td>\n",
       "      <td>circle</td>\n",
       "      <td>20</td>\n",
       "      <td>1/2 hour</td>\n",
       "      <td>My older brother and twin sister were leaving ...</td>\n",
       "      <td>1/17/2004</td>\n",
       "      <td>28.9783333</td>\n",
       "      <td>-96.645833</td>\n",
       "      <td>1956-10-10</td>\n",
       "      <td>21</td>\n",
       "      <td>0</td>\n",
       "    </tr>\n",
       "    <tr>\n",
       "      <td>480</td>\n",
       "      <td>fukuoka (japan)</td>\n",
       "      <td>NaN</td>\n",
       "      <td>NaN</td>\n",
       "      <td>disk</td>\n",
       "      <td>1200</td>\n",
       "      <td>about 20 mins</td>\n",
       "      <td>UFO seen by multiple U. S. military personnel;...</td>\n",
       "      <td>12/7/2006</td>\n",
       "      <td>33.590355</td>\n",
       "      <td>130.401716</td>\n",
       "      <td>1952-10-01</td>\n",
       "      <td>3</td>\n",
       "      <td>30</td>\n",
       "    </tr>\n",
       "    <tr>\n",
       "      <td>481</td>\n",
       "      <td>kansas city</td>\n",
       "      <td>mo</td>\n",
       "      <td>us</td>\n",
       "      <td>disk</td>\n",
       "      <td>90</td>\n",
       "      <td>90 sec.</td>\n",
       "      <td>1952 daylight sighting of multiple discs in fo...</td>\n",
       "      <td>10/31/2008</td>\n",
       "      <td>39.0997222</td>\n",
       "      <td>-94.578333</td>\n",
       "      <td>1952-10-01</td>\n",
       "      <td>12</td>\n",
       "      <td>0</td>\n",
       "    </tr>\n",
       "    <tr>\n",
       "      <td>482</td>\n",
       "      <td>flatwoods</td>\n",
       "      <td>wv</td>\n",
       "      <td>us</td>\n",
       "      <td>circle</td>\n",
       "      <td>60</td>\n",
       "      <td>1 minute</td>\n",
       "      <td>I saw the craft go across the horizon.  It app...</td>\n",
       "      <td>4/12/2013</td>\n",
       "      <td>38.7230556</td>\n",
       "      <td>-80.650000</td>\n",
       "      <td>1954-10-01</td>\n",
       "      <td>19</td>\n",
       "      <td>0</td>\n",
       "    </tr>\n",
       "    <tr>\n",
       "      <td>...</td>\n",
       "      <td>...</td>\n",
       "      <td>...</td>\n",
       "      <td>...</td>\n",
       "      <td>...</td>\n",
       "      <td>...</td>\n",
       "      <td>...</td>\n",
       "      <td>...</td>\n",
       "      <td>...</td>\n",
       "      <td>...</td>\n",
       "      <td>...</td>\n",
       "      <td>...</td>\n",
       "      <td>...</td>\n",
       "      <td>...</td>\n",
       "    </tr>\n",
       "    <tr>\n",
       "      <td>79262</td>\n",
       "      <td>buffalo</td>\n",
       "      <td>ny</td>\n",
       "      <td>us</td>\n",
       "      <td>oval</td>\n",
       "      <td>180</td>\n",
       "      <td>3 minutes</td>\n",
       "      <td>Precise movements of a &amp;quot;craft&amp;quot; appar...</td>\n",
       "      <td>9/15/2005</td>\n",
       "      <td>42.8864</td>\n",
       "      <td>-78.878611</td>\n",
       "      <td>1960-09-05</td>\n",
       "      <td>21</td>\n",
       "      <td>0</td>\n",
       "    </tr>\n",
       "    <tr>\n",
       "      <td>79668</td>\n",
       "      <td>arthur</td>\n",
       "      <td>nd</td>\n",
       "      <td>us</td>\n",
       "      <td>unknown</td>\n",
       "      <td>900</td>\n",
       "      <td>5-15 min.</td>\n",
       "      <td>Two lights of alternating color traveling and ...</td>\n",
       "      <td>10/31/2003</td>\n",
       "      <td>47.1042</td>\n",
       "      <td>-97.217778</td>\n",
       "      <td>1958-09-07</td>\n",
       "      <td>19</td>\n",
       "      <td>0</td>\n",
       "    </tr>\n",
       "    <tr>\n",
       "      <td>80101</td>\n",
       "      <td>philadelphia</td>\n",
       "      <td>pa</td>\n",
       "      <td>us</td>\n",
       "      <td>circle</td>\n",
       "      <td>180</td>\n",
       "      <td>3 minutes</td>\n",
       "      <td>saucers in a line over Phila Pa.</td>\n",
       "      <td>12/12/2009</td>\n",
       "      <td>39.9522</td>\n",
       "      <td>-75.164167</td>\n",
       "      <td>1952-09-09</td>\n",
       "      <td>20</td>\n",
       "      <td>0</td>\n",
       "    </tr>\n",
       "    <tr>\n",
       "      <td>80102</td>\n",
       "      <td>beaumont</td>\n",
       "      <td>tx</td>\n",
       "      <td>us</td>\n",
       "      <td>disk</td>\n",
       "      <td>300</td>\n",
       "      <td>5 minutes</td>\n",
       "      <td>Aprox. 30 Disk shaped UFOs fell out of clouds ...</td>\n",
       "      <td>1/17/2004</td>\n",
       "      <td>30.0858</td>\n",
       "      <td>-94.101667</td>\n",
       "      <td>1954-09-09</td>\n",
       "      <td>12</td>\n",
       "      <td>30</td>\n",
       "    </tr>\n",
       "    <tr>\n",
       "      <td>80103</td>\n",
       "      <td>norfolk</td>\n",
       "      <td>va</td>\n",
       "      <td>us</td>\n",
       "      <td>cigar</td>\n",
       "      <td>90</td>\n",
       "      <td>1.5 minutes</td>\n",
       "      <td>Unidentified Object Hovering over Interstate 2...</td>\n",
       "      <td>2/24/2007</td>\n",
       "      <td>36.8467</td>\n",
       "      <td>-76.285556</td>\n",
       "      <td>1956-09-09</td>\n",
       "      <td>5</td>\n",
       "      <td>55</td>\n",
       "    </tr>\n",
       "  </tbody>\n",
       "</table>\n",
       "<p>465 rows × 13 columns</p>\n",
       "</div>"
      ],
      "text/plain": [
       "                       city state/province country UFO_shape  \\\n",
       "2      chester (uk/england)            NaN      gb    circle   \n",
       "3                      edna             tx      us    circle   \n",
       "480         fukuoka (japan)            NaN     NaN      disk   \n",
       "481             kansas city             mo      us      disk   \n",
       "482               flatwoods             wv      us    circle   \n",
       "...                     ...            ...     ...       ...   \n",
       "79262               buffalo             ny      us      oval   \n",
       "79668                arthur             nd      us   unknown   \n",
       "80101          philadelphia             pa      us    circle   \n",
       "80102              beaumont             tx      us      disk   \n",
       "80103               norfolk             va      us     cigar   \n",
       "\n",
       "      length_of_encounter_seconds described_duration_of_encounter  \\\n",
       "2                              20                      20 seconds   \n",
       "3                              20                        1/2 hour   \n",
       "480                          1200                   about 20 mins   \n",
       "481                            90                         90 sec.   \n",
       "482                            60                        1 minute   \n",
       "...                           ...                             ...   \n",
       "79262                         180                       3 minutes   \n",
       "79668                         900                       5-15 min.   \n",
       "80101                         180                       3 minutes   \n",
       "80102                         300                       5 minutes   \n",
       "80103                          90                     1.5 minutes   \n",
       "\n",
       "                                             description date_documented  \\\n",
       "2      Green/Orange circular disc over Chester&#44 En...       1/21/2008   \n",
       "3      My older brother and twin sister were leaving ...       1/17/2004   \n",
       "480    UFO seen by multiple U. S. military personnel;...       12/7/2006   \n",
       "481    1952 daylight sighting of multiple discs in fo...      10/31/2008   \n",
       "482    I saw the craft go across the horizon.  It app...       4/12/2013   \n",
       "...                                                  ...             ...   \n",
       "79262  Precise movements of a &quot;craft&quot; appar...       9/15/2005   \n",
       "79668  Two lights of alternating color traveling and ...      10/31/2003   \n",
       "80101                   saucers in a line over Phila Pa.      12/12/2009   \n",
       "80102  Aprox. 30 Disk shaped UFOs fell out of clouds ...       1/17/2004   \n",
       "80103  Unidentified Object Hovering over Interstate 2...       2/24/2007   \n",
       "\n",
       "         latitude   longitude       Date  Hour  Min  \n",
       "2            53.2   -2.916667 1955-10-10    17    0  \n",
       "3      28.9783333  -96.645833 1956-10-10    21    0  \n",
       "480     33.590355  130.401716 1952-10-01     3   30  \n",
       "481    39.0997222  -94.578333 1952-10-01    12    0  \n",
       "482    38.7230556  -80.650000 1954-10-01    19    0  \n",
       "...           ...         ...        ...   ...  ...  \n",
       "79262     42.8864  -78.878611 1960-09-05    21    0  \n",
       "79668     47.1042  -97.217778 1958-09-07    19    0  \n",
       "80101     39.9522  -75.164167 1952-09-09    20    0  \n",
       "80102     30.0858  -94.101667 1954-09-09    12   30  \n",
       "80103     36.8467  -76.285556 1956-09-09     5   55  \n",
       "\n",
       "[465 rows x 13 columns]"
      ]
     },
     "execution_count": 124,
     "metadata": {},
     "output_type": "execute_result"
    }
   ],
   "source": [
    "ufo[(ufo['Date']>'1950-10-10' ) & (ufo['Date']<'1960-10-10' )]"
   ]
  },
  {
   "cell_type": "markdown",
   "metadata": {},
   "source": [
    "Q132. Write a Pandas program to extract the year, month, day, hour,  minute, second, and weekday from unidentified flying object (UFO)  reporting date.   "
   ]
  },
  {
   "cell_type": "code",
   "execution_count": 125,
   "metadata": {},
   "outputs": [
    {
     "data": {
      "text/html": [
       "<div>\n",
       "<style scoped>\n",
       "    .dataframe tbody tr th:only-of-type {\n",
       "        vertical-align: middle;\n",
       "    }\n",
       "\n",
       "    .dataframe tbody tr th {\n",
       "        vertical-align: top;\n",
       "    }\n",
       "\n",
       "    .dataframe thead th {\n",
       "        text-align: right;\n",
       "    }\n",
       "</style>\n",
       "<table border=\"1\" class=\"dataframe\">\n",
       "  <thead>\n",
       "    <tr style=\"text-align: right;\">\n",
       "      <th></th>\n",
       "      <th>city</th>\n",
       "      <th>state/province</th>\n",
       "      <th>country</th>\n",
       "      <th>UFO_shape</th>\n",
       "      <th>length_of_encounter_seconds</th>\n",
       "      <th>described_duration_of_encounter</th>\n",
       "      <th>description</th>\n",
       "      <th>date_documented</th>\n",
       "      <th>latitude</th>\n",
       "      <th>longitude</th>\n",
       "      <th>Date</th>\n",
       "      <th>Hour</th>\n",
       "      <th>Min</th>\n",
       "      <th>Year</th>\n",
       "      <th>Month</th>\n",
       "      <th>Day</th>\n",
       "      <th>weekday</th>\n",
       "    </tr>\n",
       "  </thead>\n",
       "  <tbody>\n",
       "    <tr>\n",
       "      <td>0</td>\n",
       "      <td>san marcos</td>\n",
       "      <td>tx</td>\n",
       "      <td>us</td>\n",
       "      <td>cylinder</td>\n",
       "      <td>2700</td>\n",
       "      <td>45 minutes</td>\n",
       "      <td>This event took place in early fall around 194...</td>\n",
       "      <td>4/27/2004</td>\n",
       "      <td>29.8830556</td>\n",
       "      <td>-97.941111</td>\n",
       "      <td>1949-10-10</td>\n",
       "      <td>20</td>\n",
       "      <td>30</td>\n",
       "      <td>1949</td>\n",
       "      <td>10</td>\n",
       "      <td>10</td>\n",
       "      <td>0</td>\n",
       "    </tr>\n",
       "    <tr>\n",
       "      <td>1</td>\n",
       "      <td>lackland afb</td>\n",
       "      <td>tx</td>\n",
       "      <td>NaN</td>\n",
       "      <td>light</td>\n",
       "      <td>7200</td>\n",
       "      <td>1-2 hrs</td>\n",
       "      <td>1949 Lackland AFB&amp;#44 TX.  Lights racing acros...</td>\n",
       "      <td>12/16/2005</td>\n",
       "      <td>29.38421</td>\n",
       "      <td>-98.581082</td>\n",
       "      <td>1949-10-10</td>\n",
       "      <td>21</td>\n",
       "      <td>0</td>\n",
       "      <td>1949</td>\n",
       "      <td>10</td>\n",
       "      <td>10</td>\n",
       "      <td>0</td>\n",
       "    </tr>\n",
       "    <tr>\n",
       "      <td>2</td>\n",
       "      <td>chester (uk/england)</td>\n",
       "      <td>NaN</td>\n",
       "      <td>gb</td>\n",
       "      <td>circle</td>\n",
       "      <td>20</td>\n",
       "      <td>20 seconds</td>\n",
       "      <td>Green/Orange circular disc over Chester&amp;#44 En...</td>\n",
       "      <td>1/21/2008</td>\n",
       "      <td>53.2</td>\n",
       "      <td>-2.916667</td>\n",
       "      <td>1955-10-10</td>\n",
       "      <td>17</td>\n",
       "      <td>0</td>\n",
       "      <td>1955</td>\n",
       "      <td>10</td>\n",
       "      <td>10</td>\n",
       "      <td>0</td>\n",
       "    </tr>\n",
       "  </tbody>\n",
       "</table>\n",
       "</div>"
      ],
      "text/plain": [
       "                   city state/province country UFO_shape  \\\n",
       "0            san marcos             tx      us  cylinder   \n",
       "1          lackland afb             tx     NaN     light   \n",
       "2  chester (uk/england)            NaN      gb    circle   \n",
       "\n",
       "  length_of_encounter_seconds described_duration_of_encounter  \\\n",
       "0                        2700                      45 minutes   \n",
       "1                        7200                         1-2 hrs   \n",
       "2                          20                      20 seconds   \n",
       "\n",
       "                                         description date_documented  \\\n",
       "0  This event took place in early fall around 194...       4/27/2004   \n",
       "1  1949 Lackland AFB&#44 TX.  Lights racing acros...      12/16/2005   \n",
       "2  Green/Orange circular disc over Chester&#44 En...       1/21/2008   \n",
       "\n",
       "     latitude  longitude       Date  Hour  Min  Year  Month  Day  weekday  \n",
       "0  29.8830556 -97.941111 1949-10-10    20   30  1949     10   10        0  \n",
       "1    29.38421 -98.581082 1949-10-10    21    0  1949     10   10        0  \n",
       "2        53.2  -2.916667 1955-10-10    17    0  1955     10   10        0  "
      ]
     },
     "execution_count": 125,
     "metadata": {},
     "output_type": "execute_result"
    }
   ],
   "source": [
    "#the hour and min extraction is already done in the question above\n",
    "ufo['Year'] =pd.DatetimeIndex(ufo['Date']).year\n",
    "ufo['Month'] =pd.DatetimeIndex(ufo['Date']).month\n",
    "ufo['Day'] =pd.DatetimeIndex(ufo['Date']).day\n",
    "ufo['weekday'] =pd.DatetimeIndex(ufo['Date']).dayofweek\n",
    "ufo.head(3)"
   ]
  },
  {
   "cell_type": "markdown",
   "metadata": {},
   "source": [
    "Q133. Write a pandas program to count year-country wise frequency of  reporting dates of the unidentified flying object(UFO)."
   ]
  },
  {
   "cell_type": "code",
   "execution_count": 212,
   "metadata": {},
   "outputs": [
    {
     "name": "stdout",
     "output_type": "stream",
     "text": [
      "country_filled_dataset: \n",
      "           city state/province country UFO_shape length_of_encounter_seconds  \\\n",
      "0    san marcos             tx      us  cylinder                        2700   \n",
      "1  lackland afb             tx      us     light                        7200   \n",
      "\n",
      "  described_duration_of_encounter  \\\n",
      "0                      45 minutes   \n",
      "1                         1-2 hrs   \n",
      "\n",
      "                                         description date_documented  \\\n",
      "0  This event took place in early fall around 194...      2004-04-27   \n",
      "1  1949 Lackland AFB&#44 TX.  Lights racing acros...      2005-12-16   \n",
      "\n",
      "     latitude  longitude       Date  Hour  Min  Year  Month  Day  weekday  \\\n",
      "0  29.8830556 -97.941111 1949-10-10    20   30  1949     10   10        0   \n",
      "1    29.38421 -98.581082 1949-10-10    21    0  1949     10   10        0   \n",
      "\n",
      "  days_diff_btwn_reported_and_documented_date  \n",
      "0                                  19923 days  \n",
      "1                                  20521 days  \n",
      "xxxxxxxxxxxxxxxxxxxxxxxxxxxxxxxxxxxxxxxxxxxxxxxxxxxxxxxxxxxxxxxxxxxxxxxxxxxxxxxxxxxxxxxxxxxxxxxxxxxx\n",
      "pivot table: \n",
      "country     au      ca    fra      gb    ind  rus  spain       us    All\n",
      "Year                                                                    \n",
      "1910       NaN     NaN    NaN     NaN    NaN  NaN    NaN      2.0      2\n",
      "1916       NaN     NaN    2.0     NaN    NaN  NaN    NaN      NaN      2\n",
      "1920       NaN     NaN    NaN     NaN    NaN  NaN    NaN      1.0      1\n",
      "1925       NaN     NaN    NaN     NaN    NaN  NaN    NaN      1.0      1\n",
      "1929       NaN     NaN    NaN     NaN    NaN  NaN    NaN      1.0      1\n",
      "...        ...     ...    ...     ...    ...  ...    ...      ...    ...\n",
      "2011      14.0   149.0   12.0    51.0    6.0  NaN    3.0   4759.0   4994\n",
      "2012      25.0   287.0    6.0    85.0   28.0  1.0    7.0   6776.0   7215\n",
      "2013      37.0   304.0    2.0    48.0   26.0  NaN    2.0   6519.0   6938\n",
      "2014      16.0    57.0    NaN    18.0   14.0  NaN    3.0   2098.0   2206\n",
      "All      639.0  3587.0  128.0  2064.0  243.0  7.0   67.0  71151.0  77886\n",
      "\n",
      "[87 rows x 9 columns]\n",
      "xxxxxxxxxxxxxxxxxxxxxxxxxxxxxxxxxxxxxxxxxxxxxxxxxxxxxxxxxxxxxxxxxxxxxxxxxxxxxxxxxxxxxxxxxxxxxxxxxxxx\n",
      "shape of the newly created dataframe: \n",
      "(77886, 18)\n",
      "xxxxxxxxxxxxxxxxxxxxxxxxxxxxxxxxxxxxxxxxxxxxxxxxxxxxxxxxxxxxxxxxxxxxxxxxxxxxxxxxxxxxxxxxxxxxxxxxxxxx\n",
      "Nan values sum of each feature:\n",
      " city                                              0\n",
      "state/province                                 3102\n",
      "country                                           0\n",
      "UFO_shape                                      1877\n",
      "length_of_encounter_seconds                       0\n",
      "described_duration_of_encounter                   0\n",
      "description                                      14\n",
      "date_documented                                   0\n",
      "latitude                                          0\n",
      "longitude                                         0\n",
      "Date                                              0\n",
      "Hour                                              0\n",
      "Min                                               0\n",
      "Year                                              0\n",
      "Month                                             0\n",
      "Day                                               0\n",
      "weekday                                           0\n",
      "days_diff_btwn_reported_and_documented_date       0\n",
      "dtype: int64\n"
     ]
    }
   ],
   "source": [
    "ufo.country.unique()\n",
    "def fill_country(ufo):\n",
    "    US_state_list = ufo[ufo.country == 'us']['state/province'].unique()\n",
    "    ufo_US = ufo[ufo['state/province'].isin(US_state_list)]\n",
    "    ufo_US['country'] = ufo_US.country.fillna('us')\n",
    "    ufo_UK = ufo[ufo.city.str.contains(\"england\")]\n",
    "    ufo_UK['country'] = ufo_UK.country.fillna('gb')\n",
    "    ufo_AUS = ufo[ufo.city.str.contains(\"australia\")]\n",
    "    ufo_AUS['country'] = ufo_AUS.country.fillna('au')\n",
    "    ufo_CAN = ufo[ufo.city.str.contains(\"canada\")]\n",
    "    ufo_CAN['country'] = ufo_CAN.country.fillna('ca')\n",
    "    ufo_GER = ufo[ufo.city.str.contains(\"germany\")]\n",
    "    ufo_GER['country'] = ufo_GER.country.fillna('de')\n",
    "    ufo_IND = ufo[ufo.city.str.contains(\"india\")]\n",
    "    ufo_IND['country'] = ufo_IND.country.fillna('ind')\n",
    "    ufo_FRA = ufo[ufo.city.str.contains(\"france\")]\n",
    "    ufo_FRA['country'] = ufo_FRA.country.fillna('fra')\n",
    "    ufo_SPAIN = ufo[ufo.city.str.contains(\"spain\")]\n",
    "    ufo_SPAIN['country'] = ufo_SPAIN.country.fillna('spain')\n",
    "    ufo_RUS = ufo[ufo.city.str.contains(\"russia\")]\n",
    "    ufo_RUS['country'] = ufo_RUS.country.fillna('rus')\n",
    "    ufo_list = [ufo_US,ufo_UK, ufo_AUS,ufo_CAN,ufo_FRA,ufo_IND, ufo_SPAIN, ufo_FRA, ufo_RUS]\n",
    "    ufo_country_filled = pd.concat((df for df in ufo_list), ignore_index=True)\n",
    "    return ufo_country_filled\n",
    "print('country_filled_dataset: \\n{}'.format(ufo_country_filled.head(2)))\n",
    "print(\"x\"*100)      \n",
    "print('pivot table: \\n{}'.format(ufo_country_filled.pivot_table(index=['Year'], columns='country', values='Date', aggfunc='count',\n",
    "                    margins=True)))   \n",
    "print(\"x\"*100)\n",
    "print('shape of the newly created dataframe: \\n{}'.format(ufo_country_filled.shape))\n",
    "print(\"x\"*100)\n",
    "print('Nan values sum of each feature:\\n {}'.format(ufo_country_filled.isna().sum()))"
   ]
  },
  {
   "cell_type": "markdown",
   "metadata": {},
   "source": [
    " Q134.  Write a pandas program to get the difference (in days) between documented date and reporting date of unidentified flying object (UFO).   "
   ]
  },
  {
   "cell_type": "code",
   "execution_count": 145,
   "metadata": {},
   "outputs": [
    {
     "data": {
      "text/html": [
       "<div>\n",
       "<style scoped>\n",
       "    .dataframe tbody tr th:only-of-type {\n",
       "        vertical-align: middle;\n",
       "    }\n",
       "\n",
       "    .dataframe tbody tr th {\n",
       "        vertical-align: top;\n",
       "    }\n",
       "\n",
       "    .dataframe thead th {\n",
       "        text-align: right;\n",
       "    }\n",
       "</style>\n",
       "<table border=\"1\" class=\"dataframe\">\n",
       "  <thead>\n",
       "    <tr style=\"text-align: right;\">\n",
       "      <th></th>\n",
       "      <th>city</th>\n",
       "      <th>state/province</th>\n",
       "      <th>country</th>\n",
       "      <th>UFO_shape</th>\n",
       "      <th>length_of_encounter_seconds</th>\n",
       "      <th>described_duration_of_encounter</th>\n",
       "      <th>description</th>\n",
       "      <th>date_documented</th>\n",
       "      <th>latitude</th>\n",
       "      <th>longitude</th>\n",
       "      <th>Date</th>\n",
       "      <th>Hour</th>\n",
       "      <th>Min</th>\n",
       "      <th>Year</th>\n",
       "      <th>Month</th>\n",
       "      <th>Day</th>\n",
       "      <th>weekday</th>\n",
       "      <th>days_diff_btwn_reported_and_documented_date</th>\n",
       "    </tr>\n",
       "  </thead>\n",
       "  <tbody>\n",
       "    <tr>\n",
       "      <td>0</td>\n",
       "      <td>san marcos</td>\n",
       "      <td>tx</td>\n",
       "      <td>us</td>\n",
       "      <td>cylinder</td>\n",
       "      <td>2700</td>\n",
       "      <td>45 minutes</td>\n",
       "      <td>This event took place in early fall around 194...</td>\n",
       "      <td>2004-04-27</td>\n",
       "      <td>29.8830556</td>\n",
       "      <td>-97.941111</td>\n",
       "      <td>1949-10-10</td>\n",
       "      <td>20</td>\n",
       "      <td>30</td>\n",
       "      <td>1949</td>\n",
       "      <td>10</td>\n",
       "      <td>10</td>\n",
       "      <td>0</td>\n",
       "      <td>19923 days</td>\n",
       "    </tr>\n",
       "    <tr>\n",
       "      <td>1</td>\n",
       "      <td>lackland afb</td>\n",
       "      <td>tx</td>\n",
       "      <td>us</td>\n",
       "      <td>light</td>\n",
       "      <td>7200</td>\n",
       "      <td>1-2 hrs</td>\n",
       "      <td>1949 Lackland AFB&amp;#44 TX.  Lights racing acros...</td>\n",
       "      <td>2005-12-16</td>\n",
       "      <td>29.38421</td>\n",
       "      <td>-98.581082</td>\n",
       "      <td>1949-10-10</td>\n",
       "      <td>21</td>\n",
       "      <td>0</td>\n",
       "      <td>1949</td>\n",
       "      <td>10</td>\n",
       "      <td>10</td>\n",
       "      <td>0</td>\n",
       "      <td>20521 days</td>\n",
       "    </tr>\n",
       "  </tbody>\n",
       "</table>\n",
       "</div>"
      ],
      "text/plain": [
       "           city state/province country UFO_shape length_of_encounter_seconds  \\\n",
       "0    san marcos             tx      us  cylinder                        2700   \n",
       "1  lackland afb             tx      us     light                        7200   \n",
       "\n",
       "  described_duration_of_encounter  \\\n",
       "0                      45 minutes   \n",
       "1                         1-2 hrs   \n",
       "\n",
       "                                         description date_documented  \\\n",
       "0  This event took place in early fall around 194...      2004-04-27   \n",
       "1  1949 Lackland AFB&#44 TX.  Lights racing acros...      2005-12-16   \n",
       "\n",
       "     latitude  longitude       Date  Hour  Min  Year  Month  Day  weekday  \\\n",
       "0  29.8830556 -97.941111 1949-10-10    20   30  1949     10   10        0   \n",
       "1    29.38421 -98.581082 1949-10-10    21    0  1949     10   10        0   \n",
       "\n",
       "  days_diff_btwn_reported_and_documented_date  \n",
       "0                                  19923 days  \n",
       "1                                  20521 days  "
      ]
     },
     "execution_count": 145,
     "metadata": {},
     "output_type": "execute_result"
    }
   ],
   "source": [
    "ufo_country_filled['date_documented'] = pd.DatetimeIndex(ufo_country_filled['date_documented'])\n",
    "ufo_country_filled['days_diff_btwn_reported_and_documented_date'] = ufo_country_filled['date_documented'] - ufo_country_filled['Date']\n",
    "ufo_country_filled.head(2)"
   ]
  },
  {
   "cell_type": "markdown",
   "metadata": {},
   "source": [
    "Q135. Write a pandas program to generate sequences of fixed-  frequency dates and time spans"
   ]
  },
  {
   "cell_type": "code",
   "execution_count": 146,
   "metadata": {},
   "outputs": [
    {
     "data": {
      "text/plain": [
       "DatetimeIndex(['2018-01-01 00:00:00', '2018-01-01 01:00:00',\n",
       "               '2018-01-01 02:00:00'],\n",
       "              dtype='datetime64[ns]', freq='H')"
      ]
     },
     "execution_count": 146,
     "metadata": {},
     "output_type": "execute_result"
    }
   ],
   "source": [
    "import datetime\n",
    "dti = pd.date_range('2018-01-01', periods=3, freq='H')\n",
    "dti"
   ]
  },
  {
   "cell_type": "markdown",
   "metadata": {},
   "source": [
    "Q136. Write a pandas program to manipulate and convert date times   with timezone information. "
   ]
  },
  {
   "cell_type": "code",
   "execution_count": 159,
   "metadata": {},
   "outputs": [
    {
     "data": {
      "text/plain": [
       "DatetimeIndex(['2017-12-31 16:00:00-08:00', '2017-12-31 17:00:00-08:00',\n",
       "               '2017-12-31 18:00:00-08:00'],\n",
       "              dtype='datetime64[ns, US/Pacific]', freq='H')"
      ]
     },
     "execution_count": 159,
     "metadata": {},
     "output_type": "execute_result"
    }
   ],
   "source": [
    "import datetime\n",
    "dti = pd.date_range('2018-01-01', periods=3, freq='H')\n",
    "dti = dti.tz_localize('UTC')\n",
    "dti.tz_convert('US/Pacific')"
   ]
  },
  {
   "cell_type": "markdown",
   "metadata": {},
   "source": [
    "Q137. Write a pandas program to create the graphical analysis of UFO (unidentified flying object) Sightings year.   "
   ]
  },
  {
   "cell_type": "code",
   "execution_count": 171,
   "metadata": {},
   "outputs": [
    {
     "data": {
      "text/plain": [
       "(array([5.0000e+00, 3.0000e+00, 1.2000e+01, 1.4200e+02, 4.8400e+02,\n",
       "        1.5650e+03, 2.4460e+03, 2.4010e+03, 2.0493e+04, 5.0335e+04]),\n",
       " array([1910. , 1920.4, 1930.8, 1941.2, 1951.6, 1962. , 1972.4, 1982.8,\n",
       "        1993.2, 2003.6, 2014. ]),\n",
       " <a list of 10 Patch objects>)"
      ]
     },
     "execution_count": 171,
     "metadata": {},
     "output_type": "execute_result"
    },
    {
     "data": {
      "image/png": "[encoded data removed]",
      "text/plain": [
       "<Figure size 432x288 with 1 Axes>"
      ]
     },
     "metadata": {
      "needs_background": "light"
     },
     "output_type": "display_data"
    }
   ],
   "source": [
    "import matplotlib.pyplot as plt\n",
    "%matplotlib inline\n",
    "import numpy as np\n",
    "x = ufo_country_filled['Year']\n",
    "plt.hist(x,edgecolor='black')"
   ]
  },
  {
   "cell_type": "code",
   "execution_count": 175,
   "metadata": {},
   "outputs": [
    {
     "data": {
      "image/png": "[encoded data removed]",
      "text/plain": [
       "<Figure size 1440x576 with 1 Axes>"
      ]
     },
     "metadata": {
      "needs_background": "light"
     },
     "output_type": "display_data"
    }
   ],
   "source": [
    "# or using seaborn relplot\n",
    "import seaborn as sns\n",
    "import pandas as pd\n",
    "import numpy as np\n",
    "import matplotlib.pyplot as plt\n",
    "%matplotlib inline\n",
    "plt.figure(figsize=(20,8))\n",
    "plt.title('UFO Sightings by Year')\n",
    "plt.xlabel(\"Year\")\n",
    "plt.ylabel(\"Number of sightings\")\n",
    "sns.countplot(ufo_country_filled['Year'], data = ufo_country_filled)\n",
    "plt.show()"
   ]
  },
  {
   "cell_type": "code",
   "execution_count": 176,
   "metadata": {},
   "outputs": [
    {
     "data": {
      "image/png": "[encoded data removed]",
      "text/plain": [
       "<Figure size 1440x576 with 1 Axes>"
      ]
     },
     "metadata": {
      "needs_background": "light"
     },
     "output_type": "display_data"
    }
   ],
   "source": [
    "# or bar plot\n",
    "sighting_count = ufo_country_filled['Year'].value_counts()\n",
    "plt.figure(figsize=(20,8))\n",
    "plt.title('UFO Sightings by Year')\n",
    "plt.xlabel(\"Year\")\n",
    "plt.ylabel(\"Number of sightings\")\n",
    "sns.barplot(ufo_country_filled['Year'],sighting_count)\n",
    "plt.show()"
   ]
  },
  {
   "cell_type": "markdown",
   "metadata": {},
   "source": [
    "Q138. Write a pandas program to create a comparison of the top 10   years in which the (UFO) was sighted VS each Month. "
   ]
  },
  {
   "cell_type": "code",
   "execution_count": 196,
   "metadata": {},
   "outputs": [
    {
     "data": {
      "text/html": [
       "<div>\n",
       "<style scoped>\n",
       "    .dataframe tbody tr th:only-of-type {\n",
       "        vertical-align: middle;\n",
       "    }\n",
       "\n",
       "    .dataframe tbody tr th {\n",
       "        vertical-align: top;\n",
       "    }\n",
       "\n",
       "    .dataframe thead th {\n",
       "        text-align: right;\n",
       "    }\n",
       "</style>\n",
       "<table border=\"1\" class=\"dataframe\">\n",
       "  <thead>\n",
       "    <tr style=\"text-align: right;\">\n",
       "      <th>Month</th>\n",
       "      <th>1</th>\n",
       "      <th>2</th>\n",
       "      <th>3</th>\n",
       "      <th>4</th>\n",
       "      <th>5</th>\n",
       "      <th>6</th>\n",
       "      <th>7</th>\n",
       "      <th>8</th>\n",
       "      <th>9</th>\n",
       "      <th>10</th>\n",
       "      <th>11</th>\n",
       "      <th>12</th>\n",
       "    </tr>\n",
       "    <tr>\n",
       "      <th>Year</th>\n",
       "      <th></th>\n",
       "      <th></th>\n",
       "      <th></th>\n",
       "      <th></th>\n",
       "      <th></th>\n",
       "      <th></th>\n",
       "      <th></th>\n",
       "      <th></th>\n",
       "      <th></th>\n",
       "      <th></th>\n",
       "      <th></th>\n",
       "      <th></th>\n",
       "    </tr>\n",
       "  </thead>\n",
       "  <tbody>\n",
       "    <tr>\n",
       "      <td>2014</td>\n",
       "      <td>629.0</td>\n",
       "      <td>474.0</td>\n",
       "      <td>429.0</td>\n",
       "      <td>554.0</td>\n",
       "      <td>120.0</td>\n",
       "      <td>NaN</td>\n",
       "      <td>NaN</td>\n",
       "      <td>NaN</td>\n",
       "      <td>NaN</td>\n",
       "      <td>NaN</td>\n",
       "      <td>NaN</td>\n",
       "      <td>NaN</td>\n",
       "    </tr>\n",
       "    <tr>\n",
       "      <td>2013</td>\n",
       "      <td>348.0</td>\n",
       "      <td>260.0</td>\n",
       "      <td>365.0</td>\n",
       "      <td>380.0</td>\n",
       "      <td>482.0</td>\n",
       "      <td>579.0</td>\n",
       "      <td>899.0</td>\n",
       "      <td>828.0</td>\n",
       "      <td>706.0</td>\n",
       "      <td>710.0</td>\n",
       "      <td>707.0</td>\n",
       "      <td>674.0</td>\n",
       "    </tr>\n",
       "    <tr>\n",
       "      <td>2012</td>\n",
       "      <td>513.0</td>\n",
       "      <td>346.0</td>\n",
       "      <td>476.0</td>\n",
       "      <td>454.0</td>\n",
       "      <td>463.0</td>\n",
       "      <td>688.0</td>\n",
       "      <td>870.0</td>\n",
       "      <td>813.0</td>\n",
       "      <td>679.0</td>\n",
       "      <td>604.0</td>\n",
       "      <td>708.0</td>\n",
       "      <td>601.0</td>\n",
       "    </tr>\n",
       "    <tr>\n",
       "      <td>2011</td>\n",
       "      <td>281.0</td>\n",
       "      <td>251.0</td>\n",
       "      <td>292.0</td>\n",
       "      <td>287.0</td>\n",
       "      <td>275.0</td>\n",
       "      <td>359.0</td>\n",
       "      <td>707.0</td>\n",
       "      <td>594.0</td>\n",
       "      <td>498.0</td>\n",
       "      <td>585.0</td>\n",
       "      <td>392.0</td>\n",
       "      <td>473.0</td>\n",
       "    </tr>\n",
       "    <tr>\n",
       "      <td>2010</td>\n",
       "      <td>241.0</td>\n",
       "      <td>163.0</td>\n",
       "      <td>223.0</td>\n",
       "      <td>253.0</td>\n",
       "      <td>298.0</td>\n",
       "      <td>325.0</td>\n",
       "      <td>782.0</td>\n",
       "      <td>466.0</td>\n",
       "      <td>407.0</td>\n",
       "      <td>417.0</td>\n",
       "      <td>310.0</td>\n",
       "      <td>264.0</td>\n",
       "    </tr>\n",
       "    <tr>\n",
       "      <td>2009</td>\n",
       "      <td>434.0</td>\n",
       "      <td>355.0</td>\n",
       "      <td>297.0</td>\n",
       "      <td>282.0</td>\n",
       "      <td>322.0</td>\n",
       "      <td>350.0</td>\n",
       "      <td>532.0</td>\n",
       "      <td>457.0</td>\n",
       "      <td>560.0</td>\n",
       "      <td>279.0</td>\n",
       "      <td>283.0</td>\n",
       "      <td>246.0</td>\n",
       "    </tr>\n",
       "    <tr>\n",
       "      <td>2008</td>\n",
       "      <td>422.0</td>\n",
       "      <td>332.0</td>\n",
       "      <td>302.0</td>\n",
       "      <td>400.0</td>\n",
       "      <td>303.0</td>\n",
       "      <td>432.0</td>\n",
       "      <td>503.0</td>\n",
       "      <td>456.0</td>\n",
       "      <td>354.0</td>\n",
       "      <td>474.0</td>\n",
       "      <td>405.0</td>\n",
       "      <td>304.0</td>\n",
       "    </tr>\n",
       "    <tr>\n",
       "      <td>2007</td>\n",
       "      <td>387.0</td>\n",
       "      <td>234.0</td>\n",
       "      <td>318.0</td>\n",
       "      <td>279.0</td>\n",
       "      <td>269.0</td>\n",
       "      <td>373.0</td>\n",
       "      <td>422.0</td>\n",
       "      <td>413.0</td>\n",
       "      <td>405.0</td>\n",
       "      <td>388.0</td>\n",
       "      <td>337.0</td>\n",
       "      <td>316.0</td>\n",
       "    </tr>\n",
       "    <tr>\n",
       "      <td>2006</td>\n",
       "      <td>215.0</td>\n",
       "      <td>202.0</td>\n",
       "      <td>265.0</td>\n",
       "      <td>282.0</td>\n",
       "      <td>251.0</td>\n",
       "      <td>283.0</td>\n",
       "      <td>367.0</td>\n",
       "      <td>371.0</td>\n",
       "      <td>279.0</td>\n",
       "      <td>358.0</td>\n",
       "      <td>369.0</td>\n",
       "      <td>344.0</td>\n",
       "    </tr>\n",
       "    <tr>\n",
       "      <td>2005</td>\n",
       "      <td>217.0</td>\n",
       "      <td>243.0</td>\n",
       "      <td>311.0</td>\n",
       "      <td>283.0</td>\n",
       "      <td>258.0</td>\n",
       "      <td>360.0</td>\n",
       "      <td>407.0</td>\n",
       "      <td>308.0</td>\n",
       "      <td>462.0</td>\n",
       "      <td>436.0</td>\n",
       "      <td>408.0</td>\n",
       "      <td>249.0</td>\n",
       "    </tr>\n",
       "  </tbody>\n",
       "</table>\n",
       "</div>"
      ],
      "text/plain": [
       "Month     1      2      3      4      5      6      7      8      9      10  \\\n",
       "Year                                                                          \n",
       "2014   629.0  474.0  429.0  554.0  120.0    NaN    NaN    NaN    NaN    NaN   \n",
       "2013   348.0  260.0  365.0  380.0  482.0  579.0  899.0  828.0  706.0  710.0   \n",
       "2012   513.0  346.0  476.0  454.0  463.0  688.0  870.0  813.0  679.0  604.0   \n",
       "2011   281.0  251.0  292.0  287.0  275.0  359.0  707.0  594.0  498.0  585.0   \n",
       "2010   241.0  163.0  223.0  253.0  298.0  325.0  782.0  466.0  407.0  417.0   \n",
       "2009   434.0  355.0  297.0  282.0  322.0  350.0  532.0  457.0  560.0  279.0   \n",
       "2008   422.0  332.0  302.0  400.0  303.0  432.0  503.0  456.0  354.0  474.0   \n",
       "2007   387.0  234.0  318.0  279.0  269.0  373.0  422.0  413.0  405.0  388.0   \n",
       "2006   215.0  202.0  265.0  282.0  251.0  283.0  367.0  371.0  279.0  358.0   \n",
       "2005   217.0  243.0  311.0  283.0  258.0  360.0  407.0  308.0  462.0  436.0   \n",
       "\n",
       "Month     11     12  \n",
       "Year                 \n",
       "2014     NaN    NaN  \n",
       "2013   707.0  674.0  \n",
       "2012   708.0  601.0  \n",
       "2011   392.0  473.0  \n",
       "2010   310.0  264.0  \n",
       "2009   283.0  246.0  \n",
       "2008   405.0  304.0  \n",
       "2007   337.0  316.0  \n",
       "2006   369.0  344.0  \n",
       "2005   408.0  249.0  "
      ]
     },
     "execution_count": 196,
     "metadata": {},
     "output_type": "execute_result"
    }
   ],
   "source": [
    "ufo_country_filled.groupby(['Year','Month']).Year.count().unstack().sort_values(by='Year', ascending=False).head(10)"
   ]
  },
  {
   "cell_type": "markdown",
   "metadata": {},
   "source": [
    "Q139. Write a pandas program to create a heatmap (rectangular data as a colour-encoded matrix) for comparison of top 10 years in which (UFO ) was sighted VS each Month. "
   ]
  },
  {
   "cell_type": "code",
   "execution_count": 206,
   "metadata": {},
   "outputs": [
    {
     "data": {
      "text/plain": [
       "<matplotlib.axes._subplots.AxesSubplot at 0x1e59f805d48>"
      ]
     },
     "execution_count": 206,
     "metadata": {},
     "output_type": "execute_result"
    },
    {
     "data": {
      "image/png": "[encoded data removed]",
      "text/plain": [
       "<Figure size 1080x1080 with 2 Axes>"
      ]
     },
     "metadata": {
      "needs_background": "light"
     },
     "output_type": "display_data"
    }
   ],
   "source": [
    "df = ufo_country_filled.groupby(['Year','Month']).Year.count().unstack().sort_values(by='Year', ascending=False).head(10)\n",
    "import seaborn as sns\n",
    "import matplotlib.pyplot as plt\n",
    "%matplotlib inline\n",
    "from matplotlib.pylab import rcParams\n",
    "rcParams['figure.figsize'] = 15, 15\n",
    "sns.heatmap(df, \n",
    "        xticklabels=df.columns,\n",
    "        yticklabels=df.columns)"
   ]
  },
  {
   "cell_type": "markdown",
   "metadata": {},
   "source": [
    "Q140. Write a pandas program to create a Timewheel of Hour VS Year comparison of the top 10 years in which the (UFO) was sighted. "
   ]
  },
  {
   "cell_type": "code",
   "execution_count": 207,
   "metadata": {},
   "outputs": [
    {
     "data": {
      "text/html": [
       "<div>\n",
       "<style scoped>\n",
       "    .dataframe tbody tr th:only-of-type {\n",
       "        vertical-align: middle;\n",
       "    }\n",
       "\n",
       "    .dataframe tbody tr th {\n",
       "        vertical-align: top;\n",
       "    }\n",
       "\n",
       "    .dataframe thead th {\n",
       "        text-align: right;\n",
       "    }\n",
       "</style>\n",
       "<table border=\"1\" class=\"dataframe\">\n",
       "  <thead>\n",
       "    <tr style=\"text-align: right;\">\n",
       "      <th>Hour</th>\n",
       "      <th>0</th>\n",
       "      <th>1</th>\n",
       "      <th>2</th>\n",
       "      <th>3</th>\n",
       "      <th>4</th>\n",
       "      <th>5</th>\n",
       "      <th>6</th>\n",
       "      <th>7</th>\n",
       "      <th>8</th>\n",
       "      <th>9</th>\n",
       "      <th>...</th>\n",
       "      <th>15</th>\n",
       "      <th>16</th>\n",
       "      <th>17</th>\n",
       "      <th>18</th>\n",
       "      <th>19</th>\n",
       "      <th>20</th>\n",
       "      <th>21</th>\n",
       "      <th>22</th>\n",
       "      <th>23</th>\n",
       "      <th>24</th>\n",
       "    </tr>\n",
       "    <tr>\n",
       "      <th>Year</th>\n",
       "      <th></th>\n",
       "      <th></th>\n",
       "      <th></th>\n",
       "      <th></th>\n",
       "      <th></th>\n",
       "      <th></th>\n",
       "      <th></th>\n",
       "      <th></th>\n",
       "      <th></th>\n",
       "      <th></th>\n",
       "      <th></th>\n",
       "      <th></th>\n",
       "      <th></th>\n",
       "      <th></th>\n",
       "      <th></th>\n",
       "      <th></th>\n",
       "      <th></th>\n",
       "      <th></th>\n",
       "      <th></th>\n",
       "      <th></th>\n",
       "      <th></th>\n",
       "    </tr>\n",
       "  </thead>\n",
       "  <tbody>\n",
       "    <tr>\n",
       "      <td>2014</td>\n",
       "      <td>158.0</td>\n",
       "      <td>79.0</td>\n",
       "      <td>48.0</td>\n",
       "      <td>45.0</td>\n",
       "      <td>34.0</td>\n",
       "      <td>40.0</td>\n",
       "      <td>41.0</td>\n",
       "      <td>24.0</td>\n",
       "      <td>31.0</td>\n",
       "      <td>24.0</td>\n",
       "      <td>...</td>\n",
       "      <td>30.0</td>\n",
       "      <td>31.0</td>\n",
       "      <td>64.0</td>\n",
       "      <td>143.0</td>\n",
       "      <td>179.0</td>\n",
       "      <td>320.0</td>\n",
       "      <td>370.0</td>\n",
       "      <td>262.0</td>\n",
       "      <td>161.0</td>\n",
       "      <td>7.0</td>\n",
       "    </tr>\n",
       "    <tr>\n",
       "      <td>2013</td>\n",
       "      <td>316.0</td>\n",
       "      <td>201.0</td>\n",
       "      <td>126.0</td>\n",
       "      <td>108.0</td>\n",
       "      <td>88.0</td>\n",
       "      <td>94.0</td>\n",
       "      <td>88.0</td>\n",
       "      <td>79.0</td>\n",
       "      <td>71.0</td>\n",
       "      <td>72.0</td>\n",
       "      <td>...</td>\n",
       "      <td>56.0</td>\n",
       "      <td>113.0</td>\n",
       "      <td>223.0</td>\n",
       "      <td>356.0</td>\n",
       "      <td>582.0</td>\n",
       "      <td>909.0</td>\n",
       "      <td>1318.0</td>\n",
       "      <td>1134.0</td>\n",
       "      <td>656.0</td>\n",
       "      <td>43.0</td>\n",
       "    </tr>\n",
       "    <tr>\n",
       "      <td>2012</td>\n",
       "      <td>348.0</td>\n",
       "      <td>238.0</td>\n",
       "      <td>158.0</td>\n",
       "      <td>152.0</td>\n",
       "      <td>116.0</td>\n",
       "      <td>115.0</td>\n",
       "      <td>111.0</td>\n",
       "      <td>83.0</td>\n",
       "      <td>70.0</td>\n",
       "      <td>93.0</td>\n",
       "      <td>...</td>\n",
       "      <td>86.0</td>\n",
       "      <td>107.0</td>\n",
       "      <td>198.0</td>\n",
       "      <td>302.0</td>\n",
       "      <td>544.0</td>\n",
       "      <td>883.0</td>\n",
       "      <td>1285.0</td>\n",
       "      <td>1136.0</td>\n",
       "      <td>743.0</td>\n",
       "      <td>47.0</td>\n",
       "    </tr>\n",
       "    <tr>\n",
       "      <td>2011</td>\n",
       "      <td>265.0</td>\n",
       "      <td>203.0</td>\n",
       "      <td>106.0</td>\n",
       "      <td>119.0</td>\n",
       "      <td>80.0</td>\n",
       "      <td>103.0</td>\n",
       "      <td>70.0</td>\n",
       "      <td>41.0</td>\n",
       "      <td>58.0</td>\n",
       "      <td>69.0</td>\n",
       "      <td>...</td>\n",
       "      <td>70.0</td>\n",
       "      <td>70.0</td>\n",
       "      <td>157.0</td>\n",
       "      <td>235.0</td>\n",
       "      <td>390.0</td>\n",
       "      <td>575.0</td>\n",
       "      <td>818.0</td>\n",
       "      <td>750.0</td>\n",
       "      <td>466.0</td>\n",
       "      <td>30.0</td>\n",
       "    </tr>\n",
       "    <tr>\n",
       "      <td>2010</td>\n",
       "      <td>252.0</td>\n",
       "      <td>152.0</td>\n",
       "      <td>99.0</td>\n",
       "      <td>88.0</td>\n",
       "      <td>76.0</td>\n",
       "      <td>85.0</td>\n",
       "      <td>57.0</td>\n",
       "      <td>45.0</td>\n",
       "      <td>42.0</td>\n",
       "      <td>67.0</td>\n",
       "      <td>...</td>\n",
       "      <td>72.0</td>\n",
       "      <td>70.0</td>\n",
       "      <td>97.0</td>\n",
       "      <td>173.0</td>\n",
       "      <td>278.0</td>\n",
       "      <td>412.0</td>\n",
       "      <td>674.0</td>\n",
       "      <td>639.0</td>\n",
       "      <td>441.0</td>\n",
       "      <td>23.0</td>\n",
       "    </tr>\n",
       "    <tr>\n",
       "      <td>2009</td>\n",
       "      <td>242.0</td>\n",
       "      <td>155.0</td>\n",
       "      <td>93.0</td>\n",
       "      <td>91.0</td>\n",
       "      <td>104.0</td>\n",
       "      <td>89.0</td>\n",
       "      <td>68.0</td>\n",
       "      <td>37.0</td>\n",
       "      <td>48.0</td>\n",
       "      <td>73.0</td>\n",
       "      <td>...</td>\n",
       "      <td>66.0</td>\n",
       "      <td>83.0</td>\n",
       "      <td>139.0</td>\n",
       "      <td>220.0</td>\n",
       "      <td>368.0</td>\n",
       "      <td>528.0</td>\n",
       "      <td>672.0</td>\n",
       "      <td>539.0</td>\n",
       "      <td>437.0</td>\n",
       "      <td>31.0</td>\n",
       "    </tr>\n",
       "    <tr>\n",
       "      <td>2008</td>\n",
       "      <td>268.0</td>\n",
       "      <td>197.0</td>\n",
       "      <td>146.0</td>\n",
       "      <td>116.0</td>\n",
       "      <td>78.0</td>\n",
       "      <td>104.0</td>\n",
       "      <td>82.0</td>\n",
       "      <td>67.0</td>\n",
       "      <td>62.0</td>\n",
       "      <td>65.0</td>\n",
       "      <td>...</td>\n",
       "      <td>70.0</td>\n",
       "      <td>88.0</td>\n",
       "      <td>147.0</td>\n",
       "      <td>250.0</td>\n",
       "      <td>372.0</td>\n",
       "      <td>477.0</td>\n",
       "      <td>567.0</td>\n",
       "      <td>564.0</td>\n",
       "      <td>491.0</td>\n",
       "      <td>39.0</td>\n",
       "    </tr>\n",
       "    <tr>\n",
       "      <td>2007</td>\n",
       "      <td>199.0</td>\n",
       "      <td>160.0</td>\n",
       "      <td>101.0</td>\n",
       "      <td>94.0</td>\n",
       "      <td>84.0</td>\n",
       "      <td>108.0</td>\n",
       "      <td>82.0</td>\n",
       "      <td>37.0</td>\n",
       "      <td>49.0</td>\n",
       "      <td>54.0</td>\n",
       "      <td>...</td>\n",
       "      <td>86.0</td>\n",
       "      <td>80.0</td>\n",
       "      <td>155.0</td>\n",
       "      <td>215.0</td>\n",
       "      <td>286.0</td>\n",
       "      <td>425.0</td>\n",
       "      <td>543.0</td>\n",
       "      <td>552.0</td>\n",
       "      <td>414.0</td>\n",
       "      <td>25.0</td>\n",
       "    </tr>\n",
       "    <tr>\n",
       "      <td>2006</td>\n",
       "      <td>191.0</td>\n",
       "      <td>163.0</td>\n",
       "      <td>111.0</td>\n",
       "      <td>102.0</td>\n",
       "      <td>92.0</td>\n",
       "      <td>97.0</td>\n",
       "      <td>74.0</td>\n",
       "      <td>61.0</td>\n",
       "      <td>42.0</td>\n",
       "      <td>42.0</td>\n",
       "      <td>...</td>\n",
       "      <td>80.0</td>\n",
       "      <td>72.0</td>\n",
       "      <td>143.0</td>\n",
       "      <td>170.0</td>\n",
       "      <td>266.0</td>\n",
       "      <td>295.0</td>\n",
       "      <td>398.0</td>\n",
       "      <td>404.0</td>\n",
       "      <td>373.0</td>\n",
       "      <td>35.0</td>\n",
       "    </tr>\n",
       "    <tr>\n",
       "      <td>2005</td>\n",
       "      <td>209.0</td>\n",
       "      <td>153.0</td>\n",
       "      <td>113.0</td>\n",
       "      <td>114.0</td>\n",
       "      <td>72.0</td>\n",
       "      <td>84.0</td>\n",
       "      <td>61.0</td>\n",
       "      <td>51.0</td>\n",
       "      <td>41.0</td>\n",
       "      <td>46.0</td>\n",
       "      <td>...</td>\n",
       "      <td>85.0</td>\n",
       "      <td>91.0</td>\n",
       "      <td>150.0</td>\n",
       "      <td>217.0</td>\n",
       "      <td>372.0</td>\n",
       "      <td>385.0</td>\n",
       "      <td>472.0</td>\n",
       "      <td>437.0</td>\n",
       "      <td>404.0</td>\n",
       "      <td>38.0</td>\n",
       "    </tr>\n",
       "  </tbody>\n",
       "</table>\n",
       "<p>10 rows × 25 columns</p>\n",
       "</div>"
      ],
      "text/plain": [
       "Hour     0      1      2      3      4      5      6     7     8     9   ...  \\\n",
       "Year                                                                     ...   \n",
       "2014  158.0   79.0   48.0   45.0   34.0   40.0   41.0  24.0  31.0  24.0  ...   \n",
       "2013  316.0  201.0  126.0  108.0   88.0   94.0   88.0  79.0  71.0  72.0  ...   \n",
       "2012  348.0  238.0  158.0  152.0  116.0  115.0  111.0  83.0  70.0  93.0  ...   \n",
       "2011  265.0  203.0  106.0  119.0   80.0  103.0   70.0  41.0  58.0  69.0  ...   \n",
       "2010  252.0  152.0   99.0   88.0   76.0   85.0   57.0  45.0  42.0  67.0  ...   \n",
       "2009  242.0  155.0   93.0   91.0  104.0   89.0   68.0  37.0  48.0  73.0  ...   \n",
       "2008  268.0  197.0  146.0  116.0   78.0  104.0   82.0  67.0  62.0  65.0  ...   \n",
       "2007  199.0  160.0  101.0   94.0   84.0  108.0   82.0  37.0  49.0  54.0  ...   \n",
       "2006  191.0  163.0  111.0  102.0   92.0   97.0   74.0  61.0  42.0  42.0  ...   \n",
       "2005  209.0  153.0  113.0  114.0   72.0   84.0   61.0  51.0  41.0  46.0  ...   \n",
       "\n",
       "Hour    15     16     17     18     19     20      21      22     23    24  \n",
       "Year                                                                        \n",
       "2014  30.0   31.0   64.0  143.0  179.0  320.0   370.0   262.0  161.0   7.0  \n",
       "2013  56.0  113.0  223.0  356.0  582.0  909.0  1318.0  1134.0  656.0  43.0  \n",
       "2012  86.0  107.0  198.0  302.0  544.0  883.0  1285.0  1136.0  743.0  47.0  \n",
       "2011  70.0   70.0  157.0  235.0  390.0  575.0   818.0   750.0  466.0  30.0  \n",
       "2010  72.0   70.0   97.0  173.0  278.0  412.0   674.0   639.0  441.0  23.0  \n",
       "2009  66.0   83.0  139.0  220.0  368.0  528.0   672.0   539.0  437.0  31.0  \n",
       "2008  70.0   88.0  147.0  250.0  372.0  477.0   567.0   564.0  491.0  39.0  \n",
       "2007  86.0   80.0  155.0  215.0  286.0  425.0   543.0   552.0  414.0  25.0  \n",
       "2006  80.0   72.0  143.0  170.0  266.0  295.0   398.0   404.0  373.0  35.0  \n",
       "2005  85.0   91.0  150.0  217.0  372.0  385.0   472.0   437.0  404.0  38.0  \n",
       "\n",
       "[10 rows x 25 columns]"
      ]
     },
     "execution_count": 207,
     "metadata": {},
     "output_type": "execute_result"
    }
   ],
   "source": [
    "ufo_country_filled.groupby(['Year','Hour']).Year.count().unstack().sort_values(by='Year', ascending=False).head(10)"
   ]
  },
  {
   "cell_type": "markdown",
   "metadata": {},
   "source": [
    "Q141. Write a python program to draw the line using given axis values with the suitable label in the x-axis, y-axis, and a title. "
   ]
  },
  {
   "cell_type": "code",
   "execution_count": 8,
   "metadata": {},
   "outputs": [
    {
     "data": {
      "text/plain": [
       "Text(0, 0.5, 'Y-Axis')"
      ]
     },
     "execution_count": 8,
     "metadata": {},
     "output_type": "execute_result"
    },
    {
     "data": {
      "image/png": "[encoded data removed]",
      "text/plain": [
       "<Figure size 432x288 with 1 Axes>"
      ]
     },
     "metadata": {
      "needs_background": "light"
     },
     "output_type": "display_data"
    }
   ],
   "source": [
    "import matplotlib.pyplot as plt\n",
    "%matplotlib inline\n",
    "import numpy as np\n",
    "import pandas as pd\n",
    "df = pd.DataFrame({'A' : [2,4,1]} )\n",
    "df.plot()\n",
    "plt.title('Sample plot')\n",
    "plt.xlabel('X-Axis')\n",
    "plt.ylabel('Y-Axis')"
   ]
  },
  {
   "cell_type": "markdown",
   "metadata": {},
   "source": [
    "Q142. Write a python program to draw the line charts of the financial data of the Alphabet Inc., between October.   "
   ]
  },
  {
   "cell_type": "code",
   "execution_count": 22,
   "metadata": {},
   "outputs": [
    {
     "data": {
      "text/plain": [
       "Text(0, 0.5, 'Stock price')"
      ]
     },
     "execution_count": 22,
     "metadata": {},
     "output_type": "execute_result"
    },
    {
     "data": {
      "image/png": "[encoded data removed]",
      "text/plain": [
       "<Figure size 432x288 with 1 Axes>"
      ]
     },
     "metadata": {
      "needs_background": "light"
     },
     "output_type": "display_data"
    }
   ],
   "source": [
    "stocks = pd.DataFrame({'Open':[774.25, 776.030029,779.309998,779 ,779.659973],\n",
    "                       'High':[776.065002, 778.710022,782.070007, 780.47998,779.659973 ],\n",
    "                       'Low':[769.5,772.890015,775.650024,775.539978,770.75],\n",
    "                       'Close':[772.559998,776.429993,776.469971, 776.859985 , 775.080017]}, index = pd.date_range(start='2016-10-03',end='2016-10-07'))\n",
    "#stocks.set_index('Date')\n",
    "stocks.plot()\n",
    "plt.title('Alphabet Inc. Stcock price')\n",
    "plt.xlabel('Date')\n",
    "plt.ylabel('Stock price')"
   ]
  },
  {
   "cell_type": "markdown",
   "metadata": {},
   "source": [
    "Q143. Write a Python program to plot two or more lines on same plot   with the suitable legends of each line. "
   ]
  },
  {
   "cell_type": "code",
   "execution_count": 23,
   "metadata": {},
   "outputs": [
    {
     "data": {
      "text/plain": [
       "Text(0, 0.5, 'Y-Axis')"
      ]
     },
     "execution_count": 23,
     "metadata": {},
     "output_type": "execute_result"
    },
    {
     "data": {
      "image/png": "[encoded data removed]",
      "text/plain": [
       "<Figure size 432x288 with 1 Axes>"
      ]
     },
     "metadata": {
      "needs_background": "light"
     },
     "output_type": "display_data"
    }
   ],
   "source": [
    "df = pd.DataFrame({'A' : [2,4,1], 'B':[4,1,3]} )\n",
    "df.plot()\n",
    "plt.title('Sample plot')\n",
    "plt.xlabel('X-Axis')\n",
    "plt.ylabel('Y-Axis')"
   ]
  },
  {
   "cell_type": "markdown",
   "metadata": {},
   "source": [
    "Q144. Write a python programming to display a bar chart of the popularity of programming languages.  "
   ]
  },
  {
   "cell_type": "code",
   "execution_count": 31,
   "metadata": {},
   "outputs": [
    {
     "data": {
      "text/plain": [
       "Text(0, 0.5, 'Popularity')"
      ]
     },
     "execution_count": 31,
     "metadata": {},
     "output_type": "execute_result"
    },
    {
     "data": {
      "image/png": "[encoded data removed]",
      "text/plain": [
       "<Figure size 432x288 with 1 Axes>"
      ]
     },
     "metadata": {
      "needs_background": "light"
     },
     "output_type": "display_data"
    }
   ],
   "source": [
    "df = pd.DataFrame({'Popularity': [22.2, 17.6, 8.8, 8, 7.7 , 6.7]},index =['Java', 'Python', 'PHP', 'JavaScript', 'C#', 'C++'])\n",
    "df.plot(kind = 'bar', title = 'prog lang pop')                \n",
    "plt.xlabel('Prog language')\n",
    "plt.ylabel('Popularity')"
   ]
  },
  {
   "cell_type": "markdown",
   "metadata": {},
   "source": [
    "Q145. Write a python programming to display a horizontal bar chart of   the popularity of programming languages. "
   ]
  },
  {
   "cell_type": "code",
   "execution_count": 32,
   "metadata": {},
   "outputs": [
    {
     "data": {
      "text/plain": [
       "Text(0, 0.5, 'Popularity')"
      ]
     },
     "execution_count": 32,
     "metadata": {},
     "output_type": "execute_result"
    },
    {
     "data": {
      "image/png": "[encoded data removed]",
      "text/plain": [
       "<Figure size 432x288 with 1 Axes>"
      ]
     },
     "metadata": {
      "needs_background": "light"
     },
     "output_type": "display_data"
    }
   ],
   "source": [
    "df.plot(kind = 'barh', title = 'prog lang pop')                \n",
    "plt.xlabel('Prog language')\n",
    "plt.ylabel('Popularity')"
   ]
  },
  {
   "cell_type": "markdown",
   "metadata": {},
   "source": [
    "Q146.  Write a python programming to display a bar chart of the Popularity of programming languages. Increase bottom margin. "
   ]
  },
  {
   "cell_type": "code",
   "execution_count": 64,
   "metadata": {},
   "outputs": [
    {
     "name": "stdout",
     "output_type": "stream",
     "text": [
      "0 22.2\n",
      "1 17.6\n",
      "2 8.8\n",
      "3 8\n",
      "4 7.7\n",
      "5 6.7\n"
     ]
    },
    {
     "data": {
      "image/png": "[encoded data removed]",
      "text/plain": [
       "<Figure size 432x288 with 1 Axes>"
      ]
     },
     "metadata": {
      "needs_background": "light"
     },
     "output_type": "display_data"
    },
    {
     "data": {
      "image/png": "[encoded data removed]",
      "text/plain": [
       "<Figure size 432x288 with 1 Axes>"
      ]
     },
     "metadata": {
      "needs_background": "light"
     },
     "output_type": "display_data"
    }
   ],
   "source": [
    "Popularity = [22.2, 17.6, 8.8, 8, 7.7 , 6.7]\n",
    "index =['Java', 'Python', 'PHP', 'JavaScript', 'C#', 'C++']         \n",
    "plt.xlabel('Prog language')\n",
    "plt.ylabel('Popularity')\n",
    "fig,ax = plt.subplots()    \n",
    "width = 0.75\n",
    "ind = np.arange(len(index))\n",
    "for i, v in enumerate(Popularity):\n",
    "    print(i,v)\n",
    "    ax.text(i, v + .25, str(v), color='blue', fontweight='bold')\n",
    "ax.bar(index,Popularity, width, color=\"blue\")\n",
    "ax.set_xticklabels(index)    \n",
    "plt.subplots_adjust(bottom=0.6, top=1.4)\n",
    "plt.xlabel('Prog language')\n",
    "plt.ylabel('Popularity')\n",
    "plt.minorticks_on()\n",
    "plt.grid(which='major', linestyle='-', linewidth='0.5', color='red')\n",
    "# Customize the minor grid\n",
    "plt.grid(which='minor', linestyle=':', linewidth='0.5', color='green')\n",
    "plt.show()"
   ]
  },
  {
   "cell_type": "markdown",
   "metadata": {},
   "source": [
    "Q147. Write a python program to create the bar plot from a DataFrame. "
   ]
  },
  {
   "cell_type": "code",
   "execution_count": 67,
   "metadata": {},
   "outputs": [
    {
     "data": {
      "text/plain": [
       "<matplotlib.axes._subplots.AxesSubplot at 0x287acdfd088>"
      ]
     },
     "execution_count": 67,
     "metadata": {},
     "output_type": "execute_result"
    },
    {
     "data": {
      "image/png": "[encoded data removed]",
      "text/plain": [
       "<Figure size 432x288 with 1 Axes>"
      ]
     },
     "metadata": {
      "needs_background": "light"
     },
     "output_type": "display_data"
    }
   ],
   "source": [
    "df = pd.DataFrame({'A': [2,4,6,8,10],'B':[4,2,4,2,2],'C':[8,3,7,6,4],'D':[5,4,4,4,3],'E':[7,2,7,8,3]})\n",
    "df.plot(kind='bar')"
   ]
  },
  {
   "cell_type": "markdown",
   "metadata": {},
   "source": [
    "Q148. Write a python program to draw the scatter plot comparing two subject marks of Mathematics and Science. Use marks of 10 students. "
   ]
  },
  {
   "cell_type": "code",
   "execution_count": 86,
   "metadata": {},
   "outputs": [
    {
     "data": {
      "image/png": "[encoded data removed]",
      "text/plain": [
       "<Figure size 432x288 with 1 Axes>"
      ]
     },
     "metadata": {
      "needs_background": "light"
     },
     "output_type": "display_data"
    }
   ],
   "source": [
    "test_data = pd.DataFrame({'math_marks':[88, 92 , 80, 89, 100, 80, 60, 100, 80, 34], 'science_marks':[35, 79, 79 , 48, 100, 88, 32, 45, 20, 30], 'marks_range': [10, 20, 30, 40, 50, 60, 70, 80, 90, 100] })\n",
    "#test_data.plot.scatter(x = 'math_marks', y = 'science_marks', c = 'marks_range') \n",
    "plt.scatter(y = test_data['math_marks'], x = test_data['marks_range'], label = 'Math Marks', color = 'g')\n",
    "plt.scatter(y = test_data['science_marks'], x = test_data['marks_range'], label = 'Science Marks', color = 'r')\n",
    "plt.title('Scatter Plot')\n",
    "plt.xlabel('Marks Range')\n",
    "plt.ylabel('Marks Scored')\n",
    "plt.legend()\n",
    "plt.show()"
   ]
  },
  {
   "cell_type": "markdown",
   "metadata": {},
   "source": [
    "Q149. Write a python program to draw the scatter plot for three different groups comparing weights and heights. "
   ]
  },
  {
   "cell_type": "code",
   "execution_count": 104,
   "metadata": {},
   "outputs": [
    {
     "data": {
      "image/png": "[encoded data removed]",
      "text/plain": [
       "<Figure size 432x288 with 1 Axes>"
      ]
     },
     "metadata": {
      "needs_background": "light"
     },
     "output_type": "display_data"
    }
   ],
   "source": [
    "import matplotlib.pyplot as plt\n",
    "import numpy as np \n",
    "weight1=[67,57.2,59.6,59.64,55.8,61.2,60.45,61,56.23,56]\n",
    "height1=[101.7,197.6,98.3,125.1,113.7,157.7,136,148.9,125.3,114.9] \n",
    "weight2=[61.9,64,62.1,64.2,62.3,65.4,62.4,61.4,62.5,63.6]\n",
    "height2=[152.8,155.3,135.1,125.2,151.3,135,182.2,195.9,165.1,125.1] \n",
    "weight3=[68.2,67.2,68.4,68.7,71,71.3,70.8,70,71.1,71.7]\n",
    "height3=[165.8,170.9,192.8,135.4,161.4,136.1,167.1,235.1,181.1,177.3]\n",
    "weight=np.concatenate((weight1,weight2,weight3))\n",
    "height = np.concatenate((height1,height2,height3))\n",
    "plt.scatter(weight, height)\n",
    "plt.xlabel('weight')\n",
    "plt.ylabel('height')\n",
    "plt.title('Grouped Weight vs Height scatter plot')\n",
    "plt.show()"
   ]
  },
  {
   "cell_type": "markdown",
   "metadata": {},
   "source": [
    "Q150. Write a python program to draw a scatter plot to find sea-level rise in past 100 years.  "
   ]
  },
  {
   "cell_type": "code",
   "execution_count": 126,
   "metadata": {},
   "outputs": [
    {
     "data": {
      "text/plain": [
       "<matplotlib.axes._subplots.AxesSubplot at 0x287abd9e0c8>"
      ]
     },
     "execution_count": 126,
     "metadata": {},
     "output_type": "execute_result"
    },
    {
     "data": {
      "image/png": "[encoded data removed]",
      "text/plain": [
       "<Figure size 432x288 with 1 Axes>"
      ]
     },
     "metadata": {
      "needs_background": "light"
     },
     "output_type": "display_data"
    }
   ],
   "source": [
    "sea_level = pd.read_csv('https://raw.githubusercontent.com/datasets/sea-level-rise/master/data/epa-sea-level.csv')\n",
    "sea_level = sea_level.drop('NOAA Adjusted Sea Level', axis=1)\n",
    "sea_level.head()\n",
    "sea_level.plot.scatter('Year','CSIRO Adjusted Sea Level', title = 'Rise in Sealevel')"
   ]
  },
  {
   "cell_type": "code",
   "execution_count": null,
   "metadata": {},
   "outputs": [],
   "source": []
  }
 ],
 "metadata": {
  "kernelspec": {
   "display_name": "Python 3",
   "language": "python",
   "name": "python3"
  },
  "language_info": {
   "codemirror_mode": {
    "name": "ipython",
    "version": 3
   },
   "file_extension": ".py",
   "mimetype": "text/x-python",
   "name": "python",
   "nbconvert_exporter": "python",
   "pygments_lexer": "ipython3",
   "version": "3.7.6"
  }
 },
 "nbformat": 4,
 "nbformat_minor": 2
}
